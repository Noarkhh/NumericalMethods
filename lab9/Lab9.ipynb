{
 "cells": [
  {
   "cell_type": "code",
   "execution_count": 29,
   "id": "4c848fc3",
   "metadata": {},
   "outputs": [],
   "source": [
    "using DataFrames\n",
    "using LinearAlgebra\n",
    "using Statistics\n",
    "using CSV\n",
    "using StatsPlots"
   ]
  },
  {
   "cell_type": "markdown",
   "id": "c7b818f9",
   "metadata": {},
   "source": [
    "## Zadanie 1"
   ]
  },
  {
   "cell_type": "code",
   "execution_count": 18,
   "id": "ca9348ea",
   "metadata": {
    "scrolled": true
   },
   "outputs": [
    {
     "data": {
      "text/plain": [
       "1000-element Vector{Float64}:\n",
       " 236.65997033036737\n",
       " 245.8028199216229\n",
       " 248.70825270499643\n",
       " 239.90682995889813\n",
       " 246.98164259245317\n",
       " 249.25496307500816\n",
       " 250.49325744836244\n",
       " 249.83229645122876\n",
       " 249.10061202827708\n",
       " 250.66166077768696\n",
       " 244.97411630171433\n",
       " 245.0973956051933\n",
       " 252.3597042852239\n",
       "   ⋮\n",
       " 247.01201031601056\n",
       " 252.7351506745254\n",
       " 251.5410013855933\n",
       " 249.50596726597377\n",
       " 249.99316768603038\n",
       " 247.02333285075466\n",
       " 247.26344420140106\n",
       " 248.1375699110786\n",
       " 244.87498151794364\n",
       " 244.66839981726335\n",
       " 252.94232760761537\n",
       " 246.20570680148296"
      ]
     },
     "execution_count": 18,
     "metadata": {},
     "output_type": "execute_result"
    }
   ],
   "source": [
    "x = rand(1000)\n",
    "A = rand(1000, 1000)\n",
    "b = A * x"
   ]
  },
  {
   "cell_type": "code",
   "execution_count": 23,
   "id": "1caf2dff",
   "metadata": {},
   "outputs": [
    {
     "data": {
      "text/html": [
       "<div><div style = \"float: left;\"><span>30×3 DataFrame</span></div><div style = \"float: right;\"><span style = \"font-style: italic;\">5 rows omitted</span></div><div style = \"clear: both;\"></div></div><div class = \"data-frame\" style = \"overflow-x: scroll;\"><table class = \"data-frame\" style = \"margin-bottom: 6px;\"><thead><tr class = \"header\"><th class = \"rowNumber\" style = \"font-weight: bold; text-align: right;\">Row</th><th style = \"text-align: left;\">method</th><th style = \"text-align: left;\">quality</th><th style = \"text-align: left;\">time</th></tr><tr class = \"subheader headerLastRow\"><th class = \"rowNumber\" style = \"font-weight: bold; text-align: right;\"></th><th title = \"String\" style = \"text-align: left;\">String</th><th title = \"Float64\" style = \"text-align: left;\">Float64</th><th title = \"Float64\" style = \"text-align: left;\">Float64</th></tr></thead><tbody><tr><td class = \"rowNumber\" style = \"font-weight: bold; text-align: right;\">1</td><td style = \"text-align: left;\">Inverse</td><td style = \"text-align: right;\">4.1922e-13</td><td style = \"text-align: right;\">0.0446518</td></tr><tr><td class = \"rowNumber\" style = \"font-weight: bold; text-align: right;\">2</td><td style = \"text-align: left;\">Division</td><td style = \"text-align: right;\">2.41585e-13</td><td style = \"text-align: right;\">0.0168652</td></tr><tr><td class = \"rowNumber\" style = \"font-weight: bold; text-align: right;\">3</td><td style = \"text-align: left;\">Factorization</td><td style = \"text-align: right;\">2.41585e-13</td><td style = \"text-align: right;\">0.0247291</td></tr><tr><td class = \"rowNumber\" style = \"font-weight: bold; text-align: right;\">4</td><td style = \"text-align: left;\">Inverse</td><td style = \"text-align: right;\">4.1922e-13</td><td style = \"text-align: right;\">0.043269</td></tr><tr><td class = \"rowNumber\" style = \"font-weight: bold; text-align: right;\">5</td><td style = \"text-align: left;\">Division</td><td style = \"text-align: right;\">2.41585e-13</td><td style = \"text-align: right;\">0.016616</td></tr><tr><td class = \"rowNumber\" style = \"font-weight: bold; text-align: right;\">6</td><td style = \"text-align: left;\">Factorization</td><td style = \"text-align: right;\">2.41585e-13</td><td style = \"text-align: right;\">0.0167536</td></tr><tr><td class = \"rowNumber\" style = \"font-weight: bold; text-align: right;\">7</td><td style = \"text-align: left;\">Inverse</td><td style = \"text-align: right;\">4.1922e-13</td><td style = \"text-align: right;\">0.0441302</td></tr><tr><td class = \"rowNumber\" style = \"font-weight: bold; text-align: right;\">8</td><td style = \"text-align: left;\">Division</td><td style = \"text-align: right;\">2.41585e-13</td><td style = \"text-align: right;\">0.0195115</td></tr><tr><td class = \"rowNumber\" style = \"font-weight: bold; text-align: right;\">9</td><td style = \"text-align: left;\">Factorization</td><td style = \"text-align: right;\">2.41585e-13</td><td style = \"text-align: right;\">0.0217071</td></tr><tr><td class = \"rowNumber\" style = \"font-weight: bold; text-align: right;\">10</td><td style = \"text-align: left;\">Inverse</td><td style = \"text-align: right;\">4.1922e-13</td><td style = \"text-align: right;\">0.0409293</td></tr><tr><td class = \"rowNumber\" style = \"font-weight: bold; text-align: right;\">11</td><td style = \"text-align: left;\">Division</td><td style = \"text-align: right;\">2.41585e-13</td><td style = \"text-align: right;\">0.0211961</td></tr><tr><td class = \"rowNumber\" style = \"font-weight: bold; text-align: right;\">12</td><td style = \"text-align: left;\">Factorization</td><td style = \"text-align: right;\">2.41585e-13</td><td style = \"text-align: right;\">0.0206957</td></tr><tr><td class = \"rowNumber\" style = \"font-weight: bold; text-align: right;\">13</td><td style = \"text-align: left;\">Inverse</td><td style = \"text-align: right;\">4.1922e-13</td><td style = \"text-align: right;\">0.0430428</td></tr><tr><td style = \"text-align: right;\">&vellip;</td><td style = \"text-align: right;\">&vellip;</td><td style = \"text-align: right;\">&vellip;</td><td style = \"text-align: right;\">&vellip;</td></tr><tr><td class = \"rowNumber\" style = \"font-weight: bold; text-align: right;\">19</td><td style = \"text-align: left;\">Inverse</td><td style = \"text-align: right;\">4.1922e-13</td><td style = \"text-align: right;\">0.0445672</td></tr><tr><td class = \"rowNumber\" style = \"font-weight: bold; text-align: right;\">20</td><td style = \"text-align: left;\">Division</td><td style = \"text-align: right;\">2.41585e-13</td><td style = \"text-align: right;\">0.0214951</td></tr><tr><td class = \"rowNumber\" style = \"font-weight: bold; text-align: right;\">21</td><td style = \"text-align: left;\">Factorization</td><td style = \"text-align: right;\">2.41585e-13</td><td style = \"text-align: right;\">0.0159429</td></tr><tr><td class = \"rowNumber\" style = \"font-weight: bold; text-align: right;\">22</td><td style = \"text-align: left;\">Inverse</td><td style = \"text-align: right;\">4.1922e-13</td><td style = \"text-align: right;\">0.048759</td></tr><tr><td class = \"rowNumber\" style = \"font-weight: bold; text-align: right;\">23</td><td style = \"text-align: left;\">Division</td><td style = \"text-align: right;\">2.41585e-13</td><td style = \"text-align: right;\">0.016428</td></tr><tr><td class = \"rowNumber\" style = \"font-weight: bold; text-align: right;\">24</td><td style = \"text-align: left;\">Factorization</td><td style = \"text-align: right;\">2.41585e-13</td><td style = \"text-align: right;\">0.0175631</td></tr><tr><td class = \"rowNumber\" style = \"font-weight: bold; text-align: right;\">25</td><td style = \"text-align: left;\">Inverse</td><td style = \"text-align: right;\">4.1922e-13</td><td style = \"text-align: right;\">0.046478</td></tr><tr><td class = \"rowNumber\" style = \"font-weight: bold; text-align: right;\">26</td><td style = \"text-align: left;\">Division</td><td style = \"text-align: right;\">2.41585e-13</td><td style = \"text-align: right;\">0.0161819</td></tr><tr><td class = \"rowNumber\" style = \"font-weight: bold; text-align: right;\">27</td><td style = \"text-align: left;\">Factorization</td><td style = \"text-align: right;\">2.41585e-13</td><td style = \"text-align: right;\">0.0173209</td></tr><tr><td class = \"rowNumber\" style = \"font-weight: bold; text-align: right;\">28</td><td style = \"text-align: left;\">Inverse</td><td style = \"text-align: right;\">4.1922e-13</td><td style = \"text-align: right;\">0.0418413</td></tr><tr><td class = \"rowNumber\" style = \"font-weight: bold; text-align: right;\">29</td><td style = \"text-align: left;\">Division</td><td style = \"text-align: right;\">2.41585e-13</td><td style = \"text-align: right;\">0.0172127</td></tr><tr><td class = \"rowNumber\" style = \"font-weight: bold; text-align: right;\">30</td><td style = \"text-align: left;\">Factorization</td><td style = \"text-align: right;\">2.41585e-13</td><td style = \"text-align: right;\">0.0175089</td></tr></tbody></table></div>"
      ],
      "text/latex": [
       "\\begin{tabular}{r|ccc}\n",
       "\t& method & quality & time\\\\\n",
       "\t\\hline\n",
       "\t& String & Float64 & Float64\\\\\n",
       "\t\\hline\n",
       "\t1 & Inverse & 4.1922e-13 & 0.0446518 \\\\\n",
       "\t2 & Division & 2.41585e-13 & 0.0168652 \\\\\n",
       "\t3 & Factorization & 2.41585e-13 & 0.0247291 \\\\\n",
       "\t4 & Inverse & 4.1922e-13 & 0.043269 \\\\\n",
       "\t5 & Division & 2.41585e-13 & 0.016616 \\\\\n",
       "\t6 & Factorization & 2.41585e-13 & 0.0167536 \\\\\n",
       "\t7 & Inverse & 4.1922e-13 & 0.0441302 \\\\\n",
       "\t8 & Division & 2.41585e-13 & 0.0195115 \\\\\n",
       "\t9 & Factorization & 2.41585e-13 & 0.0217071 \\\\\n",
       "\t10 & Inverse & 4.1922e-13 & 0.0409293 \\\\\n",
       "\t11 & Division & 2.41585e-13 & 0.0211961 \\\\\n",
       "\t12 & Factorization & 2.41585e-13 & 0.0206957 \\\\\n",
       "\t13 & Inverse & 4.1922e-13 & 0.0430428 \\\\\n",
       "\t14 & Division & 2.41585e-13 & 0.0183595 \\\\\n",
       "\t15 & Factorization & 2.41585e-13 & 0.0211291 \\\\\n",
       "\t16 & Inverse & 4.1922e-13 & 0.056688 \\\\\n",
       "\t17 & Division & 2.41585e-13 & 0.0237561 \\\\\n",
       "\t18 & Factorization & 2.41585e-13 & 0.0266643 \\\\\n",
       "\t19 & Inverse & 4.1922e-13 & 0.0445672 \\\\\n",
       "\t20 & Division & 2.41585e-13 & 0.0214951 \\\\\n",
       "\t21 & Factorization & 2.41585e-13 & 0.0159429 \\\\\n",
       "\t22 & Inverse & 4.1922e-13 & 0.048759 \\\\\n",
       "\t23 & Division & 2.41585e-13 & 0.016428 \\\\\n",
       "\t24 & Factorization & 2.41585e-13 & 0.0175631 \\\\\n",
       "\t25 & Inverse & 4.1922e-13 & 0.046478 \\\\\n",
       "\t26 & Division & 2.41585e-13 & 0.0161819 \\\\\n",
       "\t27 & Factorization & 2.41585e-13 & 0.0173209 \\\\\n",
       "\t28 & Inverse & 4.1922e-13 & 0.0418413 \\\\\n",
       "\t29 & Division & 2.41585e-13 & 0.0172127 \\\\\n",
       "\t30 & Factorization & 2.41585e-13 & 0.0175089 \\\\\n",
       "\\end{tabular}\n"
      ],
      "text/plain": [
       "\u001b[1m30×3 DataFrame\u001b[0m\n",
       "\u001b[1m Row \u001b[0m│\u001b[1m method        \u001b[0m\u001b[1m quality     \u001b[0m\u001b[1m time      \u001b[0m\n",
       "     │\u001b[90m String        \u001b[0m\u001b[90m Float64     \u001b[0m\u001b[90m Float64   \u001b[0m\n",
       "─────┼───────────────────────────────────────\n",
       "   1 │ Inverse        4.1922e-13   0.0446518\n",
       "   2 │ Division       2.41585e-13  0.0168652\n",
       "   3 │ Factorization  2.41585e-13  0.0247291\n",
       "   4 │ Inverse        4.1922e-13   0.043269\n",
       "   5 │ Division       2.41585e-13  0.016616\n",
       "   6 │ Factorization  2.41585e-13  0.0167536\n",
       "   7 │ Inverse        4.1922e-13   0.0441302\n",
       "   8 │ Division       2.41585e-13  0.0195115\n",
       "   9 │ Factorization  2.41585e-13  0.0217071\n",
       "  10 │ Inverse        4.1922e-13   0.0409293\n",
       "  11 │ Division       2.41585e-13  0.0211961\n",
       "  ⋮  │       ⋮             ⋮           ⋮\n",
       "  21 │ Factorization  2.41585e-13  0.0159429\n",
       "  22 │ Inverse        4.1922e-13   0.048759\n",
       "  23 │ Division       2.41585e-13  0.016428\n",
       "  24 │ Factorization  2.41585e-13  0.0175631\n",
       "  25 │ Inverse        4.1922e-13   0.046478\n",
       "  26 │ Division       2.41585e-13  0.0161819\n",
       "  27 │ Factorization  2.41585e-13  0.0173209\n",
       "  28 │ Inverse        4.1922e-13   0.0418413\n",
       "  29 │ Division       2.41585e-13  0.0172127\n",
       "  30 │ Factorization  2.41585e-13  0.0175089\n",
       "\u001b[36m                               9 rows omitted\u001b[0m"
      ]
     },
     "execution_count": 23,
     "metadata": {},
     "output_type": "execute_result"
    }
   ],
   "source": [
    "df = DataFrame(method=String[], quality=Float64[], time=Float64[])\n",
    "for i in 1:10\n",
    "    inv(A) * b\n",
    "    time = @elapsed res = inv(A) * b\n",
    "    push!(df, [\"Inverse\", abs(norm(x) - norm(res)), time])\n",
    "    \n",
    "    A \\ b\n",
    "    time = @elapsed res = A \\ b\n",
    "    push!(df, [\"Division\", abs(norm(x) - norm(res)), time])\n",
    "    \n",
    "    factorize(A) \\ b\n",
    "    time = @elapsed res = factorize(A) \\ b\n",
    "    push!(df, [\"Factorization\", abs(norm(x) - norm(res)), time])\n",
    "end\n",
    "df"
   ]
  },
  {
   "cell_type": "code",
   "execution_count": 27,
   "id": "5ab561d1",
   "metadata": {},
   "outputs": [
    {
     "data": {
      "text/html": [
       "<div><div style = \"float: left;\"><span>3×4 DataFrame</span></div><div style = \"clear: both;\"></div></div><div class = \"data-frame\" style = \"overflow-x: scroll;\"><table class = \"data-frame\" style = \"margin-bottom: 6px;\"><thead><tr class = \"header\"><th class = \"rowNumber\" style = \"font-weight: bold; text-align: right;\">Row</th><th style = \"text-align: left;\">method</th><th style = \"text-align: left;\">quality</th><th style = \"text-align: left;\">time_mean</th><th style = \"text-align: left;\">time_std</th></tr><tr class = \"subheader headerLastRow\"><th class = \"rowNumber\" style = \"font-weight: bold; text-align: right;\"></th><th title = \"String\" style = \"text-align: left;\">String</th><th title = \"Float64\" style = \"text-align: left;\">Float64</th><th title = \"Float64\" style = \"text-align: left;\">Float64</th><th title = \"Float64\" style = \"text-align: left;\">Float64</th></tr></thead><tbody><tr><td class = \"rowNumber\" style = \"font-weight: bold; text-align: right;\">1</td><td style = \"text-align: left;\">Inverse</td><td style = \"text-align: right;\">4.1922e-13</td><td style = \"text-align: right;\">0.0454357</td><td style = \"text-align: right;\">0.00453953</td></tr><tr><td class = \"rowNumber\" style = \"font-weight: bold; text-align: right;\">2</td><td style = \"text-align: left;\">Division</td><td style = \"text-align: right;\">2.41585e-13</td><td style = \"text-align: right;\">0.0187622</td><td style = \"text-align: right;\">0.00261974</td></tr><tr><td class = \"rowNumber\" style = \"font-weight: bold; text-align: right;\">3</td><td style = \"text-align: left;\">Factorization</td><td style = \"text-align: right;\">2.41585e-13</td><td style = \"text-align: right;\">0.0200015</td><td style = \"text-align: right;\">0.00361741</td></tr></tbody></table></div>"
      ],
      "text/latex": [
       "\\begin{tabular}{r|cccc}\n",
       "\t& method & quality & time\\_mean & time\\_std\\\\\n",
       "\t\\hline\n",
       "\t& String & Float64 & Float64 & Float64\\\\\n",
       "\t\\hline\n",
       "\t1 & Inverse & 4.1922e-13 & 0.0454357 & 0.00453953 \\\\\n",
       "\t2 & Division & 2.41585e-13 & 0.0187622 & 0.00261974 \\\\\n",
       "\t3 & Factorization & 2.41585e-13 & 0.0200015 & 0.00361741 \\\\\n",
       "\\end{tabular}\n"
      ],
      "text/plain": [
       "\u001b[1m3×4 DataFrame\u001b[0m\n",
       "\u001b[1m Row \u001b[0m│\u001b[1m method        \u001b[0m\u001b[1m quality     \u001b[0m\u001b[1m time_mean \u001b[0m\u001b[1m time_std   \u001b[0m\n",
       "     │\u001b[90m String        \u001b[0m\u001b[90m Float64     \u001b[0m\u001b[90m Float64   \u001b[0m\u001b[90m Float64    \u001b[0m\n",
       "─────┼───────────────────────────────────────────────────\n",
       "   1 │ Inverse        4.1922e-13   0.0454357  0.00453953\n",
       "   2 │ Division       2.41585e-13  0.0187622  0.00261974\n",
       "   3 │ Factorization  2.41585e-13  0.0200015  0.00361741"
      ]
     },
     "execution_count": 27,
     "metadata": {},
     "output_type": "execute_result"
    }
   ],
   "source": [
    "df1 = groupby(df, [:method, :quality])\n",
    "df2 = combine(df1, :time => mean, :time => std)"
   ]
  },
  {
   "cell_type": "markdown",
   "id": "30e95d19",
   "metadata": {},
   "source": [
    "## Zadanie 2"
   ]
  },
  {
   "cell_type": "code",
   "execution_count": 47,
   "id": "e74f802b",
   "metadata": {},
   "outputs": [
    {
     "data": {
      "image/svg+xml": [
       "<?xml version=\"1.0\" encoding=\"utf-8\"?>\n",
       "<svg xmlns=\"http://www.w3.org/2000/svg\" xmlns:xlink=\"http://www.w3.org/1999/xlink\" width=\"600\" height=\"400\" viewBox=\"0 0 2400 1600\">\n",
       "<defs>\n",
       "  <clipPath id=\"clip640\">\n",
       "    <rect x=\"0\" y=\"0\" width=\"2400\" height=\"1600\"/>\n",
       "  </clipPath>\n",
       "</defs>\n",
       "<path clip-path=\"url(#clip640)\" d=\"M0 1600 L2400 1600 L2400 0 L0 0  Z\" fill=\"#ffffff\" fill-rule=\"evenodd\" fill-opacity=\"1\"/>\n",
       "<defs>\n",
       "  <clipPath id=\"clip641\">\n",
       "    <rect x=\"480\" y=\"0\" width=\"1681\" height=\"1600\"/>\n",
       "  </clipPath>\n",
       "</defs>\n",
       "<path clip-path=\"url(#clip640)\" d=\"M219.38 1423.18 L2352.76 1423.18 L2352.76 123.472 L219.38 123.472  Z\" fill=\"#ffffff\" fill-rule=\"evenodd\" fill-opacity=\"1\"/>\n",
       "<defs>\n",
       "  <clipPath id=\"clip642\">\n",
       "    <rect x=\"219\" y=\"123\" width=\"2134\" height=\"1301\"/>\n",
       "  </clipPath>\n",
       "</defs>\n",
       "<polyline clip-path=\"url(#clip642)\" style=\"stroke:#000000; stroke-linecap:round; stroke-linejoin:round; stroke-width:2; stroke-opacity:0.1; fill:none\" points=\"279.759,1423.18 279.759,123.472 \"/>\n",
       "<polyline clip-path=\"url(#clip642)\" style=\"stroke:#000000; stroke-linecap:round; stroke-linejoin:round; stroke-width:2; stroke-opacity:0.1; fill:none\" points=\"950.632,1423.18 950.632,123.472 \"/>\n",
       "<polyline clip-path=\"url(#clip642)\" style=\"stroke:#000000; stroke-linecap:round; stroke-linejoin:round; stroke-width:2; stroke-opacity:0.1; fill:none\" points=\"1621.5,1423.18 1621.5,123.472 \"/>\n",
       "<polyline clip-path=\"url(#clip642)\" style=\"stroke:#000000; stroke-linecap:round; stroke-linejoin:round; stroke-width:2; stroke-opacity:0.1; fill:none\" points=\"2292.38,1423.18 2292.38,123.472 \"/>\n",
       "<polyline clip-path=\"url(#clip640)\" style=\"stroke:#000000; stroke-linecap:round; stroke-linejoin:round; stroke-width:4; stroke-opacity:1; fill:none\" points=\"219.38,1423.18 2352.76,1423.18 \"/>\n",
       "<polyline clip-path=\"url(#clip640)\" style=\"stroke:#000000; stroke-linecap:round; stroke-linejoin:round; stroke-width:4; stroke-opacity:1; fill:none\" points=\"279.759,1423.18 279.759,1404.28 \"/>\n",
       "<polyline clip-path=\"url(#clip640)\" style=\"stroke:#000000; stroke-linecap:round; stroke-linejoin:round; stroke-width:4; stroke-opacity:1; fill:none\" points=\"950.632,1423.18 950.632,1404.28 \"/>\n",
       "<polyline clip-path=\"url(#clip640)\" style=\"stroke:#000000; stroke-linecap:round; stroke-linejoin:round; stroke-width:4; stroke-opacity:1; fill:none\" points=\"1621.5,1423.18 1621.5,1404.28 \"/>\n",
       "<polyline clip-path=\"url(#clip640)\" style=\"stroke:#000000; stroke-linecap:round; stroke-linejoin:round; stroke-width:4; stroke-opacity:1; fill:none\" points=\"2292.38,1423.18 2292.38,1404.28 \"/>\n",
       "<path clip-path=\"url(#clip640)\" d=\"M239.365 1481.64 L247.004 1481.64 L247.004 1455.28 L238.694 1456.95 L238.694 1452.69 L246.958 1451.02 L251.634 1451.02 L251.634 1481.64 L259.273 1481.64 L259.273 1485.58 L239.365 1485.58 L239.365 1481.64 Z\" fill=\"#000000\" fill-rule=\"nonzero\" fill-opacity=\"1\" /><path clip-path=\"url(#clip640)\" d=\"M278.717 1454.1 Q275.106 1454.1 273.277 1457.66 Q271.472 1461.2 271.472 1468.33 Q271.472 1475.44 273.277 1479.01 Q275.106 1482.55 278.717 1482.55 Q282.351 1482.55 284.157 1479.01 Q285.986 1475.44 285.986 1468.33 Q285.986 1461.2 284.157 1457.66 Q282.351 1454.1 278.717 1454.1 M278.717 1450.39 Q284.527 1450.39 287.583 1455 Q290.661 1459.58 290.661 1468.33 Q290.661 1477.06 287.583 1481.67 Q284.527 1486.25 278.717 1486.25 Q272.907 1486.25 269.828 1481.67 Q266.773 1477.06 266.773 1468.33 Q266.773 1459.58 269.828 1455 Q272.907 1450.39 278.717 1450.39 Z\" fill=\"#000000\" fill-rule=\"nonzero\" fill-opacity=\"1\" /><path clip-path=\"url(#clip640)\" d=\"M308.879 1454.1 Q305.268 1454.1 303.439 1457.66 Q301.634 1461.2 301.634 1468.33 Q301.634 1475.44 303.439 1479.01 Q305.268 1482.55 308.879 1482.55 Q312.513 1482.55 314.319 1479.01 Q316.147 1475.44 316.147 1468.33 Q316.147 1461.2 314.319 1457.66 Q312.513 1454.1 308.879 1454.1 M308.879 1450.39 Q314.689 1450.39 317.745 1455 Q320.823 1459.58 320.823 1468.33 Q320.823 1477.06 317.745 1481.67 Q314.689 1486.25 308.879 1486.25 Q303.069 1486.25 299.99 1481.67 Q296.935 1477.06 296.935 1468.33 Q296.935 1459.58 299.99 1455 Q303.069 1450.39 308.879 1450.39 Z\" fill=\"#000000\" fill-rule=\"nonzero\" fill-opacity=\"1\" /><path clip-path=\"url(#clip640)\" d=\"M914.324 1481.64 L930.643 1481.64 L930.643 1485.58 L908.699 1485.58 L908.699 1481.64 Q911.361 1478.89 915.944 1474.26 Q920.551 1469.61 921.731 1468.27 Q923.977 1465.74 924.856 1464.01 Q925.759 1462.25 925.759 1460.56 Q925.759 1457.8 923.815 1456.07 Q921.893 1454.33 918.791 1454.33 Q916.592 1454.33 914.139 1455.09 Q911.708 1455.86 908.93 1457.41 L908.93 1452.69 Q911.754 1451.55 914.208 1450.97 Q916.662 1450.39 918.699 1450.39 Q924.069 1450.39 927.264 1453.08 Q930.458 1455.77 930.458 1460.26 Q930.458 1462.39 929.648 1464.31 Q928.861 1466.2 926.754 1468.8 Q926.176 1469.47 923.074 1472.69 Q919.972 1475.88 914.324 1481.64 Z\" fill=\"#000000\" fill-rule=\"nonzero\" fill-opacity=\"1\" /><path clip-path=\"url(#clip640)\" d=\"M950.458 1454.1 Q946.847 1454.1 945.018 1457.66 Q943.213 1461.2 943.213 1468.33 Q943.213 1475.44 945.018 1479.01 Q946.847 1482.55 950.458 1482.55 Q954.092 1482.55 955.898 1479.01 Q957.726 1475.44 957.726 1468.33 Q957.726 1461.2 955.898 1457.66 Q954.092 1454.1 950.458 1454.1 M950.458 1450.39 Q956.268 1450.39 959.324 1455 Q962.402 1459.58 962.402 1468.33 Q962.402 1477.06 959.324 1481.67 Q956.268 1486.25 950.458 1486.25 Q944.648 1486.25 941.569 1481.67 Q938.514 1477.06 938.514 1468.33 Q938.514 1459.58 941.569 1455 Q944.648 1450.39 950.458 1450.39 Z\" fill=\"#000000\" fill-rule=\"nonzero\" fill-opacity=\"1\" /><path clip-path=\"url(#clip640)\" d=\"M980.62 1454.1 Q977.009 1454.1 975.18 1457.66 Q973.375 1461.2 973.375 1468.33 Q973.375 1475.44 975.18 1479.01 Q977.009 1482.55 980.62 1482.55 Q984.254 1482.55 986.06 1479.01 Q987.888 1475.44 987.888 1468.33 Q987.888 1461.2 986.06 1457.66 Q984.254 1454.1 980.62 1454.1 M980.62 1450.39 Q986.43 1450.39 989.486 1455 Q992.564 1459.58 992.564 1468.33 Q992.564 1477.06 989.486 1481.67 Q986.43 1486.25 980.62 1486.25 Q974.81 1486.25 971.731 1481.67 Q968.675 1477.06 968.675 1468.33 Q968.675 1459.58 971.731 1455 Q974.81 1450.39 980.62 1450.39 Z\" fill=\"#000000\" fill-rule=\"nonzero\" fill-opacity=\"1\" /><path clip-path=\"url(#clip640)\" d=\"M1595.27 1466.95 Q1598.62 1467.66 1600.5 1469.93 Q1602.4 1472.2 1602.4 1475.53 Q1602.4 1480.65 1598.88 1483.45 Q1595.36 1486.25 1588.88 1486.25 Q1586.7 1486.25 1584.39 1485.81 Q1582.09 1485.39 1579.64 1484.54 L1579.64 1480.02 Q1581.59 1481.16 1583.9 1481.74 Q1586.22 1482.32 1588.74 1482.32 Q1593.14 1482.32 1595.43 1480.58 Q1597.74 1478.84 1597.74 1475.53 Q1597.74 1472.48 1595.59 1470.77 Q1593.46 1469.03 1589.64 1469.03 L1585.61 1469.03 L1585.61 1465.19 L1589.83 1465.19 Q1593.28 1465.19 1595.1 1463.82 Q1596.93 1462.43 1596.93 1459.84 Q1596.93 1457.18 1595.03 1455.77 Q1593.16 1454.33 1589.64 1454.33 Q1587.72 1454.33 1585.52 1454.75 Q1583.32 1455.16 1580.68 1456.04 L1580.68 1451.88 Q1583.34 1451.14 1585.66 1450.77 Q1588 1450.39 1590.06 1450.39 Q1595.38 1450.39 1598.48 1452.83 Q1601.59 1455.23 1601.59 1459.35 Q1601.59 1462.22 1599.94 1464.21 Q1598.3 1466.18 1595.27 1466.95 Z\" fill=\"#000000\" fill-rule=\"nonzero\" fill-opacity=\"1\" /><path clip-path=\"url(#clip640)\" d=\"M1621.26 1454.1 Q1617.65 1454.1 1615.82 1457.66 Q1614.02 1461.2 1614.02 1468.33 Q1614.02 1475.44 1615.82 1479.01 Q1617.65 1482.55 1621.26 1482.55 Q1624.9 1482.55 1626.7 1479.01 Q1628.53 1475.44 1628.53 1468.33 Q1628.53 1461.2 1626.7 1457.66 Q1624.9 1454.1 1621.26 1454.1 M1621.26 1450.39 Q1627.07 1450.39 1630.13 1455 Q1633.21 1459.58 1633.21 1468.33 Q1633.21 1477.06 1630.13 1481.67 Q1627.07 1486.25 1621.26 1486.25 Q1615.45 1486.25 1612.37 1481.67 Q1609.32 1477.06 1609.32 1468.33 Q1609.32 1459.58 1612.37 1455 Q1615.45 1450.39 1621.26 1450.39 Z\" fill=\"#000000\" fill-rule=\"nonzero\" fill-opacity=\"1\" /><path clip-path=\"url(#clip640)\" d=\"M1651.42 1454.1 Q1647.81 1454.1 1645.98 1457.66 Q1644.18 1461.2 1644.18 1468.33 Q1644.18 1475.44 1645.98 1479.01 Q1647.81 1482.55 1651.42 1482.55 Q1655.06 1482.55 1656.86 1479.01 Q1658.69 1475.44 1658.69 1468.33 Q1658.69 1461.2 1656.86 1457.66 Q1655.06 1454.1 1651.42 1454.1 M1651.42 1450.39 Q1657.23 1450.39 1660.29 1455 Q1663.37 1459.58 1663.37 1468.33 Q1663.37 1477.06 1660.29 1481.67 Q1657.23 1486.25 1651.42 1486.25 Q1645.61 1486.25 1642.53 1481.67 Q1639.48 1477.06 1639.48 1468.33 Q1639.48 1459.58 1642.53 1455 Q1645.61 1450.39 1651.42 1450.39 Z\" fill=\"#000000\" fill-rule=\"nonzero\" fill-opacity=\"1\" /><path clip-path=\"url(#clip640)\" d=\"M2265.47 1455.09 L2253.66 1473.54 L2265.47 1473.54 L2265.47 1455.09 M2264.24 1451.02 L2270.12 1451.02 L2270.12 1473.54 L2275.05 1473.54 L2275.05 1477.43 L2270.12 1477.43 L2270.12 1485.58 L2265.47 1485.58 L2265.47 1477.43 L2249.87 1477.43 L2249.87 1472.92 L2264.24 1451.02 Z\" fill=\"#000000\" fill-rule=\"nonzero\" fill-opacity=\"1\" /><path clip-path=\"url(#clip640)\" d=\"M2292.78 1454.1 Q2289.17 1454.1 2287.34 1457.66 Q2285.54 1461.2 2285.54 1468.33 Q2285.54 1475.44 2287.34 1479.01 Q2289.17 1482.55 2292.78 1482.55 Q2296.42 1482.55 2298.22 1479.01 Q2300.05 1475.44 2300.05 1468.33 Q2300.05 1461.2 2298.22 1457.66 Q2296.42 1454.1 2292.78 1454.1 M2292.78 1450.39 Q2298.59 1450.39 2301.65 1455 Q2304.73 1459.58 2304.73 1468.33 Q2304.73 1477.06 2301.65 1481.67 Q2298.59 1486.25 2292.78 1486.25 Q2286.97 1486.25 2283.89 1481.67 Q2280.84 1477.06 2280.84 1468.33 Q2280.84 1459.58 2283.89 1455 Q2286.97 1450.39 2292.78 1450.39 Z\" fill=\"#000000\" fill-rule=\"nonzero\" fill-opacity=\"1\" /><path clip-path=\"url(#clip640)\" d=\"M2322.94 1454.1 Q2319.33 1454.1 2317.5 1457.66 Q2315.7 1461.2 2315.7 1468.33 Q2315.7 1475.44 2317.5 1479.01 Q2319.33 1482.55 2322.94 1482.55 Q2326.58 1482.55 2328.38 1479.01 Q2330.21 1475.44 2330.21 1468.33 Q2330.21 1461.2 2328.38 1457.66 Q2326.58 1454.1 2322.94 1454.1 M2322.94 1450.39 Q2328.75 1450.39 2331.81 1455 Q2334.89 1459.58 2334.89 1468.33 Q2334.89 1477.06 2331.81 1481.67 Q2328.75 1486.25 2322.94 1486.25 Q2317.13 1486.25 2314.06 1481.67 Q2311 1477.06 2311 1468.33 Q2311 1459.58 2314.06 1455 Q2317.13 1450.39 2322.94 1450.39 Z\" fill=\"#000000\" fill-rule=\"nonzero\" fill-opacity=\"1\" /><path clip-path=\"url(#clip640)\" d=\"M1097.71 1520.52 L1107.29 1520.52 L1119.41 1552.86 L1131.6 1520.52 L1141.18 1520.52 L1141.18 1568.04 L1134.91 1568.04 L1134.91 1526.32 L1122.66 1558.91 L1116.2 1558.91 L1103.95 1526.32 L1103.95 1568.04 L1097.71 1568.04 L1097.71 1520.52 Z\" fill=\"#000000\" fill-rule=\"nonzero\" fill-opacity=\"1\" /><path clip-path=\"url(#clip640)\" d=\"M1169.89 1550.12 Q1162.8 1550.12 1160.06 1551.75 Q1157.32 1553.37 1157.32 1557.29 Q1157.32 1560.4 1159.36 1562.25 Q1161.43 1564.07 1164.96 1564.07 Q1169.83 1564.07 1172.76 1560.63 Q1175.72 1557.16 1175.72 1551.43 L1175.72 1550.12 L1169.89 1550.12 M1181.57 1547.71 L1181.57 1568.04 L1175.72 1568.04 L1175.72 1562.63 Q1173.71 1565.88 1170.72 1567.44 Q1167.73 1568.97 1163.4 1568.97 Q1157.93 1568.97 1154.68 1565.91 Q1151.47 1562.82 1151.47 1557.67 Q1151.47 1551.65 1155.48 1548.6 Q1159.52 1545.54 1167.51 1545.54 L1175.72 1545.54 L1175.72 1544.97 Q1175.72 1540.93 1173.04 1538.73 Q1170.4 1536.5 1165.6 1536.5 Q1162.54 1536.5 1159.65 1537.23 Q1156.75 1537.97 1154.08 1539.43 L1154.08 1534.02 Q1157.29 1532.78 1160.31 1532.17 Q1163.34 1531.54 1166.2 1531.54 Q1173.94 1531.54 1177.76 1535.55 Q1181.57 1539.56 1181.57 1547.71 Z\" fill=\"#000000\" fill-rule=\"nonzero\" fill-opacity=\"1\" /><path clip-path=\"url(#clip640)\" d=\"M1199.43 1522.27 L1199.43 1532.4 L1211.49 1532.4 L1211.49 1536.95 L1199.43 1536.95 L1199.43 1556.3 Q1199.43 1560.66 1200.61 1561.9 Q1201.82 1563.14 1205.48 1563.14 L1211.49 1563.14 L1211.49 1568.04 L1205.48 1568.04 Q1198.7 1568.04 1196.12 1565.53 Q1193.54 1562.98 1193.54 1556.3 L1193.54 1536.95 L1189.25 1536.95 L1189.25 1532.4 L1193.54 1532.4 L1193.54 1522.27 L1199.43 1522.27 Z\" fill=\"#000000\" fill-rule=\"nonzero\" fill-opacity=\"1\" /><path clip-path=\"url(#clip640)\" d=\"M1239.85 1537.87 Q1238.87 1537.3 1237.69 1537.04 Q1236.54 1536.76 1235.14 1536.76 Q1230.18 1536.76 1227.5 1540 Q1224.86 1543.22 1224.86 1549.27 L1224.86 1568.04 L1218.97 1568.04 L1218.97 1532.4 L1224.86 1532.4 L1224.86 1537.93 Q1226.71 1534.69 1229.67 1533.13 Q1232.63 1531.54 1236.86 1531.54 Q1237.47 1531.54 1238.2 1531.63 Q1238.93 1531.7 1239.82 1531.85 L1239.85 1537.87 Z\" fill=\"#000000\" fill-rule=\"nonzero\" fill-opacity=\"1\" /><path clip-path=\"url(#clip640)\" d=\"M1246 1532.4 L1251.85 1532.4 L1251.85 1568.04 L1246 1568.04 L1246 1532.4 M1246 1518.52 L1251.85 1518.52 L1251.85 1525.93 L1246 1525.93 L1246 1518.52 Z\" fill=\"#000000\" fill-rule=\"nonzero\" fill-opacity=\"1\" /><path clip-path=\"url(#clip640)\" d=\"M1293.74 1532.4 L1280.85 1549.74 L1294.41 1568.04 L1287.5 1568.04 L1277.12 1554.04 L1266.75 1568.04 L1259.84 1568.04 L1273.69 1549.39 L1261.02 1532.4 L1267.93 1532.4 L1277.38 1545.1 L1286.83 1532.4 L1293.74 1532.4 Z\" fill=\"#000000\" fill-rule=\"nonzero\" fill-opacity=\"1\" /><path clip-path=\"url(#clip640)\" d=\"M1346.13 1533.45 L1346.13 1538.98 Q1343.65 1537.71 1340.97 1537.07 Q1338.3 1536.44 1335.43 1536.44 Q1331.07 1536.44 1328.88 1537.77 Q1326.71 1539.11 1326.71 1541.79 Q1326.71 1543.82 1328.27 1545 Q1329.83 1546.15 1334.54 1547.2 L1336.55 1547.64 Q1342.79 1548.98 1345.4 1551.43 Q1348.04 1553.85 1348.04 1558.21 Q1348.04 1563.17 1344.09 1566.07 Q1340.18 1568.97 1333.3 1568.97 Q1330.44 1568.97 1327.32 1568.39 Q1324.23 1567.85 1320.79 1566.74 L1320.79 1560.69 Q1324.04 1562.38 1327.19 1563.24 Q1330.34 1564.07 1333.43 1564.07 Q1337.57 1564.07 1339.79 1562.66 Q1342.02 1561.23 1342.02 1558.65 Q1342.02 1556.27 1340.4 1554.99 Q1338.81 1553.72 1333.37 1552.54 L1331.33 1552.07 Q1325.89 1550.92 1323.47 1548.56 Q1321.05 1546.18 1321.05 1542.04 Q1321.05 1537.01 1324.61 1534.27 Q1328.18 1531.54 1334.73 1531.54 Q1337.98 1531.54 1340.84 1532.01 Q1343.71 1532.49 1346.13 1533.45 Z\" fill=\"#000000\" fill-rule=\"nonzero\" fill-opacity=\"1\" /><path clip-path=\"url(#clip640)\" d=\"M1357.36 1532.4 L1363.22 1532.4 L1363.22 1568.04 L1357.36 1568.04 L1357.36 1532.4 M1357.36 1518.52 L1363.22 1518.52 L1363.22 1525.93 L1357.36 1525.93 L1357.36 1518.52 Z\" fill=\"#000000\" fill-rule=\"nonzero\" fill-opacity=\"1\" /><path clip-path=\"url(#clip640)\" d=\"M1372.93 1532.4 L1400.75 1532.4 L1400.75 1537.74 L1378.72 1563.37 L1400.75 1563.37 L1400.75 1568.04 L1372.13 1568.04 L1372.13 1562.7 L1394.16 1537.07 L1372.93 1537.07 L1372.93 1532.4 Z\" fill=\"#000000\" fill-rule=\"nonzero\" fill-opacity=\"1\" /><path clip-path=\"url(#clip640)\" d=\"M1440.18 1548.76 L1440.18 1551.62 L1413.25 1551.62 Q1413.64 1557.67 1416.88 1560.85 Q1420.16 1564 1425.99 1564 Q1429.36 1564 1432.51 1563.17 Q1435.69 1562.35 1438.81 1560.69 L1438.81 1566.23 Q1435.66 1567.57 1432.35 1568.27 Q1429.04 1568.97 1425.64 1568.97 Q1417.11 1568.97 1412.11 1564 Q1407.14 1559.04 1407.14 1550.57 Q1407.14 1541.82 1411.85 1536.69 Q1416.6 1531.54 1424.62 1531.54 Q1431.81 1531.54 1435.98 1536.18 Q1440.18 1540.8 1440.18 1548.76 M1434.33 1547.04 Q1434.26 1542.23 1431.62 1539.37 Q1429.01 1536.5 1424.68 1536.5 Q1419.78 1536.5 1416.82 1539.27 Q1413.89 1542.04 1413.45 1547.07 L1434.33 1547.04 Z\" fill=\"#000000\" fill-rule=\"nonzero\" fill-opacity=\"1\" /><path clip-path=\"url(#clip640)\" d=\"M1472.52 1533.45 L1472.52 1538.98 Q1470.04 1537.71 1467.36 1537.07 Q1464.69 1536.44 1461.83 1536.44 Q1457.46 1536.44 1455.27 1537.77 Q1453.1 1539.11 1453.1 1541.79 Q1453.1 1543.82 1454.66 1545 Q1456.22 1546.15 1460.93 1547.2 L1462.94 1547.64 Q1469.18 1548.98 1471.79 1551.43 Q1474.43 1553.85 1474.43 1558.21 Q1474.43 1563.17 1470.48 1566.07 Q1466.57 1568.97 1459.69 1568.97 Q1456.83 1568.97 1453.71 1568.39 Q1450.62 1567.85 1447.18 1566.74 L1447.18 1560.69 Q1450.43 1562.38 1453.58 1563.24 Q1456.73 1564.07 1459.82 1564.07 Q1463.96 1564.07 1466.19 1562.66 Q1468.41 1561.23 1468.41 1558.65 Q1468.41 1556.27 1466.79 1554.99 Q1465.2 1553.72 1459.76 1552.54 L1457.72 1552.07 Q1452.28 1550.92 1449.86 1548.56 Q1447.44 1546.18 1447.44 1542.04 Q1447.44 1537.01 1451 1534.27 Q1454.57 1531.54 1461.12 1531.54 Q1464.37 1531.54 1467.24 1532.01 Q1470.1 1532.49 1472.52 1533.45 Z\" fill=\"#000000\" fill-rule=\"nonzero\" fill-opacity=\"1\" /><polyline clip-path=\"url(#clip642)\" style=\"stroke:#000000; stroke-linecap:round; stroke-linejoin:round; stroke-width:2; stroke-opacity:0.1; fill:none\" points=\"219.38,1401.29 2352.76,1401.29 \"/>\n",
       "<polyline clip-path=\"url(#clip642)\" style=\"stroke:#000000; stroke-linecap:round; stroke-linejoin:round; stroke-width:2; stroke-opacity:0.1; fill:none\" points=\"219.38,995.597 2352.76,995.597 \"/>\n",
       "<polyline clip-path=\"url(#clip642)\" style=\"stroke:#000000; stroke-linecap:round; stroke-linejoin:round; stroke-width:2; stroke-opacity:0.1; fill:none\" points=\"219.38,589.904 2352.76,589.904 \"/>\n",
       "<polyline clip-path=\"url(#clip642)\" style=\"stroke:#000000; stroke-linecap:round; stroke-linejoin:round; stroke-width:2; stroke-opacity:0.1; fill:none\" points=\"219.38,184.211 2352.76,184.211 \"/>\n",
       "<polyline clip-path=\"url(#clip640)\" style=\"stroke:#000000; stroke-linecap:round; stroke-linejoin:round; stroke-width:4; stroke-opacity:1; fill:none\" points=\"219.38,1423.18 219.38,123.472 \"/>\n",
       "<polyline clip-path=\"url(#clip640)\" style=\"stroke:#000000; stroke-linecap:round; stroke-linejoin:round; stroke-width:4; stroke-opacity:1; fill:none\" points=\"219.38,1401.29 238.278,1401.29 \"/>\n",
       "<polyline clip-path=\"url(#clip640)\" style=\"stroke:#000000; stroke-linecap:round; stroke-linejoin:round; stroke-width:4; stroke-opacity:1; fill:none\" points=\"219.38,995.597 238.278,995.597 \"/>\n",
       "<polyline clip-path=\"url(#clip640)\" style=\"stroke:#000000; stroke-linecap:round; stroke-linejoin:round; stroke-width:4; stroke-opacity:1; fill:none\" points=\"219.38,589.904 238.278,589.904 \"/>\n",
       "<polyline clip-path=\"url(#clip640)\" style=\"stroke:#000000; stroke-linecap:round; stroke-linejoin:round; stroke-width:4; stroke-opacity:1; fill:none\" points=\"219.38,184.211 238.278,184.211 \"/>\n",
       "<path clip-path=\"url(#clip640)\" d=\"M126.205 1387.09 Q122.593 1387.09 120.765 1390.65 Q118.959 1394.2 118.959 1401.33 Q118.959 1408.43 120.765 1412 Q122.593 1415.54 126.205 1415.54 Q129.839 1415.54 131.644 1412 Q133.473 1408.43 133.473 1401.33 Q133.473 1394.2 131.644 1390.65 Q129.839 1387.09 126.205 1387.09 M126.205 1383.39 Q132.015 1383.39 135.07 1387.99 Q138.149 1392.58 138.149 1401.33 Q138.149 1410.05 135.07 1414.66 Q132.015 1419.24 126.205 1419.24 Q120.394 1419.24 117.316 1414.66 Q114.26 1410.05 114.26 1401.33 Q114.26 1392.58 117.316 1387.99 Q120.394 1383.39 126.205 1383.39 Z\" fill=\"#000000\" fill-rule=\"nonzero\" fill-opacity=\"1\" /><path clip-path=\"url(#clip640)\" d=\"M146.366 1412.69 L151.251 1412.69 L151.251 1418.57 L146.366 1418.57 L146.366 1412.69 Z\" fill=\"#000000\" fill-rule=\"nonzero\" fill-opacity=\"1\" /><path clip-path=\"url(#clip640)\" d=\"M171.436 1387.09 Q167.825 1387.09 165.996 1390.65 Q164.19 1394.2 164.19 1401.33 Q164.19 1408.43 165.996 1412 Q167.825 1415.54 171.436 1415.54 Q175.07 1415.54 176.876 1412 Q178.704 1408.43 178.704 1401.33 Q178.704 1394.2 176.876 1390.65 Q175.07 1387.09 171.436 1387.09 M171.436 1383.39 Q177.246 1383.39 180.301 1387.99 Q183.38 1392.58 183.38 1401.33 Q183.38 1410.05 180.301 1414.66 Q177.246 1419.24 171.436 1419.24 Q165.626 1419.24 162.547 1414.66 Q159.491 1410.05 159.491 1401.33 Q159.491 1392.58 162.547 1387.99 Q165.626 1383.39 171.436 1383.39 Z\" fill=\"#000000\" fill-rule=\"nonzero\" fill-opacity=\"1\" /><path clip-path=\"url(#clip640)\" d=\"M127.431 981.396 Q123.82 981.396 121.992 984.961 Q120.186 988.502 120.186 995.632 Q120.186 1002.74 121.992 1006.3 Q123.82 1009.84 127.431 1009.84 Q131.066 1009.84 132.871 1006.3 Q134.7 1002.74 134.7 995.632 Q134.7 988.502 132.871 984.961 Q131.066 981.396 127.431 981.396 M127.431 977.692 Q133.242 977.692 136.297 982.299 Q139.376 986.882 139.376 995.632 Q139.376 1004.36 136.297 1008.97 Q133.242 1013.55 127.431 1013.55 Q121.621 1013.55 118.543 1008.97 Q115.487 1004.36 115.487 995.632 Q115.487 986.882 118.543 982.299 Q121.621 977.692 127.431 977.692 Z\" fill=\"#000000\" fill-rule=\"nonzero\" fill-opacity=\"1\" /><path clip-path=\"url(#clip640)\" d=\"M147.593 1007 L152.478 1007 L152.478 1012.88 L147.593 1012.88 L147.593 1007 Z\" fill=\"#000000\" fill-rule=\"nonzero\" fill-opacity=\"1\" /><path clip-path=\"url(#clip640)\" d=\"M163.473 1008.94 L171.112 1008.94 L171.112 982.576 L162.802 984.243 L162.802 979.984 L171.065 978.317 L175.741 978.317 L175.741 1008.94 L183.38 1008.94 L183.38 1012.88 L163.473 1012.88 L163.473 1008.94 Z\" fill=\"#000000\" fill-rule=\"nonzero\" fill-opacity=\"1\" /><path clip-path=\"url(#clip640)\" d=\"M127.802 575.703 Q124.191 575.703 122.362 579.268 Q120.556 582.809 120.556 589.939 Q120.556 597.045 122.362 600.61 Q124.191 604.152 127.802 604.152 Q131.436 604.152 133.242 600.61 Q135.07 597.045 135.07 589.939 Q135.07 582.809 133.242 579.268 Q131.436 575.703 127.802 575.703 M127.802 571.999 Q133.612 571.999 136.667 576.606 Q139.746 581.189 139.746 589.939 Q139.746 598.666 136.667 603.272 Q133.612 607.855 127.802 607.855 Q121.992 607.855 118.913 603.272 Q115.857 598.666 115.857 589.939 Q115.857 581.189 118.913 576.606 Q121.992 571.999 127.802 571.999 Z\" fill=\"#000000\" fill-rule=\"nonzero\" fill-opacity=\"1\" /><path clip-path=\"url(#clip640)\" d=\"M147.964 601.304 L152.848 601.304 L152.848 607.184 L147.964 607.184 L147.964 601.304 Z\" fill=\"#000000\" fill-rule=\"nonzero\" fill-opacity=\"1\" /><path clip-path=\"url(#clip640)\" d=\"M167.061 603.249 L183.38 603.249 L183.38 607.184 L161.436 607.184 L161.436 603.249 Q164.098 600.494 168.681 595.865 Q173.288 591.212 174.468 589.869 Q176.714 587.346 177.593 585.61 Q178.496 583.851 178.496 582.161 Q178.496 579.406 176.551 577.67 Q174.63 575.934 171.528 575.934 Q169.329 575.934 166.876 576.698 Q164.445 577.462 161.667 579.013 L161.667 574.291 Q164.491 573.156 166.945 572.578 Q169.399 571.999 171.436 571.999 Q176.806 571.999 180.001 574.684 Q183.195 577.369 183.195 581.86 Q183.195 583.99 182.385 585.911 Q181.598 587.809 179.491 590.402 Q178.913 591.073 175.811 594.291 Q172.709 597.485 167.061 603.249 Z\" fill=\"#000000\" fill-rule=\"nonzero\" fill-opacity=\"1\" /><path clip-path=\"url(#clip640)\" d=\"M126.853 170.01 Q123.242 170.01 121.413 173.574 Q119.607 177.116 119.607 184.246 Q119.607 191.352 121.413 194.917 Q123.242 198.459 126.853 198.459 Q130.487 198.459 132.292 194.917 Q134.121 191.352 134.121 184.246 Q134.121 177.116 132.292 173.574 Q130.487 170.01 126.853 170.01 M126.853 166.306 Q132.663 166.306 135.718 170.912 Q138.797 175.496 138.797 184.246 Q138.797 192.972 135.718 197.579 Q132.663 202.162 126.853 202.162 Q121.043 202.162 117.964 197.579 Q114.908 192.972 114.908 184.246 Q114.908 175.496 117.964 170.912 Q121.043 166.306 126.853 166.306 Z\" fill=\"#000000\" fill-rule=\"nonzero\" fill-opacity=\"1\" /><path clip-path=\"url(#clip640)\" d=\"M147.015 195.611 L151.899 195.611 L151.899 201.491 L147.015 201.491 L147.015 195.611 Z\" fill=\"#000000\" fill-rule=\"nonzero\" fill-opacity=\"1\" /><path clip-path=\"url(#clip640)\" d=\"M176.251 182.857 Q179.607 183.574 181.482 185.843 Q183.38 188.111 183.38 191.445 Q183.38 196.56 179.862 199.361 Q176.343 202.162 169.862 202.162 Q167.686 202.162 165.371 201.722 Q163.079 201.306 160.626 200.449 L160.626 195.935 Q162.57 197.07 164.885 197.648 Q167.2 198.227 169.723 198.227 Q174.121 198.227 176.413 196.491 Q178.727 194.755 178.727 191.445 Q178.727 188.389 176.575 186.676 Q174.445 184.94 170.626 184.94 L166.598 184.94 L166.598 181.098 L170.811 181.098 Q174.26 181.098 176.089 179.732 Q177.917 178.343 177.917 175.75 Q177.917 173.088 176.019 171.676 Q174.144 170.241 170.626 170.241 Q168.704 170.241 166.505 170.658 Q164.306 171.074 161.667 171.954 L161.667 167.787 Q164.329 167.047 166.644 166.676 Q168.982 166.306 171.042 166.306 Q176.366 166.306 179.468 168.736 Q182.57 171.144 182.57 175.264 Q182.57 178.135 180.926 180.125 Q179.283 182.093 176.251 182.857 Z\" fill=\"#000000\" fill-rule=\"nonzero\" fill-opacity=\"1\" /><path clip-path=\"url(#clip640)\" d=\"M16.4842 903.155 L16.4842 862.955 L21.895 862.955 L21.895 879.824 L64.0042 879.824 L64.0042 886.285 L21.895 886.285 L21.895 903.155 L16.4842 903.155 Z\" fill=\"#000000\" fill-rule=\"nonzero\" fill-opacity=\"1\" /><path clip-path=\"url(#clip640)\" d=\"M28.3562 859.008 L28.3562 853.152 L64.0042 853.152 L64.0042 859.008 L28.3562 859.008 M14.479 859.008 L14.479 853.152 L21.895 853.152 L21.895 859.008 L14.479 859.008 Z\" fill=\"#000000\" fill-rule=\"nonzero\" fill-opacity=\"1\" /><path clip-path=\"url(#clip640)\" d=\"M35.1993 813.143 Q31.2526 810.947 29.3747 807.892 Q27.4968 804.836 27.4968 800.699 Q27.4968 795.129 31.4117 792.105 Q35.2948 789.081 42.4881 789.081 L64.0042 789.081 L64.0042 794.969 L42.679 794.969 Q37.5546 794.969 35.072 796.784 Q32.5894 798.598 32.5894 802.322 Q32.5894 806.873 35.6131 809.515 Q38.6368 812.157 43.8567 812.157 L64.0042 812.157 L64.0042 818.045 L42.679 818.045 Q37.5228 818.045 35.072 819.859 Q32.5894 821.674 32.5894 825.461 Q32.5894 829.949 35.6449 832.591 Q38.6686 835.232 43.8567 835.232 L64.0042 835.232 L64.0042 841.121 L28.3562 841.121 L28.3562 835.232 L33.8944 835.232 Q30.616 833.227 29.0564 830.426 Q27.4968 827.625 27.4968 823.774 Q27.4968 819.891 29.4702 817.186 Q31.4436 814.448 35.1993 813.143 Z\" fill=\"#000000\" fill-rule=\"nonzero\" fill-opacity=\"1\" /><path clip-path=\"url(#clip640)\" d=\"M44.7161 746.908 L47.5806 746.908 L47.5806 773.835 Q53.6281 773.453 56.8109 770.207 Q59.9619 766.928 59.9619 761.104 Q59.9619 757.73 59.1344 754.579 Q58.3069 751.396 56.6518 748.277 L62.1899 748.277 Q63.5267 751.428 64.227 754.738 Q64.9272 758.048 64.9272 761.454 Q64.9272 769.984 59.9619 774.981 Q54.9967 779.946 46.5303 779.946 Q37.7774 779.946 32.6531 775.236 Q27.4968 770.493 27.4968 762.472 Q27.4968 755.279 32.1438 751.11 Q36.7589 746.908 44.7161 746.908 M42.9973 752.765 Q38.1912 752.828 35.3266 755.47 Q32.4621 758.08 32.4621 762.409 Q32.4621 767.31 35.2312 770.27 Q38.0002 773.199 43.0292 773.644 L42.9973 752.765 Z\" fill=\"#000000\" fill-rule=\"nonzero\" fill-opacity=\"1\" /><path clip-path=\"url(#clip640)\" d=\"M14.479 717.117 L14.479 703.621 L19.0304 703.621 L19.0304 711.26 L68.0464 711.26 L68.0464 703.621 L72.5979 703.621 L72.5979 717.117 L14.479 717.117 Z\" fill=\"#000000\" fill-rule=\"nonzero\" fill-opacity=\"1\" /><path clip-path=\"url(#clip640)\" d=\"M29.4065 668.419 L34.9447 668.419 Q33.6716 670.902 33.035 673.575 Q32.3984 676.249 32.3984 679.114 Q32.3984 683.474 33.7352 685.67 Q35.072 687.835 37.7456 687.835 Q39.7826 687.835 40.9603 686.275 Q42.1061 684.715 43.1565 680.005 L43.6021 678 Q44.9389 671.761 47.3897 669.151 Q49.8086 666.509 54.1691 666.509 Q59.1344 666.509 62.0308 670.456 Q64.9272 674.371 64.9272 681.246 Q64.9272 684.111 64.3543 687.23 Q63.8132 690.317 62.6992 693.755 L56.6518 693.755 Q58.3387 690.508 59.198 687.357 Q60.0256 684.206 60.0256 681.119 Q60.0256 676.981 58.6251 674.753 Q57.1929 672.525 54.6147 672.525 Q52.2276 672.525 50.9545 674.148 Q49.6813 675.74 48.5037 681.182 L48.0262 683.219 Q46.8804 688.662 44.5251 691.081 Q42.138 693.5 38.0002 693.5 Q32.9713 693.5 30.2341 689.935 Q27.4968 686.37 27.4968 679.814 Q27.4968 676.567 27.9743 673.703 Q28.4517 670.838 29.4065 668.419 Z\" fill=\"#000000\" fill-rule=\"nonzero\" fill-opacity=\"1\" /><path clip-path=\"url(#clip640)\" d=\"M14.479 643.497 L72.5979 643.497 L72.5979 656.993 L68.0464 656.993 L68.0464 649.386 L19.0304 649.386 L19.0304 656.993 L14.479 656.993 L14.479 643.497 Z\" fill=\"#000000\" fill-rule=\"nonzero\" fill-opacity=\"1\" /><path clip-path=\"url(#clip640)\" d=\"M601.161 16.7545 L601.161 25.383 Q597.029 21.5346 592.33 19.6307 Q587.672 17.7268 582.406 17.7268 Q572.035 17.7268 566.526 24.0867 Q561.017 30.4061 561.017 42.3968 Q561.017 54.3469 566.526 60.7069 Q572.035 67.0263 582.406 67.0263 Q587.672 67.0263 592.33 65.1223 Q597.029 63.2184 601.161 59.3701 L601.161 67.9175 Q596.867 70.8341 592.047 72.2924 Q587.267 73.7508 581.92 73.7508 Q568.187 73.7508 560.288 65.3654 Q552.389 56.9395 552.389 42.3968 Q552.389 27.8135 560.288 19.4281 Q568.187 11.0023 581.92 11.0023 Q587.348 11.0023 592.128 12.4606 Q596.948 13.8784 601.161 16.7545 Z\" fill=\"#000000\" fill-rule=\"nonzero\" fill-opacity=\"1\" /><path clip-path=\"url(#clip640)\" d=\"M675.171 35.9153 Q677.967 30.8922 681.855 28.5022 Q685.744 26.1121 691.01 26.1121 Q698.1 26.1121 701.948 31.0947 Q705.796 36.0368 705.796 45.1919 L705.796 72.576 L698.302 72.576 L698.302 45.4349 Q698.302 38.913 695.993 35.7533 Q693.684 32.5936 688.944 32.5936 Q683.152 32.5936 679.789 36.4419 Q676.427 40.2903 676.427 46.9338 L676.427 72.576 L668.933 72.576 L668.933 45.4349 Q668.933 38.8725 666.624 35.7533 Q664.315 32.5936 659.494 32.5936 Q653.783 32.5936 650.42 36.4824 Q647.058 40.3308 647.058 46.9338 L647.058 72.576 L639.564 72.576 L639.564 27.2059 L647.058 27.2059 L647.058 34.2544 Q649.61 30.082 653.175 28.0971 Q656.74 26.1121 661.641 26.1121 Q666.584 26.1121 670.027 28.6237 Q673.511 31.1352 675.171 35.9153 Z\" fill=\"#000000\" fill-rule=\"nonzero\" fill-opacity=\"1\" /><path clip-path=\"url(#clip640)\" d=\"M741.282 49.7694 Q732.249 49.7694 728.765 51.8354 Q725.281 53.9013 725.281 58.8839 Q725.281 62.8538 727.874 65.2034 Q730.507 67.5124 735.003 67.5124 Q741.201 67.5124 744.928 63.1374 Q748.695 58.7219 748.695 51.4303 L748.695 49.7694 L741.282 49.7694 M756.149 46.6907 L756.149 72.576 L748.695 72.576 L748.695 65.6895 Q746.143 69.8214 742.335 71.8063 Q738.528 73.7508 733.018 73.7508 Q726.051 73.7508 721.919 69.8619 Q717.827 65.9325 717.827 59.3701 Q717.827 51.7138 722.932 47.825 Q728.076 43.9361 738.244 43.9361 L748.695 43.9361 L748.695 43.2069 Q748.695 38.0623 745.293 35.2672 Q741.93 32.4315 735.813 32.4315 Q731.925 32.4315 728.238 33.3632 Q724.552 34.295 721.149 36.1584 L721.149 29.2718 Q725.241 27.692 729.089 26.9223 Q732.937 26.1121 736.583 26.1121 Q746.427 26.1121 751.288 31.2163 Q756.149 36.3204 756.149 46.6907 Z\" fill=\"#000000\" fill-rule=\"nonzero\" fill-opacity=\"1\" /><path clip-path=\"url(#clip640)\" d=\"M778.875 14.324 L778.875 27.2059 L794.227 27.2059 L794.227 32.9987 L778.875 32.9987 L778.875 57.6282 Q778.875 63.1779 780.373 64.7578 Q781.913 66.3376 786.571 66.3376 L794.227 66.3376 L794.227 72.576 L786.571 72.576 Q777.943 72.576 774.662 69.3758 Q771.38 66.1351 771.38 57.6282 L771.38 32.9987 L765.912 32.9987 L765.912 27.2059 L771.38 27.2059 L771.38 14.324 L778.875 14.324 Z\" fill=\"#000000\" fill-rule=\"nonzero\" fill-opacity=\"1\" /><path clip-path=\"url(#clip640)\" d=\"M830.321 34.1734 Q829.065 33.4443 827.566 33.1202 Q826.108 32.7556 824.326 32.7556 Q818.006 32.7556 814.604 36.8875 Q811.241 40.9789 811.241 48.6757 L811.241 72.576 L803.747 72.576 L803.747 27.2059 L811.241 27.2059 L811.241 34.2544 Q813.591 30.1225 817.358 28.1376 Q821.125 26.1121 826.513 26.1121 Q827.283 26.1121 828.215 26.2337 Q829.146 26.3147 830.281 26.5172 L830.321 34.1734 Z\" fill=\"#000000\" fill-rule=\"nonzero\" fill-opacity=\"1\" /><path clip-path=\"url(#clip640)\" d=\"M838.139 27.2059 L845.593 27.2059 L845.593 72.576 L838.139 72.576 L838.139 27.2059 M838.139 9.54393 L845.593 9.54393 L845.593 18.9825 L838.139 18.9825 L838.139 9.54393 Z\" fill=\"#000000\" fill-rule=\"nonzero\" fill-opacity=\"1\" /><path clip-path=\"url(#clip640)\" d=\"M898.903 27.2059 L882.497 49.2833 L899.754 72.576 L890.963 72.576 L877.757 54.752 L864.551 72.576 L855.761 72.576 L873.382 48.8377 L857.26 27.2059 L866.05 27.2059 L878.081 43.369 L890.112 27.2059 L898.903 27.2059 Z\" fill=\"#000000\" fill-rule=\"nonzero\" fill-opacity=\"1\" /><path clip-path=\"url(#clip640)\" d=\"M971.981 35.9153 Q974.776 30.8922 978.665 28.5022 Q982.554 26.1121 987.82 26.1121 Q994.909 26.1121 998.758 31.0947 Q1002.61 36.0368 1002.61 45.1919 L1002.61 72.576 L995.112 72.576 L995.112 45.4349 Q995.112 38.913 992.803 35.7533 Q990.494 32.5936 985.754 32.5936 Q979.961 32.5936 976.599 36.4419 Q973.237 40.2903 973.237 46.9338 L973.237 72.576 L965.743 72.576 L965.743 45.4349 Q965.743 38.8725 963.434 35.7533 Q961.125 32.5936 956.304 32.5936 Q950.592 32.5936 947.23 36.4824 Q943.868 40.3308 943.868 46.9338 L943.868 72.576 L936.374 72.576 L936.374 27.2059 L943.868 27.2059 L943.868 34.2544 Q946.42 30.082 949.985 28.0971 Q953.55 26.1121 958.451 26.1121 Q963.393 26.1121 966.837 28.6237 Q970.32 31.1352 971.981 35.9153 Z\" fill=\"#000000\" fill-rule=\"nonzero\" fill-opacity=\"1\" /><path clip-path=\"url(#clip640)\" d=\"M1016.7 54.671 L1016.7 27.2059 L1024.16 27.2059 L1024.16 54.3874 Q1024.16 60.8284 1026.67 64.0691 Q1029.18 67.2693 1034.2 67.2693 Q1040.24 67.2693 1043.72 63.421 Q1047.25 59.5726 1047.25 52.9291 L1047.25 27.2059 L1054.7 27.2059 L1054.7 72.576 L1047.25 72.576 L1047.25 65.6084 Q1044.53 69.7404 1040.93 71.7658 Q1037.36 73.7508 1032.62 73.7508 Q1024.8 73.7508 1020.75 68.8897 Q1016.7 64.0286 1016.7 54.671 M1035.46 26.1121 L1035.46 26.1121 Z\" fill=\"#000000\" fill-rule=\"nonzero\" fill-opacity=\"1\" /><path clip-path=\"url(#clip640)\" d=\"M1070.05 9.54393 L1077.51 9.54393 L1077.51 72.576 L1070.05 72.576 L1070.05 9.54393 Z\" fill=\"#000000\" fill-rule=\"nonzero\" fill-opacity=\"1\" /><path clip-path=\"url(#clip640)\" d=\"M1100.48 14.324 L1100.48 27.2059 L1115.83 27.2059 L1115.83 32.9987 L1100.48 32.9987 L1100.48 57.6282 Q1100.48 63.1779 1101.97 64.7578 Q1103.51 66.3376 1108.17 66.3376 L1115.83 66.3376 L1115.83 72.576 L1108.17 72.576 Q1099.54 72.576 1096.26 69.3758 Q1092.98 66.1351 1092.98 57.6282 L1092.98 32.9987 L1087.51 32.9987 L1087.51 27.2059 L1092.98 27.2059 L1092.98 14.324 L1100.48 14.324 Z\" fill=\"#000000\" fill-rule=\"nonzero\" fill-opacity=\"1\" /><path clip-path=\"url(#clip640)\" d=\"M1125.63 27.2059 L1133.09 27.2059 L1133.09 72.576 L1125.63 72.576 L1125.63 27.2059 M1125.63 9.54393 L1133.09 9.54393 L1133.09 18.9825 L1125.63 18.9825 L1125.63 9.54393 Z\" fill=\"#000000\" fill-rule=\"nonzero\" fill-opacity=\"1\" /><path clip-path=\"url(#clip640)\" d=\"M1155.89 65.7705 L1155.89 89.8329 L1148.4 89.8329 L1148.4 27.2059 L1155.89 27.2059 L1155.89 34.0924 Q1158.24 30.0415 1161.81 28.0971 Q1165.41 26.1121 1170.39 26.1121 Q1178.66 26.1121 1183.8 32.6746 Q1188.99 39.2371 1188.99 49.9314 Q1188.99 60.6258 1183.8 67.1883 Q1178.66 73.7508 1170.39 73.7508 Q1165.41 73.7508 1161.81 71.8063 Q1158.24 69.8214 1155.89 65.7705 M1181.25 49.9314 Q1181.25 41.7081 1177.85 37.0496 Q1174.49 32.3505 1168.57 32.3505 Q1162.66 32.3505 1159.25 37.0496 Q1155.89 41.7081 1155.89 49.9314 Q1155.89 58.1548 1159.25 62.8538 Q1162.66 67.5124 1168.57 67.5124 Q1174.49 67.5124 1177.85 62.8538 Q1181.25 58.1548 1181.25 49.9314 Z\" fill=\"#000000\" fill-rule=\"nonzero\" fill-opacity=\"1\" /><path clip-path=\"url(#clip640)\" d=\"M1201.34 9.54393 L1208.8 9.54393 L1208.8 72.576 L1201.34 72.576 L1201.34 9.54393 Z\" fill=\"#000000\" fill-rule=\"nonzero\" fill-opacity=\"1\" /><path clip-path=\"url(#clip640)\" d=\"M1224.39 27.2059 L1231.85 27.2059 L1231.85 72.576 L1224.39 72.576 L1224.39 27.2059 M1224.39 9.54393 L1231.85 9.54393 L1231.85 18.9825 L1224.39 18.9825 L1224.39 9.54393 Z\" fill=\"#000000\" fill-rule=\"nonzero\" fill-opacity=\"1\" /><path clip-path=\"url(#clip640)\" d=\"M1280.09 28.9478 L1280.09 35.9153 Q1276.93 34.1734 1273.73 33.3227 Q1270.57 32.4315 1267.33 32.4315 Q1260.08 32.4315 1256.07 37.0496 Q1252.06 41.6271 1252.06 49.9314 Q1252.06 58.2358 1256.07 62.8538 Q1260.08 67.4314 1267.33 67.4314 Q1270.57 67.4314 1273.73 66.5807 Q1276.93 65.6895 1280.09 63.9476 L1280.09 70.8341 Q1276.97 72.2924 1273.61 73.0216 Q1270.29 73.7508 1266.52 73.7508 Q1256.27 73.7508 1250.24 67.3098 Q1244.2 60.8689 1244.2 49.9314 Q1244.2 38.832 1250.28 32.472 Q1256.4 26.1121 1267.01 26.1121 Q1270.45 26.1121 1273.73 26.8413 Q1277.01 27.5299 1280.09 28.9478 Z\" fill=\"#000000\" fill-rule=\"nonzero\" fill-opacity=\"1\" /><path clip-path=\"url(#clip640)\" d=\"M1313.67 49.7694 Q1304.64 49.7694 1301.16 51.8354 Q1297.67 53.9013 1297.67 58.8839 Q1297.67 62.8538 1300.27 65.2034 Q1302.9 67.5124 1307.4 67.5124 Q1313.59 67.5124 1317.32 63.1374 Q1321.09 58.7219 1321.09 51.4303 L1321.09 49.7694 L1313.67 49.7694 M1328.54 46.6907 L1328.54 72.576 L1321.09 72.576 L1321.09 65.6895 Q1318.54 69.8214 1314.73 71.8063 Q1310.92 73.7508 1305.41 73.7508 Q1298.44 73.7508 1294.31 69.8619 Q1290.22 65.9325 1290.22 59.3701 Q1290.22 51.7138 1295.32 47.825 Q1300.47 43.9361 1310.64 43.9361 L1321.09 43.9361 L1321.09 43.2069 Q1321.09 38.0623 1317.69 35.2672 Q1314.32 32.4315 1308.21 32.4315 Q1304.32 32.4315 1300.63 33.3632 Q1296.94 34.295 1293.54 36.1584 L1293.54 29.2718 Q1297.63 27.692 1301.48 26.9223 Q1305.33 26.1121 1308.98 26.1121 Q1318.82 26.1121 1323.68 31.2163 Q1328.54 36.3204 1328.54 46.6907 Z\" fill=\"#000000\" fill-rule=\"nonzero\" fill-opacity=\"1\" /><path clip-path=\"url(#clip640)\" d=\"M1351.27 14.324 L1351.27 27.2059 L1366.62 27.2059 L1366.62 32.9987 L1351.27 32.9987 L1351.27 57.6282 Q1351.27 63.1779 1352.77 64.7578 Q1354.31 66.3376 1358.96 66.3376 L1366.62 66.3376 L1366.62 72.576 L1358.96 72.576 Q1350.34 72.576 1347.05 69.3758 Q1343.77 66.1351 1343.77 57.6282 L1343.77 32.9987 L1338.3 32.9987 L1338.3 27.2059 L1343.77 27.2059 L1343.77 14.324 L1351.27 14.324 Z\" fill=\"#000000\" fill-rule=\"nonzero\" fill-opacity=\"1\" /><path clip-path=\"url(#clip640)\" d=\"M1376.42 27.2059 L1383.88 27.2059 L1383.88 72.576 L1376.42 72.576 L1376.42 27.2059 M1376.42 9.54393 L1383.88 9.54393 L1383.88 18.9825 L1376.42 18.9825 L1376.42 9.54393 Z\" fill=\"#000000\" fill-rule=\"nonzero\" fill-opacity=\"1\" /><path clip-path=\"url(#clip640)\" d=\"M1417.05 32.4315 Q1411.06 32.4315 1407.57 37.1306 Q1404.09 41.7891 1404.09 49.9314 Q1404.09 58.0738 1407.53 62.7728 Q1411.02 67.4314 1417.05 67.4314 Q1423.01 67.4314 1426.49 62.7323 Q1429.98 58.0333 1429.98 49.9314 Q1429.98 41.8701 1426.49 37.1711 Q1423.01 32.4315 1417.05 32.4315 M1417.05 26.1121 Q1426.78 26.1121 1432.33 32.4315 Q1437.88 38.7509 1437.88 49.9314 Q1437.88 61.0714 1432.33 67.4314 Q1426.78 73.7508 1417.05 73.7508 Q1407.29 73.7508 1401.74 67.4314 Q1396.23 61.0714 1396.23 49.9314 Q1396.23 38.7509 1401.74 32.4315 Q1407.29 26.1121 1417.05 26.1121 Z\" fill=\"#000000\" fill-rule=\"nonzero\" fill-opacity=\"1\" /><path clip-path=\"url(#clip640)\" d=\"M1487.94 45.1919 L1487.94 72.576 L1480.49 72.576 L1480.49 45.4349 Q1480.49 38.994 1477.98 35.7938 Q1475.47 32.5936 1470.44 32.5936 Q1464.41 32.5936 1460.93 36.4419 Q1457.44 40.2903 1457.44 46.9338 L1457.44 72.576 L1449.95 72.576 L1449.95 27.2059 L1457.44 27.2059 L1457.44 34.2544 Q1460.12 30.163 1463.72 28.1376 Q1467.37 26.1121 1472.11 26.1121 Q1479.92 26.1121 1483.93 30.9732 Q1487.94 35.7938 1487.94 45.1919 Z\" fill=\"#000000\" fill-rule=\"nonzero\" fill-opacity=\"1\" /><path clip-path=\"url(#clip640)\" d=\"M1536.56 14.324 L1536.56 27.2059 L1551.91 27.2059 L1551.91 32.9987 L1536.56 32.9987 L1536.56 57.6282 Q1536.56 63.1779 1538.05 64.7578 Q1539.59 66.3376 1544.25 66.3376 L1551.91 66.3376 L1551.91 72.576 L1544.25 72.576 Q1535.62 72.576 1532.34 69.3758 Q1529.06 66.1351 1529.06 57.6282 L1529.06 32.9987 L1523.59 32.9987 L1523.59 27.2059 L1529.06 27.2059 L1529.06 14.324 L1536.56 14.324 Z\" fill=\"#000000\" fill-rule=\"nonzero\" fill-opacity=\"1\" /><path clip-path=\"url(#clip640)\" d=\"M1561.71 27.2059 L1569.17 27.2059 L1569.17 72.576 L1561.71 72.576 L1561.71 27.2059 M1561.71 9.54393 L1569.17 9.54393 L1569.17 18.9825 L1561.71 18.9825 L1561.71 9.54393 Z\" fill=\"#000000\" fill-rule=\"nonzero\" fill-opacity=\"1\" /><path clip-path=\"url(#clip640)\" d=\"M1620.09 35.9153 Q1622.88 30.8922 1626.77 28.5022 Q1630.66 26.1121 1635.92 26.1121 Q1643.01 26.1121 1646.86 31.0947 Q1650.71 36.0368 1650.71 45.1919 L1650.71 72.576 L1643.22 72.576 L1643.22 45.4349 Q1643.22 38.913 1640.91 35.7533 Q1638.6 32.5936 1633.86 32.5936 Q1628.07 32.5936 1624.7 36.4419 Q1621.34 40.2903 1621.34 46.9338 L1621.34 72.576 L1613.85 72.576 L1613.85 45.4349 Q1613.85 38.8725 1611.54 35.7533 Q1609.23 32.5936 1604.41 32.5936 Q1598.7 32.5936 1595.33 36.4824 Q1591.97 40.3308 1591.97 46.9338 L1591.97 72.576 L1584.48 72.576 L1584.48 27.2059 L1591.97 27.2059 L1591.97 34.2544 Q1594.52 30.082 1598.09 28.0971 Q1601.65 26.1121 1606.56 26.1121 Q1611.5 26.1121 1614.94 28.6237 Q1618.42 31.1352 1620.09 35.9153 Z\" fill=\"#000000\" fill-rule=\"nonzero\" fill-opacity=\"1\" /><path clip-path=\"url(#clip640)\" d=\"M1704.38 48.0275 L1704.38 51.6733 L1670.11 51.6733 Q1670.6 59.3701 1674.73 63.421 Q1678.9 67.4314 1686.32 67.4314 Q1690.61 67.4314 1694.62 66.3781 Q1698.67 65.3249 1702.64 63.2184 L1702.64 70.267 Q1698.63 71.9684 1694.42 72.8596 Q1690.21 73.7508 1685.87 73.7508 Q1675.02 73.7508 1668.66 67.4314 Q1662.34 61.1119 1662.34 50.3365 Q1662.34 39.1965 1668.33 32.6746 Q1674.37 26.1121 1684.58 26.1121 Q1693.73 26.1121 1699.04 32.0264 Q1704.38 37.9003 1704.38 48.0275 M1696.93 45.84 Q1696.85 39.7232 1693.49 36.0774 Q1690.17 32.4315 1684.66 32.4315 Q1678.42 32.4315 1674.65 35.9558 Q1670.92 39.4801 1670.36 45.8805 L1696.93 45.84 Z\" fill=\"#000000\" fill-rule=\"nonzero\" fill-opacity=\"1\" /><path clip-path=\"url(#clip640)\" d=\"M1775.56 49.9314 Q1775.56 41.7081 1772.16 37.0496 Q1768.79 32.3505 1762.88 32.3505 Q1756.97 32.3505 1753.56 37.0496 Q1750.2 41.7081 1750.2 49.9314 Q1750.2 58.1548 1753.56 62.8538 Q1756.97 67.5124 1762.88 67.5124 Q1768.79 67.5124 1772.16 62.8538 Q1775.56 58.1548 1775.56 49.9314 M1750.2 34.0924 Q1752.55 30.0415 1756.11 28.0971 Q1759.72 26.1121 1764.7 26.1121 Q1772.97 26.1121 1778.11 32.6746 Q1783.3 39.2371 1783.3 49.9314 Q1783.3 60.6258 1778.11 67.1883 Q1772.97 73.7508 1764.7 73.7508 Q1759.72 73.7508 1756.11 71.8063 Q1752.55 69.8214 1750.2 65.7705 L1750.2 72.576 L1742.71 72.576 L1742.71 9.54393 L1750.2 9.54393 L1750.2 34.0924 Z\" fill=\"#000000\" fill-rule=\"nonzero\" fill-opacity=\"1\" /><path clip-path=\"url(#clip640)\" d=\"M1814.53 76.7889 Q1811.37 84.8907 1808.37 87.3618 Q1805.37 89.8329 1800.35 89.8329 L1794.4 89.8329 L1794.4 83.5945 L1798.77 83.5945 Q1801.85 83.5945 1803.55 82.1361 Q1805.25 80.6778 1807.32 75.2496 L1808.65 71.8468 L1790.3 27.2059 L1798.2 27.2059 L1812.38 62.6918 L1826.56 27.2059 L1834.46 27.2059 L1814.53 76.7889 Z\" fill=\"#000000\" fill-rule=\"nonzero\" fill-opacity=\"1\" /><path clip-path=\"url(#clip640)\" d=\"M1900.04 28.5427 L1900.04 35.5912 Q1896.88 33.9709 1893.48 33.1607 Q1890.08 32.3505 1886.43 32.3505 Q1880.88 32.3505 1878.09 34.0519 Q1875.33 35.7533 1875.33 39.156 Q1875.33 41.7486 1877.32 43.2475 Q1879.3 44.7058 1885.3 46.0426 L1887.85 46.6097 Q1895.79 48.3111 1899.11 51.4303 Q1902.47 54.509 1902.47 60.0587 Q1902.47 66.3781 1897.45 70.0644 Q1892.47 73.7508 1883.72 73.7508 Q1880.07 73.7508 1876.1 73.0216 Q1872.17 72.3329 1867.8 70.9151 L1867.8 63.2184 Q1871.93 65.3654 1875.94 66.4591 Q1879.95 67.5124 1883.88 67.5124 Q1889.15 67.5124 1891.98 65.73 Q1894.82 63.9071 1894.82 60.6258 Q1894.82 57.5877 1892.75 55.9673 Q1890.73 54.3469 1883.8 52.8481 L1881.21 52.2405 Q1874.28 50.7821 1871.2 47.7845 Q1868.12 44.7463 1868.12 39.4801 Q1868.12 33.0797 1872.66 29.5959 Q1877.2 26.1121 1885.54 26.1121 Q1889.67 26.1121 1893.32 26.7198 Q1896.96 27.3274 1900.04 28.5427 Z\" fill=\"#000000\" fill-rule=\"nonzero\" fill-opacity=\"1\" /><path clip-path=\"url(#clip640)\" d=\"M1914.34 27.2059 L1921.8 27.2059 L1921.8 72.576 L1914.34 72.576 L1914.34 27.2059 M1914.34 9.54393 L1921.8 9.54393 L1921.8 18.9825 L1914.34 18.9825 L1914.34 9.54393 Z\" fill=\"#000000\" fill-rule=\"nonzero\" fill-opacity=\"1\" /><path clip-path=\"url(#clip640)\" d=\"M1934.15 27.2059 L1969.56 27.2059 L1969.56 34.0114 L1941.52 66.6212 L1969.56 66.6212 L1969.56 72.576 L1933.14 72.576 L1933.14 65.7705 L1961.17 33.1607 L1934.15 33.1607 L1934.15 27.2059 Z\" fill=\"#000000\" fill-rule=\"nonzero\" fill-opacity=\"1\" /><path clip-path=\"url(#clip640)\" d=\"M2019.75 48.0275 L2019.75 51.6733 L1985.48 51.6733 Q1985.96 59.3701 1990.09 63.421 Q1994.27 67.4314 2001.68 67.4314 Q2005.97 67.4314 2009.98 66.3781 Q2014.04 65.3249 2018.01 63.2184 L2018.01 70.267 Q2014 71.9684 2009.78 72.8596 Q2005.57 73.7508 2001.23 73.7508 Q1990.38 73.7508 1984.02 67.4314 Q1977.7 61.1119 1977.7 50.3365 Q1977.7 39.1965 1983.69 32.6746 Q1989.73 26.1121 1999.94 26.1121 Q2009.09 26.1121 2014.4 32.0264 Q2019.75 37.9003 2019.75 48.0275 M2012.29 45.84 Q2012.21 39.7232 2008.85 36.0774 Q2005.53 32.4315 2000.02 32.4315 Q1993.78 32.4315 1990.01 35.9558 Q1986.29 39.4801 1985.72 45.8805 L2012.29 45.84 Z\" fill=\"#000000\" fill-rule=\"nonzero\" fill-opacity=\"1\" /><polyline clip-path=\"url(#clip642)\" style=\"stroke:#000000; stroke-linecap:round; stroke-linejoin:round; stroke-width:4; stroke-opacity:1; fill:none\" points=\"279.759,1386.4 279.759,1383.43 \"/>\n",
       "<polyline clip-path=\"url(#clip642)\" style=\"stroke:#000000; stroke-linecap:round; stroke-linejoin:round; stroke-width:4; stroke-opacity:1; fill:none\" points=\"413.933,1374.75 413.933,1374.28 \"/>\n",
       "<polyline clip-path=\"url(#clip642)\" style=\"stroke:#000000; stroke-linecap:round; stroke-linejoin:round; stroke-width:4; stroke-opacity:1; fill:none\" points=\"548.108,1359.67 548.108,1356.46 \"/>\n",
       "<polyline clip-path=\"url(#clip642)\" style=\"stroke:#000000; stroke-linecap:round; stroke-linejoin:round; stroke-width:4; stroke-opacity:1; fill:none\" points=\"682.282,1334.57 682.282,1330.17 \"/>\n",
       "<polyline clip-path=\"url(#clip642)\" style=\"stroke:#000000; stroke-linecap:round; stroke-linejoin:round; stroke-width:4; stroke-opacity:1; fill:none\" points=\"816.457,1310.68 816.457,1295.82 \"/>\n",
       "<polyline clip-path=\"url(#clip642)\" style=\"stroke:#000000; stroke-linecap:round; stroke-linejoin:round; stroke-width:4; stroke-opacity:1; fill:none\" points=\"950.632,1272.45 950.632,1246.05 \"/>\n",
       "<polyline clip-path=\"url(#clip642)\" style=\"stroke:#000000; stroke-linecap:round; stroke-linejoin:round; stroke-width:4; stroke-opacity:1; fill:none\" points=\"1084.81,1214 1084.81,1203.15 \"/>\n",
       "<polyline clip-path=\"url(#clip642)\" style=\"stroke:#000000; stroke-linecap:round; stroke-linejoin:round; stroke-width:4; stroke-opacity:1; fill:none\" points=\"1218.98,1154.43 1218.98,1146.33 \"/>\n",
       "<polyline clip-path=\"url(#clip642)\" style=\"stroke:#000000; stroke-linecap:round; stroke-linejoin:round; stroke-width:4; stroke-opacity:1; fill:none\" points=\"1353.16,1115.7 1353.16,1068.82 \"/>\n",
       "<polyline clip-path=\"url(#clip642)\" style=\"stroke:#000000; stroke-linecap:round; stroke-linejoin:round; stroke-width:4; stroke-opacity:1; fill:none\" points=\"1487.33,1033.44 1487.33,1012.3 \"/>\n",
       "<polyline clip-path=\"url(#clip642)\" style=\"stroke:#000000; stroke-linecap:round; stroke-linejoin:round; stroke-width:4; stroke-opacity:1; fill:none\" points=\"1621.5,932.81 1621.5,911.457 \"/>\n",
       "<polyline clip-path=\"url(#clip642)\" style=\"stroke:#000000; stroke-linecap:round; stroke-linejoin:round; stroke-width:4; stroke-opacity:1; fill:none\" points=\"1755.68,774.811 1755.68,758.171 \"/>\n",
       "<polyline clip-path=\"url(#clip642)\" style=\"stroke:#000000; stroke-linecap:round; stroke-linejoin:round; stroke-width:4; stroke-opacity:1; fill:none\" points=\"1889.85,736.214 1889.85,651.196 \"/>\n",
       "<polyline clip-path=\"url(#clip642)\" style=\"stroke:#000000; stroke-linecap:round; stroke-linejoin:round; stroke-width:4; stroke-opacity:1; fill:none\" points=\"2024.03,652.917 2024.03,491.387 \"/>\n",
       "<polyline clip-path=\"url(#clip642)\" style=\"stroke:#000000; stroke-linecap:round; stroke-linejoin:round; stroke-width:4; stroke-opacity:1; fill:none\" points=\"2158.2,439.777 2158.2,405.042 \"/>\n",
       "<polyline clip-path=\"url(#clip642)\" style=\"stroke:#000000; stroke-linecap:round; stroke-linejoin:round; stroke-width:4; stroke-opacity:1; fill:none\" points=\"2292.38,187.177 2292.38,160.256 \"/>\n",
       "<line clip-path=\"url(#clip642)\" x1=\"295.759\" y1=\"1386.4\" x2=\"263.759\" y2=\"1386.4\" style=\"stroke:#000000; stroke-width:3.2; stroke-opacity:1\"/>\n",
       "<line clip-path=\"url(#clip642)\" x1=\"295.759\" y1=\"1383.43\" x2=\"263.759\" y2=\"1383.43\" style=\"stroke:#000000; stroke-width:3.2; stroke-opacity:1\"/>\n",
       "<line clip-path=\"url(#clip642)\" x1=\"429.933\" y1=\"1374.75\" x2=\"397.933\" y2=\"1374.75\" style=\"stroke:#000000; stroke-width:3.2; stroke-opacity:1\"/>\n",
       "<line clip-path=\"url(#clip642)\" x1=\"429.933\" y1=\"1374.28\" x2=\"397.933\" y2=\"1374.28\" style=\"stroke:#000000; stroke-width:3.2; stroke-opacity:1\"/>\n",
       "<line clip-path=\"url(#clip642)\" x1=\"564.108\" y1=\"1359.67\" x2=\"532.108\" y2=\"1359.67\" style=\"stroke:#000000; stroke-width:3.2; stroke-opacity:1\"/>\n",
       "<line clip-path=\"url(#clip642)\" x1=\"564.108\" y1=\"1356.46\" x2=\"532.108\" y2=\"1356.46\" style=\"stroke:#000000; stroke-width:3.2; stroke-opacity:1\"/>\n",
       "<line clip-path=\"url(#clip642)\" x1=\"698.282\" y1=\"1334.57\" x2=\"666.282\" y2=\"1334.57\" style=\"stroke:#000000; stroke-width:3.2; stroke-opacity:1\"/>\n",
       "<line clip-path=\"url(#clip642)\" x1=\"698.282\" y1=\"1330.17\" x2=\"666.282\" y2=\"1330.17\" style=\"stroke:#000000; stroke-width:3.2; stroke-opacity:1\"/>\n",
       "<line clip-path=\"url(#clip642)\" x1=\"832.457\" y1=\"1310.68\" x2=\"800.457\" y2=\"1310.68\" style=\"stroke:#000000; stroke-width:3.2; stroke-opacity:1\"/>\n",
       "<line clip-path=\"url(#clip642)\" x1=\"832.457\" y1=\"1295.82\" x2=\"800.457\" y2=\"1295.82\" style=\"stroke:#000000; stroke-width:3.2; stroke-opacity:1\"/>\n",
       "<line clip-path=\"url(#clip642)\" x1=\"966.632\" y1=\"1272.45\" x2=\"934.632\" y2=\"1272.45\" style=\"stroke:#000000; stroke-width:3.2; stroke-opacity:1\"/>\n",
       "<line clip-path=\"url(#clip642)\" x1=\"966.632\" y1=\"1246.05\" x2=\"934.632\" y2=\"1246.05\" style=\"stroke:#000000; stroke-width:3.2; stroke-opacity:1\"/>\n",
       "<line clip-path=\"url(#clip642)\" x1=\"1100.81\" y1=\"1214\" x2=\"1068.81\" y2=\"1214\" style=\"stroke:#000000; stroke-width:3.2; stroke-opacity:1\"/>\n",
       "<line clip-path=\"url(#clip642)\" x1=\"1100.81\" y1=\"1203.15\" x2=\"1068.81\" y2=\"1203.15\" style=\"stroke:#000000; stroke-width:3.2; stroke-opacity:1\"/>\n",
       "<line clip-path=\"url(#clip642)\" x1=\"1234.98\" y1=\"1154.43\" x2=\"1202.98\" y2=\"1154.43\" style=\"stroke:#000000; stroke-width:3.2; stroke-opacity:1\"/>\n",
       "<line clip-path=\"url(#clip642)\" x1=\"1234.98\" y1=\"1146.33\" x2=\"1202.98\" y2=\"1146.33\" style=\"stroke:#000000; stroke-width:3.2; stroke-opacity:1\"/>\n",
       "<line clip-path=\"url(#clip642)\" x1=\"1369.16\" y1=\"1115.7\" x2=\"1337.16\" y2=\"1115.7\" style=\"stroke:#000000; stroke-width:3.2; stroke-opacity:1\"/>\n",
       "<line clip-path=\"url(#clip642)\" x1=\"1369.16\" y1=\"1068.82\" x2=\"1337.16\" y2=\"1068.82\" style=\"stroke:#000000; stroke-width:3.2; stroke-opacity:1\"/>\n",
       "<line clip-path=\"url(#clip642)\" x1=\"1503.33\" y1=\"1033.44\" x2=\"1471.33\" y2=\"1033.44\" style=\"stroke:#000000; stroke-width:3.2; stroke-opacity:1\"/>\n",
       "<line clip-path=\"url(#clip642)\" x1=\"1503.33\" y1=\"1012.3\" x2=\"1471.33\" y2=\"1012.3\" style=\"stroke:#000000; stroke-width:3.2; stroke-opacity:1\"/>\n",
       "<line clip-path=\"url(#clip642)\" x1=\"1637.5\" y1=\"932.81\" x2=\"1605.5\" y2=\"932.81\" style=\"stroke:#000000; stroke-width:3.2; stroke-opacity:1\"/>\n",
       "<line clip-path=\"url(#clip642)\" x1=\"1637.5\" y1=\"911.457\" x2=\"1605.5\" y2=\"911.457\" style=\"stroke:#000000; stroke-width:3.2; stroke-opacity:1\"/>\n",
       "<line clip-path=\"url(#clip642)\" x1=\"1771.68\" y1=\"774.811\" x2=\"1739.68\" y2=\"774.811\" style=\"stroke:#000000; stroke-width:3.2; stroke-opacity:1\"/>\n",
       "<line clip-path=\"url(#clip642)\" x1=\"1771.68\" y1=\"758.171\" x2=\"1739.68\" y2=\"758.171\" style=\"stroke:#000000; stroke-width:3.2; stroke-opacity:1\"/>\n",
       "<line clip-path=\"url(#clip642)\" x1=\"1905.85\" y1=\"736.214\" x2=\"1873.85\" y2=\"736.214\" style=\"stroke:#000000; stroke-width:3.2; stroke-opacity:1\"/>\n",
       "<line clip-path=\"url(#clip642)\" x1=\"1905.85\" y1=\"651.196\" x2=\"1873.85\" y2=\"651.196\" style=\"stroke:#000000; stroke-width:3.2; stroke-opacity:1\"/>\n",
       "<line clip-path=\"url(#clip642)\" x1=\"2040.03\" y1=\"652.917\" x2=\"2008.03\" y2=\"652.917\" style=\"stroke:#000000; stroke-width:3.2; stroke-opacity:1\"/>\n",
       "<line clip-path=\"url(#clip642)\" x1=\"2040.03\" y1=\"491.387\" x2=\"2008.03\" y2=\"491.387\" style=\"stroke:#000000; stroke-width:3.2; stroke-opacity:1\"/>\n",
       "<line clip-path=\"url(#clip642)\" x1=\"2174.2\" y1=\"439.777\" x2=\"2142.2\" y2=\"439.777\" style=\"stroke:#000000; stroke-width:3.2; stroke-opacity:1\"/>\n",
       "<line clip-path=\"url(#clip642)\" x1=\"2174.2\" y1=\"405.042\" x2=\"2142.2\" y2=\"405.042\" style=\"stroke:#000000; stroke-width:3.2; stroke-opacity:1\"/>\n",
       "<line clip-path=\"url(#clip642)\" x1=\"2308.38\" y1=\"187.177\" x2=\"2276.38\" y2=\"187.177\" style=\"stroke:#000000; stroke-width:3.2; stroke-opacity:1\"/>\n",
       "<line clip-path=\"url(#clip642)\" x1=\"2308.38\" y1=\"160.256\" x2=\"2276.38\" y2=\"160.256\" style=\"stroke:#000000; stroke-width:3.2; stroke-opacity:1\"/>\n",
       "<circle clip-path=\"url(#clip642)\" cx=\"279.759\" cy=\"1384.92\" r=\"14.4\" fill=\"#009af9\" fill-rule=\"evenodd\" fill-opacity=\"1\" stroke=\"#000000\" stroke-opacity=\"1\" stroke-width=\"3.2\"/>\n",
       "<circle clip-path=\"url(#clip642)\" cx=\"413.933\" cy=\"1374.51\" r=\"14.4\" fill=\"#009af9\" fill-rule=\"evenodd\" fill-opacity=\"1\" stroke=\"#000000\" stroke-opacity=\"1\" stroke-width=\"3.2\"/>\n",
       "<circle clip-path=\"url(#clip642)\" cx=\"548.108\" cy=\"1358.07\" r=\"14.4\" fill=\"#009af9\" fill-rule=\"evenodd\" fill-opacity=\"1\" stroke=\"#000000\" stroke-opacity=\"1\" stroke-width=\"3.2\"/>\n",
       "<circle clip-path=\"url(#clip642)\" cx=\"682.282\" cy=\"1332.37\" r=\"14.4\" fill=\"#009af9\" fill-rule=\"evenodd\" fill-opacity=\"1\" stroke=\"#000000\" stroke-opacity=\"1\" stroke-width=\"3.2\"/>\n",
       "<circle clip-path=\"url(#clip642)\" cx=\"816.457\" cy=\"1303.25\" r=\"14.4\" fill=\"#009af9\" fill-rule=\"evenodd\" fill-opacity=\"1\" stroke=\"#000000\" stroke-opacity=\"1\" stroke-width=\"3.2\"/>\n",
       "<circle clip-path=\"url(#clip642)\" cx=\"950.632\" cy=\"1259.25\" r=\"14.4\" fill=\"#009af9\" fill-rule=\"evenodd\" fill-opacity=\"1\" stroke=\"#000000\" stroke-opacity=\"1\" stroke-width=\"3.2\"/>\n",
       "<circle clip-path=\"url(#clip642)\" cx=\"1084.81\" cy=\"1208.58\" r=\"14.4\" fill=\"#009af9\" fill-rule=\"evenodd\" fill-opacity=\"1\" stroke=\"#000000\" stroke-opacity=\"1\" stroke-width=\"3.2\"/>\n",
       "<circle clip-path=\"url(#clip642)\" cx=\"1218.98\" cy=\"1150.38\" r=\"14.4\" fill=\"#009af9\" fill-rule=\"evenodd\" fill-opacity=\"1\" stroke=\"#000000\" stroke-opacity=\"1\" stroke-width=\"3.2\"/>\n",
       "<circle clip-path=\"url(#clip642)\" cx=\"1353.16\" cy=\"1092.26\" r=\"14.4\" fill=\"#009af9\" fill-rule=\"evenodd\" fill-opacity=\"1\" stroke=\"#000000\" stroke-opacity=\"1\" stroke-width=\"3.2\"/>\n",
       "<circle clip-path=\"url(#clip642)\" cx=\"1487.33\" cy=\"1022.87\" r=\"14.4\" fill=\"#009af9\" fill-rule=\"evenodd\" fill-opacity=\"1\" stroke=\"#000000\" stroke-opacity=\"1\" stroke-width=\"3.2\"/>\n",
       "<circle clip-path=\"url(#clip642)\" cx=\"1621.5\" cy=\"922.133\" r=\"14.4\" fill=\"#009af9\" fill-rule=\"evenodd\" fill-opacity=\"1\" stroke=\"#000000\" stroke-opacity=\"1\" stroke-width=\"3.2\"/>\n",
       "<circle clip-path=\"url(#clip642)\" cx=\"1755.68\" cy=\"766.491\" r=\"14.4\" fill=\"#009af9\" fill-rule=\"evenodd\" fill-opacity=\"1\" stroke=\"#000000\" stroke-opacity=\"1\" stroke-width=\"3.2\"/>\n",
       "<circle clip-path=\"url(#clip642)\" cx=\"1889.85\" cy=\"693.705\" r=\"14.4\" fill=\"#009af9\" fill-rule=\"evenodd\" fill-opacity=\"1\" stroke=\"#000000\" stroke-opacity=\"1\" stroke-width=\"3.2\"/>\n",
       "<circle clip-path=\"url(#clip642)\" cx=\"2024.03\" cy=\"572.152\" r=\"14.4\" fill=\"#009af9\" fill-rule=\"evenodd\" fill-opacity=\"1\" stroke=\"#000000\" stroke-opacity=\"1\" stroke-width=\"3.2\"/>\n",
       "<circle clip-path=\"url(#clip642)\" cx=\"2158.2\" cy=\"422.41\" r=\"14.4\" fill=\"#009af9\" fill-rule=\"evenodd\" fill-opacity=\"1\" stroke=\"#000000\" stroke-opacity=\"1\" stroke-width=\"3.2\"/>\n",
       "<circle clip-path=\"url(#clip642)\" cx=\"2292.38\" cy=\"173.717\" r=\"14.4\" fill=\"#009af9\" fill-rule=\"evenodd\" fill-opacity=\"1\" stroke=\"#000000\" stroke-opacity=\"1\" stroke-width=\"3.2\"/>\n",
       "<path clip-path=\"url(#clip640)\" d=\"M290.493 270.476 L626.492 270.476 L626.492 166.796 L290.493 166.796  Z\" fill=\"#ffffff\" fill-rule=\"evenodd\" fill-opacity=\"1\"/>\n",
       "<polyline clip-path=\"url(#clip640)\" style=\"stroke:#000000; stroke-linecap:round; stroke-linejoin:round; stroke-width:4; stroke-opacity:1; fill:none\" points=\"290.493,270.476 626.492,270.476 626.492,166.796 290.493,166.796 290.493,270.476 \"/>\n",
       "<circle clip-path=\"url(#clip640)\" cx=\"385.309\" cy=\"218.636\" r=\"20.48\" fill=\"#009af9\" fill-rule=\"evenodd\" fill-opacity=\"1\" stroke=\"#000000\" stroke-opacity=\"1\" stroke-width=\"4.55111\"/>\n",
       "<path clip-path=\"url(#clip640)\" d=\"M501.839 220.268 L501.839 235.916 L497.58 235.916 L497.58 220.407 Q497.58 216.726 496.145 214.897 Q494.709 213.069 491.839 213.069 Q488.39 213.069 486.399 215.268 Q484.408 217.467 484.408 221.263 L484.408 235.916 L480.126 235.916 L480.126 209.99 L484.408 209.99 L484.408 214.018 Q485.936 211.68 487.996 210.522 Q490.08 209.365 492.788 209.365 Q497.256 209.365 499.547 212.143 Q501.839 214.897 501.839 220.268 Z\" fill=\"#000000\" fill-rule=\"nonzero\" fill-opacity=\"1\" /><path clip-path=\"url(#clip640)\" d=\"M522.117 222.883 Q516.955 222.883 514.964 224.064 Q512.973 225.244 512.973 228.092 Q512.973 230.36 514.455 231.703 Q515.959 233.022 518.529 233.022 Q522.07 233.022 524.2 230.522 Q526.353 227.999 526.353 223.832 L526.353 222.883 L522.117 222.883 M530.612 221.124 L530.612 235.916 L526.353 235.916 L526.353 231.981 Q524.894 234.342 522.718 235.476 Q520.543 236.587 517.394 236.587 Q513.413 236.587 511.052 234.365 Q508.714 232.119 508.714 228.369 Q508.714 223.994 511.631 221.772 Q514.57 219.55 520.38 219.55 L526.353 219.55 L526.353 219.133 Q526.353 216.194 524.408 214.596 Q522.487 212.976 518.992 212.976 Q516.769 212.976 514.663 213.508 Q512.556 214.041 510.612 215.106 L510.612 211.17 Q512.95 210.268 515.149 209.828 Q517.348 209.365 519.431 209.365 Q525.056 209.365 527.834 212.282 Q530.612 215.198 530.612 221.124 Z\" fill=\"#000000\" fill-rule=\"nonzero\" fill-opacity=\"1\" /><path clip-path=\"url(#clip640)\" d=\"M539.385 209.99 L543.644 209.99 L543.644 235.916 L539.385 235.916 L539.385 209.99 M539.385 199.897 L543.644 199.897 L543.644 205.291 L539.385 205.291 L539.385 199.897 Z\" fill=\"#000000\" fill-rule=\"nonzero\" fill-opacity=\"1\" /><path clip-path=\"url(#clip640)\" d=\"M549.501 209.99 L554.015 209.99 L562.116 231.749 L570.218 209.99 L574.732 209.99 L565.01 235.916 L559.223 235.916 L549.501 209.99 Z\" fill=\"#000000\" fill-rule=\"nonzero\" fill-opacity=\"1\" /><path clip-path=\"url(#clip640)\" d=\"M602.787 221.888 L602.787 223.971 L583.204 223.971 Q583.482 228.369 585.843 230.684 Q588.227 232.976 592.463 232.976 Q594.917 232.976 597.209 232.374 Q599.524 231.772 601.792 230.569 L601.792 234.596 Q599.5 235.568 597.093 236.078 Q594.686 236.587 592.209 236.587 Q586.005 236.587 582.371 232.976 Q578.76 229.365 578.76 223.207 Q578.76 216.842 582.186 213.115 Q585.635 209.365 591.468 209.365 Q596.7 209.365 599.732 212.745 Q602.787 216.101 602.787 221.888 M598.528 220.638 Q598.482 217.143 596.561 215.059 Q594.663 212.976 591.514 212.976 Q587.95 212.976 585.797 214.99 Q583.667 217.004 583.343 220.661 L598.528 220.638 Z\" fill=\"#000000\" fill-rule=\"nonzero\" fill-opacity=\"1\" /></svg>\n"
      ]
     },
     "execution_count": 47,
     "metadata": {},
     "output_type": "execute_result"
    }
   ],
   "source": [
    "cdf = CSV.read(\"cresults.csv\", delim=\",\", DataFrame)\n",
    "cdf = groupby(cdf, [:size, :multiplication_type])\n",
    "cdf = combine(cdf, :time => mean, :time => std)\n",
    "cdf = filter(:multiplication_type => n -> n == \"naive\", cdf)\n",
    "c_plot = @df cdf scatter(:size, :time_mean, group=:multiplication_type, yerr=:time_std, title = \"C matrix multiplication time by size\", ylabel=\"Time [s]\", xlabel=\"Matrix sizes\")"
   ]
  },
  {
   "cell_type": "code",
   "execution_count": 48,
   "id": "07ef48f6",
   "metadata": {},
   "outputs": [
    {
     "data": {
      "text/plain": [
       "16-element Vector{Float64}:\n",
       " 0.0040363000000000005\n",
       " 0.006600400000000001\n",
       " 0.0106541\n",
       " 0.016988499999999997\n",
       " 0.024166299999999998\n",
       " 0.0350115\n",
       " 0.0475018\n",
       " 0.06184759999999999\n",
       " 0.07617349999999999\n",
       " 0.0932781\n",
       " 0.1181082\n",
       " 0.1564727\n",
       " 0.17441389999999998\n",
       " 0.20437580000000005\n",
       " 0.24128599999999997\n",
       " 0.30258670000000004"
      ]
     },
     "execution_count": 48,
     "metadata": {},
     "output_type": "execute_result"
    }
   ],
   "source": [
    "x = collect(100:20:400)\n",
    "y = cdf[!, :time_mean]"
   ]
  },
  {
   "cell_type": "code",
   "execution_count": 49,
   "id": "cf6a015f",
   "metadata": {},
   "outputs": [
    {
     "data": {
      "text/plain": [
       "16×4 Matrix{Float64}:\n",
       " 1.0e6      10000.0  100.0  1.0\n",
       " 1.728e6    14400.0  120.0  1.0\n",
       " 2.744e6    19600.0  140.0  1.0\n",
       " 4.096e6    25600.0  160.0  1.0\n",
       " 5.832e6    32400.0  180.0  1.0\n",
       " 8.0e6      40000.0  200.0  1.0\n",
       " 1.0648e7   48400.0  220.0  1.0\n",
       " 1.3824e7   57600.0  240.0  1.0\n",
       " 1.7576e7   67600.0  260.0  1.0\n",
       " 2.1952e7   78400.0  280.0  1.0\n",
       " 2.7e7      90000.0  300.0  1.0\n",
       " 3.2768e7  102400.0  320.0  1.0\n",
       " 3.9304e7  115600.0  340.0  1.0\n",
       " 4.6656e7  129600.0  360.0  1.0\n",
       " 5.4872e7  144400.0  380.0  1.0\n",
       " 6.4e7     160000.0  400.0  1.0"
      ]
     },
     "execution_count": 49,
     "metadata": {},
     "output_type": "execute_result"
    }
   ],
   "source": [
    "A = zeros(length(x), 4)\n",
    "for col in 1:4\n",
    "    ex = 4 - col\n",
    "    A[:, col] = x.^ex\n",
    "end\n",
    "A"
   ]
  },
  {
   "cell_type": "code",
   "execution_count": 50,
   "id": "00b651a2",
   "metadata": {},
   "outputs": [
    {
     "data": {
      "text/plain": [
       "4-element Vector{Float64}:\n",
       "  6.830617491598614e-9\n",
       " -1.5403832867661917e-6\n",
       "  0.0003097696890156366\n",
       " -0.020004956208679075"
      ]
     },
     "execution_count": 50,
     "metadata": {},
     "output_type": "execute_result"
    }
   ],
   "source": [
    "A \\ y"
   ]
  },
  {
   "cell_type": "code",
   "execution_count": 51,
   "id": "8e048915",
   "metadata": {},
   "outputs": [
    {
     "data": {
      "text/html": [
       "&#45;0.020004956208679075 &#43; 0.0003097696890156366&#8729;x &#45; 1.5403832867661917e-6&#8729;x<sup>2</sup> &#43; 6.830617491598614e-9&#8729;x<sup>3</sup>"
      ],
      "text/latex": [
       "$-0.020004956208679075 + 0.0003097696890156366\\cdot x - 1.5403832867661917e-6\\cdot x^{2} + 6.830617491598614e-9\\cdot x^{3}$"
      ],
      "text/plain": [
       "Polynomial(-0.020004956208679075 + 0.0003097696890156366*x - 1.5403832867661917e-6*x^2 + 6.830617491598614e-9*x^3)"
      ]
     },
     "execution_count": 51,
     "metadata": {},
     "output_type": "execute_result"
    }
   ],
   "source": [
    "using Polynomials\n",
    "fit(x,y, 3)"
   ]
  },
  {
   "cell_type": "code",
   "execution_count": 52,
   "id": "b6955490",
   "metadata": {},
   "outputs": [
    {
     "data": {
      "image/svg+xml": [
       "<?xml version=\"1.0\" encoding=\"utf-8\"?>\n",
       "<svg xmlns=\"http://www.w3.org/2000/svg\" xmlns:xlink=\"http://www.w3.org/1999/xlink\" width=\"600\" height=\"400\" viewBox=\"0 0 2400 1600\">\n",
       "<defs>\n",
       "  <clipPath id=\"clip680\">\n",
       "    <rect x=\"0\" y=\"0\" width=\"2400\" height=\"1600\"/>\n",
       "  </clipPath>\n",
       "</defs>\n",
       "<path clip-path=\"url(#clip680)\" d=\"M0 1600 L2400 1600 L2400 0 L0 0  Z\" fill=\"#ffffff\" fill-rule=\"evenodd\" fill-opacity=\"1\"/>\n",
       "<defs>\n",
       "  <clipPath id=\"clip681\">\n",
       "    <rect x=\"480\" y=\"0\" width=\"1681\" height=\"1600\"/>\n",
       "  </clipPath>\n",
       "</defs>\n",
       "<path clip-path=\"url(#clip680)\" d=\"M219.38 1423.18 L2352.76 1423.18 L2352.76 123.472 L219.38 123.472  Z\" fill=\"#ffffff\" fill-rule=\"evenodd\" fill-opacity=\"1\"/>\n",
       "<defs>\n",
       "  <clipPath id=\"clip682\">\n",
       "    <rect x=\"219\" y=\"123\" width=\"2134\" height=\"1301\"/>\n",
       "  </clipPath>\n",
       "</defs>\n",
       "<polyline clip-path=\"url(#clip682)\" style=\"stroke:#000000; stroke-linecap:round; stroke-linejoin:round; stroke-width:2; stroke-opacity:0.1; fill:none\" points=\"279.759,1423.18 279.759,123.472 \"/>\n",
       "<polyline clip-path=\"url(#clip682)\" style=\"stroke:#000000; stroke-linecap:round; stroke-linejoin:round; stroke-width:2; stroke-opacity:0.1; fill:none\" points=\"950.632,1423.18 950.632,123.472 \"/>\n",
       "<polyline clip-path=\"url(#clip682)\" style=\"stroke:#000000; stroke-linecap:round; stroke-linejoin:round; stroke-width:2; stroke-opacity:0.1; fill:none\" points=\"1621.5,1423.18 1621.5,123.472 \"/>\n",
       "<polyline clip-path=\"url(#clip682)\" style=\"stroke:#000000; stroke-linecap:round; stroke-linejoin:round; stroke-width:2; stroke-opacity:0.1; fill:none\" points=\"2292.38,1423.18 2292.38,123.472 \"/>\n",
       "<polyline clip-path=\"url(#clip680)\" style=\"stroke:#000000; stroke-linecap:round; stroke-linejoin:round; stroke-width:4; stroke-opacity:1; fill:none\" points=\"219.38,1423.18 2352.76,1423.18 \"/>\n",
       "<polyline clip-path=\"url(#clip680)\" style=\"stroke:#000000; stroke-linecap:round; stroke-linejoin:round; stroke-width:4; stroke-opacity:1; fill:none\" points=\"279.759,1423.18 279.759,1404.28 \"/>\n",
       "<polyline clip-path=\"url(#clip680)\" style=\"stroke:#000000; stroke-linecap:round; stroke-linejoin:round; stroke-width:4; stroke-opacity:1; fill:none\" points=\"950.632,1423.18 950.632,1404.28 \"/>\n",
       "<polyline clip-path=\"url(#clip680)\" style=\"stroke:#000000; stroke-linecap:round; stroke-linejoin:round; stroke-width:4; stroke-opacity:1; fill:none\" points=\"1621.5,1423.18 1621.5,1404.28 \"/>\n",
       "<polyline clip-path=\"url(#clip680)\" style=\"stroke:#000000; stroke-linecap:round; stroke-linejoin:round; stroke-width:4; stroke-opacity:1; fill:none\" points=\"2292.38,1423.18 2292.38,1404.28 \"/>\n",
       "<path clip-path=\"url(#clip680)\" d=\"M239.365 1481.64 L247.004 1481.64 L247.004 1455.28 L238.694 1456.95 L238.694 1452.69 L246.958 1451.02 L251.634 1451.02 L251.634 1481.64 L259.273 1481.64 L259.273 1485.58 L239.365 1485.58 L239.365 1481.64 Z\" fill=\"#000000\" fill-rule=\"nonzero\" fill-opacity=\"1\" /><path clip-path=\"url(#clip680)\" d=\"M278.717 1454.1 Q275.106 1454.1 273.277 1457.66 Q271.472 1461.2 271.472 1468.33 Q271.472 1475.44 273.277 1479.01 Q275.106 1482.55 278.717 1482.55 Q282.351 1482.55 284.157 1479.01 Q285.986 1475.44 285.986 1468.33 Q285.986 1461.2 284.157 1457.66 Q282.351 1454.1 278.717 1454.1 M278.717 1450.39 Q284.527 1450.39 287.583 1455 Q290.661 1459.58 290.661 1468.33 Q290.661 1477.06 287.583 1481.67 Q284.527 1486.25 278.717 1486.25 Q272.907 1486.25 269.828 1481.67 Q266.773 1477.06 266.773 1468.33 Q266.773 1459.58 269.828 1455 Q272.907 1450.39 278.717 1450.39 Z\" fill=\"#000000\" fill-rule=\"nonzero\" fill-opacity=\"1\" /><path clip-path=\"url(#clip680)\" d=\"M308.879 1454.1 Q305.268 1454.1 303.439 1457.66 Q301.634 1461.2 301.634 1468.33 Q301.634 1475.44 303.439 1479.01 Q305.268 1482.55 308.879 1482.55 Q312.513 1482.55 314.319 1479.01 Q316.147 1475.44 316.147 1468.33 Q316.147 1461.2 314.319 1457.66 Q312.513 1454.1 308.879 1454.1 M308.879 1450.39 Q314.689 1450.39 317.745 1455 Q320.823 1459.58 320.823 1468.33 Q320.823 1477.06 317.745 1481.67 Q314.689 1486.25 308.879 1486.25 Q303.069 1486.25 299.99 1481.67 Q296.935 1477.06 296.935 1468.33 Q296.935 1459.58 299.99 1455 Q303.069 1450.39 308.879 1450.39 Z\" fill=\"#000000\" fill-rule=\"nonzero\" fill-opacity=\"1\" /><path clip-path=\"url(#clip680)\" d=\"M914.324 1481.64 L930.643 1481.64 L930.643 1485.58 L908.699 1485.58 L908.699 1481.64 Q911.361 1478.89 915.944 1474.26 Q920.551 1469.61 921.731 1468.27 Q923.977 1465.74 924.856 1464.01 Q925.759 1462.25 925.759 1460.56 Q925.759 1457.8 923.815 1456.07 Q921.893 1454.33 918.791 1454.33 Q916.592 1454.33 914.139 1455.09 Q911.708 1455.86 908.93 1457.41 L908.93 1452.69 Q911.754 1451.55 914.208 1450.97 Q916.662 1450.39 918.699 1450.39 Q924.069 1450.39 927.264 1453.08 Q930.458 1455.77 930.458 1460.26 Q930.458 1462.39 929.648 1464.31 Q928.861 1466.2 926.754 1468.8 Q926.176 1469.47 923.074 1472.69 Q919.972 1475.88 914.324 1481.64 Z\" fill=\"#000000\" fill-rule=\"nonzero\" fill-opacity=\"1\" /><path clip-path=\"url(#clip680)\" d=\"M950.458 1454.1 Q946.847 1454.1 945.018 1457.66 Q943.213 1461.2 943.213 1468.33 Q943.213 1475.44 945.018 1479.01 Q946.847 1482.55 950.458 1482.55 Q954.092 1482.55 955.898 1479.01 Q957.726 1475.44 957.726 1468.33 Q957.726 1461.2 955.898 1457.66 Q954.092 1454.1 950.458 1454.1 M950.458 1450.39 Q956.268 1450.39 959.324 1455 Q962.402 1459.58 962.402 1468.33 Q962.402 1477.06 959.324 1481.67 Q956.268 1486.25 950.458 1486.25 Q944.648 1486.25 941.569 1481.67 Q938.514 1477.06 938.514 1468.33 Q938.514 1459.58 941.569 1455 Q944.648 1450.39 950.458 1450.39 Z\" fill=\"#000000\" fill-rule=\"nonzero\" fill-opacity=\"1\" /><path clip-path=\"url(#clip680)\" d=\"M980.62 1454.1 Q977.009 1454.1 975.18 1457.66 Q973.375 1461.2 973.375 1468.33 Q973.375 1475.44 975.18 1479.01 Q977.009 1482.55 980.62 1482.55 Q984.254 1482.55 986.06 1479.01 Q987.888 1475.44 987.888 1468.33 Q987.888 1461.2 986.06 1457.66 Q984.254 1454.1 980.62 1454.1 M980.62 1450.39 Q986.43 1450.39 989.486 1455 Q992.564 1459.58 992.564 1468.33 Q992.564 1477.06 989.486 1481.67 Q986.43 1486.25 980.62 1486.25 Q974.81 1486.25 971.731 1481.67 Q968.675 1477.06 968.675 1468.33 Q968.675 1459.58 971.731 1455 Q974.81 1450.39 980.62 1450.39 Z\" fill=\"#000000\" fill-rule=\"nonzero\" fill-opacity=\"1\" /><path clip-path=\"url(#clip680)\" d=\"M1595.27 1466.95 Q1598.62 1467.66 1600.5 1469.93 Q1602.4 1472.2 1602.4 1475.53 Q1602.4 1480.65 1598.88 1483.45 Q1595.36 1486.25 1588.88 1486.25 Q1586.7 1486.25 1584.39 1485.81 Q1582.09 1485.39 1579.64 1484.54 L1579.64 1480.02 Q1581.59 1481.16 1583.9 1481.74 Q1586.22 1482.32 1588.74 1482.32 Q1593.14 1482.32 1595.43 1480.58 Q1597.74 1478.84 1597.74 1475.53 Q1597.74 1472.48 1595.59 1470.77 Q1593.46 1469.03 1589.64 1469.03 L1585.61 1469.03 L1585.61 1465.19 L1589.83 1465.19 Q1593.28 1465.19 1595.1 1463.82 Q1596.93 1462.43 1596.93 1459.84 Q1596.93 1457.18 1595.03 1455.77 Q1593.16 1454.33 1589.64 1454.33 Q1587.72 1454.33 1585.52 1454.75 Q1583.32 1455.16 1580.68 1456.04 L1580.68 1451.88 Q1583.34 1451.14 1585.66 1450.77 Q1588 1450.39 1590.06 1450.39 Q1595.38 1450.39 1598.48 1452.83 Q1601.59 1455.23 1601.59 1459.35 Q1601.59 1462.22 1599.94 1464.21 Q1598.3 1466.18 1595.27 1466.95 Z\" fill=\"#000000\" fill-rule=\"nonzero\" fill-opacity=\"1\" /><path clip-path=\"url(#clip680)\" d=\"M1621.26 1454.1 Q1617.65 1454.1 1615.82 1457.66 Q1614.02 1461.2 1614.02 1468.33 Q1614.02 1475.44 1615.82 1479.01 Q1617.65 1482.55 1621.26 1482.55 Q1624.9 1482.55 1626.7 1479.01 Q1628.53 1475.44 1628.53 1468.33 Q1628.53 1461.2 1626.7 1457.66 Q1624.9 1454.1 1621.26 1454.1 M1621.26 1450.39 Q1627.07 1450.39 1630.13 1455 Q1633.21 1459.58 1633.21 1468.33 Q1633.21 1477.06 1630.13 1481.67 Q1627.07 1486.25 1621.26 1486.25 Q1615.45 1486.25 1612.37 1481.67 Q1609.32 1477.06 1609.32 1468.33 Q1609.32 1459.58 1612.37 1455 Q1615.45 1450.39 1621.26 1450.39 Z\" fill=\"#000000\" fill-rule=\"nonzero\" fill-opacity=\"1\" /><path clip-path=\"url(#clip680)\" d=\"M1651.42 1454.1 Q1647.81 1454.1 1645.98 1457.66 Q1644.18 1461.2 1644.18 1468.33 Q1644.18 1475.44 1645.98 1479.01 Q1647.81 1482.55 1651.42 1482.55 Q1655.06 1482.55 1656.86 1479.01 Q1658.69 1475.44 1658.69 1468.33 Q1658.69 1461.2 1656.86 1457.66 Q1655.06 1454.1 1651.42 1454.1 M1651.42 1450.39 Q1657.23 1450.39 1660.29 1455 Q1663.37 1459.58 1663.37 1468.33 Q1663.37 1477.06 1660.29 1481.67 Q1657.23 1486.25 1651.42 1486.25 Q1645.61 1486.25 1642.53 1481.67 Q1639.48 1477.06 1639.48 1468.33 Q1639.48 1459.58 1642.53 1455 Q1645.61 1450.39 1651.42 1450.39 Z\" fill=\"#000000\" fill-rule=\"nonzero\" fill-opacity=\"1\" /><path clip-path=\"url(#clip680)\" d=\"M2265.47 1455.09 L2253.66 1473.54 L2265.47 1473.54 L2265.47 1455.09 M2264.24 1451.02 L2270.12 1451.02 L2270.12 1473.54 L2275.05 1473.54 L2275.05 1477.43 L2270.12 1477.43 L2270.12 1485.58 L2265.47 1485.58 L2265.47 1477.43 L2249.87 1477.43 L2249.87 1472.92 L2264.24 1451.02 Z\" fill=\"#000000\" fill-rule=\"nonzero\" fill-opacity=\"1\" /><path clip-path=\"url(#clip680)\" d=\"M2292.78 1454.1 Q2289.17 1454.1 2287.34 1457.66 Q2285.54 1461.2 2285.54 1468.33 Q2285.54 1475.44 2287.34 1479.01 Q2289.17 1482.55 2292.78 1482.55 Q2296.42 1482.55 2298.22 1479.01 Q2300.05 1475.44 2300.05 1468.33 Q2300.05 1461.2 2298.22 1457.66 Q2296.42 1454.1 2292.78 1454.1 M2292.78 1450.39 Q2298.59 1450.39 2301.65 1455 Q2304.73 1459.58 2304.73 1468.33 Q2304.73 1477.06 2301.65 1481.67 Q2298.59 1486.25 2292.78 1486.25 Q2286.97 1486.25 2283.89 1481.67 Q2280.84 1477.06 2280.84 1468.33 Q2280.84 1459.58 2283.89 1455 Q2286.97 1450.39 2292.78 1450.39 Z\" fill=\"#000000\" fill-rule=\"nonzero\" fill-opacity=\"1\" /><path clip-path=\"url(#clip680)\" d=\"M2322.94 1454.1 Q2319.33 1454.1 2317.5 1457.66 Q2315.7 1461.2 2315.7 1468.33 Q2315.7 1475.44 2317.5 1479.01 Q2319.33 1482.55 2322.94 1482.55 Q2326.58 1482.55 2328.38 1479.01 Q2330.21 1475.44 2330.21 1468.33 Q2330.21 1461.2 2328.38 1457.66 Q2326.58 1454.1 2322.94 1454.1 M2322.94 1450.39 Q2328.75 1450.39 2331.81 1455 Q2334.89 1459.58 2334.89 1468.33 Q2334.89 1477.06 2331.81 1481.67 Q2328.75 1486.25 2322.94 1486.25 Q2317.13 1486.25 2314.06 1481.67 Q2311 1477.06 2311 1468.33 Q2311 1459.58 2314.06 1455 Q2317.13 1450.39 2322.94 1450.39 Z\" fill=\"#000000\" fill-rule=\"nonzero\" fill-opacity=\"1\" /><path clip-path=\"url(#clip680)\" d=\"M1097.71 1520.52 L1107.29 1520.52 L1119.41 1552.86 L1131.6 1520.52 L1141.18 1520.52 L1141.18 1568.04 L1134.91 1568.04 L1134.91 1526.32 L1122.66 1558.91 L1116.2 1558.91 L1103.95 1526.32 L1103.95 1568.04 L1097.71 1568.04 L1097.71 1520.52 Z\" fill=\"#000000\" fill-rule=\"nonzero\" fill-opacity=\"1\" /><path clip-path=\"url(#clip680)\" d=\"M1169.89 1550.12 Q1162.8 1550.12 1160.06 1551.75 Q1157.32 1553.37 1157.32 1557.29 Q1157.32 1560.4 1159.36 1562.25 Q1161.43 1564.07 1164.96 1564.07 Q1169.83 1564.07 1172.76 1560.63 Q1175.72 1557.16 1175.72 1551.43 L1175.72 1550.12 L1169.89 1550.12 M1181.57 1547.71 L1181.57 1568.04 L1175.72 1568.04 L1175.72 1562.63 Q1173.71 1565.88 1170.72 1567.44 Q1167.73 1568.97 1163.4 1568.97 Q1157.93 1568.97 1154.68 1565.91 Q1151.47 1562.82 1151.47 1557.67 Q1151.47 1551.65 1155.48 1548.6 Q1159.52 1545.54 1167.51 1545.54 L1175.72 1545.54 L1175.72 1544.97 Q1175.72 1540.93 1173.04 1538.73 Q1170.4 1536.5 1165.6 1536.5 Q1162.54 1536.5 1159.65 1537.23 Q1156.75 1537.97 1154.08 1539.43 L1154.08 1534.02 Q1157.29 1532.78 1160.31 1532.17 Q1163.34 1531.54 1166.2 1531.54 Q1173.94 1531.54 1177.76 1535.55 Q1181.57 1539.56 1181.57 1547.71 Z\" fill=\"#000000\" fill-rule=\"nonzero\" fill-opacity=\"1\" /><path clip-path=\"url(#clip680)\" d=\"M1199.43 1522.27 L1199.43 1532.4 L1211.49 1532.4 L1211.49 1536.95 L1199.43 1536.95 L1199.43 1556.3 Q1199.43 1560.66 1200.61 1561.9 Q1201.82 1563.14 1205.48 1563.14 L1211.49 1563.14 L1211.49 1568.04 L1205.48 1568.04 Q1198.7 1568.04 1196.12 1565.53 Q1193.54 1562.98 1193.54 1556.3 L1193.54 1536.95 L1189.25 1536.95 L1189.25 1532.4 L1193.54 1532.4 L1193.54 1522.27 L1199.43 1522.27 Z\" fill=\"#000000\" fill-rule=\"nonzero\" fill-opacity=\"1\" /><path clip-path=\"url(#clip680)\" d=\"M1239.85 1537.87 Q1238.87 1537.3 1237.69 1537.04 Q1236.54 1536.76 1235.14 1536.76 Q1230.18 1536.76 1227.5 1540 Q1224.86 1543.22 1224.86 1549.27 L1224.86 1568.04 L1218.97 1568.04 L1218.97 1532.4 L1224.86 1532.4 L1224.86 1537.93 Q1226.71 1534.69 1229.67 1533.13 Q1232.63 1531.54 1236.86 1531.54 Q1237.47 1531.54 1238.2 1531.63 Q1238.93 1531.7 1239.82 1531.85 L1239.85 1537.87 Z\" fill=\"#000000\" fill-rule=\"nonzero\" fill-opacity=\"1\" /><path clip-path=\"url(#clip680)\" d=\"M1246 1532.4 L1251.85 1532.4 L1251.85 1568.04 L1246 1568.04 L1246 1532.4 M1246 1518.52 L1251.85 1518.52 L1251.85 1525.93 L1246 1525.93 L1246 1518.52 Z\" fill=\"#000000\" fill-rule=\"nonzero\" fill-opacity=\"1\" /><path clip-path=\"url(#clip680)\" d=\"M1293.74 1532.4 L1280.85 1549.74 L1294.41 1568.04 L1287.5 1568.04 L1277.12 1554.04 L1266.75 1568.04 L1259.84 1568.04 L1273.69 1549.39 L1261.02 1532.4 L1267.93 1532.4 L1277.38 1545.1 L1286.83 1532.4 L1293.74 1532.4 Z\" fill=\"#000000\" fill-rule=\"nonzero\" fill-opacity=\"1\" /><path clip-path=\"url(#clip680)\" d=\"M1346.13 1533.45 L1346.13 1538.98 Q1343.65 1537.71 1340.97 1537.07 Q1338.3 1536.44 1335.43 1536.44 Q1331.07 1536.44 1328.88 1537.77 Q1326.71 1539.11 1326.71 1541.79 Q1326.71 1543.82 1328.27 1545 Q1329.83 1546.15 1334.54 1547.2 L1336.55 1547.64 Q1342.79 1548.98 1345.4 1551.43 Q1348.04 1553.85 1348.04 1558.21 Q1348.04 1563.17 1344.09 1566.07 Q1340.18 1568.97 1333.3 1568.97 Q1330.44 1568.97 1327.32 1568.39 Q1324.23 1567.85 1320.79 1566.74 L1320.79 1560.69 Q1324.04 1562.38 1327.19 1563.24 Q1330.34 1564.07 1333.43 1564.07 Q1337.57 1564.07 1339.79 1562.66 Q1342.02 1561.23 1342.02 1558.65 Q1342.02 1556.27 1340.4 1554.99 Q1338.81 1553.72 1333.37 1552.54 L1331.33 1552.07 Q1325.89 1550.92 1323.47 1548.56 Q1321.05 1546.18 1321.05 1542.04 Q1321.05 1537.01 1324.61 1534.27 Q1328.18 1531.54 1334.73 1531.54 Q1337.98 1531.54 1340.84 1532.01 Q1343.71 1532.49 1346.13 1533.45 Z\" fill=\"#000000\" fill-rule=\"nonzero\" fill-opacity=\"1\" /><path clip-path=\"url(#clip680)\" d=\"M1357.36 1532.4 L1363.22 1532.4 L1363.22 1568.04 L1357.36 1568.04 L1357.36 1532.4 M1357.36 1518.52 L1363.22 1518.52 L1363.22 1525.93 L1357.36 1525.93 L1357.36 1518.52 Z\" fill=\"#000000\" fill-rule=\"nonzero\" fill-opacity=\"1\" /><path clip-path=\"url(#clip680)\" d=\"M1372.93 1532.4 L1400.75 1532.4 L1400.75 1537.74 L1378.72 1563.37 L1400.75 1563.37 L1400.75 1568.04 L1372.13 1568.04 L1372.13 1562.7 L1394.16 1537.07 L1372.93 1537.07 L1372.93 1532.4 Z\" fill=\"#000000\" fill-rule=\"nonzero\" fill-opacity=\"1\" /><path clip-path=\"url(#clip680)\" d=\"M1440.18 1548.76 L1440.18 1551.62 L1413.25 1551.62 Q1413.64 1557.67 1416.88 1560.85 Q1420.16 1564 1425.99 1564 Q1429.36 1564 1432.51 1563.17 Q1435.69 1562.35 1438.81 1560.69 L1438.81 1566.23 Q1435.66 1567.57 1432.35 1568.27 Q1429.04 1568.97 1425.64 1568.97 Q1417.11 1568.97 1412.11 1564 Q1407.14 1559.04 1407.14 1550.57 Q1407.14 1541.82 1411.85 1536.69 Q1416.6 1531.54 1424.62 1531.54 Q1431.81 1531.54 1435.98 1536.18 Q1440.18 1540.8 1440.18 1548.76 M1434.33 1547.04 Q1434.26 1542.23 1431.62 1539.37 Q1429.01 1536.5 1424.68 1536.5 Q1419.78 1536.5 1416.82 1539.27 Q1413.89 1542.04 1413.45 1547.07 L1434.33 1547.04 Z\" fill=\"#000000\" fill-rule=\"nonzero\" fill-opacity=\"1\" /><path clip-path=\"url(#clip680)\" d=\"M1472.52 1533.45 L1472.52 1538.98 Q1470.04 1537.71 1467.36 1537.07 Q1464.69 1536.44 1461.83 1536.44 Q1457.46 1536.44 1455.27 1537.77 Q1453.1 1539.11 1453.1 1541.79 Q1453.1 1543.82 1454.66 1545 Q1456.22 1546.15 1460.93 1547.2 L1462.94 1547.64 Q1469.18 1548.98 1471.79 1551.43 Q1474.43 1553.85 1474.43 1558.21 Q1474.43 1563.17 1470.48 1566.07 Q1466.57 1568.97 1459.69 1568.97 Q1456.83 1568.97 1453.71 1568.39 Q1450.62 1567.85 1447.18 1566.74 L1447.18 1560.69 Q1450.43 1562.38 1453.58 1563.24 Q1456.73 1564.07 1459.82 1564.07 Q1463.96 1564.07 1466.19 1562.66 Q1468.41 1561.23 1468.41 1558.65 Q1468.41 1556.27 1466.79 1554.99 Q1465.2 1553.72 1459.76 1552.54 L1457.72 1552.07 Q1452.28 1550.92 1449.86 1548.56 Q1447.44 1546.18 1447.44 1542.04 Q1447.44 1537.01 1451 1534.27 Q1454.57 1531.54 1461.12 1531.54 Q1464.37 1531.54 1467.24 1532.01 Q1470.1 1532.49 1472.52 1533.45 Z\" fill=\"#000000\" fill-rule=\"nonzero\" fill-opacity=\"1\" /><polyline clip-path=\"url(#clip682)\" style=\"stroke:#000000; stroke-linecap:round; stroke-linejoin:round; stroke-width:2; stroke-opacity:0.1; fill:none\" points=\"219.38,1396.09 2352.76,1396.09 \"/>\n",
       "<polyline clip-path=\"url(#clip682)\" style=\"stroke:#000000; stroke-linecap:round; stroke-linejoin:round; stroke-width:2; stroke-opacity:0.1; fill:none\" points=\"219.38,992.095 2352.76,992.095 \"/>\n",
       "<polyline clip-path=\"url(#clip682)\" style=\"stroke:#000000; stroke-linecap:round; stroke-linejoin:round; stroke-width:2; stroke-opacity:0.1; fill:none\" points=\"219.38,588.103 2352.76,588.103 \"/>\n",
       "<polyline clip-path=\"url(#clip682)\" style=\"stroke:#000000; stroke-linecap:round; stroke-linejoin:round; stroke-width:2; stroke-opacity:0.1; fill:none\" points=\"219.38,184.111 2352.76,184.111 \"/>\n",
       "<polyline clip-path=\"url(#clip680)\" style=\"stroke:#000000; stroke-linecap:round; stroke-linejoin:round; stroke-width:4; stroke-opacity:1; fill:none\" points=\"219.38,1423.18 219.38,123.472 \"/>\n",
       "<polyline clip-path=\"url(#clip680)\" style=\"stroke:#000000; stroke-linecap:round; stroke-linejoin:round; stroke-width:4; stroke-opacity:1; fill:none\" points=\"219.38,1396.09 238.278,1396.09 \"/>\n",
       "<polyline clip-path=\"url(#clip680)\" style=\"stroke:#000000; stroke-linecap:round; stroke-linejoin:round; stroke-width:4; stroke-opacity:1; fill:none\" points=\"219.38,992.095 238.278,992.095 \"/>\n",
       "<polyline clip-path=\"url(#clip680)\" style=\"stroke:#000000; stroke-linecap:round; stroke-linejoin:round; stroke-width:4; stroke-opacity:1; fill:none\" points=\"219.38,588.103 238.278,588.103 \"/>\n",
       "<polyline clip-path=\"url(#clip680)\" style=\"stroke:#000000; stroke-linecap:round; stroke-linejoin:round; stroke-width:4; stroke-opacity:1; fill:none\" points=\"219.38,184.111 238.278,184.111 \"/>\n",
       "<path clip-path=\"url(#clip680)\" d=\"M126.205 1381.89 Q122.593 1381.89 120.765 1385.45 Q118.959 1388.99 118.959 1396.12 Q118.959 1403.23 120.765 1406.79 Q122.593 1410.33 126.205 1410.33 Q129.839 1410.33 131.644 1406.79 Q133.473 1403.23 133.473 1396.12 Q133.473 1388.99 131.644 1385.45 Q129.839 1381.89 126.205 1381.89 M126.205 1378.18 Q132.015 1378.18 135.07 1382.79 Q138.149 1387.37 138.149 1396.12 Q138.149 1404.85 135.07 1409.45 Q132.015 1414.04 126.205 1414.04 Q120.394 1414.04 117.316 1409.45 Q114.26 1404.85 114.26 1396.12 Q114.26 1387.37 117.316 1382.79 Q120.394 1378.18 126.205 1378.18 Z\" fill=\"#000000\" fill-rule=\"nonzero\" fill-opacity=\"1\" /><path clip-path=\"url(#clip680)\" d=\"M146.366 1407.49 L151.251 1407.49 L151.251 1413.37 L146.366 1413.37 L146.366 1407.49 Z\" fill=\"#000000\" fill-rule=\"nonzero\" fill-opacity=\"1\" /><path clip-path=\"url(#clip680)\" d=\"M171.436 1381.89 Q167.825 1381.89 165.996 1385.45 Q164.19 1388.99 164.19 1396.12 Q164.19 1403.23 165.996 1406.79 Q167.825 1410.33 171.436 1410.33 Q175.07 1410.33 176.876 1406.79 Q178.704 1403.23 178.704 1396.12 Q178.704 1388.99 176.876 1385.45 Q175.07 1381.89 171.436 1381.89 M171.436 1378.18 Q177.246 1378.18 180.301 1382.79 Q183.38 1387.37 183.38 1396.12 Q183.38 1404.85 180.301 1409.45 Q177.246 1414.04 171.436 1414.04 Q165.626 1414.04 162.547 1409.45 Q159.491 1404.85 159.491 1396.12 Q159.491 1387.37 162.547 1382.79 Q165.626 1378.18 171.436 1378.18 Z\" fill=\"#000000\" fill-rule=\"nonzero\" fill-opacity=\"1\" /><path clip-path=\"url(#clip680)\" d=\"M127.431 977.893 Q123.82 977.893 121.992 981.458 Q120.186 985 120.186 992.129 Q120.186 999.236 121.992 1002.8 Q123.82 1006.34 127.431 1006.34 Q131.066 1006.34 132.871 1002.8 Q134.7 999.236 134.7 992.129 Q134.7 985 132.871 981.458 Q131.066 977.893 127.431 977.893 M127.431 974.19 Q133.242 974.19 136.297 978.796 Q139.376 983.379 139.376 992.129 Q139.376 1000.86 136.297 1005.46 Q133.242 1010.05 127.431 1010.05 Q121.621 1010.05 118.543 1005.46 Q115.487 1000.86 115.487 992.129 Q115.487 983.379 118.543 978.796 Q121.621 974.19 127.431 974.19 Z\" fill=\"#000000\" fill-rule=\"nonzero\" fill-opacity=\"1\" /><path clip-path=\"url(#clip680)\" d=\"M147.593 1003.49 L152.478 1003.49 L152.478 1009.37 L147.593 1009.37 L147.593 1003.49 Z\" fill=\"#000000\" fill-rule=\"nonzero\" fill-opacity=\"1\" /><path clip-path=\"url(#clip680)\" d=\"M163.473 1005.44 L171.112 1005.44 L171.112 979.074 L162.802 980.74 L162.802 976.481 L171.065 974.815 L175.741 974.815 L175.741 1005.44 L183.38 1005.44 L183.38 1009.37 L163.473 1009.37 L163.473 1005.44 Z\" fill=\"#000000\" fill-rule=\"nonzero\" fill-opacity=\"1\" /><path clip-path=\"url(#clip680)\" d=\"M127.802 573.901 Q124.191 573.901 122.362 577.466 Q120.556 581.008 120.556 588.137 Q120.556 595.244 122.362 598.809 Q124.191 602.35 127.802 602.35 Q131.436 602.35 133.242 598.809 Q135.07 595.244 135.07 588.137 Q135.07 581.008 133.242 577.466 Q131.436 573.901 127.802 573.901 M127.802 570.198 Q133.612 570.198 136.667 574.804 Q139.746 579.387 139.746 588.137 Q139.746 596.864 136.667 601.471 Q133.612 606.054 127.802 606.054 Q121.992 606.054 118.913 601.471 Q115.857 596.864 115.857 588.137 Q115.857 579.387 118.913 574.804 Q121.992 570.198 127.802 570.198 Z\" fill=\"#000000\" fill-rule=\"nonzero\" fill-opacity=\"1\" /><path clip-path=\"url(#clip680)\" d=\"M147.964 599.503 L152.848 599.503 L152.848 605.383 L147.964 605.383 L147.964 599.503 Z\" fill=\"#000000\" fill-rule=\"nonzero\" fill-opacity=\"1\" /><path clip-path=\"url(#clip680)\" d=\"M167.061 601.447 L183.38 601.447 L183.38 605.383 L161.436 605.383 L161.436 601.447 Q164.098 598.693 168.681 594.063 Q173.288 589.41 174.468 588.068 Q176.714 585.545 177.593 583.809 Q178.496 582.049 178.496 580.36 Q178.496 577.605 176.551 575.869 Q174.63 574.133 171.528 574.133 Q169.329 574.133 166.876 574.897 Q164.445 575.66 161.667 577.211 L161.667 572.489 Q164.491 571.355 166.945 570.776 Q169.399 570.198 171.436 570.198 Q176.806 570.198 180.001 572.883 Q183.195 575.568 183.195 580.059 Q183.195 582.188 182.385 584.11 Q181.598 586.008 179.491 588.6 Q178.913 589.272 175.811 592.489 Q172.709 595.684 167.061 601.447 Z\" fill=\"#000000\" fill-rule=\"nonzero\" fill-opacity=\"1\" /><path clip-path=\"url(#clip680)\" d=\"M126.853 169.909 Q123.242 169.909 121.413 173.474 Q119.607 177.016 119.607 184.145 Q119.607 191.252 121.413 194.816 Q123.242 198.358 126.853 198.358 Q130.487 198.358 132.292 194.816 Q134.121 191.252 134.121 184.145 Q134.121 177.016 132.292 173.474 Q130.487 169.909 126.853 169.909 M126.853 166.206 Q132.663 166.206 135.718 170.812 Q138.797 175.395 138.797 184.145 Q138.797 192.872 135.718 197.478 Q132.663 202.062 126.853 202.062 Q121.043 202.062 117.964 197.478 Q114.908 192.872 114.908 184.145 Q114.908 175.395 117.964 170.812 Q121.043 166.206 126.853 166.206 Z\" fill=\"#000000\" fill-rule=\"nonzero\" fill-opacity=\"1\" /><path clip-path=\"url(#clip680)\" d=\"M147.015 195.511 L151.899 195.511 L151.899 201.391 L147.015 201.391 L147.015 195.511 Z\" fill=\"#000000\" fill-rule=\"nonzero\" fill-opacity=\"1\" /><path clip-path=\"url(#clip680)\" d=\"M176.251 182.756 Q179.607 183.474 181.482 185.742 Q183.38 188.011 183.38 191.344 Q183.38 196.46 179.862 199.261 Q176.343 202.062 169.862 202.062 Q167.686 202.062 165.371 201.622 Q163.079 201.205 160.626 200.349 L160.626 195.835 Q162.57 196.969 164.885 197.548 Q167.2 198.127 169.723 198.127 Q174.121 198.127 176.413 196.391 Q178.727 194.654 178.727 191.344 Q178.727 188.289 176.575 186.576 Q174.445 184.84 170.626 184.84 L166.598 184.84 L166.598 180.997 L170.811 180.997 Q174.26 180.997 176.089 179.631 Q177.917 178.242 177.917 175.65 Q177.917 172.988 176.019 171.576 Q174.144 170.141 170.626 170.141 Q168.704 170.141 166.505 170.557 Q164.306 170.974 161.667 171.854 L161.667 167.687 Q164.329 166.946 166.644 166.576 Q168.982 166.206 171.042 166.206 Q176.366 166.206 179.468 168.636 Q182.57 171.043 182.57 175.164 Q182.57 178.034 180.926 180.025 Q179.283 181.992 176.251 182.756 Z\" fill=\"#000000\" fill-rule=\"nonzero\" fill-opacity=\"1\" /><path clip-path=\"url(#clip680)\" d=\"M16.4842 903.155 L16.4842 862.955 L21.895 862.955 L21.895 879.824 L64.0042 879.824 L64.0042 886.285 L21.895 886.285 L21.895 903.155 L16.4842 903.155 Z\" fill=\"#000000\" fill-rule=\"nonzero\" fill-opacity=\"1\" /><path clip-path=\"url(#clip680)\" d=\"M28.3562 859.008 L28.3562 853.152 L64.0042 853.152 L64.0042 859.008 L28.3562 859.008 M14.479 859.008 L14.479 853.152 L21.895 853.152 L21.895 859.008 L14.479 859.008 Z\" fill=\"#000000\" fill-rule=\"nonzero\" fill-opacity=\"1\" /><path clip-path=\"url(#clip680)\" d=\"M35.1993 813.143 Q31.2526 810.947 29.3747 807.892 Q27.4968 804.836 27.4968 800.699 Q27.4968 795.129 31.4117 792.105 Q35.2948 789.081 42.4881 789.081 L64.0042 789.081 L64.0042 794.969 L42.679 794.969 Q37.5546 794.969 35.072 796.784 Q32.5894 798.598 32.5894 802.322 Q32.5894 806.873 35.6131 809.515 Q38.6368 812.157 43.8567 812.157 L64.0042 812.157 L64.0042 818.045 L42.679 818.045 Q37.5228 818.045 35.072 819.859 Q32.5894 821.674 32.5894 825.461 Q32.5894 829.949 35.6449 832.591 Q38.6686 835.232 43.8567 835.232 L64.0042 835.232 L64.0042 841.121 L28.3562 841.121 L28.3562 835.232 L33.8944 835.232 Q30.616 833.227 29.0564 830.426 Q27.4968 827.625 27.4968 823.774 Q27.4968 819.891 29.4702 817.186 Q31.4436 814.448 35.1993 813.143 Z\" fill=\"#000000\" fill-rule=\"nonzero\" fill-opacity=\"1\" /><path clip-path=\"url(#clip680)\" d=\"M44.7161 746.908 L47.5806 746.908 L47.5806 773.835 Q53.6281 773.453 56.8109 770.207 Q59.9619 766.928 59.9619 761.104 Q59.9619 757.73 59.1344 754.579 Q58.3069 751.396 56.6518 748.277 L62.1899 748.277 Q63.5267 751.428 64.227 754.738 Q64.9272 758.048 64.9272 761.454 Q64.9272 769.984 59.9619 774.981 Q54.9967 779.946 46.5303 779.946 Q37.7774 779.946 32.6531 775.236 Q27.4968 770.493 27.4968 762.472 Q27.4968 755.279 32.1438 751.11 Q36.7589 746.908 44.7161 746.908 M42.9973 752.765 Q38.1912 752.828 35.3266 755.47 Q32.4621 758.08 32.4621 762.409 Q32.4621 767.31 35.2312 770.27 Q38.0002 773.199 43.0292 773.644 L42.9973 752.765 Z\" fill=\"#000000\" fill-rule=\"nonzero\" fill-opacity=\"1\" /><path clip-path=\"url(#clip680)\" d=\"M14.479 717.117 L14.479 703.621 L19.0304 703.621 L19.0304 711.26 L68.0464 711.26 L68.0464 703.621 L72.5979 703.621 L72.5979 717.117 L14.479 717.117 Z\" fill=\"#000000\" fill-rule=\"nonzero\" fill-opacity=\"1\" /><path clip-path=\"url(#clip680)\" d=\"M29.4065 668.419 L34.9447 668.419 Q33.6716 670.902 33.035 673.575 Q32.3984 676.249 32.3984 679.114 Q32.3984 683.474 33.7352 685.67 Q35.072 687.835 37.7456 687.835 Q39.7826 687.835 40.9603 686.275 Q42.1061 684.715 43.1565 680.005 L43.6021 678 Q44.9389 671.761 47.3897 669.151 Q49.8086 666.509 54.1691 666.509 Q59.1344 666.509 62.0308 670.456 Q64.9272 674.371 64.9272 681.246 Q64.9272 684.111 64.3543 687.23 Q63.8132 690.317 62.6992 693.755 L56.6518 693.755 Q58.3387 690.508 59.198 687.357 Q60.0256 684.206 60.0256 681.119 Q60.0256 676.981 58.6251 674.753 Q57.1929 672.525 54.6147 672.525 Q52.2276 672.525 50.9545 674.148 Q49.6813 675.74 48.5037 681.182 L48.0262 683.219 Q46.8804 688.662 44.5251 691.081 Q42.138 693.5 38.0002 693.5 Q32.9713 693.5 30.2341 689.935 Q27.4968 686.37 27.4968 679.814 Q27.4968 676.567 27.9743 673.703 Q28.4517 670.838 29.4065 668.419 Z\" fill=\"#000000\" fill-rule=\"nonzero\" fill-opacity=\"1\" /><path clip-path=\"url(#clip680)\" d=\"M14.479 643.497 L72.5979 643.497 L72.5979 656.993 L68.0464 656.993 L68.0464 649.386 L19.0304 649.386 L19.0304 656.993 L14.479 656.993 L14.479 643.497 Z\" fill=\"#000000\" fill-rule=\"nonzero\" fill-opacity=\"1\" /><path clip-path=\"url(#clip680)\" d=\"M601.161 16.7545 L601.161 25.383 Q597.029 21.5346 592.33 19.6307 Q587.672 17.7268 582.406 17.7268 Q572.035 17.7268 566.526 24.0867 Q561.017 30.4061 561.017 42.3968 Q561.017 54.3469 566.526 60.7069 Q572.035 67.0263 582.406 67.0263 Q587.672 67.0263 592.33 65.1223 Q597.029 63.2184 601.161 59.3701 L601.161 67.9175 Q596.867 70.8341 592.047 72.2924 Q587.267 73.7508 581.92 73.7508 Q568.187 73.7508 560.288 65.3654 Q552.389 56.9395 552.389 42.3968 Q552.389 27.8135 560.288 19.4281 Q568.187 11.0023 581.92 11.0023 Q587.348 11.0023 592.128 12.4606 Q596.948 13.8784 601.161 16.7545 Z\" fill=\"#000000\" fill-rule=\"nonzero\" fill-opacity=\"1\" /><path clip-path=\"url(#clip680)\" d=\"M675.171 35.9153 Q677.967 30.8922 681.855 28.5022 Q685.744 26.1121 691.01 26.1121 Q698.1 26.1121 701.948 31.0947 Q705.796 36.0368 705.796 45.1919 L705.796 72.576 L698.302 72.576 L698.302 45.4349 Q698.302 38.913 695.993 35.7533 Q693.684 32.5936 688.944 32.5936 Q683.152 32.5936 679.789 36.4419 Q676.427 40.2903 676.427 46.9338 L676.427 72.576 L668.933 72.576 L668.933 45.4349 Q668.933 38.8725 666.624 35.7533 Q664.315 32.5936 659.494 32.5936 Q653.783 32.5936 650.42 36.4824 Q647.058 40.3308 647.058 46.9338 L647.058 72.576 L639.564 72.576 L639.564 27.2059 L647.058 27.2059 L647.058 34.2544 Q649.61 30.082 653.175 28.0971 Q656.74 26.1121 661.641 26.1121 Q666.584 26.1121 670.027 28.6237 Q673.511 31.1352 675.171 35.9153 Z\" fill=\"#000000\" fill-rule=\"nonzero\" fill-opacity=\"1\" /><path clip-path=\"url(#clip680)\" d=\"M741.282 49.7694 Q732.249 49.7694 728.765 51.8354 Q725.281 53.9013 725.281 58.8839 Q725.281 62.8538 727.874 65.2034 Q730.507 67.5124 735.003 67.5124 Q741.201 67.5124 744.928 63.1374 Q748.695 58.7219 748.695 51.4303 L748.695 49.7694 L741.282 49.7694 M756.149 46.6907 L756.149 72.576 L748.695 72.576 L748.695 65.6895 Q746.143 69.8214 742.335 71.8063 Q738.528 73.7508 733.018 73.7508 Q726.051 73.7508 721.919 69.8619 Q717.827 65.9325 717.827 59.3701 Q717.827 51.7138 722.932 47.825 Q728.076 43.9361 738.244 43.9361 L748.695 43.9361 L748.695 43.2069 Q748.695 38.0623 745.293 35.2672 Q741.93 32.4315 735.813 32.4315 Q731.925 32.4315 728.238 33.3632 Q724.552 34.295 721.149 36.1584 L721.149 29.2718 Q725.241 27.692 729.089 26.9223 Q732.937 26.1121 736.583 26.1121 Q746.427 26.1121 751.288 31.2163 Q756.149 36.3204 756.149 46.6907 Z\" fill=\"#000000\" fill-rule=\"nonzero\" fill-opacity=\"1\" /><path clip-path=\"url(#clip680)\" d=\"M778.875 14.324 L778.875 27.2059 L794.227 27.2059 L794.227 32.9987 L778.875 32.9987 L778.875 57.6282 Q778.875 63.1779 780.373 64.7578 Q781.913 66.3376 786.571 66.3376 L794.227 66.3376 L794.227 72.576 L786.571 72.576 Q777.943 72.576 774.662 69.3758 Q771.38 66.1351 771.38 57.6282 L771.38 32.9987 L765.912 32.9987 L765.912 27.2059 L771.38 27.2059 L771.38 14.324 L778.875 14.324 Z\" fill=\"#000000\" fill-rule=\"nonzero\" fill-opacity=\"1\" /><path clip-path=\"url(#clip680)\" d=\"M830.321 34.1734 Q829.065 33.4443 827.566 33.1202 Q826.108 32.7556 824.326 32.7556 Q818.006 32.7556 814.604 36.8875 Q811.241 40.9789 811.241 48.6757 L811.241 72.576 L803.747 72.576 L803.747 27.2059 L811.241 27.2059 L811.241 34.2544 Q813.591 30.1225 817.358 28.1376 Q821.125 26.1121 826.513 26.1121 Q827.283 26.1121 828.215 26.2337 Q829.146 26.3147 830.281 26.5172 L830.321 34.1734 Z\" fill=\"#000000\" fill-rule=\"nonzero\" fill-opacity=\"1\" /><path clip-path=\"url(#clip680)\" d=\"M838.139 27.2059 L845.593 27.2059 L845.593 72.576 L838.139 72.576 L838.139 27.2059 M838.139 9.54393 L845.593 9.54393 L845.593 18.9825 L838.139 18.9825 L838.139 9.54393 Z\" fill=\"#000000\" fill-rule=\"nonzero\" fill-opacity=\"1\" /><path clip-path=\"url(#clip680)\" d=\"M898.903 27.2059 L882.497 49.2833 L899.754 72.576 L890.963 72.576 L877.757 54.752 L864.551 72.576 L855.761 72.576 L873.382 48.8377 L857.26 27.2059 L866.05 27.2059 L878.081 43.369 L890.112 27.2059 L898.903 27.2059 Z\" fill=\"#000000\" fill-rule=\"nonzero\" fill-opacity=\"1\" /><path clip-path=\"url(#clip680)\" d=\"M971.981 35.9153 Q974.776 30.8922 978.665 28.5022 Q982.554 26.1121 987.82 26.1121 Q994.909 26.1121 998.758 31.0947 Q1002.61 36.0368 1002.61 45.1919 L1002.61 72.576 L995.112 72.576 L995.112 45.4349 Q995.112 38.913 992.803 35.7533 Q990.494 32.5936 985.754 32.5936 Q979.961 32.5936 976.599 36.4419 Q973.237 40.2903 973.237 46.9338 L973.237 72.576 L965.743 72.576 L965.743 45.4349 Q965.743 38.8725 963.434 35.7533 Q961.125 32.5936 956.304 32.5936 Q950.592 32.5936 947.23 36.4824 Q943.868 40.3308 943.868 46.9338 L943.868 72.576 L936.374 72.576 L936.374 27.2059 L943.868 27.2059 L943.868 34.2544 Q946.42 30.082 949.985 28.0971 Q953.55 26.1121 958.451 26.1121 Q963.393 26.1121 966.837 28.6237 Q970.32 31.1352 971.981 35.9153 Z\" fill=\"#000000\" fill-rule=\"nonzero\" fill-opacity=\"1\" /><path clip-path=\"url(#clip680)\" d=\"M1016.7 54.671 L1016.7 27.2059 L1024.16 27.2059 L1024.16 54.3874 Q1024.16 60.8284 1026.67 64.0691 Q1029.18 67.2693 1034.2 67.2693 Q1040.24 67.2693 1043.72 63.421 Q1047.25 59.5726 1047.25 52.9291 L1047.25 27.2059 L1054.7 27.2059 L1054.7 72.576 L1047.25 72.576 L1047.25 65.6084 Q1044.53 69.7404 1040.93 71.7658 Q1037.36 73.7508 1032.62 73.7508 Q1024.8 73.7508 1020.75 68.8897 Q1016.7 64.0286 1016.7 54.671 M1035.46 26.1121 L1035.46 26.1121 Z\" fill=\"#000000\" fill-rule=\"nonzero\" fill-opacity=\"1\" /><path clip-path=\"url(#clip680)\" d=\"M1070.05 9.54393 L1077.51 9.54393 L1077.51 72.576 L1070.05 72.576 L1070.05 9.54393 Z\" fill=\"#000000\" fill-rule=\"nonzero\" fill-opacity=\"1\" /><path clip-path=\"url(#clip680)\" d=\"M1100.48 14.324 L1100.48 27.2059 L1115.83 27.2059 L1115.83 32.9987 L1100.48 32.9987 L1100.48 57.6282 Q1100.48 63.1779 1101.97 64.7578 Q1103.51 66.3376 1108.17 66.3376 L1115.83 66.3376 L1115.83 72.576 L1108.17 72.576 Q1099.54 72.576 1096.26 69.3758 Q1092.98 66.1351 1092.98 57.6282 L1092.98 32.9987 L1087.51 32.9987 L1087.51 27.2059 L1092.98 27.2059 L1092.98 14.324 L1100.48 14.324 Z\" fill=\"#000000\" fill-rule=\"nonzero\" fill-opacity=\"1\" /><path clip-path=\"url(#clip680)\" d=\"M1125.63 27.2059 L1133.09 27.2059 L1133.09 72.576 L1125.63 72.576 L1125.63 27.2059 M1125.63 9.54393 L1133.09 9.54393 L1133.09 18.9825 L1125.63 18.9825 L1125.63 9.54393 Z\" fill=\"#000000\" fill-rule=\"nonzero\" fill-opacity=\"1\" /><path clip-path=\"url(#clip680)\" d=\"M1155.89 65.7705 L1155.89 89.8329 L1148.4 89.8329 L1148.4 27.2059 L1155.89 27.2059 L1155.89 34.0924 Q1158.24 30.0415 1161.81 28.0971 Q1165.41 26.1121 1170.39 26.1121 Q1178.66 26.1121 1183.8 32.6746 Q1188.99 39.2371 1188.99 49.9314 Q1188.99 60.6258 1183.8 67.1883 Q1178.66 73.7508 1170.39 73.7508 Q1165.41 73.7508 1161.81 71.8063 Q1158.24 69.8214 1155.89 65.7705 M1181.25 49.9314 Q1181.25 41.7081 1177.85 37.0496 Q1174.49 32.3505 1168.57 32.3505 Q1162.66 32.3505 1159.25 37.0496 Q1155.89 41.7081 1155.89 49.9314 Q1155.89 58.1548 1159.25 62.8538 Q1162.66 67.5124 1168.57 67.5124 Q1174.49 67.5124 1177.85 62.8538 Q1181.25 58.1548 1181.25 49.9314 Z\" fill=\"#000000\" fill-rule=\"nonzero\" fill-opacity=\"1\" /><path clip-path=\"url(#clip680)\" d=\"M1201.34 9.54393 L1208.8 9.54393 L1208.8 72.576 L1201.34 72.576 L1201.34 9.54393 Z\" fill=\"#000000\" fill-rule=\"nonzero\" fill-opacity=\"1\" /><path clip-path=\"url(#clip680)\" d=\"M1224.39 27.2059 L1231.85 27.2059 L1231.85 72.576 L1224.39 72.576 L1224.39 27.2059 M1224.39 9.54393 L1231.85 9.54393 L1231.85 18.9825 L1224.39 18.9825 L1224.39 9.54393 Z\" fill=\"#000000\" fill-rule=\"nonzero\" fill-opacity=\"1\" /><path clip-path=\"url(#clip680)\" d=\"M1280.09 28.9478 L1280.09 35.9153 Q1276.93 34.1734 1273.73 33.3227 Q1270.57 32.4315 1267.33 32.4315 Q1260.08 32.4315 1256.07 37.0496 Q1252.06 41.6271 1252.06 49.9314 Q1252.06 58.2358 1256.07 62.8538 Q1260.08 67.4314 1267.33 67.4314 Q1270.57 67.4314 1273.73 66.5807 Q1276.93 65.6895 1280.09 63.9476 L1280.09 70.8341 Q1276.97 72.2924 1273.61 73.0216 Q1270.29 73.7508 1266.52 73.7508 Q1256.27 73.7508 1250.24 67.3098 Q1244.2 60.8689 1244.2 49.9314 Q1244.2 38.832 1250.28 32.472 Q1256.4 26.1121 1267.01 26.1121 Q1270.45 26.1121 1273.73 26.8413 Q1277.01 27.5299 1280.09 28.9478 Z\" fill=\"#000000\" fill-rule=\"nonzero\" fill-opacity=\"1\" /><path clip-path=\"url(#clip680)\" d=\"M1313.67 49.7694 Q1304.64 49.7694 1301.16 51.8354 Q1297.67 53.9013 1297.67 58.8839 Q1297.67 62.8538 1300.27 65.2034 Q1302.9 67.5124 1307.4 67.5124 Q1313.59 67.5124 1317.32 63.1374 Q1321.09 58.7219 1321.09 51.4303 L1321.09 49.7694 L1313.67 49.7694 M1328.54 46.6907 L1328.54 72.576 L1321.09 72.576 L1321.09 65.6895 Q1318.54 69.8214 1314.73 71.8063 Q1310.92 73.7508 1305.41 73.7508 Q1298.44 73.7508 1294.31 69.8619 Q1290.22 65.9325 1290.22 59.3701 Q1290.22 51.7138 1295.32 47.825 Q1300.47 43.9361 1310.64 43.9361 L1321.09 43.9361 L1321.09 43.2069 Q1321.09 38.0623 1317.69 35.2672 Q1314.32 32.4315 1308.21 32.4315 Q1304.32 32.4315 1300.63 33.3632 Q1296.94 34.295 1293.54 36.1584 L1293.54 29.2718 Q1297.63 27.692 1301.48 26.9223 Q1305.33 26.1121 1308.98 26.1121 Q1318.82 26.1121 1323.68 31.2163 Q1328.54 36.3204 1328.54 46.6907 Z\" fill=\"#000000\" fill-rule=\"nonzero\" fill-opacity=\"1\" /><path clip-path=\"url(#clip680)\" d=\"M1351.27 14.324 L1351.27 27.2059 L1366.62 27.2059 L1366.62 32.9987 L1351.27 32.9987 L1351.27 57.6282 Q1351.27 63.1779 1352.77 64.7578 Q1354.31 66.3376 1358.96 66.3376 L1366.62 66.3376 L1366.62 72.576 L1358.96 72.576 Q1350.34 72.576 1347.05 69.3758 Q1343.77 66.1351 1343.77 57.6282 L1343.77 32.9987 L1338.3 32.9987 L1338.3 27.2059 L1343.77 27.2059 L1343.77 14.324 L1351.27 14.324 Z\" fill=\"#000000\" fill-rule=\"nonzero\" fill-opacity=\"1\" /><path clip-path=\"url(#clip680)\" d=\"M1376.42 27.2059 L1383.88 27.2059 L1383.88 72.576 L1376.42 72.576 L1376.42 27.2059 M1376.42 9.54393 L1383.88 9.54393 L1383.88 18.9825 L1376.42 18.9825 L1376.42 9.54393 Z\" fill=\"#000000\" fill-rule=\"nonzero\" fill-opacity=\"1\" /><path clip-path=\"url(#clip680)\" d=\"M1417.05 32.4315 Q1411.06 32.4315 1407.57 37.1306 Q1404.09 41.7891 1404.09 49.9314 Q1404.09 58.0738 1407.53 62.7728 Q1411.02 67.4314 1417.05 67.4314 Q1423.01 67.4314 1426.49 62.7323 Q1429.98 58.0333 1429.98 49.9314 Q1429.98 41.8701 1426.49 37.1711 Q1423.01 32.4315 1417.05 32.4315 M1417.05 26.1121 Q1426.78 26.1121 1432.33 32.4315 Q1437.88 38.7509 1437.88 49.9314 Q1437.88 61.0714 1432.33 67.4314 Q1426.78 73.7508 1417.05 73.7508 Q1407.29 73.7508 1401.74 67.4314 Q1396.23 61.0714 1396.23 49.9314 Q1396.23 38.7509 1401.74 32.4315 Q1407.29 26.1121 1417.05 26.1121 Z\" fill=\"#000000\" fill-rule=\"nonzero\" fill-opacity=\"1\" /><path clip-path=\"url(#clip680)\" d=\"M1487.94 45.1919 L1487.94 72.576 L1480.49 72.576 L1480.49 45.4349 Q1480.49 38.994 1477.98 35.7938 Q1475.47 32.5936 1470.44 32.5936 Q1464.41 32.5936 1460.93 36.4419 Q1457.44 40.2903 1457.44 46.9338 L1457.44 72.576 L1449.95 72.576 L1449.95 27.2059 L1457.44 27.2059 L1457.44 34.2544 Q1460.12 30.163 1463.72 28.1376 Q1467.37 26.1121 1472.11 26.1121 Q1479.92 26.1121 1483.93 30.9732 Q1487.94 35.7938 1487.94 45.1919 Z\" fill=\"#000000\" fill-rule=\"nonzero\" fill-opacity=\"1\" /><path clip-path=\"url(#clip680)\" d=\"M1536.56 14.324 L1536.56 27.2059 L1551.91 27.2059 L1551.91 32.9987 L1536.56 32.9987 L1536.56 57.6282 Q1536.56 63.1779 1538.05 64.7578 Q1539.59 66.3376 1544.25 66.3376 L1551.91 66.3376 L1551.91 72.576 L1544.25 72.576 Q1535.62 72.576 1532.34 69.3758 Q1529.06 66.1351 1529.06 57.6282 L1529.06 32.9987 L1523.59 32.9987 L1523.59 27.2059 L1529.06 27.2059 L1529.06 14.324 L1536.56 14.324 Z\" fill=\"#000000\" fill-rule=\"nonzero\" fill-opacity=\"1\" /><path clip-path=\"url(#clip680)\" d=\"M1561.71 27.2059 L1569.17 27.2059 L1569.17 72.576 L1561.71 72.576 L1561.71 27.2059 M1561.71 9.54393 L1569.17 9.54393 L1569.17 18.9825 L1561.71 18.9825 L1561.71 9.54393 Z\" fill=\"#000000\" fill-rule=\"nonzero\" fill-opacity=\"1\" /><path clip-path=\"url(#clip680)\" d=\"M1620.09 35.9153 Q1622.88 30.8922 1626.77 28.5022 Q1630.66 26.1121 1635.92 26.1121 Q1643.01 26.1121 1646.86 31.0947 Q1650.71 36.0368 1650.71 45.1919 L1650.71 72.576 L1643.22 72.576 L1643.22 45.4349 Q1643.22 38.913 1640.91 35.7533 Q1638.6 32.5936 1633.86 32.5936 Q1628.07 32.5936 1624.7 36.4419 Q1621.34 40.2903 1621.34 46.9338 L1621.34 72.576 L1613.85 72.576 L1613.85 45.4349 Q1613.85 38.8725 1611.54 35.7533 Q1609.23 32.5936 1604.41 32.5936 Q1598.7 32.5936 1595.33 36.4824 Q1591.97 40.3308 1591.97 46.9338 L1591.97 72.576 L1584.48 72.576 L1584.48 27.2059 L1591.97 27.2059 L1591.97 34.2544 Q1594.52 30.082 1598.09 28.0971 Q1601.65 26.1121 1606.56 26.1121 Q1611.5 26.1121 1614.94 28.6237 Q1618.42 31.1352 1620.09 35.9153 Z\" fill=\"#000000\" fill-rule=\"nonzero\" fill-opacity=\"1\" /><path clip-path=\"url(#clip680)\" d=\"M1704.38 48.0275 L1704.38 51.6733 L1670.11 51.6733 Q1670.6 59.3701 1674.73 63.421 Q1678.9 67.4314 1686.32 67.4314 Q1690.61 67.4314 1694.62 66.3781 Q1698.67 65.3249 1702.64 63.2184 L1702.64 70.267 Q1698.63 71.9684 1694.42 72.8596 Q1690.21 73.7508 1685.87 73.7508 Q1675.02 73.7508 1668.66 67.4314 Q1662.34 61.1119 1662.34 50.3365 Q1662.34 39.1965 1668.33 32.6746 Q1674.37 26.1121 1684.58 26.1121 Q1693.73 26.1121 1699.04 32.0264 Q1704.38 37.9003 1704.38 48.0275 M1696.93 45.84 Q1696.85 39.7232 1693.49 36.0774 Q1690.17 32.4315 1684.66 32.4315 Q1678.42 32.4315 1674.65 35.9558 Q1670.92 39.4801 1670.36 45.8805 L1696.93 45.84 Z\" fill=\"#000000\" fill-rule=\"nonzero\" fill-opacity=\"1\" /><path clip-path=\"url(#clip680)\" d=\"M1775.56 49.9314 Q1775.56 41.7081 1772.16 37.0496 Q1768.79 32.3505 1762.88 32.3505 Q1756.97 32.3505 1753.56 37.0496 Q1750.2 41.7081 1750.2 49.9314 Q1750.2 58.1548 1753.56 62.8538 Q1756.97 67.5124 1762.88 67.5124 Q1768.79 67.5124 1772.16 62.8538 Q1775.56 58.1548 1775.56 49.9314 M1750.2 34.0924 Q1752.55 30.0415 1756.11 28.0971 Q1759.72 26.1121 1764.7 26.1121 Q1772.97 26.1121 1778.11 32.6746 Q1783.3 39.2371 1783.3 49.9314 Q1783.3 60.6258 1778.11 67.1883 Q1772.97 73.7508 1764.7 73.7508 Q1759.72 73.7508 1756.11 71.8063 Q1752.55 69.8214 1750.2 65.7705 L1750.2 72.576 L1742.71 72.576 L1742.71 9.54393 L1750.2 9.54393 L1750.2 34.0924 Z\" fill=\"#000000\" fill-rule=\"nonzero\" fill-opacity=\"1\" /><path clip-path=\"url(#clip680)\" d=\"M1814.53 76.7889 Q1811.37 84.8907 1808.37 87.3618 Q1805.37 89.8329 1800.35 89.8329 L1794.4 89.8329 L1794.4 83.5945 L1798.77 83.5945 Q1801.85 83.5945 1803.55 82.1361 Q1805.25 80.6778 1807.32 75.2496 L1808.65 71.8468 L1790.3 27.2059 L1798.2 27.2059 L1812.38 62.6918 L1826.56 27.2059 L1834.46 27.2059 L1814.53 76.7889 Z\" fill=\"#000000\" fill-rule=\"nonzero\" fill-opacity=\"1\" /><path clip-path=\"url(#clip680)\" d=\"M1900.04 28.5427 L1900.04 35.5912 Q1896.88 33.9709 1893.48 33.1607 Q1890.08 32.3505 1886.43 32.3505 Q1880.88 32.3505 1878.09 34.0519 Q1875.33 35.7533 1875.33 39.156 Q1875.33 41.7486 1877.32 43.2475 Q1879.3 44.7058 1885.3 46.0426 L1887.85 46.6097 Q1895.79 48.3111 1899.11 51.4303 Q1902.47 54.509 1902.47 60.0587 Q1902.47 66.3781 1897.45 70.0644 Q1892.47 73.7508 1883.72 73.7508 Q1880.07 73.7508 1876.1 73.0216 Q1872.17 72.3329 1867.8 70.9151 L1867.8 63.2184 Q1871.93 65.3654 1875.94 66.4591 Q1879.95 67.5124 1883.88 67.5124 Q1889.15 67.5124 1891.98 65.73 Q1894.82 63.9071 1894.82 60.6258 Q1894.82 57.5877 1892.75 55.9673 Q1890.73 54.3469 1883.8 52.8481 L1881.21 52.2405 Q1874.28 50.7821 1871.2 47.7845 Q1868.12 44.7463 1868.12 39.4801 Q1868.12 33.0797 1872.66 29.5959 Q1877.2 26.1121 1885.54 26.1121 Q1889.67 26.1121 1893.32 26.7198 Q1896.96 27.3274 1900.04 28.5427 Z\" fill=\"#000000\" fill-rule=\"nonzero\" fill-opacity=\"1\" /><path clip-path=\"url(#clip680)\" d=\"M1914.34 27.2059 L1921.8 27.2059 L1921.8 72.576 L1914.34 72.576 L1914.34 27.2059 M1914.34 9.54393 L1921.8 9.54393 L1921.8 18.9825 L1914.34 18.9825 L1914.34 9.54393 Z\" fill=\"#000000\" fill-rule=\"nonzero\" fill-opacity=\"1\" /><path clip-path=\"url(#clip680)\" d=\"M1934.15 27.2059 L1969.56 27.2059 L1969.56 34.0114 L1941.52 66.6212 L1969.56 66.6212 L1969.56 72.576 L1933.14 72.576 L1933.14 65.7705 L1961.17 33.1607 L1934.15 33.1607 L1934.15 27.2059 Z\" fill=\"#000000\" fill-rule=\"nonzero\" fill-opacity=\"1\" /><path clip-path=\"url(#clip680)\" d=\"M2019.75 48.0275 L2019.75 51.6733 L1985.48 51.6733 Q1985.96 59.3701 1990.09 63.421 Q1994.27 67.4314 2001.68 67.4314 Q2005.97 67.4314 2009.98 66.3781 Q2014.04 65.3249 2018.01 63.2184 L2018.01 70.267 Q2014 71.9684 2009.78 72.8596 Q2005.57 73.7508 2001.23 73.7508 Q1990.38 73.7508 1984.02 67.4314 Q1977.7 61.1119 1977.7 50.3365 Q1977.7 39.1965 1983.69 32.6746 Q1989.73 26.1121 1999.94 26.1121 Q2009.09 26.1121 2014.4 32.0264 Q2019.75 37.9003 2019.75 48.0275 M2012.29 45.84 Q2012.21 39.7232 2008.85 36.0774 Q2005.53 32.4315 2000.02 32.4315 Q1993.78 32.4315 1990.01 35.9558 Q1986.29 39.4801 1985.72 45.8805 L2012.29 45.84 Z\" fill=\"#000000\" fill-rule=\"nonzero\" fill-opacity=\"1\" /><polyline clip-path=\"url(#clip682)\" style=\"stroke:#000000; stroke-linecap:round; stroke-linejoin:round; stroke-width:4; stroke-opacity:1; fill:none\" points=\"279.759,1381.25 279.759,1378.31 \"/>\n",
       "<polyline clip-path=\"url(#clip682)\" style=\"stroke:#000000; stroke-linecap:round; stroke-linejoin:round; stroke-width:4; stroke-opacity:1; fill:none\" points=\"413.933,1369.65 413.933,1369.19 \"/>\n",
       "<polyline clip-path=\"url(#clip682)\" style=\"stroke:#000000; stroke-linecap:round; stroke-linejoin:round; stroke-width:4; stroke-opacity:1; fill:none\" points=\"548.108,1354.64 548.108,1351.45 \"/>\n",
       "<polyline clip-path=\"url(#clip682)\" style=\"stroke:#000000; stroke-linecap:round; stroke-linejoin:round; stroke-width:4; stroke-opacity:1; fill:none\" points=\"682.282,1329.65 682.282,1325.26 \"/>\n",
       "<polyline clip-path=\"url(#clip682)\" style=\"stroke:#000000; stroke-linecap:round; stroke-linejoin:round; stroke-width:4; stroke-opacity:1; fill:none\" points=\"816.457,1305.85 816.457,1291.06 \"/>\n",
       "<polyline clip-path=\"url(#clip682)\" style=\"stroke:#000000; stroke-linecap:round; stroke-linejoin:round; stroke-width:4; stroke-opacity:1; fill:none\" points=\"950.632,1267.79 950.632,1241.49 \"/>\n",
       "<polyline clip-path=\"url(#clip682)\" style=\"stroke:#000000; stroke-linecap:round; stroke-linejoin:round; stroke-width:4; stroke-opacity:1; fill:none\" points=\"1084.81,1209.59 1084.81,1198.78 \"/>\n",
       "<polyline clip-path=\"url(#clip682)\" style=\"stroke:#000000; stroke-linecap:round; stroke-linejoin:round; stroke-width:4; stroke-opacity:1; fill:none\" points=\"1218.98,1150.26 1218.98,1142.2 \"/>\n",
       "<polyline clip-path=\"url(#clip682)\" style=\"stroke:#000000; stroke-linecap:round; stroke-linejoin:round; stroke-width:4; stroke-opacity:1; fill:none\" points=\"1353.16,1111.69 1353.16,1065.01 \"/>\n",
       "<polyline clip-path=\"url(#clip682)\" style=\"stroke:#000000; stroke-linecap:round; stroke-linejoin:round; stroke-width:4; stroke-opacity:1; fill:none\" points=\"1487.33,1029.78 1487.33,1008.73 \"/>\n",
       "<polyline clip-path=\"url(#clip682)\" style=\"stroke:#000000; stroke-linecap:round; stroke-linejoin:round; stroke-width:4; stroke-opacity:1; fill:none\" points=\"1621.5,929.571 1621.5,908.307 \"/>\n",
       "<polyline clip-path=\"url(#clip682)\" style=\"stroke:#000000; stroke-linecap:round; stroke-linejoin:round; stroke-width:4; stroke-opacity:1; fill:none\" points=\"1755.68,772.234 1755.68,755.664 \"/>\n",
       "<polyline clip-path=\"url(#clip682)\" style=\"stroke:#000000; stroke-linecap:round; stroke-linejoin:round; stroke-width:4; stroke-opacity:1; fill:none\" points=\"1889.85,733.799 1889.85,649.138 \"/>\n",
       "<polyline clip-path=\"url(#clip682)\" style=\"stroke:#000000; stroke-linecap:round; stroke-linejoin:round; stroke-width:4; stroke-opacity:1; fill:none\" points=\"2024.03,650.851 2024.03,489.998 \"/>\n",
       "<polyline clip-path=\"url(#clip682)\" style=\"stroke:#000000; stroke-linecap:round; stroke-linejoin:round; stroke-width:4; stroke-opacity:1; fill:none\" points=\"2158.2,438.605 2158.2,404.016 \"/>\n",
       "<polyline clip-path=\"url(#clip682)\" style=\"stroke:#000000; stroke-linecap:round; stroke-linejoin:round; stroke-width:4; stroke-opacity:1; fill:none\" points=\"2292.38,187.065 2292.38,160.256 \"/>\n",
       "<line clip-path=\"url(#clip682)\" x1=\"295.759\" y1=\"1381.25\" x2=\"263.759\" y2=\"1381.25\" style=\"stroke:#000000; stroke-width:3.2; stroke-opacity:1\"/>\n",
       "<line clip-path=\"url(#clip682)\" x1=\"295.759\" y1=\"1378.31\" x2=\"263.759\" y2=\"1378.31\" style=\"stroke:#000000; stroke-width:3.2; stroke-opacity:1\"/>\n",
       "<line clip-path=\"url(#clip682)\" x1=\"429.933\" y1=\"1369.65\" x2=\"397.933\" y2=\"1369.65\" style=\"stroke:#000000; stroke-width:3.2; stroke-opacity:1\"/>\n",
       "<line clip-path=\"url(#clip682)\" x1=\"429.933\" y1=\"1369.19\" x2=\"397.933\" y2=\"1369.19\" style=\"stroke:#000000; stroke-width:3.2; stroke-opacity:1\"/>\n",
       "<line clip-path=\"url(#clip682)\" x1=\"564.108\" y1=\"1354.64\" x2=\"532.108\" y2=\"1354.64\" style=\"stroke:#000000; stroke-width:3.2; stroke-opacity:1\"/>\n",
       "<line clip-path=\"url(#clip682)\" x1=\"564.108\" y1=\"1351.45\" x2=\"532.108\" y2=\"1351.45\" style=\"stroke:#000000; stroke-width:3.2; stroke-opacity:1\"/>\n",
       "<line clip-path=\"url(#clip682)\" x1=\"698.282\" y1=\"1329.65\" x2=\"666.282\" y2=\"1329.65\" style=\"stroke:#000000; stroke-width:3.2; stroke-opacity:1\"/>\n",
       "<line clip-path=\"url(#clip682)\" x1=\"698.282\" y1=\"1325.26\" x2=\"666.282\" y2=\"1325.26\" style=\"stroke:#000000; stroke-width:3.2; stroke-opacity:1\"/>\n",
       "<line clip-path=\"url(#clip682)\" x1=\"832.457\" y1=\"1305.85\" x2=\"800.457\" y2=\"1305.85\" style=\"stroke:#000000; stroke-width:3.2; stroke-opacity:1\"/>\n",
       "<line clip-path=\"url(#clip682)\" x1=\"832.457\" y1=\"1291.06\" x2=\"800.457\" y2=\"1291.06\" style=\"stroke:#000000; stroke-width:3.2; stroke-opacity:1\"/>\n",
       "<line clip-path=\"url(#clip682)\" x1=\"966.632\" y1=\"1267.79\" x2=\"934.632\" y2=\"1267.79\" style=\"stroke:#000000; stroke-width:3.2; stroke-opacity:1\"/>\n",
       "<line clip-path=\"url(#clip682)\" x1=\"966.632\" y1=\"1241.49\" x2=\"934.632\" y2=\"1241.49\" style=\"stroke:#000000; stroke-width:3.2; stroke-opacity:1\"/>\n",
       "<line clip-path=\"url(#clip682)\" x1=\"1100.81\" y1=\"1209.59\" x2=\"1068.81\" y2=\"1209.59\" style=\"stroke:#000000; stroke-width:3.2; stroke-opacity:1\"/>\n",
       "<line clip-path=\"url(#clip682)\" x1=\"1100.81\" y1=\"1198.78\" x2=\"1068.81\" y2=\"1198.78\" style=\"stroke:#000000; stroke-width:3.2; stroke-opacity:1\"/>\n",
       "<line clip-path=\"url(#clip682)\" x1=\"1234.98\" y1=\"1150.26\" x2=\"1202.98\" y2=\"1150.26\" style=\"stroke:#000000; stroke-width:3.2; stroke-opacity:1\"/>\n",
       "<line clip-path=\"url(#clip682)\" x1=\"1234.98\" y1=\"1142.2\" x2=\"1202.98\" y2=\"1142.2\" style=\"stroke:#000000; stroke-width:3.2; stroke-opacity:1\"/>\n",
       "<line clip-path=\"url(#clip682)\" x1=\"1369.16\" y1=\"1111.69\" x2=\"1337.16\" y2=\"1111.69\" style=\"stroke:#000000; stroke-width:3.2; stroke-opacity:1\"/>\n",
       "<line clip-path=\"url(#clip682)\" x1=\"1369.16\" y1=\"1065.01\" x2=\"1337.16\" y2=\"1065.01\" style=\"stroke:#000000; stroke-width:3.2; stroke-opacity:1\"/>\n",
       "<line clip-path=\"url(#clip682)\" x1=\"1503.33\" y1=\"1029.78\" x2=\"1471.33\" y2=\"1029.78\" style=\"stroke:#000000; stroke-width:3.2; stroke-opacity:1\"/>\n",
       "<line clip-path=\"url(#clip682)\" x1=\"1503.33\" y1=\"1008.73\" x2=\"1471.33\" y2=\"1008.73\" style=\"stroke:#000000; stroke-width:3.2; stroke-opacity:1\"/>\n",
       "<line clip-path=\"url(#clip682)\" x1=\"1637.5\" y1=\"929.571\" x2=\"1605.5\" y2=\"929.571\" style=\"stroke:#000000; stroke-width:3.2; stroke-opacity:1\"/>\n",
       "<line clip-path=\"url(#clip682)\" x1=\"1637.5\" y1=\"908.307\" x2=\"1605.5\" y2=\"908.307\" style=\"stroke:#000000; stroke-width:3.2; stroke-opacity:1\"/>\n",
       "<line clip-path=\"url(#clip682)\" x1=\"1771.68\" y1=\"772.234\" x2=\"1739.68\" y2=\"772.234\" style=\"stroke:#000000; stroke-width:3.2; stroke-opacity:1\"/>\n",
       "<line clip-path=\"url(#clip682)\" x1=\"1771.68\" y1=\"755.664\" x2=\"1739.68\" y2=\"755.664\" style=\"stroke:#000000; stroke-width:3.2; stroke-opacity:1\"/>\n",
       "<line clip-path=\"url(#clip682)\" x1=\"1905.85\" y1=\"733.799\" x2=\"1873.85\" y2=\"733.799\" style=\"stroke:#000000; stroke-width:3.2; stroke-opacity:1\"/>\n",
       "<line clip-path=\"url(#clip682)\" x1=\"1905.85\" y1=\"649.138\" x2=\"1873.85\" y2=\"649.138\" style=\"stroke:#000000; stroke-width:3.2; stroke-opacity:1\"/>\n",
       "<line clip-path=\"url(#clip682)\" x1=\"2040.03\" y1=\"650.851\" x2=\"2008.03\" y2=\"650.851\" style=\"stroke:#000000; stroke-width:3.2; stroke-opacity:1\"/>\n",
       "<line clip-path=\"url(#clip682)\" x1=\"2040.03\" y1=\"489.998\" x2=\"2008.03\" y2=\"489.998\" style=\"stroke:#000000; stroke-width:3.2; stroke-opacity:1\"/>\n",
       "<line clip-path=\"url(#clip682)\" x1=\"2174.2\" y1=\"438.605\" x2=\"2142.2\" y2=\"438.605\" style=\"stroke:#000000; stroke-width:3.2; stroke-opacity:1\"/>\n",
       "<line clip-path=\"url(#clip682)\" x1=\"2174.2\" y1=\"404.016\" x2=\"2142.2\" y2=\"404.016\" style=\"stroke:#000000; stroke-width:3.2; stroke-opacity:1\"/>\n",
       "<line clip-path=\"url(#clip682)\" x1=\"2308.38\" y1=\"187.065\" x2=\"2276.38\" y2=\"187.065\" style=\"stroke:#000000; stroke-width:3.2; stroke-opacity:1\"/>\n",
       "<line clip-path=\"url(#clip682)\" x1=\"2308.38\" y1=\"160.256\" x2=\"2276.38\" y2=\"160.256\" style=\"stroke:#000000; stroke-width:3.2; stroke-opacity:1\"/>\n",
       "<circle clip-path=\"url(#clip682)\" cx=\"279.759\" cy=\"1379.78\" r=\"14.4\" fill=\"#009af9\" fill-rule=\"evenodd\" fill-opacity=\"1\" stroke=\"#000000\" stroke-opacity=\"1\" stroke-width=\"3.2\"/>\n",
       "<circle clip-path=\"url(#clip682)\" cx=\"413.933\" cy=\"1369.42\" r=\"14.4\" fill=\"#009af9\" fill-rule=\"evenodd\" fill-opacity=\"1\" stroke=\"#000000\" stroke-opacity=\"1\" stroke-width=\"3.2\"/>\n",
       "<circle clip-path=\"url(#clip682)\" cx=\"548.108\" cy=\"1353.04\" r=\"14.4\" fill=\"#009af9\" fill-rule=\"evenodd\" fill-opacity=\"1\" stroke=\"#000000\" stroke-opacity=\"1\" stroke-width=\"3.2\"/>\n",
       "<circle clip-path=\"url(#clip682)\" cx=\"682.282\" cy=\"1327.45\" r=\"14.4\" fill=\"#009af9\" fill-rule=\"evenodd\" fill-opacity=\"1\" stroke=\"#000000\" stroke-opacity=\"1\" stroke-width=\"3.2\"/>\n",
       "<circle clip-path=\"url(#clip682)\" cx=\"816.457\" cy=\"1298.46\" r=\"14.4\" fill=\"#009af9\" fill-rule=\"evenodd\" fill-opacity=\"1\" stroke=\"#000000\" stroke-opacity=\"1\" stroke-width=\"3.2\"/>\n",
       "<circle clip-path=\"url(#clip682)\" cx=\"950.632\" cy=\"1254.64\" r=\"14.4\" fill=\"#009af9\" fill-rule=\"evenodd\" fill-opacity=\"1\" stroke=\"#000000\" stroke-opacity=\"1\" stroke-width=\"3.2\"/>\n",
       "<circle clip-path=\"url(#clip682)\" cx=\"1084.81\" cy=\"1204.18\" r=\"14.4\" fill=\"#009af9\" fill-rule=\"evenodd\" fill-opacity=\"1\" stroke=\"#000000\" stroke-opacity=\"1\" stroke-width=\"3.2\"/>\n",
       "<circle clip-path=\"url(#clip682)\" cx=\"1218.98\" cy=\"1146.23\" r=\"14.4\" fill=\"#009af9\" fill-rule=\"evenodd\" fill-opacity=\"1\" stroke=\"#000000\" stroke-opacity=\"1\" stroke-width=\"3.2\"/>\n",
       "<circle clip-path=\"url(#clip682)\" cx=\"1353.16\" cy=\"1088.35\" r=\"14.4\" fill=\"#009af9\" fill-rule=\"evenodd\" fill-opacity=\"1\" stroke=\"#000000\" stroke-opacity=\"1\" stroke-width=\"3.2\"/>\n",
       "<circle clip-path=\"url(#clip682)\" cx=\"1487.33\" cy=\"1019.25\" r=\"14.4\" fill=\"#009af9\" fill-rule=\"evenodd\" fill-opacity=\"1\" stroke=\"#000000\" stroke-opacity=\"1\" stroke-width=\"3.2\"/>\n",
       "<circle clip-path=\"url(#clip682)\" cx=\"1621.5\" cy=\"918.939\" r=\"14.4\" fill=\"#009af9\" fill-rule=\"evenodd\" fill-opacity=\"1\" stroke=\"#000000\" stroke-opacity=\"1\" stroke-width=\"3.2\"/>\n",
       "<circle clip-path=\"url(#clip682)\" cx=\"1755.68\" cy=\"763.949\" r=\"14.4\" fill=\"#009af9\" fill-rule=\"evenodd\" fill-opacity=\"1\" stroke=\"#000000\" stroke-opacity=\"1\" stroke-width=\"3.2\"/>\n",
       "<circle clip-path=\"url(#clip682)\" cx=\"1889.85\" cy=\"691.468\" r=\"14.4\" fill=\"#009af9\" fill-rule=\"evenodd\" fill-opacity=\"1\" stroke=\"#000000\" stroke-opacity=\"1\" stroke-width=\"3.2\"/>\n",
       "<circle clip-path=\"url(#clip682)\" cx=\"2024.03\" cy=\"570.425\" r=\"14.4\" fill=\"#009af9\" fill-rule=\"evenodd\" fill-opacity=\"1\" stroke=\"#000000\" stroke-opacity=\"1\" stroke-width=\"3.2\"/>\n",
       "<circle clip-path=\"url(#clip682)\" cx=\"2158.2\" cy=\"421.31\" r=\"14.4\" fill=\"#009af9\" fill-rule=\"evenodd\" fill-opacity=\"1\" stroke=\"#000000\" stroke-opacity=\"1\" stroke-width=\"3.2\"/>\n",
       "<circle clip-path=\"url(#clip682)\" cx=\"2292.38\" cy=\"173.66\" r=\"14.4\" fill=\"#009af9\" fill-rule=\"evenodd\" fill-opacity=\"1\" stroke=\"#000000\" stroke-opacity=\"1\" stroke-width=\"3.2\"/>\n",
       "<polyline clip-path=\"url(#clip682)\" style=\"stroke:#e26f46; stroke-linecap:round; stroke-linejoin:round; stroke-width:4; stroke-opacity:1; fill:none\" points=\"279.759,1386.4 299.885,1383.87 320.011,1381.31 340.137,1378.7 360.263,1376.04 380.39,1373.32 400.516,1370.54 420.642,1367.71 440.768,1364.8 460.894,1361.82 481.021,1358.76 501.147,1355.62 521.273,1352.4 541.399,1349.08 561.525,1345.67 581.652,1342.16 601.778,1338.54 621.904,1334.82 642.03,1330.98 662.156,1327.03 682.282,1322.95 702.409,1318.75 722.535,1314.42 742.661,1309.95 762.787,1305.34 782.913,1300.59 803.04,1295.69 823.166,1290.63 843.292,1285.42 863.418,1280.05 883.544,1274.51 903.67,1268.79 923.797,1262.91 943.923,1256.84 964.049,1250.59 984.175,1244.15 1004.3,1237.51 1024.43,1230.68 1044.55,1223.64 1064.68,1216.4 1084.81,1208.95 1104.93,1201.28 1125.06,1193.39 1145.18,1185.28 1165.31,1176.93 1185.44,1168.36 1205.56,1159.54 1225.69,1150.48 1245.82,1141.18 1265.94,1131.62 1286.07,1121.81 1306.19,1111.74 1326.32,1101.4 1346.45,1090.79 1366.57,1079.91 1386.7,1068.75 1406.83,1057.31 1426.95,1045.58 1447.08,1033.55 1467.2,1021.24 1487.33,1008.62 1507.46,995.693 1527.58,982.459 1547.71,968.911 1567.83,955.044 1587.96,940.855 1608.09,926.337 1628.21,911.488 1648.34,896.302 1668.47,880.775 1688.59,864.903 1708.72,848.681 1728.84,832.104 1748.97,815.168 1769.1,797.869 1789.22,780.203 1809.35,762.164 1829.48,743.748 1849.6,724.951 1869.73,705.769 1889.85,686.196 1909.98,666.228 1930.11,645.862 1950.23,625.092 1970.36,603.914 1990.48,582.323 2010.61,560.315 2030.74,537.886 2050.86,515.031 2070.99,491.746 2091.12,468.026 2111.24,443.866 2131.37,419.262 2151.49,394.211 2171.62,368.706 2191.75,342.745 2211.87,316.321 2232,289.432 2252.12,262.072 2272.25,234.236 2292.38,205.922 \"/>\n",
       "<path clip-path=\"url(#clip680)\" d=\"M290.493 322.316 L839.453 322.316 L839.453 166.796 L290.493 166.796  Z\" fill=\"#ffffff\" fill-rule=\"evenodd\" fill-opacity=\"1\"/>\n",
       "<polyline clip-path=\"url(#clip680)\" style=\"stroke:#000000; stroke-linecap:round; stroke-linejoin:round; stroke-width:4; stroke-opacity:1; fill:none\" points=\"290.493,322.316 839.453,322.316 839.453,166.796 290.493,166.796 290.493,322.316 \"/>\n",
       "<circle clip-path=\"url(#clip680)\" cx=\"385.309\" cy=\"218.636\" r=\"20.48\" fill=\"#009af9\" fill-rule=\"evenodd\" fill-opacity=\"1\" stroke=\"#000000\" stroke-opacity=\"1\" stroke-width=\"4.55111\"/>\n",
       "<path clip-path=\"url(#clip680)\" d=\"M501.839 220.268 L501.839 235.916 L497.58 235.916 L497.58 220.407 Q497.58 216.726 496.145 214.897 Q494.709 213.069 491.839 213.069 Q488.39 213.069 486.399 215.268 Q484.408 217.467 484.408 221.263 L484.408 235.916 L480.126 235.916 L480.126 209.99 L484.408 209.99 L484.408 214.018 Q485.936 211.68 487.996 210.522 Q490.08 209.365 492.788 209.365 Q497.256 209.365 499.547 212.143 Q501.839 214.897 501.839 220.268 Z\" fill=\"#000000\" fill-rule=\"nonzero\" fill-opacity=\"1\" /><path clip-path=\"url(#clip680)\" d=\"M522.117 222.883 Q516.955 222.883 514.964 224.064 Q512.973 225.244 512.973 228.092 Q512.973 230.36 514.455 231.703 Q515.959 233.022 518.529 233.022 Q522.07 233.022 524.2 230.522 Q526.353 227.999 526.353 223.832 L526.353 222.883 L522.117 222.883 M530.612 221.124 L530.612 235.916 L526.353 235.916 L526.353 231.981 Q524.894 234.342 522.718 235.476 Q520.543 236.587 517.394 236.587 Q513.413 236.587 511.052 234.365 Q508.714 232.119 508.714 228.369 Q508.714 223.994 511.631 221.772 Q514.57 219.55 520.38 219.55 L526.353 219.55 L526.353 219.133 Q526.353 216.194 524.408 214.596 Q522.487 212.976 518.992 212.976 Q516.769 212.976 514.663 213.508 Q512.556 214.041 510.612 215.106 L510.612 211.17 Q512.95 210.268 515.149 209.828 Q517.348 209.365 519.431 209.365 Q525.056 209.365 527.834 212.282 Q530.612 215.198 530.612 221.124 Z\" fill=\"#000000\" fill-rule=\"nonzero\" fill-opacity=\"1\" /><path clip-path=\"url(#clip680)\" d=\"M539.385 209.99 L543.644 209.99 L543.644 235.916 L539.385 235.916 L539.385 209.99 M539.385 199.897 L543.644 199.897 L543.644 205.291 L539.385 205.291 L539.385 199.897 Z\" fill=\"#000000\" fill-rule=\"nonzero\" fill-opacity=\"1\" /><path clip-path=\"url(#clip680)\" d=\"M549.501 209.99 L554.015 209.99 L562.116 231.749 L570.218 209.99 L574.732 209.99 L565.01 235.916 L559.223 235.916 L549.501 209.99 Z\" fill=\"#000000\" fill-rule=\"nonzero\" fill-opacity=\"1\" /><path clip-path=\"url(#clip680)\" d=\"M602.787 221.888 L602.787 223.971 L583.204 223.971 Q583.482 228.369 585.843 230.684 Q588.227 232.976 592.463 232.976 Q594.917 232.976 597.209 232.374 Q599.524 231.772 601.792 230.569 L601.792 234.596 Q599.5 235.568 597.093 236.078 Q594.686 236.587 592.209 236.587 Q586.005 236.587 582.371 232.976 Q578.76 229.365 578.76 223.207 Q578.76 216.842 582.186 213.115 Q585.635 209.365 591.468 209.365 Q596.7 209.365 599.732 212.745 Q602.787 216.101 602.787 221.888 M598.528 220.638 Q598.482 217.143 596.561 215.059 Q594.663 212.976 591.514 212.976 Q587.95 212.976 585.797 214.99 Q583.667 217.004 583.343 220.661 L598.528 220.638 Z\" fill=\"#000000\" fill-rule=\"nonzero\" fill-opacity=\"1\" /><polyline clip-path=\"url(#clip680)\" style=\"stroke:#e26f46; stroke-linecap:round; stroke-linejoin:round; stroke-width:4; stroke-opacity:1; fill:none\" points=\"314.197,270.476 456.422,270.476 \"/>\n",
       "<path clip-path=\"url(#clip680)\" d=\"M493.529 274.723 Q488.367 274.723 486.376 275.904 Q484.385 277.084 484.385 279.932 Q484.385 282.2 485.867 283.543 Q487.371 284.862 489.941 284.862 Q493.482 284.862 495.612 282.362 Q497.765 279.839 497.765 275.672 L497.765 274.723 L493.529 274.723 M502.024 272.964 L502.024 287.756 L497.765 287.756 L497.765 283.821 Q496.307 286.182 494.131 287.316 Q491.955 288.427 488.807 288.427 Q484.825 288.427 482.464 286.205 Q480.126 283.959 480.126 280.209 Q480.126 275.834 483.043 273.612 Q485.983 271.39 491.793 271.39 L497.765 271.39 L497.765 270.973 Q497.765 268.034 495.82 266.436 Q493.899 264.816 490.404 264.816 Q488.182 264.816 486.075 265.348 Q483.969 265.881 482.024 266.946 L482.024 263.01 Q484.362 262.108 486.561 261.668 Q488.76 261.205 490.844 261.205 Q496.469 261.205 499.246 264.122 Q502.024 267.038 502.024 272.964 Z\" fill=\"#000000\" fill-rule=\"nonzero\" fill-opacity=\"1\" /><path clip-path=\"url(#clip680)\" d=\"M514.918 283.867 L514.918 297.617 L510.635 297.617 L510.635 261.83 L514.918 261.83 L514.918 265.765 Q516.26 263.45 518.297 262.339 Q520.357 261.205 523.205 261.205 Q527.927 261.205 530.867 264.955 Q533.829 268.705 533.829 274.816 Q533.829 280.927 530.867 284.677 Q527.927 288.427 523.205 288.427 Q520.357 288.427 518.297 287.316 Q516.26 286.182 514.918 283.867 M529.408 274.816 Q529.408 270.117 527.464 267.455 Q525.543 264.77 522.163 264.77 Q518.783 264.77 516.839 267.455 Q514.918 270.117 514.918 274.816 Q514.918 279.515 516.839 282.2 Q518.783 284.862 522.163 284.862 Q525.543 284.862 527.464 282.2 Q529.408 279.515 529.408 274.816 Z\" fill=\"#000000\" fill-rule=\"nonzero\" fill-opacity=\"1\" /><path clip-path=\"url(#clip680)\" d=\"M545.01 283.867 L545.01 297.617 L540.728 297.617 L540.728 261.83 L545.01 261.83 L545.01 265.765 Q546.353 263.45 548.39 262.339 Q550.45 261.205 553.297 261.205 Q558.019 261.205 560.959 264.955 Q563.922 268.705 563.922 274.816 Q563.922 280.927 560.959 284.677 Q558.019 288.427 553.297 288.427 Q550.45 288.427 548.39 287.316 Q546.353 286.182 545.01 283.867 M559.501 274.816 Q559.501 270.117 557.556 267.455 Q555.635 264.77 552.255 264.77 Q548.876 264.77 546.931 267.455 Q545.01 270.117 545.01 274.816 Q545.01 279.515 546.931 282.2 Q548.876 284.862 552.255 284.862 Q555.635 284.862 557.556 282.2 Q559.501 279.515 559.501 274.816 Z\" fill=\"#000000\" fill-rule=\"nonzero\" fill-opacity=\"1\" /><path clip-path=\"url(#clip680)\" d=\"M586.005 265.811 Q585.288 265.395 584.431 265.21 Q583.598 265.001 582.579 265.001 Q578.968 265.001 577.024 267.362 Q575.102 269.7 575.102 274.098 L575.102 287.756 L570.82 287.756 L570.82 261.83 L575.102 261.83 L575.102 265.858 Q576.445 263.497 578.598 262.362 Q580.751 261.205 583.829 261.205 Q584.269 261.205 584.801 261.274 Q585.334 261.321 585.982 261.436 L586.005 265.811 Z\" fill=\"#000000\" fill-rule=\"nonzero\" fill-opacity=\"1\" /><path clip-path=\"url(#clip680)\" d=\"M599.477 264.816 Q596.051 264.816 594.061 267.501 Q592.07 270.163 592.07 274.816 Q592.07 279.469 594.038 282.154 Q596.028 284.816 599.477 284.816 Q602.88 284.816 604.871 282.131 Q606.862 279.446 606.862 274.816 Q606.862 270.21 604.871 267.524 Q602.88 264.816 599.477 264.816 M599.477 261.205 Q605.033 261.205 608.204 264.816 Q611.375 268.427 611.375 274.816 Q611.375 281.182 608.204 284.816 Q605.033 288.427 599.477 288.427 Q593.899 288.427 590.727 284.816 Q587.579 281.182 587.579 274.816 Q587.579 268.427 590.727 264.816 Q593.899 261.205 599.477 261.205 Z\" fill=\"#000000\" fill-rule=\"nonzero\" fill-opacity=\"1\" /><path clip-path=\"url(#clip680)\" d=\"M638.528 261.83 L629.153 274.446 L639.014 287.756 L633.991 287.756 L626.445 277.571 L618.898 287.756 L613.875 287.756 L623.945 274.191 L614.732 261.83 L619.755 261.83 L626.63 271.066 L633.505 261.83 L638.528 261.83 Z\" fill=\"#000000\" fill-rule=\"nonzero\" fill-opacity=\"1\" /><path clip-path=\"url(#clip680)\" d=\"M645.033 261.83 L649.292 261.83 L649.292 287.756 L645.033 287.756 L645.033 261.83 M645.033 251.737 L649.292 251.737 L649.292 257.131 L645.033 257.131 L645.033 251.737 Z\" fill=\"#000000\" fill-rule=\"nonzero\" fill-opacity=\"1\" /><path clip-path=\"url(#clip680)\" d=\"M678.389 266.807 Q679.986 263.936 682.208 262.571 Q684.431 261.205 687.44 261.205 Q691.491 261.205 693.69 264.052 Q695.889 266.876 695.889 272.108 L695.889 287.756 L691.606 287.756 L691.606 272.247 Q691.606 268.52 690.287 266.714 Q688.968 264.909 686.259 264.909 Q682.949 264.909 681.028 267.108 Q679.106 269.307 679.106 273.103 L679.106 287.756 L674.824 287.756 L674.824 272.247 Q674.824 268.497 673.505 266.714 Q672.185 264.909 669.431 264.909 Q666.167 264.909 664.245 267.131 Q662.324 269.33 662.324 273.103 L662.324 287.756 L658.042 287.756 L658.042 261.83 L662.324 261.83 L662.324 265.858 Q663.783 263.473 665.82 262.339 Q667.857 261.205 670.657 261.205 Q673.482 261.205 675.449 262.64 Q677.44 264.075 678.389 266.807 Z\" fill=\"#000000\" fill-rule=\"nonzero\" fill-opacity=\"1\" /><path clip-path=\"url(#clip680)\" d=\"M716.166 274.723 Q711.004 274.723 709.014 275.904 Q707.023 277.084 707.023 279.932 Q707.023 282.2 708.504 283.543 Q710.009 284.862 712.579 284.862 Q716.12 284.862 718.25 282.362 Q720.403 279.839 720.403 275.672 L720.403 274.723 L716.166 274.723 M724.662 272.964 L724.662 287.756 L720.403 287.756 L720.403 283.821 Q718.944 286.182 716.768 287.316 Q714.592 288.427 711.444 288.427 Q707.463 288.427 705.102 286.205 Q702.764 283.959 702.764 280.209 Q702.764 275.834 705.68 273.612 Q708.62 271.39 714.43 271.39 L720.403 271.39 L720.403 270.973 Q720.403 268.034 718.458 266.436 Q716.537 264.816 713.042 264.816 Q710.819 264.816 708.713 265.348 Q706.606 265.881 704.662 266.946 L704.662 263.01 Q707 262.108 709.199 261.668 Q711.398 261.205 713.481 261.205 Q719.106 261.205 721.884 264.122 Q724.662 267.038 724.662 272.964 Z\" fill=\"#000000\" fill-rule=\"nonzero\" fill-opacity=\"1\" /><path clip-path=\"url(#clip680)\" d=\"M737.648 254.469 L737.648 261.83 L746.421 261.83 L746.421 265.14 L737.648 265.14 L737.648 279.214 Q737.648 282.385 738.504 283.288 Q739.384 284.191 742.046 284.191 L746.421 284.191 L746.421 287.756 L742.046 287.756 Q737.115 287.756 735.24 285.927 Q733.365 284.075 733.365 279.214 L733.365 265.14 L730.24 265.14 L730.24 261.83 L733.365 261.83 L733.365 254.469 L737.648 254.469 Z\" fill=\"#000000\" fill-rule=\"nonzero\" fill-opacity=\"1\" /><path clip-path=\"url(#clip680)\" d=\"M752.023 261.83 L756.282 261.83 L756.282 287.756 L752.023 287.756 L752.023 261.83 M752.023 251.737 L756.282 251.737 L756.282 257.131 L752.023 257.131 L752.023 251.737 Z\" fill=\"#000000\" fill-rule=\"nonzero\" fill-opacity=\"1\" /><path clip-path=\"url(#clip680)\" d=\"M775.24 264.816 Q771.814 264.816 769.824 267.501 Q767.833 270.163 767.833 274.816 Q767.833 279.469 769.8 282.154 Q771.791 284.816 775.24 284.816 Q778.643 284.816 780.634 282.131 Q782.624 279.446 782.624 274.816 Q782.624 270.21 780.634 267.524 Q778.643 264.816 775.24 264.816 M775.24 261.205 Q780.796 261.205 783.967 264.816 Q787.138 268.427 787.138 274.816 Q787.138 281.182 783.967 284.816 Q780.796 288.427 775.24 288.427 Q769.662 288.427 766.49 284.816 Q763.342 281.182 763.342 274.816 Q763.342 268.427 766.49 264.816 Q769.662 261.205 775.24 261.205 Z\" fill=\"#000000\" fill-rule=\"nonzero\" fill-opacity=\"1\" /><path clip-path=\"url(#clip680)\" d=\"M815.749 272.108 L815.749 287.756 L811.49 287.756 L811.49 272.247 Q811.49 268.566 810.055 266.737 Q808.62 264.909 805.749 264.909 Q802.3 264.909 800.31 267.108 Q798.319 269.307 798.319 273.103 L798.319 287.756 L794.036 287.756 L794.036 261.83 L798.319 261.83 L798.319 265.858 Q799.847 263.52 801.907 262.362 Q803.99 261.205 806.698 261.205 Q811.166 261.205 813.458 263.983 Q815.749 266.737 815.749 272.108 Z\" fill=\"#000000\" fill-rule=\"nonzero\" fill-opacity=\"1\" /></svg>\n"
      ]
     },
     "execution_count": 52,
     "metadata": {},
     "output_type": "execute_result"
    }
   ],
   "source": [
    "fit_poly = Polynomial(reverse(A \\ y))\n",
    "plot!(fit_poly, 100, 400, label=\"approximation\")"
   ]
  },
  {
   "cell_type": "markdown",
   "id": "0234064a",
   "metadata": {},
   "source": [
    "## Zadanie 3"
   ]
  },
  {
   "cell_type": "code",
   "execution_count": 142,
   "id": "4f95bdb5",
   "metadata": {},
   "outputs": [
    {
     "data": {
      "text/plain": [
       "5×5 Matrix{Float64}:\n",
       " 0.783208  1.60645   1.32966  0.704925  0.960131\n",
       " 1.60645   0.433295  1.47381  0.299341  0.969461\n",
       " 1.32966   1.47381   1.43938  0.78456   0.74278\n",
       " 0.704925  0.299341  0.78456  1.30831   1.53936\n",
       " 0.960131  0.969461  0.74278  1.53936   1.9559"
      ]
     },
     "execution_count": 142,
     "metadata": {},
     "output_type": "execute_result"
    }
   ],
   "source": [
    "A = rand(5, 5)\n",
    "A = A + A'\n",
    "A1 = copy(A)"
   ]
  },
  {
   "cell_type": "code",
   "execution_count": 143,
   "id": "ae68bf50",
   "metadata": {},
   "outputs": [
    {
     "data": {
      "text/plain": [
       "5×5 Matrix{Float64}:\n",
       " 5.40608   4.82696e-16   6.21971e-16   1.38366e-15  -4.65028e-17\n",
       " 0.0       1.6681       -2.3347e-15   -1.08448e-16  -4.39075e-16\n",
       " 0.0      -1.0e-323     -1.11973       4.94818e-16   9.32934e-17\n",
       " 0.0       0.0           0.0          -0.299397     -3.67987e-17\n",
       " 0.0       0.0           0.0           5.0e-323      0.265023"
      ]
     },
     "execution_count": 143,
     "metadata": {},
     "output_type": "execute_result"
    }
   ],
   "source": [
    "for i in 1:10000\n",
    "    Q, R = qr(A)\n",
    "    A = R * Q\n",
    "end\n",
    "A"
   ]
  },
  {
   "cell_type": "code",
   "execution_count": 148,
   "id": "3a922f29",
   "metadata": {},
   "outputs": [
    {
     "data": {
      "text/plain": [
       "5×5 BitMatrix:\n",
       " 0  1  1  1  1\n",
       " 1  0  1  1  1\n",
       " 1  1  0  1  1\n",
       " 1  1  1  0  1\n",
       " 1  1  1  1  0"
      ]
     },
     "execution_count": 148,
     "metadata": {},
     "output_type": "execute_result"
    }
   ],
   "source": [
    "abs.(A) .< 1e-14"
   ]
  },
  {
   "cell_type": "code",
   "execution_count": 149,
   "id": "b2e8f42d",
   "metadata": {
    "scrolled": true
   },
   "outputs": [
    {
     "data": {
      "text/plain": [
       "5-element Vector{Float64}:\n",
       " -1.1197330714985128\n",
       " -0.29939695060269644\n",
       "  0.26502318872971964\n",
       "  1.6681048125966975\n",
       "  5.406082752204952"
      ]
     },
     "execution_count": 149,
     "metadata": {},
     "output_type": "execute_result"
    }
   ],
   "source": [
    "eigen(A1).values"
   ]
  },
  {
   "cell_type": "code",
   "execution_count": 152,
   "id": "8d6e6bb3",
   "metadata": {},
   "outputs": [
    {
     "data": {
      "text/plain": [
       "5-element Vector{Float64}:\n",
       "  5.406082752204943\n",
       "  1.6681048125967013\n",
       " -1.1197330714985125\n",
       " -0.29939695060269456\n",
       "  0.26502318872972236"
      ]
     },
     "execution_count": 152,
     "metadata": {},
     "output_type": "execute_result"
    }
   ],
   "source": [
    "[A[i, i] for i in 1:size(A)[1]]"
   ]
  }
 ],
 "metadata": {
  "kernelspec": {
   "display_name": "Julia 1.8.5",
   "language": "julia",
   "name": "julia-1.8"
  },
  "language_info": {
   "file_extension": ".jl",
   "mimetype": "application/julia",
   "name": "julia",
   "version": "1.8.5"
  }
 },
 "nbformat": 4,
 "nbformat_minor": 5
}
