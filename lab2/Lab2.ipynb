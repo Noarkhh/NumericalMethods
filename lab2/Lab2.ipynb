{
 "cells": [
  {
   "cell_type": "code",
   "execution_count": 37,
   "id": "bcec7a40",
   "metadata": {},
   "outputs": [
    {
     "data": {
      "text/plain": [
       "decode (generic function with 3 methods)"
      ]
     },
     "execution_count": 37,
     "metadata": {},
     "output_type": "execute_result"
    }
   ],
   "source": [
    "decode(x::Float16) = (b=bitstring(x); (b[1], b[2:6], b[7:16]))\n",
    "decode(x::Float32) = (b=bitstring(x); (b[1], b[2:9], b[10:32]))\n",
    "decode(x::Float64) = (b=bitstring(x); (b[1], b[2:12], b[13:64]))"
   ]
  },
  {
   "cell_type": "code",
   "execution_count": 42,
   "id": "24651855",
   "metadata": {},
   "outputs": [
    {
     "data": {
      "text/plain": [
       "4-element Vector{Tuple{Char, String, String}}:\n",
       " ('0', \"01101\", \"0101010101\")\n",
       " ('0', \"01111101\", \"01010101010101010101011\")\n",
       " ('0', \"01111111101\", \"0101010101010101010101010101010101010101010101010101\")\n",
       " ('0', \"01111111101\", \"0101010101000000000000000000000000000000000000000000\")"
      ]
     },
     "execution_count": 42,
     "metadata": {},
     "output_type": "execute_result"
    }
   ],
   "source": [
    "[decode(Float16(1//3)), decode(Float32(1//3)), decode(Float64(1//3)), decode(Float64(Float16(1//3)))]"
   ]
  },
  {
   "cell_type": "code",
   "execution_count": 46,
   "id": "db735433",
   "metadata": {},
   "outputs": [],
   "source": [
    "c = Float32[]\n",
    "n = Float32(1)\n",
    "while n < 1000000\n",
    "    push!(c, n)\n",
    "    n = nextfloat(n)\n",
    "end\n",
    "# map(x-> bitstring(x),c)"
   ]
  },
  {
   "cell_type": "code",
   "execution_count": null,
   "id": "e64dcce6",
   "metadata": {},
   "outputs": [],
   "source": []
  }
 ],
 "metadata": {
  "kernelspec": {
   "display_name": "Julia 1.8.5",
   "language": "julia",
   "name": "julia-1.8"
  },
  "language_info": {
   "file_extension": ".jl",
   "mimetype": "application/julia",
   "name": "julia",
   "version": "1.8.5"
  }
 },
 "nbformat": 4,
 "nbformat_minor": 5
}
