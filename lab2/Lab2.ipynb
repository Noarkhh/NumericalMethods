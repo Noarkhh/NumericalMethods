{
 "cells": [
  {
   "cell_type": "code",
   "execution_count": 2,
   "id": "bcec7a40",
   "metadata": {},
   "outputs": [
    {
     "data": {
      "text/plain": [
       "decode (generic function with 3 methods)"
      ]
     },
     "execution_count": 2,
     "metadata": {},
     "output_type": "execute_result"
    }
   ],
   "source": [
    "decode(x::Float16) = (b=bitstring(x); (b[1], b[2:6], b[7:16]))\n",
    "decode(x::Float32) = (b=bitstring(x); (b[1], b[2:9], b[10:32]))\n",
    "decode(x::Float64) = (b=bitstring(x); (b[1], b[2:12], b[13:64]))"
   ]
  },
  {
   "cell_type": "markdown",
   "id": "5d96a372",
   "metadata": {},
   "source": [
    "## Zadanie 1"
   ]
  },
  {
   "cell_type": "code",
   "execution_count": 3,
   "id": "24651855",
   "metadata": {},
   "outputs": [
    {
     "data": {
      "text/plain": [
       "4-element Vector{Tuple{Char, String, String}}:\n",
       " ('0', \"01101\", \"0101010101\")\n",
       " ('0', \"01111101\", \"01010101010101010101011\")\n",
       " ('0', \"01111111101\", \"0101010101010101010101010101010101010101010101010101\")\n",
       " ('0', \"01111111101\", \"0101010101000000000000000000000000000000000000000000\")"
      ]
     },
     "execution_count": 3,
     "metadata": {},
     "output_type": "execute_result"
    }
   ],
   "source": [
    "[decode(Float16(1//3)), decode(Float32(1//3)), decode(Float64(1//3)), decode(Float64(Float16(1//3)))]"
   ]
  },
  {
   "cell_type": "markdown",
   "id": "ce2d7f8d",
   "metadata": {},
   "source": [
    "## Zadanie 2"
   ]
  },
  {
   "cell_type": "code",
   "execution_count": 4,
   "id": "db735433",
   "metadata": {},
   "outputs": [],
   "source": [
    "c = Float16[]\n",
    "diffs = Float64[]\n",
    "n = Float16(1)\n",
    "while n < 1000000\n",
    "    next_n = nextfloat(n)\n",
    "    push!(diffs, Float64(next_n) - Float64(n))\n",
    "    push!(c, n)\n",
    "    n = next_n\n",
    "end"
   ]
  },
  {
   "cell_type": "code",
   "execution_count": null,
   "id": "91a6210e",
   "metadata": {
    "scrolled": false
   },
   "outputs": [],
   "source": [
    "using Plots\n",
    "\n",
    "plot(c, diffs, title=\"Distance between Float16 numbers\", xlabel=\"Bigger number's value\", ylabel=\"Distance\", legend=false, size=(500, 400))"
   ]
  },
  {
   "cell_type": "markdown",
   "id": "1cf4efa0",
   "metadata": {},
   "source": [
    "## Zadanie 3"
   ]
  },
  {
   "cell_type": "markdown",
   "id": "a940131b",
   "metadata": {},
   "source": [
    "```c\n",
    "#include <stdio.h>\n",
    "#include <gsl/gsl_ieee_utils.h>\n",
    "\n",
    "int main() {\n",
    "  float n = 0.001;\n",
    "  while (n > 0.0) {\n",
    "    n /= 2;\n",
    "    gsl_ieee_printf_float(&n);\n",
    "    printf(\"\\n\");\n",
    "  }\n",
    "  return 0;\n",
    "}\n",
    "```"
   ]
  },
  {
   "cell_type": "markdown",
   "id": "7aa408a6",
   "metadata": {},
   "source": [
    "``` \n",
    " 1.00000110001001001101111*2^-11\n",
    " 1.00000110001001001101111*2^-12\n",
    " 1.00000110001001001101111*2^-13\n",
    " 1.00000110001001001101111*2^-14\n",
    "...\n",
    " 1.00000110001001001101111*2^-125\n",
    " 1.00000110001001001101111*2^-126\n",
    " 0.10000011000100100111000*2^-126\n",
    " 0.01000001100010010011100*2^-126\n",
    " 0.00100000110001001001110*2^-126\n",
    " 0.00010000011000100100111*2^-126\n",
    " 0.00001000001100010010100*2^-126\n",
    " 0.00000100000110001001010*2^-126\n",
    " 0.00000010000011000100101*2^-126\n",
    " 0.00000001000001100010010*2^-126\n",
    " 0.00000000100000110001001*2^-126\n",
    " 0.00000000010000011000100*2^-126\n",
    " 0.00000000001000001100010*2^-126\n",
    " 0.00000000000100000110001*2^-126\n",
    " 0.00000000000010000011000*2^-126\n",
    " 0.00000000000001000001100*2^-126\n",
    " 0.00000000000000100000110*2^-126\n",
    " 0.00000000000000010000011*2^-126\n",
    " 0.00000000000000001000010*2^-126\n",
    " 0.00000000000000000100001*2^-126\n",
    " 0.00000000000000000010000*2^-126\n",
    " 0.00000000000000000001000*2^-126\n",
    " 0.00000000000000000000100*2^-126\n",
    " 0.00000000000000000000010*2^-126\n",
    " 0.00000000000000000000001*2^-126\n",
    " 0\n",
    "```"
   ]
  },
  {
   "cell_type": "markdown",
   "id": "96660ed7",
   "metadata": {},
   "source": [
    "## Zadanie 4"
   ]
  },
  {
   "cell_type": "markdown",
   "id": "4bc11f4b",
   "metadata": {},
   "source": [
    "#### Podpunkt 1\n",
    "Poniższy sposób obliczania potęgi liczby e jest niestabilny numerycznie, następuje catastrophic cancellation, wynik naszego szeregu znacząco różni się od faktycznej wartości."
   ]
  },
  {
   "cell_type": "code",
   "execution_count": 41,
   "id": "49c0c142",
   "metadata": {},
   "outputs": [
    {
     "data": {
      "text/plain": [
       "maclaurin_series_e (generic function with 1 method)"
      ]
     },
     "execution_count": 41,
     "metadata": {},
     "output_type": "execute_result"
    }
   ],
   "source": [
    "maclaurin_series_e(n, x) = Float64(sum([Float16((x^i)/factorial(big(i))) for i in 0:n]))"
   ]
  },
  {
   "cell_type": "code",
   "execution_count": 42,
   "id": "310af49c",
   "metadata": {},
   "outputs": [
    {
     "data": {
      "text/plain": [
       "(-0.00266265869140625, 0.004086771438464067)"
      ]
     },
     "execution_count": 42,
     "metadata": {},
     "output_type": "execute_result"
    }
   ],
   "source": [
    "n = 40\n",
    "x = -5.5\n",
    "series_result = maclaurin_series_e(n, x)\n",
    "analytical_result = Base.MathConstants.e^x\n",
    "series_result, analytical_result"
   ]
  },
  {
   "cell_type": "markdown",
   "id": "1d67d9f2",
   "metadata": {},
   "source": [
    "#### Podpunkt 2\n",
    "Przyjrzyjmy się bliżej catastrophic cancellation:"
   ]
  },
  {
   "cell_type": "code",
   "execution_count": 37,
   "id": "eeefa2bc",
   "metadata": {},
   "outputs": [
    {
     "name": "stdout",
     "output_type": "stream",
     "text": [
      "Float16[1.0, -5.5, 15.125, -27.73, 38.12, -41.94, 38.44, -30.2, 20.77, -12.69, 6.98, -3.49, 1.6, -0.677, 0.2659, -0.0975, 0.0335, -0.01084, 0.003313, -0.000959, 0.0002637, -6.91e-5, 1.73e-5, -4.1e-6, 9.5e-7, -2.0e-7]\n",
      "[1.0, -5.5, 15.125, -27.729166666666668, 38.127604166666664, -41.940364583333334, 38.44533420138889, -30.20704830109127, 20.76734570700025, -12.691155709833485, 6.980135640408417, -3.4900678202042084, 1.5996144175935956, -0.6767599459049827, 0.2658699787483861, -0.09748565887440823, 0.03351069523807783, -0.01084169551820165, 0.0033127402972282817, -0.0009589511386713448, 0.0002637115631346198, -6.906731415430518e-5, 1.7266828538576296e-5, -4.1290242157465054e-6, 9.462347161085741e-7, -2.0817163754388631e-7]\n"
     ]
    },
    {
     "data": {
      "text/plain": [
       "0.008858816964281147"
      ]
     },
     "execution_count": 37,
     "metadata": {},
     "output_type": "execute_result"
    }
   ],
   "source": [
    "arr_float16 = [Float16((x^i)/factorial(big(i))) for i in 0:25]\n",
    "arr_float64 = [Float64((x^i)/factorial(big(i))) for i in 0:25]\n",
    "println(arr_float16)\n",
    "println(arr_float64)\n",
    "\n",
    "# Widzimy, że początkowo odejmując i dodając do siebie większe liczby, kumulujemy błąd,\n",
    "# który w naszym końcowym, małym wyniku będzie istotny.\n",
    "\n",
    "abs(sum(arr_float64[1:8]) - sum(arr_float16[1:8]))"
   ]
  },
  {
   "cell_type": "markdown",
   "id": "6a13d5bf",
   "metadata": {},
   "source": [
    "#### Podpunkt 3\n",
    "Żeby rozwiązać nasz problem wystarczy policzyć dodatnią potęgę, a następnie policzyć jej odwrotność."
   ]
  },
  {
   "cell_type": "code",
   "execution_count": 44,
   "id": "b032a7fa",
   "metadata": {},
   "outputs": [
    {
     "data": {
      "text/plain": [
       "(0.00408371618172537, 0.004086771438464067)"
      ]
     },
     "execution_count": 44,
     "metadata": {},
     "output_type": "execute_result"
    }
   ],
   "source": [
    "n = 40\n",
    "x = -5.5\n",
    "1 / maclaurin_series_e(n, -x), Base.MathConstants.e^x"
   ]
  }
 ],
 "metadata": {
  "kernelspec": {
   "display_name": "Julia 1.8.5",
   "language": "julia",
   "name": "julia-1.8"
  },
  "language_info": {
   "file_extension": ".jl",
   "mimetype": "application/julia",
   "name": "julia",
   "version": "1.8.5"
  }
 },
 "nbformat": 4,
 "nbformat_minor": 5
}
