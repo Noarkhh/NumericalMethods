{
 "cells": [
  {
   "cell_type": "markdown",
   "id": "86686f59",
   "metadata": {},
   "source": [
    "## Zadanie A"
   ]
  },
  {
   "cell_type": "code",
   "execution_count": 8,
   "id": "8d243124",
   "metadata": {},
   "outputs": [],
   "source": [
    "using Roots  \n",
    "using Plots\n",
    "using ForwardDiff\n",
    "using DataFrames"
   ]
  },
  {
   "cell_type": "markdown",
   "id": "3688497b",
   "metadata": {},
   "source": [
    "Selected functions:"
   ]
  },
  {
   "cell_type": "code",
   "execution_count": 40,
   "id": "0a7f7415",
   "metadata": {},
   "outputs": [
    {
     "data": {
      "text/plain": [
       "f6 (generic function with 1 method)"
      ]
     },
     "execution_count": 40,
     "metadata": {},
     "output_type": "execute_result"
    }
   ],
   "source": [
    "f1(x) = 2 * x - exp(-x)\n",
    "f2(x) = (x + 3) * (x - 1)^2\n",
    "f3(x) = sin(x) - x / 2\n",
    "f4(x) = exp(x) - 2 - 1 / (10 * x)^2 + 2 / (100 * x)^3\n",
    "# f4(x) = cos(x) - x\n",
    "f5(x) = (x-1)^7\n",
    "f6(x) = x^3 - 2*x - 5"
   ]
  },
  {
   "cell_type": "markdown",
   "id": "b4cd96f8",
   "metadata": {},
   "source": [
    "Selected methods: Bisection, Newtons, Secant"
   ]
  },
  {
   "cell_type": "markdown",
   "id": "b60fee38",
   "metadata": {},
   "source": [
    "### Task 1."
   ]
  },
  {
   "cell_type": "code",
   "execution_count": 41,
   "id": "891441f0",
   "metadata": {},
   "outputs": [
    {
     "data": {
      "text/plain": [
       "6-element Vector{Function}:\n",
       " f1 (generic function with 1 method)\n",
       " f2 (generic function with 1 method)\n",
       " f3 (generic function with 1 method)\n",
       " f4 (generic function with 1 method)\n",
       " f5 (generic function with 1 method)\n",
       " f6 (generic function with 1 method)"
      ]
     },
     "execution_count": 41,
     "metadata": {},
     "output_type": "execute_result"
    }
   ],
   "source": [
    "funs = [f1, f2, f3, f4, f5, f6]"
   ]
  },
  {
   "cell_type": "code",
   "execution_count": 33,
   "id": "bc881574",
   "metadata": {},
   "outputs": [
    {
     "data": {
      "text/plain": [
       "D (generic function with 1 method)"
      ]
     },
     "execution_count": 33,
     "metadata": {},
     "output_type": "execute_result"
    }
   ],
   "source": [
    "D(f) = x->ForwardDiff.derivative(f, float(x))"
   ]
  },
  {
   "cell_type": "code",
   "execution_count": 37,
   "id": "4991a132",
   "metadata": {},
   "outputs": [
    {
     "data": {
      "text/plain": [
       "ds (generic function with 1 method)"
      ]
     },
     "execution_count": 37,
     "metadata": {},
     "output_type": "execute_result"
    }
   ],
   "source": [
    "ds(f, x) = sign(f(prevfloat(x))) != sign(f(nextfloat(x)))"
   ]
  },
  {
   "cell_type": "code",
   "execution_count": 58,
   "id": "8ff027ab",
   "metadata": {},
   "outputs": [
    {
     "data": {
      "image/svg+xml": [
       "<?xml version=\"1.0\" encoding=\"utf-8\"?>\n",
       "<svg xmlns=\"http://www.w3.org/2000/svg\" xmlns:xlink=\"http://www.w3.org/1999/xlink\" width=\"1000\" height=\"400\" viewBox=\"0 0 4000 1600\">\n",
       "<defs>\n",
       "  <clipPath id=\"clip940\">\n",
       "    <rect x=\"0\" y=\"0\" width=\"4000\" height=\"1600\"/>\n",
       "  </clipPath>\n",
       "</defs>\n",
       "<path clip-path=\"url(#clip940)\" d=\"M0 1600 L4000 1600 L4000 0 L0 0  Z\" fill=\"#ffffff\" fill-rule=\"evenodd\" fill-opacity=\"1\"/>\n",
       "<defs>\n",
       "  <clipPath id=\"clip941\">\n",
       "    <rect x=\"800\" y=\"0\" width=\"2801\" height=\"1600\"/>\n",
       "  </clipPath>\n",
       "</defs>\n",
       "<path clip-path=\"url(#clip940)\" d=\"M330.445 700.272 L1331.28 700.272 L1331.28 47.2441 L330.445 47.2441  Z\" fill=\"#ffffff\" fill-rule=\"evenodd\" fill-opacity=\"1\"/>\n",
       "<defs>\n",
       "  <clipPath id=\"clip942\">\n",
       "    <rect x=\"330\" y=\"47\" width=\"1002\" height=\"654\"/>\n",
       "  </clipPath>\n",
       "</defs>\n",
       "<polyline clip-path=\"url(#clip942)\" style=\"stroke:#000000; stroke-linecap:round; stroke-linejoin:round; stroke-width:2; stroke-opacity:0.1; fill:none\" points=\"358.77,700.272 358.77,47.2441 \"/>\n",
       "<polyline clip-path=\"url(#clip942)\" style=\"stroke:#000000; stroke-linecap:round; stroke-linejoin:round; stroke-width:2; stroke-opacity:0.1; fill:none\" points=\"594.817,700.272 594.817,47.2441 \"/>\n",
       "<polyline clip-path=\"url(#clip942)\" style=\"stroke:#000000; stroke-linecap:round; stroke-linejoin:round; stroke-width:2; stroke-opacity:0.1; fill:none\" points=\"830.863,700.272 830.863,47.2441 \"/>\n",
       "<polyline clip-path=\"url(#clip942)\" style=\"stroke:#000000; stroke-linecap:round; stroke-linejoin:round; stroke-width:2; stroke-opacity:0.1; fill:none\" points=\"1066.91,700.272 1066.91,47.2441 \"/>\n",
       "<polyline clip-path=\"url(#clip942)\" style=\"stroke:#000000; stroke-linecap:round; stroke-linejoin:round; stroke-width:2; stroke-opacity:0.1; fill:none\" points=\"1302.96,700.272 1302.96,47.2441 \"/>\n",
       "<polyline clip-path=\"url(#clip940)\" style=\"stroke:#000000; stroke-linecap:round; stroke-linejoin:round; stroke-width:4; stroke-opacity:1; fill:none\" points=\"330.445,700.272 1331.28,700.272 \"/>\n",
       "<polyline clip-path=\"url(#clip940)\" style=\"stroke:#000000; stroke-linecap:round; stroke-linejoin:round; stroke-width:4; stroke-opacity:1; fill:none\" points=\"358.77,700.272 358.77,681.374 \"/>\n",
       "<polyline clip-path=\"url(#clip940)\" style=\"stroke:#000000; stroke-linecap:round; stroke-linejoin:round; stroke-width:4; stroke-opacity:1; fill:none\" points=\"594.817,700.272 594.817,681.374 \"/>\n",
       "<polyline clip-path=\"url(#clip940)\" style=\"stroke:#000000; stroke-linecap:round; stroke-linejoin:round; stroke-width:4; stroke-opacity:1; fill:none\" points=\"830.863,700.272 830.863,681.374 \"/>\n",
       "<polyline clip-path=\"url(#clip940)\" style=\"stroke:#000000; stroke-linecap:round; stroke-linejoin:round; stroke-width:4; stroke-opacity:1; fill:none\" points=\"1066.91,700.272 1066.91,681.374 \"/>\n",
       "<polyline clip-path=\"url(#clip940)\" style=\"stroke:#000000; stroke-linecap:round; stroke-linejoin:round; stroke-width:4; stroke-opacity:1; fill:none\" points=\"1302.96,700.272 1302.96,681.374 \"/>\n",
       "<path clip-path=\"url(#clip940)\" d=\"M327.671 758.643 L357.347 758.643 L357.347 762.578 L327.671 762.578 L327.671 758.643 Z\" fill=\"#000000\" fill-rule=\"nonzero\" fill-opacity=\"1\" /><path clip-path=\"url(#clip940)\" d=\"M380.286 744.986 L368.481 763.435 L380.286 763.435 L380.286 744.986 M379.059 740.912 L384.939 740.912 L384.939 763.435 L389.87 763.435 L389.87 767.324 L384.939 767.324 L384.939 775.472 L380.286 775.472 L380.286 767.324 L364.685 767.324 L364.685 762.81 L379.059 740.912 Z\" fill=\"#000000\" fill-rule=\"nonzero\" fill-opacity=\"1\" /><path clip-path=\"url(#clip940)\" d=\"M564.759 758.643 L594.435 758.643 L594.435 762.578 L564.759 762.578 L564.759 758.643 Z\" fill=\"#000000\" fill-rule=\"nonzero\" fill-opacity=\"1\" /><path clip-path=\"url(#clip940)\" d=\"M608.555 771.537 L624.874 771.537 L624.874 775.472 L602.93 775.472 L602.93 771.537 Q605.592 768.782 610.175 764.152 Q614.782 759.5 615.962 758.157 Q618.208 755.634 619.087 753.898 Q619.99 752.139 619.99 750.449 Q619.99 747.694 618.046 745.958 Q616.124 744.222 613.023 744.222 Q610.824 744.222 608.37 744.986 Q605.939 745.75 603.162 747.301 L603.162 742.579 Q605.986 741.444 608.439 740.866 Q610.893 740.287 612.93 740.287 Q618.3 740.287 621.495 742.972 Q624.689 745.657 624.689 750.148 Q624.689 752.278 623.879 754.199 Q623.092 756.097 620.986 758.69 Q620.407 759.361 617.305 762.578 Q614.203 765.773 608.555 771.537 Z\" fill=\"#000000\" fill-rule=\"nonzero\" fill-opacity=\"1\" /><path clip-path=\"url(#clip940)\" d=\"M830.863 743.991 Q827.252 743.991 825.423 747.555 Q823.618 751.097 823.618 758.227 Q823.618 765.333 825.423 768.898 Q827.252 772.439 830.863 772.439 Q834.497 772.439 836.303 768.898 Q838.132 765.333 838.132 758.227 Q838.132 751.097 836.303 747.555 Q834.497 743.991 830.863 743.991 M830.863 740.287 Q836.673 740.287 839.729 744.893 Q842.808 749.477 842.808 758.227 Q842.808 766.953 839.729 771.56 Q836.673 776.143 830.863 776.143 Q825.053 776.143 821.974 771.56 Q818.919 766.953 818.919 758.227 Q818.919 749.477 821.974 744.893 Q825.053 740.287 830.863 740.287 Z\" fill=\"#000000\" fill-rule=\"nonzero\" fill-opacity=\"1\" /><path clip-path=\"url(#clip940)\" d=\"M1061.56 771.537 L1077.88 771.537 L1077.88 775.472 L1055.94 775.472 L1055.94 771.537 Q1058.6 768.782 1063.18 764.152 Q1067.79 759.5 1068.97 758.157 Q1071.22 755.634 1072.09 753.898 Q1073 752.139 1073 750.449 Q1073 747.694 1071.05 745.958 Q1069.13 744.222 1066.03 744.222 Q1063.83 744.222 1061.38 744.986 Q1058.95 745.75 1056.17 747.301 L1056.17 742.579 Q1058.99 741.444 1061.45 740.866 Q1063.9 740.287 1065.94 740.287 Q1071.31 740.287 1074.5 742.972 Q1077.7 745.657 1077.7 750.148 Q1077.7 752.278 1076.89 754.199 Q1076.1 756.097 1073.99 758.69 Q1073.41 759.361 1070.31 762.578 Q1067.21 765.773 1061.56 771.537 Z\" fill=\"#000000\" fill-rule=\"nonzero\" fill-opacity=\"1\" /><path clip-path=\"url(#clip940)\" d=\"M1305.97 744.986 L1294.16 763.435 L1305.97 763.435 L1305.97 744.986 M1304.74 740.912 L1310.62 740.912 L1310.62 763.435 L1315.55 763.435 L1315.55 767.324 L1310.62 767.324 L1310.62 775.472 L1305.97 775.472 L1305.97 767.324 L1290.36 767.324 L1290.36 762.81 L1304.74 740.912 Z\" fill=\"#000000\" fill-rule=\"nonzero\" fill-opacity=\"1\" /><polyline clip-path=\"url(#clip942)\" style=\"stroke:#000000; stroke-linecap:round; stroke-linejoin:round; stroke-width:2; stroke-opacity:0.1; fill:none\" points=\"330.445,659.112 1331.28,659.112 \"/>\n",
       "<polyline clip-path=\"url(#clip942)\" style=\"stroke:#000000; stroke-linecap:round; stroke-linejoin:round; stroke-width:2; stroke-opacity:0.1; fill:none\" points=\"330.445,484.539 1331.28,484.539 \"/>\n",
       "<polyline clip-path=\"url(#clip942)\" style=\"stroke:#000000; stroke-linecap:round; stroke-linejoin:round; stroke-width:2; stroke-opacity:0.1; fill:none\" points=\"330.445,309.967 1331.28,309.967 \"/>\n",
       "<polyline clip-path=\"url(#clip942)\" style=\"stroke:#000000; stroke-linecap:round; stroke-linejoin:round; stroke-width:2; stroke-opacity:0.1; fill:none\" points=\"330.445,135.395 1331.28,135.395 \"/>\n",
       "<polyline clip-path=\"url(#clip940)\" style=\"stroke:#000000; stroke-linecap:round; stroke-linejoin:round; stroke-width:4; stroke-opacity:1; fill:none\" points=\"330.445,700.272 330.445,47.2441 \"/>\n",
       "<polyline clip-path=\"url(#clip940)\" style=\"stroke:#000000; stroke-linecap:round; stroke-linejoin:round; stroke-width:4; stroke-opacity:1; fill:none\" points=\"330.445,659.112 349.342,659.112 \"/>\n",
       "<polyline clip-path=\"url(#clip940)\" style=\"stroke:#000000; stroke-linecap:round; stroke-linejoin:round; stroke-width:4; stroke-opacity:1; fill:none\" points=\"330.445,484.539 349.342,484.539 \"/>\n",
       "<polyline clip-path=\"url(#clip940)\" style=\"stroke:#000000; stroke-linecap:round; stroke-linejoin:round; stroke-width:4; stroke-opacity:1; fill:none\" points=\"330.445,309.967 349.342,309.967 \"/>\n",
       "<polyline clip-path=\"url(#clip940)\" style=\"stroke:#000000; stroke-linecap:round; stroke-linejoin:round; stroke-width:4; stroke-opacity:1; fill:none\" points=\"330.445,135.395 349.342,135.395 \"/>\n",
       "<path clip-path=\"url(#clip940)\" d=\"M178.57 659.563 L208.246 659.563 L208.246 663.498 L178.57 663.498 L178.57 659.563 Z\" fill=\"#000000\" fill-rule=\"nonzero\" fill-opacity=\"1\" /><path clip-path=\"url(#clip940)\" d=\"M228.917 657.248 Q225.769 657.248 223.917 659.401 Q222.088 661.554 222.088 665.304 Q222.088 669.031 223.917 671.207 Q225.769 673.359 228.917 673.359 Q232.065 673.359 233.894 671.207 Q235.746 669.031 235.746 665.304 Q235.746 661.554 233.894 659.401 Q232.065 657.248 228.917 657.248 M238.199 642.596 L238.199 646.855 Q236.44 646.022 234.635 645.582 Q232.852 645.142 231.093 645.142 Q226.463 645.142 224.01 648.267 Q221.579 651.392 221.232 657.711 Q222.598 655.697 224.658 654.633 Q226.718 653.545 229.195 653.545 Q234.403 653.545 237.412 656.716 Q240.445 659.864 240.445 665.304 Q240.445 670.628 237.297 673.845 Q234.149 677.063 228.917 677.063 Q222.922 677.063 219.75 672.48 Q216.579 667.873 216.579 659.146 Q216.579 650.952 220.468 646.091 Q224.357 641.207 230.908 641.207 Q232.667 641.207 234.449 641.554 Q236.255 641.901 238.199 642.596 Z\" fill=\"#000000\" fill-rule=\"nonzero\" fill-opacity=\"1\" /><path clip-path=\"url(#clip940)\" d=\"M258.5 644.91 Q254.889 644.91 253.06 648.475 Q251.255 652.017 251.255 659.146 Q251.255 666.253 253.06 669.818 Q254.889 673.359 258.5 673.359 Q262.134 673.359 263.94 669.818 Q265.769 666.253 265.769 659.146 Q265.769 652.017 263.94 648.475 Q262.134 644.91 258.5 644.91 M258.5 641.207 Q264.31 641.207 267.366 645.813 Q270.445 650.396 270.445 659.146 Q270.445 667.873 267.366 672.48 Q264.31 677.063 258.5 677.063 Q252.69 677.063 249.611 672.48 Q246.556 667.873 246.556 659.146 Q246.556 650.396 249.611 645.813 Q252.69 641.207 258.5 641.207 Z\" fill=\"#000000\" fill-rule=\"nonzero\" fill-opacity=\"1\" /><path clip-path=\"url(#clip940)\" d=\"M178.57 484.991 L208.246 484.991 L208.246 488.926 L178.57 488.926 L178.57 484.991 Z\" fill=\"#000000\" fill-rule=\"nonzero\" fill-opacity=\"1\" /><path clip-path=\"url(#clip940)\" d=\"M231.186 471.334 L219.38 489.783 L231.186 489.783 L231.186 471.334 M229.959 467.259 L235.838 467.259 L235.838 489.783 L240.769 489.783 L240.769 493.671 L235.838 493.671 L235.838 501.819 L231.186 501.819 L231.186 493.671 L215.584 493.671 L215.584 489.158 L229.959 467.259 Z\" fill=\"#000000\" fill-rule=\"nonzero\" fill-opacity=\"1\" /><path clip-path=\"url(#clip940)\" d=\"M258.5 470.338 Q254.889 470.338 253.06 473.903 Q251.255 477.445 251.255 484.574 Q251.255 491.681 253.06 495.245 Q254.889 498.787 258.5 498.787 Q262.134 498.787 263.94 495.245 Q265.769 491.681 265.769 484.574 Q265.769 477.445 263.94 473.903 Q262.134 470.338 258.5 470.338 M258.5 466.634 Q264.31 466.634 267.366 471.241 Q270.445 475.824 270.445 484.574 Q270.445 493.301 267.366 497.907 Q264.31 502.491 258.5 502.491 Q252.69 502.491 249.611 497.907 Q246.556 493.301 246.556 484.574 Q246.556 475.824 249.611 471.241 Q252.69 466.634 258.5 466.634 Z\" fill=\"#000000\" fill-rule=\"nonzero\" fill-opacity=\"1\" /><path clip-path=\"url(#clip940)\" d=\"M178.57 310.419 L208.246 310.419 L208.246 314.354 L178.57 314.354 L178.57 310.419 Z\" fill=\"#000000\" fill-rule=\"nonzero\" fill-opacity=\"1\" /><path clip-path=\"url(#clip940)\" d=\"M222.366 323.312 L238.686 323.312 L238.686 327.247 L216.741 327.247 L216.741 323.312 Q219.403 320.557 223.987 315.928 Q228.593 311.275 229.774 309.933 Q232.019 307.409 232.899 305.673 Q233.801 303.914 233.801 302.224 Q233.801 299.47 231.857 297.734 Q229.936 295.997 226.834 295.997 Q224.635 295.997 222.181 296.761 Q219.75 297.525 216.973 299.076 L216.973 294.354 Q219.797 293.22 222.25 292.641 Q224.704 292.062 226.741 292.062 Q232.111 292.062 235.306 294.747 Q238.5 297.433 238.5 301.923 Q238.5 304.053 237.69 305.974 Q236.903 307.872 234.797 310.465 Q234.218 311.136 231.116 314.354 Q228.014 317.548 222.366 323.312 Z\" fill=\"#000000\" fill-rule=\"nonzero\" fill-opacity=\"1\" /><path clip-path=\"url(#clip940)\" d=\"M258.5 295.766 Q254.889 295.766 253.06 299.331 Q251.255 302.872 251.255 310.002 Q251.255 317.108 253.06 320.673 Q254.889 324.215 258.5 324.215 Q262.134 324.215 263.94 320.673 Q265.769 317.108 265.769 310.002 Q265.769 302.872 263.94 299.331 Q262.134 295.766 258.5 295.766 M258.5 292.062 Q264.31 292.062 267.366 296.669 Q270.445 301.252 270.445 310.002 Q270.445 318.729 267.366 323.335 Q264.31 327.919 258.5 327.919 Q252.69 327.919 249.611 323.335 Q246.556 318.729 246.556 310.002 Q246.556 301.252 249.611 296.669 Q252.69 292.062 258.5 292.062 Z\" fill=\"#000000\" fill-rule=\"nonzero\" fill-opacity=\"1\" /><path clip-path=\"url(#clip940)\" d=\"M258.5 121.194 Q254.889 121.194 253.06 124.759 Q251.255 128.3 251.255 135.43 Q251.255 142.536 253.06 146.101 Q254.889 149.643 258.5 149.643 Q262.134 149.643 263.94 146.101 Q265.769 142.536 265.769 135.43 Q265.769 128.3 263.94 124.759 Q262.134 121.194 258.5 121.194 M258.5 117.49 Q264.31 117.49 267.366 122.096 Q270.445 126.68 270.445 135.43 Q270.445 144.157 267.366 148.763 Q264.31 153.346 258.5 153.346 Q252.69 153.346 249.611 148.763 Q246.556 144.157 246.556 135.43 Q246.556 126.68 249.611 122.096 Q252.69 117.49 258.5 117.49 Z\" fill=\"#000000\" fill-rule=\"nonzero\" fill-opacity=\"1\" /><polyline clip-path=\"url(#clip942)\" style=\"stroke:#009af9; stroke-linecap:round; stroke-linejoin:round; stroke-width:4; stroke-opacity:1; fill:none\" points=\"358.77,681.79 360.307,675.397 361.844,669.085 363.381,662.851 364.917,656.694 372.022,629.214 379.127,603.278 386.232,578.795 393.337,555.682 400.442,533.857 407.547,513.246 414.652,493.778 421.757,475.386 426.027,464.825 430.296,454.616 434.566,444.747 438.836,435.207 447.375,417.065 455.915,400.1 463.135,386.616 470.355,373.868 477.575,361.813 484.795,350.41 492.638,338.717 500.481,327.701 508.324,317.319 516.167,307.529 523.398,298.997 530.628,290.908 537.859,283.236 545.09,275.957 560.593,261.564 576.097,248.66 594.06,235.332 612.023,223.511 627.986,214.098 643.949,205.577 657.947,198.749 671.946,192.453 687.207,186.126 702.469,180.292 717.822,174.861 733.174,169.816 767.123,159.802 799.424,151.438 833.01,143.649 861.282,137.641 895.798,130.825 927.418,124.965 956.621,119.801 986.203,114.759 1019.36,109.282 1049.4,104.441 1083.79,99.007 1115.64,94.0542 1147.04,89.2274 1177.52,84.5819 1208.78,79.8518 1243.01,74.698 1292.75,67.2497 1302.96,65.726 \"/>\n",
       "<path clip-path=\"url(#clip940)\" d=\"M363.806 172.692 L505.278 172.692 L505.278 69.0117 L363.806 69.0117  Z\" fill=\"#ffffff\" fill-rule=\"evenodd\" fill-opacity=\"1\"/>\n",
       "<polyline clip-path=\"url(#clip940)\" style=\"stroke:#000000; stroke-linecap:round; stroke-linejoin:round; stroke-width:4; stroke-opacity:1; fill:none\" points=\"363.806,172.692 505.278,172.692 505.278,69.0117 363.806,69.0117 363.806,172.692 \"/>\n",
       "<polyline clip-path=\"url(#clip940)\" style=\"stroke:#009af9; stroke-linecap:round; stroke-linejoin:round; stroke-width:4; stroke-opacity:1; fill:none\" points=\"374.926,120.852 441.649,120.852 \"/>\n",
       "<path clip-path=\"url(#clip940)\" d=\"M469.274 102.113 L469.274 105.655 L465.2 105.655 Q462.908 105.655 462.005 106.581 Q461.126 107.507 461.126 109.914 L461.126 112.206 L468.139 112.206 L468.139 115.516 L461.126 115.516 L461.126 138.132 L456.843 138.132 L456.843 115.516 L452.769 115.516 L452.769 112.206 L456.843 112.206 L456.843 110.4 Q456.843 106.072 458.857 104.104 Q460.871 102.113 465.246 102.113 L469.274 102.113 Z\" fill=\"#000000\" fill-rule=\"nonzero\" fill-opacity=\"1\" /><path clip-path=\"url(#clip940)\" d=\"M474.251 134.197 L481.889 134.197 L481.889 107.831 L473.579 109.498 L473.579 105.238 L481.843 103.572 L486.519 103.572 L486.519 134.197 L494.158 134.197 L494.158 138.132 L474.251 138.132 L474.251 134.197 Z\" fill=\"#000000\" fill-rule=\"nonzero\" fill-opacity=\"1\" /><path clip-path=\"url(#clip940)\" d=\"M1708.97 700.272 L2709.81 700.272 L2709.81 47.2441 L1708.97 47.2441  Z\" fill=\"#ffffff\" fill-rule=\"evenodd\" fill-opacity=\"1\"/>\n",
       "<defs>\n",
       "  <clipPath id=\"clip943\">\n",
       "    <rect x=\"1708\" y=\"47\" width=\"1002\" height=\"654\"/>\n",
       "  </clipPath>\n",
       "</defs>\n",
       "<polyline clip-path=\"url(#clip943)\" style=\"stroke:#000000; stroke-linecap:round; stroke-linejoin:round; stroke-width:2; stroke-opacity:0.1; fill:none\" points=\"1737.3,700.272 1737.3,47.2441 \"/>\n",
       "<polyline clip-path=\"url(#clip943)\" style=\"stroke:#000000; stroke-linecap:round; stroke-linejoin:round; stroke-width:2; stroke-opacity:0.1; fill:none\" points=\"1973.34,700.272 1973.34,47.2441 \"/>\n",
       "<polyline clip-path=\"url(#clip943)\" style=\"stroke:#000000; stroke-linecap:round; stroke-linejoin:round; stroke-width:2; stroke-opacity:0.1; fill:none\" points=\"2209.39,700.272 2209.39,47.2441 \"/>\n",
       "<polyline clip-path=\"url(#clip943)\" style=\"stroke:#000000; stroke-linecap:round; stroke-linejoin:round; stroke-width:2; stroke-opacity:0.1; fill:none\" points=\"2445.44,700.272 2445.44,47.2441 \"/>\n",
       "<polyline clip-path=\"url(#clip943)\" style=\"stroke:#000000; stroke-linecap:round; stroke-linejoin:round; stroke-width:2; stroke-opacity:0.1; fill:none\" points=\"2681.48,700.272 2681.48,47.2441 \"/>\n",
       "<polyline clip-path=\"url(#clip940)\" style=\"stroke:#000000; stroke-linecap:round; stroke-linejoin:round; stroke-width:4; stroke-opacity:1; fill:none\" points=\"1708.97,700.272 2709.81,700.272 \"/>\n",
       "<polyline clip-path=\"url(#clip940)\" style=\"stroke:#000000; stroke-linecap:round; stroke-linejoin:round; stroke-width:4; stroke-opacity:1; fill:none\" points=\"1737.3,700.272 1737.3,681.374 \"/>\n",
       "<polyline clip-path=\"url(#clip940)\" style=\"stroke:#000000; stroke-linecap:round; stroke-linejoin:round; stroke-width:4; stroke-opacity:1; fill:none\" points=\"1973.34,700.272 1973.34,681.374 \"/>\n",
       "<polyline clip-path=\"url(#clip940)\" style=\"stroke:#000000; stroke-linecap:round; stroke-linejoin:round; stroke-width:4; stroke-opacity:1; fill:none\" points=\"2209.39,700.272 2209.39,681.374 \"/>\n",
       "<polyline clip-path=\"url(#clip940)\" style=\"stroke:#000000; stroke-linecap:round; stroke-linejoin:round; stroke-width:4; stroke-opacity:1; fill:none\" points=\"2445.44,700.272 2445.44,681.374 \"/>\n",
       "<polyline clip-path=\"url(#clip940)\" style=\"stroke:#000000; stroke-linecap:round; stroke-linejoin:round; stroke-width:4; stroke-opacity:1; fill:none\" points=\"2681.48,700.272 2681.48,681.374 \"/>\n",
       "<path clip-path=\"url(#clip940)\" d=\"M1706.2 758.643 L1735.87 758.643 L1735.87 762.578 L1706.2 762.578 L1706.2 758.643 Z\" fill=\"#000000\" fill-rule=\"nonzero\" fill-opacity=\"1\" /><path clip-path=\"url(#clip940)\" d=\"M1758.81 744.986 L1747.01 763.435 L1758.81 763.435 L1758.81 744.986 M1757.59 740.912 L1763.47 740.912 L1763.47 763.435 L1768.4 763.435 L1768.4 767.324 L1763.47 767.324 L1763.47 775.472 L1758.81 775.472 L1758.81 767.324 L1743.21 767.324 L1743.21 762.81 L1757.59 740.912 Z\" fill=\"#000000\" fill-rule=\"nonzero\" fill-opacity=\"1\" /><path clip-path=\"url(#clip940)\" d=\"M1943.29 758.643 L1972.96 758.643 L1972.96 762.578 L1943.29 762.578 L1943.29 758.643 Z\" fill=\"#000000\" fill-rule=\"nonzero\" fill-opacity=\"1\" /><path clip-path=\"url(#clip940)\" d=\"M1987.08 771.537 L2003.4 771.537 L2003.4 775.472 L1981.46 775.472 L1981.46 771.537 Q1984.12 768.782 1988.7 764.152 Q1993.31 759.5 1994.49 758.157 Q1996.73 755.634 1997.61 753.898 Q1998.52 752.139 1998.52 750.449 Q1998.52 747.694 1996.57 745.958 Q1994.65 744.222 1991.55 744.222 Q1989.35 744.222 1986.9 744.986 Q1984.47 745.75 1981.69 747.301 L1981.69 742.579 Q1984.51 741.444 1986.97 740.866 Q1989.42 740.287 1991.46 740.287 Q1996.83 740.287 2000.02 742.972 Q2003.22 745.657 2003.22 750.148 Q2003.22 752.278 2002.41 754.199 Q2001.62 756.097 1999.51 758.69 Q1998.93 759.361 1995.83 762.578 Q1992.73 765.773 1987.08 771.537 Z\" fill=\"#000000\" fill-rule=\"nonzero\" fill-opacity=\"1\" /><path clip-path=\"url(#clip940)\" d=\"M2209.39 743.991 Q2205.78 743.991 2203.95 747.555 Q2202.14 751.097 2202.14 758.227 Q2202.14 765.333 2203.95 768.898 Q2205.78 772.439 2209.39 772.439 Q2213.02 772.439 2214.83 768.898 Q2216.66 765.333 2216.66 758.227 Q2216.66 751.097 2214.83 747.555 Q2213.02 743.991 2209.39 743.991 M2209.39 740.287 Q2215.2 740.287 2218.25 744.893 Q2221.33 749.477 2221.33 758.227 Q2221.33 766.953 2218.25 771.56 Q2215.2 776.143 2209.39 776.143 Q2203.58 776.143 2200.5 771.56 Q2197.44 766.953 2197.44 758.227 Q2197.44 749.477 2200.5 744.893 Q2203.58 740.287 2209.39 740.287 Z\" fill=\"#000000\" fill-rule=\"nonzero\" fill-opacity=\"1\" /><path clip-path=\"url(#clip940)\" d=\"M2440.09 771.537 L2456.41 771.537 L2456.41 775.472 L2434.46 775.472 L2434.46 771.537 Q2437.13 768.782 2441.71 764.152 Q2446.32 759.5 2447.5 758.157 Q2449.74 755.634 2450.62 753.898 Q2451.52 752.139 2451.52 750.449 Q2451.52 747.694 2449.58 745.958 Q2447.66 744.222 2444.56 744.222 Q2442.36 744.222 2439.9 744.986 Q2437.47 745.75 2434.7 747.301 L2434.7 742.579 Q2437.52 741.444 2439.97 740.866 Q2442.43 740.287 2444.46 740.287 Q2449.83 740.287 2453.03 742.972 Q2456.22 745.657 2456.22 750.148 Q2456.22 752.278 2455.41 754.199 Q2454.63 756.097 2452.52 758.69 Q2451.94 759.361 2448.84 762.578 Q2445.74 765.773 2440.09 771.537 Z\" fill=\"#000000\" fill-rule=\"nonzero\" fill-opacity=\"1\" /><path clip-path=\"url(#clip940)\" d=\"M2684.49 744.986 L2672.69 763.435 L2684.49 763.435 L2684.49 744.986 M2683.26 740.912 L2689.14 740.912 L2689.14 763.435 L2694.07 763.435 L2694.07 767.324 L2689.14 767.324 L2689.14 775.472 L2684.49 775.472 L2684.49 767.324 L2668.89 767.324 L2668.89 762.81 L2683.26 740.912 Z\" fill=\"#000000\" fill-rule=\"nonzero\" fill-opacity=\"1\" /><polyline clip-path=\"url(#clip943)\" style=\"stroke:#000000; stroke-linecap:round; stroke-linejoin:round; stroke-width:2; stroke-opacity:0.1; fill:none\" points=\"1708.97,646.786 2709.81,646.786 \"/>\n",
       "<polyline clip-path=\"url(#clip943)\" style=\"stroke:#000000; stroke-linecap:round; stroke-linejoin:round; stroke-width:2; stroke-opacity:0.1; fill:none\" points=\"1708.97,506.772 2709.81,506.772 \"/>\n",
       "<polyline clip-path=\"url(#clip943)\" style=\"stroke:#000000; stroke-linecap:round; stroke-linejoin:round; stroke-width:2; stroke-opacity:0.1; fill:none\" points=\"1708.97,366.757 2709.81,366.757 \"/>\n",
       "<polyline clip-path=\"url(#clip943)\" style=\"stroke:#000000; stroke-linecap:round; stroke-linejoin:round; stroke-width:2; stroke-opacity:0.1; fill:none\" points=\"1708.97,226.743 2709.81,226.743 \"/>\n",
       "<polyline clip-path=\"url(#clip943)\" style=\"stroke:#000000; stroke-linecap:round; stroke-linejoin:round; stroke-width:2; stroke-opacity:0.1; fill:none\" points=\"1708.97,86.7282 2709.81,86.7282 \"/>\n",
       "<polyline clip-path=\"url(#clip940)\" style=\"stroke:#000000; stroke-linecap:round; stroke-linejoin:round; stroke-width:4; stroke-opacity:1; fill:none\" points=\"1708.97,700.272 1708.97,47.2441 \"/>\n",
       "<polyline clip-path=\"url(#clip940)\" style=\"stroke:#000000; stroke-linecap:round; stroke-linejoin:round; stroke-width:4; stroke-opacity:1; fill:none\" points=\"1708.97,646.786 1727.87,646.786 \"/>\n",
       "<polyline clip-path=\"url(#clip940)\" style=\"stroke:#000000; stroke-linecap:round; stroke-linejoin:round; stroke-width:4; stroke-opacity:1; fill:none\" points=\"1708.97,506.772 1727.87,506.772 \"/>\n",
       "<polyline clip-path=\"url(#clip940)\" style=\"stroke:#000000; stroke-linecap:round; stroke-linejoin:round; stroke-width:4; stroke-opacity:1; fill:none\" points=\"1708.97,366.757 1727.87,366.757 \"/>\n",
       "<polyline clip-path=\"url(#clip940)\" style=\"stroke:#000000; stroke-linecap:round; stroke-linejoin:round; stroke-width:4; stroke-opacity:1; fill:none\" points=\"1708.97,226.743 1727.87,226.743 \"/>\n",
       "<polyline clip-path=\"url(#clip940)\" style=\"stroke:#000000; stroke-linecap:round; stroke-linejoin:round; stroke-width:4; stroke-opacity:1; fill:none\" points=\"1708.97,86.7282 1727.87,86.7282 \"/>\n",
       "<path clip-path=\"url(#clip940)\" d=\"M1557.1 647.238 L1586.77 647.238 L1586.77 651.173 L1557.1 651.173 L1557.1 647.238 Z\" fill=\"#000000\" fill-rule=\"nonzero\" fill-opacity=\"1\" /><path clip-path=\"url(#clip940)\" d=\"M1600.89 660.131 L1617.21 660.131 L1617.21 664.066 L1595.27 664.066 L1595.27 660.131 Q1597.93 657.377 1602.51 652.747 Q1607.12 648.094 1608.3 646.752 Q1610.54 644.228 1611.42 642.492 Q1612.33 640.733 1612.33 639.043 Q1612.33 636.289 1610.38 634.553 Q1608.46 632.816 1605.36 632.816 Q1603.16 632.816 1600.71 633.58 Q1598.28 634.344 1595.5 635.895 L1595.5 631.173 Q1598.32 630.039 1600.78 629.46 Q1603.23 628.881 1605.27 628.881 Q1610.64 628.881 1613.83 631.566 Q1617.03 634.252 1617.03 638.742 Q1617.03 640.872 1616.22 642.793 Q1615.43 644.691 1613.32 647.284 Q1612.74 647.955 1609.64 651.173 Q1606.54 654.367 1600.89 660.131 Z\" fill=\"#000000\" fill-rule=\"nonzero\" fill-opacity=\"1\" /><path clip-path=\"url(#clip940)\" d=\"M1637.03 632.585 Q1633.42 632.585 1631.59 636.15 Q1629.78 639.691 1629.78 646.821 Q1629.78 653.927 1631.59 657.492 Q1633.42 661.034 1637.03 661.034 Q1640.66 661.034 1642.47 657.492 Q1644.29 653.927 1644.29 646.821 Q1644.29 639.691 1642.47 636.15 Q1640.66 632.585 1637.03 632.585 M1637.03 628.881 Q1642.84 628.881 1645.89 633.488 Q1648.97 638.071 1648.97 646.821 Q1648.97 655.548 1645.89 660.154 Q1642.84 664.738 1637.03 664.738 Q1631.22 664.738 1628.14 660.154 Q1625.08 655.548 1625.08 646.821 Q1625.08 638.071 1628.14 633.488 Q1631.22 628.881 1637.03 628.881 Z\" fill=\"#000000\" fill-rule=\"nonzero\" fill-opacity=\"1\" /><path clip-path=\"url(#clip940)\" d=\"M1637.03 492.57 Q1633.42 492.57 1631.59 496.135 Q1629.78 499.677 1629.78 506.807 Q1629.78 513.913 1631.59 517.478 Q1633.42 521.019 1637.03 521.019 Q1640.66 521.019 1642.47 517.478 Q1644.29 513.913 1644.29 506.807 Q1644.29 499.677 1642.47 496.135 Q1640.66 492.57 1637.03 492.57 M1637.03 488.867 Q1642.84 488.867 1645.89 493.473 Q1648.97 498.057 1648.97 506.807 Q1648.97 515.533 1645.89 520.14 Q1642.84 524.723 1637.03 524.723 Q1631.22 524.723 1628.14 520.14 Q1625.08 515.533 1625.08 506.807 Q1625.08 498.057 1628.14 493.473 Q1631.22 488.867 1637.03 488.867 Z\" fill=\"#000000\" fill-rule=\"nonzero\" fill-opacity=\"1\" /><path clip-path=\"url(#clip940)\" d=\"M1600.89 380.102 L1617.21 380.102 L1617.21 384.037 L1595.27 384.037 L1595.27 380.102 Q1597.93 377.347 1602.51 372.718 Q1607.12 368.065 1608.3 366.723 Q1610.54 364.199 1611.42 362.463 Q1612.33 360.704 1612.33 359.014 Q1612.33 356.26 1610.38 354.524 Q1608.46 352.787 1605.36 352.787 Q1603.16 352.787 1600.71 353.551 Q1598.28 354.315 1595.5 355.866 L1595.5 351.144 Q1598.32 350.01 1600.78 349.431 Q1603.23 348.852 1605.27 348.852 Q1610.64 348.852 1613.83 351.537 Q1617.03 354.223 1617.03 358.713 Q1617.03 360.843 1616.22 362.764 Q1615.43 364.662 1613.32 367.255 Q1612.74 367.926 1609.64 371.144 Q1606.54 374.338 1600.89 380.102 Z\" fill=\"#000000\" fill-rule=\"nonzero\" fill-opacity=\"1\" /><path clip-path=\"url(#clip940)\" d=\"M1637.03 352.556 Q1633.42 352.556 1631.59 356.121 Q1629.78 359.662 1629.78 366.792 Q1629.78 373.898 1631.59 377.463 Q1633.42 381.005 1637.03 381.005 Q1640.66 381.005 1642.47 377.463 Q1644.29 373.898 1644.29 366.792 Q1644.29 359.662 1642.47 356.121 Q1640.66 352.556 1637.03 352.556 M1637.03 348.852 Q1642.84 348.852 1645.89 353.459 Q1648.97 358.042 1648.97 366.792 Q1648.97 375.519 1645.89 380.125 Q1642.84 384.709 1637.03 384.709 Q1631.22 384.709 1628.14 380.125 Q1625.08 375.519 1625.08 366.792 Q1625.08 358.042 1628.14 353.459 Q1631.22 348.852 1637.03 348.852 Z\" fill=\"#000000\" fill-rule=\"nonzero\" fill-opacity=\"1\" /><path clip-path=\"url(#clip940)\" d=\"M1609.71 213.537 L1597.91 231.986 L1609.71 231.986 L1609.71 213.537 M1608.48 209.463 L1614.36 209.463 L1614.36 231.986 L1619.29 231.986 L1619.29 235.875 L1614.36 235.875 L1614.36 244.023 L1609.71 244.023 L1609.71 235.875 L1594.11 235.875 L1594.11 231.361 L1608.48 209.463 Z\" fill=\"#000000\" fill-rule=\"nonzero\" fill-opacity=\"1\" /><path clip-path=\"url(#clip940)\" d=\"M1637.03 212.541 Q1633.42 212.541 1631.59 216.106 Q1629.78 219.648 1629.78 226.777 Q1629.78 233.884 1631.59 237.449 Q1633.42 240.99 1637.03 240.99 Q1640.66 240.99 1642.47 237.449 Q1644.29 233.884 1644.29 226.777 Q1644.29 219.648 1642.47 216.106 Q1640.66 212.541 1637.03 212.541 M1637.03 208.838 Q1642.84 208.838 1645.89 213.444 Q1648.97 218.027 1648.97 226.777 Q1648.97 235.504 1645.89 240.111 Q1642.84 244.694 1637.03 244.694 Q1631.22 244.694 1628.14 240.111 Q1625.08 235.504 1625.08 226.777 Q1625.08 218.027 1628.14 213.444 Q1631.22 208.838 1637.03 208.838 Z\" fill=\"#000000\" fill-rule=\"nonzero\" fill-opacity=\"1\" /><path clip-path=\"url(#clip940)\" d=\"M1607.44 84.8648 Q1604.29 84.8648 1602.44 87.0175 Q1600.61 89.1703 1600.61 92.9203 Q1600.61 96.6471 1602.44 98.823 Q1604.29 100.976 1607.44 100.976 Q1610.59 100.976 1612.42 98.823 Q1614.27 96.6471 1614.27 92.9203 Q1614.27 89.1703 1612.42 87.0175 Q1610.59 84.8648 1607.44 84.8648 M1616.73 70.2121 L1616.73 74.4713 Q1614.97 73.638 1613.16 73.1982 Q1611.38 72.7584 1609.62 72.7584 Q1604.99 72.7584 1602.54 75.8833 Q1600.11 79.0083 1599.76 85.3277 Q1601.12 83.3139 1603.18 82.249 Q1605.24 81.1611 1607.72 81.1611 Q1612.93 81.1611 1615.94 84.3324 Q1618.97 87.4805 1618.97 92.9203 Q1618.97 98.2443 1615.82 101.462 Q1612.67 104.679 1607.44 104.679 Q1601.45 104.679 1598.28 100.096 Q1595.11 95.4897 1595.11 86.7629 Q1595.11 78.5685 1598.99 73.7074 Q1602.88 68.8232 1609.43 68.8232 Q1611.19 68.8232 1612.98 69.1704 Q1614.78 69.5176 1616.73 70.2121 Z\" fill=\"#000000\" fill-rule=\"nonzero\" fill-opacity=\"1\" /><path clip-path=\"url(#clip940)\" d=\"M1637.03 72.5269 Q1633.42 72.5269 1631.59 76.0917 Q1629.78 79.6333 1629.78 86.7629 Q1629.78 93.8694 1631.59 97.4342 Q1633.42 100.976 1637.03 100.976 Q1640.66 100.976 1642.47 97.4342 Q1644.29 93.8694 1644.29 86.7629 Q1644.29 79.6333 1642.47 76.0917 Q1640.66 72.5269 1637.03 72.5269 M1637.03 68.8232 Q1642.84 68.8232 1645.89 73.4297 Q1648.97 78.013 1648.97 86.7629 Q1648.97 95.4897 1645.89 100.096 Q1642.84 104.679 1637.03 104.679 Q1631.22 104.679 1628.14 100.096 Q1625.08 95.4897 1625.08 86.7629 Q1625.08 78.013 1628.14 73.4297 Q1631.22 68.8232 1637.03 68.8232 Z\" fill=\"#000000\" fill-rule=\"nonzero\" fill-opacity=\"1\" /><polyline clip-path=\"url(#clip943)\" style=\"stroke:#009af9; stroke-linecap:round; stroke-linejoin:round; stroke-width:4; stroke-opacity:1; fill:none\" points=\"1737.3,681.79 1738.83,678.612 1740.37,675.461 1741.91,672.336 1743.44,669.236 1750.55,655.239 1757.65,641.782 1764.76,628.858 1771.86,616.456 1778.97,604.568 1786.07,593.185 1793.18,582.296 1800.28,571.894 1808.82,560.021 1817.36,548.822 1825.9,538.279 1834.44,528.378 1841.66,520.495 1848.88,513.05 1856.1,506.032 1863.32,499.433 1871.16,492.727 1879.01,486.49 1886.85,480.711 1894.69,475.377 1909.15,466.667 1923.62,459.352 1939.12,452.969 1954.62,448.005 1972.59,443.901 1990.55,441.426 2006.51,440.472 2022.48,440.583 2036.47,441.475 2050.47,443.035 2065.73,445.416 2081,448.418 2096.35,451.972 2111.7,455.97 2145.65,465.926 2177.95,476.081 2211.54,486.404 2239.81,494.206 2257.07,498.306 2274.32,501.743 2290.13,504.199 2305.94,505.887 2320.55,506.678 2335.15,506.65 2349.94,505.703 2364.73,503.751 2381.31,500.266 2397.88,495.298 2412.9,489.418 2427.92,482.138 2436.52,477.307 2445.12,471.972 2453.72,466.118 2462.32,459.728 2470.28,453.319 2478.24,446.424 2486.21,439.03 2494.17,431.124 2502.02,422.815 2509.87,413.984 2517.72,404.618 2525.57,394.705 2533.19,384.544 2540.81,373.845 2548.43,362.595 2556.05,350.784 2563.86,338.082 2571.68,324.765 2579.49,310.822 2587.3,296.24 2595.86,279.517 2604.42,261.996 2612.98,243.663 2621.54,224.5 2627.76,210.052 2633.98,195.153 2640.19,179.795 2646.41,163.973 2652.63,147.68 2658.84,130.911 2665.06,113.659 2671.28,95.9183 2673.83,88.4963 2676.38,80.9905 2678.93,73.4006 2681.48,65.726 \"/>\n",
       "<path clip-path=\"url(#clip940)\" d=\"M1742.33 172.692 L1883.43 172.692 L1883.43 69.0117 L1742.33 69.0117  Z\" fill=\"#ffffff\" fill-rule=\"evenodd\" fill-opacity=\"1\"/>\n",
       "<polyline clip-path=\"url(#clip940)\" style=\"stroke:#000000; stroke-linecap:round; stroke-linejoin:round; stroke-width:4; stroke-opacity:1; fill:none\" points=\"1742.33,172.692 1883.43,172.692 1883.43,69.0117 1742.33,69.0117 1742.33,172.692 \"/>\n",
       "<polyline clip-path=\"url(#clip940)\" style=\"stroke:#009af9; stroke-linecap:round; stroke-linejoin:round; stroke-width:4; stroke-opacity:1; fill:none\" points=\"1753.45,120.852 1820.17,120.852 \"/>\n",
       "<path clip-path=\"url(#clip940)\" d=\"M1847.8 102.113 L1847.8 105.655 L1843.73 105.655 Q1841.43 105.655 1840.53 106.581 Q1839.65 107.507 1839.65 109.914 L1839.65 112.206 L1846.67 112.206 L1846.67 115.516 L1839.65 115.516 L1839.65 138.132 L1835.37 138.132 L1835.37 115.516 L1831.3 115.516 L1831.3 112.206 L1835.37 112.206 L1835.37 110.4 Q1835.37 106.072 1837.38 104.104 Q1839.4 102.113 1843.77 102.113 L1847.8 102.113 Z\" fill=\"#000000\" fill-rule=\"nonzero\" fill-opacity=\"1\" /><path clip-path=\"url(#clip940)\" d=\"M1855.99 134.197 L1872.31 134.197 L1872.31 138.132 L1850.37 138.132 L1850.37 134.197 Q1853.03 131.442 1857.61 126.812 Q1862.22 122.16 1863.4 120.817 Q1865.65 118.294 1866.53 116.558 Q1867.43 114.798 1867.43 113.109 Q1867.43 110.354 1865.48 108.618 Q1863.56 106.882 1860.46 106.882 Q1858.26 106.882 1855.81 107.646 Q1853.38 108.41 1850.6 109.961 L1850.6 105.238 Q1853.42 104.104 1855.88 103.525 Q1858.33 102.947 1860.37 102.947 Q1865.74 102.947 1868.93 105.632 Q1872.13 108.317 1872.13 112.808 Q1872.13 114.937 1871.32 116.859 Q1870.53 118.757 1868.42 121.349 Q1867.85 122.021 1864.74 125.238 Q1861.64 128.433 1855.99 134.197 Z\" fill=\"#000000\" fill-rule=\"nonzero\" fill-opacity=\"1\" /><path clip-path=\"url(#clip940)\" d=\"M2951.92 700.272 L3952.76 700.272 L3952.76 47.2441 L2951.92 47.2441  Z\" fill=\"#ffffff\" fill-rule=\"evenodd\" fill-opacity=\"1\"/>\n",
       "<defs>\n",
       "  <clipPath id=\"clip944\">\n",
       "    <rect x=\"2951\" y=\"47\" width=\"1002\" height=\"654\"/>\n",
       "  </clipPath>\n",
       "</defs>\n",
       "<polyline clip-path=\"url(#clip944)\" style=\"stroke:#000000; stroke-linecap:round; stroke-linejoin:round; stroke-width:2; stroke-opacity:0.1; fill:none\" points=\"2980.24,700.272 2980.24,47.2441 \"/>\n",
       "<polyline clip-path=\"url(#clip944)\" style=\"stroke:#000000; stroke-linecap:round; stroke-linejoin:round; stroke-width:2; stroke-opacity:0.1; fill:none\" points=\"3216.29,700.272 3216.29,47.2441 \"/>\n",
       "<polyline clip-path=\"url(#clip944)\" style=\"stroke:#000000; stroke-linecap:round; stroke-linejoin:round; stroke-width:2; stroke-opacity:0.1; fill:none\" points=\"3452.34,700.272 3452.34,47.2441 \"/>\n",
       "<polyline clip-path=\"url(#clip944)\" style=\"stroke:#000000; stroke-linecap:round; stroke-linejoin:round; stroke-width:2; stroke-opacity:0.1; fill:none\" points=\"3688.38,700.272 3688.38,47.2441 \"/>\n",
       "<polyline clip-path=\"url(#clip944)\" style=\"stroke:#000000; stroke-linecap:round; stroke-linejoin:round; stroke-width:2; stroke-opacity:0.1; fill:none\" points=\"3924.43,700.272 3924.43,47.2441 \"/>\n",
       "<polyline clip-path=\"url(#clip940)\" style=\"stroke:#000000; stroke-linecap:round; stroke-linejoin:round; stroke-width:4; stroke-opacity:1; fill:none\" points=\"2951.92,700.272 3952.76,700.272 \"/>\n",
       "<polyline clip-path=\"url(#clip940)\" style=\"stroke:#000000; stroke-linecap:round; stroke-linejoin:round; stroke-width:4; stroke-opacity:1; fill:none\" points=\"2980.24,700.272 2980.24,681.374 \"/>\n",
       "<polyline clip-path=\"url(#clip940)\" style=\"stroke:#000000; stroke-linecap:round; stroke-linejoin:round; stroke-width:4; stroke-opacity:1; fill:none\" points=\"3216.29,700.272 3216.29,681.374 \"/>\n",
       "<polyline clip-path=\"url(#clip940)\" style=\"stroke:#000000; stroke-linecap:round; stroke-linejoin:round; stroke-width:4; stroke-opacity:1; fill:none\" points=\"3452.34,700.272 3452.34,681.374 \"/>\n",
       "<polyline clip-path=\"url(#clip940)\" style=\"stroke:#000000; stroke-linecap:round; stroke-linejoin:round; stroke-width:4; stroke-opacity:1; fill:none\" points=\"3688.38,700.272 3688.38,681.374 \"/>\n",
       "<polyline clip-path=\"url(#clip940)\" style=\"stroke:#000000; stroke-linecap:round; stroke-linejoin:round; stroke-width:4; stroke-opacity:1; fill:none\" points=\"3924.43,700.272 3924.43,681.374 \"/>\n",
       "<path clip-path=\"url(#clip940)\" d=\"M2949.14 758.643 L2978.82 758.643 L2978.82 762.578 L2949.14 762.578 L2949.14 758.643 Z\" fill=\"#000000\" fill-rule=\"nonzero\" fill-opacity=\"1\" /><path clip-path=\"url(#clip940)\" d=\"M3001.76 744.986 L2989.95 763.435 L3001.76 763.435 L3001.76 744.986 M3000.53 740.912 L3006.41 740.912 L3006.41 763.435 L3011.34 763.435 L3011.34 767.324 L3006.41 767.324 L3006.41 775.472 L3001.76 775.472 L3001.76 767.324 L2986.16 767.324 L2986.16 762.81 L3000.53 740.912 Z\" fill=\"#000000\" fill-rule=\"nonzero\" fill-opacity=\"1\" /><path clip-path=\"url(#clip940)\" d=\"M3186.23 758.643 L3215.91 758.643 L3215.91 762.578 L3186.23 762.578 L3186.23 758.643 Z\" fill=\"#000000\" fill-rule=\"nonzero\" fill-opacity=\"1\" /><path clip-path=\"url(#clip940)\" d=\"M3230.03 771.537 L3246.35 771.537 L3246.35 775.472 L3224.4 775.472 L3224.4 771.537 Q3227.07 768.782 3231.65 764.152 Q3236.26 759.5 3237.44 758.157 Q3239.68 755.634 3240.56 753.898 Q3241.46 752.139 3241.46 750.449 Q3241.46 747.694 3239.52 745.958 Q3237.6 744.222 3234.5 744.222 Q3232.3 744.222 3229.84 744.986 Q3227.41 745.75 3224.64 747.301 L3224.64 742.579 Q3227.46 741.444 3229.91 740.866 Q3232.37 740.287 3234.4 740.287 Q3239.77 740.287 3242.97 742.972 Q3246.16 745.657 3246.16 750.148 Q3246.16 752.278 3245.35 754.199 Q3244.57 756.097 3242.46 758.69 Q3241.88 759.361 3238.78 762.578 Q3235.68 765.773 3230.03 771.537 Z\" fill=\"#000000\" fill-rule=\"nonzero\" fill-opacity=\"1\" /><path clip-path=\"url(#clip940)\" d=\"M3452.34 743.991 Q3448.73 743.991 3446.9 747.555 Q3445.09 751.097 3445.09 758.227 Q3445.09 765.333 3446.9 768.898 Q3448.73 772.439 3452.34 772.439 Q3455.97 772.439 3457.78 768.898 Q3459.61 765.333 3459.61 758.227 Q3459.61 751.097 3457.78 747.555 Q3455.97 743.991 3452.34 743.991 M3452.34 740.287 Q3458.15 740.287 3461.2 744.893 Q3464.28 749.477 3464.28 758.227 Q3464.28 766.953 3461.2 771.56 Q3458.15 776.143 3452.34 776.143 Q3446.53 776.143 3443.45 771.56 Q3440.39 766.953 3440.39 758.227 Q3440.39 749.477 3443.45 744.893 Q3446.53 740.287 3452.34 740.287 Z\" fill=\"#000000\" fill-rule=\"nonzero\" fill-opacity=\"1\" /><path clip-path=\"url(#clip940)\" d=\"M3683.04 771.537 L3699.36 771.537 L3699.36 775.472 L3677.41 775.472 L3677.41 771.537 Q3680.07 768.782 3684.66 764.152 Q3689.26 759.5 3690.44 758.157 Q3692.69 755.634 3693.57 753.898 Q3694.47 752.139 3694.47 750.449 Q3694.47 747.694 3692.53 745.958 Q3690.61 744.222 3687.5 744.222 Q3685.31 744.222 3682.85 744.986 Q3680.42 745.75 3677.64 747.301 L3677.64 742.579 Q3680.47 741.444 3682.92 740.866 Q3685.37 740.287 3687.41 740.287 Q3692.78 740.287 3695.98 742.972 Q3699.17 745.657 3699.17 750.148 Q3699.17 752.278 3698.36 754.199 Q3697.57 756.097 3695.47 758.69 Q3694.89 759.361 3691.79 762.578 Q3688.68 765.773 3683.04 771.537 Z\" fill=\"#000000\" fill-rule=\"nonzero\" fill-opacity=\"1\" /><path clip-path=\"url(#clip940)\" d=\"M3927.44 744.986 L3915.63 763.435 L3927.44 763.435 L3927.44 744.986 M3926.21 740.912 L3932.09 740.912 L3932.09 763.435 L3937.02 763.435 L3937.02 767.324 L3932.09 767.324 L3932.09 775.472 L3927.44 775.472 L3927.44 767.324 L3911.84 767.324 L3911.84 762.81 L3926.21 740.912 Z\" fill=\"#000000\" fill-rule=\"nonzero\" fill-opacity=\"1\" /><polyline clip-path=\"url(#clip944)\" style=\"stroke:#000000; stroke-linecap:round; stroke-linejoin:round; stroke-width:2; stroke-opacity:0.1; fill:none\" points=\"2951.92,597.228 3952.76,597.228 \"/>\n",
       "<polyline clip-path=\"url(#clip944)\" style=\"stroke:#000000; stroke-linecap:round; stroke-linejoin:round; stroke-width:2; stroke-opacity:0.1; fill:none\" points=\"2951.92,485.493 3952.76,485.493 \"/>\n",
       "<polyline clip-path=\"url(#clip944)\" style=\"stroke:#000000; stroke-linecap:round; stroke-linejoin:round; stroke-width:2; stroke-opacity:0.1; fill:none\" points=\"2951.92,373.758 3952.76,373.758 \"/>\n",
       "<polyline clip-path=\"url(#clip944)\" style=\"stroke:#000000; stroke-linecap:round; stroke-linejoin:round; stroke-width:2; stroke-opacity:0.1; fill:none\" points=\"2951.92,262.023 3952.76,262.023 \"/>\n",
       "<polyline clip-path=\"url(#clip944)\" style=\"stroke:#000000; stroke-linecap:round; stroke-linejoin:round; stroke-width:2; stroke-opacity:0.1; fill:none\" points=\"2951.92,150.288 3952.76,150.288 \"/>\n",
       "<polyline clip-path=\"url(#clip940)\" style=\"stroke:#000000; stroke-linecap:round; stroke-linejoin:round; stroke-width:4; stroke-opacity:1; fill:none\" points=\"2951.92,700.272 2951.92,47.2441 \"/>\n",
       "<polyline clip-path=\"url(#clip940)\" style=\"stroke:#000000; stroke-linecap:round; stroke-linejoin:round; stroke-width:4; stroke-opacity:1; fill:none\" points=\"2951.92,597.228 2970.82,597.228 \"/>\n",
       "<polyline clip-path=\"url(#clip940)\" style=\"stroke:#000000; stroke-linecap:round; stroke-linejoin:round; stroke-width:4; stroke-opacity:1; fill:none\" points=\"2951.92,485.493 2970.82,485.493 \"/>\n",
       "<polyline clip-path=\"url(#clip940)\" style=\"stroke:#000000; stroke-linecap:round; stroke-linejoin:round; stroke-width:4; stroke-opacity:1; fill:none\" points=\"2951.92,373.758 2970.82,373.758 \"/>\n",
       "<polyline clip-path=\"url(#clip940)\" style=\"stroke:#000000; stroke-linecap:round; stroke-linejoin:round; stroke-width:4; stroke-opacity:1; fill:none\" points=\"2951.92,262.023 2970.82,262.023 \"/>\n",
       "<polyline clip-path=\"url(#clip940)\" style=\"stroke:#000000; stroke-linecap:round; stroke-linejoin:round; stroke-width:4; stroke-opacity:1; fill:none\" points=\"2951.92,150.288 2970.82,150.288 \"/>\n",
       "<path clip-path=\"url(#clip940)\" d=\"M2831.8 597.68 L2861.48 597.68 L2861.48 601.615 L2831.8 601.615 L2831.8 597.68 Z\" fill=\"#000000\" fill-rule=\"nonzero\" fill-opacity=\"1\" /><path clip-path=\"url(#clip940)\" d=\"M2875.6 610.573 L2891.92 610.573 L2891.92 614.508 L2869.97 614.508 L2869.97 610.573 Q2872.64 607.819 2877.22 603.189 Q2881.83 598.536 2883.01 597.194 Q2885.25 594.671 2886.13 592.934 Q2887.03 591.175 2887.03 589.485 Q2887.03 586.731 2885.09 584.995 Q2883.17 583.259 2880.07 583.259 Q2877.87 583.259 2875.41 584.023 Q2872.98 584.786 2870.21 586.337 L2870.21 581.615 Q2873.03 580.481 2875.48 579.902 Q2877.94 579.323 2879.97 579.323 Q2885.34 579.323 2888.54 582.009 Q2891.73 584.694 2891.73 589.185 Q2891.73 591.314 2890.92 593.235 Q2890.14 595.134 2888.03 597.726 Q2887.45 598.397 2884.35 601.615 Q2881.25 604.809 2875.6 610.573 Z\" fill=\"#000000\" fill-rule=\"nonzero\" fill-opacity=\"1\" /><path clip-path=\"url(#clip940)\" d=\"M2831.43 485.945 L2861.11 485.945 L2861.11 489.88 L2831.43 489.88 L2831.43 485.945 Z\" fill=\"#000000\" fill-rule=\"nonzero\" fill-opacity=\"1\" /><path clip-path=\"url(#clip940)\" d=\"M2872.01 498.838 L2879.65 498.838 L2879.65 472.472 L2871.34 474.139 L2871.34 469.88 L2879.6 468.213 L2884.28 468.213 L2884.28 498.838 L2891.92 498.838 L2891.92 502.773 L2872.01 502.773 L2872.01 498.838 Z\" fill=\"#000000\" fill-rule=\"nonzero\" fill-opacity=\"1\" /><path clip-path=\"url(#clip940)\" d=\"M2879.97 359.557 Q2876.36 359.557 2874.53 363.121 Q2872.73 366.663 2872.73 373.793 Q2872.73 380.899 2874.53 384.464 Q2876.36 388.006 2879.97 388.006 Q2883.61 388.006 2885.41 384.464 Q2887.24 380.899 2887.24 373.793 Q2887.24 366.663 2885.41 363.121 Q2883.61 359.557 2879.97 359.557 M2879.97 355.853 Q2885.78 355.853 2888.84 360.459 Q2891.92 365.043 2891.92 373.793 Q2891.92 382.52 2888.84 387.126 Q2885.78 391.709 2879.97 391.709 Q2874.16 391.709 2871.09 387.126 Q2868.03 382.52 2868.03 373.793 Q2868.03 365.043 2871.09 360.459 Q2874.16 355.853 2879.97 355.853 Z\" fill=\"#000000\" fill-rule=\"nonzero\" fill-opacity=\"1\" /><path clip-path=\"url(#clip940)\" d=\"M2872.01 275.368 L2879.65 275.368 L2879.65 249.002 L2871.34 250.669 L2871.34 246.409 L2879.6 244.743 L2884.28 244.743 L2884.28 275.368 L2891.92 275.368 L2891.92 279.303 L2872.01 279.303 L2872.01 275.368 Z\" fill=\"#000000\" fill-rule=\"nonzero\" fill-opacity=\"1\" /><path clip-path=\"url(#clip940)\" d=\"M2875.6 163.632 L2891.92 163.632 L2891.92 167.568 L2869.97 167.568 L2869.97 163.632 Q2872.64 160.878 2877.22 156.248 Q2881.83 151.595 2883.01 150.253 Q2885.25 147.73 2886.13 145.994 Q2887.03 144.234 2887.03 142.545 Q2887.03 139.79 2885.09 138.054 Q2883.17 136.318 2880.07 136.318 Q2877.87 136.318 2875.41 137.082 Q2872.98 137.845 2870.21 139.396 L2870.21 134.674 Q2873.03 133.54 2875.48 132.961 Q2877.94 132.383 2879.97 132.383 Q2885.34 132.383 2888.54 135.068 Q2891.73 137.753 2891.73 142.244 Q2891.73 144.373 2890.92 146.294 Q2890.14 148.193 2888.03 150.785 Q2887.45 151.456 2884.35 154.674 Q2881.25 157.868 2875.6 163.632 Z\" fill=\"#000000\" fill-rule=\"nonzero\" fill-opacity=\"1\" /><polyline clip-path=\"url(#clip944)\" style=\"stroke:#009af9; stroke-linecap:round; stroke-linejoin:round; stroke-width:4; stroke-opacity:1; fill:none\" points=\"2980.24,65.726 2981.78,67.4116 2983.32,69.1114 2984.85,70.8252 2986.39,72.5528 3000.6,89.1519 3014.81,106.776 3029.02,125.266 3043.23,144.454 3060.31,168.182 3077.39,192.328 3091.83,212.821 3106.27,233.169 3121.96,254.872 3137.64,275.914 3152.1,294.52 3166.56,312.182 3182.07,329.887 3197.57,346.143 3206.55,354.836 3215.53,362.965 3224.52,370.508 3233.5,377.445 3241.48,383.089 3249.46,388.235 3257.44,392.875 3265.42,397.006 3279.42,403.018 3293.42,407.469 3301.05,409.248 3308.68,410.579 3316.31,411.472 3323.94,411.938 3331.62,411.991 3339.3,411.639 3346.97,410.902 3354.65,409.796 3371.62,406.146 3388.6,401.039 3404.75,395.074 3420.9,388.289 3454.48,372.742 3482.76,359.677 3500.01,352.407 3517.27,346.075 3533.08,341.362 3548.89,337.914 3563.49,336.023 3578.1,335.513 3592.89,336.521 3607.68,339.157 3615.97,341.372 3624.25,344.129 3632.54,347.432 3640.83,351.287 3655.85,359.673 3670.87,369.846 3679.47,376.455 3688.07,383.621 3696.67,391.326 3705.27,399.552 3721.19,416.083 3737.12,434.157 3752.81,453.301 3768.51,473.553 3783.76,494.061 3799,515.178 3814.62,537.216 3830.25,559.394 3847.37,583.548 3864.49,607.224 3876.92,623.932 3889.36,640.096 3901.79,655.6 3914.23,670.338 3916.78,673.257 3919.33,676.14 3921.88,678.984 3924.43,681.79 \"/>\n",
       "<path clip-path=\"url(#clip940)\" d=\"M3777.34 172.692 L3919.39 172.692 L3919.39 69.0117 L3777.34 69.0117  Z\" fill=\"#ffffff\" fill-rule=\"evenodd\" fill-opacity=\"1\"/>\n",
       "<polyline clip-path=\"url(#clip940)\" style=\"stroke:#000000; stroke-linecap:round; stroke-linejoin:round; stroke-width:4; stroke-opacity:1; fill:none\" points=\"3777.34,172.692 3919.39,172.692 3919.39,69.0117 3777.34,69.0117 3777.34,172.692 \"/>\n",
       "<polyline clip-path=\"url(#clip940)\" style=\"stroke:#009af9; stroke-linecap:round; stroke-linejoin:round; stroke-width:4; stroke-opacity:1; fill:none\" points=\"3788.46,120.852 3855.19,120.852 \"/>\n",
       "<path clip-path=\"url(#clip940)\" d=\"M3882.81 102.113 L3882.81 105.655 L3878.74 105.655 Q3876.45 105.655 3875.54 106.581 Q3874.66 107.507 3874.66 109.914 L3874.66 112.206 L3881.68 112.206 L3881.68 115.516 L3874.66 115.516 L3874.66 138.132 L3870.38 138.132 L3870.38 115.516 L3866.31 115.516 L3866.31 112.206 L3870.38 112.206 L3870.38 110.4 Q3870.38 106.072 3872.39 104.104 Q3874.41 102.113 3878.78 102.113 L3882.81 102.113 Z\" fill=\"#000000\" fill-rule=\"nonzero\" fill-opacity=\"1\" /><path clip-path=\"url(#clip940)\" d=\"M3901.14 119.498 Q3904.5 120.215 3906.38 122.484 Q3908.27 124.752 3908.27 128.085 Q3908.27 133.201 3904.76 136.002 Q3901.24 138.803 3894.76 138.803 Q3892.58 138.803 3890.27 138.363 Q3887.97 137.947 3885.52 137.09 L3885.52 132.576 Q3887.46 133.71 3889.78 134.289 Q3892.09 134.868 3894.62 134.868 Q3899.02 134.868 3901.31 133.132 Q3903.62 131.396 3903.62 128.085 Q3903.62 125.03 3901.47 123.317 Q3899.34 121.581 3895.52 121.581 L3891.49 121.581 L3891.49 117.738 L3895.7 117.738 Q3899.15 117.738 3900.98 116.373 Q3902.81 114.984 3902.81 112.391 Q3902.81 109.729 3900.91 108.317 Q3899.04 106.882 3895.52 106.882 Q3893.6 106.882 3891.4 107.299 Q3889.2 107.715 3886.56 108.595 L3886.56 104.428 Q3889.22 103.687 3891.54 103.317 Q3893.88 102.947 3895.94 102.947 Q3901.26 102.947 3904.36 105.377 Q3907.46 107.785 3907.46 111.905 Q3907.46 114.775 3905.82 116.766 Q3904.18 118.734 3901.14 119.498 Z\" fill=\"#000000\" fill-rule=\"nonzero\" fill-opacity=\"1\" /><path clip-path=\"url(#clip940)\" d=\"M330.445 1500.27 L1331.28 1500.27 L1331.28 847.244 L330.445 847.244  Z\" fill=\"#ffffff\" fill-rule=\"evenodd\" fill-opacity=\"1\"/>\n",
       "<defs>\n",
       "  <clipPath id=\"clip945\">\n",
       "    <rect x=\"330\" y=\"847\" width=\"1002\" height=\"654\"/>\n",
       "  </clipPath>\n",
       "</defs>\n",
       "<polyline clip-path=\"url(#clip945)\" style=\"stroke:#000000; stroke-linecap:round; stroke-linejoin:round; stroke-width:2; stroke-opacity:0.1; fill:none\" points=\"358.77,1500.27 358.77,847.244 \"/>\n",
       "<polyline clip-path=\"url(#clip945)\" style=\"stroke:#000000; stroke-linecap:round; stroke-linejoin:round; stroke-width:2; stroke-opacity:0.1; fill:none\" points=\"594.817,1500.27 594.817,847.244 \"/>\n",
       "<polyline clip-path=\"url(#clip945)\" style=\"stroke:#000000; stroke-linecap:round; stroke-linejoin:round; stroke-width:2; stroke-opacity:0.1; fill:none\" points=\"830.863,1500.27 830.863,847.244 \"/>\n",
       "<polyline clip-path=\"url(#clip945)\" style=\"stroke:#000000; stroke-linecap:round; stroke-linejoin:round; stroke-width:2; stroke-opacity:0.1; fill:none\" points=\"1066.91,1500.27 1066.91,847.244 \"/>\n",
       "<polyline clip-path=\"url(#clip945)\" style=\"stroke:#000000; stroke-linecap:round; stroke-linejoin:round; stroke-width:2; stroke-opacity:0.1; fill:none\" points=\"1302.96,1500.27 1302.96,847.244 \"/>\n",
       "<polyline clip-path=\"url(#clip940)\" style=\"stroke:#000000; stroke-linecap:round; stroke-linejoin:round; stroke-width:4; stroke-opacity:1; fill:none\" points=\"330.445,1500.27 1331.28,1500.27 \"/>\n",
       "<polyline clip-path=\"url(#clip940)\" style=\"stroke:#000000; stroke-linecap:round; stroke-linejoin:round; stroke-width:4; stroke-opacity:1; fill:none\" points=\"358.77,1500.27 358.77,1481.37 \"/>\n",
       "<polyline clip-path=\"url(#clip940)\" style=\"stroke:#000000; stroke-linecap:round; stroke-linejoin:round; stroke-width:4; stroke-opacity:1; fill:none\" points=\"594.817,1500.27 594.817,1481.37 \"/>\n",
       "<polyline clip-path=\"url(#clip940)\" style=\"stroke:#000000; stroke-linecap:round; stroke-linejoin:round; stroke-width:4; stroke-opacity:1; fill:none\" points=\"830.863,1500.27 830.863,1481.37 \"/>\n",
       "<polyline clip-path=\"url(#clip940)\" style=\"stroke:#000000; stroke-linecap:round; stroke-linejoin:round; stroke-width:4; stroke-opacity:1; fill:none\" points=\"1066.91,1500.27 1066.91,1481.37 \"/>\n",
       "<polyline clip-path=\"url(#clip940)\" style=\"stroke:#000000; stroke-linecap:round; stroke-linejoin:round; stroke-width:4; stroke-opacity:1; fill:none\" points=\"1302.96,1500.27 1302.96,1481.37 \"/>\n",
       "<path clip-path=\"url(#clip940)\" d=\"M327.671 1558.64 L357.347 1558.64 L357.347 1562.58 L327.671 1562.58 L327.671 1558.64 Z\" fill=\"#000000\" fill-rule=\"nonzero\" fill-opacity=\"1\" /><path clip-path=\"url(#clip940)\" d=\"M380.286 1544.99 L368.481 1563.43 L380.286 1563.43 L380.286 1544.99 M379.059 1540.91 L384.939 1540.91 L384.939 1563.43 L389.87 1563.43 L389.87 1567.32 L384.939 1567.32 L384.939 1575.47 L380.286 1575.47 L380.286 1567.32 L364.685 1567.32 L364.685 1562.81 L379.059 1540.91 Z\" fill=\"#000000\" fill-rule=\"nonzero\" fill-opacity=\"1\" /><path clip-path=\"url(#clip940)\" d=\"M564.759 1558.64 L594.435 1558.64 L594.435 1562.58 L564.759 1562.58 L564.759 1558.64 Z\" fill=\"#000000\" fill-rule=\"nonzero\" fill-opacity=\"1\" /><path clip-path=\"url(#clip940)\" d=\"M608.555 1571.54 L624.874 1571.54 L624.874 1575.47 L602.93 1575.47 L602.93 1571.54 Q605.592 1568.78 610.175 1564.15 Q614.782 1559.5 615.962 1558.16 Q618.208 1555.63 619.087 1553.9 Q619.99 1552.14 619.99 1550.45 Q619.99 1547.69 618.046 1545.96 Q616.124 1544.22 613.023 1544.22 Q610.824 1544.22 608.37 1544.99 Q605.939 1545.75 603.162 1547.3 L603.162 1542.58 Q605.986 1541.44 608.439 1540.87 Q610.893 1540.29 612.93 1540.29 Q618.3 1540.29 621.495 1542.97 Q624.689 1545.66 624.689 1550.15 Q624.689 1552.28 623.879 1554.2 Q623.092 1556.1 620.986 1558.69 Q620.407 1559.36 617.305 1562.58 Q614.203 1565.77 608.555 1571.54 Z\" fill=\"#000000\" fill-rule=\"nonzero\" fill-opacity=\"1\" /><path clip-path=\"url(#clip940)\" d=\"M830.863 1543.99 Q827.252 1543.99 825.423 1547.56 Q823.618 1551.1 823.618 1558.23 Q823.618 1565.33 825.423 1568.9 Q827.252 1572.44 830.863 1572.44 Q834.497 1572.44 836.303 1568.9 Q838.132 1565.33 838.132 1558.23 Q838.132 1551.1 836.303 1547.56 Q834.497 1543.99 830.863 1543.99 M830.863 1540.29 Q836.673 1540.29 839.729 1544.89 Q842.808 1549.48 842.808 1558.23 Q842.808 1566.95 839.729 1571.56 Q836.673 1576.14 830.863 1576.14 Q825.053 1576.14 821.974 1571.56 Q818.919 1566.95 818.919 1558.23 Q818.919 1549.48 821.974 1544.89 Q825.053 1540.29 830.863 1540.29 Z\" fill=\"#000000\" fill-rule=\"nonzero\" fill-opacity=\"1\" /><path clip-path=\"url(#clip940)\" d=\"M1061.56 1571.54 L1077.88 1571.54 L1077.88 1575.47 L1055.94 1575.47 L1055.94 1571.54 Q1058.6 1568.78 1063.18 1564.15 Q1067.79 1559.5 1068.97 1558.16 Q1071.22 1555.63 1072.09 1553.9 Q1073 1552.14 1073 1550.45 Q1073 1547.69 1071.05 1545.96 Q1069.13 1544.22 1066.03 1544.22 Q1063.83 1544.22 1061.38 1544.99 Q1058.95 1545.75 1056.17 1547.3 L1056.17 1542.58 Q1058.99 1541.44 1061.45 1540.87 Q1063.9 1540.29 1065.94 1540.29 Q1071.31 1540.29 1074.5 1542.97 Q1077.7 1545.66 1077.7 1550.15 Q1077.7 1552.28 1076.89 1554.2 Q1076.1 1556.1 1073.99 1558.69 Q1073.41 1559.36 1070.31 1562.58 Q1067.21 1565.77 1061.56 1571.54 Z\" fill=\"#000000\" fill-rule=\"nonzero\" fill-opacity=\"1\" /><path clip-path=\"url(#clip940)\" d=\"M1305.97 1544.99 L1294.16 1563.43 L1305.97 1563.43 L1305.97 1544.99 M1304.74 1540.91 L1310.62 1540.91 L1310.62 1563.43 L1315.55 1563.43 L1315.55 1567.32 L1310.62 1567.32 L1310.62 1575.47 L1305.97 1575.47 L1305.97 1567.32 L1290.36 1567.32 L1290.36 1562.81 L1304.74 1540.91 Z\" fill=\"#000000\" fill-rule=\"nonzero\" fill-opacity=\"1\" /><polyline clip-path=\"url(#clip945)\" style=\"stroke:#000000; stroke-linecap:round; stroke-linejoin:round; stroke-width:2; stroke-opacity:0.1; fill:none\" points=\"330.445,1458.45 1331.28,1458.45 \"/>\n",
       "<polyline clip-path=\"url(#clip945)\" style=\"stroke:#000000; stroke-linecap:round; stroke-linejoin:round; stroke-width:2; stroke-opacity:0.1; fill:none\" points=\"330.445,1261.22 1331.28,1261.22 \"/>\n",
       "<polyline clip-path=\"url(#clip945)\" style=\"stroke:#000000; stroke-linecap:round; stroke-linejoin:round; stroke-width:2; stroke-opacity:0.1; fill:none\" points=\"330.445,1063.99 1331.28,1063.99 \"/>\n",
       "<polyline clip-path=\"url(#clip945)\" style=\"stroke:#000000; stroke-linecap:round; stroke-linejoin:round; stroke-width:2; stroke-opacity:0.1; fill:none\" points=\"330.445,866.763 1331.28,866.763 \"/>\n",
       "<polyline clip-path=\"url(#clip940)\" style=\"stroke:#000000; stroke-linecap:round; stroke-linejoin:round; stroke-width:4; stroke-opacity:1; fill:none\" points=\"330.445,1500.27 330.445,847.244 \"/>\n",
       "<polyline clip-path=\"url(#clip940)\" style=\"stroke:#000000; stroke-linecap:round; stroke-linejoin:round; stroke-width:4; stroke-opacity:1; fill:none\" points=\"330.445,1458.45 349.342,1458.45 \"/>\n",
       "<polyline clip-path=\"url(#clip940)\" style=\"stroke:#000000; stroke-linecap:round; stroke-linejoin:round; stroke-width:4; stroke-opacity:1; fill:none\" points=\"330.445,1261.22 349.342,1261.22 \"/>\n",
       "<polyline clip-path=\"url(#clip940)\" style=\"stroke:#000000; stroke-linecap:round; stroke-linejoin:round; stroke-width:4; stroke-opacity:1; fill:none\" points=\"330.445,1063.99 349.342,1063.99 \"/>\n",
       "<polyline clip-path=\"url(#clip940)\" style=\"stroke:#000000; stroke-linecap:round; stroke-linejoin:round; stroke-width:4; stroke-opacity:1; fill:none\" points=\"330.445,866.763 349.342,866.763 \"/>\n",
       "<path clip-path=\"url(#clip940)\" d=\"M42.9921 1465.35 L72.6679 1465.35 L72.6679 1469.28 L42.9921 1469.28 L42.9921 1465.35 Z\" fill=\"#000000\" fill-rule=\"nonzero\" fill-opacity=\"1\" /><path clip-path=\"url(#clip940)\" d=\"M96.927 1463.54 Q100.283 1464.26 102.158 1466.53 Q104.057 1468.8 104.057 1472.13 Q104.057 1477.25 100.538 1480.05 Q97.0196 1482.85 90.5382 1482.85 Q88.3623 1482.85 86.0475 1482.41 Q83.7558 1481.99 81.3021 1481.13 L81.3021 1476.62 Q83.2465 1477.76 85.5613 1478.33 Q87.8761 1478.91 90.3993 1478.91 Q94.7974 1478.91 97.0891 1477.18 Q99.4039 1475.44 99.4039 1472.13 Q99.4039 1469.07 97.2511 1467.36 Q95.1215 1465.63 91.3021 1465.63 L87.2743 1465.63 L87.2743 1461.78 L91.4872 1461.78 Q94.9363 1461.78 96.765 1460.42 Q98.5937 1459.03 98.5937 1456.44 Q98.5937 1453.77 96.6955 1452.36 Q94.8206 1450.93 91.3021 1450.93 Q89.3808 1450.93 87.1817 1451.34 Q84.9826 1451.76 82.3438 1452.64 L82.3438 1448.47 Q85.0058 1447.73 87.3206 1447.36 Q89.6585 1446.99 91.7187 1446.99 Q97.0428 1446.99 100.145 1449.42 Q103.246 1451.83 103.246 1455.95 Q103.246 1458.82 101.603 1460.81 Q99.9594 1462.78 96.927 1463.54 Z\" fill=\"#000000\" fill-rule=\"nonzero\" fill-opacity=\"1\" /><path clip-path=\"url(#clip940)\" d=\"M112.922 1476.3 L117.807 1476.3 L117.807 1482.18 L112.922 1482.18 L112.922 1476.3 Z\" fill=\"#000000\" fill-rule=\"nonzero\" fill-opacity=\"1\" /><path clip-path=\"url(#clip940)\" d=\"M137.992 1450.69 Q134.381 1450.69 132.552 1454.26 Q130.746 1457.8 130.746 1464.93 Q130.746 1472.04 132.552 1475.6 Q134.381 1479.14 137.992 1479.14 Q141.626 1479.14 143.431 1475.6 Q145.26 1472.04 145.26 1464.93 Q145.26 1457.8 143.431 1454.26 Q141.626 1450.69 137.992 1450.69 M137.992 1446.99 Q143.802 1446.99 146.857 1451.6 Q149.936 1456.18 149.936 1464.93 Q149.936 1473.66 146.857 1478.26 Q143.802 1482.85 137.992 1482.85 Q132.181 1482.85 129.103 1478.26 Q126.047 1473.66 126.047 1464.93 Q126.047 1456.18 129.103 1451.6 Q132.181 1446.99 137.992 1446.99 Z\" fill=\"#000000\" fill-rule=\"nonzero\" fill-opacity=\"1\" /><path clip-path=\"url(#clip940)\" d=\"M186.325 1456.71 L175.746 1467.34 L186.325 1477.92 L183.57 1480.72 L172.945 1470.09 L162.32 1480.72 L159.589 1477.92 L170.144 1467.34 L159.589 1456.71 L162.32 1453.91 L172.945 1464.54 L183.57 1453.91 L186.325 1456.71 Z\" fill=\"#000000\" fill-rule=\"nonzero\" fill-opacity=\"1\" /><path clip-path=\"url(#clip940)\" d=\"M198.686 1478.24 L206.325 1478.24 L206.325 1451.88 L198.014 1453.54 L198.014 1449.28 L206.278 1447.62 L210.954 1447.62 L210.954 1478.24 L218.593 1478.24 L218.593 1482.18 L198.686 1482.18 L198.686 1478.24 Z\" fill=\"#000000\" fill-rule=\"nonzero\" fill-opacity=\"1\" /><path clip-path=\"url(#clip940)\" d=\"M238.037 1450.69 Q234.426 1450.69 232.598 1454.26 Q230.792 1457.8 230.792 1464.93 Q230.792 1472.04 232.598 1475.6 Q234.426 1479.14 238.037 1479.14 Q241.672 1479.14 243.477 1475.6 Q245.306 1472.04 245.306 1464.93 Q245.306 1457.8 243.477 1454.26 Q241.672 1450.69 238.037 1450.69 M238.037 1446.99 Q243.848 1446.99 246.903 1451.6 Q249.982 1456.18 249.982 1464.93 Q249.982 1473.66 246.903 1478.26 Q243.848 1482.85 238.037 1482.85 Q232.227 1482.85 229.149 1478.26 Q226.093 1473.66 226.093 1464.93 Q226.093 1456.18 229.149 1451.6 Q232.227 1446.99 238.037 1446.99 Z\" fill=\"#000000\" fill-rule=\"nonzero\" fill-opacity=\"1\" /><path clip-path=\"url(#clip940)\" d=\"M262.658 1430 L253.066 1444.99 L262.658 1444.99 L262.658 1430 M261.661 1426.69 L266.439 1426.69 L266.439 1444.99 L270.445 1444.99 L270.445 1448.15 L266.439 1448.15 L266.439 1454.77 L262.658 1454.77 L262.658 1448.15 L249.982 1448.15 L249.982 1444.48 L261.661 1426.69 Z\" fill=\"#000000\" fill-rule=\"nonzero\" fill-opacity=\"1\" /><path clip-path=\"url(#clip940)\" d=\"M42.9921 1268.12 L72.6679 1268.12 L72.6679 1272.05 L42.9921 1272.05 L42.9921 1268.12 Z\" fill=\"#000000\" fill-rule=\"nonzero\" fill-opacity=\"1\" /><path clip-path=\"url(#clip940)\" d=\"M86.7882 1281.01 L103.108 1281.01 L103.108 1284.95 L81.1632 1284.95 L81.1632 1281.01 Q83.8252 1278.26 88.4085 1273.63 Q93.015 1268.98 94.1956 1267.63 Q96.4409 1265.11 97.3205 1263.37 Q98.2233 1261.61 98.2233 1259.92 Q98.2233 1257.17 96.2789 1255.43 Q94.3576 1253.7 91.2558 1253.7 Q89.0567 1253.7 86.603 1254.46 Q84.1725 1255.23 81.3947 1256.78 L81.3947 1252.05 Q84.2188 1250.92 86.6724 1250.34 Q89.1261 1249.76 91.1632 1249.76 Q96.5335 1249.76 99.7279 1252.45 Q102.922 1255.13 102.922 1259.62 Q102.922 1261.75 102.112 1263.67 Q101.325 1265.57 99.2187 1268.17 Q98.64 1268.84 95.5381 1272.05 Q92.4363 1275.25 86.7882 1281.01 Z\" fill=\"#000000\" fill-rule=\"nonzero\" fill-opacity=\"1\" /><path clip-path=\"url(#clip940)\" d=\"M112.922 1279.07 L117.807 1279.07 L117.807 1284.95 L112.922 1284.95 L112.922 1279.07 Z\" fill=\"#000000\" fill-rule=\"nonzero\" fill-opacity=\"1\" /><path clip-path=\"url(#clip940)\" d=\"M137.992 1253.47 Q134.381 1253.47 132.552 1257.03 Q130.746 1260.57 130.746 1267.7 Q130.746 1274.81 132.552 1278.37 Q134.381 1281.92 137.992 1281.92 Q141.626 1281.92 143.431 1278.37 Q145.26 1274.81 145.26 1267.7 Q145.26 1260.57 143.431 1257.03 Q141.626 1253.47 137.992 1253.47 M137.992 1249.76 Q143.802 1249.76 146.857 1254.37 Q149.936 1258.95 149.936 1267.7 Q149.936 1276.43 146.857 1281.04 Q143.802 1285.62 137.992 1285.62 Q132.181 1285.62 129.103 1281.04 Q126.047 1276.43 126.047 1267.7 Q126.047 1258.95 129.103 1254.37 Q132.181 1249.76 137.992 1249.76 Z\" fill=\"#000000\" fill-rule=\"nonzero\" fill-opacity=\"1\" /><path clip-path=\"url(#clip940)\" d=\"M186.325 1259.49 L175.746 1270.11 L186.325 1280.69 L183.57 1283.49 L172.945 1272.86 L162.32 1283.49 L159.589 1280.69 L170.144 1270.11 L159.589 1259.49 L162.32 1256.68 L172.945 1267.31 L183.57 1256.68 L186.325 1259.49 Z\" fill=\"#000000\" fill-rule=\"nonzero\" fill-opacity=\"1\" /><path clip-path=\"url(#clip940)\" d=\"M198.686 1281.01 L206.325 1281.01 L206.325 1254.65 L198.014 1256.31 L198.014 1252.05 L206.278 1250.39 L210.954 1250.39 L210.954 1281.01 L218.593 1281.01 L218.593 1284.95 L198.686 1284.95 L198.686 1281.01 Z\" fill=\"#000000\" fill-rule=\"nonzero\" fill-opacity=\"1\" /><path clip-path=\"url(#clip940)\" d=\"M238.037 1253.47 Q234.426 1253.47 232.598 1257.03 Q230.792 1260.57 230.792 1267.7 Q230.792 1274.81 232.598 1278.37 Q234.426 1281.92 238.037 1281.92 Q241.672 1281.92 243.477 1278.37 Q245.306 1274.81 245.306 1267.7 Q245.306 1260.57 243.477 1257.03 Q241.672 1253.47 238.037 1253.47 M238.037 1249.76 Q243.848 1249.76 246.903 1254.37 Q249.982 1258.95 249.982 1267.7 Q249.982 1276.43 246.903 1281.04 Q243.848 1285.62 238.037 1285.62 Q232.227 1285.62 229.149 1281.04 Q226.093 1276.43 226.093 1267.7 Q226.093 1258.95 229.149 1254.37 Q232.227 1249.76 238.037 1249.76 Z\" fill=\"#000000\" fill-rule=\"nonzero\" fill-opacity=\"1\" /><path clip-path=\"url(#clip940)\" d=\"M262.658 1232.77 L253.066 1247.76 L262.658 1247.76 L262.658 1232.77 M261.661 1229.46 L266.439 1229.46 L266.439 1247.76 L270.445 1247.76 L270.445 1250.92 L266.439 1250.92 L266.439 1257.54 L262.658 1257.54 L262.658 1250.92 L249.982 1250.92 L249.982 1247.25 L261.661 1229.46 Z\" fill=\"#000000\" fill-rule=\"nonzero\" fill-opacity=\"1\" /><path clip-path=\"url(#clip940)\" d=\"M42.9921 1070.89 L72.6679 1070.89 L72.6679 1074.83 L42.9921 1074.83 L42.9921 1070.89 Z\" fill=\"#000000\" fill-rule=\"nonzero\" fill-opacity=\"1\" /><path clip-path=\"url(#clip940)\" d=\"M83.5706 1083.78 L91.2095 1083.78 L91.2095 1057.42 L82.8993 1059.09 L82.8993 1054.83 L91.1632 1053.16 L95.8391 1053.16 L95.8391 1083.78 L103.478 1083.78 L103.478 1087.72 L83.5706 1087.72 L83.5706 1083.78 Z\" fill=\"#000000\" fill-rule=\"nonzero\" fill-opacity=\"1\" /><path clip-path=\"url(#clip940)\" d=\"M112.922 1081.84 L117.807 1081.84 L117.807 1087.72 L112.922 1087.72 L112.922 1081.84 Z\" fill=\"#000000\" fill-rule=\"nonzero\" fill-opacity=\"1\" /><path clip-path=\"url(#clip940)\" d=\"M137.992 1056.24 Q134.381 1056.24 132.552 1059.8 Q130.746 1063.34 130.746 1070.47 Q130.746 1077.58 132.552 1081.15 Q134.381 1084.69 137.992 1084.69 Q141.626 1084.69 143.431 1081.15 Q145.26 1077.58 145.26 1070.47 Q145.26 1063.34 143.431 1059.8 Q141.626 1056.24 137.992 1056.24 M137.992 1052.53 Q143.802 1052.53 146.857 1057.14 Q149.936 1061.72 149.936 1070.47 Q149.936 1079.2 146.857 1083.81 Q143.802 1088.39 137.992 1088.39 Q132.181 1088.39 129.103 1083.81 Q126.047 1079.2 126.047 1070.47 Q126.047 1061.72 129.103 1057.14 Q132.181 1052.53 137.992 1052.53 Z\" fill=\"#000000\" fill-rule=\"nonzero\" fill-opacity=\"1\" /><path clip-path=\"url(#clip940)\" d=\"M186.325 1062.26 L175.746 1072.88 L186.325 1083.46 L183.57 1086.26 L172.945 1075.64 L162.32 1086.26 L159.589 1083.46 L170.144 1072.88 L159.589 1062.26 L162.32 1059.46 L172.945 1070.08 L183.57 1059.46 L186.325 1062.26 Z\" fill=\"#000000\" fill-rule=\"nonzero\" fill-opacity=\"1\" /><path clip-path=\"url(#clip940)\" d=\"M198.686 1083.78 L206.325 1083.78 L206.325 1057.42 L198.014 1059.09 L198.014 1054.83 L206.278 1053.16 L210.954 1053.16 L210.954 1083.78 L218.593 1083.78 L218.593 1087.72 L198.686 1087.72 L198.686 1083.78 Z\" fill=\"#000000\" fill-rule=\"nonzero\" fill-opacity=\"1\" /><path clip-path=\"url(#clip940)\" d=\"M238.037 1056.24 Q234.426 1056.24 232.598 1059.8 Q230.792 1063.34 230.792 1070.47 Q230.792 1077.58 232.598 1081.15 Q234.426 1084.69 238.037 1084.69 Q241.672 1084.69 243.477 1081.15 Q245.306 1077.58 245.306 1070.47 Q245.306 1063.34 243.477 1059.8 Q241.672 1056.24 238.037 1056.24 M238.037 1052.53 Q243.848 1052.53 246.903 1057.14 Q249.982 1061.72 249.982 1070.47 Q249.982 1079.2 246.903 1083.81 Q243.848 1088.39 238.037 1088.39 Q232.227 1088.39 229.149 1083.81 Q226.093 1079.2 226.093 1070.47 Q226.093 1061.72 229.149 1057.14 Q232.227 1052.53 238.037 1052.53 Z\" fill=\"#000000\" fill-rule=\"nonzero\" fill-opacity=\"1\" /><path clip-path=\"url(#clip940)\" d=\"M262.658 1035.54 L253.066 1050.53 L262.658 1050.53 L262.658 1035.54 M261.661 1032.23 L266.439 1032.23 L266.439 1050.53 L270.445 1050.53 L270.445 1053.69 L266.439 1053.69 L266.439 1060.31 L262.658 1060.31 L262.658 1053.69 L249.982 1053.69 L249.982 1050.02 L261.661 1032.23 Z\" fill=\"#000000\" fill-rule=\"nonzero\" fill-opacity=\"1\" /><path clip-path=\"url(#clip940)\" d=\"M258.5 852.562 Q254.889 852.562 253.06 856.127 Q251.255 859.669 251.255 866.798 Q251.255 873.905 253.06 877.469 Q254.889 881.011 258.5 881.011 Q262.134 881.011 263.94 877.469 Q265.769 873.905 265.769 866.798 Q265.769 859.669 263.94 856.127 Q262.134 852.562 258.5 852.562 M258.5 848.858 Q264.31 848.858 267.366 853.465 Q270.445 858.048 270.445 866.798 Q270.445 875.525 267.366 880.131 Q264.31 884.715 258.5 884.715 Q252.69 884.715 249.611 880.131 Q246.556 875.525 246.556 866.798 Q246.556 858.048 249.611 853.465 Q252.69 848.858 258.5 848.858 Z\" fill=\"#000000\" fill-rule=\"nonzero\" fill-opacity=\"1\" /><polyline clip-path=\"url(#clip945)\" style=\"stroke:#009af9; stroke-linecap:round; stroke-linejoin:round; stroke-width:4; stroke-opacity:1; fill:none\" points=\"358.77,866.802 364.917,866.802 421.757,866.802 455.915,866.802 484.795,866.802 516.167,866.801 545.09,866.801 576.097,866.801 612.023,866.8 643.949,866.799 671.946,866.798 702.469,866.796 733.174,866.794 750.149,866.793 767.123,866.792 783.273,866.791 799.424,866.791 803.622,866.791 807.82,866.792 812.019,866.794 816.217,866.798 818.316,866.803 820.415,866.81 822.514,866.824 824.613,866.855 825.663,866.886 826.712,866.944 827.762,867.071 828.811,867.444 829.074,867.653 829.336,867.98 829.599,868.533 829.861,869.583 830.123,871.962 830.386,879.43 830.648,932.692 830.911,1481.79 831.173,893.243 831.435,874.831 831.698,870.617 831.96,869.017 832.223,868.244 832.485,867.812 832.747,867.547 833.01,867.373 833.893,867.08 834.777,866.961 835.66,866.901 836.544,866.867 838.311,866.831 840.078,866.814 841.845,866.804 843.612,866.798 845.379,866.794 847.146,866.791 850.68,866.786 854.214,866.784 857.748,866.782 861.282,866.78 878.54,866.774 895.798,866.769 911.608,866.764 927.418,866.758 956.621,866.746 986.203,866.729 1002.78,866.718 1019.36,866.706 1034.38,866.692 1049.4,866.677 1066.6,866.658 1083.79,866.635 1099.72,866.61 1115.64,866.583 1123.49,866.567 1131.34,866.551 1139.19,866.534 1147.04,866.516 1154.66,866.496 1162.28,866.476 1169.9,866.454 1177.52,866.431 1185.34,866.405 1193.15,866.378 1200.96,866.349 1208.78,866.318 1217.34,866.282 1225.9,866.242 1234.45,866.2 1243.01,866.155 1249.23,866.12 1255.45,866.083 1261.67,866.044 1267.88,866.003 1274.1,865.96 1280.32,865.914 1286.54,865.866 1292.75,865.815 1295.3,865.794 1297.85,865.772 1300.41,865.749 1302.96,865.726 \"/>\n",
       "<path clip-path=\"url(#clip940)\" d=\"M1154.74 1478.5 L1297.92 1478.5 L1297.92 1374.82 L1154.74 1374.82  Z\" fill=\"#ffffff\" fill-rule=\"evenodd\" fill-opacity=\"1\"/>\n",
       "<polyline clip-path=\"url(#clip940)\" style=\"stroke:#000000; stroke-linecap:round; stroke-linejoin:round; stroke-width:4; stroke-opacity:1; fill:none\" points=\"1154.74,1478.5 1297.92,1478.5 1297.92,1374.82 1154.74,1374.82 1154.74,1478.5 \"/>\n",
       "<polyline clip-path=\"url(#clip940)\" style=\"stroke:#009af9; stroke-linecap:round; stroke-linejoin:round; stroke-width:4; stroke-opacity:1; fill:none\" points=\"1165.86,1426.66 1232.58,1426.66 \"/>\n",
       "<path clip-path=\"url(#clip940)\" d=\"M1260.2 1407.93 L1260.2 1411.47 L1256.13 1411.47 Q1253.84 1411.47 1252.93 1412.39 Q1252.06 1413.32 1252.06 1415.73 L1252.06 1418.02 L1259.07 1418.02 L1259.07 1421.33 L1252.06 1421.33 L1252.06 1443.94 L1247.77 1443.94 L1247.77 1421.33 L1243.7 1421.33 L1243.7 1418.02 L1247.77 1418.02 L1247.77 1416.21 Q1247.77 1411.88 1249.79 1409.92 Q1251.8 1407.93 1256.18 1407.93 L1260.2 1407.93 Z\" fill=\"#000000\" fill-rule=\"nonzero\" fill-opacity=\"1\" /><path clip-path=\"url(#clip940)\" d=\"M1277.22 1413.46 L1265.41 1431.91 L1277.22 1431.91 L1277.22 1413.46 M1275.99 1409.38 L1281.87 1409.38 L1281.87 1431.91 L1286.8 1431.91 L1286.8 1435.8 L1281.87 1435.8 L1281.87 1443.94 L1277.22 1443.94 L1277.22 1435.8 L1261.62 1435.8 L1261.62 1431.28 L1275.99 1409.38 Z\" fill=\"#000000\" fill-rule=\"nonzero\" fill-opacity=\"1\" /><path clip-path=\"url(#clip940)\" d=\"M1708.97 1500.27 L2709.81 1500.27 L2709.81 847.244 L1708.97 847.244  Z\" fill=\"#ffffff\" fill-rule=\"evenodd\" fill-opacity=\"1\"/>\n",
       "<defs>\n",
       "  <clipPath id=\"clip946\">\n",
       "    <rect x=\"1708\" y=\"847\" width=\"1002\" height=\"654\"/>\n",
       "  </clipPath>\n",
       "</defs>\n",
       "<polyline clip-path=\"url(#clip946)\" style=\"stroke:#000000; stroke-linecap:round; stroke-linejoin:round; stroke-width:2; stroke-opacity:0.1; fill:none\" points=\"1737.3,1500.27 1737.3,847.244 \"/>\n",
       "<polyline clip-path=\"url(#clip946)\" style=\"stroke:#000000; stroke-linecap:round; stroke-linejoin:round; stroke-width:2; stroke-opacity:0.1; fill:none\" points=\"1973.34,1500.27 1973.34,847.244 \"/>\n",
       "<polyline clip-path=\"url(#clip946)\" style=\"stroke:#000000; stroke-linecap:round; stroke-linejoin:round; stroke-width:2; stroke-opacity:0.1; fill:none\" points=\"2209.39,1500.27 2209.39,847.244 \"/>\n",
       "<polyline clip-path=\"url(#clip946)\" style=\"stroke:#000000; stroke-linecap:round; stroke-linejoin:round; stroke-width:2; stroke-opacity:0.1; fill:none\" points=\"2445.44,1500.27 2445.44,847.244 \"/>\n",
       "<polyline clip-path=\"url(#clip946)\" style=\"stroke:#000000; stroke-linecap:round; stroke-linejoin:round; stroke-width:2; stroke-opacity:0.1; fill:none\" points=\"2681.48,1500.27 2681.48,847.244 \"/>\n",
       "<polyline clip-path=\"url(#clip940)\" style=\"stroke:#000000; stroke-linecap:round; stroke-linejoin:round; stroke-width:4; stroke-opacity:1; fill:none\" points=\"1708.97,1500.27 2709.81,1500.27 \"/>\n",
       "<polyline clip-path=\"url(#clip940)\" style=\"stroke:#000000; stroke-linecap:round; stroke-linejoin:round; stroke-width:4; stroke-opacity:1; fill:none\" points=\"1737.3,1500.27 1737.3,1481.37 \"/>\n",
       "<polyline clip-path=\"url(#clip940)\" style=\"stroke:#000000; stroke-linecap:round; stroke-linejoin:round; stroke-width:4; stroke-opacity:1; fill:none\" points=\"1973.34,1500.27 1973.34,1481.37 \"/>\n",
       "<polyline clip-path=\"url(#clip940)\" style=\"stroke:#000000; stroke-linecap:round; stroke-linejoin:round; stroke-width:4; stroke-opacity:1; fill:none\" points=\"2209.39,1500.27 2209.39,1481.37 \"/>\n",
       "<polyline clip-path=\"url(#clip940)\" style=\"stroke:#000000; stroke-linecap:round; stroke-linejoin:round; stroke-width:4; stroke-opacity:1; fill:none\" points=\"2445.44,1500.27 2445.44,1481.37 \"/>\n",
       "<polyline clip-path=\"url(#clip940)\" style=\"stroke:#000000; stroke-linecap:round; stroke-linejoin:round; stroke-width:4; stroke-opacity:1; fill:none\" points=\"2681.48,1500.27 2681.48,1481.37 \"/>\n",
       "<path clip-path=\"url(#clip940)\" d=\"M1706.2 1558.64 L1735.87 1558.64 L1735.87 1562.58 L1706.2 1562.58 L1706.2 1558.64 Z\" fill=\"#000000\" fill-rule=\"nonzero\" fill-opacity=\"1\" /><path clip-path=\"url(#clip940)\" d=\"M1758.81 1544.99 L1747.01 1563.43 L1758.81 1563.43 L1758.81 1544.99 M1757.59 1540.91 L1763.47 1540.91 L1763.47 1563.43 L1768.4 1563.43 L1768.4 1567.32 L1763.47 1567.32 L1763.47 1575.47 L1758.81 1575.47 L1758.81 1567.32 L1743.21 1567.32 L1743.21 1562.81 L1757.59 1540.91 Z\" fill=\"#000000\" fill-rule=\"nonzero\" fill-opacity=\"1\" /><path clip-path=\"url(#clip940)\" d=\"M1943.29 1558.64 L1972.96 1558.64 L1972.96 1562.58 L1943.29 1562.58 L1943.29 1558.64 Z\" fill=\"#000000\" fill-rule=\"nonzero\" fill-opacity=\"1\" /><path clip-path=\"url(#clip940)\" d=\"M1987.08 1571.54 L2003.4 1571.54 L2003.4 1575.47 L1981.46 1575.47 L1981.46 1571.54 Q1984.12 1568.78 1988.7 1564.15 Q1993.31 1559.5 1994.49 1558.16 Q1996.73 1555.63 1997.61 1553.9 Q1998.52 1552.14 1998.52 1550.45 Q1998.52 1547.69 1996.57 1545.96 Q1994.65 1544.22 1991.55 1544.22 Q1989.35 1544.22 1986.9 1544.99 Q1984.47 1545.75 1981.69 1547.3 L1981.69 1542.58 Q1984.51 1541.44 1986.97 1540.87 Q1989.42 1540.29 1991.46 1540.29 Q1996.83 1540.29 2000.02 1542.97 Q2003.22 1545.66 2003.22 1550.15 Q2003.22 1552.28 2002.41 1554.2 Q2001.62 1556.1 1999.51 1558.69 Q1998.93 1559.36 1995.83 1562.58 Q1992.73 1565.77 1987.08 1571.54 Z\" fill=\"#000000\" fill-rule=\"nonzero\" fill-opacity=\"1\" /><path clip-path=\"url(#clip940)\" d=\"M2209.39 1543.99 Q2205.78 1543.99 2203.95 1547.56 Q2202.14 1551.1 2202.14 1558.23 Q2202.14 1565.33 2203.95 1568.9 Q2205.78 1572.44 2209.39 1572.44 Q2213.02 1572.44 2214.83 1568.9 Q2216.66 1565.33 2216.66 1558.23 Q2216.66 1551.1 2214.83 1547.56 Q2213.02 1543.99 2209.39 1543.99 M2209.39 1540.29 Q2215.2 1540.29 2218.25 1544.89 Q2221.33 1549.48 2221.33 1558.23 Q2221.33 1566.95 2218.25 1571.56 Q2215.2 1576.14 2209.39 1576.14 Q2203.58 1576.14 2200.5 1571.56 Q2197.44 1566.95 2197.44 1558.23 Q2197.44 1549.48 2200.5 1544.89 Q2203.58 1540.29 2209.39 1540.29 Z\" fill=\"#000000\" fill-rule=\"nonzero\" fill-opacity=\"1\" /><path clip-path=\"url(#clip940)\" d=\"M2440.09 1571.54 L2456.41 1571.54 L2456.41 1575.47 L2434.46 1575.47 L2434.46 1571.54 Q2437.13 1568.78 2441.71 1564.15 Q2446.32 1559.5 2447.5 1558.16 Q2449.74 1555.63 2450.62 1553.9 Q2451.52 1552.14 2451.52 1550.45 Q2451.52 1547.69 2449.58 1545.96 Q2447.66 1544.22 2444.56 1544.22 Q2442.36 1544.22 2439.9 1544.99 Q2437.47 1545.75 2434.7 1547.3 L2434.7 1542.58 Q2437.52 1541.44 2439.97 1540.87 Q2442.43 1540.29 2444.46 1540.29 Q2449.83 1540.29 2453.03 1542.97 Q2456.22 1545.66 2456.22 1550.15 Q2456.22 1552.28 2455.41 1554.2 Q2454.63 1556.1 2452.52 1558.69 Q2451.94 1559.36 2448.84 1562.58 Q2445.74 1565.77 2440.09 1571.54 Z\" fill=\"#000000\" fill-rule=\"nonzero\" fill-opacity=\"1\" /><path clip-path=\"url(#clip940)\" d=\"M2684.49 1544.99 L2672.69 1563.43 L2684.49 1563.43 L2684.49 1544.99 M2683.26 1540.91 L2689.14 1540.91 L2689.14 1563.43 L2694.07 1563.43 L2694.07 1567.32 L2689.14 1567.32 L2689.14 1575.47 L2684.49 1575.47 L2684.49 1567.32 L2668.89 1567.32 L2668.89 1562.81 L2683.26 1540.91 Z\" fill=\"#000000\" fill-rule=\"nonzero\" fill-opacity=\"1\" /><polyline clip-path=\"url(#clip946)\" style=\"stroke:#000000; stroke-linecap:round; stroke-linejoin:round; stroke-width:2; stroke-opacity:0.1; fill:none\" points=\"1708.97,1496.17 2709.81,1496.17 \"/>\n",
       "<polyline clip-path=\"url(#clip946)\" style=\"stroke:#000000; stroke-linecap:round; stroke-linejoin:round; stroke-width:2; stroke-opacity:0.1; fill:none\" points=\"1708.97,1342.76 2709.81,1342.76 \"/>\n",
       "<polyline clip-path=\"url(#clip946)\" style=\"stroke:#000000; stroke-linecap:round; stroke-linejoin:round; stroke-width:2; stroke-opacity:0.1; fill:none\" points=\"1708.97,1189.34 2709.81,1189.34 \"/>\n",
       "<polyline clip-path=\"url(#clip946)\" style=\"stroke:#000000; stroke-linecap:round; stroke-linejoin:round; stroke-width:2; stroke-opacity:0.1; fill:none\" points=\"1708.97,1035.92 2709.81,1035.92 \"/>\n",
       "<polyline clip-path=\"url(#clip946)\" style=\"stroke:#000000; stroke-linecap:round; stroke-linejoin:round; stroke-width:2; stroke-opacity:0.1; fill:none\" points=\"1708.97,882.502 2709.81,882.502 \"/>\n",
       "<polyline clip-path=\"url(#clip940)\" style=\"stroke:#000000; stroke-linecap:round; stroke-linejoin:round; stroke-width:4; stroke-opacity:1; fill:none\" points=\"1708.97,1500.27 1708.97,847.244 \"/>\n",
       "<polyline clip-path=\"url(#clip940)\" style=\"stroke:#000000; stroke-linecap:round; stroke-linejoin:round; stroke-width:4; stroke-opacity:1; fill:none\" points=\"1708.97,1496.17 1727.87,1496.17 \"/>\n",
       "<polyline clip-path=\"url(#clip940)\" style=\"stroke:#000000; stroke-linecap:round; stroke-linejoin:round; stroke-width:4; stroke-opacity:1; fill:none\" points=\"1708.97,1342.76 1727.87,1342.76 \"/>\n",
       "<polyline clip-path=\"url(#clip940)\" style=\"stroke:#000000; stroke-linecap:round; stroke-linejoin:round; stroke-width:4; stroke-opacity:1; fill:none\" points=\"1708.97,1189.34 1727.87,1189.34 \"/>\n",
       "<polyline clip-path=\"url(#clip940)\" style=\"stroke:#000000; stroke-linecap:round; stroke-linejoin:round; stroke-width:4; stroke-opacity:1; fill:none\" points=\"1708.97,1035.92 1727.87,1035.92 \"/>\n",
       "<polyline clip-path=\"url(#clip940)\" style=\"stroke:#000000; stroke-linecap:round; stroke-linejoin:round; stroke-width:4; stroke-opacity:1; fill:none\" points=\"1708.97,882.502 1727.87,882.502 \"/>\n",
       "<path clip-path=\"url(#clip940)\" d=\"M1421.52 1503.07 L1451.19 1503.07 L1451.19 1507.01 L1421.52 1507.01 L1421.52 1503.07 Z\" fill=\"#000000\" fill-rule=\"nonzero\" fill-opacity=\"1\" /><path clip-path=\"url(#clip940)\" d=\"M1471.29 1503.49 Q1467.95 1503.49 1466.03 1505.27 Q1464.13 1507.05 1464.13 1510.18 Q1464.13 1513.3 1466.03 1515.09 Q1467.95 1516.87 1471.29 1516.87 Q1474.62 1516.87 1476.54 1515.09 Q1478.46 1513.28 1478.46 1510.18 Q1478.46 1507.05 1476.54 1505.27 Q1474.64 1503.49 1471.29 1503.49 M1466.61 1501.5 Q1463.6 1500.76 1461.91 1498.7 Q1460.24 1496.64 1460.24 1493.67 Q1460.24 1489.53 1463.18 1487.12 Q1466.15 1484.72 1471.29 1484.72 Q1476.45 1484.72 1479.39 1487.12 Q1482.33 1489.53 1482.33 1493.67 Q1482.33 1496.64 1480.64 1498.7 Q1478.97 1500.76 1475.99 1501.5 Q1479.37 1502.28 1481.24 1504.58 Q1483.14 1506.87 1483.14 1510.18 Q1483.14 1515.2 1480.06 1517.89 Q1477 1520.57 1471.29 1520.57 Q1465.57 1520.57 1462.49 1517.89 Q1459.43 1515.2 1459.43 1510.18 Q1459.43 1506.87 1461.33 1504.58 Q1463.23 1502.28 1466.61 1501.5 M1464.9 1494.11 Q1464.9 1496.8 1466.56 1498.3 Q1468.25 1499.81 1471.29 1499.81 Q1474.3 1499.81 1475.99 1498.3 Q1477.7 1496.8 1477.7 1494.11 Q1477.7 1491.43 1475.99 1489.92 Q1474.3 1488.42 1471.29 1488.42 Q1468.25 1488.42 1466.56 1489.92 Q1464.9 1491.43 1464.9 1494.11 Z\" fill=\"#000000\" fill-rule=\"nonzero\" fill-opacity=\"1\" /><path clip-path=\"url(#clip940)\" d=\"M1491.45 1514.02 L1496.33 1514.02 L1496.33 1519.9 L1491.45 1519.9 L1491.45 1514.02 Z\" fill=\"#000000\" fill-rule=\"nonzero\" fill-opacity=\"1\" /><path clip-path=\"url(#clip940)\" d=\"M1516.52 1488.42 Q1512.91 1488.42 1511.08 1491.98 Q1509.27 1495.53 1509.27 1502.66 Q1509.27 1509.76 1511.08 1513.33 Q1512.91 1516.87 1516.52 1516.87 Q1520.15 1516.87 1521.96 1513.33 Q1523.79 1509.76 1523.79 1502.66 Q1523.79 1495.53 1521.96 1491.98 Q1520.15 1488.42 1516.52 1488.42 M1516.52 1484.72 Q1522.33 1484.72 1525.38 1489.32 Q1528.46 1493.91 1528.46 1502.66 Q1528.46 1511.38 1525.38 1515.99 Q1522.33 1520.57 1516.52 1520.57 Q1510.71 1520.57 1507.63 1515.99 Q1504.57 1511.38 1504.57 1502.66 Q1504.57 1493.91 1507.63 1489.32 Q1510.71 1484.72 1516.52 1484.72 Z\" fill=\"#000000\" fill-rule=\"nonzero\" fill-opacity=\"1\" /><path clip-path=\"url(#clip940)\" d=\"M1564.85 1494.44 L1554.27 1505.06 L1564.85 1515.64 L1562.1 1518.44 L1551.47 1507.82 L1540.85 1518.44 L1538.11 1515.64 L1548.67 1505.06 L1538.11 1494.44 L1540.85 1491.64 L1551.47 1502.26 L1562.1 1491.64 L1564.85 1494.44 Z\" fill=\"#000000\" fill-rule=\"nonzero\" fill-opacity=\"1\" /><path clip-path=\"url(#clip940)\" d=\"M1577.21 1515.97 L1584.85 1515.97 L1584.85 1489.6 L1576.54 1491.27 L1576.54 1487.01 L1584.8 1485.34 L1589.48 1485.34 L1589.48 1515.97 L1597.12 1515.97 L1597.12 1519.9 L1577.21 1519.9 L1577.21 1515.97 Z\" fill=\"#000000\" fill-rule=\"nonzero\" fill-opacity=\"1\" /><path clip-path=\"url(#clip940)\" d=\"M1616.56 1488.42 Q1612.95 1488.42 1611.12 1491.98 Q1609.32 1495.53 1609.32 1502.66 Q1609.32 1509.76 1611.12 1513.33 Q1612.95 1516.87 1616.56 1516.87 Q1620.2 1516.87 1622 1513.33 Q1623.83 1509.76 1623.83 1502.66 Q1623.83 1495.53 1622 1491.98 Q1620.2 1488.42 1616.56 1488.42 M1616.56 1484.72 Q1622.37 1484.72 1625.43 1489.32 Q1628.51 1493.91 1628.51 1502.66 Q1628.51 1511.38 1625.43 1515.99 Q1622.37 1520.57 1616.56 1520.57 Q1610.75 1520.57 1607.67 1515.99 Q1604.62 1511.38 1604.62 1502.66 Q1604.62 1493.91 1607.67 1489.32 Q1610.75 1484.72 1616.56 1484.72 Z\" fill=\"#000000\" fill-rule=\"nonzero\" fill-opacity=\"1\" /><path clip-path=\"url(#clip940)\" d=\"M1641.18 1467.72 L1631.59 1482.71 L1641.18 1482.71 L1641.18 1467.72 M1640.19 1464.41 L1644.96 1464.41 L1644.96 1482.71 L1648.97 1482.71 L1648.97 1485.87 L1644.96 1485.87 L1644.96 1492.49 L1641.18 1492.49 L1641.18 1485.87 L1628.51 1485.87 L1628.51 1482.2 L1640.19 1464.41 Z\" fill=\"#000000\" fill-rule=\"nonzero\" fill-opacity=\"1\" /><path clip-path=\"url(#clip940)\" d=\"M1421.52 1349.65 L1451.19 1349.65 L1451.19 1353.59 L1421.52 1353.59 L1421.52 1349.65 Z\" fill=\"#000000\" fill-rule=\"nonzero\" fill-opacity=\"1\" /><path clip-path=\"url(#clip940)\" d=\"M1471.87 1347.34 Q1468.72 1347.34 1466.87 1349.49 Q1465.04 1351.64 1465.04 1355.39 Q1465.04 1359.12 1466.87 1361.3 Q1468.72 1363.45 1471.87 1363.45 Q1475.01 1363.45 1476.84 1361.3 Q1478.69 1359.12 1478.69 1355.39 Q1478.69 1351.64 1476.84 1349.49 Q1475.01 1347.34 1471.87 1347.34 M1481.15 1332.69 L1481.15 1336.95 Q1479.39 1336.11 1477.58 1335.67 Q1475.8 1335.23 1474.04 1335.23 Q1469.41 1335.23 1466.96 1338.36 Q1464.53 1341.48 1464.18 1347.8 Q1465.55 1345.79 1467.61 1344.72 Q1469.67 1343.64 1472.14 1343.64 Q1477.35 1343.64 1480.36 1346.81 Q1483.39 1349.96 1483.39 1355.39 Q1483.39 1360.72 1480.24 1363.94 Q1477.1 1367.15 1471.87 1367.15 Q1465.87 1367.15 1462.7 1362.57 Q1459.53 1357.96 1459.53 1349.24 Q1459.53 1341.04 1463.42 1336.18 Q1467.3 1331.3 1473.86 1331.3 Q1475.62 1331.3 1477.4 1331.65 Q1479.2 1331.99 1481.15 1332.69 Z\" fill=\"#000000\" fill-rule=\"nonzero\" fill-opacity=\"1\" /><path clip-path=\"url(#clip940)\" d=\"M1491.45 1360.6 L1496.33 1360.6 L1496.33 1366.48 L1491.45 1366.48 L1491.45 1360.6 Z\" fill=\"#000000\" fill-rule=\"nonzero\" fill-opacity=\"1\" /><path clip-path=\"url(#clip940)\" d=\"M1516.52 1335 Q1512.91 1335 1511.08 1338.57 Q1509.27 1342.11 1509.27 1349.24 Q1509.27 1356.34 1511.08 1359.91 Q1512.91 1363.45 1516.52 1363.45 Q1520.15 1363.45 1521.96 1359.91 Q1523.79 1356.34 1523.79 1349.24 Q1523.79 1342.11 1521.96 1338.57 Q1520.15 1335 1516.52 1335 M1516.52 1331.3 Q1522.33 1331.3 1525.38 1335.9 Q1528.46 1340.49 1528.46 1349.24 Q1528.46 1357.96 1525.38 1362.57 Q1522.33 1367.15 1516.52 1367.15 Q1510.71 1367.15 1507.63 1362.57 Q1504.57 1357.96 1504.57 1349.24 Q1504.57 1340.49 1507.63 1335.9 Q1510.71 1331.3 1516.52 1331.3 Z\" fill=\"#000000\" fill-rule=\"nonzero\" fill-opacity=\"1\" /><path clip-path=\"url(#clip940)\" d=\"M1564.85 1341.02 L1554.27 1351.64 L1564.85 1362.22 L1562.1 1365.02 L1551.47 1354.4 L1540.85 1365.02 L1538.11 1362.22 L1548.67 1351.64 L1538.11 1341.02 L1540.85 1338.22 L1551.47 1348.84 L1562.1 1338.22 L1564.85 1341.02 Z\" fill=\"#000000\" fill-rule=\"nonzero\" fill-opacity=\"1\" /><path clip-path=\"url(#clip940)\" d=\"M1577.21 1362.55 L1584.85 1362.55 L1584.85 1336.18 L1576.54 1337.85 L1576.54 1333.59 L1584.8 1331.92 L1589.48 1331.92 L1589.48 1362.55 L1597.12 1362.55 L1597.12 1366.48 L1577.21 1366.48 L1577.21 1362.55 Z\" fill=\"#000000\" fill-rule=\"nonzero\" fill-opacity=\"1\" /><path clip-path=\"url(#clip940)\" d=\"M1616.56 1335 Q1612.95 1335 1611.12 1338.57 Q1609.32 1342.11 1609.32 1349.24 Q1609.32 1356.34 1611.12 1359.91 Q1612.95 1363.45 1616.56 1363.45 Q1620.2 1363.45 1622 1359.91 Q1623.83 1356.34 1623.83 1349.24 Q1623.83 1342.11 1622 1338.57 Q1620.2 1335 1616.56 1335 M1616.56 1331.3 Q1622.37 1331.3 1625.43 1335.9 Q1628.51 1340.49 1628.51 1349.24 Q1628.51 1357.96 1625.43 1362.57 Q1622.37 1367.15 1616.56 1367.15 Q1610.75 1367.15 1607.67 1362.57 Q1604.62 1357.96 1604.62 1349.24 Q1604.62 1340.49 1607.67 1335.9 Q1610.75 1331.3 1616.56 1331.3 Z\" fill=\"#000000\" fill-rule=\"nonzero\" fill-opacity=\"1\" /><path clip-path=\"url(#clip940)\" d=\"M1641.18 1314.3 L1631.59 1329.29 L1641.18 1329.29 L1641.18 1314.3 M1640.19 1310.99 L1644.96 1310.99 L1644.96 1329.29 L1648.97 1329.29 L1648.97 1332.45 L1644.96 1332.45 L1644.96 1339.07 L1641.18 1339.07 L1641.18 1332.45 L1628.51 1332.45 L1628.51 1328.78 L1640.19 1310.99 Z\" fill=\"#000000\" fill-rule=\"nonzero\" fill-opacity=\"1\" /><path clip-path=\"url(#clip940)\" d=\"M1421.52 1196.24 L1451.19 1196.24 L1451.19 1200.17 L1421.52 1200.17 L1421.52 1196.24 Z\" fill=\"#000000\" fill-rule=\"nonzero\" fill-opacity=\"1\" /><path clip-path=\"url(#clip940)\" d=\"M1474.13 1182.58 L1462.33 1201.03 L1474.13 1201.03 L1474.13 1182.58 M1472.91 1178.51 L1478.79 1178.51 L1478.79 1201.03 L1483.72 1201.03 L1483.72 1204.92 L1478.79 1204.92 L1478.79 1213.07 L1474.13 1213.07 L1474.13 1204.92 L1458.53 1204.92 L1458.53 1200.4 L1472.91 1178.51 Z\" fill=\"#000000\" fill-rule=\"nonzero\" fill-opacity=\"1\" /><path clip-path=\"url(#clip940)\" d=\"M1491.45 1207.19 L1496.33 1207.19 L1496.33 1213.07 L1491.45 1213.07 L1491.45 1207.19 Z\" fill=\"#000000\" fill-rule=\"nonzero\" fill-opacity=\"1\" /><path clip-path=\"url(#clip940)\" d=\"M1516.52 1181.58 Q1512.91 1181.58 1511.08 1185.15 Q1509.27 1188.69 1509.27 1195.82 Q1509.27 1202.93 1511.08 1206.49 Q1512.91 1210.03 1516.52 1210.03 Q1520.15 1210.03 1521.96 1206.49 Q1523.79 1202.93 1523.79 1195.82 Q1523.79 1188.69 1521.96 1185.15 Q1520.15 1181.58 1516.52 1181.58 M1516.52 1177.88 Q1522.33 1177.88 1525.38 1182.49 Q1528.46 1187.07 1528.46 1195.82 Q1528.46 1204.55 1525.38 1209.15 Q1522.33 1213.74 1516.52 1213.74 Q1510.71 1213.74 1507.63 1209.15 Q1504.57 1204.55 1504.57 1195.82 Q1504.57 1187.07 1507.63 1182.49 Q1510.71 1177.88 1516.52 1177.88 Z\" fill=\"#000000\" fill-rule=\"nonzero\" fill-opacity=\"1\" /><path clip-path=\"url(#clip940)\" d=\"M1564.85 1187.6 L1554.27 1198.23 L1564.85 1208.81 L1562.1 1211.61 L1551.47 1200.98 L1540.85 1211.61 L1538.11 1208.81 L1548.67 1198.23 L1538.11 1187.6 L1540.85 1184.8 L1551.47 1195.43 L1562.1 1184.8 L1564.85 1187.6 Z\" fill=\"#000000\" fill-rule=\"nonzero\" fill-opacity=\"1\" /><path clip-path=\"url(#clip940)\" d=\"M1577.21 1209.13 L1584.85 1209.13 L1584.85 1182.76 L1576.54 1184.43 L1576.54 1180.17 L1584.8 1178.51 L1589.48 1178.51 L1589.48 1209.13 L1597.12 1209.13 L1597.12 1213.07 L1577.21 1213.07 L1577.21 1209.13 Z\" fill=\"#000000\" fill-rule=\"nonzero\" fill-opacity=\"1\" /><path clip-path=\"url(#clip940)\" d=\"M1616.56 1181.58 Q1612.95 1181.58 1611.12 1185.15 Q1609.32 1188.69 1609.32 1195.82 Q1609.32 1202.93 1611.12 1206.49 Q1612.95 1210.03 1616.56 1210.03 Q1620.2 1210.03 1622 1206.49 Q1623.83 1202.93 1623.83 1195.82 Q1623.83 1188.69 1622 1185.15 Q1620.2 1181.58 1616.56 1181.58 M1616.56 1177.88 Q1622.37 1177.88 1625.43 1182.49 Q1628.51 1187.07 1628.51 1195.82 Q1628.51 1204.55 1625.43 1209.15 Q1622.37 1213.74 1616.56 1213.74 Q1610.75 1213.74 1607.67 1209.15 Q1604.62 1204.55 1604.62 1195.82 Q1604.62 1187.07 1607.67 1182.49 Q1610.75 1177.88 1616.56 1177.88 Z\" fill=\"#000000\" fill-rule=\"nonzero\" fill-opacity=\"1\" /><path clip-path=\"url(#clip940)\" d=\"M1641.18 1160.88 L1631.59 1175.87 L1641.18 1175.87 L1641.18 1160.88 M1640.19 1157.57 L1644.96 1157.57 L1644.96 1175.87 L1648.97 1175.87 L1648.97 1179.03 L1644.96 1179.03 L1644.96 1185.65 L1641.18 1185.65 L1641.18 1179.03 L1628.51 1179.03 L1628.51 1175.37 L1640.19 1157.57 Z\" fill=\"#000000\" fill-rule=\"nonzero\" fill-opacity=\"1\" /><path clip-path=\"url(#clip940)\" d=\"M1421.52 1042.82 L1451.19 1042.82 L1451.19 1046.75 L1421.52 1046.75 L1421.52 1042.82 Z\" fill=\"#000000\" fill-rule=\"nonzero\" fill-opacity=\"1\" /><path clip-path=\"url(#clip940)\" d=\"M1465.31 1055.71 L1481.63 1055.71 L1481.63 1059.65 L1459.69 1059.65 L1459.69 1055.71 Q1462.35 1052.96 1466.93 1048.33 Q1471.54 1043.68 1472.72 1042.33 Q1474.97 1039.81 1475.85 1038.07 Q1476.75 1036.31 1476.75 1034.62 Q1476.75 1031.87 1474.8 1030.13 Q1472.88 1028.4 1469.78 1028.4 Q1467.58 1028.4 1465.13 1029.16 Q1462.7 1029.93 1459.92 1031.48 L1459.92 1026.75 Q1462.74 1025.62 1465.2 1025.04 Q1467.65 1024.46 1469.69 1024.46 Q1475.06 1024.46 1478.25 1027.15 Q1481.45 1029.83 1481.45 1034.32 Q1481.45 1036.45 1480.64 1038.37 Q1479.85 1040.27 1477.74 1042.87 Q1477.17 1043.54 1474.06 1046.75 Q1470.96 1049.95 1465.31 1055.71 Z\" fill=\"#000000\" fill-rule=\"nonzero\" fill-opacity=\"1\" /><path clip-path=\"url(#clip940)\" d=\"M1491.45 1053.77 L1496.33 1053.77 L1496.33 1059.65 L1491.45 1059.65 L1491.45 1053.77 Z\" fill=\"#000000\" fill-rule=\"nonzero\" fill-opacity=\"1\" /><path clip-path=\"url(#clip940)\" d=\"M1516.52 1028.17 Q1512.91 1028.17 1511.08 1031.73 Q1509.27 1035.27 1509.27 1042.4 Q1509.27 1049.51 1511.08 1053.07 Q1512.91 1056.62 1516.52 1056.62 Q1520.15 1056.62 1521.96 1053.07 Q1523.79 1049.51 1523.79 1042.4 Q1523.79 1035.27 1521.96 1031.73 Q1520.15 1028.17 1516.52 1028.17 M1516.52 1024.46 Q1522.33 1024.46 1525.38 1029.07 Q1528.46 1033.65 1528.46 1042.4 Q1528.46 1051.13 1525.38 1055.74 Q1522.33 1060.32 1516.52 1060.32 Q1510.71 1060.32 1507.63 1055.74 Q1504.57 1051.13 1504.57 1042.4 Q1504.57 1033.65 1507.63 1029.07 Q1510.71 1024.46 1516.52 1024.46 Z\" fill=\"#000000\" fill-rule=\"nonzero\" fill-opacity=\"1\" /><path clip-path=\"url(#clip940)\" d=\"M1564.85 1034.18 L1554.27 1044.81 L1564.85 1055.39 L1562.1 1058.19 L1551.47 1047.56 L1540.85 1058.19 L1538.11 1055.39 L1548.67 1044.81 L1538.11 1034.18 L1540.85 1031.38 L1551.47 1042.01 L1562.1 1031.38 L1564.85 1034.18 Z\" fill=\"#000000\" fill-rule=\"nonzero\" fill-opacity=\"1\" /><path clip-path=\"url(#clip940)\" d=\"M1577.21 1055.71 L1584.85 1055.71 L1584.85 1029.35 L1576.54 1031.01 L1576.54 1026.75 L1584.8 1025.09 L1589.48 1025.09 L1589.48 1055.71 L1597.12 1055.71 L1597.12 1059.65 L1577.21 1059.65 L1577.21 1055.71 Z\" fill=\"#000000\" fill-rule=\"nonzero\" fill-opacity=\"1\" /><path clip-path=\"url(#clip940)\" d=\"M1616.56 1028.17 Q1612.95 1028.17 1611.12 1031.73 Q1609.32 1035.27 1609.32 1042.4 Q1609.32 1049.51 1611.12 1053.07 Q1612.95 1056.62 1616.56 1056.62 Q1620.2 1056.62 1622 1053.07 Q1623.83 1049.51 1623.83 1042.4 Q1623.83 1035.27 1622 1031.73 Q1620.2 1028.17 1616.56 1028.17 M1616.56 1024.46 Q1622.37 1024.46 1625.43 1029.07 Q1628.51 1033.65 1628.51 1042.4 Q1628.51 1051.13 1625.43 1055.74 Q1622.37 1060.32 1616.56 1060.32 Q1610.75 1060.32 1607.67 1055.74 Q1604.62 1051.13 1604.62 1042.4 Q1604.62 1033.65 1607.67 1029.07 Q1610.75 1024.46 1616.56 1024.46 Z\" fill=\"#000000\" fill-rule=\"nonzero\" fill-opacity=\"1\" /><path clip-path=\"url(#clip940)\" d=\"M1641.18 1007.47 L1631.59 1022.46 L1641.18 1022.46 L1641.18 1007.47 M1640.19 1004.16 L1644.96 1004.16 L1644.96 1022.46 L1648.97 1022.46 L1648.97 1025.62 L1644.96 1025.62 L1644.96 1032.24 L1641.18 1032.24 L1641.18 1025.62 L1628.51 1025.62 L1628.51 1021.95 L1640.19 1004.16 Z\" fill=\"#000000\" fill-rule=\"nonzero\" fill-opacity=\"1\" /><path clip-path=\"url(#clip940)\" d=\"M1637.03 868.301 Q1633.42 868.301 1631.59 871.866 Q1629.78 875.407 1629.78 882.537 Q1629.78 889.643 1631.59 893.208 Q1633.42 896.75 1637.03 896.75 Q1640.66 896.75 1642.47 893.208 Q1644.29 889.643 1644.29 882.537 Q1644.29 875.407 1642.47 871.866 Q1640.66 868.301 1637.03 868.301 M1637.03 864.597 Q1642.84 864.597 1645.89 869.204 Q1648.97 873.787 1648.97 882.537 Q1648.97 891.264 1645.89 895.87 Q1642.84 900.454 1637.03 900.454 Q1631.22 900.454 1628.14 895.87 Q1625.08 891.264 1625.08 882.537 Q1625.08 873.787 1628.14 869.204 Q1631.22 864.597 1637.03 864.597 Z\" fill=\"#000000\" fill-rule=\"nonzero\" fill-opacity=\"1\" /><polyline clip-path=\"url(#clip946)\" style=\"stroke:#009af9; stroke-linecap:round; stroke-linejoin:round; stroke-width:4; stroke-opacity:1; fill:none\" points=\"1737.3,1481.79 1738.83,1470.95 1740.37,1460.28 1741.91,1449.77 1743.44,1439.43 1747,1416.15 1750.55,1393.7 1754.1,1372.06 1757.65,1351.22 1761.21,1331.14 1764.76,1311.81 1768.31,1293.19 1771.86,1275.27 1775.42,1258.02 1778.97,1241.42 1782.52,1225.46 1786.07,1210.11 1789.63,1195.36 1793.18,1181.18 1796.73,1167.55 1800.28,1154.46 1804.55,1139.41 1808.82,1125.08 1813.09,1111.44 1817.36,1098.46 1821.63,1086.12 1825.9,1074.38 1830.17,1063.24 1834.44,1052.65 1841.66,1035.95 1848.88,1020.68 1856.1,1006.73 1863.32,994.008 1871.16,981.467 1879.01,970.155 1886.85,959.97 1894.69,950.817 1901.92,943.216 1909.15,936.352 1916.38,930.164 1923.62,924.596 1931.37,919.255 1939.12,914.505 1946.87,910.292 1954.62,906.563 1963.6,902.787 1972.59,899.531 1981.57,896.734 1990.55,894.34 2006.51,890.929 2022.48,888.398 2036.47,886.745 2050.47,885.507 2081,883.829 2111.7,883.025 2145.65,882.66 2177.95,882.542 2211.54,882.509 2239.81,882.503 2274.32,882.502 2305.94,882.502 2335.15,882.502 2364.73,882.502 2397.88,882.502 2427.92,882.5 2462.32,882.483 2494.17,882.416 2525.57,882.214 2556.05,881.717 2571.68,881.255 2587.3,880.577 2604.42,879.493 2621.54,877.923 2633.98,876.383 2646.41,874.419 2658.84,871.938 2671.28,868.831 2673.83,868.105 2676.38,867.347 2678.93,866.554 2681.48,865.726 \"/>\n",
       "<path clip-path=\"url(#clip940)\" d=\"M2534.74 1478.5 L2676.45 1478.5 L2676.45 1374.82 L2534.74 1374.82  Z\" fill=\"#ffffff\" fill-rule=\"evenodd\" fill-opacity=\"1\"/>\n",
       "<polyline clip-path=\"url(#clip940)\" style=\"stroke:#000000; stroke-linecap:round; stroke-linejoin:round; stroke-width:4; stroke-opacity:1; fill:none\" points=\"2534.74,1478.5 2676.45,1478.5 2676.45,1374.82 2534.74,1374.82 2534.74,1478.5 \"/>\n",
       "<polyline clip-path=\"url(#clip940)\" style=\"stroke:#009af9; stroke-linecap:round; stroke-linejoin:round; stroke-width:4; stroke-opacity:1; fill:none\" points=\"2545.86,1426.66 2612.59,1426.66 \"/>\n",
       "<path clip-path=\"url(#clip940)\" d=\"M2640.21 1407.93 L2640.21 1411.47 L2636.14 1411.47 Q2633.84 1411.47 2632.94 1412.39 Q2632.06 1413.32 2632.06 1415.73 L2632.06 1418.02 L2639.08 1418.02 L2639.08 1421.33 L2632.06 1421.33 L2632.06 1443.94 L2627.78 1443.94 L2627.78 1421.33 L2623.71 1421.33 L2623.71 1418.02 L2627.78 1418.02 L2627.78 1416.21 Q2627.78 1411.88 2629.79 1409.92 Q2631.81 1407.93 2636.18 1407.93 L2640.21 1407.93 Z\" fill=\"#000000\" fill-rule=\"nonzero\" fill-opacity=\"1\" /><path clip-path=\"url(#clip940)\" d=\"M2644.42 1409.38 L2662.78 1409.38 L2662.78 1413.32 L2648.71 1413.32 L2648.71 1421.79 Q2649.72 1421.44 2650.74 1421.28 Q2651.76 1421.1 2652.78 1421.1 Q2658.57 1421.1 2661.95 1424.27 Q2665.33 1427.44 2665.33 1432.86 Q2665.33 1438.44 2661.85 1441.54 Q2658.38 1444.62 2652.06 1444.62 Q2649.89 1444.62 2647.62 1444.25 Q2645.37 1443.87 2642.97 1443.13 L2642.97 1438.44 Q2645.05 1439.57 2647.27 1440.12 Q2649.49 1440.68 2651.97 1440.68 Q2655.97 1440.68 2658.31 1438.57 Q2660.65 1436.47 2660.65 1432.86 Q2660.65 1429.25 2658.31 1427.14 Q2655.97 1425.03 2651.97 1425.03 Q2650.09 1425.03 2648.22 1425.45 Q2646.37 1425.87 2644.42 1426.75 L2644.42 1409.38 Z\" fill=\"#000000\" fill-rule=\"nonzero\" fill-opacity=\"1\" /><path clip-path=\"url(#clip940)\" d=\"M2951.92 1500.27 L3952.76 1500.27 L3952.76 847.244 L2951.92 847.244  Z\" fill=\"#ffffff\" fill-rule=\"evenodd\" fill-opacity=\"1\"/>\n",
       "<defs>\n",
       "  <clipPath id=\"clip947\">\n",
       "    <rect x=\"2951\" y=\"847\" width=\"1002\" height=\"654\"/>\n",
       "  </clipPath>\n",
       "</defs>\n",
       "<polyline clip-path=\"url(#clip947)\" style=\"stroke:#000000; stroke-linecap:round; stroke-linejoin:round; stroke-width:2; stroke-opacity:0.1; fill:none\" points=\"2980.24,1500.27 2980.24,847.244 \"/>\n",
       "<polyline clip-path=\"url(#clip947)\" style=\"stroke:#000000; stroke-linecap:round; stroke-linejoin:round; stroke-width:2; stroke-opacity:0.1; fill:none\" points=\"3216.29,1500.27 3216.29,847.244 \"/>\n",
       "<polyline clip-path=\"url(#clip947)\" style=\"stroke:#000000; stroke-linecap:round; stroke-linejoin:round; stroke-width:2; stroke-opacity:0.1; fill:none\" points=\"3452.34,1500.27 3452.34,847.244 \"/>\n",
       "<polyline clip-path=\"url(#clip947)\" style=\"stroke:#000000; stroke-linecap:round; stroke-linejoin:round; stroke-width:2; stroke-opacity:0.1; fill:none\" points=\"3688.38,1500.27 3688.38,847.244 \"/>\n",
       "<polyline clip-path=\"url(#clip947)\" style=\"stroke:#000000; stroke-linecap:round; stroke-linejoin:round; stroke-width:2; stroke-opacity:0.1; fill:none\" points=\"3924.43,1500.27 3924.43,847.244 \"/>\n",
       "<polyline clip-path=\"url(#clip940)\" style=\"stroke:#000000; stroke-linecap:round; stroke-linejoin:round; stroke-width:4; stroke-opacity:1; fill:none\" points=\"2951.92,1500.27 3952.76,1500.27 \"/>\n",
       "<polyline clip-path=\"url(#clip940)\" style=\"stroke:#000000; stroke-linecap:round; stroke-linejoin:round; stroke-width:4; stroke-opacity:1; fill:none\" points=\"2980.24,1500.27 2980.24,1481.37 \"/>\n",
       "<polyline clip-path=\"url(#clip940)\" style=\"stroke:#000000; stroke-linecap:round; stroke-linejoin:round; stroke-width:4; stroke-opacity:1; fill:none\" points=\"3216.29,1500.27 3216.29,1481.37 \"/>\n",
       "<polyline clip-path=\"url(#clip940)\" style=\"stroke:#000000; stroke-linecap:round; stroke-linejoin:round; stroke-width:4; stroke-opacity:1; fill:none\" points=\"3452.34,1500.27 3452.34,1481.37 \"/>\n",
       "<polyline clip-path=\"url(#clip940)\" style=\"stroke:#000000; stroke-linecap:round; stroke-linejoin:round; stroke-width:4; stroke-opacity:1; fill:none\" points=\"3688.38,1500.27 3688.38,1481.37 \"/>\n",
       "<polyline clip-path=\"url(#clip940)\" style=\"stroke:#000000; stroke-linecap:round; stroke-linejoin:round; stroke-width:4; stroke-opacity:1; fill:none\" points=\"3924.43,1500.27 3924.43,1481.37 \"/>\n",
       "<path clip-path=\"url(#clip940)\" d=\"M2949.14 1558.64 L2978.82 1558.64 L2978.82 1562.58 L2949.14 1562.58 L2949.14 1558.64 Z\" fill=\"#000000\" fill-rule=\"nonzero\" fill-opacity=\"1\" /><path clip-path=\"url(#clip940)\" d=\"M3001.76 1544.99 L2989.95 1563.43 L3001.76 1563.43 L3001.76 1544.99 M3000.53 1540.91 L3006.41 1540.91 L3006.41 1563.43 L3011.34 1563.43 L3011.34 1567.32 L3006.41 1567.32 L3006.41 1575.47 L3001.76 1575.47 L3001.76 1567.32 L2986.16 1567.32 L2986.16 1562.81 L3000.53 1540.91 Z\" fill=\"#000000\" fill-rule=\"nonzero\" fill-opacity=\"1\" /><path clip-path=\"url(#clip940)\" d=\"M3186.23 1558.64 L3215.91 1558.64 L3215.91 1562.58 L3186.23 1562.58 L3186.23 1558.64 Z\" fill=\"#000000\" fill-rule=\"nonzero\" fill-opacity=\"1\" /><path clip-path=\"url(#clip940)\" d=\"M3230.03 1571.54 L3246.35 1571.54 L3246.35 1575.47 L3224.4 1575.47 L3224.4 1571.54 Q3227.07 1568.78 3231.65 1564.15 Q3236.26 1559.5 3237.44 1558.16 Q3239.68 1555.63 3240.56 1553.9 Q3241.46 1552.14 3241.46 1550.45 Q3241.46 1547.69 3239.52 1545.96 Q3237.6 1544.22 3234.5 1544.22 Q3232.3 1544.22 3229.84 1544.99 Q3227.41 1545.75 3224.64 1547.3 L3224.64 1542.58 Q3227.46 1541.44 3229.91 1540.87 Q3232.37 1540.29 3234.4 1540.29 Q3239.77 1540.29 3242.97 1542.97 Q3246.16 1545.66 3246.16 1550.15 Q3246.16 1552.28 3245.35 1554.2 Q3244.57 1556.1 3242.46 1558.69 Q3241.88 1559.36 3238.78 1562.58 Q3235.68 1565.77 3230.03 1571.54 Z\" fill=\"#000000\" fill-rule=\"nonzero\" fill-opacity=\"1\" /><path clip-path=\"url(#clip940)\" d=\"M3452.34 1543.99 Q3448.73 1543.99 3446.9 1547.56 Q3445.09 1551.1 3445.09 1558.23 Q3445.09 1565.33 3446.9 1568.9 Q3448.73 1572.44 3452.34 1572.44 Q3455.97 1572.44 3457.78 1568.9 Q3459.61 1565.33 3459.61 1558.23 Q3459.61 1551.1 3457.78 1547.56 Q3455.97 1543.99 3452.34 1543.99 M3452.34 1540.29 Q3458.15 1540.29 3461.2 1544.89 Q3464.28 1549.48 3464.28 1558.23 Q3464.28 1566.95 3461.2 1571.56 Q3458.15 1576.14 3452.34 1576.14 Q3446.53 1576.14 3443.45 1571.56 Q3440.39 1566.95 3440.39 1558.23 Q3440.39 1549.48 3443.45 1544.89 Q3446.53 1540.29 3452.34 1540.29 Z\" fill=\"#000000\" fill-rule=\"nonzero\" fill-opacity=\"1\" /><path clip-path=\"url(#clip940)\" d=\"M3683.04 1571.54 L3699.36 1571.54 L3699.36 1575.47 L3677.41 1575.47 L3677.41 1571.54 Q3680.07 1568.78 3684.66 1564.15 Q3689.26 1559.5 3690.44 1558.16 Q3692.69 1555.63 3693.57 1553.9 Q3694.47 1552.14 3694.47 1550.45 Q3694.47 1547.69 3692.53 1545.96 Q3690.61 1544.22 3687.5 1544.22 Q3685.31 1544.22 3682.85 1544.99 Q3680.42 1545.75 3677.64 1547.3 L3677.64 1542.58 Q3680.47 1541.44 3682.92 1540.87 Q3685.37 1540.29 3687.41 1540.29 Q3692.78 1540.29 3695.98 1542.97 Q3699.17 1545.66 3699.17 1550.15 Q3699.17 1552.28 3698.36 1554.2 Q3697.57 1556.1 3695.47 1558.69 Q3694.89 1559.36 3691.79 1562.58 Q3688.68 1565.77 3683.04 1571.54 Z\" fill=\"#000000\" fill-rule=\"nonzero\" fill-opacity=\"1\" /><path clip-path=\"url(#clip940)\" d=\"M3927.44 1544.99 L3915.63 1563.43 L3927.44 1563.43 L3927.44 1544.99 M3926.21 1540.91 L3932.09 1540.91 L3932.09 1563.43 L3937.02 1563.43 L3937.02 1567.32 L3932.09 1567.32 L3932.09 1575.47 L3927.44 1575.47 L3927.44 1567.32 L3911.84 1567.32 L3911.84 1562.81 L3926.21 1540.91 Z\" fill=\"#000000\" fill-rule=\"nonzero\" fill-opacity=\"1\" /><polyline clip-path=\"url(#clip947)\" style=\"stroke:#000000; stroke-linecap:round; stroke-linejoin:round; stroke-width:2; stroke-opacity:0.1; fill:none\" points=\"2951.92,1421.28 3952.76,1421.28 \"/>\n",
       "<polyline clip-path=\"url(#clip947)\" style=\"stroke:#000000; stroke-linecap:round; stroke-linejoin:round; stroke-width:2; stroke-opacity:0.1; fill:none\" points=\"2951.92,1283.77 3952.76,1283.77 \"/>\n",
       "<polyline clip-path=\"url(#clip947)\" style=\"stroke:#000000; stroke-linecap:round; stroke-linejoin:round; stroke-width:2; stroke-opacity:0.1; fill:none\" points=\"2951.92,1146.26 3952.76,1146.26 \"/>\n",
       "<polyline clip-path=\"url(#clip947)\" style=\"stroke:#000000; stroke-linecap:round; stroke-linejoin:round; stroke-width:2; stroke-opacity:0.1; fill:none\" points=\"2951.92,1008.74 3952.76,1008.74 \"/>\n",
       "<polyline clip-path=\"url(#clip947)\" style=\"stroke:#000000; stroke-linecap:round; stroke-linejoin:round; stroke-width:2; stroke-opacity:0.1; fill:none\" points=\"2951.92,871.227 3952.76,871.227 \"/>\n",
       "<polyline clip-path=\"url(#clip940)\" style=\"stroke:#000000; stroke-linecap:round; stroke-linejoin:round; stroke-width:4; stroke-opacity:1; fill:none\" points=\"2951.92,1500.27 2951.92,847.244 \"/>\n",
       "<polyline clip-path=\"url(#clip940)\" style=\"stroke:#000000; stroke-linecap:round; stroke-linejoin:round; stroke-width:4; stroke-opacity:1; fill:none\" points=\"2951.92,1421.28 2970.82,1421.28 \"/>\n",
       "<polyline clip-path=\"url(#clip940)\" style=\"stroke:#000000; stroke-linecap:round; stroke-linejoin:round; stroke-width:4; stroke-opacity:1; fill:none\" points=\"2951.92,1283.77 2970.82,1283.77 \"/>\n",
       "<polyline clip-path=\"url(#clip940)\" style=\"stroke:#000000; stroke-linecap:round; stroke-linejoin:round; stroke-width:4; stroke-opacity:1; fill:none\" points=\"2951.92,1146.26 2970.82,1146.26 \"/>\n",
       "<polyline clip-path=\"url(#clip940)\" style=\"stroke:#000000; stroke-linecap:round; stroke-linejoin:round; stroke-width:4; stroke-opacity:1; fill:none\" points=\"2951.92,1008.74 2970.82,1008.74 \"/>\n",
       "<polyline clip-path=\"url(#clip940)\" style=\"stroke:#000000; stroke-linecap:round; stroke-linejoin:round; stroke-width:4; stroke-opacity:1; fill:none\" points=\"2951.92,871.227 2970.82,871.227 \"/>\n",
       "<path clip-path=\"url(#clip940)\" d=\"M2800.04 1421.74 L2829.72 1421.74 L2829.72 1425.67 L2800.04 1425.67 L2800.04 1421.74 Z\" fill=\"#000000\" fill-rule=\"nonzero\" fill-opacity=\"1\" /><path clip-path=\"url(#clip940)\" d=\"M2839.86 1404 L2858.22 1404 L2858.22 1407.94 L2844.14 1407.94 L2844.14 1416.41 Q2845.16 1416.06 2846.18 1415.9 Q2847.2 1415.72 2848.22 1415.72 Q2854 1415.72 2857.38 1418.89 Q2860.76 1422.06 2860.76 1427.48 Q2860.76 1433.05 2857.29 1436.16 Q2853.82 1439.23 2847.5 1439.23 Q2845.32 1439.23 2843.05 1438.86 Q2840.81 1438.49 2838.4 1437.75 L2838.4 1433.05 Q2840.48 1434.19 2842.71 1434.74 Q2844.93 1435.3 2847.4 1435.3 Q2851.41 1435.3 2853.75 1433.19 Q2856.09 1431.09 2856.09 1427.48 Q2856.09 1423.86 2853.75 1421.76 Q2851.41 1419.65 2847.4 1419.65 Q2845.53 1419.65 2843.65 1420.07 Q2841.8 1420.49 2839.86 1421.36 L2839.86 1404 Z\" fill=\"#000000\" fill-rule=\"nonzero\" fill-opacity=\"1\" /><path clip-path=\"url(#clip940)\" d=\"M2879.97 1407.08 Q2876.36 1407.08 2874.53 1410.65 Q2872.73 1414.19 2872.73 1421.32 Q2872.73 1428.42 2874.53 1431.99 Q2876.36 1435.53 2879.97 1435.53 Q2883.61 1435.53 2885.41 1431.99 Q2887.24 1428.42 2887.24 1421.32 Q2887.24 1414.19 2885.41 1410.65 Q2883.61 1407.08 2879.97 1407.08 M2879.97 1403.38 Q2885.78 1403.38 2888.84 1407.99 Q2891.92 1412.57 2891.92 1421.32 Q2891.92 1430.05 2888.84 1434.65 Q2885.78 1439.23 2879.97 1439.23 Q2874.16 1439.23 2871.09 1434.65 Q2868.03 1430.05 2868.03 1421.32 Q2868.03 1412.57 2871.09 1407.99 Q2874.16 1403.38 2879.97 1403.38 Z\" fill=\"#000000\" fill-rule=\"nonzero\" fill-opacity=\"1\" /><path clip-path=\"url(#clip940)\" d=\"M2801.04 1284.22 L2830.72 1284.22 L2830.72 1288.16 L2801.04 1288.16 L2801.04 1284.22 Z\" fill=\"#000000\" fill-rule=\"nonzero\" fill-opacity=\"1\" /><path clip-path=\"url(#clip940)\" d=\"M2844.84 1297.11 L2861.15 1297.11 L2861.15 1301.05 L2839.21 1301.05 L2839.21 1297.11 Q2841.87 1294.36 2846.46 1289.73 Q2851.06 1285.08 2852.24 1283.73 Q2854.49 1281.21 2855.37 1279.48 Q2856.27 1277.72 2856.27 1276.03 Q2856.27 1273.27 2854.33 1271.54 Q2852.4 1269.8 2849.3 1269.8 Q2847.1 1269.8 2844.65 1270.56 Q2842.22 1271.33 2839.44 1272.88 L2839.44 1268.16 Q2842.27 1267.02 2844.72 1266.44 Q2847.17 1265.86 2849.21 1265.86 Q2854.58 1265.86 2857.78 1268.55 Q2860.97 1271.23 2860.97 1275.73 Q2860.97 1277.86 2860.16 1279.78 Q2859.37 1281.67 2857.27 1284.27 Q2856.69 1284.94 2853.59 1288.16 Q2850.48 1291.35 2844.84 1297.11 Z\" fill=\"#000000\" fill-rule=\"nonzero\" fill-opacity=\"1\" /><path clip-path=\"url(#clip940)\" d=\"M2871.02 1266.49 L2889.37 1266.49 L2889.37 1270.42 L2875.3 1270.42 L2875.3 1278.9 Q2876.32 1278.55 2877.34 1278.39 Q2878.35 1278.2 2879.37 1278.2 Q2885.16 1278.2 2888.54 1281.37 Q2891.92 1284.54 2891.92 1289.96 Q2891.92 1295.54 2888.45 1298.64 Q2884.97 1301.72 2878.65 1301.72 Q2876.48 1301.72 2874.21 1301.35 Q2871.97 1300.98 2869.56 1300.24 L2869.56 1295.54 Q2871.64 1296.67 2873.86 1297.23 Q2876.09 1297.79 2878.56 1297.79 Q2882.57 1297.79 2884.9 1295.68 Q2887.24 1293.57 2887.24 1289.96 Q2887.24 1286.35 2884.9 1284.24 Q2882.57 1282.14 2878.56 1282.14 Q2876.69 1282.14 2874.81 1282.55 Q2872.96 1282.97 2871.02 1283.85 L2871.02 1266.49 Z\" fill=\"#000000\" fill-rule=\"nonzero\" fill-opacity=\"1\" /><path clip-path=\"url(#clip940)\" d=\"M2879.97 1132.05 Q2876.36 1132.05 2874.53 1135.62 Q2872.73 1139.16 2872.73 1146.29 Q2872.73 1153.4 2874.53 1156.96 Q2876.36 1160.5 2879.97 1160.5 Q2883.61 1160.5 2885.41 1156.96 Q2887.24 1153.4 2887.24 1146.29 Q2887.24 1139.16 2885.41 1135.62 Q2883.61 1132.05 2879.97 1132.05 M2879.97 1128.35 Q2885.78 1128.35 2888.84 1132.96 Q2891.92 1137.54 2891.92 1146.29 Q2891.92 1155.02 2888.84 1159.62 Q2885.78 1164.21 2879.97 1164.21 Q2874.16 1164.21 2871.09 1159.62 Q2868.03 1155.02 2868.03 1146.29 Q2868.03 1137.54 2871.09 1132.96 Q2874.16 1128.35 2879.97 1128.35 Z\" fill=\"#000000\" fill-rule=\"nonzero\" fill-opacity=\"1\" /><path clip-path=\"url(#clip940)\" d=\"M2844.84 1022.09 L2861.15 1022.09 L2861.15 1026.02 L2839.21 1026.02 L2839.21 1022.09 Q2841.87 1019.33 2846.46 1014.7 Q2851.06 1010.05 2852.24 1008.71 Q2854.49 1006.18 2855.37 1004.45 Q2856.27 1002.69 2856.27 1001 Q2856.27 998.243 2854.33 996.507 Q2852.4 994.771 2849.3 994.771 Q2847.1 994.771 2844.65 995.535 Q2842.22 996.299 2839.44 997.85 L2839.44 993.128 Q2842.27 991.993 2844.72 991.415 Q2847.17 990.836 2849.21 990.836 Q2854.58 990.836 2857.78 993.521 Q2860.97 996.206 2860.97 1000.7 Q2860.97 1002.83 2860.16 1004.75 Q2859.37 1006.65 2857.27 1009.24 Q2856.69 1009.91 2853.59 1013.13 Q2850.48 1016.32 2844.84 1022.09 Z\" fill=\"#000000\" fill-rule=\"nonzero\" fill-opacity=\"1\" /><path clip-path=\"url(#clip940)\" d=\"M2871.02 991.461 L2889.37 991.461 L2889.37 995.396 L2875.3 995.396 L2875.3 1003.87 Q2876.32 1003.52 2877.34 1003.36 Q2878.35 1003.17 2879.37 1003.17 Q2885.16 1003.17 2888.54 1006.35 Q2891.92 1009.52 2891.92 1014.93 Q2891.92 1020.51 2888.45 1023.61 Q2884.97 1026.69 2878.65 1026.69 Q2876.48 1026.69 2874.21 1026.32 Q2871.97 1025.95 2869.56 1025.21 L2869.56 1020.51 Q2871.64 1021.65 2873.86 1022.2 Q2876.09 1022.76 2878.56 1022.76 Q2882.57 1022.76 2884.9 1020.65 Q2887.24 1018.54 2887.24 1014.93 Q2887.24 1011.32 2884.9 1009.22 Q2882.57 1007.11 2878.56 1007.11 Q2876.69 1007.11 2874.81 1007.53 Q2872.96 1007.94 2871.02 1008.82 L2871.02 991.461 Z\" fill=\"#000000\" fill-rule=\"nonzero\" fill-opacity=\"1\" /><path clip-path=\"url(#clip940)\" d=\"M2839.86 853.947 L2858.22 853.947 L2858.22 857.882 L2844.14 857.882 L2844.14 866.354 Q2845.16 866.007 2846.18 865.845 Q2847.2 865.659 2848.22 865.659 Q2854 865.659 2857.38 868.831 Q2860.76 872.002 2860.76 877.419 Q2860.76 882.997 2857.29 886.099 Q2853.82 889.178 2847.5 889.178 Q2845.32 889.178 2843.05 888.808 Q2840.81 888.437 2838.4 887.696 L2838.4 882.997 Q2840.48 884.132 2842.71 884.687 Q2844.93 885.243 2847.4 885.243 Q2851.41 885.243 2853.75 883.136 Q2856.09 881.03 2856.09 877.419 Q2856.09 873.808 2853.75 871.701 Q2851.41 869.595 2847.4 869.595 Q2845.53 869.595 2843.65 870.011 Q2841.8 870.428 2839.86 871.308 L2839.86 853.947 Z\" fill=\"#000000\" fill-rule=\"nonzero\" fill-opacity=\"1\" /><path clip-path=\"url(#clip940)\" d=\"M2879.97 857.025 Q2876.36 857.025 2874.53 860.59 Q2872.73 864.132 2872.73 871.261 Q2872.73 878.368 2874.53 881.933 Q2876.36 885.474 2879.97 885.474 Q2883.61 885.474 2885.41 881.933 Q2887.24 878.368 2887.24 871.261 Q2887.24 864.132 2885.41 860.59 Q2883.61 857.025 2879.97 857.025 M2879.97 853.322 Q2885.78 853.322 2888.84 857.928 Q2891.92 862.511 2891.92 871.261 Q2891.92 879.988 2888.84 884.595 Q2885.78 889.178 2879.97 889.178 Q2874.16 889.178 2871.09 884.595 Q2868.03 879.988 2868.03 871.261 Q2868.03 862.511 2871.09 857.928 Q2874.16 853.322 2879.97 853.322 Z\" fill=\"#000000\" fill-rule=\"nonzero\" fill-opacity=\"1\" /><polyline clip-path=\"url(#clip947)\" style=\"stroke:#009af9; stroke-linecap:round; stroke-linejoin:round; stroke-width:4; stroke-opacity:1; fill:none\" points=\"2980.24,1481.79 2981.78,1478.51 2983.32,1475.25 2984.85,1472.01 2986.39,1468.79 3000.6,1440.08 3014.81,1413.21 3021.92,1400.44 3029.02,1388.1 3036.13,1376.2 3043.23,1364.72 3051.77,1351.47 3060.31,1338.8 3068.85,1326.71 3077.39,1315.18 3091.83,1296.92 3106.27,1280.17 3114.11,1271.69 3121.96,1263.62 3129.8,1255.96 3137.64,1248.7 3152.1,1236.32 3166.56,1225.21 3182.07,1214.62 3197.57,1205.34 3215.53,1196.11 3233.5,1188.43 3249.46,1182.79 3265.42,1178.18 3279.42,1174.94 3293.42,1172.37 3308.68,1170.29 3323.94,1168.87 3339.3,1168.05 3354.65,1167.77 3388.6,1168.68 3420.9,1170.93 3454.48,1173.96 3482.76,1176.5 3517.27,1178.89 3548.89,1179.75 3563.49,1179.52 3578.1,1178.83 3592.89,1177.57 3607.68,1175.7 3624.25,1172.78 3640.83,1168.92 3655.85,1164.53 3670.87,1159.21 3688.07,1151.9 3705.27,1143.2 3721.19,1133.8 3737.12,1123.03 3752.81,1111 3768.51,1097.48 3776.14,1090.35 3783.76,1082.85 3791.38,1074.97 3799,1066.68 3806.81,1057.77 3814.62,1048.43 3822.44,1038.64 3830.25,1028.4 3838.81,1016.65 3847.37,1004.33 3855.93,991.424 3864.49,977.928 3876.92,957.239 3889.36,935.233 3901.79,911.87 3914.23,887.112 3916.78,881.857 3919.33,876.541 3921.88,871.164 3924.43,865.726 \"/>\n",
       "<path clip-path=\"url(#clip940)\" d=\"M2985.28 972.692 L3128.14 972.692 L3128.14 869.012 L2985.28 869.012  Z\" fill=\"#ffffff\" fill-rule=\"evenodd\" fill-opacity=\"1\"/>\n",
       "<polyline clip-path=\"url(#clip940)\" style=\"stroke:#000000; stroke-linecap:round; stroke-linejoin:round; stroke-width:4; stroke-opacity:1; fill:none\" points=\"2985.28,972.692 3128.14,972.692 3128.14,869.012 2985.28,869.012 2985.28,972.692 \"/>\n",
       "<polyline clip-path=\"url(#clip940)\" style=\"stroke:#009af9; stroke-linecap:round; stroke-linejoin:round; stroke-width:4; stroke-opacity:1; fill:none\" points=\"2996.4,920.852 3063.12,920.852 \"/>\n",
       "<path clip-path=\"url(#clip940)\" d=\"M3090.75 902.113 L3090.75 905.655 L3086.67 905.655 Q3084.38 905.655 3083.48 906.581 Q3082.6 907.507 3082.6 909.914 L3082.6 912.206 L3089.61 912.206 L3089.61 915.516 L3082.6 915.516 L3082.6 938.132 L3078.32 938.132 L3078.32 915.516 L3074.24 915.516 L3074.24 912.206 L3078.32 912.206 L3078.32 910.4 Q3078.32 906.072 3080.33 904.104 Q3082.34 902.113 3086.72 902.113 L3090.75 902.113 Z\" fill=\"#000000\" fill-rule=\"nonzero\" fill-opacity=\"1\" /><path clip-path=\"url(#clip940)\" d=\"M3105.49 918.988 Q3102.34 918.988 3100.49 921.141 Q3098.66 923.294 3098.66 927.044 Q3098.66 930.771 3100.49 932.947 Q3102.34 935.099 3105.49 935.099 Q3108.64 935.099 3110.47 932.947 Q3112.32 930.771 3112.32 927.044 Q3112.32 923.294 3110.47 921.141 Q3108.64 918.988 3105.49 918.988 M3114.78 904.336 L3114.78 908.595 Q3113.02 907.761 3111.21 907.322 Q3109.43 906.882 3107.67 906.882 Q3103.04 906.882 3100.59 910.007 Q3098.16 913.132 3097.81 919.451 Q3099.17 917.437 3101.23 916.373 Q3103.29 915.285 3105.77 915.285 Q3110.98 915.285 3113.99 918.456 Q3117.02 921.604 3117.02 927.044 Q3117.02 932.368 3113.87 935.585 Q3110.72 938.803 3105.49 938.803 Q3099.5 938.803 3096.33 934.22 Q3093.16 929.613 3093.16 920.886 Q3093.16 912.692 3097.04 907.831 Q3100.93 902.947 3107.48 902.947 Q3109.24 902.947 3111.03 903.294 Q3112.83 903.641 3114.78 904.336 Z\" fill=\"#000000\" fill-rule=\"nonzero\" fill-opacity=\"1\" /></svg>\n"
      ]
     },
     "execution_count": 58,
     "metadata": {},
     "output_type": "execute_result"
    }
   ],
   "source": [
    "plot(layout = 6, size=(1000,400))\n",
    "for s in 1:6\n",
    "    plot!(funs[s], -4, 4, subplot=s, label=\"f$s\")\n",
    "end\n",
    "plot!()"
   ]
  },
  {
   "cell_type": "code",
   "execution_count": 53,
   "id": "8859615b",
   "metadata": {},
   "outputs": [
    {
     "data": {
      "text/html": [
       "<div><div style = \"float: left;\"><span>18×8 DataFrame</span></div><div style = \"clear: both;\"></div></div><div class = \"data-frame\" style = \"overflow-x: scroll;\"><table class = \"data-frame\" style = \"margin-bottom: 6px;\"><thead><tr class = \"header\"><th class = \"rowNumber\" style = \"font-weight: bold; text-align: right;\">Row</th><th style = \"text-align: left;\">method</th><th style = \"text-align: left;\">fun</th><th style = \"text-align: left;\">iterations</th><th style = \"text-align: left;\">calls</th><th style = \"text-align: left;\">iszero</th><th style = \"text-align: left;\">differentsigns</th><th style = \"text-align: left;\">value</th><th style = \"text-align: left;\">x</th></tr><tr class = \"subheader headerLastRow\"><th class = \"rowNumber\" style = \"font-weight: bold; text-align: right;\"></th><th title = \"String\" style = \"text-align: left;\">String</th><th title = \"String\" style = \"text-align: left;\">String</th><th title = \"Int64\" style = \"text-align: left;\">Int64</th><th title = \"Int64\" style = \"text-align: left;\">Int64</th><th title = \"Bool\" style = \"text-align: left;\">Bool</th><th title = \"Bool\" style = \"text-align: left;\">Bool</th><th title = \"Float64\" style = \"text-align: left;\">Float64</th><th title = \"Float64\" style = \"text-align: left;\">Float64</th></tr></thead><tbody><tr><td class = \"rowNumber\" style = \"font-weight: bold; text-align: right;\">1</td><td style = \"text-align: left;\">Bisection</td><td style = \"text-align: left;\">f1</td><td style = \"text-align: right;\">62</td><td style = \"text-align: right;\">65</td><td style = \"text-align: right;\">true</td><td style = \"text-align: right;\">true</td><td style = \"text-align: right;\">0.0</td><td style = \"text-align: right;\">0.351734</td></tr><tr><td class = \"rowNumber\" style = \"font-weight: bold; text-align: right;\">2</td><td style = \"text-align: left;\">Newton</td><td style = \"text-align: left;\">f1</td><td style = \"text-align: right;\">4</td><td style = \"text-align: right;\">8</td><td style = \"text-align: right;\">false</td><td style = \"text-align: right;\">true</td><td style = \"text-align: right;\">-1.11022e-16</td><td style = \"text-align: right;\">0.351734</td></tr><tr><td class = \"rowNumber\" style = \"font-weight: bold; text-align: right;\">3</td><td style = \"text-align: left;\">Secant</td><td style = \"text-align: left;\">f1</td><td style = \"text-align: right;\">5</td><td style = \"text-align: right;\">7</td><td style = \"text-align: right;\">false</td><td style = \"text-align: right;\">false</td><td style = \"text-align: right;\">-2.22045e-16</td><td style = \"text-align: right;\">0.351734</td></tr><tr><td class = \"rowNumber\" style = \"font-weight: bold; text-align: right;\">4</td><td style = \"text-align: left;\">Bisection</td><td style = \"text-align: left;\">f2</td><td style = \"text-align: right;\">61</td><td style = \"text-align: right;\">64</td><td style = \"text-align: right;\">true</td><td style = \"text-align: right;\">true</td><td style = \"text-align: right;\">0.0</td><td style = \"text-align: right;\">-3.0</td></tr><tr><td class = \"rowNumber\" style = \"font-weight: bold; text-align: right;\">5</td><td style = \"text-align: left;\">Newton</td><td style = \"text-align: left;\">f2</td><td style = \"text-align: right;\">26</td><td style = \"text-align: right;\">52</td><td style = \"text-align: right;\">false</td><td style = \"text-align: right;\">false</td><td style = \"text-align: right;\">4.56496e-16</td><td style = \"text-align: right;\">1.0</td></tr><tr><td class = \"rowNumber\" style = \"font-weight: bold; text-align: right;\">6</td><td style = \"text-align: left;\">Secant</td><td style = \"text-align: left;\">f2</td><td style = \"text-align: right;\">37</td><td style = \"text-align: right;\">39</td><td style = \"text-align: right;\">false</td><td style = \"text-align: right;\">false</td><td style = \"text-align: right;\">5.18739e-16</td><td style = \"text-align: right;\">1.0</td></tr><tr><td class = \"rowNumber\" style = \"font-weight: bold; text-align: right;\">7</td><td style = \"text-align: left;\">Bisection</td><td style = \"text-align: left;\">f3</td><td style = \"text-align: right;\">0</td><td style = \"text-align: right;\">3</td><td style = \"text-align: right;\">true</td><td style = \"text-align: right;\">true</td><td style = \"text-align: right;\">0.0</td><td style = \"text-align: right;\">0.0</td></tr><tr><td class = \"rowNumber\" style = \"font-weight: bold; text-align: right;\">8</td><td style = \"text-align: left;\">Newton</td><td style = \"text-align: left;\">f3</td><td style = \"text-align: right;\">1</td><td style = \"text-align: right;\">2</td><td style = \"text-align: right;\">true</td><td style = \"text-align: right;\">true</td><td style = \"text-align: right;\">0.0</td><td style = \"text-align: right;\">0.0</td></tr><tr><td class = \"rowNumber\" style = \"font-weight: bold; text-align: right;\">9</td><td style = \"text-align: left;\">Secant</td><td style = \"text-align: left;\">f3</td><td style = \"text-align: right;\">0</td><td style = \"text-align: right;\">2</td><td style = \"text-align: right;\">true</td><td style = \"text-align: right;\">true</td><td style = \"text-align: right;\">0.0</td><td style = \"text-align: right;\">0.0</td></tr><tr><td class = \"rowNumber\" style = \"font-weight: bold; text-align: right;\">10</td><td style = \"text-align: left;\">Bisection</td><td style = \"text-align: left;\">f4</td><td style = \"text-align: right;\">0</td><td style = \"text-align: right;\">3</td><td style = \"text-align: right;\">false</td><td style = \"text-align: right;\">true</td><td style = \"text-align: right;\">NaN</td><td style = \"text-align: right;\">0.0</td></tr><tr><td class = \"rowNumber\" style = \"font-weight: bold; text-align: right;\">11</td><td style = \"text-align: left;\">Newton</td><td style = \"text-align: left;\">f4</td><td style = \"text-align: right;\">1</td><td style = \"text-align: right;\">2</td><td style = \"text-align: right;\">false</td><td style = \"text-align: right;\">true</td><td style = \"text-align: right;\">NaN</td><td style = \"text-align: right;\">NaN</td></tr><tr><td class = \"rowNumber\" style = \"font-weight: bold; text-align: right;\">12</td><td style = \"text-align: left;\">Secant</td><td style = \"text-align: left;\">f4</td><td style = \"text-align: right;\">0</td><td style = \"text-align: right;\">2</td><td style = \"text-align: right;\">false</td><td style = \"text-align: right;\">true</td><td style = \"text-align: right;\">NaN</td><td style = \"text-align: right;\">0.0</td></tr><tr><td class = \"rowNumber\" style = \"font-weight: bold; text-align: right;\">13</td><td style = \"text-align: left;\">Bisection</td><td style = \"text-align: left;\">f5</td><td style = \"text-align: right;\">59</td><td style = \"text-align: right;\">62</td><td style = \"text-align: right;\">true</td><td style = \"text-align: right;\">true</td><td style = \"text-align: right;\">0.0</td><td style = \"text-align: right;\">1.0</td></tr><tr><td class = \"rowNumber\" style = \"font-weight: bold; text-align: right;\">14</td><td style = \"text-align: left;\">Newton</td><td style = \"text-align: left;\">f5</td><td style = \"text-align: right;\">33</td><td style = \"text-align: right;\">66</td><td style = \"text-align: right;\">false</td><td style = \"text-align: right;\">false</td><td style = \"text-align: right;\">-3.42998e-16</td><td style = \"text-align: right;\">0.993823</td></tr><tr><td class = \"rowNumber\" style = \"font-weight: bold; text-align: right;\">15</td><td style = \"text-align: left;\">Secant</td><td style = \"text-align: left;\">f5</td><td style = \"text-align: right;\">40</td><td style = \"text-align: right;\">42</td><td style = \"text-align: right;\">false</td><td style = \"text-align: right;\">false</td><td style = \"text-align: right;\">-7.92946e-14</td><td style = \"text-align: right;\">0.986558</td></tr><tr><td class = \"rowNumber\" style = \"font-weight: bold; text-align: right;\">16</td><td style = \"text-align: left;\">Bisection</td><td style = \"text-align: left;\">f6</td><td style = \"text-align: right;\">62</td><td style = \"text-align: right;\">65</td><td style = \"text-align: right;\">false</td><td style = \"text-align: right;\">true</td><td style = \"text-align: right;\">-8.88178e-16</td><td style = \"text-align: right;\">2.09455</td></tr><tr><td class = \"rowNumber\" style = \"font-weight: bold; text-align: right;\">17</td><td style = \"text-align: left;\">Newton</td><td style = \"text-align: left;\">f6</td><td style = \"text-align: right;\">19</td><td style = \"text-align: right;\">38</td><td style = \"text-align: right;\">false</td><td style = \"text-align: right;\">true</td><td style = \"text-align: right;\">-8.88178e-16</td><td style = \"text-align: right;\">2.09455</td></tr><tr><td class = \"rowNumber\" style = \"font-weight: bold; text-align: right;\">18</td><td style = \"text-align: left;\">Secant</td><td style = \"text-align: left;\">f6</td><td style = \"text-align: right;\">12</td><td style = \"text-align: right;\">14</td><td style = \"text-align: right;\">false</td><td style = \"text-align: right;\">true</td><td style = \"text-align: right;\">-8.88178e-16</td><td style = \"text-align: right;\">2.09455</td></tr></tbody></table></div>"
      ],
      "text/latex": [
       "\\begin{tabular}{r|cccccccc}\n",
       "\t& method & fun & iterations & calls & iszero & differentsigns & value & x\\\\\n",
       "\t\\hline\n",
       "\t& String & String & Int64 & Int64 & Bool & Bool & Float64 & Float64\\\\\n",
       "\t\\hline\n",
       "\t1 & Bisection & f1 & 62 & 65 & 1 & 1 & 0.0 & 0.351734 \\\\\n",
       "\t2 & Newton & f1 & 4 & 8 & 0 & 1 & -1.11022e-16 & 0.351734 \\\\\n",
       "\t3 & Secant & f1 & 5 & 7 & 0 & 0 & -2.22045e-16 & 0.351734 \\\\\n",
       "\t4 & Bisection & f2 & 61 & 64 & 1 & 1 & 0.0 & -3.0 \\\\\n",
       "\t5 & Newton & f2 & 26 & 52 & 0 & 0 & 4.56496e-16 & 1.0 \\\\\n",
       "\t6 & Secant & f2 & 37 & 39 & 0 & 0 & 5.18739e-16 & 1.0 \\\\\n",
       "\t7 & Bisection & f3 & 0 & 3 & 1 & 1 & 0.0 & 0.0 \\\\\n",
       "\t8 & Newton & f3 & 1 & 2 & 1 & 1 & 0.0 & 0.0 \\\\\n",
       "\t9 & Secant & f3 & 0 & 2 & 1 & 1 & 0.0 & 0.0 \\\\\n",
       "\t10 & Bisection & f4 & 0 & 3 & 0 & 1 & NaN & 0.0 \\\\\n",
       "\t11 & Newton & f4 & 1 & 2 & 0 & 1 & NaN & NaN \\\\\n",
       "\t12 & Secant & f4 & 0 & 2 & 0 & 1 & NaN & 0.0 \\\\\n",
       "\t13 & Bisection & f5 & 59 & 62 & 1 & 1 & 0.0 & 1.0 \\\\\n",
       "\t14 & Newton & f5 & 33 & 66 & 0 & 0 & -3.42998e-16 & 0.993823 \\\\\n",
       "\t15 & Secant & f5 & 40 & 42 & 0 & 0 & -7.92946e-14 & 0.986558 \\\\\n",
       "\t16 & Bisection & f6 & 62 & 65 & 0 & 1 & -8.88178e-16 & 2.09455 \\\\\n",
       "\t17 & Newton & f6 & 19 & 38 & 0 & 1 & -8.88178e-16 & 2.09455 \\\\\n",
       "\t18 & Secant & f6 & 12 & 14 & 0 & 1 & -8.88178e-16 & 2.09455 \\\\\n",
       "\\end{tabular}\n"
      ],
      "text/plain": [
       "\u001b[1m18×8 DataFrame\u001b[0m\n",
       "\u001b[1m Row \u001b[0m│\u001b[1m method    \u001b[0m\u001b[1m fun    \u001b[0m\u001b[1m iterations \u001b[0m\u001b[1m calls \u001b[0m\u001b[1m iszero \u001b[0m\u001b[1m differentsigns \u001b[0m\u001b[1m value    \u001b[0m ⋯\n",
       "     │\u001b[90m String    \u001b[0m\u001b[90m String \u001b[0m\u001b[90m Int64      \u001b[0m\u001b[90m Int64 \u001b[0m\u001b[90m Bool   \u001b[0m\u001b[90m Bool           \u001b[0m\u001b[90m Float64  \u001b[0m ⋯\n",
       "─────┼──────────────────────────────────────────────────────────────────────────\n",
       "   1 │ Bisection  f1              62     65    true            true    0.0     ⋯\n",
       "   2 │ Newton     f1               4      8   false            true   -1.11022\n",
       "   3 │ Secant     f1               5      7   false           false   -2.22045\n",
       "   4 │ Bisection  f2              61     64    true            true    0.0\n",
       "   5 │ Newton     f2              26     52   false           false    4.56496 ⋯\n",
       "   6 │ Secant     f2              37     39   false           false    5.18739\n",
       "   7 │ Bisection  f3               0      3    true            true    0.0\n",
       "   8 │ Newton     f3               1      2    true            true    0.0\n",
       "   9 │ Secant     f3               0      2    true            true    0.0     ⋯\n",
       "  10 │ Bisection  f4               0      3   false            true  NaN\n",
       "  11 │ Newton     f4               1      2   false            true  NaN\n",
       "  12 │ Secant     f4               0      2   false            true  NaN\n",
       "  13 │ Bisection  f5              59     62    true            true    0.0     ⋯\n",
       "  14 │ Newton     f5              33     66   false           false   -3.42998\n",
       "  15 │ Secant     f5              40     42   false           false   -7.92946\n",
       "  16 │ Bisection  f6              62     65   false            true   -8.88178\n",
       "  17 │ Newton     f6              19     38   false            true   -8.88178 ⋯\n",
       "  18 │ Secant     f6              12     14   false            true   -8.88178\n",
       "\u001b[36m                                                               2 columns omitted\u001b[0m"
      ]
     },
     "execution_count": 53,
     "metadata": {},
     "output_type": "execute_result"
    }
   ],
   "source": [
    "tracker = Roots.Tracks()\n",
    "df = DataFrame(method=String[], fun=String[], iterations=Int64[], calls=Int64[], iszero=Bool[], differentsigns=Bool[], value=Float64[], x=Float64[])\n",
    "for f in funs\n",
    "    x = find_zero(f, (-4, 4), Bisection(), tracks=tracker)\n",
    "    push!(df, [\"Bisection\", \"$f\", tracker.steps, tracker.fncalls, iszero(f(x)), ds(f, x), f(x), x])\n",
    "    empty!(tracker)\n",
    "    \n",
    "    try\n",
    "        x = find_zero((f, D(f)), 0, Roots.Newton(), tracks=tracker)\n",
    "    catch\n",
    "        x = NaN\n",
    "    end\n",
    "    push!(df, [\"Newton\", \"$f\", tracker.steps, tracker.fncalls, iszero(f(x)), ds(f, x), f(x), x])\n",
    "    empty!(tracker)\n",
    "    \n",
    "    x = find_zero(f, 0, Order1(), tracks=tracker)\n",
    "    push!(df, [\"Secant\", \"$f\", tracker.steps, tracker.fncalls, iszero(f(x)), ds(f, x), f(x), x])\n",
    "    empty!(tracker)\n",
    "end\n",
    "df"
   ]
  },
  {
   "cell_type": "markdown",
   "id": "bfd2ee04",
   "metadata": {},
   "source": [
    "### Task 2."
   ]
  },
  {
   "cell_type": "code",
   "execution_count": 68,
   "id": "cacea496",
   "metadata": {},
   "outputs": [
    {
     "name": "stdout",
     "output_type": "stream",
     "text": [
      "Bisection:\n"
     ]
    },
    {
     "data": {
      "text/plain": [
       "Results of univariate zero finding:\n",
       "\n",
       "* Converged to: 0.35173371124919584\n",
       "* Algorithm: Bisection()\n",
       "* iterations: 62\n",
       "* function evaluations ≈ 65\n",
       "* stopped as x_n ≈ x_{n-1} using atol=xatol, rtol=xrtol\n",
       "\n",
       "Trace:\n",
       "(a₀, b₀) = ( 0, 4 )\n",
       "(a₁, b₁) = ( 2.237502219360062e-154, 4 )\n",
       "(a₂, b₂) = ( 3.0226589942830556e-77, 4 )\n",
       "(a₃, b₃) = ( 1.1020259538958945e-38, 4 )\n",
       "(a₄, b₄) = ( 2.1006417091906648e-19, 4 )\n",
       "(a₅, b₅) = ( 9.1677065938711166e-10, 4 )\n",
       "(a₆, b₆) = ( 6.0558319091796875e-05, 4 )\n",
       "(a₇, b₇) = ( 0.01556396484375, 4 )\n",
       "(a₈, b₈) = ( 0.24951171875, 4 )\n",
       "(a₉, b₉) = ( 0.24951171875, 0.9990234375 )\n",
       "(a₁₀, b₁₀) = ( 0.24951171875, 0.499267578125 )\n",
       "(a₁₁, b₁₁) = ( 0.24951171875, 0.3741455078125 )\n",
       "(a₁₂, b₁₂) = ( 0.31158447265625, 0.3741455078125 )\n",
       "(a₁₃, b₁₃) = ( 0.342864990234375, 0.3741455078125 )\n",
       "(a₁₄, b₁₄) = ( 0.342864990234375, 0.3585052490234375 )\n",
       "(a₁₅, b₁₅) = ( 0.35068511962890625, 0.3585052490234375 )\n",
       "(a₁₆, b₁₆) = ( 0.35068511962890625, 0.35459518432617188 )\n",
       "(a₁₇, b₁₇) = ( 0.35068511962890625, 0.35264015197753906 )\n",
       "(a₁₈, b₁₈) = ( 0.35166263580322266, 0.35264015197753906 )\n",
       "(a₁₉, b₁₉) = ( 0.35166263580322266, 0.35215139389038086 )\n",
       "(a₂₀, b₂₀) = ( 0.35166263580322266, 0.35190701484680176 )\n",
       "(a₂₁, b₂₁) = ( 0.35166263580322266, 0.35178482532501221 )\n",
       "(a₂₂, b₂₂) = ( 0.35172373056411743, 0.35178482532501221 )\n",
       "(a₂₃, b₂₃) = ( 0.35172373056411743, 0.35175427794456482 )\n",
       "(a₂₄, b₂₄) = ( 0.35172373056411743, 0.35173900425434113 )\n",
       "(a₂₅, b₂₅) = ( 0.35173136740922928, 0.35173900425434113 )\n",
       "(a₂₆, b₂₆) = ( 0.35173136740922928, 0.3517351858317852 )\n",
       "(a₂₇, b₂₇) = ( 0.35173327662050724, 0.3517351858317852 )\n",
       "(a₂₈, b₂₈) = ( 0.35173327662050724, 0.35173423122614622 )\n",
       "(a₂₉, b₂₉) = ( 0.35173327662050724, 0.35173375392332673 )\n",
       "(a₃₀, b₃₀) = ( 0.35173351527191699, 0.35173375392332673 )\n",
       "(a₃₁, b₃₁) = ( 0.35173363459762186, 0.35173375392332673 )\n",
       "(a₃₂, b₃₂) = ( 0.35173369426047429, 0.35173375392332673 )\n",
       "(a₃₃, b₃₃) = ( 0.35173369426047429, 0.35173372409190051 )\n",
       "(a₃₄, b₃₄) = ( 0.3517337091761874, 0.35173372409190051 )\n",
       "(a₃₅, b₃₅) = ( 0.3517337091761874, 0.35173371663404396 )\n",
       "(a₃₆, b₃₆) = ( 0.3517337091761874, 0.35173371290511568 )\n",
       "(a₃₇, b₃₇) = ( 0.35173371104065154, 0.35173371290511568 )\n",
       "(a₃₈, b₃₈) = ( 0.35173371104065154, 0.35173371197288361 )\n",
       "(a₃₉, b₃₉) = ( 0.35173371104065154, 0.35173371150676758 )\n",
       "(a₄₀, b₄₀) = ( 0.35173371104065154, 0.35173371127370956 )\n",
       "(a₄₁, b₄₁) = ( 0.35173371115718055, 0.35173371127370956 )\n",
       "(a₄₂, b₄₂) = ( 0.35173371121544506, 0.35173371127370956 )\n",
       "(a₄₃, b₄₃) = ( 0.35173371124457731, 0.35173371127370956 )\n",
       "(a₄₄, b₄₄) = ( 0.35173371124457731, 0.35173371125914343 )\n",
       "(a₄₅, b₄₅) = ( 0.35173371124457731, 0.35173371125186037 )\n",
       "(a₄₆, b₄₆) = ( 0.35173371124821884, 0.35173371125186037 )\n",
       "(a₄₇, b₄₇) = ( 0.35173371124821884, 0.3517337112500396 )\n",
       "(a₄₈, b₄₈) = ( 0.35173371124912922, 0.3517337112500396 )\n",
       "(a₄₉, b₄₉) = ( 0.35173371124912922, 0.35173371124958441 )\n",
       "(a₅₀, b₅₀) = ( 0.35173371124912922, 0.35173371124935682 )\n",
       "(a₅₁, b₅₁) = ( 0.35173371124912922, 0.35173371124924302 )\n",
       "(a₅₂, b₅₂) = ( 0.35173371124918612, 0.35173371124924302 )\n",
       "(a₅₃, b₅₃) = ( 0.35173371124918612, 0.35173371124921454 )\n",
       "(a₅₄, b₅₄) = ( 0.35173371124918612, 0.35173371124920033 )\n",
       "(a₅₅, b₅₅) = ( 0.35173371124919323, 0.35173371124920033 )\n",
       "(a₅₆, b₅₆) = ( 0.35173371124919323, 0.35173371124919678 )\n",
       "(a₅₇, b₅₇) = ( 0.351733711249195, 0.35173371124919678 )\n",
       "(a₅₈, b₅₈) = ( 0.351733711249195, 0.35173371124919589 )\n",
       "(a₅₉, b₅₉) = ( 0.35173371124919545, 0.35173371124919589 )\n",
       "(a₆₀, b₆₀) = ( 0.35173371124919567, 0.35173371124919589 )\n",
       "(a₆₁, b₆₁) = ( 0.35173371124919578, 0.35173371124919589 )\n",
       "(a₆₂, b₆₂) = ( 0.35173371124919584, 0.35173371124919589 )\n",
       "\n"
      ]
     },
     "metadata": {},
     "output_type": "display_data"
    },
    {
     "name": "stdout",
     "output_type": "stream",
     "text": [
      "Newton:\n"
     ]
    },
    {
     "data": {
      "text/plain": [
       "Results of univariate zero finding:\n",
       "\n",
       "* Converged to: 0.3517337112491958\n",
       "* Algorithm: Roots.Newton()\n",
       "* iterations: 4\n",
       "* function evaluations ≈ 8\n",
       "* stopped as |f(x_n)| ≤ max(δ, |x|⋅ϵ) using δ = atol, ϵ = rtol\n",
       "\n",
       "Trace:\n",
       "x₁ = 0,\t fx₁ = -1\n",
       "x₂ = 0.33333333333333331,\t fx₂ = -0.049864643907122641\n",
       "x₃ = 0.35168933155541537,\t fx₃ = -0.00011997974912580922\n",
       "x₄ = 0.35173371099294265,\t fx₄ = -6.9277206193874008e-10\n",
       "x₅ = 0.35173371124919578,\t fx₅ = -1.1102230246251565e-16\n",
       "\n"
      ]
     },
     "metadata": {},
     "output_type": "display_data"
    },
    {
     "name": "stdout",
     "output_type": "stream",
     "text": [
      "Secant:\n"
     ]
    },
    {
     "data": {
      "text/plain": [
       "Results of univariate zero finding:\n",
       "\n",
       "* Converged to: 0.3517337112491957\n",
       "* Algorithm: Secant()\n",
       "* iterations: 5\n",
       "* function evaluations ≈ 7\n",
       "* stopped as |f(x_n)| ≤ max(δ, |x|⋅ϵ) using δ = atol, ϵ = rtol\n",
       "\n",
       "Trace:\n",
       "x₁ = 6.0554544523933395e-06,\t fx₁ = -0.99998183365497706\n",
       "x₂ = 0,\t fx₂ = -1\n",
       "x₃ = 0.33333366974734885,\t fx₃ = -0.049863730027956632\n",
       "x₄ = 0.35082722371724301,\t fx₄ = -0.0024509486253887491\n",
       "x₅ = 0.35173153265646406,\t fx₅ = -5.8897561466819681e-06\n",
       "x₆ = 0.35173371099220896,\t fx₆ = -6.9475558639453538e-10\n",
       "x₇ = 0.35173371124919572,\t fx₇ = -2.2204460492503131e-16\n",
       "\n"
      ]
     },
     "metadata": {},
     "output_type": "display_data"
    },
    {
     "data": {
      "text/plain": [
       "0.3517337112491957"
      ]
     },
     "execution_count": 68,
     "metadata": {},
     "output_type": "execute_result"
    }
   ],
   "source": [
    "f = f1\n",
    "println(\"Bisection:\")\n",
    "x1 = find_zero(f, (-4, 4), Bisection(), verbose=true)\n",
    "\n",
    "println(\"Newton:\")\n",
    "x2 = find_zero((f, D(f)), 0, Roots.Newton(), verbose=true)\n",
    "\n",
    "println(\"Secant:\")\n",
    "x3 = find_zero(f, 0, Order1(), verbose=true)"
   ]
  },
  {
   "cell_type": "code",
   "execution_count": 69,
   "id": "37168abb",
   "metadata": {},
   "outputs": [
    {
     "name": "stdout",
     "output_type": "stream",
     "text": [
      "true false false\n"
     ]
    },
    {
     "data": {
      "text/plain": [
       "(0.35173371124919584, 0.3517337112491958, 0.3517337112491957)"
      ]
     },
     "execution_count": 69,
     "metadata": {},
     "output_type": "execute_result"
    }
   ],
   "source": [
    "println(iszero(f(x1)), \" \", iszero(f(x2)), \" \", iszero(f(x3)))\n",
    "(x1, x2, x3)"
   ]
  },
  {
   "cell_type": "markdown",
   "id": "383a7f26",
   "metadata": {},
   "source": [
    "### Task 3."
   ]
  },
  {
   "cell_type": "code",
   "execution_count": 79,
   "id": "268daf66",
   "metadata": {},
   "outputs": [
    {
     "name": "stdout",
     "output_type": "stream",
     "text": [
      "Bisection:\n",
      "The interval [a,b] is not a bracketing interval.\n",
      "You need f(a) and f(b) to have different signs (f(a) * f(b) < 0).\n",
      "Consider a different bracket or try fzero(f, c) with an initial guess c.\n",
      "\n",
      "\n",
      "Newton:\n"
     ]
    },
    {
     "data": {
      "text/plain": [
       "Results of univariate zero finding:\n",
       "\n",
       "* Convergence failed: \n",
       "* Algorithm Roots.Newton()\n",
       "\n",
       "Trace:\n",
       "x₁ = 0,\t fx₁ = NaN\n",
       "x₂ = NaN,\t fx₂ = NaN\n",
       "\n"
      ]
     },
     "metadata": {},
     "output_type": "display_data"
    },
    {
     "name": "stdout",
     "output_type": "stream",
     "text": [
      "Roots.ConvergenceFailed(\"Algorithm failed to converge\")\n",
      "\n",
      "Secant:\n"
     ]
    },
    {
     "data": {
      "text/plain": [
       "Results of univariate zero finding:\n",
       "\n",
       "* Converged to: 0.3517337112491957\n",
       "* Algorithm: Secant()\n",
       "* iterations: 5\n",
       "* function evaluations ≈ 7\n",
       "* stopped as |f(x_n)| ≤ max(δ, |x|⋅ϵ) using δ = atol, ϵ = rtol\n",
       "\n",
       "Trace:\n",
       "x₁ = 6.0554544523933395e-06,\t fx₁ = -0.99998183365497706\n",
       "x₂ = 0,\t fx₂ = -1\n",
       "x₃ = 0.33333366974734885,\t fx₃ = -0.049863730027956632\n",
       "x₄ = 0.35082722371724301,\t fx₄ = -0.0024509486253887491\n",
       "x₅ = 0.35173153265646406,\t fx₅ = -5.8897561466819681e-06\n",
       "x₆ = 0.35173371099220896,\t fx₆ = -6.9475558639453538e-10\n",
       "x₇ = 0.35173371124919572,\t fx₇ = -2.2204460492503131e-16\n",
       "\n"
      ]
     },
     "metadata": {},
     "output_type": "display_data"
    },
    {
     "data": {
      "text/plain": [
       "0.3517337112491957"
      ]
     },
     "execution_count": 79,
     "metadata": {},
     "output_type": "execute_result"
    }
   ],
   "source": [
    "println(\"Bisection:\")\n",
    "try\n",
    "    find_zero(f2, (-2, 2), Bisection(), verbose=true)\n",
    "catch e\n",
    "    println(e.msg)\n",
    "end\n",
    "\n",
    "println(\"Newton:\")\n",
    "try\n",
    "    find_zero((f4, D(f4)), 0, Roots.Newton(), verbose=true)\n",
    "catch e\n",
    "    try\n",
    "        println(e.msg)\n",
    "    catch\n",
    "        println(e)\n",
    "    end\n",
    "end\n",
    "\n",
    "println(\"\\nSecant:\")\n",
    "try\n",
    "    find_zero(f1, 0, Order1(), verbose=true)\n",
    "catch e\n",
    "    println(e.msg)\n",
    "end"
   ]
  }
 ],
 "metadata": {
  "kernelspec": {
   "display_name": "Julia 1.8.5",
   "language": "julia",
   "name": "julia-1.8"
  },
  "language_info": {
   "file_extension": ".jl",
   "mimetype": "application/julia",
   "name": "julia",
   "version": "1.8.5"
  }
 },
 "nbformat": 4,
 "nbformat_minor": 5
}
