{
 "cells": [
  {
   "cell_type": "code",
   "execution_count": 1,
   "id": "91f166c6",
   "metadata": {},
   "outputs": [],
   "source": [
    "using LinearAlgebra\n",
    "using DataFrames"
   ]
  },
  {
   "cell_type": "code",
   "execution_count": 2,
   "id": "16483f13",
   "metadata": {},
   "outputs": [
    {
     "data": {
      "text/html": [
       "<div><div style = \"float: left;\"><span>0×3 DataFrame</span></div><div style = \"clear: both;\"></div></div><div class = \"data-frame\" style = \"overflow-x: scroll;\"><table class = \"data-frame\" style = \"margin-bottom: 6px;\"><thead><tr class = \"header\"><th class = \"rowNumber\" style = \"font-weight: bold; text-align: right;\">Row</th><th style = \"text-align: left;\">size</th><th style = \"text-align: left;\">operation</th><th style = \"text-align: left;\">time</th></tr><tr class = \"subheader headerLastRow\"><th class = \"rowNumber\" style = \"font-weight: bold; text-align: right;\"></th><th title = \"Int64\" style = \"text-align: left;\">Int64</th><th title = \"String\" style = \"text-align: left;\">String</th><th title = \"Float64\" style = \"text-align: left;\">Float64</th></tr></thead><tbody></tbody></table></div>"
      ],
      "text/latex": [
       "\\begin{tabular}{r|ccc}\n",
       "\t& size & operation & time\\\\\n",
       "\t\\hline\n",
       "\t& Int64 & String & Float64\\\\\n",
       "\t\\hline\n",
       "\\end{tabular}\n"
      ],
      "text/plain": [
       "\u001b[1m0×3 DataFrame\u001b[0m\n",
       "\u001b[1m Row \u001b[0m│\u001b[1m size  \u001b[0m\u001b[1m operation \u001b[0m\u001b[1m time    \u001b[0m\n",
       "     │\u001b[90m Int64 \u001b[0m\u001b[90m String    \u001b[0m\u001b[90m Float64 \u001b[0m\n",
       "─────┴───────────────────────────"
      ]
     },
     "execution_count": 2,
     "metadata": {},
     "output_type": "execute_result"
    }
   ],
   "source": [
    "df = DataFrame(size=Int64[], operation=String[], time=Float64[])"
   ]
  },
  {
   "cell_type": "code",
   "execution_count": 8,
   "id": "1118996f",
   "metadata": {},
   "outputs": [],
   "source": [
    "for elements in 1000:1000:20000\n",
    "    vec = rand(elements * 100)\n",
    "    mat_vec = rand(elements)\n",
    "    mat = rand(elements, elements)\n",
    "    dot(vec, vec)\n",
    "    for _ in 1:10\n",
    "        push!(df, [elements * 100, \"dot product\", @elapsed dot(vec, vec)])\n",
    "    end\n",
    "    mat * mat_vec\n",
    "    for _ in 1:10\n",
    "        push!(df, [elements, \"matrix multiplication\", @elapsed mat * mat_vec])\n",
    "    end\n",
    "end"
   ]
  },
  {
   "cell_type": "code",
   "execution_count": 9,
   "id": "b789e3d0",
   "metadata": {
    "scrolled": false
   },
   "outputs": [
    {
     "data": {
      "text/html": [
       "<div><div style = \"float: left;\"><span>520×3 DataFrame</span></div><div style = \"float: right;\"><span style = \"font-style: italic;\">495 rows omitted</span></div><div style = \"clear: both;\"></div></div><div class = \"data-frame\" style = \"overflow-x: scroll;\"><table class = \"data-frame\" style = \"margin-bottom: 6px;\"><thead><tr class = \"header\"><th class = \"rowNumber\" style = \"font-weight: bold; text-align: right;\">Row</th><th style = \"text-align: left;\">size</th><th style = \"text-align: left;\">operation</th><th style = \"text-align: left;\">time</th></tr><tr class = \"subheader headerLastRow\"><th class = \"rowNumber\" style = \"font-weight: bold; text-align: right;\"></th><th title = \"Int64\" style = \"text-align: left;\">Int64</th><th title = \"String\" style = \"text-align: left;\">String</th><th title = \"Float64\" style = \"text-align: left;\">Float64</th></tr></thead><tbody><tr><td class = \"rowNumber\" style = \"font-weight: bold; text-align: right;\">1</td><td style = \"text-align: right;\">100000</td><td style = \"text-align: left;\">dot product</td><td style = \"text-align: right;\">0.000114041</td></tr><tr><td class = \"rowNumber\" style = \"font-weight: bold; text-align: right;\">2</td><td style = \"text-align: right;\">100000</td><td style = \"text-align: left;\">dot product</td><td style = \"text-align: right;\">9.3557e-5</td></tr><tr><td class = \"rowNumber\" style = \"font-weight: bold; text-align: right;\">3</td><td style = \"text-align: right;\">100000</td><td style = \"text-align: left;\">dot product</td><td style = \"text-align: right;\">1.9883e-5</td></tr><tr><td class = \"rowNumber\" style = \"font-weight: bold; text-align: right;\">4</td><td style = \"text-align: right;\">100000</td><td style = \"text-align: left;\">dot product</td><td style = \"text-align: right;\">1.7935e-5</td></tr><tr><td class = \"rowNumber\" style = \"font-weight: bold; text-align: right;\">5</td><td style = \"text-align: right;\">100000</td><td style = \"text-align: left;\">dot product</td><td style = \"text-align: right;\">1.6721e-5</td></tr><tr><td class = \"rowNumber\" style = \"font-weight: bold; text-align: right;\">6</td><td style = \"text-align: right;\">100000</td><td style = \"text-align: left;\">dot product</td><td style = \"text-align: right;\">1.7152e-5</td></tr><tr><td class = \"rowNumber\" style = \"font-weight: bold; text-align: right;\">7</td><td style = \"text-align: right;\">100000</td><td style = \"text-align: left;\">dot product</td><td style = \"text-align: right;\">1.6987e-5</td></tr><tr><td class = \"rowNumber\" style = \"font-weight: bold; text-align: right;\">8</td><td style = \"text-align: right;\">100000</td><td style = \"text-align: left;\">dot product</td><td style = \"text-align: right;\">1.7279e-5</td></tr><tr><td class = \"rowNumber\" style = \"font-weight: bold; text-align: right;\">9</td><td style = \"text-align: right;\">100000</td><td style = \"text-align: left;\">dot product</td><td style = \"text-align: right;\">1.6008e-5</td></tr><tr><td class = \"rowNumber\" style = \"font-weight: bold; text-align: right;\">10</td><td style = \"text-align: right;\">100000</td><td style = \"text-align: left;\">dot product</td><td style = \"text-align: right;\">1.7131e-5</td></tr><tr><td class = \"rowNumber\" style = \"font-weight: bold; text-align: right;\">11</td><td style = \"text-align: right;\">1000</td><td style = \"text-align: left;\">matrix multiplication</td><td style = \"text-align: right;\">0.00132459</td></tr><tr><td class = \"rowNumber\" style = \"font-weight: bold; text-align: right;\">12</td><td style = \"text-align: right;\">1000</td><td style = \"text-align: left;\">matrix multiplication</td><td style = \"text-align: right;\">0.000317267</td></tr><tr><td class = \"rowNumber\" style = \"font-weight: bold; text-align: right;\">13</td><td style = \"text-align: right;\">1000</td><td style = \"text-align: left;\">matrix multiplication</td><td style = \"text-align: right;\">0.000193591</td></tr><tr><td style = \"text-align: right;\">&vellip;</td><td style = \"text-align: right;\">&vellip;</td><td style = \"text-align: right;\">&vellip;</td><td style = \"text-align: right;\">&vellip;</td></tr><tr><td class = \"rowNumber\" style = \"font-weight: bold; text-align: right;\">509</td><td style = \"text-align: right;\">2000000</td><td style = \"text-align: left;\">dot product</td><td style = \"text-align: right;\">0.000776738</td></tr><tr><td class = \"rowNumber\" style = \"font-weight: bold; text-align: right;\">510</td><td style = \"text-align: right;\">2000000</td><td style = \"text-align: left;\">dot product</td><td style = \"text-align: right;\">0.000854851</td></tr><tr><td class = \"rowNumber\" style = \"font-weight: bold; text-align: right;\">511</td><td style = \"text-align: right;\">20000</td><td style = \"text-align: left;\">matrix multiplication</td><td style = \"text-align: right;\">0.168551</td></tr><tr><td class = \"rowNumber\" style = \"font-weight: bold; text-align: right;\">512</td><td style = \"text-align: right;\">20000</td><td style = \"text-align: left;\">matrix multiplication</td><td style = \"text-align: right;\">0.168462</td></tr><tr><td class = \"rowNumber\" style = \"font-weight: bold; text-align: right;\">513</td><td style = \"text-align: right;\">20000</td><td style = \"text-align: left;\">matrix multiplication</td><td style = \"text-align: right;\">0.147884</td></tr><tr><td class = \"rowNumber\" style = \"font-weight: bold; text-align: right;\">514</td><td style = \"text-align: right;\">20000</td><td style = \"text-align: left;\">matrix multiplication</td><td style = \"text-align: right;\">0.15067</td></tr><tr><td class = \"rowNumber\" style = \"font-weight: bold; text-align: right;\">515</td><td style = \"text-align: right;\">20000</td><td style = \"text-align: left;\">matrix multiplication</td><td style = \"text-align: right;\">0.153821</td></tr><tr><td class = \"rowNumber\" style = \"font-weight: bold; text-align: right;\">516</td><td style = \"text-align: right;\">20000</td><td style = \"text-align: left;\">matrix multiplication</td><td style = \"text-align: right;\">0.150458</td></tr><tr><td class = \"rowNumber\" style = \"font-weight: bold; text-align: right;\">517</td><td style = \"text-align: right;\">20000</td><td style = \"text-align: left;\">matrix multiplication</td><td style = \"text-align: right;\">0.151433</td></tr><tr><td class = \"rowNumber\" style = \"font-weight: bold; text-align: right;\">518</td><td style = \"text-align: right;\">20000</td><td style = \"text-align: left;\">matrix multiplication</td><td style = \"text-align: right;\">0.148178</td></tr><tr><td class = \"rowNumber\" style = \"font-weight: bold; text-align: right;\">519</td><td style = \"text-align: right;\">20000</td><td style = \"text-align: left;\">matrix multiplication</td><td style = \"text-align: right;\">0.155429</td></tr><tr><td class = \"rowNumber\" style = \"font-weight: bold; text-align: right;\">520</td><td style = \"text-align: right;\">20000</td><td style = \"text-align: left;\">matrix multiplication</td><td style = \"text-align: right;\">0.152536</td></tr></tbody></table></div>"
      ],
      "text/latex": [
       "\\begin{tabular}{r|ccc}\n",
       "\t& size & operation & time\\\\\n",
       "\t\\hline\n",
       "\t& Int64 & String & Float64\\\\\n",
       "\t\\hline\n",
       "\t1 & 100000 & dot product & 0.000114041 \\\\\n",
       "\t2 & 100000 & dot product & 9.3557e-5 \\\\\n",
       "\t3 & 100000 & dot product & 1.9883e-5 \\\\\n",
       "\t4 & 100000 & dot product & 1.7935e-5 \\\\\n",
       "\t5 & 100000 & dot product & 1.6721e-5 \\\\\n",
       "\t6 & 100000 & dot product & 1.7152e-5 \\\\\n",
       "\t7 & 100000 & dot product & 1.6987e-5 \\\\\n",
       "\t8 & 100000 & dot product & 1.7279e-5 \\\\\n",
       "\t9 & 100000 & dot product & 1.6008e-5 \\\\\n",
       "\t10 & 100000 & dot product & 1.7131e-5 \\\\\n",
       "\t11 & 1000 & matrix multiplication & 0.00132459 \\\\\n",
       "\t12 & 1000 & matrix multiplication & 0.000317267 \\\\\n",
       "\t13 & 1000 & matrix multiplication & 0.000193591 \\\\\n",
       "\t14 & 1000 & matrix multiplication & 0.000171674 \\\\\n",
       "\t15 & 1000 & matrix multiplication & 0.000167523 \\\\\n",
       "\t16 & 1000 & matrix multiplication & 0.000165536 \\\\\n",
       "\t17 & 1000 & matrix multiplication & 0.000185743 \\\\\n",
       "\t18 & 1000 & matrix multiplication & 0.000174471 \\\\\n",
       "\t19 & 1000 & matrix multiplication & 0.000165726 \\\\\n",
       "\t20 & 1000 & matrix multiplication & 0.000163055 \\\\\n",
       "\t21 & 200000 & dot product & 0.000168522 \\\\\n",
       "\t22 & 200000 & dot product & 3.0538e-5 \\\\\n",
       "\t23 & 200000 & dot product & 2.6715e-5 \\\\\n",
       "\t24 & 200000 & dot product & 3.0287e-5 \\\\\n",
       "\t25 & 200000 & dot product & 2.5541e-5 \\\\\n",
       "\t26 & 200000 & dot product & 3.0176e-5 \\\\\n",
       "\t27 & 200000 & dot product & 2.5388e-5 \\\\\n",
       "\t28 & 200000 & dot product & 3.0166e-5 \\\\\n",
       "\t29 & 200000 & dot product & 2.5442e-5 \\\\\n",
       "\t30 & 200000 & dot product & 3.0228e-5 \\\\\n",
       "\t$\\dots$ & $\\dots$ & $\\dots$ & $\\dots$ \\\\\n",
       "\\end{tabular}\n"
      ],
      "text/plain": [
       "\u001b[1m520×3 DataFrame\u001b[0m\n",
       "\u001b[1m Row \u001b[0m│\u001b[1m size    \u001b[0m\u001b[1m operation             \u001b[0m\u001b[1m time        \u001b[0m\n",
       "     │\u001b[90m Int64   \u001b[0m\u001b[90m String                \u001b[0m\u001b[90m Float64     \u001b[0m\n",
       "─────┼─────────────────────────────────────────────\n",
       "   1 │  100000  dot product            0.000114041\n",
       "   2 │  100000  dot product            9.3557e-5\n",
       "   3 │  100000  dot product            1.9883e-5\n",
       "   4 │  100000  dot product            1.7935e-5\n",
       "   5 │  100000  dot product            1.6721e-5\n",
       "   6 │  100000  dot product            1.7152e-5\n",
       "   7 │  100000  dot product            1.6987e-5\n",
       "   8 │  100000  dot product            1.7279e-5\n",
       "   9 │  100000  dot product            1.6008e-5\n",
       "  10 │  100000  dot product            1.7131e-5\n",
       "  11 │    1000  matrix multiplication  0.00132459\n",
       "  ⋮  │    ⋮               ⋮                 ⋮\n",
       " 511 │   20000  matrix multiplication  0.168551\n",
       " 512 │   20000  matrix multiplication  0.168462\n",
       " 513 │   20000  matrix multiplication  0.147884\n",
       " 514 │   20000  matrix multiplication  0.15067\n",
       " 515 │   20000  matrix multiplication  0.153821\n",
       " 516 │   20000  matrix multiplication  0.150458\n",
       " 517 │   20000  matrix multiplication  0.151433\n",
       " 518 │   20000  matrix multiplication  0.148178\n",
       " 519 │   20000  matrix multiplication  0.155429\n",
       " 520 │   20000  matrix multiplication  0.152536\n",
       "\u001b[36m                                   499 rows omitted\u001b[0m"
      ]
     },
     "execution_count": 9,
     "metadata": {},
     "output_type": "execute_result"
    }
   ],
   "source": [
    "df"
   ]
  },
  {
   "cell_type": "code",
   "execution_count": 10,
   "id": "2488cf30",
   "metadata": {},
   "outputs": [
    {
     "data": {
      "text/plain": [
       "\"timemeasurements1.csv\""
      ]
     },
     "execution_count": 10,
     "metadata": {},
     "output_type": "execute_result"
    }
   ],
   "source": [
    "using CSV\n",
    "CSV.write(\"timemeasurements1.csv\", df)"
   ]
  }
 ],
 "metadata": {
  "kernelspec": {
   "display_name": "Julia 1.8.5",
   "language": "julia",
   "name": "julia-1.8"
  },
  "language_info": {
   "file_extension": ".jl",
   "mimetype": "application/julia",
   "name": "julia",
   "version": "1.8.5"
  }
 },
 "nbformat": 4,
 "nbformat_minor": 5
}
