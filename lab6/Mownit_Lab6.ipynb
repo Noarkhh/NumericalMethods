{
 "cells": [
  {
   "cell_type": "markdown",
   "metadata": {},
   "source": [
    "# Zastosowanie wielomianów ortogonalnych w medycynie obliczeniowej\n"
   ]
  },
  {
   "cell_type": "markdown",
   "metadata": {},
   "source": [
    " Użycie wielomianów ortogonalnych do analizy EKG "
   ]
  },
  {
   "cell_type": "markdown",
   "metadata": {},
   "source": [
    "Instalacja wymaganych pakietów"
   ]
  },
  {
   "cell_type": "code",
   "execution_count": 1,
   "metadata": {},
   "outputs": [],
   "source": [
    "using Pkg"
   ]
  },
  {
   "cell_type": "code",
   "execution_count": 2,
   "metadata": {},
   "outputs": [
    {
     "name": "stderr",
     "output_type": "stream",
     "text": [
      "\u001b[32m\u001b[1m    Updating\u001b[22m\u001b[39m registry at `C:\\Users\\a\\.julia\\registries\\General.toml`\n",
      "\u001b[32m\u001b[1m   Resolving\u001b[22m\u001b[39m package versions...\n",
      "\u001b[32m\u001b[1m   Installed\u001b[22m\u001b[39m MakieCore ────────── v0.6.3\n",
      "\u001b[32m\u001b[1m   Installed\u001b[22m\u001b[39m Observables ──────── v0.5.4\n",
      "\u001b[32m\u001b[1m   Installed\u001b[22m\u001b[39m RecipesBase ──────── v1.3.3\n",
      "\u001b[32m\u001b[1m   Installed\u001b[22m\u001b[39m Compat ───────────── v4.6.1\n",
      "\u001b[32m\u001b[1m   Installed\u001b[22m\u001b[39m MutableArithmetics ─ v1.2.3\n",
      "\u001b[32m\u001b[1m   Installed\u001b[22m\u001b[39m Polynomials ──────── v3.2.9\n",
      "\u001b[32m\u001b[1m   Installed\u001b[22m\u001b[39m ChainRulesCore ───── v1.15.7\n",
      "\u001b[32m\u001b[1m    Updating\u001b[22m\u001b[39m `C:\\Users\\a\\.julia\\environments\\v1.8\\Project.toml`\n",
      " \u001b[90m [f27b6e38] \u001b[39m\u001b[92m+ Polynomials v3.2.9\u001b[39m\n",
      "\u001b[32m\u001b[1m    Updating\u001b[22m\u001b[39m `C:\\Users\\a\\.julia\\environments\\v1.8\\Manifest.toml`\n",
      " \u001b[90m [d360d2e6] \u001b[39m\u001b[92m+ ChainRulesCore v1.15.7\u001b[39m\n",
      " \u001b[90m [34da2185] \u001b[39m\u001b[92m+ Compat v4.6.1\u001b[39m\n",
      " \u001b[90m [20f20a25] \u001b[39m\u001b[92m+ MakieCore v0.6.3\u001b[39m\n",
      " \u001b[90m [d8a4904e] \u001b[39m\u001b[92m+ MutableArithmetics v1.2.3\u001b[39m\n",
      " \u001b[90m [510215fc] \u001b[39m\u001b[92m+ Observables v0.5.4\u001b[39m\n",
      " \u001b[90m [f27b6e38] \u001b[39m\u001b[92m+ Polynomials v3.2.9\u001b[39m\n",
      " \u001b[90m [3cdcf5f2] \u001b[39m\u001b[92m+ RecipesBase v1.3.3\u001b[39m\n",
      " \u001b[90m [37e2e46d] \u001b[39m\u001b[92m+ LinearAlgebra\u001b[39m\n",
      " \u001b[90m [2f01184e] \u001b[39m\u001b[92m+ SparseArrays\u001b[39m\n",
      " \u001b[90m [e66e0078] \u001b[39m\u001b[92m+ CompilerSupportLibraries_jll v1.0.1+0\u001b[39m\n",
      " \u001b[90m [4536629a] \u001b[39m\u001b[92m+ OpenBLAS_jll v0.3.20+0\u001b[39m\n",
      " \u001b[90m [8e850b90] \u001b[39m\u001b[92m+ libblastrampoline_jll v5.1.1+0\u001b[39m\n",
      "\u001b[32m\u001b[1mPrecompiling\u001b[22m\u001b[39m project...\n",
      "\u001b[32m  ✓ \u001b[39m\u001b[90mCompilerSupportLibraries_jll\u001b[39m\n",
      "\u001b[32m  ✓ \u001b[39m\u001b[90mCompat\u001b[39m\n",
      "\u001b[32m  ✓ \u001b[39m\u001b[90mObservables\u001b[39m\n",
      "\u001b[32m  ✓ \u001b[39m\u001b[90mOpenBLAS_jll\u001b[39m\n",
      "\u001b[32m  ✓ \u001b[39m\u001b[90mlibblastrampoline_jll\u001b[39m\n",
      "\u001b[32m  ✓ \u001b[39m\u001b[90mMakieCore\u001b[39m\n",
      "\u001b[32m  ✓ \u001b[39m\u001b[90mRecipesBase\u001b[39m\n",
      "\u001b[32m  ✓ \u001b[39m\u001b[90mChainRulesCore\u001b[39m\n",
      "\u001b[32m  ✓ \u001b[39m\u001b[90mMutableArithmetics\u001b[39m\n",
      "\u001b[32m  ✓ \u001b[39mPolynomials\n",
      "  10 dependencies successfully precompiled in 26 seconds. 16 already precompiled.\n",
      "\u001b[32m\u001b[1m   Resolving\u001b[22m\u001b[39m package versions...\n",
      "\u001b[32m\u001b[1m   Installed\u001b[22m\u001b[39m IrrationalConstants ───── v0.2.2\n",
      "\u001b[32m\u001b[1m   Installed\u001b[22m\u001b[39m DualNumbers ───────────── v0.6.8\n",
      "\u001b[32m\u001b[1m   Installed\u001b[22m\u001b[39m QuadGK ────────────────── v2.8.2\n",
      "\u001b[32m\u001b[1m   Installed\u001b[22m\u001b[39m HypergeometricFunctions ─ v0.3.15\n",
      "\u001b[32m\u001b[1m   Installed\u001b[22m\u001b[39m Calculus ──────────────── v0.5.1\n",
      "\u001b[32m\u001b[1m   Installed\u001b[22m\u001b[39m NaNMath ───────────────── v1.0.2\n",
      "\u001b[32m\u001b[1m   Installed\u001b[22m\u001b[39m SpecialFunctions ──────── v2.2.0\n",
      "\u001b[32m\u001b[1m   Installed\u001b[22m\u001b[39m OrderedCollections ────── v1.6.0\n",
      "\u001b[32m\u001b[1m   Installed\u001b[22m\u001b[39m Memoize ───────────────── v0.4.4\n",
      "\u001b[32m\u001b[1m   Installed\u001b[22m\u001b[39m OpenSpecFun_jll ───────── v0.5.5+0\n",
      "\u001b[32m\u001b[1m   Installed\u001b[22m\u001b[39m LogExpFunctions ───────── v0.3.23\n",
      "\u001b[32m\u001b[1m   Installed\u001b[22m\u001b[39m Requires ──────────────── v1.3.0\n",
      "\u001b[32m\u001b[1m   Installed\u001b[22m\u001b[39m DataStructures ────────── v0.18.13\n",
      "\u001b[32m\u001b[1m   Installed\u001b[22m\u001b[39m InverseFunctions ──────── v0.1.8\n",
      "\u001b[32m\u001b[1m   Installed\u001b[22m\u001b[39m MacroTools ────────────── v0.5.10\n",
      "\u001b[32m\u001b[1m   Installed\u001b[22m\u001b[39m SpecialPolynomials ────── v0.4.7\n",
      "\u001b[32m\u001b[1m   Installed\u001b[22m\u001b[39m ChangesOfVariables ────── v0.1.6\n",
      "\u001b[32m\u001b[1m   Installed\u001b[22m\u001b[39m DocStringExtensions ───── v0.9.3\n",
      "\u001b[32m\u001b[1m    Updating\u001b[22m\u001b[39m `C:\\Users\\a\\.julia\\environments\\v1.8\\Project.toml`\n",
      " \u001b[90m [a25cea48] \u001b[39m\u001b[92m+ SpecialPolynomials v0.4.7\u001b[39m\n",
      "\u001b[32m\u001b[1m    Updating\u001b[22m\u001b[39m `C:\\Users\\a\\.julia\\environments\\v1.8\\Manifest.toml`\n",
      " \u001b[90m [49dc2e85] \u001b[39m\u001b[92m+ Calculus v0.5.1\u001b[39m\n",
      " \u001b[90m [9e997f8a] \u001b[39m\u001b[92m+ ChangesOfVariables v0.1.6\u001b[39m\n",
      " \u001b[90m [864edb3b] \u001b[39m\u001b[92m+ DataStructures v0.18.13\u001b[39m\n",
      " \u001b[90m [ffbed154] \u001b[39m\u001b[92m+ DocStringExtensions v0.9.3\u001b[39m\n",
      " \u001b[90m [fa6b7ba4] \u001b[39m\u001b[92m+ DualNumbers v0.6.8\u001b[39m\n",
      " \u001b[90m [34004b35] \u001b[39m\u001b[92m+ HypergeometricFunctions v0.3.15\u001b[39m\n",
      " \u001b[90m [3587e190] \u001b[39m\u001b[92m+ InverseFunctions v0.1.8\u001b[39m\n",
      " \u001b[90m [92d709cd] \u001b[39m\u001b[92m+ IrrationalConstants v0.2.2\u001b[39m\n",
      " \u001b[90m [2ab3a3ac] \u001b[39m\u001b[92m+ LogExpFunctions v0.3.23\u001b[39m\n",
      " \u001b[90m [1914dd2f] \u001b[39m\u001b[92m+ MacroTools v0.5.10\u001b[39m\n",
      " \u001b[90m [c03570c3] \u001b[39m\u001b[92m+ Memoize v0.4.4\u001b[39m\n",
      " \u001b[90m [77ba4419] \u001b[39m\u001b[92m+ NaNMath v1.0.2\u001b[39m\n",
      " \u001b[90m [bac558e1] \u001b[39m\u001b[92m+ OrderedCollections v1.6.0\u001b[39m\n",
      " \u001b[90m [1fd47b50] \u001b[39m\u001b[92m+ QuadGK v2.8.2\u001b[39m\n",
      " \u001b[90m [ae029012] \u001b[39m\u001b[92m+ Requires v1.3.0\u001b[39m\n",
      " \u001b[90m [276daf66] \u001b[39m\u001b[92m+ SpecialFunctions v2.2.0\u001b[39m\n",
      " \u001b[90m [a25cea48] \u001b[39m\u001b[92m+ SpecialPolynomials v0.4.7\u001b[39m\n",
      " \u001b[90m [efe28fd5] \u001b[39m\u001b[92m+ OpenSpecFun_jll v0.5.5+0\u001b[39m\n",
      " \u001b[90m [05823500] \u001b[39m\u001b[92m+ OpenLibm_jll v0.8.1+0\u001b[39m\n",
      "\u001b[32m\u001b[1mPrecompiling\u001b[22m\u001b[39m project...\n",
      "\u001b[32m  ✓ \u001b[39m\u001b[90mOpenLibm_jll\u001b[39m\n",
      "\u001b[32m  ✓ \u001b[39m\u001b[90mOrderedCollections\u001b[39m\n",
      "\u001b[32m  ✓ \u001b[39m\u001b[90mCalculus\u001b[39m\n",
      "\u001b[32m  ✓ \u001b[39m\u001b[90mRequires\u001b[39m\n",
      "\u001b[32m  ✓ \u001b[39m\u001b[90mInverseFunctions\u001b[39m\n",
      "\u001b[32m  ✓ \u001b[39m\u001b[90mDocStringExtensions\u001b[39m\n",
      "\u001b[32m  ✓ \u001b[39m\u001b[90mNaNMath\u001b[39m\n",
      "\u001b[32m  ✓ \u001b[39m\u001b[90mIrrationalConstants\u001b[39m\n",
      "\u001b[32m  ✓ \u001b[39m\u001b[90mOpenSpecFun_jll\u001b[39m\n",
      "\u001b[32m  ✓ \u001b[39m\u001b[90mChangesOfVariables\u001b[39m\n",
      "\u001b[32m  ✓ \u001b[39m\u001b[90mMacroTools\u001b[39m\n",
      "\u001b[32m  ✓ \u001b[39m\u001b[90mMemoize\u001b[39m\n",
      "\u001b[32m  ✓ \u001b[39m\u001b[90mLogExpFunctions\u001b[39m\n",
      "\u001b[32m  ✓ \u001b[39m\u001b[90mDataStructures\u001b[39m\n",
      "\u001b[32m  ✓ \u001b[39m\u001b[90mQuadGK\u001b[39m\n",
      "\u001b[32m  ✓ \u001b[39m\u001b[90mSpecialFunctions\u001b[39m\n",
      "\u001b[32m  ✓ \u001b[39m\u001b[90mDualNumbers\u001b[39m\n",
      "\u001b[32m  ✓ \u001b[39m\u001b[90mHypergeometricFunctions\u001b[39m\n",
      "\u001b[32m  ✓ \u001b[39mSpecialPolynomials\n",
      "  19 dependencies successfully precompiled in 20 seconds. 26 already precompiled.\n",
      "\u001b[32m\u001b[1m   Resolving\u001b[22m\u001b[39m package versions...\n",
      "\u001b[32m\u001b[1m   Installed\u001b[22m\u001b[39m x265_jll ───────────────────── v3.5.0+0\n",
      "\u001b[32m\u001b[1m   Installed\u001b[22m\u001b[39m JpegTurbo_jll ──────────────── v2.1.91+0\n",
      "\u001b[32m\u001b[1m   Installed\u001b[22m\u001b[39m GR_jll ─────────────────────── v0.72.0+0\n",
      "\u001b[32m\u001b[1m   Installed\u001b[22m\u001b[39m Libmount_jll ───────────────── v2.35.0+0\n",
      "\u001b[32m\u001b[1m   Installed\u001b[22m\u001b[39m libfdk_aac_jll ─────────────── v2.0.2+0\n",
      "\u001b[32m\u001b[1m   Installed\u001b[22m\u001b[39m LERC_jll ───────────────────── v3.0.0+1\n",
      "\u001b[32m\u001b[1m   Installed\u001b[22m\u001b[39m Opus_jll ───────────────────── v1.3.2+0\n",
      "\u001b[32m\u001b[1m   Installed\u001b[22m\u001b[39m LoggingExtras ──────────────── v1.0.0\n",
      "\u001b[32m\u001b[1m   Installed\u001b[22m\u001b[39m Xorg_xkbcomp_jll ───────────── v1.4.2+4\n",
      "\u001b[32m\u001b[1m   Installed\u001b[22m\u001b[39m RelocatableFolders ─────────── v1.0.0\n",
      "\u001b[32m\u001b[1m   Installed\u001b[22m\u001b[39m Measures ───────────────────── v0.3.2\n",
      "\u001b[32m\u001b[1m   Installed\u001b[22m\u001b[39m Formatting ─────────────────── v0.4.2\n",
      "\u001b[32m\u001b[1m   Installed\u001b[22m\u001b[39m Grisu ──────────────────────── v1.0.2\n",
      "\u001b[32m\u001b[1m   Installed\u001b[22m\u001b[39m Contour ────────────────────── v0.6.2\n",
      "\u001b[32m\u001b[1m   Installed\u001b[22m\u001b[39m Xorg_xcb_util_image_jll ────── v0.4.0+1\n",
      "\u001b[32m\u001b[1m   Installed\u001b[22m\u001b[39m Xorg_xcb_util_wm_jll ───────── v0.4.1+1\n",
      "\u001b[32m\u001b[1m   Installed\u001b[22m\u001b[39m OpenSSL ────────────────────── v1.3.4\n",
      "\u001b[32m\u001b[1m   Installed\u001b[22m\u001b[39m PlotUtils ──────────────────── v1.3.4\n",
      "\u001b[32m\u001b[1m   Installed\u001b[22m\u001b[39m Xorg_libpthread_stubs_jll ──── v0.1.0+3\n",
      "\u001b[32m\u001b[1m   Installed\u001b[22m\u001b[39m RecipesPipeline ────────────── v0.6.11\n",
      "\u001b[32m\u001b[1m   Installed\u001b[22m\u001b[39m Cairo_jll ──────────────────── v1.16.1+1\n",
      "\u001b[32m\u001b[1m   Installed\u001b[22m\u001b[39m Xorg_xcb_util_jll ──────────── v0.4.0+1\n",
      "\u001b[32m\u001b[1m   Installed\u001b[22m\u001b[39m Fontconfig_jll ─────────────── v2.13.93+0\n",
      "\u001b[32m\u001b[1m   Installed\u001b[22m\u001b[39m Libgpg_error_jll ───────────── v1.42.0+0\n",
      "\u001b[32m\u001b[1m   Installed\u001b[22m\u001b[39m HTTP ───────────────────────── v1.7.4\n",
      "\u001b[32m\u001b[1m   Installed\u001b[22m\u001b[39m Xorg_libxkbfile_jll ────────── v1.1.0+4\n",
      "\u001b[32m\u001b[1m   Installed\u001b[22m\u001b[39m Xorg_libXinerama_jll ───────── v1.1.4+4\n",
      "\u001b[32m\u001b[1m   Installed\u001b[22m\u001b[39m Xorg_libXau_jll ────────────── v1.0.9+4\n",
      "\u001b[32m\u001b[1m   Installed\u001b[22m\u001b[39m ColorSchemes ───────────────── v3.20.0\n",
      "\u001b[32m\u001b[1m   Installed\u001b[22m\u001b[39m Xorg_xcb_util_keysyms_jll ──── v0.4.0+1\n",
      "\u001b[32m\u001b[1m   Installed\u001b[22m\u001b[39m Showoff ────────────────────── v1.0.3\n",
      "\u001b[32m\u001b[1m   Installed\u001b[22m\u001b[39m xkbcommon_jll ──────────────── v1.4.1+0\n",
      "\u001b[32m\u001b[1m   Installed\u001b[22m\u001b[39m Missings ───────────────────── v1.1.0\n",
      "\u001b[32m\u001b[1m   Installed\u001b[22m\u001b[39m Qt5Base_jll ────────────────── v5.15.3+2\n",
      "\u001b[32m\u001b[1m   Installed\u001b[22m\u001b[39m FFMPEG ─────────────────────── v0.4.1\n",
      "\u001b[32m\u001b[1m   Installed\u001b[22m\u001b[39m Bzip2_jll ──────────────────── v1.0.8+0\n",
      "\u001b[32m\u001b[1m   Installed\u001b[22m\u001b[39m SimpleBufferStream ─────────── v1.1.0\n",
      "\u001b[32m\u001b[1m   Installed\u001b[22m\u001b[39m Pipe ───────────────────────── v1.3.0\n",
      "\u001b[32m\u001b[1m   Installed\u001b[22m\u001b[39m PlotThemes ─────────────────── v3.1.0\n",
      "\u001b[32m\u001b[1m   Installed\u001b[22m\u001b[39m LZO_jll ────────────────────── v2.10.1+0\n",
      "\u001b[32m\u001b[1m   Installed\u001b[22m\u001b[39m HarfBuzz_jll ───────────────── v2.8.1+1\n",
      "\u001b[32m\u001b[1m   Installed\u001b[22m\u001b[39m fzf_jll ────────────────────── v0.29.0+0\n",
      "\u001b[32m\u001b[1m   Installed\u001b[22m\u001b[39m TranscodingStreams ─────────── v0.9.12\n"
     ]
    },
    {
     "name": "stderr",
     "output_type": "stream",
     "text": [
      "\u001b[32m\u001b[1m   Installed\u001b[22m\u001b[39m GR ─────────────────────────── v0.72.0\n",
      "\u001b[32m\u001b[1m   Installed\u001b[22m\u001b[39m GLFW_jll ───────────────────── v3.3.8+0\n",
      "\u001b[32m\u001b[1m   Installed\u001b[22m\u001b[39m x264_jll ───────────────────── v2021.5.5+0\n",
      "\u001b[32m\u001b[1m   Installed\u001b[22m\u001b[39m FriBidi_jll ────────────────── v1.0.10+0\n",
      "\u001b[32m\u001b[1m   Installed\u001b[22m\u001b[39m UnicodeFun ─────────────────── v0.4.1\n",
      "\u001b[32m\u001b[1m   Installed\u001b[22m\u001b[39m FreeType2_jll ──────────────── v2.10.4+0\n",
      "\u001b[32m\u001b[1m   Installed\u001b[22m\u001b[39m JLFzf ──────────────────────── v0.1.5\n",
      "\u001b[32m\u001b[1m   Installed\u001b[22m\u001b[39m Colors ─────────────────────── v0.12.10\n",
      "\u001b[32m\u001b[1m   Installed\u001b[22m\u001b[39m StatsAPI ───────────────────── v1.6.0\n",
      "\u001b[32m\u001b[1m   Installed\u001b[22m\u001b[39m libpng_jll ─────────────────── v1.6.38+0\n",
      "\u001b[32m\u001b[1m   Installed\u001b[22m\u001b[39m CodecZlib ──────────────────── v0.7.1\n",
      "\u001b[32m\u001b[1m   Installed\u001b[22m\u001b[39m Xorg_libxcb_jll ────────────── v1.13.0+3\n",
      "\u001b[32m\u001b[1m   Installed\u001b[22m\u001b[39m libaom_jll ─────────────────── v3.4.0+0\n",
      "\u001b[32m\u001b[1m   Installed\u001b[22m\u001b[39m Scratch ────────────────────── v1.2.0\n",
      "\u001b[32m\u001b[1m   Installed\u001b[22m\u001b[39m ColorTypes ─────────────────── v0.11.4\n",
      "\u001b[32m\u001b[1m   Installed\u001b[22m\u001b[39m StatsBase ──────────────────── v0.33.21\n",
      "\u001b[32m\u001b[1m   Installed\u001b[22m\u001b[39m Xorg_libXext_jll ───────────── v1.3.4+4\n",
      "\u001b[32m\u001b[1m   Installed\u001b[22m\u001b[39m TensorCore ─────────────────── v0.1.1\n",
      "\u001b[32m\u001b[1m   Installed\u001b[22m\u001b[39m Zstd_jll ───────────────────── v1.5.5+0\n",
      "\u001b[32m\u001b[1m   Installed\u001b[22m\u001b[39m Expat_jll ──────────────────── v2.4.8+0\n",
      "\u001b[32m\u001b[1m   Installed\u001b[22m\u001b[39m Libtiff_jll ────────────────── v4.4.0+0\n",
      "\u001b[32m\u001b[1m   Installed\u001b[22m\u001b[39m Libffi_jll ─────────────────── v3.2.2+1\n",
      "\u001b[32m\u001b[1m   Installed\u001b[22m\u001b[39m ColorVectorSpace ───────────── v0.9.10\n",
      "\u001b[32m\u001b[1m   Installed\u001b[22m\u001b[39m Plots ──────────────────────── v1.38.9\n",
      "\u001b[32m\u001b[1m   Installed\u001b[22m\u001b[39m Xorg_libXrender_jll ────────── v0.9.10+4\n",
      "\u001b[32m\u001b[1m   Installed\u001b[22m\u001b[39m Ogg_jll ────────────────────── v1.3.5+1\n",
      "\u001b[32m\u001b[1m   Installed\u001b[22m\u001b[39m Xorg_libXcursor_jll ────────── v1.2.0+4\n",
      "\u001b[32m\u001b[1m   Installed\u001b[22m\u001b[39m Xorg_libXi_jll ─────────────── v1.7.10+4\n",
      "\u001b[32m\u001b[1m   Installed\u001b[22m\u001b[39m Reexport ───────────────────── v1.2.2\n",
      "\u001b[32m\u001b[1m   Installed\u001b[22m\u001b[39m XSLT_jll ───────────────────── v1.1.34+0\n",
      "\u001b[32m\u001b[1m   Installed\u001b[22m\u001b[39m Xorg_xcb_util_renderutil_jll ─ v0.3.9+1\n",
      "\u001b[32m\u001b[1m   Installed\u001b[22m\u001b[39m Wayland_protocols_jll ──────── v1.25.0+0\n",
      "\u001b[32m\u001b[1m   Installed\u001b[22m\u001b[39m Libuuid_jll ────────────────── v2.36.0+0\n",
      "\u001b[32m\u001b[1m   Installed\u001b[22m\u001b[39m Graphite2_jll ──────────────── v1.3.14+0\n",
      "\u001b[32m\u001b[1m   Installed\u001b[22m\u001b[39m Xorg_xtrans_jll ────────────── v1.4.0+3\n",
      "\u001b[32m\u001b[1m   Installed\u001b[22m\u001b[39m libass_jll ─────────────────── v0.15.1+0\n",
      "\u001b[32m\u001b[1m   Installed\u001b[22m\u001b[39m Pixman_jll ─────────────────── v0.40.1+0\n",
      "\u001b[32m\u001b[1m   Installed\u001b[22m\u001b[39m Gettext_jll ────────────────── v0.21.0+0\n",
      "\u001b[32m\u001b[1m   Installed\u001b[22m\u001b[39m Wayland_jll ────────────────── v1.21.0+0\n",
      "\u001b[32m\u001b[1m   Installed\u001b[22m\u001b[39m XML2_jll ───────────────────── v2.10.3+0\n",
      "\u001b[32m\u001b[1m   Installed\u001b[22m\u001b[39m OpenSSL_jll ────────────────── v1.1.20+0\n",
      "\u001b[32m\u001b[1m   Installed\u001b[22m\u001b[39m Latexify ───────────────────── v0.15.18\n",
      "\u001b[32m\u001b[1m   Installed\u001b[22m\u001b[39m BitFlags ───────────────────── v0.1.7\n",
      "\u001b[32m\u001b[1m   Installed\u001b[22m\u001b[39m FFMPEG_jll ─────────────────── v4.4.2+2\n",
      "\u001b[32m\u001b[1m   Installed\u001b[22m\u001b[39m Libgcrypt_jll ──────────────── v1.8.7+0\n",
      "\u001b[32m\u001b[1m   Installed\u001b[22m\u001b[39m DataAPI ────────────────────── v1.14.0\n",
      "\u001b[32m\u001b[1m   Installed\u001b[22m\u001b[39m Xorg_libXrandr_jll ─────────── v1.5.2+4\n",
      "\u001b[32m\u001b[1m   Installed\u001b[22m\u001b[39m Xorg_xkeyboard_config_jll ──── v2.27.0+4\n",
      "\u001b[32m\u001b[1m   Installed\u001b[22m\u001b[39m Xorg_libXfixes_jll ─────────── v5.0.3+4\n",
      "\u001b[32m\u001b[1m   Installed\u001b[22m\u001b[39m FixedPointNumbers ──────────── v0.8.4\n",
      "\u001b[32m\u001b[1m   Installed\u001b[22m\u001b[39m IniFile ────────────────────── v0.5.1\n",
      "\u001b[32m\u001b[1m   Installed\u001b[22m\u001b[39m LAME_jll ───────────────────── v3.100.1+0\n",
      "\u001b[32m\u001b[1m   Installed\u001b[22m\u001b[39m Libiconv_jll ───────────────── v1.16.1+2\n",
      "\u001b[32m\u001b[1m   Installed\u001b[22m\u001b[39m URIs ───────────────────────── v1.4.2\n",
      "\u001b[32m\u001b[1m   Installed\u001b[22m\u001b[39m Glib_jll ───────────────────── v2.74.0+2\n",
      "\u001b[32m\u001b[1m   Installed\u001b[22m\u001b[39m libvorbis_jll ──────────────── v1.3.7+1\n",
      "\u001b[32m\u001b[1m   Installed\u001b[22m\u001b[39m Libglvnd_jll ───────────────── v1.6.0+0\n",
      "\u001b[32m\u001b[1m   Installed\u001b[22m\u001b[39m Xorg_libX11_jll ────────────── v1.6.9+4\n",
      "\u001b[32m\u001b[1m   Installed\u001b[22m\u001b[39m LaTeXStrings ───────────────── v1.3.0\n",
      "\u001b[32m\u001b[1m   Installed\u001b[22m\u001b[39m Xorg_libXdmcp_jll ──────────── v1.1.3+4\n",
      "\u001b[32m\u001b[1m   Installed\u001b[22m\u001b[39m SortingAlgorithms ──────────── v1.1.0\n",
      "\u001b[32m\u001b[1m   Installed\u001b[22m\u001b[39m Unzip ──────────────────────── v0.2.0\n",
      "\u001b[32m\u001b[1m    Updating\u001b[22m\u001b[39m `C:\\Users\\a\\.julia\\environments\\v1.8\\Project.toml`\n",
      " \u001b[90m [91a5bcdd] \u001b[39m\u001b[92m+ Plots v1.38.9\u001b[39m\n",
      "\u001b[32m\u001b[1m    Updating\u001b[22m\u001b[39m `C:\\Users\\a\\.julia\\environments\\v1.8\\Manifest.toml`\n",
      " \u001b[90m [d1d4a3ce] \u001b[39m\u001b[92m+ BitFlags v0.1.7\u001b[39m\n",
      " \u001b[90m [944b1d66] \u001b[39m\u001b[92m+ CodecZlib v0.7.1\u001b[39m\n",
      " \u001b[90m [35d6a980] \u001b[39m\u001b[92m+ ColorSchemes v3.20.0\u001b[39m\n",
      " \u001b[90m [3da002f7] \u001b[39m\u001b[92m+ ColorTypes v0.11.4\u001b[39m\n",
      " \u001b[90m [c3611d14] \u001b[39m\u001b[92m+ ColorVectorSpace v0.9.10\u001b[39m\n",
      " \u001b[90m [5ae59095] \u001b[39m\u001b[92m+ Colors v0.12.10\u001b[39m\n",
      " \u001b[90m [d38c429a] \u001b[39m\u001b[92m+ Contour v0.6.2\u001b[39m\n",
      " \u001b[90m [9a962f9c] \u001b[39m\u001b[92m+ DataAPI v1.14.0\u001b[39m\n",
      " \u001b[90m [c87230d0] \u001b[39m\u001b[92m+ FFMPEG v0.4.1\u001b[39m\n",
      " \u001b[90m [53c48c17] \u001b[39m\u001b[92m+ FixedPointNumbers v0.8.4\u001b[39m\n",
      " \u001b[90m [59287772] \u001b[39m\u001b[92m+ Formatting v0.4.2\u001b[39m\n",
      " \u001b[90m [28b8d3ca] \u001b[39m\u001b[92m+ GR v0.72.0\u001b[39m\n",
      " \u001b[90m [42e2da0e] \u001b[39m\u001b[92m+ Grisu v1.0.2\u001b[39m\n",
      " \u001b[90m [cd3eb016] \u001b[39m\u001b[92m+ HTTP v1.7.4\u001b[39m\n",
      " \u001b[90m [83e8ac13] \u001b[39m\u001b[92m+ IniFile v0.5.1\u001b[39m\n",
      " \u001b[90m [1019f520] \u001b[39m\u001b[92m+ JLFzf v0.1.5\u001b[39m\n",
      " \u001b[90m [b964fa9f] \u001b[39m\u001b[92m+ LaTeXStrings v1.3.0\u001b[39m\n",
      " \u001b[90m [23fbe1c1] \u001b[39m\u001b[92m+ Latexify v0.15.18\u001b[39m\n",
      " \u001b[90m [e6f89c97] \u001b[39m\u001b[92m+ LoggingExtras v1.0.0\u001b[39m\n",
      " \u001b[90m [442fdcdd] \u001b[39m\u001b[92m+ Measures v0.3.2\u001b[39m\n",
      " \u001b[90m [e1d29d7a] \u001b[39m\u001b[92m+ Missings v1.1.0\u001b[39m\n",
      " \u001b[90m [4d8831e6] \u001b[39m\u001b[92m+ OpenSSL v1.3.4\u001b[39m\n",
      " \u001b[90m [b98c9c47] \u001b[39m\u001b[92m+ Pipe v1.3.0\u001b[39m\n",
      " \u001b[90m [ccf2f8ad] \u001b[39m\u001b[92m+ PlotThemes v3.1.0\u001b[39m\n",
      " \u001b[90m [995b91a9] \u001b[39m\u001b[92m+ PlotUtils v1.3.4\u001b[39m\n",
      " \u001b[90m [91a5bcdd] \u001b[39m\u001b[92m+ Plots v1.38.9\u001b[39m\n",
      " \u001b[90m [01d81517] \u001b[39m\u001b[92m+ RecipesPipeline v0.6.11\u001b[39m\n",
      " \u001b[90m [189a3867] \u001b[39m\u001b[92m+ Reexport v1.2.2\u001b[39m\n",
      " \u001b[90m [05181044] \u001b[39m\u001b[92m+ RelocatableFolders v1.0.0\u001b[39m\n",
      " \u001b[90m [6c6a2e73] \u001b[39m\u001b[92m+ Scratch v1.2.0\u001b[39m\n",
      " \u001b[90m [992d4aef] \u001b[39m\u001b[92m+ Showoff v1.0.3\u001b[39m\n",
      " \u001b[90m [777ac1f9] \u001b[39m\u001b[92m+ SimpleBufferStream v1.1.0\u001b[39m\n",
      " \u001b[90m [a2af1166] \u001b[39m\u001b[92m+ SortingAlgorithms v1.1.0\u001b[39m\n",
      " \u001b[90m [82ae8749] \u001b[39m\u001b[92m+ StatsAPI v1.6.0\u001b[39m\n",
      " \u001b[90m [2913bbd2] \u001b[39m\u001b[92m+ StatsBase v0.33.21\u001b[39m\n",
      " \u001b[90m [62fd8b95] \u001b[39m\u001b[92m+ TensorCore v0.1.1\u001b[39m\n",
      " \u001b[90m [3bb67fe8] \u001b[39m\u001b[92m+ TranscodingStreams v0.9.12\u001b[39m\n",
      " \u001b[90m [5c2747f8] \u001b[39m\u001b[92m+ URIs v1.4.2\u001b[39m\n",
      " \u001b[90m [1cfade01] \u001b[39m\u001b[92m+ UnicodeFun v0.4.1\u001b[39m\n",
      " \u001b[90m [41fe7b60] \u001b[39m\u001b[92m+ Unzip v0.2.0\u001b[39m\n",
      " \u001b[90m [6e34b625] \u001b[39m\u001b[92m+ Bzip2_jll v1.0.8+0\u001b[39m\n",
      " \u001b[90m [83423d85] \u001b[39m\u001b[92m+ Cairo_jll v1.16.1+1\u001b[39m\n",
      " \u001b[90m [2e619515] \u001b[39m\u001b[92m+ Expat_jll v2.4.8+0\u001b[39m\n",
      " \u001b[90m [b22a6f82] \u001b[39m\u001b[92m+ FFMPEG_jll v4.4.2+2\u001b[39m\n",
      " \u001b[90m [a3f928ae] \u001b[39m\u001b[92m+ Fontconfig_jll v2.13.93+0\u001b[39m\n",
      " \u001b[90m [d7e528f0] \u001b[39m\u001b[92m+ FreeType2_jll v2.10.4+0\u001b[39m\n",
      " \u001b[90m [559328eb] \u001b[39m\u001b[92m+ FriBidi_jll v1.0.10+0\u001b[39m\n",
      " \u001b[90m [0656b61e] \u001b[39m\u001b[92m+ GLFW_jll v3.3.8+0\u001b[39m\n",
      " \u001b[90m [d2c73de3] \u001b[39m\u001b[92m+ GR_jll v0.72.0+0\u001b[39m\n",
      " \u001b[90m [78b55507] \u001b[39m\u001b[92m+ Gettext_jll v0.21.0+0\u001b[39m\n",
      " \u001b[90m [7746bdde] \u001b[39m\u001b[92m+ Glib_jll v2.74.0+2\u001b[39m\n",
      " \u001b[90m [3b182d85] \u001b[39m\u001b[92m+ Graphite2_jll v1.3.14+0\u001b[39m\n",
      " \u001b[90m [2e76f6c2] \u001b[39m\u001b[92m+ HarfBuzz_jll v2.8.1+1\u001b[39m\n",
      " \u001b[90m [aacddb02] \u001b[39m\u001b[92m+ JpegTurbo_jll v2.1.91+0\u001b[39m\n",
      " \u001b[90m [c1c5ebd0] \u001b[39m\u001b[92m+ LAME_jll v3.100.1+0\u001b[39m\n",
      " \u001b[90m [88015f11] \u001b[39m\u001b[92m+ LERC_jll v3.0.0+1\u001b[39m\n",
      " \u001b[90m [dd4b983a] \u001b[39m\u001b[92m+ LZO_jll v2.10.1+0\u001b[39m\n",
      "\u001b[33m⌅\u001b[39m\u001b[90m [e9f186c6] \u001b[39m\u001b[92m+ Libffi_jll v3.2.2+1\u001b[39m\n",
      " \u001b[90m [d4300ac3] \u001b[39m\u001b[92m+ Libgcrypt_jll v1.8.7+0\u001b[39m\n",
      " \u001b[90m [7e76a0d4] \u001b[39m\u001b[92m+ Libglvnd_jll v1.6.0+0\u001b[39m\n",
      " \u001b[90m [7add5ba3] \u001b[39m\u001b[92m+ Libgpg_error_jll v1.42.0+0\u001b[39m\n",
      " \u001b[90m [94ce4f54] \u001b[39m\u001b[92m+ Libiconv_jll v1.16.1+2\u001b[39m\n",
      " \u001b[90m [4b2f31a3] \u001b[39m\u001b[92m+ Libmount_jll v2.35.0+0\u001b[39m\n",
      " \u001b[90m [89763e89] \u001b[39m\u001b[92m+ Libtiff_jll v4.4.0+0\u001b[39m\n",
      " \u001b[90m [38a345b3] \u001b[39m\u001b[92m+ Libuuid_jll v2.36.0+0\u001b[39m\n",
      " \u001b[90m [e7412a2a] \u001b[39m\u001b[92m+ Ogg_jll v1.3.5+1\u001b[39m\n",
      " \u001b[90m [458c3c95] \u001b[39m\u001b[92m+ OpenSSL_jll v1.1.20+0\u001b[39m\n",
      " \u001b[90m [91d4177d] \u001b[39m\u001b[92m+ Opus_jll v1.3.2+0\u001b[39m\n",
      " \u001b[90m [30392449] \u001b[39m\u001b[92m+ Pixman_jll v0.40.1+0\u001b[39m\n",
      " \u001b[90m [ea2cea3b] \u001b[39m\u001b[92m+ Qt5Base_jll v5.15.3+2\u001b[39m\n",
      " \u001b[90m [a2964d1f] \u001b[39m\u001b[92m+ Wayland_jll v1.21.0+0\u001b[39m\n",
      " \u001b[90m [2381bf8a] \u001b[39m\u001b[92m+ Wayland_protocols_jll v1.25.0+0\u001b[39m\n",
      " \u001b[90m [02c8fc9c] \u001b[39m\u001b[92m+ XML2_jll v2.10.3+0\u001b[39m\n",
      " \u001b[90m [aed1982a] \u001b[39m\u001b[92m+ XSLT_jll v1.1.34+0\u001b[39m\n",
      " \u001b[90m [4f6342f7] \u001b[39m\u001b[92m+ Xorg_libX11_jll v1.6.9+4\u001b[39m\n",
      " \u001b[90m [0c0b7dd1] \u001b[39m\u001b[92m+ Xorg_libXau_jll v1.0.9+4\u001b[39m\n",
      " \u001b[90m [935fb764] \u001b[39m\u001b[92m+ Xorg_libXcursor_jll v1.2.0+4\u001b[39m\n",
      " \u001b[90m [a3789734] \u001b[39m\u001b[92m+ Xorg_libXdmcp_jll v1.1.3+4\u001b[39m\n",
      " \u001b[90m [1082639a] \u001b[39m\u001b[92m+ Xorg_libXext_jll v1.3.4+4\u001b[39m\n",
      " \u001b[90m [d091e8ba] \u001b[39m\u001b[92m+ Xorg_libXfixes_jll v5.0.3+4\u001b[39m\n",
      " \u001b[90m [a51aa0fd] \u001b[39m\u001b[92m+ Xorg_libXi_jll v1.7.10+4\u001b[39m\n",
      " \u001b[90m [d1454406] \u001b[39m\u001b[92m+ Xorg_libXinerama_jll v1.1.4+4\u001b[39m\n",
      " \u001b[90m [ec84b674] \u001b[39m\u001b[92m+ Xorg_libXrandr_jll v1.5.2+4\u001b[39m\n",
      " \u001b[90m [ea2f1a96] \u001b[39m\u001b[92m+ Xorg_libXrender_jll v0.9.10+4\u001b[39m\n",
      " \u001b[90m [14d82f49] \u001b[39m\u001b[92m+ Xorg_libpthread_stubs_jll v0.1.0+3\u001b[39m\n",
      " \u001b[90m [c7cfdc94] \u001b[39m\u001b[92m+ Xorg_libxcb_jll v1.13.0+3\u001b[39m\n",
      " \u001b[90m [cc61e674] \u001b[39m\u001b[92m+ Xorg_libxkbfile_jll v1.1.0+4\u001b[39m\n",
      " \u001b[90m [12413925] \u001b[39m\u001b[92m+ Xorg_xcb_util_image_jll v0.4.0+1\u001b[39m\n",
      " \u001b[90m [2def613f] \u001b[39m\u001b[92m+ Xorg_xcb_util_jll v0.4.0+1\u001b[39m\n",
      " \u001b[90m [975044d2] \u001b[39m\u001b[92m+ Xorg_xcb_util_keysyms_jll v0.4.0+1\u001b[39m\n",
      " \u001b[90m [0d47668e] \u001b[39m\u001b[92m+ Xorg_xcb_util_renderutil_jll v0.3.9+1\u001b[39m\n",
      " \u001b[90m [c22f9ab0] \u001b[39m\u001b[92m+ Xorg_xcb_util_wm_jll v0.4.1+1\u001b[39m\n",
      " \u001b[90m [35661453] \u001b[39m\u001b[92m+ Xorg_xkbcomp_jll v1.4.2+4\u001b[39m\n",
      " \u001b[90m [33bec58e] \u001b[39m\u001b[92m+ Xorg_xkeyboard_config_jll v2.27.0+4\u001b[39m\n",
      " \u001b[90m [c5fb5394] \u001b[39m\u001b[92m+ Xorg_xtrans_jll v1.4.0+3\u001b[39m\n",
      " \u001b[90m [3161d3a3] \u001b[39m\u001b[92m+ Zstd_jll v1.5.5+0\u001b[39m\n",
      "\u001b[33m⌅\u001b[39m\u001b[90m [214eeab7] \u001b[39m\u001b[92m+ fzf_jll v0.29.0+0\u001b[39m\n",
      " \u001b[90m [a4ae2306] \u001b[39m\u001b[92m+ libaom_jll v3.4.0+0\u001b[39m\n",
      " \u001b[90m [0ac62f75] \u001b[39m\u001b[92m+ libass_jll v0.15.1+0\u001b[39m\n",
      " \u001b[90m [f638f0a6] \u001b[39m\u001b[92m+ libfdk_aac_jll v2.0.2+0\u001b[39m\n",
      " \u001b[90m [b53b4c65] \u001b[39m\u001b[92m+ libpng_jll v1.6.38+0\u001b[39m\n",
      " \u001b[90m [f27f6e37] \u001b[39m\u001b[92m+ libvorbis_jll v1.3.7+1\u001b[39m\n",
      " \u001b[90m [1270edf5] \u001b[39m\u001b[92m+ x264_jll v2021.5.5+0\u001b[39m\n",
      " \u001b[90m [dfaa095f] \u001b[39m\u001b[92m+ x265_jll v3.5.0+0\u001b[39m\n",
      " \u001b[90m [d8fb68d0] \u001b[39m\u001b[92m+ xkbcommon_jll v1.4.1+0\u001b[39m\n",
      " \u001b[90m [8bb1440f] \u001b[39m\u001b[92m+ DelimitedFiles\u001b[39m\n",
      " \u001b[90m [10745b16] \u001b[39m\u001b[92m+ Statistics\u001b[39m\n",
      " \u001b[90m [efcefdf7] \u001b[39m\u001b[92m+ PCRE2_jll v10.40.0+0\u001b[39m\n",
      "\u001b[36m\u001b[1m        Info\u001b[22m\u001b[39m Packages marked with \u001b[33m⌅\u001b[39m have new versions available but compatibility constraints restrict them from upgrading. To see why use `status --outdated -m`\n"
     ]
    },
    {
     "name": "stderr",
     "output_type": "stream",
     "text": [
      "\u001b[32m\u001b[1mPrecompiling\u001b[22m\u001b[39m project...\n",
      "\u001b[32m  ✓ \u001b[39m\u001b[90mStatsAPI\u001b[39m\n",
      "\u001b[32m  ✓ \u001b[39m\u001b[90mTensorCore\u001b[39m\n",
      "\u001b[32m  ✓ \u001b[39m\u001b[90mContour\u001b[39m\n",
      "\u001b[32m  ✓ \u001b[39m\u001b[90mPipe\u001b[39m\n",
      "\u001b[32m  ✓ \u001b[39m\u001b[90mLaTeXStrings\u001b[39m\n",
      "\u001b[32m  ✓ \u001b[39m\u001b[90mMeasures\u001b[39m\n",
      "\u001b[32m  ✓ \u001b[39m\u001b[90mGrisu\u001b[39m\n",
      "\u001b[32m  ✓ \u001b[39m\u001b[90mReexport\u001b[39m\n",
      "\u001b[32m  ✓ \u001b[39m\u001b[90mUnzip\u001b[39m\n",
      "\u001b[32m  ✓ \u001b[39m\u001b[90mIniFile\u001b[39m\n",
      "\u001b[32m  ✓ \u001b[39m\u001b[90mSimpleBufferStream\u001b[39m\n",
      "\u001b[32m  ✓ \u001b[39m\u001b[90mFormatting\u001b[39m\n",
      "\u001b[32m  ✓ \u001b[39m\u001b[90mURIs\u001b[39m\n",
      "\u001b[32m  ✓ \u001b[39m\u001b[90mPCRE2_jll\u001b[39m\n",
      "\u001b[32m  ✓ \u001b[39m\u001b[90mDataAPI\u001b[39m\n",
      "\u001b[32m  ✓ \u001b[39m\u001b[90mBitFlags\u001b[39m\n",
      "\u001b[32m  ✓ \u001b[39m\u001b[90mUnicodeFun\u001b[39m\n",
      "\u001b[32m  ✓ \u001b[39m\u001b[90mFixedPointNumbers\u001b[39m\n",
      "\u001b[32m  ✓ \u001b[39m\u001b[90mScratch\u001b[39m\n",
      "\u001b[32m  ✓ \u001b[39m\u001b[90mLoggingExtras\u001b[39m\n",
      "\u001b[32m  ✓ \u001b[39m\u001b[90mTranscodingStreams\u001b[39m\n",
      "\u001b[32m  ✓ \u001b[39m\u001b[90mOpenSSL_jll\u001b[39m\n",
      "\u001b[32m  ✓ \u001b[39m\u001b[90mGraphite2_jll\u001b[39m\n",
      "\u001b[32m  ✓ \u001b[39m\u001b[90mLibmount_jll\u001b[39m\n",
      "\u001b[32m  ✓ \u001b[39m\u001b[90mBzip2_jll\u001b[39m\n",
      "\u001b[32m  ✓ \u001b[39m\u001b[90mXorg_libXau_jll\u001b[39m\n",
      "\u001b[32m  ✓ \u001b[39m\u001b[90mlibpng_jll\u001b[39m\n",
      "\u001b[32m  ✓ \u001b[39m\u001b[90mlibfdk_aac_jll\u001b[39m\n",
      "\u001b[32m  ✓ \u001b[39m\u001b[90mLAME_jll\u001b[39m\n",
      "\u001b[32m  ✓ \u001b[39m\u001b[90mPixman_jll\u001b[39m\n",
      "\u001b[32m  ✓ \u001b[39m\u001b[90mLERC_jll\u001b[39m\n",
      "\u001b[32m  ✓ \u001b[39m\u001b[90mfzf_jll\u001b[39m\n",
      "\u001b[32m  ✓ \u001b[39m\u001b[90mJpegTurbo_jll\u001b[39m\n",
      "\u001b[32m  ✓ \u001b[39m\u001b[90mOgg_jll\u001b[39m\n",
      "\u001b[32m  ✓ \u001b[39m\u001b[90mXorg_libXdmcp_jll\u001b[39m\n",
      "\u001b[32m  ✓ \u001b[39m\u001b[90mx265_jll\u001b[39m\n",
      "\u001b[32m  ✓ \u001b[39m\u001b[90mx264_jll\u001b[39m\n",
      "\u001b[32m  ✓ \u001b[39m\u001b[90mlibaom_jll\u001b[39m\n",
      "\u001b[32m  ✓ \u001b[39m\u001b[90mZstd_jll\u001b[39m\n",
      "\u001b[32m  ✓ \u001b[39m\u001b[90mExpat_jll\u001b[39m\n",
      "\u001b[32m  ✓ \u001b[39m\u001b[90mLZO_jll\u001b[39m\n",
      "\u001b[32m  ✓ \u001b[39m\u001b[90mOpus_jll\u001b[39m\n",
      "\u001b[32m  ✓ \u001b[39m\u001b[90mXorg_xtrans_jll\u001b[39m\n",
      "\u001b[32m  ✓ \u001b[39m\u001b[90mLibiconv_jll\u001b[39m\n",
      "\u001b[32m  ✓ \u001b[39m\u001b[90mLibffi_jll\u001b[39m\n",
      "\u001b[32m  ✓ \u001b[39m\u001b[90mLibgpg_error_jll\u001b[39m\n",
      "\u001b[32m  ✓ \u001b[39m\u001b[90mWayland_protocols_jll\u001b[39m\n",
      "\u001b[32m  ✓ \u001b[39m\u001b[90mXorg_libpthread_stubs_jll\u001b[39m\n",
      "\u001b[32m  ✓ \u001b[39m\u001b[90mFriBidi_jll\u001b[39m\n",
      "\u001b[32m  ✓ \u001b[39m\u001b[90mLibuuid_jll\u001b[39m\n",
      "\u001b[32m  ✓ \u001b[39m\u001b[90mSortingAlgorithms\u001b[39m\n",
      "\u001b[32m  ✓ \u001b[39m\u001b[90mShowoff\u001b[39m\n",
      "\u001b[32m  ✓ \u001b[39m\u001b[90mMissings\u001b[39m\n",
      "\u001b[32m  ✓ \u001b[39m\u001b[90mRelocatableFolders\u001b[39m\n",
      "\u001b[32m  ✓ \u001b[39m\u001b[90mCodecZlib\u001b[39m\n",
      "\u001b[32m  ✓ \u001b[39m\u001b[90mFreeType2_jll\u001b[39m\n",
      "\u001b[32m  ✓ \u001b[39m\u001b[90mJLFzf\u001b[39m\n",
      "\u001b[32m  ✓ \u001b[39m\u001b[90mlibvorbis_jll\u001b[39m\n",
      "\u001b[32m  ✓ \u001b[39m\u001b[90mOpenSSL\u001b[39m\n",
      "\u001b[32m  ✓ \u001b[39m\u001b[90mLibtiff_jll\u001b[39m\n",
      "\u001b[32m  ✓ \u001b[39m\u001b[90mLatexify\u001b[39m\n",
      "\u001b[32m  ✓ \u001b[39m\u001b[90mColorTypes\u001b[39m\n",
      "\u001b[32m  ✓ \u001b[39m\u001b[90mXML2_jll\u001b[39m\n",
      "\u001b[32m  ✓ \u001b[39m\u001b[90mLibgcrypt_jll\u001b[39m\n",
      "\u001b[32m  ✓ \u001b[39m\u001b[90mFontconfig_jll\u001b[39m\n",
      "\u001b[32m  ✓ \u001b[39m\u001b[90mGettext_jll\u001b[39m\n",
      "\u001b[32m  ✓ \u001b[39m\u001b[90mWayland_jll\u001b[39m\n",
      "\u001b[32m  ✓ \u001b[39m\u001b[90mStatsBase\u001b[39m\n",
      "\u001b[32m  ✓ \u001b[39m\u001b[90mXSLT_jll\u001b[39m\n",
      "\u001b[32m  ✓ \u001b[39m\u001b[90mGlib_jll\u001b[39m\n",
      "\u001b[32m  ✓ \u001b[39m\u001b[90mColorVectorSpace\u001b[39m\n",
      "\u001b[32m  ✓ \u001b[39m\u001b[90mXorg_libxcb_jll\u001b[39m\n",
      "\u001b[32m  ✓ \u001b[39m\u001b[90mHTTP\u001b[39m\n",
      "\u001b[32m  ✓ \u001b[39m\u001b[90mXorg_libX11_jll\u001b[39m\n",
      "\u001b[32m  ✓ \u001b[39m\u001b[90mXorg_xcb_util_jll\u001b[39m\n",
      "\u001b[32m  ✓ \u001b[39m\u001b[90mXorg_libXfixes_jll\u001b[39m\n",
      "\u001b[32m  ✓ \u001b[39m\u001b[90mXorg_libxkbfile_jll\u001b[39m\n",
      "\u001b[32m  ✓ \u001b[39m\u001b[90mXorg_libXext_jll\u001b[39m\n",
      "\u001b[32m  ✓ \u001b[39m\u001b[90mColors\u001b[39m\n",
      "\u001b[32m  ✓ \u001b[39m\u001b[90mXorg_libXrender_jll\u001b[39m\n",
      "\u001b[32m  ✓ \u001b[39m\u001b[90mXorg_xcb_util_image_jll\u001b[39m\n",
      "\u001b[32m  ✓ \u001b[39m\u001b[90mXorg_xkbcomp_jll\u001b[39m\n",
      "\u001b[32m  ✓ \u001b[39m\u001b[90mXorg_xcb_util_keysyms_jll\u001b[39m\n",
      "\u001b[32m  ✓ \u001b[39m\u001b[90mXorg_xcb_util_wm_jll\u001b[39m\n",
      "\u001b[32m  ✓ \u001b[39m\u001b[90mXorg_xcb_util_renderutil_jll\u001b[39m\n",
      "\u001b[32m  ✓ \u001b[39m\u001b[90mLibglvnd_jll\u001b[39m\n",
      "\u001b[32m  ✓ \u001b[39m\u001b[90mXorg_libXi_jll\u001b[39m\n",
      "\u001b[32m  ✓ \u001b[39m\u001b[90mXorg_libXinerama_jll\u001b[39m\n",
      "\u001b[32m  ✓ \u001b[39m\u001b[90mCairo_jll\u001b[39m\n",
      "\u001b[32m  ✓ \u001b[39m\u001b[90mXorg_libXrandr_jll\u001b[39m\n",
      "\u001b[32m  ✓ \u001b[39m\u001b[90mXorg_xkeyboard_config_jll\u001b[39m\n",
      "\u001b[32m  ✓ \u001b[39m\u001b[90mXorg_libXcursor_jll\u001b[39m\n",
      "\u001b[32m  ✓ \u001b[39m\u001b[90mHarfBuzz_jll\u001b[39m\n",
      "\u001b[32m  ✓ \u001b[39m\u001b[90mxkbcommon_jll\u001b[39m\n",
      "\u001b[32m  ✓ \u001b[39m\u001b[90mGLFW_jll\u001b[39m\n",
      "\u001b[32m  ✓ \u001b[39m\u001b[90mlibass_jll\u001b[39m\n",
      "\u001b[32m  ✓ \u001b[39m\u001b[90mQt5Base_jll\u001b[39m\n",
      "\u001b[32m  ✓ \u001b[39m\u001b[90mFFMPEG_jll\u001b[39m\n",
      "\u001b[32m  ✓ \u001b[39m\u001b[90mFFMPEG\u001b[39m\n",
      "\u001b[32m  ✓ \u001b[39m\u001b[90mGR_jll\u001b[39m\n",
      "\u001b[32m  ✓ \u001b[39m\u001b[90mColorSchemes\u001b[39m\n",
      "\u001b[32m  ✓ \u001b[39m\u001b[90mGR\u001b[39m\n",
      "\u001b[32m  ✓ \u001b[39m\u001b[90mPlotUtils\u001b[39m\n",
      "\u001b[32m  ✓ \u001b[39m\u001b[90mRecipesPipeline\u001b[39m\n",
      "\u001b[32m  ✓ \u001b[39m\u001b[90mPlotThemes\u001b[39m\n",
      "\u001b[32m  ✓ \u001b[39mPlots\n",
      "  106 dependencies successfully precompiled in 106 seconds. 45 already precompiled.\n",
      "\u001b[32m\u001b[1m   Resolving\u001b[22m\u001b[39m package versions...\n",
      "\u001b[32m\u001b[1m   Installed\u001b[22m\u001b[39m SentinelArrays ────────────── v1.3.18\n",
      "\u001b[32m\u001b[1m   Installed\u001b[22m\u001b[39m WorkerUtilities ───────────── v1.6.1\n",
      "\u001b[32m\u001b[1m   Installed\u001b[22m\u001b[39m DataValueInterfaces ───────── v1.0.0\n",
      "\u001b[32m\u001b[1m   Installed\u001b[22m\u001b[39m InlineStrings ─────────────── v1.4.0\n",
      "\u001b[32m\u001b[1m   Installed\u001b[22m\u001b[39m WeakRefStrings ────────────── v1.4.2\n",
      "\u001b[32m\u001b[1m   Installed\u001b[22m\u001b[39m PooledArrays ──────────────── v1.4.2\n",
      "\u001b[32m\u001b[1m   Installed\u001b[22m\u001b[39m TableTraits ───────────────── v1.0.1\n",
      "\u001b[32m\u001b[1m   Installed\u001b[22m\u001b[39m Tables ────────────────────── v1.10.1\n",
      "\u001b[32m\u001b[1m   Installed\u001b[22m\u001b[39m IteratorInterfaceExtensions ─ v1.0.0\n",
      "\u001b[32m\u001b[1m   Installed\u001b[22m\u001b[39m FilePathsBase ─────────────── v0.9.20\n",
      "\u001b[32m\u001b[1m   Installed\u001b[22m\u001b[39m CSV ───────────────────────── v0.10.9\n",
      "\u001b[32m\u001b[1m    Updating\u001b[22m\u001b[39m `C:\\Users\\a\\.julia\\environments\\v1.8\\Project.toml`\n",
      " \u001b[90m [336ed68f] \u001b[39m\u001b[92m+ CSV v0.10.9\u001b[39m\n",
      "\u001b[32m\u001b[1m    Updating\u001b[22m\u001b[39m `C:\\Users\\a\\.julia\\environments\\v1.8\\Manifest.toml`\n",
      " \u001b[90m [336ed68f] \u001b[39m\u001b[92m+ CSV v0.10.9\u001b[39m\n",
      " \u001b[90m [e2d170a0] \u001b[39m\u001b[92m+ DataValueInterfaces v1.0.0\u001b[39m\n",
      " \u001b[90m [48062228] \u001b[39m\u001b[92m+ FilePathsBase v0.9.20\u001b[39m\n",
      " \u001b[90m [842dd82b] \u001b[39m\u001b[92m+ InlineStrings v1.4.0\u001b[39m\n",
      " \u001b[90m [82899510] \u001b[39m\u001b[92m+ IteratorInterfaceExtensions v1.0.0\u001b[39m\n",
      " \u001b[90m [2dfb63ee] \u001b[39m\u001b[92m+ PooledArrays v1.4.2\u001b[39m\n",
      " \u001b[90m [91c51154] \u001b[39m\u001b[92m+ SentinelArrays v1.3.18\u001b[39m\n",
      " \u001b[90m [3783bdb8] \u001b[39m\u001b[92m+ TableTraits v1.0.1\u001b[39m\n",
      " \u001b[90m [bd369af6] \u001b[39m\u001b[92m+ Tables v1.10.1\u001b[39m\n",
      " \u001b[90m [ea10d353] \u001b[39m\u001b[92m+ WeakRefStrings v1.4.2\u001b[39m\n",
      " \u001b[90m [76eceee3] \u001b[39m\u001b[92m+ WorkerUtilities v1.6.1\u001b[39m\n",
      " \u001b[90m [9fa8497b] \u001b[39m\u001b[92m+ Future\u001b[39m\n",
      "\u001b[32m\u001b[1mPrecompiling\u001b[22m\u001b[39m project...\n",
      "\u001b[32m  ✓ \u001b[39m\u001b[90mIteratorInterfaceExtensions\u001b[39m\n",
      "\u001b[32m  ✓ \u001b[39m\u001b[90mDataValueInterfaces\u001b[39m\n",
      "\u001b[32m  ✓ \u001b[39m\u001b[90mWorkerUtilities\u001b[39m\n",
      "\u001b[32m  ✓ \u001b[39m\u001b[90mTableTraits\u001b[39m\n",
      "\u001b[32m  ✓ \u001b[39m\u001b[90mPooledArrays\u001b[39m\n",
      "\u001b[32m  ✓ \u001b[39m\u001b[90mSentinelArrays\u001b[39m\n",
      "\u001b[32m  ✓ \u001b[39m\u001b[90mFilePathsBase\u001b[39m\n",
      "\u001b[32m  ✓ \u001b[39m\u001b[90mTables\u001b[39m\n",
      "\u001b[32m  ✓ \u001b[39m\u001b[90mInlineStrings\u001b[39m\n",
      "\u001b[32m  ✓ \u001b[39m\u001b[90mWeakRefStrings\u001b[39m\n",
      "\u001b[32m  ✓ \u001b[39mCSV\n",
      "  11 dependencies successfully precompiled in 18 seconds. 151 already precompiled.\n",
      "\u001b[32m\u001b[1m   Resolving\u001b[22m\u001b[39m package versions...\n",
      "\u001b[32m\u001b[1m   Installed\u001b[22m\u001b[39m InvertedIndices ──── v1.3.0\n",
      "\u001b[32m\u001b[1m   Installed\u001b[22m\u001b[39m Crayons ──────────── v4.1.1\n",
      "\u001b[32m\u001b[1m   Installed\u001b[22m\u001b[39m StringManipulation ─ v0.3.0\n",
      "\u001b[32m\u001b[1m   Installed\u001b[22m\u001b[39m DataFrames ───────── v1.5.0\n",
      "\u001b[32m\u001b[1m   Installed\u001b[22m\u001b[39m PrettyTables ─────── v2.2.3\n",
      "\u001b[32m\u001b[1m    Updating\u001b[22m\u001b[39m `C:\\Users\\a\\.julia\\environments\\v1.8\\Project.toml`\n",
      " \u001b[90m [a93c6f00] \u001b[39m\u001b[92m+ DataFrames v1.5.0\u001b[39m\n",
      "\u001b[32m\u001b[1m    Updating\u001b[22m\u001b[39m `C:\\Users\\a\\.julia\\environments\\v1.8\\Manifest.toml`\n",
      " \u001b[90m [a8cc5b0e] \u001b[39m\u001b[92m+ Crayons v4.1.1\u001b[39m\n",
      " \u001b[90m [a93c6f00] \u001b[39m\u001b[92m+ DataFrames v1.5.0\u001b[39m\n",
      " \u001b[90m [41ab1584] \u001b[39m\u001b[92m+ InvertedIndices v1.3.0\u001b[39m\n",
      " \u001b[90m [08abe8d2] \u001b[39m\u001b[92m+ PrettyTables v2.2.3\u001b[39m\n",
      " \u001b[90m [892a3eda] \u001b[39m\u001b[92m+ StringManipulation v0.3.0\u001b[39m\n",
      "\u001b[32m\u001b[1mPrecompiling\u001b[22m\u001b[39m project...\n",
      "\u001b[32m  ✓ \u001b[39m\u001b[90mInvertedIndices\u001b[39m\n",
      "\u001b[32m  ✓ \u001b[39m\u001b[90mCrayons\u001b[39m\n",
      "\u001b[32m  ✓ \u001b[39m\u001b[90mStringManipulation\u001b[39m\n",
      "\u001b[32m  ✓ \u001b[39m\u001b[90mPrettyTables\u001b[39m\n",
      "\u001b[32m  ✓ \u001b[39mDataFrames\n",
      "  5 dependencies successfully precompiled in 45 seconds. 162 already precompiled.\n"
     ]
    }
   ],
   "source": [
    "Pkg.add(\"Polynomials\")\n",
    "Pkg.add(\"SpecialPolynomials\")\n",
    "Pkg.add(\"Plots\")\n",
    "Pkg.add(\"CSV\")\n",
    "Pkg.add(\"DataFrames\")"
   ]
  },
  {
   "cell_type": "code",
   "execution_count": 3,
   "metadata": {},
   "outputs": [],
   "source": [
    "using Polynomials\n",
    "using SpecialPolynomials\n",
    "using Plots\n",
    "using LinearAlgebra\n",
    "using CSV\n",
    "using DataFrames"
   ]
  },
  {
   "cell_type": "markdown",
   "metadata": {},
   "source": [
    "## Teoria"
   ]
  },
  {
   "cell_type": "markdown",
   "metadata": {},
   "source": [
    "**Wielomiany ortogonalne** to rodzina wielomianów, w których iloczyn skalarny dwóch róznych wielomianów jest równa 0.\n",
    "\n",
    "Jeżeli dodatkowo iloczyn skalarny wielomianu \"przez siebie\" jest równy 1, to nazywamy je **wielomianami ortonormalnymi**\n",
    "\n",
    "Iloczyn skalarny wielomianów można zdefiniować jako:\n",
    "\n",
    "$<P_m,P_n>=\\int_a^b P_n(x)P_m(x)W(x)dx = 0$\n",
    "\n",
    "Funkcja *W* jest nazywana *funkcją wagową*."
   ]
  },
  {
   "cell_type": "markdown",
   "metadata": {},
   "source": [
    "### Przykładowe rodziny wielomianów ortogonalnych"
   ]
  },
  {
   "cell_type": "markdown",
   "metadata": {},
   "source": [
    "| Nazwa                | Przedział       | Funkcja wagowa           | Zastosowanie                                           | Parzystość                                                     |\n",
    "|----------------------|-----------------|--------------------------|--------------------------------------------------------|----------------------------------------------------------------|\n",
    "| Czebyszewa (1 rzędu) | [-1,1]          | $\\frac{1}{\\sqrt{1-x^2}}$ | Zera wielomianu jako węzły interpolacji wielomianowej  | Dla parzystego k - parzyste, dla nieparzystego k - nieparzyste |\n",
    "| Legendre             | [-1,1]          | 1                        | Zera wielomianu jako węzły kwadratur Gaussa-Legendre'a | jw                                                             |\n",
    "| Hermite              | [$-\\infty$,$\\infty$] | $\\exp(-x^2)$             | Zera wielomianu jako węzły kwadratur Gaussa-Hermite'a  | jw                                                             |\n",
    "| Laguerre             | [0,$\\infty$]      | $\\exp(-x)$               | Zera wielomianu jako węzły kwadratur Gaussa-Laguerra'a | brak                                                           |\n"
   ]
  },
  {
   "cell_type": "markdown",
   "metadata": {},
   "source": [
    "### Wielomiany Hermite'a"
   ]
  },
  {
   "cell_type": "markdown",
   "metadata": {},
   "source": [
    "Zdefiniowane są rekurencyjnie jako:\n",
    "\n",
    "$H_0(x) = 1$\n",
    "\n",
    "$H_1(x) = 2x$\n",
    "\n",
    "$H_{n+1}(x) = 2xH_n(x)-2nH_{n-1}$"
   ]
  },
  {
   "cell_type": "markdown",
   "metadata": {},
   "source": [
    "Wykres przykładowego wielomianu (tutaj 3 stopnia)"
   ]
  },
  {
   "cell_type": "code",
   "execution_count": 6,
   "metadata": {},
   "outputs": [
    {
     "data": {
      "image/svg+xml": [
       "<?xml version=\"1.0\" encoding=\"utf-8\"?>\n",
       "<svg xmlns=\"http://www.w3.org/2000/svg\" xmlns:xlink=\"http://www.w3.org/1999/xlink\" width=\"600\" height=\"400\" viewBox=\"0 0 2400 1600\">\n",
       "<defs>\n",
       "  <clipPath id=\"clip320\">\n",
       "    <rect x=\"0\" y=\"0\" width=\"2400\" height=\"1600\"/>\n",
       "  </clipPath>\n",
       "</defs>\n",
       "<path clip-path=\"url(#clip320)\" d=\"M0 1600 L2400 1600 L2400 0 L0 0  Z\" fill=\"#ffffff\" fill-rule=\"evenodd\" fill-opacity=\"1\"/>\n",
       "<defs>\n",
       "  <clipPath id=\"clip321\">\n",
       "    <rect x=\"480\" y=\"0\" width=\"1681\" height=\"1600\"/>\n",
       "  </clipPath>\n",
       "</defs>\n",
       "<path clip-path=\"url(#clip320)\" d=\"M178.867 1486.45 L2352.76 1486.45 L2352.76 47.2441 L178.867 47.2441  Z\" fill=\"#ffffff\" fill-rule=\"evenodd\" fill-opacity=\"1\"/>\n",
       "<defs>\n",
       "  <clipPath id=\"clip322\">\n",
       "    <rect x=\"178\" y=\"47\" width=\"2175\" height=\"1440\"/>\n",
       "  </clipPath>\n",
       "</defs>\n",
       "<polyline clip-path=\"url(#clip322)\" style=\"stroke:#000000; stroke-linecap:round; stroke-linejoin:round; stroke-width:2; stroke-opacity:0.1; fill:none\" points=\"240.392,1486.45 240.392,47.2441 \"/>\n",
       "<polyline clip-path=\"url(#clip322)\" style=\"stroke:#000000; stroke-linecap:round; stroke-linejoin:round; stroke-width:2; stroke-opacity:0.1; fill:none\" points=\"753.102,1486.45 753.102,47.2441 \"/>\n",
       "<polyline clip-path=\"url(#clip322)\" style=\"stroke:#000000; stroke-linecap:round; stroke-linejoin:round; stroke-width:2; stroke-opacity:0.1; fill:none\" points=\"1265.81,1486.45 1265.81,47.2441 \"/>\n",
       "<polyline clip-path=\"url(#clip322)\" style=\"stroke:#000000; stroke-linecap:round; stroke-linejoin:round; stroke-width:2; stroke-opacity:0.1; fill:none\" points=\"1778.52,1486.45 1778.52,47.2441 \"/>\n",
       "<polyline clip-path=\"url(#clip322)\" style=\"stroke:#000000; stroke-linecap:round; stroke-linejoin:round; stroke-width:2; stroke-opacity:0.1; fill:none\" points=\"2291.23,1486.45 2291.23,47.2441 \"/>\n",
       "<polyline clip-path=\"url(#clip320)\" style=\"stroke:#000000; stroke-linecap:round; stroke-linejoin:round; stroke-width:4; stroke-opacity:1; fill:none\" points=\"178.867,1486.45 2352.76,1486.45 \"/>\n",
       "<polyline clip-path=\"url(#clip320)\" style=\"stroke:#000000; stroke-linecap:round; stroke-linejoin:round; stroke-width:4; stroke-opacity:1; fill:none\" points=\"240.392,1486.45 240.392,1467.55 \"/>\n",
       "<polyline clip-path=\"url(#clip320)\" style=\"stroke:#000000; stroke-linecap:round; stroke-linejoin:round; stroke-width:4; stroke-opacity:1; fill:none\" points=\"753.102,1486.45 753.102,1467.55 \"/>\n",
       "<polyline clip-path=\"url(#clip320)\" style=\"stroke:#000000; stroke-linecap:round; stroke-linejoin:round; stroke-width:4; stroke-opacity:1; fill:none\" points=\"1265.81,1486.45 1265.81,1467.55 \"/>\n",
       "<polyline clip-path=\"url(#clip320)\" style=\"stroke:#000000; stroke-linecap:round; stroke-linejoin:round; stroke-width:4; stroke-opacity:1; fill:none\" points=\"1778.52,1486.45 1778.52,1467.55 \"/>\n",
       "<polyline clip-path=\"url(#clip320)\" style=\"stroke:#000000; stroke-linecap:round; stroke-linejoin:round; stroke-width:4; stroke-opacity:1; fill:none\" points=\"2291.23,1486.45 2291.23,1467.55 \"/>\n",
       "<path clip-path=\"url(#clip320)\" d=\"M210.334 1532.02 L240.01 1532.02 L240.01 1535.95 L210.334 1535.95 L210.334 1532.02 Z\" fill=\"#000000\" fill-rule=\"nonzero\" fill-opacity=\"1\" /><path clip-path=\"url(#clip320)\" d=\"M254.13 1544.91 L270.45 1544.91 L270.45 1548.85 L248.505 1548.85 L248.505 1544.91 Q251.167 1542.16 255.751 1537.53 Q260.357 1532.88 261.538 1531.53 Q263.783 1529.01 264.663 1527.27 Q265.565 1525.51 265.565 1523.82 Q265.565 1521.07 263.621 1519.33 Q261.7 1517.6 258.598 1517.6 Q256.399 1517.6 253.945 1518.36 Q251.514 1519.13 248.737 1520.68 L248.737 1515.95 Q251.561 1514.82 254.014 1514.24 Q256.468 1513.66 258.505 1513.66 Q263.875 1513.66 267.07 1516.35 Q270.264 1519.03 270.264 1523.52 Q270.264 1525.65 269.454 1527.57 Q268.667 1529.47 266.561 1532.07 Q265.982 1532.74 262.88 1535.95 Q259.778 1539.15 254.13 1544.91 Z\" fill=\"#000000\" fill-rule=\"nonzero\" fill-opacity=\"1\" /><path clip-path=\"url(#clip320)\" d=\"M722.859 1532.02 L752.534 1532.02 L752.534 1535.95 L722.859 1535.95 L722.859 1532.02 Z\" fill=\"#000000\" fill-rule=\"nonzero\" fill-opacity=\"1\" /><path clip-path=\"url(#clip320)\" d=\"M763.437 1544.91 L771.076 1544.91 L771.076 1518.55 L762.766 1520.21 L762.766 1515.95 L771.03 1514.29 L775.706 1514.29 L775.706 1544.91 L783.344 1544.91 L783.344 1548.85 L763.437 1548.85 L763.437 1544.91 Z\" fill=\"#000000\" fill-rule=\"nonzero\" fill-opacity=\"1\" /><path clip-path=\"url(#clip320)\" d=\"M1265.81 1517.37 Q1262.2 1517.37 1260.37 1520.93 Q1258.57 1524.47 1258.57 1531.6 Q1258.57 1538.71 1260.37 1542.27 Q1262.2 1545.82 1265.81 1545.82 Q1269.45 1545.82 1271.25 1542.27 Q1273.08 1538.71 1273.08 1531.6 Q1273.08 1524.47 1271.25 1520.93 Q1269.45 1517.37 1265.81 1517.37 M1265.81 1513.66 Q1271.62 1513.66 1274.68 1518.27 Q1277.76 1522.85 1277.76 1531.6 Q1277.76 1540.33 1274.68 1544.94 Q1271.62 1549.52 1265.81 1549.52 Q1260 1549.52 1256.92 1544.94 Q1253.87 1540.33 1253.87 1531.6 Q1253.87 1522.85 1256.92 1518.27 Q1260 1513.66 1265.81 1513.66 Z\" fill=\"#000000\" fill-rule=\"nonzero\" fill-opacity=\"1\" /><path clip-path=\"url(#clip320)\" d=\"M1768.9 1544.91 L1776.54 1544.91 L1776.54 1518.55 L1768.23 1520.21 L1768.23 1515.95 L1776.5 1514.29 L1781.17 1514.29 L1781.17 1544.91 L1788.81 1544.91 L1788.81 1548.85 L1768.9 1548.85 L1768.9 1544.91 Z\" fill=\"#000000\" fill-rule=\"nonzero\" fill-opacity=\"1\" /><path clip-path=\"url(#clip320)\" d=\"M2285.88 1544.91 L2302.2 1544.91 L2302.2 1548.85 L2280.26 1548.85 L2280.26 1544.91 Q2282.92 1542.16 2287.5 1537.53 Q2292.11 1532.88 2293.29 1531.53 Q2295.54 1529.01 2296.42 1527.27 Q2297.32 1525.51 2297.32 1523.82 Q2297.32 1521.07 2295.37 1519.33 Q2293.45 1517.6 2290.35 1517.6 Q2288.15 1517.6 2285.7 1518.36 Q2283.27 1519.13 2280.49 1520.68 L2280.49 1515.95 Q2283.31 1514.82 2285.77 1514.24 Q2288.22 1513.66 2290.26 1513.66 Q2295.63 1513.66 2298.82 1516.35 Q2302.02 1519.03 2302.02 1523.52 Q2302.02 1525.65 2301.21 1527.57 Q2300.42 1529.47 2298.31 1532.07 Q2297.74 1532.74 2294.63 1535.95 Q2291.53 1539.15 2285.88 1544.91 Z\" fill=\"#000000\" fill-rule=\"nonzero\" fill-opacity=\"1\" /><polyline clip-path=\"url(#clip322)\" style=\"stroke:#000000; stroke-linecap:round; stroke-linejoin:round; stroke-width:2; stroke-opacity:0.1; fill:none\" points=\"178.867,1445.72 2352.76,1445.72 \"/>\n",
       "<polyline clip-path=\"url(#clip322)\" style=\"stroke:#000000; stroke-linecap:round; stroke-linejoin:round; stroke-width:2; stroke-opacity:0.1; fill:none\" points=\"178.867,1106.28 2352.76,1106.28 \"/>\n",
       "<polyline clip-path=\"url(#clip322)\" style=\"stroke:#000000; stroke-linecap:round; stroke-linejoin:round; stroke-width:2; stroke-opacity:0.1; fill:none\" points=\"178.867,766.846 2352.76,766.846 \"/>\n",
       "<polyline clip-path=\"url(#clip322)\" style=\"stroke:#000000; stroke-linecap:round; stroke-linejoin:round; stroke-width:2; stroke-opacity:0.1; fill:none\" points=\"178.867,427.411 2352.76,427.411 \"/>\n",
       "<polyline clip-path=\"url(#clip322)\" style=\"stroke:#000000; stroke-linecap:round; stroke-linejoin:round; stroke-width:2; stroke-opacity:0.1; fill:none\" points=\"178.867,87.9763 2352.76,87.9763 \"/>\n",
       "<polyline clip-path=\"url(#clip320)\" style=\"stroke:#000000; stroke-linecap:round; stroke-linejoin:round; stroke-width:4; stroke-opacity:1; fill:none\" points=\"178.867,1486.45 178.867,47.2441 \"/>\n",
       "<polyline clip-path=\"url(#clip320)\" style=\"stroke:#000000; stroke-linecap:round; stroke-linejoin:round; stroke-width:4; stroke-opacity:1; fill:none\" points=\"178.867,1445.72 197.764,1445.72 \"/>\n",
       "<polyline clip-path=\"url(#clip320)\" style=\"stroke:#000000; stroke-linecap:round; stroke-linejoin:round; stroke-width:4; stroke-opacity:1; fill:none\" points=\"178.867,1106.28 197.764,1106.28 \"/>\n",
       "<polyline clip-path=\"url(#clip320)\" style=\"stroke:#000000; stroke-linecap:round; stroke-linejoin:round; stroke-width:4; stroke-opacity:1; fill:none\" points=\"178.867,766.846 197.764,766.846 \"/>\n",
       "<polyline clip-path=\"url(#clip320)\" style=\"stroke:#000000; stroke-linecap:round; stroke-linejoin:round; stroke-width:4; stroke-opacity:1; fill:none\" points=\"178.867,427.411 197.764,427.411 \"/>\n",
       "<polyline clip-path=\"url(#clip320)\" style=\"stroke:#000000; stroke-linecap:round; stroke-linejoin:round; stroke-width:4; stroke-opacity:1; fill:none\" points=\"178.867,87.9763 197.764,87.9763 \"/>\n",
       "<path clip-path=\"url(#clip320)\" d=\"M50.9921 1446.17 L80.6679 1446.17 L80.6679 1450.1 L50.9921 1450.1 L50.9921 1446.17 Z\" fill=\"#000000\" fill-rule=\"nonzero\" fill-opacity=\"1\" /><path clip-path=\"url(#clip320)\" d=\"M103.608 1432.51 L91.8021 1450.96 L103.608 1450.96 L103.608 1432.51 M102.381 1428.44 L108.26 1428.44 L108.26 1450.96 L113.191 1450.96 L113.191 1454.85 L108.26 1454.85 L108.26 1463 L103.608 1463 L103.608 1454.85 L88.0058 1454.85 L88.0058 1450.33 L102.381 1428.44 Z\" fill=\"#000000\" fill-rule=\"nonzero\" fill-opacity=\"1\" /><path clip-path=\"url(#clip320)\" d=\"M130.922 1431.51 Q127.311 1431.51 125.482 1435.08 Q123.677 1438.62 123.677 1445.75 Q123.677 1452.86 125.482 1456.42 Q127.311 1459.96 130.922 1459.96 Q134.556 1459.96 136.362 1456.42 Q138.191 1452.86 138.191 1445.75 Q138.191 1438.62 136.362 1435.08 Q134.556 1431.51 130.922 1431.51 M130.922 1427.81 Q136.732 1427.81 139.788 1432.42 Q142.867 1437 142.867 1445.75 Q142.867 1454.48 139.788 1459.08 Q136.732 1463.67 130.922 1463.67 Q125.112 1463.67 122.033 1459.08 Q118.978 1454.48 118.978 1445.75 Q118.978 1437 122.033 1432.42 Q125.112 1427.81 130.922 1427.81 Z\" fill=\"#000000\" fill-rule=\"nonzero\" fill-opacity=\"1\" /><path clip-path=\"url(#clip320)\" d=\"M50.9921 1106.73 L80.6679 1106.73 L80.6679 1110.67 L50.9921 1110.67 L50.9921 1106.73 Z\" fill=\"#000000\" fill-rule=\"nonzero\" fill-opacity=\"1\" /><path clip-path=\"url(#clip320)\" d=\"M94.7882 1119.63 L111.108 1119.63 L111.108 1123.56 L89.1632 1123.56 L89.1632 1119.63 Q91.8252 1116.87 96.4085 1112.24 Q101.015 1107.59 102.196 1106.25 Q104.441 1103.72 105.321 1101.99 Q106.223 1100.23 106.223 1098.54 Q106.223 1095.78 104.279 1094.05 Q102.358 1092.31 99.2558 1092.31 Q97.0567 1092.31 94.603 1093.07 Q92.1725 1093.84 89.3947 1095.39 L89.3947 1090.67 Q92.2188 1089.53 94.6724 1088.95 Q97.1261 1088.38 99.1632 1088.38 Q104.534 1088.38 107.728 1091.06 Q110.922 1093.75 110.922 1098.24 Q110.922 1100.37 110.112 1102.29 Q109.325 1104.19 107.219 1106.78 Q106.64 1107.45 103.538 1110.67 Q100.436 1113.86 94.7882 1119.63 Z\" fill=\"#000000\" fill-rule=\"nonzero\" fill-opacity=\"1\" /><path clip-path=\"url(#clip320)\" d=\"M130.922 1092.08 Q127.311 1092.08 125.482 1095.64 Q123.677 1099.19 123.677 1106.32 Q123.677 1113.42 125.482 1116.99 Q127.311 1120.53 130.922 1120.53 Q134.556 1120.53 136.362 1116.99 Q138.191 1113.42 138.191 1106.32 Q138.191 1099.19 136.362 1095.64 Q134.556 1092.08 130.922 1092.08 M130.922 1088.38 Q136.732 1088.38 139.788 1092.98 Q142.867 1097.57 142.867 1106.32 Q142.867 1115.04 139.788 1119.65 Q136.732 1124.23 130.922 1124.23 Q125.112 1124.23 122.033 1119.65 Q118.978 1115.04 118.978 1106.32 Q118.978 1097.57 122.033 1092.98 Q125.112 1088.38 130.922 1088.38 Z\" fill=\"#000000\" fill-rule=\"nonzero\" fill-opacity=\"1\" /><path clip-path=\"url(#clip320)\" d=\"M130.922 752.645 Q127.311 752.645 125.482 756.209 Q123.677 759.751 123.677 766.881 Q123.677 773.987 125.482 777.552 Q127.311 781.094 130.922 781.094 Q134.556 781.094 136.362 777.552 Q138.191 773.987 138.191 766.881 Q138.191 759.751 136.362 756.209 Q134.556 752.645 130.922 752.645 M130.922 748.941 Q136.732 748.941 139.788 753.547 Q142.867 758.131 142.867 766.881 Q142.867 775.608 139.788 780.214 Q136.732 784.797 130.922 784.797 Q125.112 784.797 122.033 780.214 Q118.978 775.608 118.978 766.881 Q118.978 758.131 122.033 753.547 Q125.112 748.941 130.922 748.941 Z\" fill=\"#000000\" fill-rule=\"nonzero\" fill-opacity=\"1\" /><path clip-path=\"url(#clip320)\" d=\"M94.7882 440.756 L111.108 440.756 L111.108 444.691 L89.1632 444.691 L89.1632 440.756 Q91.8252 438.001 96.4085 433.372 Q101.015 428.719 102.196 427.376 Q104.441 424.853 105.321 423.117 Q106.223 421.358 106.223 419.668 Q106.223 416.914 104.279 415.177 Q102.358 413.441 99.2558 413.441 Q97.0567 413.441 94.603 414.205 Q92.1725 414.969 89.3947 416.52 L89.3947 411.798 Q92.2188 410.664 94.6724 410.085 Q97.1261 409.506 99.1632 409.506 Q104.534 409.506 107.728 412.191 Q110.922 414.876 110.922 419.367 Q110.922 421.497 110.112 423.418 Q109.325 425.316 107.219 427.909 Q106.64 428.58 103.538 431.798 Q100.436 434.992 94.7882 440.756 Z\" fill=\"#000000\" fill-rule=\"nonzero\" fill-opacity=\"1\" /><path clip-path=\"url(#clip320)\" d=\"M130.922 413.21 Q127.311 413.21 125.482 416.775 Q123.677 420.316 123.677 427.446 Q123.677 434.552 125.482 438.117 Q127.311 441.659 130.922 441.659 Q134.556 441.659 136.362 438.117 Q138.191 434.552 138.191 427.446 Q138.191 420.316 136.362 416.775 Q134.556 413.21 130.922 413.21 M130.922 409.506 Q136.732 409.506 139.788 414.113 Q142.867 418.696 142.867 427.446 Q142.867 436.173 139.788 440.779 Q136.732 445.362 130.922 445.362 Q125.112 445.362 122.033 440.779 Q118.978 436.173 118.978 427.446 Q118.978 418.696 122.033 414.113 Q125.112 409.506 130.922 409.506 Z\" fill=\"#000000\" fill-rule=\"nonzero\" fill-opacity=\"1\" /><path clip-path=\"url(#clip320)\" d=\"M103.608 74.7703 L91.8021 93.2193 L103.608 93.2193 L103.608 74.7703 M102.381 70.6963 L108.26 70.6963 L108.26 93.2193 L113.191 93.2193 L113.191 97.1082 L108.26 97.1082 L108.26 105.256 L103.608 105.256 L103.608 97.1082 L88.0058 97.1082 L88.0058 92.5943 L102.381 70.6963 Z\" fill=\"#000000\" fill-rule=\"nonzero\" fill-opacity=\"1\" /><path clip-path=\"url(#clip320)\" d=\"M130.922 73.775 Q127.311 73.775 125.482 77.3398 Q123.677 80.8814 123.677 88.011 Q123.677 95.1174 125.482 98.6822 Q127.311 102.224 130.922 102.224 Q134.556 102.224 136.362 98.6822 Q138.191 95.1174 138.191 88.011 Q138.191 80.8814 136.362 77.3398 Q134.556 73.775 130.922 73.775 M130.922 70.0713 Q136.732 70.0713 139.788 74.6777 Q142.867 79.261 142.867 88.011 Q142.867 96.7378 139.788 101.344 Q136.732 105.928 130.922 105.928 Q125.112 105.928 122.033 101.344 Q118.978 96.7378 118.978 88.011 Q118.978 79.261 122.033 74.6777 Q125.112 70.0713 130.922 70.0713 Z\" fill=\"#000000\" fill-rule=\"nonzero\" fill-opacity=\"1\" /><polyline clip-path=\"url(#clip322)\" style=\"stroke:#009af9; stroke-linecap:round; stroke-linejoin:round; stroke-width:4; stroke-opacity:1; fill:none\" points=\"240.392,1445.72 260.9,1389.99 281.409,1336.81 301.917,1286.14 322.425,1237.91 342.934,1192.09 363.442,1148.61 383.951,1107.43 404.459,1068.49 424.967,1031.73 445.476,997.119 465.984,964.589 486.492,934.093 507.001,905.579 527.509,878.993 548.018,854.284 568.526,831.401 589.034,810.289 609.543,790.899 630.051,773.176 650.56,757.07 671.068,742.528 691.576,729.498 712.085,717.928 732.593,707.766 753.102,698.959 773.61,691.456 794.118,685.203 814.627,680.151 835.135,676.245 855.643,673.434 876.152,671.665 896.66,670.887 917.169,671.048 937.677,672.095 958.185,673.977 978.694,676.64 999.202,680.033 1019.71,684.104 1040.22,688.801 1060.73,694.071 1081.24,699.863 1101.74,706.124 1122.25,712.801 1142.76,719.844 1163.27,727.2 1183.78,734.816 1204.29,742.641 1224.79,750.623 1245.3,758.708 1265.81,766.846 1286.32,774.984 1306.83,783.069 1327.34,791.051 1347.84,798.876 1368.35,806.492 1388.86,813.848 1409.37,820.891 1429.88,827.568 1450.39,833.829 1470.9,839.621 1491.4,844.891 1511.91,849.588 1532.42,853.659 1552.93,857.052 1573.44,859.715 1593.95,861.597 1614.45,862.644 1634.96,862.804 1655.47,862.027 1675.98,860.258 1696.49,857.447 1717,853.541 1737.5,848.488 1758.01,842.236 1778.52,834.733 1799.03,825.926 1819.54,815.764 1840.05,804.194 1860.55,791.164 1881.06,776.622 1901.57,760.516 1922.08,742.793 1942.59,723.403 1963.1,702.291 1983.6,679.408 2004.11,654.699 2024.62,628.113 2045.13,599.599 2065.64,569.103 2086.15,536.573 2106.66,501.959 2127.16,465.206 2147.67,426.264 2168.18,385.08 2188.69,341.602 2209.2,295.778 2229.71,247.555 2250.21,196.882 2270.72,143.707 2291.23,87.9763 \"/>\n",
       "<path clip-path=\"url(#clip320)\" d=\"M251.33 198.898 L624.366 198.898 L624.366 95.2176 L251.33 95.2176  Z\" fill=\"#ffffff\" fill-rule=\"evenodd\" fill-opacity=\"1\"/>\n",
       "<polyline clip-path=\"url(#clip320)\" style=\"stroke:#000000; stroke-linecap:round; stroke-linejoin:round; stroke-width:4; stroke-opacity:1; fill:none\" points=\"251.33,198.898 624.366,198.898 624.366,95.2176 251.33,95.2176 251.33,198.898 \"/>\n",
       "<polyline clip-path=\"url(#clip320)\" style=\"stroke:#009af9; stroke-linecap:round; stroke-linejoin:round; stroke-width:4; stroke-opacity:1; fill:none\" points=\"275.484,147.058 420.41,147.058 \"/>\n",
       "<path clip-path=\"url(#clip320)\" d=\"M445.236 160.402 L452.874 160.402 L452.874 134.037 L444.564 135.703 L444.564 131.444 L452.828 129.778 L457.504 129.778 L457.504 160.402 L465.143 160.402 L465.143 164.338 L445.236 164.338 L445.236 160.402 Z\" fill=\"#000000\" fill-rule=\"nonzero\" fill-opacity=\"1\" /><path clip-path=\"url(#clip320)\" d=\"M474.587 144.94 L479.471 144.94 L479.471 150.819 L474.587 150.819 L474.587 144.94 Z\" fill=\"#000000\" fill-rule=\"nonzero\" fill-opacity=\"1\" /><path clip-path=\"url(#clip320)\" d=\"M489.24 129.778 L493.916 129.778 L493.916 143.944 L510.906 143.944 L510.906 129.778 L515.582 129.778 L515.582 164.338 L510.906 164.338 L510.906 147.879 L493.916 147.879 L493.916 164.338 L489.24 164.338 L489.24 129.778 Z\" fill=\"#000000\" fill-rule=\"nonzero\" fill-opacity=\"1\" /><path clip-path=\"url(#clip320)\" d=\"M532.365 153.875 Q534.494 154.291 535.652 155.564 Q536.832 156.814 536.832 158.713 Q536.832 161.583 534.633 163.134 Q532.434 164.685 528.337 164.685 Q527.017 164.685 525.559 164.43 Q524.124 164.199 522.504 163.736 L522.504 160.935 Q523.707 161.56 525.073 161.861 Q526.462 162.162 528.013 162.162 Q530.536 162.162 531.925 161.259 Q533.314 160.333 533.314 158.713 Q533.314 157 532.017 156.12 Q530.744 155.24 528.244 155.24 L526.254 155.24 L526.254 152.74 L528.43 152.74 Q530.605 152.74 531.717 152.023 Q532.851 151.282 532.851 149.893 Q532.851 148.551 531.693 147.856 Q530.536 147.139 528.337 147.139 Q527.411 147.139 526.23 147.347 Q525.05 147.555 523.175 148.088 L523.175 145.426 Q524.865 145.032 526.346 144.824 Q527.828 144.615 529.101 144.615 Q532.434 144.615 534.379 145.981 Q536.346 147.347 536.346 149.639 Q536.346 151.236 535.304 152.347 Q534.263 153.458 532.365 153.875 Z\" fill=\"#000000\" fill-rule=\"nonzero\" fill-opacity=\"1\" /><path clip-path=\"url(#clip320)\" d=\"M553.939 128.366 Q550.837 133.69 549.332 138.898 Q547.828 144.106 547.828 149.453 Q547.828 154.801 549.332 160.055 Q550.86 165.287 553.939 170.588 L550.235 170.588 Q546.763 165.148 545.027 159.893 Q543.314 154.639 543.314 149.453 Q543.314 144.291 545.027 139.06 Q546.74 133.828 550.235 128.366 L553.939 128.366 Z\" fill=\"#000000\" fill-rule=\"nonzero\" fill-opacity=\"1\" /><path clip-path=\"url(#clip320)\" d=\"M583.753 138.412 L574.378 151.027 L584.239 164.338 L579.216 164.338 L571.67 154.152 L564.124 164.338 L559.101 164.338 L569.17 150.773 L559.957 138.412 L564.98 138.412 L571.855 147.648 L578.73 138.412 L583.753 138.412 Z\" fill=\"#000000\" fill-rule=\"nonzero\" fill-opacity=\"1\" /><path clip-path=\"url(#clip320)\" d=\"M589.587 128.366 L593.29 128.366 Q596.762 133.828 598.475 139.06 Q600.212 144.291 600.212 149.453 Q600.212 154.639 598.475 159.893 Q596.762 165.148 593.29 170.588 L589.587 170.588 Q592.665 165.287 594.17 160.055 Q595.698 154.801 595.698 149.453 Q595.698 144.106 594.17 138.898 Q592.665 133.69 589.587 128.366 Z\" fill=\"#000000\" fill-rule=\"nonzero\" fill-opacity=\"1\" /></svg>\n"
      ]
     },
     "execution_count": 6,
     "metadata": {},
     "output_type": "execute_result"
    }
   ],
   "source": [
    "h3 = Hermite([0, 0, 0, 1])\n",
    "plot(h3, -2, 2)"
   ]
  },
  {
   "cell_type": "markdown",
   "metadata": {},
   "source": [
    "Żeby nie podawać wektora ze współczynnikami kolejnych stopni, można zrobić inaczej"
   ]
  },
  {
   "cell_type": "code",
   "execution_count": 7,
   "metadata": {},
   "outputs": [
    {
     "data": {
      "image/svg+xml": [
       "<?xml version=\"1.0\" encoding=\"utf-8\"?>\n",
       "<svg xmlns=\"http://www.w3.org/2000/svg\" xmlns:xlink=\"http://www.w3.org/1999/xlink\" width=\"600\" height=\"400\" viewBox=\"0 0 2400 1600\">\n",
       "<defs>\n",
       "  <clipPath id=\"clip360\">\n",
       "    <rect x=\"0\" y=\"0\" width=\"2400\" height=\"1600\"/>\n",
       "  </clipPath>\n",
       "</defs>\n",
       "<path clip-path=\"url(#clip360)\" d=\"M0 1600 L2400 1600 L2400 0 L0 0  Z\" fill=\"#ffffff\" fill-rule=\"evenodd\" fill-opacity=\"1\"/>\n",
       "<defs>\n",
       "  <clipPath id=\"clip361\">\n",
       "    <rect x=\"480\" y=\"0\" width=\"1681\" height=\"1600\"/>\n",
       "  </clipPath>\n",
       "</defs>\n",
       "<path clip-path=\"url(#clip360)\" d=\"M178.867 1486.45 L2352.76 1486.45 L2352.76 47.2441 L178.867 47.2441  Z\" fill=\"#ffffff\" fill-rule=\"evenodd\" fill-opacity=\"1\"/>\n",
       "<defs>\n",
       "  <clipPath id=\"clip362\">\n",
       "    <rect x=\"178\" y=\"47\" width=\"2175\" height=\"1440\"/>\n",
       "  </clipPath>\n",
       "</defs>\n",
       "<polyline clip-path=\"url(#clip362)\" style=\"stroke:#000000; stroke-linecap:round; stroke-linejoin:round; stroke-width:2; stroke-opacity:0.1; fill:none\" points=\"240.392,1486.45 240.392,47.2441 \"/>\n",
       "<polyline clip-path=\"url(#clip362)\" style=\"stroke:#000000; stroke-linecap:round; stroke-linejoin:round; stroke-width:2; stroke-opacity:0.1; fill:none\" points=\"753.102,1486.45 753.102,47.2441 \"/>\n",
       "<polyline clip-path=\"url(#clip362)\" style=\"stroke:#000000; stroke-linecap:round; stroke-linejoin:round; stroke-width:2; stroke-opacity:0.1; fill:none\" points=\"1265.81,1486.45 1265.81,47.2441 \"/>\n",
       "<polyline clip-path=\"url(#clip362)\" style=\"stroke:#000000; stroke-linecap:round; stroke-linejoin:round; stroke-width:2; stroke-opacity:0.1; fill:none\" points=\"1778.52,1486.45 1778.52,47.2441 \"/>\n",
       "<polyline clip-path=\"url(#clip362)\" style=\"stroke:#000000; stroke-linecap:round; stroke-linejoin:round; stroke-width:2; stroke-opacity:0.1; fill:none\" points=\"2291.23,1486.45 2291.23,47.2441 \"/>\n",
       "<polyline clip-path=\"url(#clip360)\" style=\"stroke:#000000; stroke-linecap:round; stroke-linejoin:round; stroke-width:4; stroke-opacity:1; fill:none\" points=\"178.867,1486.45 2352.76,1486.45 \"/>\n",
       "<polyline clip-path=\"url(#clip360)\" style=\"stroke:#000000; stroke-linecap:round; stroke-linejoin:round; stroke-width:4; stroke-opacity:1; fill:none\" points=\"240.392,1486.45 240.392,1467.55 \"/>\n",
       "<polyline clip-path=\"url(#clip360)\" style=\"stroke:#000000; stroke-linecap:round; stroke-linejoin:round; stroke-width:4; stroke-opacity:1; fill:none\" points=\"753.102,1486.45 753.102,1467.55 \"/>\n",
       "<polyline clip-path=\"url(#clip360)\" style=\"stroke:#000000; stroke-linecap:round; stroke-linejoin:round; stroke-width:4; stroke-opacity:1; fill:none\" points=\"1265.81,1486.45 1265.81,1467.55 \"/>\n",
       "<polyline clip-path=\"url(#clip360)\" style=\"stroke:#000000; stroke-linecap:round; stroke-linejoin:round; stroke-width:4; stroke-opacity:1; fill:none\" points=\"1778.52,1486.45 1778.52,1467.55 \"/>\n",
       "<polyline clip-path=\"url(#clip360)\" style=\"stroke:#000000; stroke-linecap:round; stroke-linejoin:round; stroke-width:4; stroke-opacity:1; fill:none\" points=\"2291.23,1486.45 2291.23,1467.55 \"/>\n",
       "<path clip-path=\"url(#clip360)\" d=\"M210.334 1532.02 L240.01 1532.02 L240.01 1535.95 L210.334 1535.95 L210.334 1532.02 Z\" fill=\"#000000\" fill-rule=\"nonzero\" fill-opacity=\"1\" /><path clip-path=\"url(#clip360)\" d=\"M254.13 1544.91 L270.45 1544.91 L270.45 1548.85 L248.505 1548.85 L248.505 1544.91 Q251.167 1542.16 255.751 1537.53 Q260.357 1532.88 261.538 1531.53 Q263.783 1529.01 264.663 1527.27 Q265.565 1525.51 265.565 1523.82 Q265.565 1521.07 263.621 1519.33 Q261.7 1517.6 258.598 1517.6 Q256.399 1517.6 253.945 1518.36 Q251.514 1519.13 248.737 1520.68 L248.737 1515.95 Q251.561 1514.82 254.014 1514.24 Q256.468 1513.66 258.505 1513.66 Q263.875 1513.66 267.07 1516.35 Q270.264 1519.03 270.264 1523.52 Q270.264 1525.65 269.454 1527.57 Q268.667 1529.47 266.561 1532.07 Q265.982 1532.74 262.88 1535.95 Q259.778 1539.15 254.13 1544.91 Z\" fill=\"#000000\" fill-rule=\"nonzero\" fill-opacity=\"1\" /><path clip-path=\"url(#clip360)\" d=\"M722.859 1532.02 L752.534 1532.02 L752.534 1535.95 L722.859 1535.95 L722.859 1532.02 Z\" fill=\"#000000\" fill-rule=\"nonzero\" fill-opacity=\"1\" /><path clip-path=\"url(#clip360)\" d=\"M763.437 1544.91 L771.076 1544.91 L771.076 1518.55 L762.766 1520.21 L762.766 1515.95 L771.03 1514.29 L775.706 1514.29 L775.706 1544.91 L783.344 1544.91 L783.344 1548.85 L763.437 1548.85 L763.437 1544.91 Z\" fill=\"#000000\" fill-rule=\"nonzero\" fill-opacity=\"1\" /><path clip-path=\"url(#clip360)\" d=\"M1265.81 1517.37 Q1262.2 1517.37 1260.37 1520.93 Q1258.57 1524.47 1258.57 1531.6 Q1258.57 1538.71 1260.37 1542.27 Q1262.2 1545.82 1265.81 1545.82 Q1269.45 1545.82 1271.25 1542.27 Q1273.08 1538.71 1273.08 1531.6 Q1273.08 1524.47 1271.25 1520.93 Q1269.45 1517.37 1265.81 1517.37 M1265.81 1513.66 Q1271.62 1513.66 1274.68 1518.27 Q1277.76 1522.85 1277.76 1531.6 Q1277.76 1540.33 1274.68 1544.94 Q1271.62 1549.52 1265.81 1549.52 Q1260 1549.52 1256.92 1544.94 Q1253.87 1540.33 1253.87 1531.6 Q1253.87 1522.85 1256.92 1518.27 Q1260 1513.66 1265.81 1513.66 Z\" fill=\"#000000\" fill-rule=\"nonzero\" fill-opacity=\"1\" /><path clip-path=\"url(#clip360)\" d=\"M1768.9 1544.91 L1776.54 1544.91 L1776.54 1518.55 L1768.23 1520.21 L1768.23 1515.95 L1776.5 1514.29 L1781.17 1514.29 L1781.17 1544.91 L1788.81 1544.91 L1788.81 1548.85 L1768.9 1548.85 L1768.9 1544.91 Z\" fill=\"#000000\" fill-rule=\"nonzero\" fill-opacity=\"1\" /><path clip-path=\"url(#clip360)\" d=\"M2285.88 1544.91 L2302.2 1544.91 L2302.2 1548.85 L2280.26 1548.85 L2280.26 1544.91 Q2282.92 1542.16 2287.5 1537.53 Q2292.11 1532.88 2293.29 1531.53 Q2295.54 1529.01 2296.42 1527.27 Q2297.32 1525.51 2297.32 1523.82 Q2297.32 1521.07 2295.37 1519.33 Q2293.45 1517.6 2290.35 1517.6 Q2288.15 1517.6 2285.7 1518.36 Q2283.27 1519.13 2280.49 1520.68 L2280.49 1515.95 Q2283.31 1514.82 2285.77 1514.24 Q2288.22 1513.66 2290.26 1513.66 Q2295.63 1513.66 2298.82 1516.35 Q2302.02 1519.03 2302.02 1523.52 Q2302.02 1525.65 2301.21 1527.57 Q2300.42 1529.47 2298.31 1532.07 Q2297.74 1532.74 2294.63 1535.95 Q2291.53 1539.15 2285.88 1544.91 Z\" fill=\"#000000\" fill-rule=\"nonzero\" fill-opacity=\"1\" /><polyline clip-path=\"url(#clip362)\" style=\"stroke:#000000; stroke-linecap:round; stroke-linejoin:round; stroke-width:2; stroke-opacity:0.1; fill:none\" points=\"178.867,1445.72 2352.76,1445.72 \"/>\n",
       "<polyline clip-path=\"url(#clip362)\" style=\"stroke:#000000; stroke-linecap:round; stroke-linejoin:round; stroke-width:2; stroke-opacity:0.1; fill:none\" points=\"178.867,1106.28 2352.76,1106.28 \"/>\n",
       "<polyline clip-path=\"url(#clip362)\" style=\"stroke:#000000; stroke-linecap:round; stroke-linejoin:round; stroke-width:2; stroke-opacity:0.1; fill:none\" points=\"178.867,766.846 2352.76,766.846 \"/>\n",
       "<polyline clip-path=\"url(#clip362)\" style=\"stroke:#000000; stroke-linecap:round; stroke-linejoin:round; stroke-width:2; stroke-opacity:0.1; fill:none\" points=\"178.867,427.411 2352.76,427.411 \"/>\n",
       "<polyline clip-path=\"url(#clip362)\" style=\"stroke:#000000; stroke-linecap:round; stroke-linejoin:round; stroke-width:2; stroke-opacity:0.1; fill:none\" points=\"178.867,87.9763 2352.76,87.9763 \"/>\n",
       "<polyline clip-path=\"url(#clip360)\" style=\"stroke:#000000; stroke-linecap:round; stroke-linejoin:round; stroke-width:4; stroke-opacity:1; fill:none\" points=\"178.867,1486.45 178.867,47.2441 \"/>\n",
       "<polyline clip-path=\"url(#clip360)\" style=\"stroke:#000000; stroke-linecap:round; stroke-linejoin:round; stroke-width:4; stroke-opacity:1; fill:none\" points=\"178.867,1445.72 197.764,1445.72 \"/>\n",
       "<polyline clip-path=\"url(#clip360)\" style=\"stroke:#000000; stroke-linecap:round; stroke-linejoin:round; stroke-width:4; stroke-opacity:1; fill:none\" points=\"178.867,1106.28 197.764,1106.28 \"/>\n",
       "<polyline clip-path=\"url(#clip360)\" style=\"stroke:#000000; stroke-linecap:round; stroke-linejoin:round; stroke-width:4; stroke-opacity:1; fill:none\" points=\"178.867,766.846 197.764,766.846 \"/>\n",
       "<polyline clip-path=\"url(#clip360)\" style=\"stroke:#000000; stroke-linecap:round; stroke-linejoin:round; stroke-width:4; stroke-opacity:1; fill:none\" points=\"178.867,427.411 197.764,427.411 \"/>\n",
       "<polyline clip-path=\"url(#clip360)\" style=\"stroke:#000000; stroke-linecap:round; stroke-linejoin:round; stroke-width:4; stroke-opacity:1; fill:none\" points=\"178.867,87.9763 197.764,87.9763 \"/>\n",
       "<path clip-path=\"url(#clip360)\" d=\"M50.9921 1446.17 L80.6679 1446.17 L80.6679 1450.1 L50.9921 1450.1 L50.9921 1446.17 Z\" fill=\"#000000\" fill-rule=\"nonzero\" fill-opacity=\"1\" /><path clip-path=\"url(#clip360)\" d=\"M103.608 1432.51 L91.8021 1450.96 L103.608 1450.96 L103.608 1432.51 M102.381 1428.44 L108.26 1428.44 L108.26 1450.96 L113.191 1450.96 L113.191 1454.85 L108.26 1454.85 L108.26 1463 L103.608 1463 L103.608 1454.85 L88.0058 1454.85 L88.0058 1450.33 L102.381 1428.44 Z\" fill=\"#000000\" fill-rule=\"nonzero\" fill-opacity=\"1\" /><path clip-path=\"url(#clip360)\" d=\"M130.922 1431.51 Q127.311 1431.51 125.482 1435.08 Q123.677 1438.62 123.677 1445.75 Q123.677 1452.86 125.482 1456.42 Q127.311 1459.96 130.922 1459.96 Q134.556 1459.96 136.362 1456.42 Q138.191 1452.86 138.191 1445.75 Q138.191 1438.62 136.362 1435.08 Q134.556 1431.51 130.922 1431.51 M130.922 1427.81 Q136.732 1427.81 139.788 1432.42 Q142.867 1437 142.867 1445.75 Q142.867 1454.48 139.788 1459.08 Q136.732 1463.67 130.922 1463.67 Q125.112 1463.67 122.033 1459.08 Q118.978 1454.48 118.978 1445.75 Q118.978 1437 122.033 1432.42 Q125.112 1427.81 130.922 1427.81 Z\" fill=\"#000000\" fill-rule=\"nonzero\" fill-opacity=\"1\" /><path clip-path=\"url(#clip360)\" d=\"M50.9921 1106.73 L80.6679 1106.73 L80.6679 1110.67 L50.9921 1110.67 L50.9921 1106.73 Z\" fill=\"#000000\" fill-rule=\"nonzero\" fill-opacity=\"1\" /><path clip-path=\"url(#clip360)\" d=\"M94.7882 1119.63 L111.108 1119.63 L111.108 1123.56 L89.1632 1123.56 L89.1632 1119.63 Q91.8252 1116.87 96.4085 1112.24 Q101.015 1107.59 102.196 1106.25 Q104.441 1103.72 105.321 1101.99 Q106.223 1100.23 106.223 1098.54 Q106.223 1095.78 104.279 1094.05 Q102.358 1092.31 99.2558 1092.31 Q97.0567 1092.31 94.603 1093.07 Q92.1725 1093.84 89.3947 1095.39 L89.3947 1090.67 Q92.2188 1089.53 94.6724 1088.95 Q97.1261 1088.38 99.1632 1088.38 Q104.534 1088.38 107.728 1091.06 Q110.922 1093.75 110.922 1098.24 Q110.922 1100.37 110.112 1102.29 Q109.325 1104.19 107.219 1106.78 Q106.64 1107.45 103.538 1110.67 Q100.436 1113.86 94.7882 1119.63 Z\" fill=\"#000000\" fill-rule=\"nonzero\" fill-opacity=\"1\" /><path clip-path=\"url(#clip360)\" d=\"M130.922 1092.08 Q127.311 1092.08 125.482 1095.64 Q123.677 1099.19 123.677 1106.32 Q123.677 1113.42 125.482 1116.99 Q127.311 1120.53 130.922 1120.53 Q134.556 1120.53 136.362 1116.99 Q138.191 1113.42 138.191 1106.32 Q138.191 1099.19 136.362 1095.64 Q134.556 1092.08 130.922 1092.08 M130.922 1088.38 Q136.732 1088.38 139.788 1092.98 Q142.867 1097.57 142.867 1106.32 Q142.867 1115.04 139.788 1119.65 Q136.732 1124.23 130.922 1124.23 Q125.112 1124.23 122.033 1119.65 Q118.978 1115.04 118.978 1106.32 Q118.978 1097.57 122.033 1092.98 Q125.112 1088.38 130.922 1088.38 Z\" fill=\"#000000\" fill-rule=\"nonzero\" fill-opacity=\"1\" /><path clip-path=\"url(#clip360)\" d=\"M130.922 752.645 Q127.311 752.645 125.482 756.209 Q123.677 759.751 123.677 766.881 Q123.677 773.987 125.482 777.552 Q127.311 781.094 130.922 781.094 Q134.556 781.094 136.362 777.552 Q138.191 773.987 138.191 766.881 Q138.191 759.751 136.362 756.209 Q134.556 752.645 130.922 752.645 M130.922 748.941 Q136.732 748.941 139.788 753.547 Q142.867 758.131 142.867 766.881 Q142.867 775.608 139.788 780.214 Q136.732 784.797 130.922 784.797 Q125.112 784.797 122.033 780.214 Q118.978 775.608 118.978 766.881 Q118.978 758.131 122.033 753.547 Q125.112 748.941 130.922 748.941 Z\" fill=\"#000000\" fill-rule=\"nonzero\" fill-opacity=\"1\" /><path clip-path=\"url(#clip360)\" d=\"M94.7882 440.756 L111.108 440.756 L111.108 444.691 L89.1632 444.691 L89.1632 440.756 Q91.8252 438.001 96.4085 433.372 Q101.015 428.719 102.196 427.376 Q104.441 424.853 105.321 423.117 Q106.223 421.358 106.223 419.668 Q106.223 416.914 104.279 415.177 Q102.358 413.441 99.2558 413.441 Q97.0567 413.441 94.603 414.205 Q92.1725 414.969 89.3947 416.52 L89.3947 411.798 Q92.2188 410.664 94.6724 410.085 Q97.1261 409.506 99.1632 409.506 Q104.534 409.506 107.728 412.191 Q110.922 414.876 110.922 419.367 Q110.922 421.497 110.112 423.418 Q109.325 425.316 107.219 427.909 Q106.64 428.58 103.538 431.798 Q100.436 434.992 94.7882 440.756 Z\" fill=\"#000000\" fill-rule=\"nonzero\" fill-opacity=\"1\" /><path clip-path=\"url(#clip360)\" d=\"M130.922 413.21 Q127.311 413.21 125.482 416.775 Q123.677 420.316 123.677 427.446 Q123.677 434.552 125.482 438.117 Q127.311 441.659 130.922 441.659 Q134.556 441.659 136.362 438.117 Q138.191 434.552 138.191 427.446 Q138.191 420.316 136.362 416.775 Q134.556 413.21 130.922 413.21 M130.922 409.506 Q136.732 409.506 139.788 414.113 Q142.867 418.696 142.867 427.446 Q142.867 436.173 139.788 440.779 Q136.732 445.362 130.922 445.362 Q125.112 445.362 122.033 440.779 Q118.978 436.173 118.978 427.446 Q118.978 418.696 122.033 414.113 Q125.112 409.506 130.922 409.506 Z\" fill=\"#000000\" fill-rule=\"nonzero\" fill-opacity=\"1\" /><path clip-path=\"url(#clip360)\" d=\"M103.608 74.7703 L91.8021 93.2193 L103.608 93.2193 L103.608 74.7703 M102.381 70.6963 L108.26 70.6963 L108.26 93.2193 L113.191 93.2193 L113.191 97.1082 L108.26 97.1082 L108.26 105.256 L103.608 105.256 L103.608 97.1082 L88.0058 97.1082 L88.0058 92.5943 L102.381 70.6963 Z\" fill=\"#000000\" fill-rule=\"nonzero\" fill-opacity=\"1\" /><path clip-path=\"url(#clip360)\" d=\"M130.922 73.775 Q127.311 73.775 125.482 77.3398 Q123.677 80.8814 123.677 88.011 Q123.677 95.1174 125.482 98.6822 Q127.311 102.224 130.922 102.224 Q134.556 102.224 136.362 98.6822 Q138.191 95.1174 138.191 88.011 Q138.191 80.8814 136.362 77.3398 Q134.556 73.775 130.922 73.775 M130.922 70.0713 Q136.732 70.0713 139.788 74.6777 Q142.867 79.261 142.867 88.011 Q142.867 96.7378 139.788 101.344 Q136.732 105.928 130.922 105.928 Q125.112 105.928 122.033 101.344 Q118.978 96.7378 118.978 88.011 Q118.978 79.261 122.033 74.6777 Q125.112 70.0713 130.922 70.0713 Z\" fill=\"#000000\" fill-rule=\"nonzero\" fill-opacity=\"1\" /><polyline clip-path=\"url(#clip362)\" style=\"stroke:#009af9; stroke-linecap:round; stroke-linejoin:round; stroke-width:4; stroke-opacity:1; fill:none\" points=\"240.392,1445.72 260.9,1389.99 281.409,1336.81 301.917,1286.14 322.425,1237.91 342.934,1192.09 363.442,1148.61 383.951,1107.43 404.459,1068.49 424.967,1031.73 445.476,997.119 465.984,964.589 486.492,934.093 507.001,905.579 527.509,878.993 548.018,854.284 568.526,831.401 589.034,810.289 609.543,790.899 630.051,773.176 650.56,757.07 671.068,742.528 691.576,729.498 712.085,717.928 732.593,707.766 753.102,698.959 773.61,691.456 794.118,685.203 814.627,680.151 835.135,676.245 855.643,673.434 876.152,671.665 896.66,670.887 917.169,671.048 937.677,672.095 958.185,673.977 978.694,676.64 999.202,680.033 1019.71,684.104 1040.22,688.801 1060.73,694.071 1081.24,699.863 1101.74,706.124 1122.25,712.801 1142.76,719.844 1163.27,727.2 1183.78,734.816 1204.29,742.641 1224.79,750.623 1245.3,758.708 1265.81,766.846 1286.32,774.984 1306.83,783.069 1327.34,791.051 1347.84,798.876 1368.35,806.492 1388.86,813.848 1409.37,820.891 1429.88,827.568 1450.39,833.829 1470.9,839.621 1491.4,844.891 1511.91,849.588 1532.42,853.659 1552.93,857.052 1573.44,859.715 1593.95,861.597 1614.45,862.644 1634.96,862.804 1655.47,862.027 1675.98,860.258 1696.49,857.447 1717,853.541 1737.5,848.488 1758.01,842.236 1778.52,834.733 1799.03,825.926 1819.54,815.764 1840.05,804.194 1860.55,791.164 1881.06,776.622 1901.57,760.516 1922.08,742.793 1942.59,723.403 1963.1,702.291 1983.6,679.408 2004.11,654.699 2024.62,628.113 2045.13,599.599 2065.64,569.103 2086.15,536.573 2106.66,501.959 2127.16,465.206 2147.67,426.264 2168.18,385.08 2188.69,341.602 2209.2,295.778 2229.71,247.555 2250.21,196.882 2270.72,143.707 2291.23,87.9763 \"/>\n",
       "<path clip-path=\"url(#clip360)\" d=\"M251.33 198.898 L669.597 198.898 L669.597 95.2176 L251.33 95.2176  Z\" fill=\"#ffffff\" fill-rule=\"evenodd\" fill-opacity=\"1\"/>\n",
       "<polyline clip-path=\"url(#clip360)\" style=\"stroke:#000000; stroke-linecap:round; stroke-linejoin:round; stroke-width:4; stroke-opacity:1; fill:none\" points=\"251.33,198.898 669.597,198.898 669.597,95.2176 251.33,95.2176 251.33,198.898 \"/>\n",
       "<polyline clip-path=\"url(#clip360)\" style=\"stroke:#009af9; stroke-linecap:round; stroke-linejoin:round; stroke-width:4; stroke-opacity:1; fill:none\" points=\"275.484,147.058 420.41,147.058 \"/>\n",
       "<path clip-path=\"url(#clip360)\" d=\"M445.236 160.402 L452.874 160.402 L452.874 134.037 L444.564 135.703 L444.564 131.444 L452.828 129.778 L457.504 129.778 L457.504 160.402 L465.143 160.402 L465.143 164.338 L445.236 164.338 L445.236 160.402 Z\" fill=\"#000000\" fill-rule=\"nonzero\" fill-opacity=\"1\" /><path clip-path=\"url(#clip360)\" d=\"M474.587 158.458 L479.471 158.458 L479.471 164.338 L474.587 164.338 L474.587 158.458 Z\" fill=\"#000000\" fill-rule=\"nonzero\" fill-opacity=\"1\" /><path clip-path=\"url(#clip360)\" d=\"M499.657 132.856 Q496.045 132.856 494.217 136.421 Q492.411 139.963 492.411 147.092 Q492.411 154.199 494.217 157.764 Q496.045 161.305 499.657 161.305 Q503.291 161.305 505.096 157.764 Q506.925 154.199 506.925 147.092 Q506.925 139.963 505.096 136.421 Q503.291 132.856 499.657 132.856 M499.657 129.153 Q505.467 129.153 508.522 133.759 Q511.601 138.342 511.601 147.092 Q511.601 155.819 508.522 160.426 Q505.467 165.009 499.657 165.009 Q493.846 165.009 490.768 160.426 Q487.712 155.819 487.712 147.092 Q487.712 138.342 490.768 133.759 Q493.846 129.153 499.657 129.153 Z\" fill=\"#000000\" fill-rule=\"nonzero\" fill-opacity=\"1\" /><path clip-path=\"url(#clip360)\" d=\"M519.818 144.94 L524.703 144.94 L524.703 150.819 L519.818 150.819 L519.818 144.94 Z\" fill=\"#000000\" fill-rule=\"nonzero\" fill-opacity=\"1\" /><path clip-path=\"url(#clip360)\" d=\"M534.471 129.778 L539.147 129.778 L539.147 143.944 L556.138 143.944 L556.138 129.778 L560.814 129.778 L560.814 164.338 L556.138 164.338 L556.138 147.879 L539.147 147.879 L539.147 164.338 L534.471 164.338 L534.471 129.778 Z\" fill=\"#000000\" fill-rule=\"nonzero\" fill-opacity=\"1\" /><path clip-path=\"url(#clip360)\" d=\"M577.596 153.875 Q579.726 154.291 580.883 155.564 Q582.063 156.814 582.063 158.713 Q582.063 161.583 579.864 163.134 Q577.665 164.685 573.568 164.685 Q572.249 164.685 570.79 164.43 Q569.355 164.199 567.735 163.736 L567.735 160.935 Q568.939 161.56 570.304 161.861 Q571.693 162.162 573.244 162.162 Q575.767 162.162 577.156 161.259 Q578.545 160.333 578.545 158.713 Q578.545 157 577.249 156.12 Q575.976 155.24 573.476 155.24 L571.485 155.24 L571.485 152.74 L573.661 152.74 Q575.837 152.74 576.948 152.023 Q578.082 151.282 578.082 149.893 Q578.082 148.551 576.925 147.856 Q575.767 147.139 573.568 147.139 Q572.642 147.139 571.462 147.347 Q570.281 147.555 568.406 148.088 L568.406 145.426 Q570.096 145.032 571.577 144.824 Q573.059 144.615 574.332 144.615 Q577.665 144.615 579.61 145.981 Q581.577 147.347 581.577 149.639 Q581.577 151.236 580.536 152.347 Q579.494 153.458 577.596 153.875 Z\" fill=\"#000000\" fill-rule=\"nonzero\" fill-opacity=\"1\" /><path clip-path=\"url(#clip360)\" d=\"M599.17 128.366 Q596.068 133.69 594.563 138.898 Q593.059 144.106 593.059 149.453 Q593.059 154.801 594.563 160.055 Q596.091 165.287 599.17 170.588 L595.466 170.588 Q591.994 165.148 590.258 159.893 Q588.545 154.639 588.545 149.453 Q588.545 144.291 590.258 139.06 Q591.971 133.828 595.466 128.366 L599.17 128.366 Z\" fill=\"#000000\" fill-rule=\"nonzero\" fill-opacity=\"1\" /><path clip-path=\"url(#clip360)\" d=\"M628.985 138.412 L619.61 151.027 L629.471 164.338 L624.448 164.338 L616.901 154.152 L609.355 164.338 L604.332 164.338 L614.401 150.773 L605.188 138.412 L610.211 138.412 L617.086 147.648 L623.961 138.412 L628.985 138.412 Z\" fill=\"#000000\" fill-rule=\"nonzero\" fill-opacity=\"1\" /><path clip-path=\"url(#clip360)\" d=\"M634.818 128.366 L638.522 128.366 Q641.994 133.828 643.707 139.06 Q645.443 144.291 645.443 149.453 Q645.443 154.639 643.707 159.893 Q641.994 165.148 638.522 170.588 L634.818 170.588 Q637.897 165.287 639.401 160.055 Q640.929 154.801 640.929 149.453 Q640.929 144.106 639.401 138.898 Q637.897 133.69 634.818 128.366 Z\" fill=\"#000000\" fill-rule=\"nonzero\" fill-opacity=\"1\" /></svg>\n"
      ]
     },
     "execution_count": 7,
     "metadata": {},
     "output_type": "execute_result"
    }
   ],
   "source": [
    "h4 = basis(Hermite, 3)\n",
    "plot(h4, -2, 2)"
   ]
  },
  {
   "cell_type": "markdown",
   "metadata": {},
   "source": [
    "### Przykład aproksymacji"
   ]
  },
  {
   "cell_type": "markdown",
   "metadata": {},
   "source": [
    "Spróbujemy dokonać aproksymacji zaszumionej funkcji `cos` wykorzystując rodzinę wielomianów ortogonalnych Hermite'a."
   ]
  },
  {
   "cell_type": "code",
   "execution_count": 8,
   "metadata": {
    "scrolled": true
   },
   "outputs": [],
   "source": [
    "# Definicja węzłów\n",
    "xx = -5:0.1:5\n",
    "yy = cos.(xx/3 .+.2).^2 .+ rand(length(xx))/5;"
   ]
  },
  {
   "cell_type": "code",
   "execution_count": 9,
   "metadata": {
    "scrolled": false
   },
   "outputs": [
    {
     "data": {
      "image/svg+xml": [
       "<?xml version=\"1.0\" encoding=\"utf-8\"?>\n",
       "<svg xmlns=\"http://www.w3.org/2000/svg\" xmlns:xlink=\"http://www.w3.org/1999/xlink\" width=\"600\" height=\"400\" viewBox=\"0 0 2400 1600\">\n",
       "<defs>\n",
       "  <clipPath id=\"clip400\">\n",
       "    <rect x=\"0\" y=\"0\" width=\"2400\" height=\"1600\"/>\n",
       "  </clipPath>\n",
       "</defs>\n",
       "<path clip-path=\"url(#clip400)\" d=\"M0 1600 L2400 1600 L2400 0 L0 0  Z\" fill=\"#ffffff\" fill-rule=\"evenodd\" fill-opacity=\"1\"/>\n",
       "<defs>\n",
       "  <clipPath id=\"clip401\">\n",
       "    <rect x=\"480\" y=\"0\" width=\"1681\" height=\"1600\"/>\n",
       "  </clipPath>\n",
       "</defs>\n",
       "<path clip-path=\"url(#clip400)\" d=\"M186.274 1486.45 L2352.76 1486.45 L2352.76 47.2441 L186.274 47.2441  Z\" fill=\"#ffffff\" fill-rule=\"evenodd\" fill-opacity=\"1\"/>\n",
       "<defs>\n",
       "  <clipPath id=\"clip402\">\n",
       "    <rect x=\"186\" y=\"47\" width=\"2167\" height=\"1440\"/>\n",
       "  </clipPath>\n",
       "</defs>\n",
       "<polyline clip-path=\"url(#clip402)\" style=\"stroke:#000000; stroke-linecap:round; stroke-linejoin:round; stroke-width:2; stroke-opacity:0.1; fill:none\" points=\"451.975,1486.45 451.975,47.2441 \"/>\n",
       "<polyline clip-path=\"url(#clip402)\" style=\"stroke:#000000; stroke-linecap:round; stroke-linejoin:round; stroke-width:2; stroke-opacity:0.1; fill:none\" points=\"860.745,1486.45 860.745,47.2441 \"/>\n",
       "<polyline clip-path=\"url(#clip402)\" style=\"stroke:#000000; stroke-linecap:round; stroke-linejoin:round; stroke-width:2; stroke-opacity:0.1; fill:none\" points=\"1269.51,1486.45 1269.51,47.2441 \"/>\n",
       "<polyline clip-path=\"url(#clip402)\" style=\"stroke:#000000; stroke-linecap:round; stroke-linejoin:round; stroke-width:2; stroke-opacity:0.1; fill:none\" points=\"1678.29,1486.45 1678.29,47.2441 \"/>\n",
       "<polyline clip-path=\"url(#clip402)\" style=\"stroke:#000000; stroke-linecap:round; stroke-linejoin:round; stroke-width:2; stroke-opacity:0.1; fill:none\" points=\"2087.06,1486.45 2087.06,47.2441 \"/>\n",
       "<polyline clip-path=\"url(#clip400)\" style=\"stroke:#000000; stroke-linecap:round; stroke-linejoin:round; stroke-width:4; stroke-opacity:1; fill:none\" points=\"186.274,1486.45 2352.76,1486.45 \"/>\n",
       "<polyline clip-path=\"url(#clip400)\" style=\"stroke:#000000; stroke-linecap:round; stroke-linejoin:round; stroke-width:4; stroke-opacity:1; fill:none\" points=\"451.975,1486.45 451.975,1467.55 \"/>\n",
       "<polyline clip-path=\"url(#clip400)\" style=\"stroke:#000000; stroke-linecap:round; stroke-linejoin:round; stroke-width:4; stroke-opacity:1; fill:none\" points=\"860.745,1486.45 860.745,1467.55 \"/>\n",
       "<polyline clip-path=\"url(#clip400)\" style=\"stroke:#000000; stroke-linecap:round; stroke-linejoin:round; stroke-width:4; stroke-opacity:1; fill:none\" points=\"1269.51,1486.45 1269.51,1467.55 \"/>\n",
       "<polyline clip-path=\"url(#clip400)\" style=\"stroke:#000000; stroke-linecap:round; stroke-linejoin:round; stroke-width:4; stroke-opacity:1; fill:none\" points=\"1678.29,1486.45 1678.29,1467.55 \"/>\n",
       "<polyline clip-path=\"url(#clip400)\" style=\"stroke:#000000; stroke-linecap:round; stroke-linejoin:round; stroke-width:4; stroke-opacity:1; fill:none\" points=\"2087.06,1486.45 2087.06,1467.55 \"/>\n",
       "<path clip-path=\"url(#clip400)\" d=\"M420.875 1532.02 L450.551 1532.02 L450.551 1535.95 L420.875 1535.95 L420.875 1532.02 Z\" fill=\"#000000\" fill-rule=\"nonzero\" fill-opacity=\"1\" /><path clip-path=\"url(#clip400)\" d=\"M473.491 1518.36 L461.685 1536.81 L473.491 1536.81 L473.491 1518.36 M472.264 1514.29 L478.143 1514.29 L478.143 1536.81 L483.074 1536.81 L483.074 1540.7 L478.143 1540.7 L478.143 1548.85 L473.491 1548.85 L473.491 1540.7 L457.889 1540.7 L457.889 1536.19 L472.264 1514.29 Z\" fill=\"#000000\" fill-rule=\"nonzero\" fill-opacity=\"1\" /><path clip-path=\"url(#clip400)\" d=\"M830.687 1532.02 L860.363 1532.02 L860.363 1535.95 L830.687 1535.95 L830.687 1532.02 Z\" fill=\"#000000\" fill-rule=\"nonzero\" fill-opacity=\"1\" /><path clip-path=\"url(#clip400)\" d=\"M874.483 1544.91 L890.802 1544.91 L890.802 1548.85 L868.858 1548.85 L868.858 1544.91 Q871.52 1542.16 876.103 1537.53 Q880.71 1532.88 881.891 1531.53 Q884.136 1529.01 885.015 1527.27 Q885.918 1525.51 885.918 1523.82 Q885.918 1521.07 883.974 1519.33 Q882.053 1517.6 878.951 1517.6 Q876.752 1517.6 874.298 1518.36 Q871.867 1519.13 869.09 1520.68 L869.09 1515.95 Q871.914 1514.82 874.367 1514.24 Q876.821 1513.66 878.858 1513.66 Q884.228 1513.66 887.423 1516.35 Q890.617 1519.03 890.617 1523.52 Q890.617 1525.65 889.807 1527.57 Q889.02 1529.47 886.914 1532.07 Q886.335 1532.74 883.233 1535.95 Q880.131 1539.15 874.483 1544.91 Z\" fill=\"#000000\" fill-rule=\"nonzero\" fill-opacity=\"1\" /><path clip-path=\"url(#clip400)\" d=\"M1269.51 1517.37 Q1265.9 1517.37 1264.08 1520.93 Q1262.27 1524.47 1262.27 1531.6 Q1262.27 1538.71 1264.08 1542.27 Q1265.9 1545.82 1269.51 1545.82 Q1273.15 1545.82 1274.95 1542.27 Q1276.78 1538.71 1276.78 1531.6 Q1276.78 1524.47 1274.95 1520.93 Q1273.15 1517.37 1269.51 1517.37 M1269.51 1513.66 Q1275.33 1513.66 1278.38 1518.27 Q1281.46 1522.85 1281.46 1531.6 Q1281.46 1540.33 1278.38 1544.94 Q1275.33 1549.52 1269.51 1549.52 Q1263.7 1549.52 1260.63 1544.94 Q1257.57 1540.33 1257.57 1531.6 Q1257.57 1522.85 1260.63 1518.27 Q1263.7 1513.66 1269.51 1513.66 Z\" fill=\"#000000\" fill-rule=\"nonzero\" fill-opacity=\"1\" /><path clip-path=\"url(#clip400)\" d=\"M1672.94 1544.91 L1689.26 1544.91 L1689.26 1548.85 L1667.31 1548.85 L1667.31 1544.91 Q1669.97 1542.16 1674.56 1537.53 Q1679.16 1532.88 1680.35 1531.53 Q1682.59 1529.01 1683.47 1527.27 Q1684.37 1525.51 1684.37 1523.82 Q1684.37 1521.07 1682.43 1519.33 Q1680.51 1517.6 1677.41 1517.6 Q1675.21 1517.6 1672.75 1518.36 Q1670.32 1519.13 1667.54 1520.68 L1667.54 1515.95 Q1670.37 1514.82 1672.82 1514.24 Q1675.28 1513.66 1677.31 1513.66 Q1682.68 1513.66 1685.88 1516.35 Q1689.07 1519.03 1689.07 1523.52 Q1689.07 1525.65 1688.26 1527.57 Q1687.47 1529.47 1685.37 1532.07 Q1684.79 1532.74 1681.69 1535.95 Q1678.59 1539.15 1672.94 1544.91 Z\" fill=\"#000000\" fill-rule=\"nonzero\" fill-opacity=\"1\" /><path clip-path=\"url(#clip400)\" d=\"M2090.06 1518.36 L2078.26 1536.81 L2090.06 1536.81 L2090.06 1518.36 M2088.84 1514.29 L2094.72 1514.29 L2094.72 1536.81 L2099.65 1536.81 L2099.65 1540.7 L2094.72 1540.7 L2094.72 1548.85 L2090.06 1548.85 L2090.06 1540.7 L2074.46 1540.7 L2074.46 1536.19 L2088.84 1514.29 Z\" fill=\"#000000\" fill-rule=\"nonzero\" fill-opacity=\"1\" /><polyline clip-path=\"url(#clip402)\" style=\"stroke:#000000; stroke-linecap:round; stroke-linejoin:round; stroke-width:2; stroke-opacity:0.1; fill:none\" points=\"186.274,1460.11 2352.76,1460.11 \"/>\n",
       "<polyline clip-path=\"url(#clip402)\" style=\"stroke:#000000; stroke-linecap:round; stroke-linejoin:round; stroke-width:2; stroke-opacity:0.1; fill:none\" points=\"186.274,1166.83 2352.76,1166.83 \"/>\n",
       "<polyline clip-path=\"url(#clip402)\" style=\"stroke:#000000; stroke-linecap:round; stroke-linejoin:round; stroke-width:2; stroke-opacity:0.1; fill:none\" points=\"186.274,873.551 2352.76,873.551 \"/>\n",
       "<polyline clip-path=\"url(#clip402)\" style=\"stroke:#000000; stroke-linecap:round; stroke-linejoin:round; stroke-width:2; stroke-opacity:0.1; fill:none\" points=\"186.274,580.269 2352.76,580.269 \"/>\n",
       "<polyline clip-path=\"url(#clip402)\" style=\"stroke:#000000; stroke-linecap:round; stroke-linejoin:round; stroke-width:2; stroke-opacity:0.1; fill:none\" points=\"186.274,286.988 2352.76,286.988 \"/>\n",
       "<polyline clip-path=\"url(#clip400)\" style=\"stroke:#000000; stroke-linecap:round; stroke-linejoin:round; stroke-width:4; stroke-opacity:1; fill:none\" points=\"186.274,1486.45 186.274,47.2441 \"/>\n",
       "<polyline clip-path=\"url(#clip400)\" style=\"stroke:#000000; stroke-linecap:round; stroke-linejoin:round; stroke-width:4; stroke-opacity:1; fill:none\" points=\"186.274,1460.11 205.172,1460.11 \"/>\n",
       "<polyline clip-path=\"url(#clip400)\" style=\"stroke:#000000; stroke-linecap:round; stroke-linejoin:round; stroke-width:4; stroke-opacity:1; fill:none\" points=\"186.274,1166.83 205.172,1166.83 \"/>\n",
       "<polyline clip-path=\"url(#clip400)\" style=\"stroke:#000000; stroke-linecap:round; stroke-linejoin:round; stroke-width:4; stroke-opacity:1; fill:none\" points=\"186.274,873.551 205.172,873.551 \"/>\n",
       "<polyline clip-path=\"url(#clip400)\" style=\"stroke:#000000; stroke-linecap:round; stroke-linejoin:round; stroke-width:4; stroke-opacity:1; fill:none\" points=\"186.274,580.269 205.172,580.269 \"/>\n",
       "<polyline clip-path=\"url(#clip400)\" style=\"stroke:#000000; stroke-linecap:round; stroke-linejoin:round; stroke-width:4; stroke-opacity:1; fill:none\" points=\"186.274,286.988 205.172,286.988 \"/>\n",
       "<path clip-path=\"url(#clip400)\" d=\"M62.9365 1445.91 Q59.3254 1445.91 57.4967 1449.48 Q55.6912 1453.02 55.6912 1460.15 Q55.6912 1467.25 57.4967 1470.82 Q59.3254 1474.36 62.9365 1474.36 Q66.5707 1474.36 68.3763 1470.82 Q70.205 1467.25 70.205 1460.15 Q70.205 1453.02 68.3763 1449.48 Q66.5707 1445.91 62.9365 1445.91 M62.9365 1442.21 Q68.7467 1442.21 71.8022 1446.81 Q74.8809 1451.4 74.8809 1460.15 Q74.8809 1468.87 71.8022 1473.48 Q68.7467 1478.06 62.9365 1478.06 Q57.1264 1478.06 54.0477 1473.48 Q50.9921 1468.87 50.9921 1460.15 Q50.9921 1451.4 54.0477 1446.81 Q57.1264 1442.21 62.9365 1442.21 Z\" fill=\"#000000\" fill-rule=\"nonzero\" fill-opacity=\"1\" /><path clip-path=\"url(#clip400)\" d=\"M83.0984 1471.51 L87.9827 1471.51 L87.9827 1477.39 L83.0984 1477.39 L83.0984 1471.51 Z\" fill=\"#000000\" fill-rule=\"nonzero\" fill-opacity=\"1\" /><path clip-path=\"url(#clip400)\" d=\"M108.168 1445.91 Q104.557 1445.91 102.728 1449.48 Q100.922 1453.02 100.922 1460.15 Q100.922 1467.25 102.728 1470.82 Q104.557 1474.36 108.168 1474.36 Q111.802 1474.36 113.608 1470.82 Q115.436 1467.25 115.436 1460.15 Q115.436 1453.02 113.608 1449.48 Q111.802 1445.91 108.168 1445.91 M108.168 1442.21 Q113.978 1442.21 117.033 1446.81 Q120.112 1451.4 120.112 1460.15 Q120.112 1468.87 117.033 1473.48 Q113.978 1478.06 108.168 1478.06 Q102.358 1478.06 99.2789 1473.48 Q96.2234 1468.87 96.2234 1460.15 Q96.2234 1451.4 99.2789 1446.81 Q102.358 1442.21 108.168 1442.21 Z\" fill=\"#000000\" fill-rule=\"nonzero\" fill-opacity=\"1\" /><path clip-path=\"url(#clip400)\" d=\"M138.33 1445.91 Q134.719 1445.91 132.89 1449.48 Q131.084 1453.02 131.084 1460.15 Q131.084 1467.25 132.89 1470.82 Q134.719 1474.36 138.33 1474.36 Q141.964 1474.36 143.769 1470.82 Q145.598 1467.25 145.598 1460.15 Q145.598 1453.02 143.769 1449.48 Q141.964 1445.91 138.33 1445.91 M138.33 1442.21 Q144.14 1442.21 147.195 1446.81 Q150.274 1451.4 150.274 1460.15 Q150.274 1468.87 147.195 1473.48 Q144.14 1478.06 138.33 1478.06 Q132.519 1478.06 129.441 1473.48 Q126.385 1468.87 126.385 1460.15 Q126.385 1451.4 129.441 1446.81 Q132.519 1442.21 138.33 1442.21 Z\" fill=\"#000000\" fill-rule=\"nonzero\" fill-opacity=\"1\" /><path clip-path=\"url(#clip400)\" d=\"M63.9319 1152.63 Q60.3208 1152.63 58.4921 1156.2 Q56.6865 1159.74 56.6865 1166.87 Q56.6865 1173.97 58.4921 1177.54 Q60.3208 1181.08 63.9319 1181.08 Q67.5661 1181.08 69.3717 1177.54 Q71.2004 1173.97 71.2004 1166.87 Q71.2004 1159.74 69.3717 1156.2 Q67.5661 1152.63 63.9319 1152.63 M63.9319 1148.93 Q69.742 1148.93 72.7976 1153.53 Q75.8763 1158.12 75.8763 1166.87 Q75.8763 1175.59 72.7976 1180.2 Q69.742 1184.78 63.9319 1184.78 Q58.1217 1184.78 55.043 1180.2 Q51.9875 1175.59 51.9875 1166.87 Q51.9875 1158.12 55.043 1153.53 Q58.1217 1148.93 63.9319 1148.93 Z\" fill=\"#000000\" fill-rule=\"nonzero\" fill-opacity=\"1\" /><path clip-path=\"url(#clip400)\" d=\"M84.0938 1178.23 L88.978 1178.23 L88.978 1184.11 L84.0938 1184.11 L84.0938 1178.23 Z\" fill=\"#000000\" fill-rule=\"nonzero\" fill-opacity=\"1\" /><path clip-path=\"url(#clip400)\" d=\"M103.191 1180.18 L119.51 1180.18 L119.51 1184.11 L97.566 1184.11 L97.566 1180.18 Q100.228 1177.42 104.811 1172.79 Q109.418 1168.14 110.598 1166.8 Q112.844 1164.27 113.723 1162.54 Q114.626 1160.78 114.626 1159.09 Q114.626 1156.33 112.682 1154.6 Q110.76 1152.86 107.658 1152.86 Q105.459 1152.86 103.006 1153.63 Q100.575 1154.39 97.7974 1155.94 L97.7974 1151.22 Q100.621 1150.08 103.075 1149.51 Q105.529 1148.93 107.566 1148.93 Q112.936 1148.93 116.131 1151.61 Q119.325 1154.3 119.325 1158.79 Q119.325 1160.92 118.515 1162.84 Q117.728 1164.74 115.621 1167.33 Q115.043 1168 111.941 1171.22 Q108.839 1174.41 103.191 1180.18 Z\" fill=\"#000000\" fill-rule=\"nonzero\" fill-opacity=\"1\" /><path clip-path=\"url(#clip400)\" d=\"M129.371 1149.55 L147.728 1149.55 L147.728 1153.49 L133.654 1153.49 L133.654 1161.96 Q134.672 1161.61 135.691 1161.45 Q136.709 1161.26 137.728 1161.26 Q143.515 1161.26 146.894 1164.44 Q150.274 1167.61 150.274 1173.02 Q150.274 1178.6 146.802 1181.7 Q143.33 1184.78 137.01 1184.78 Q134.834 1184.78 132.566 1184.41 Q130.32 1184.04 127.913 1183.3 L127.913 1178.6 Q129.996 1179.74 132.219 1180.29 Q134.441 1180.85 136.918 1180.85 Q140.922 1180.85 143.26 1178.74 Q145.598 1176.64 145.598 1173.02 Q145.598 1169.41 143.26 1167.31 Q140.922 1165.2 136.918 1165.2 Q135.043 1165.2 133.168 1165.62 Q131.316 1166.03 129.371 1166.91 L129.371 1149.55 Z\" fill=\"#000000\" fill-rule=\"nonzero\" fill-opacity=\"1\" /><path clip-path=\"url(#clip400)\" d=\"M62.9365 859.349 Q59.3254 859.349 57.4967 862.914 Q55.6912 866.456 55.6912 873.585 Q55.6912 880.692 57.4967 884.257 Q59.3254 887.798 62.9365 887.798 Q66.5707 887.798 68.3763 884.257 Q70.205 880.692 70.205 873.585 Q70.205 866.456 68.3763 862.914 Q66.5707 859.349 62.9365 859.349 M62.9365 855.646 Q68.7467 855.646 71.8022 860.252 Q74.8809 864.835 74.8809 873.585 Q74.8809 882.312 71.8022 886.919 Q68.7467 891.502 62.9365 891.502 Q57.1264 891.502 54.0477 886.919 Q50.9921 882.312 50.9921 873.585 Q50.9921 864.835 54.0477 860.252 Q57.1264 855.646 62.9365 855.646 Z\" fill=\"#000000\" fill-rule=\"nonzero\" fill-opacity=\"1\" /><path clip-path=\"url(#clip400)\" d=\"M83.0984 884.951 L87.9827 884.951 L87.9827 890.831 L83.0984 890.831 L83.0984 884.951 Z\" fill=\"#000000\" fill-rule=\"nonzero\" fill-opacity=\"1\" /><path clip-path=\"url(#clip400)\" d=\"M98.2141 856.271 L116.57 856.271 L116.57 860.206 L102.496 860.206 L102.496 868.678 Q103.515 868.331 104.534 868.169 Q105.552 867.984 106.571 867.984 Q112.358 867.984 115.737 871.155 Q119.117 874.326 119.117 879.743 Q119.117 885.321 115.645 888.423 Q112.172 891.502 105.853 891.502 Q103.677 891.502 101.409 891.132 Q99.1632 890.761 96.7558 890.021 L96.7558 885.321 Q98.8391 886.456 101.061 887.011 Q103.284 887.567 105.76 887.567 Q109.765 887.567 112.103 885.46 Q114.441 883.354 114.441 879.743 Q114.441 876.132 112.103 874.025 Q109.765 871.919 105.76 871.919 Q103.885 871.919 102.01 872.335 Q100.159 872.752 98.2141 873.632 L98.2141 856.271 Z\" fill=\"#000000\" fill-rule=\"nonzero\" fill-opacity=\"1\" /><path clip-path=\"url(#clip400)\" d=\"M138.33 859.349 Q134.719 859.349 132.89 862.914 Q131.084 866.456 131.084 873.585 Q131.084 880.692 132.89 884.257 Q134.719 887.798 138.33 887.798 Q141.964 887.798 143.769 884.257 Q145.598 880.692 145.598 873.585 Q145.598 866.456 143.769 862.914 Q141.964 859.349 138.33 859.349 M138.33 855.646 Q144.14 855.646 147.195 860.252 Q150.274 864.835 150.274 873.585 Q150.274 882.312 147.195 886.919 Q144.14 891.502 138.33 891.502 Q132.519 891.502 129.441 886.919 Q126.385 882.312 126.385 873.585 Q126.385 864.835 129.441 860.252 Q132.519 855.646 138.33 855.646 Z\" fill=\"#000000\" fill-rule=\"nonzero\" fill-opacity=\"1\" /><path clip-path=\"url(#clip400)\" d=\"M63.9319 566.068 Q60.3208 566.068 58.4921 569.633 Q56.6865 573.175 56.6865 580.304 Q56.6865 587.411 58.4921 590.975 Q60.3208 594.517 63.9319 594.517 Q67.5661 594.517 69.3717 590.975 Q71.2004 587.411 71.2004 580.304 Q71.2004 573.175 69.3717 569.633 Q67.5661 566.068 63.9319 566.068 M63.9319 562.364 Q69.742 562.364 72.7976 566.971 Q75.8763 571.554 75.8763 580.304 Q75.8763 589.031 72.7976 593.637 Q69.742 598.221 63.9319 598.221 Q58.1217 598.221 55.043 593.637 Q51.9875 589.031 51.9875 580.304 Q51.9875 571.554 55.043 566.971 Q58.1217 562.364 63.9319 562.364 Z\" fill=\"#000000\" fill-rule=\"nonzero\" fill-opacity=\"1\" /><path clip-path=\"url(#clip400)\" d=\"M84.0938 591.67 L88.978 591.67 L88.978 597.549 L84.0938 597.549 L84.0938 591.67 Z\" fill=\"#000000\" fill-rule=\"nonzero\" fill-opacity=\"1\" /><path clip-path=\"url(#clip400)\" d=\"M97.9826 562.989 L120.205 562.989 L120.205 564.98 L107.658 597.549 L102.774 597.549 L114.58 566.925 L97.9826 566.925 L97.9826 562.989 Z\" fill=\"#000000\" fill-rule=\"nonzero\" fill-opacity=\"1\" /><path clip-path=\"url(#clip400)\" d=\"M129.371 562.989 L147.728 562.989 L147.728 566.925 L133.654 566.925 L133.654 575.397 Q134.672 575.05 135.691 574.888 Q136.709 574.702 137.728 574.702 Q143.515 574.702 146.894 577.874 Q150.274 581.045 150.274 586.462 Q150.274 592.04 146.802 595.142 Q143.33 598.221 137.01 598.221 Q134.834 598.221 132.566 597.85 Q130.32 597.48 127.913 596.739 L127.913 592.04 Q129.996 593.174 132.219 593.73 Q134.441 594.286 136.918 594.286 Q140.922 594.286 143.26 592.179 Q145.598 590.073 145.598 586.462 Q145.598 582.85 143.26 580.744 Q140.922 578.637 136.918 578.637 Q135.043 578.637 133.168 579.054 Q131.316 579.471 129.371 580.35 L129.371 562.989 Z\" fill=\"#000000\" fill-rule=\"nonzero\" fill-opacity=\"1\" /><path clip-path=\"url(#clip400)\" d=\"M53.7467 300.333 L61.3856 300.333 L61.3856 273.967 L53.0754 275.634 L53.0754 271.375 L61.3393 269.708 L66.0152 269.708 L66.0152 300.333 L73.654 300.333 L73.654 304.268 L53.7467 304.268 L53.7467 300.333 Z\" fill=\"#000000\" fill-rule=\"nonzero\" fill-opacity=\"1\" /><path clip-path=\"url(#clip400)\" d=\"M83.0984 298.389 L87.9827 298.389 L87.9827 304.268 L83.0984 304.268 L83.0984 298.389 Z\" fill=\"#000000\" fill-rule=\"nonzero\" fill-opacity=\"1\" /><path clip-path=\"url(#clip400)\" d=\"M108.168 272.787 Q104.557 272.787 102.728 276.352 Q100.922 279.893 100.922 287.023 Q100.922 294.129 102.728 297.694 Q104.557 301.236 108.168 301.236 Q111.802 301.236 113.608 297.694 Q115.436 294.129 115.436 287.023 Q115.436 279.893 113.608 276.352 Q111.802 272.787 108.168 272.787 M108.168 269.083 Q113.978 269.083 117.033 273.69 Q120.112 278.273 120.112 287.023 Q120.112 295.75 117.033 300.356 Q113.978 304.939 108.168 304.939 Q102.358 304.939 99.2789 300.356 Q96.2234 295.75 96.2234 287.023 Q96.2234 278.273 99.2789 273.69 Q102.358 269.083 108.168 269.083 Z\" fill=\"#000000\" fill-rule=\"nonzero\" fill-opacity=\"1\" /><path clip-path=\"url(#clip400)\" d=\"M138.33 272.787 Q134.719 272.787 132.89 276.352 Q131.084 279.893 131.084 287.023 Q131.084 294.129 132.89 297.694 Q134.719 301.236 138.33 301.236 Q141.964 301.236 143.769 297.694 Q145.598 294.129 145.598 287.023 Q145.598 279.893 143.769 276.352 Q141.964 272.787 138.33 272.787 M138.33 269.083 Q144.14 269.083 147.195 273.69 Q150.274 278.273 150.274 287.023 Q150.274 295.75 147.195 300.356 Q144.14 304.939 138.33 304.939 Q132.519 304.939 129.441 300.356 Q126.385 295.75 126.385 287.023 Q126.385 278.273 129.441 273.69 Q132.519 269.083 138.33 269.083 Z\" fill=\"#000000\" fill-rule=\"nonzero\" fill-opacity=\"1\" /><circle clip-path=\"url(#clip402)\" cx=\"247.59\" cy=\"1233.3\" r=\"14.4\" fill=\"#009af9\" fill-rule=\"evenodd\" fill-opacity=\"1\" stroke=\"#000000\" stroke-opacity=\"1\" stroke-width=\"3.2\"/>\n",
       "<circle clip-path=\"url(#clip402)\" cx=\"268.028\" cy=\"1377.57\" r=\"14.4\" fill=\"#009af9\" fill-rule=\"evenodd\" fill-opacity=\"1\" stroke=\"#000000\" stroke-opacity=\"1\" stroke-width=\"3.2\"/>\n",
       "<circle clip-path=\"url(#clip402)\" cx=\"288.467\" cy=\"1399.17\" r=\"14.4\" fill=\"#009af9\" fill-rule=\"evenodd\" fill-opacity=\"1\" stroke=\"#000000\" stroke-opacity=\"1\" stroke-width=\"3.2\"/>\n",
       "<circle clip-path=\"url(#clip402)\" cx=\"308.905\" cy=\"1264.05\" r=\"14.4\" fill=\"#009af9\" fill-rule=\"evenodd\" fill-opacity=\"1\" stroke=\"#000000\" stroke-opacity=\"1\" stroke-width=\"3.2\"/>\n",
       "<circle clip-path=\"url(#clip402)\" cx=\"329.344\" cy=\"1168.22\" r=\"14.4\" fill=\"#009af9\" fill-rule=\"evenodd\" fill-opacity=\"1\" stroke=\"#000000\" stroke-opacity=\"1\" stroke-width=\"3.2\"/>\n",
       "<circle clip-path=\"url(#clip402)\" cx=\"349.782\" cy=\"1306.85\" r=\"14.4\" fill=\"#009af9\" fill-rule=\"evenodd\" fill-opacity=\"1\" stroke=\"#000000\" stroke-opacity=\"1\" stroke-width=\"3.2\"/>\n",
       "<circle clip-path=\"url(#clip402)\" cx=\"370.221\" cy=\"1232.72\" r=\"14.4\" fill=\"#009af9\" fill-rule=\"evenodd\" fill-opacity=\"1\" stroke=\"#000000\" stroke-opacity=\"1\" stroke-width=\"3.2\"/>\n",
       "<circle clip-path=\"url(#clip402)\" cx=\"390.659\" cy=\"1289.14\" r=\"14.4\" fill=\"#009af9\" fill-rule=\"evenodd\" fill-opacity=\"1\" stroke=\"#000000\" stroke-opacity=\"1\" stroke-width=\"3.2\"/>\n",
       "<circle clip-path=\"url(#clip402)\" cx=\"411.098\" cy=\"1290.58\" r=\"14.4\" fill=\"#009af9\" fill-rule=\"evenodd\" fill-opacity=\"1\" stroke=\"#000000\" stroke-opacity=\"1\" stroke-width=\"3.2\"/>\n",
       "<circle clip-path=\"url(#clip402)\" cx=\"431.536\" cy=\"1128.51\" r=\"14.4\" fill=\"#009af9\" fill-rule=\"evenodd\" fill-opacity=\"1\" stroke=\"#000000\" stroke-opacity=\"1\" stroke-width=\"3.2\"/>\n",
       "<circle clip-path=\"url(#clip402)\" cx=\"451.975\" cy=\"1078.59\" r=\"14.4\" fill=\"#009af9\" fill-rule=\"evenodd\" fill-opacity=\"1\" stroke=\"#000000\" stroke-opacity=\"1\" stroke-width=\"3.2\"/>\n",
       "<circle clip-path=\"url(#clip402)\" cx=\"472.413\" cy=\"1170.39\" r=\"14.4\" fill=\"#009af9\" fill-rule=\"evenodd\" fill-opacity=\"1\" stroke=\"#000000\" stroke-opacity=\"1\" stroke-width=\"3.2\"/>\n",
       "<circle clip-path=\"url(#clip402)\" cx=\"492.852\" cy=\"985.673\" r=\"14.4\" fill=\"#009af9\" fill-rule=\"evenodd\" fill-opacity=\"1\" stroke=\"#000000\" stroke-opacity=\"1\" stroke-width=\"3.2\"/>\n",
       "<circle clip-path=\"url(#clip402)\" cx=\"513.29\" cy=\"950.178\" r=\"14.4\" fill=\"#009af9\" fill-rule=\"evenodd\" fill-opacity=\"1\" stroke=\"#000000\" stroke-opacity=\"1\" stroke-width=\"3.2\"/>\n",
       "<circle clip-path=\"url(#clip402)\" cx=\"533.729\" cy=\"1109.3\" r=\"14.4\" fill=\"#009af9\" fill-rule=\"evenodd\" fill-opacity=\"1\" stroke=\"#000000\" stroke-opacity=\"1\" stroke-width=\"3.2\"/>\n",
       "<circle clip-path=\"url(#clip402)\" cx=\"554.167\" cy=\"1037.29\" r=\"14.4\" fill=\"#009af9\" fill-rule=\"evenodd\" fill-opacity=\"1\" stroke=\"#000000\" stroke-opacity=\"1\" stroke-width=\"3.2\"/>\n",
       "<circle clip-path=\"url(#clip402)\" cx=\"574.606\" cy=\"828.804\" r=\"14.4\" fill=\"#009af9\" fill-rule=\"evenodd\" fill-opacity=\"1\" stroke=\"#000000\" stroke-opacity=\"1\" stroke-width=\"3.2\"/>\n",
       "<circle clip-path=\"url(#clip402)\" cx=\"595.044\" cy=\"941.654\" r=\"14.4\" fill=\"#009af9\" fill-rule=\"evenodd\" fill-opacity=\"1\" stroke=\"#000000\" stroke-opacity=\"1\" stroke-width=\"3.2\"/>\n",
       "<circle clip-path=\"url(#clip402)\" cx=\"615.483\" cy=\"825.883\" r=\"14.4\" fill=\"#009af9\" fill-rule=\"evenodd\" fill-opacity=\"1\" stroke=\"#000000\" stroke-opacity=\"1\" stroke-width=\"3.2\"/>\n",
       "<circle clip-path=\"url(#clip402)\" cx=\"635.921\" cy=\"727.073\" r=\"14.4\" fill=\"#009af9\" fill-rule=\"evenodd\" fill-opacity=\"1\" stroke=\"#000000\" stroke-opacity=\"1\" stroke-width=\"3.2\"/>\n",
       "<circle clip-path=\"url(#clip402)\" cx=\"656.36\" cy=\"824.561\" r=\"14.4\" fill=\"#009af9\" fill-rule=\"evenodd\" fill-opacity=\"1\" stroke=\"#000000\" stroke-opacity=\"1\" stroke-width=\"3.2\"/>\n",
       "<circle clip-path=\"url(#clip402)\" cx=\"676.798\" cy=\"748.644\" r=\"14.4\" fill=\"#009af9\" fill-rule=\"evenodd\" fill-opacity=\"1\" stroke=\"#000000\" stroke-opacity=\"1\" stroke-width=\"3.2\"/>\n",
       "<circle clip-path=\"url(#clip402)\" cx=\"697.237\" cy=\"672.948\" r=\"14.4\" fill=\"#009af9\" fill-rule=\"evenodd\" fill-opacity=\"1\" stroke=\"#000000\" stroke-opacity=\"1\" stroke-width=\"3.2\"/>\n",
       "<circle clip-path=\"url(#clip402)\" cx=\"717.675\" cy=\"757.926\" r=\"14.4\" fill=\"#009af9\" fill-rule=\"evenodd\" fill-opacity=\"1\" stroke=\"#000000\" stroke-opacity=\"1\" stroke-width=\"3.2\"/>\n",
       "<circle clip-path=\"url(#clip402)\" cx=\"738.114\" cy=\"528.956\" r=\"14.4\" fill=\"#009af9\" fill-rule=\"evenodd\" fill-opacity=\"1\" stroke=\"#000000\" stroke-opacity=\"1\" stroke-width=\"3.2\"/>\n",
       "<circle clip-path=\"url(#clip402)\" cx=\"758.552\" cy=\"642.629\" r=\"14.4\" fill=\"#009af9\" fill-rule=\"evenodd\" fill-opacity=\"1\" stroke=\"#000000\" stroke-opacity=\"1\" stroke-width=\"3.2\"/>\n",
       "<circle clip-path=\"url(#clip402)\" cx=\"778.991\" cy=\"461.152\" r=\"14.4\" fill=\"#009af9\" fill-rule=\"evenodd\" fill-opacity=\"1\" stroke=\"#000000\" stroke-opacity=\"1\" stroke-width=\"3.2\"/>\n",
       "<circle clip-path=\"url(#clip402)\" cx=\"799.429\" cy=\"469.697\" r=\"14.4\" fill=\"#009af9\" fill-rule=\"evenodd\" fill-opacity=\"1\" stroke=\"#000000\" stroke-opacity=\"1\" stroke-width=\"3.2\"/>\n",
       "<circle clip-path=\"url(#clip402)\" cx=\"819.868\" cy=\"425.479\" r=\"14.4\" fill=\"#009af9\" fill-rule=\"evenodd\" fill-opacity=\"1\" stroke=\"#000000\" stroke-opacity=\"1\" stroke-width=\"3.2\"/>\n",
       "<circle clip-path=\"url(#clip402)\" cx=\"840.306\" cy=\"523.963\" r=\"14.4\" fill=\"#009af9\" fill-rule=\"evenodd\" fill-opacity=\"1\" stroke=\"#000000\" stroke-opacity=\"1\" stroke-width=\"3.2\"/>\n",
       "<circle clip-path=\"url(#clip402)\" cx=\"860.745\" cy=\"293.588\" r=\"14.4\" fill=\"#009af9\" fill-rule=\"evenodd\" fill-opacity=\"1\" stroke=\"#000000\" stroke-opacity=\"1\" stroke-width=\"3.2\"/>\n",
       "<circle clip-path=\"url(#clip402)\" cx=\"881.183\" cy=\"279.541\" r=\"14.4\" fill=\"#009af9\" fill-rule=\"evenodd\" fill-opacity=\"1\" stroke=\"#000000\" stroke-opacity=\"1\" stroke-width=\"3.2\"/>\n",
       "<circle clip-path=\"url(#clip402)\" cx=\"901.622\" cy=\"314.101\" r=\"14.4\" fill=\"#009af9\" fill-rule=\"evenodd\" fill-opacity=\"1\" stroke=\"#000000\" stroke-opacity=\"1\" stroke-width=\"3.2\"/>\n",
       "<circle clip-path=\"url(#clip402)\" cx=\"922.06\" cy=\"313.553\" r=\"14.4\" fill=\"#009af9\" fill-rule=\"evenodd\" fill-opacity=\"1\" stroke=\"#000000\" stroke-opacity=\"1\" stroke-width=\"3.2\"/>\n",
       "<circle clip-path=\"url(#clip402)\" cx=\"942.499\" cy=\"339.485\" r=\"14.4\" fill=\"#009af9\" fill-rule=\"evenodd\" fill-opacity=\"1\" stroke=\"#000000\" stroke-opacity=\"1\" stroke-width=\"3.2\"/>\n",
       "<circle clip-path=\"url(#clip402)\" cx=\"962.937\" cy=\"273.708\" r=\"14.4\" fill=\"#009af9\" fill-rule=\"evenodd\" fill-opacity=\"1\" stroke=\"#000000\" stroke-opacity=\"1\" stroke-width=\"3.2\"/>\n",
       "<circle clip-path=\"url(#clip402)\" cx=\"983.376\" cy=\"245.588\" r=\"14.4\" fill=\"#009af9\" fill-rule=\"evenodd\" fill-opacity=\"1\" stroke=\"#000000\" stroke-opacity=\"1\" stroke-width=\"3.2\"/>\n",
       "<circle clip-path=\"url(#clip402)\" cx=\"1003.81\" cy=\"116.928\" r=\"14.4\" fill=\"#009af9\" fill-rule=\"evenodd\" fill-opacity=\"1\" stroke=\"#000000\" stroke-opacity=\"1\" stroke-width=\"3.2\"/>\n",
       "<circle clip-path=\"url(#clip402)\" cx=\"1024.25\" cy=\"258.854\" r=\"14.4\" fill=\"#009af9\" fill-rule=\"evenodd\" fill-opacity=\"1\" stroke=\"#000000\" stroke-opacity=\"1\" stroke-width=\"3.2\"/>\n",
       "<circle clip-path=\"url(#clip402)\" cx=\"1044.69\" cy=\"282.52\" r=\"14.4\" fill=\"#009af9\" fill-rule=\"evenodd\" fill-opacity=\"1\" stroke=\"#000000\" stroke-opacity=\"1\" stroke-width=\"3.2\"/>\n",
       "<circle clip-path=\"url(#clip402)\" cx=\"1065.13\" cy=\"299.475\" r=\"14.4\" fill=\"#009af9\" fill-rule=\"evenodd\" fill-opacity=\"1\" stroke=\"#000000\" stroke-opacity=\"1\" stroke-width=\"3.2\"/>\n",
       "<circle clip-path=\"url(#clip402)\" cx=\"1085.57\" cy=\"133.613\" r=\"14.4\" fill=\"#009af9\" fill-rule=\"evenodd\" fill-opacity=\"1\" stroke=\"#000000\" stroke-opacity=\"1\" stroke-width=\"3.2\"/>\n",
       "<circle clip-path=\"url(#clip402)\" cx=\"1106.01\" cy=\"142.132\" r=\"14.4\" fill=\"#009af9\" fill-rule=\"evenodd\" fill-opacity=\"1\" stroke=\"#000000\" stroke-opacity=\"1\" stroke-width=\"3.2\"/>\n",
       "<circle clip-path=\"url(#clip402)\" cx=\"1126.45\" cy=\"165.159\" r=\"14.4\" fill=\"#009af9\" fill-rule=\"evenodd\" fill-opacity=\"1\" stroke=\"#000000\" stroke-opacity=\"1\" stroke-width=\"3.2\"/>\n",
       "<circle clip-path=\"url(#clip402)\" cx=\"1146.88\" cy=\"163.722\" r=\"14.4\" fill=\"#009af9\" fill-rule=\"evenodd\" fill-opacity=\"1\" stroke=\"#000000\" stroke-opacity=\"1\" stroke-width=\"3.2\"/>\n",
       "<circle clip-path=\"url(#clip402)\" cx=\"1167.32\" cy=\"224.946\" r=\"14.4\" fill=\"#009af9\" fill-rule=\"evenodd\" fill-opacity=\"1\" stroke=\"#000000\" stroke-opacity=\"1\" stroke-width=\"3.2\"/>\n",
       "<circle clip-path=\"url(#clip402)\" cx=\"1187.76\" cy=\"87.9763\" r=\"14.4\" fill=\"#009af9\" fill-rule=\"evenodd\" fill-opacity=\"1\" stroke=\"#000000\" stroke-opacity=\"1\" stroke-width=\"3.2\"/>\n",
       "<circle clip-path=\"url(#clip402)\" cx=\"1208.2\" cy=\"169.061\" r=\"14.4\" fill=\"#009af9\" fill-rule=\"evenodd\" fill-opacity=\"1\" stroke=\"#000000\" stroke-opacity=\"1\" stroke-width=\"3.2\"/>\n",
       "<circle clip-path=\"url(#clip402)\" cx=\"1228.64\" cy=\"126.844\" r=\"14.4\" fill=\"#009af9\" fill-rule=\"evenodd\" fill-opacity=\"1\" stroke=\"#000000\" stroke-opacity=\"1\" stroke-width=\"3.2\"/>\n",
       "<circle clip-path=\"url(#clip402)\" cx=\"1249.08\" cy=\"290.019\" r=\"14.4\" fill=\"#009af9\" fill-rule=\"evenodd\" fill-opacity=\"1\" stroke=\"#000000\" stroke-opacity=\"1\" stroke-width=\"3.2\"/>\n",
       "<circle clip-path=\"url(#clip402)\" cx=\"1269.51\" cy=\"234.422\" r=\"14.4\" fill=\"#009af9\" fill-rule=\"evenodd\" fill-opacity=\"1\" stroke=\"#000000\" stroke-opacity=\"1\" stroke-width=\"3.2\"/>\n",
       "<circle clip-path=\"url(#clip402)\" cx=\"1289.95\" cy=\"292.524\" r=\"14.4\" fill=\"#009af9\" fill-rule=\"evenodd\" fill-opacity=\"1\" stroke=\"#000000\" stroke-opacity=\"1\" stroke-width=\"3.2\"/>\n",
       "<circle clip-path=\"url(#clip402)\" cx=\"1310.39\" cy=\"164.326\" r=\"14.4\" fill=\"#009af9\" fill-rule=\"evenodd\" fill-opacity=\"1\" stroke=\"#000000\" stroke-opacity=\"1\" stroke-width=\"3.2\"/>\n",
       "<circle clip-path=\"url(#clip402)\" cx=\"1330.83\" cy=\"220.502\" r=\"14.4\" fill=\"#009af9\" fill-rule=\"evenodd\" fill-opacity=\"1\" stroke=\"#000000\" stroke-opacity=\"1\" stroke-width=\"3.2\"/>\n",
       "<circle clip-path=\"url(#clip402)\" cx=\"1351.27\" cy=\"409.705\" r=\"14.4\" fill=\"#009af9\" fill-rule=\"evenodd\" fill-opacity=\"1\" stroke=\"#000000\" stroke-opacity=\"1\" stroke-width=\"3.2\"/>\n",
       "<circle clip-path=\"url(#clip402)\" cx=\"1371.71\" cy=\"366.197\" r=\"14.4\" fill=\"#009af9\" fill-rule=\"evenodd\" fill-opacity=\"1\" stroke=\"#000000\" stroke-opacity=\"1\" stroke-width=\"3.2\"/>\n",
       "<circle clip-path=\"url(#clip402)\" cx=\"1392.15\" cy=\"293.684\" r=\"14.4\" fill=\"#009af9\" fill-rule=\"evenodd\" fill-opacity=\"1\" stroke=\"#000000\" stroke-opacity=\"1\" stroke-width=\"3.2\"/>\n",
       "<circle clip-path=\"url(#clip402)\" cx=\"1412.58\" cy=\"486.511\" r=\"14.4\" fill=\"#009af9\" fill-rule=\"evenodd\" fill-opacity=\"1\" stroke=\"#000000\" stroke-opacity=\"1\" stroke-width=\"3.2\"/>\n",
       "<circle clip-path=\"url(#clip402)\" cx=\"1433.02\" cy=\"492.994\" r=\"14.4\" fill=\"#009af9\" fill-rule=\"evenodd\" fill-opacity=\"1\" stroke=\"#000000\" stroke-opacity=\"1\" stroke-width=\"3.2\"/>\n",
       "<circle clip-path=\"url(#clip402)\" cx=\"1453.46\" cy=\"461.175\" r=\"14.4\" fill=\"#009af9\" fill-rule=\"evenodd\" fill-opacity=\"1\" stroke=\"#000000\" stroke-opacity=\"1\" stroke-width=\"3.2\"/>\n",
       "<circle clip-path=\"url(#clip402)\" cx=\"1473.9\" cy=\"584.266\" r=\"14.4\" fill=\"#009af9\" fill-rule=\"evenodd\" fill-opacity=\"1\" stroke=\"#000000\" stroke-opacity=\"1\" stroke-width=\"3.2\"/>\n",
       "<circle clip-path=\"url(#clip402)\" cx=\"1494.34\" cy=\"516.01\" r=\"14.4\" fill=\"#009af9\" fill-rule=\"evenodd\" fill-opacity=\"1\" stroke=\"#000000\" stroke-opacity=\"1\" stroke-width=\"3.2\"/>\n",
       "<circle clip-path=\"url(#clip402)\" cx=\"1514.78\" cy=\"550.165\" r=\"14.4\" fill=\"#009af9\" fill-rule=\"evenodd\" fill-opacity=\"1\" stroke=\"#000000\" stroke-opacity=\"1\" stroke-width=\"3.2\"/>\n",
       "<circle clip-path=\"url(#clip402)\" cx=\"1535.22\" cy=\"511.779\" r=\"14.4\" fill=\"#009af9\" fill-rule=\"evenodd\" fill-opacity=\"1\" stroke=\"#000000\" stroke-opacity=\"1\" stroke-width=\"3.2\"/>\n",
       "<circle clip-path=\"url(#clip402)\" cx=\"1555.65\" cy=\"616.212\" r=\"14.4\" fill=\"#009af9\" fill-rule=\"evenodd\" fill-opacity=\"1\" stroke=\"#000000\" stroke-opacity=\"1\" stroke-width=\"3.2\"/>\n",
       "<circle clip-path=\"url(#clip402)\" cx=\"1576.09\" cy=\"587.353\" r=\"14.4\" fill=\"#009af9\" fill-rule=\"evenodd\" fill-opacity=\"1\" stroke=\"#000000\" stroke-opacity=\"1\" stroke-width=\"3.2\"/>\n",
       "<circle clip-path=\"url(#clip402)\" cx=\"1596.53\" cy=\"731.388\" r=\"14.4\" fill=\"#009af9\" fill-rule=\"evenodd\" fill-opacity=\"1\" stroke=\"#000000\" stroke-opacity=\"1\" stroke-width=\"3.2\"/>\n",
       "<circle clip-path=\"url(#clip402)\" cx=\"1616.97\" cy=\"679.893\" r=\"14.4\" fill=\"#009af9\" fill-rule=\"evenodd\" fill-opacity=\"1\" stroke=\"#000000\" stroke-opacity=\"1\" stroke-width=\"3.2\"/>\n",
       "<circle clip-path=\"url(#clip402)\" cx=\"1637.41\" cy=\"816.609\" r=\"14.4\" fill=\"#009af9\" fill-rule=\"evenodd\" fill-opacity=\"1\" stroke=\"#000000\" stroke-opacity=\"1\" stroke-width=\"3.2\"/>\n",
       "<circle clip-path=\"url(#clip402)\" cx=\"1657.85\" cy=\"756.183\" r=\"14.4\" fill=\"#009af9\" fill-rule=\"evenodd\" fill-opacity=\"1\" stroke=\"#000000\" stroke-opacity=\"1\" stroke-width=\"3.2\"/>\n",
       "<circle clip-path=\"url(#clip402)\" cx=\"1678.29\" cy=\"816.709\" r=\"14.4\" fill=\"#009af9\" fill-rule=\"evenodd\" fill-opacity=\"1\" stroke=\"#000000\" stroke-opacity=\"1\" stroke-width=\"3.2\"/>\n",
       "<circle clip-path=\"url(#clip402)\" cx=\"1698.72\" cy=\"1003.15\" r=\"14.4\" fill=\"#009af9\" fill-rule=\"evenodd\" fill-opacity=\"1\" stroke=\"#000000\" stroke-opacity=\"1\" stroke-width=\"3.2\"/>\n",
       "<circle clip-path=\"url(#clip402)\" cx=\"1719.16\" cy=\"894.918\" r=\"14.4\" fill=\"#009af9\" fill-rule=\"evenodd\" fill-opacity=\"1\" stroke=\"#000000\" stroke-opacity=\"1\" stroke-width=\"3.2\"/>\n",
       "<circle clip-path=\"url(#clip402)\" cx=\"1739.6\" cy=\"919.606\" r=\"14.4\" fill=\"#009af9\" fill-rule=\"evenodd\" fill-opacity=\"1\" stroke=\"#000000\" stroke-opacity=\"1\" stroke-width=\"3.2\"/>\n",
       "<circle clip-path=\"url(#clip402)\" cx=\"1760.04\" cy=\"900.846\" r=\"14.4\" fill=\"#009af9\" fill-rule=\"evenodd\" fill-opacity=\"1\" stroke=\"#000000\" stroke-opacity=\"1\" stroke-width=\"3.2\"/>\n",
       "<circle clip-path=\"url(#clip402)\" cx=\"1780.48\" cy=\"946.472\" r=\"14.4\" fill=\"#009af9\" fill-rule=\"evenodd\" fill-opacity=\"1\" stroke=\"#000000\" stroke-opacity=\"1\" stroke-width=\"3.2\"/>\n",
       "<circle clip-path=\"url(#clip402)\" cx=\"1800.92\" cy=\"1031.1\" r=\"14.4\" fill=\"#009af9\" fill-rule=\"evenodd\" fill-opacity=\"1\" stroke=\"#000000\" stroke-opacity=\"1\" stroke-width=\"3.2\"/>\n",
       "<circle clip-path=\"url(#clip402)\" cx=\"1821.35\" cy=\"1146.24\" r=\"14.4\" fill=\"#009af9\" fill-rule=\"evenodd\" fill-opacity=\"1\" stroke=\"#000000\" stroke-opacity=\"1\" stroke-width=\"3.2\"/>\n",
       "<circle clip-path=\"url(#clip402)\" cx=\"1841.79\" cy=\"1093.46\" r=\"14.4\" fill=\"#009af9\" fill-rule=\"evenodd\" fill-opacity=\"1\" stroke=\"#000000\" stroke-opacity=\"1\" stroke-width=\"3.2\"/>\n",
       "<circle clip-path=\"url(#clip402)\" cx=\"1862.23\" cy=\"1255.16\" r=\"14.4\" fill=\"#009af9\" fill-rule=\"evenodd\" fill-opacity=\"1\" stroke=\"#000000\" stroke-opacity=\"1\" stroke-width=\"3.2\"/>\n",
       "<circle clip-path=\"url(#clip402)\" cx=\"1882.67\" cy=\"1257.45\" r=\"14.4\" fill=\"#009af9\" fill-rule=\"evenodd\" fill-opacity=\"1\" stroke=\"#000000\" stroke-opacity=\"1\" stroke-width=\"3.2\"/>\n",
       "<circle clip-path=\"url(#clip402)\" cx=\"1903.11\" cy=\"1242.82\" r=\"14.4\" fill=\"#009af9\" fill-rule=\"evenodd\" fill-opacity=\"1\" stroke=\"#000000\" stroke-opacity=\"1\" stroke-width=\"3.2\"/>\n",
       "<circle clip-path=\"url(#clip402)\" cx=\"1923.55\" cy=\"1246.31\" r=\"14.4\" fill=\"#009af9\" fill-rule=\"evenodd\" fill-opacity=\"1\" stroke=\"#000000\" stroke-opacity=\"1\" stroke-width=\"3.2\"/>\n",
       "<circle clip-path=\"url(#clip402)\" cx=\"1943.99\" cy=\"1247.68\" r=\"14.4\" fill=\"#009af9\" fill-rule=\"evenodd\" fill-opacity=\"1\" stroke=\"#000000\" stroke-opacity=\"1\" stroke-width=\"3.2\"/>\n",
       "<circle clip-path=\"url(#clip402)\" cx=\"1964.42\" cy=\"1366.25\" r=\"14.4\" fill=\"#009af9\" fill-rule=\"evenodd\" fill-opacity=\"1\" stroke=\"#000000\" stroke-opacity=\"1\" stroke-width=\"3.2\"/>\n",
       "<circle clip-path=\"url(#clip402)\" cx=\"1984.86\" cy=\"1315.97\" r=\"14.4\" fill=\"#009af9\" fill-rule=\"evenodd\" fill-opacity=\"1\" stroke=\"#000000\" stroke-opacity=\"1\" stroke-width=\"3.2\"/>\n",
       "<circle clip-path=\"url(#clip402)\" cx=\"2005.3\" cy=\"1405.24\" r=\"14.4\" fill=\"#009af9\" fill-rule=\"evenodd\" fill-opacity=\"1\" stroke=\"#000000\" stroke-opacity=\"1\" stroke-width=\"3.2\"/>\n",
       "<circle clip-path=\"url(#clip402)\" cx=\"2025.74\" cy=\"1414.17\" r=\"14.4\" fill=\"#009af9\" fill-rule=\"evenodd\" fill-opacity=\"1\" stroke=\"#000000\" stroke-opacity=\"1\" stroke-width=\"3.2\"/>\n",
       "<circle clip-path=\"url(#clip402)\" cx=\"2046.18\" cy=\"1381.8\" r=\"14.4\" fill=\"#009af9\" fill-rule=\"evenodd\" fill-opacity=\"1\" stroke=\"#000000\" stroke-opacity=\"1\" stroke-width=\"3.2\"/>\n",
       "<circle clip-path=\"url(#clip402)\" cx=\"2066.62\" cy=\"1409.69\" r=\"14.4\" fill=\"#009af9\" fill-rule=\"evenodd\" fill-opacity=\"1\" stroke=\"#000000\" stroke-opacity=\"1\" stroke-width=\"3.2\"/>\n",
       "<circle clip-path=\"url(#clip402)\" cx=\"2087.06\" cy=\"1400.24\" r=\"14.4\" fill=\"#009af9\" fill-rule=\"evenodd\" fill-opacity=\"1\" stroke=\"#000000\" stroke-opacity=\"1\" stroke-width=\"3.2\"/>\n",
       "<circle clip-path=\"url(#clip402)\" cx=\"2107.49\" cy=\"1351.15\" r=\"14.4\" fill=\"#009af9\" fill-rule=\"evenodd\" fill-opacity=\"1\" stroke=\"#000000\" stroke-opacity=\"1\" stroke-width=\"3.2\"/>\n",
       "<circle clip-path=\"url(#clip402)\" cx=\"2127.93\" cy=\"1236.45\" r=\"14.4\" fill=\"#009af9\" fill-rule=\"evenodd\" fill-opacity=\"1\" stroke=\"#000000\" stroke-opacity=\"1\" stroke-width=\"3.2\"/>\n",
       "<circle clip-path=\"url(#clip402)\" cx=\"2148.37\" cy=\"1389.25\" r=\"14.4\" fill=\"#009af9\" fill-rule=\"evenodd\" fill-opacity=\"1\" stroke=\"#000000\" stroke-opacity=\"1\" stroke-width=\"3.2\"/>\n",
       "<circle clip-path=\"url(#clip402)\" cx=\"2168.81\" cy=\"1445.72\" r=\"14.4\" fill=\"#009af9\" fill-rule=\"evenodd\" fill-opacity=\"1\" stroke=\"#000000\" stroke-opacity=\"1\" stroke-width=\"3.2\"/>\n",
       "<circle clip-path=\"url(#clip402)\" cx=\"2189.25\" cy=\"1298.37\" r=\"14.4\" fill=\"#009af9\" fill-rule=\"evenodd\" fill-opacity=\"1\" stroke=\"#000000\" stroke-opacity=\"1\" stroke-width=\"3.2\"/>\n",
       "<circle clip-path=\"url(#clip402)\" cx=\"2209.69\" cy=\"1235.62\" r=\"14.4\" fill=\"#009af9\" fill-rule=\"evenodd\" fill-opacity=\"1\" stroke=\"#000000\" stroke-opacity=\"1\" stroke-width=\"3.2\"/>\n",
       "<circle clip-path=\"url(#clip402)\" cx=\"2230.12\" cy=\"1380.88\" r=\"14.4\" fill=\"#009af9\" fill-rule=\"evenodd\" fill-opacity=\"1\" stroke=\"#000000\" stroke-opacity=\"1\" stroke-width=\"3.2\"/>\n",
       "<circle clip-path=\"url(#clip402)\" cx=\"2250.56\" cy=\"1248.19\" r=\"14.4\" fill=\"#009af9\" fill-rule=\"evenodd\" fill-opacity=\"1\" stroke=\"#000000\" stroke-opacity=\"1\" stroke-width=\"3.2\"/>\n",
       "<circle clip-path=\"url(#clip402)\" cx=\"2271\" cy=\"1343.18\" r=\"14.4\" fill=\"#009af9\" fill-rule=\"evenodd\" fill-opacity=\"1\" stroke=\"#000000\" stroke-opacity=\"1\" stroke-width=\"3.2\"/>\n",
       "<circle clip-path=\"url(#clip402)\" cx=\"2291.44\" cy=\"1196.2\" r=\"14.4\" fill=\"#009af9\" fill-rule=\"evenodd\" fill-opacity=\"1\" stroke=\"#000000\" stroke-opacity=\"1\" stroke-width=\"3.2\"/>\n",
       "<path clip-path=\"url(#clip400)\" d=\"M2011.46 198.898 L2280.54 198.898 L2280.54 95.2176 L2011.46 95.2176  Z\" fill=\"#ffffff\" fill-rule=\"evenodd\" fill-opacity=\"1\"/>\n",
       "<polyline clip-path=\"url(#clip400)\" style=\"stroke:#000000; stroke-linecap:round; stroke-linejoin:round; stroke-width:4; stroke-opacity:1; fill:none\" points=\"2011.46,198.898 2280.54,198.898 2280.54,95.2176 2011.46,95.2176 2011.46,198.898 \"/>\n",
       "<circle clip-path=\"url(#clip400)\" cx=\"2107.75\" cy=\"147.058\" r=\"20.48\" fill=\"#009af9\" fill-rule=\"evenodd\" fill-opacity=\"1\" stroke=\"#000000\" stroke-opacity=\"1\" stroke-width=\"4.55111\"/>\n",
       "<path clip-path=\"url(#clip400)\" d=\"M2217.88 166.745 Q2216.07 171.375 2214.36 172.787 Q2212.65 174.199 2209.78 174.199 L2206.38 174.199 L2206.38 170.634 L2208.88 170.634 Q2210.63 170.634 2211.61 169.8 Q2212.58 168.967 2213.76 165.865 L2214.52 163.921 L2204.04 138.412 L2208.55 138.412 L2216.65 158.689 L2224.76 138.412 L2229.27 138.412 L2217.88 166.745 Z\" fill=\"#000000\" fill-rule=\"nonzero\" fill-opacity=\"1\" /><path clip-path=\"url(#clip400)\" d=\"M2236.56 160.402 L2244.2 160.402 L2244.2 134.037 L2235.89 135.703 L2235.89 131.444 L2244.15 129.778 L2248.83 129.778 L2248.83 160.402 L2256.47 160.402 L2256.47 164.338 L2236.56 164.338 L2236.56 160.402 Z\" fill=\"#000000\" fill-rule=\"nonzero\" fill-opacity=\"1\" /></svg>\n"
      ]
     },
     "execution_count": 9,
     "metadata": {},
     "output_type": "execute_result"
    }
   ],
   "source": [
    "scatter(xx, yy, markershape=:circle)"
   ]
  },
  {
   "cell_type": "markdown",
   "metadata": {},
   "source": [
    "Obliczony wektor wartości normalizujemy do 1, żeby łatwiej policzyć współczynniki aproksymacji (niżej objaśnienie dlaczego łatwiej). "
   ]
  },
  {
   "cell_type": "code",
   "execution_count": 10,
   "metadata": {},
   "outputs": [
    {
     "data": {
      "text/plain": [
       "4-element Vector{Int64}:\n",
       " 2\n",
       " 2\n",
       " 2\n",
       " 2"
      ]
     },
     "execution_count": 10,
     "metadata": {},
     "output_type": "execute_result"
    }
   ],
   "source": [
    "#przykład prostego wektora, który znormalizujemy\n",
    "vec=[2,2,2,2]"
   ]
  },
  {
   "cell_type": "code",
   "execution_count": 11,
   "metadata": {},
   "outputs": [
    {
     "data": {
      "text/plain": [
       "16"
      ]
     },
     "execution_count": 11,
     "metadata": {},
     "output_type": "execute_result"
    }
   ],
   "source": [
    "# iloczyn skalarny = długość^2\n",
    "dot(vec,vec)"
   ]
  },
  {
   "cell_type": "code",
   "execution_count": 12,
   "metadata": {},
   "outputs": [
    {
     "data": {
      "text/plain": [
       "4-element Vector{Float64}:\n",
       " 0.5\n",
       " 0.5\n",
       " 0.5\n",
       " 0.5"
      ]
     },
     "execution_count": 12,
     "metadata": {},
     "output_type": "execute_result"
    }
   ],
   "source": [
    "# normalizacja - długość wektora =1\n",
    "normalize(vec)"
   ]
  },
  {
   "cell_type": "code",
   "execution_count": 13,
   "metadata": {},
   "outputs": [
    {
     "data": {
      "text/plain": [
       "1.0"
      ]
     },
     "execution_count": 13,
     "metadata": {},
     "output_type": "execute_result"
    }
   ],
   "source": [
    "# sprawdzamy długość^2\n",
    "dot(normalize(vec), normalize(vec))"
   ]
  },
  {
   "cell_type": "markdown",
   "metadata": {},
   "source": [
    "* 0bliczamy funkcję bazową uwzględniającą czynnik wagowy.\n",
    "$<P_m,P_n>=\\int_{-\\infty}^{\\infty} H_n(x)H_m(x)\\exp(-x^2)dx \n",
    "= \\int_{-\\infty}^{\\infty}\\underbrace{H_n(x)\\exp(-\\frac{x^2}{2})}_{\\text{funkcja bazowa}_n}\\underbrace{H_m(x)\\exp(-\\frac{x^2}{2})}_{\\text{funkcja bazowa}_m}$\n",
    "\n",
    "* Wyliczamy jej wartości dla podanych punktów x\n",
    "* Otrzymany wektor wartości normalizujemy\n"
   ]
  },
  {
   "cell_type": "code",
   "execution_count": 17,
   "metadata": {},
   "outputs": [
    {
     "data": {
      "text/plain": [
       "base_fun (generic function with 2 methods)"
      ]
     },
     "execution_count": 17,
     "metadata": {},
     "output_type": "execute_result"
    }
   ],
   "source": [
    "# obliczamy funkcję bazową\n",
    "# argument 'norm'  na potrzeby wykresów\n",
    "function base_fun(k, x, norm=true)\n",
    "    H_k = basis(Hermite, k).(x)\n",
    "    app = H_k .* exp.(-(x.^2)/2)\n",
    "    # normalize to have norm 1\n",
    "    if norm\n",
    "        return normalize(app)\n",
    "    end\n",
    "    return app\n",
    "end"
   ]
  },
  {
   "cell_type": "code",
   "execution_count": 18,
   "metadata": {
    "scrolled": true
   },
   "outputs": [
    {
     "name": "stdout",
     "output_type": "stream",
     "text": [
      "1.0⋅H₂(x)\n",
      "1.0⋅H₂(x)\n"
     ]
    }
   ],
   "source": [
    "y_2_unnorm = base_fun(2, xx, false);\n",
    "y_2_norm = base_fun(2, xx);"
   ]
  },
  {
   "cell_type": "code",
   "execution_count": 19,
   "metadata": {},
   "outputs": [
    {
     "data": {
      "image/svg+xml": [
       "<?xml version=\"1.0\" encoding=\"utf-8\"?>\n",
       "<svg xmlns=\"http://www.w3.org/2000/svg\" xmlns:xlink=\"http://www.w3.org/1999/xlink\" width=\"600\" height=\"400\" viewBox=\"0 0 2400 1600\">\n",
       "<defs>\n",
       "  <clipPath id=\"clip440\">\n",
       "    <rect x=\"0\" y=\"0\" width=\"2400\" height=\"1600\"/>\n",
       "  </clipPath>\n",
       "</defs>\n",
       "<path clip-path=\"url(#clip440)\" d=\"M0 1600 L2400 1600 L2400 0 L0 0  Z\" fill=\"#ffffff\" fill-rule=\"evenodd\" fill-opacity=\"1\"/>\n",
       "<defs>\n",
       "  <clipPath id=\"clip441\">\n",
       "    <rect x=\"480\" y=\"0\" width=\"1681\" height=\"1600\"/>\n",
       "  </clipPath>\n",
       "</defs>\n",
       "<path clip-path=\"url(#clip440)\" d=\"M147.108 1486.45 L2352.76 1486.45 L2352.76 47.2441 L147.108 47.2441  Z\" fill=\"#ffffff\" fill-rule=\"evenodd\" fill-opacity=\"1\"/>\n",
       "<defs>\n",
       "  <clipPath id=\"clip442\">\n",
       "    <rect x=\"147\" y=\"47\" width=\"2207\" height=\"1440\"/>\n",
       "  </clipPath>\n",
       "</defs>\n",
       "<polyline clip-path=\"url(#clip442)\" style=\"stroke:#000000; stroke-linecap:round; stroke-linejoin:round; stroke-width:2; stroke-opacity:0.1; fill:none\" points=\"417.612,1486.45 417.612,47.2441 \"/>\n",
       "<polyline clip-path=\"url(#clip442)\" style=\"stroke:#000000; stroke-linecap:round; stroke-linejoin:round; stroke-width:2; stroke-opacity:0.1; fill:none\" points=\"833.772,1486.45 833.772,47.2441 \"/>\n",
       "<polyline clip-path=\"url(#clip442)\" style=\"stroke:#000000; stroke-linecap:round; stroke-linejoin:round; stroke-width:2; stroke-opacity:0.1; fill:none\" points=\"1249.93,1486.45 1249.93,47.2441 \"/>\n",
       "<polyline clip-path=\"url(#clip442)\" style=\"stroke:#000000; stroke-linecap:round; stroke-linejoin:round; stroke-width:2; stroke-opacity:0.1; fill:none\" points=\"1666.09,1486.45 1666.09,47.2441 \"/>\n",
       "<polyline clip-path=\"url(#clip442)\" style=\"stroke:#000000; stroke-linecap:round; stroke-linejoin:round; stroke-width:2; stroke-opacity:0.1; fill:none\" points=\"2082.25,1486.45 2082.25,47.2441 \"/>\n",
       "<polyline clip-path=\"url(#clip440)\" style=\"stroke:#000000; stroke-linecap:round; stroke-linejoin:round; stroke-width:4; stroke-opacity:1; fill:none\" points=\"147.108,1486.45 2352.76,1486.45 \"/>\n",
       "<polyline clip-path=\"url(#clip440)\" style=\"stroke:#000000; stroke-linecap:round; stroke-linejoin:round; stroke-width:4; stroke-opacity:1; fill:none\" points=\"417.612,1486.45 417.612,1467.55 \"/>\n",
       "<polyline clip-path=\"url(#clip440)\" style=\"stroke:#000000; stroke-linecap:round; stroke-linejoin:round; stroke-width:4; stroke-opacity:1; fill:none\" points=\"833.772,1486.45 833.772,1467.55 \"/>\n",
       "<polyline clip-path=\"url(#clip440)\" style=\"stroke:#000000; stroke-linecap:round; stroke-linejoin:round; stroke-width:4; stroke-opacity:1; fill:none\" points=\"1249.93,1486.45 1249.93,1467.55 \"/>\n",
       "<polyline clip-path=\"url(#clip440)\" style=\"stroke:#000000; stroke-linecap:round; stroke-linejoin:round; stroke-width:4; stroke-opacity:1; fill:none\" points=\"1666.09,1486.45 1666.09,1467.55 \"/>\n",
       "<polyline clip-path=\"url(#clip440)\" style=\"stroke:#000000; stroke-linecap:round; stroke-linejoin:round; stroke-width:4; stroke-opacity:1; fill:none\" points=\"2082.25,1486.45 2082.25,1467.55 \"/>\n",
       "<path clip-path=\"url(#clip440)\" d=\"M386.512 1532.02 L416.188 1532.02 L416.188 1535.95 L386.512 1535.95 L386.512 1532.02 Z\" fill=\"#000000\" fill-rule=\"nonzero\" fill-opacity=\"1\" /><path clip-path=\"url(#clip440)\" d=\"M439.128 1518.36 L427.322 1536.81 L439.128 1536.81 L439.128 1518.36 M437.901 1514.29 L443.78 1514.29 L443.78 1536.81 L448.711 1536.81 L448.711 1540.7 L443.78 1540.7 L443.78 1548.85 L439.128 1548.85 L439.128 1540.7 L423.526 1540.7 L423.526 1536.19 L437.901 1514.29 Z\" fill=\"#000000\" fill-rule=\"nonzero\" fill-opacity=\"1\" /><path clip-path=\"url(#clip440)\" d=\"M803.714 1532.02 L833.39 1532.02 L833.39 1535.95 L803.714 1535.95 L803.714 1532.02 Z\" fill=\"#000000\" fill-rule=\"nonzero\" fill-opacity=\"1\" /><path clip-path=\"url(#clip440)\" d=\"M847.51 1544.91 L863.829 1544.91 L863.829 1548.85 L841.885 1548.85 L841.885 1544.91 Q844.547 1542.16 849.13 1537.53 Q853.737 1532.88 854.917 1531.53 Q857.163 1529.01 858.042 1527.27 Q858.945 1525.51 858.945 1523.82 Q858.945 1521.07 857.001 1519.33 Q855.079 1517.6 851.978 1517.6 Q849.779 1517.6 847.325 1518.36 Q844.894 1519.13 842.117 1520.68 L842.117 1515.95 Q844.941 1514.82 847.394 1514.24 Q849.848 1513.66 851.885 1513.66 Q857.255 1513.66 860.45 1516.35 Q863.644 1519.03 863.644 1523.52 Q863.644 1525.65 862.834 1527.57 Q862.047 1529.47 859.94 1532.07 Q859.362 1532.74 856.26 1535.95 Q853.158 1539.15 847.51 1544.91 Z\" fill=\"#000000\" fill-rule=\"nonzero\" fill-opacity=\"1\" /><path clip-path=\"url(#clip440)\" d=\"M1249.93 1517.37 Q1246.32 1517.37 1244.49 1520.93 Q1242.69 1524.47 1242.69 1531.6 Q1242.69 1538.71 1244.49 1542.27 Q1246.32 1545.82 1249.93 1545.82 Q1253.57 1545.82 1255.37 1542.27 Q1257.2 1538.71 1257.2 1531.6 Q1257.2 1524.47 1255.37 1520.93 Q1253.57 1517.37 1249.93 1517.37 M1249.93 1513.66 Q1255.74 1513.66 1258.8 1518.27 Q1261.88 1522.85 1261.88 1531.6 Q1261.88 1540.33 1258.8 1544.94 Q1255.74 1549.52 1249.93 1549.52 Q1244.12 1549.52 1241.04 1544.94 Q1237.99 1540.33 1237.99 1531.6 Q1237.99 1522.85 1241.04 1518.27 Q1244.12 1513.66 1249.93 1513.66 Z\" fill=\"#000000\" fill-rule=\"nonzero\" fill-opacity=\"1\" /><path clip-path=\"url(#clip440)\" d=\"M1660.74 1544.91 L1677.06 1544.91 L1677.06 1548.85 L1655.12 1548.85 L1655.12 1544.91 Q1657.78 1542.16 1662.36 1537.53 Q1666.97 1532.88 1668.15 1531.53 Q1670.4 1529.01 1671.28 1527.27 Q1672.18 1525.51 1672.18 1523.82 Q1672.18 1521.07 1670.24 1519.33 Q1668.31 1517.6 1665.21 1517.6 Q1663.01 1517.6 1660.56 1518.36 Q1658.13 1519.13 1655.35 1520.68 L1655.35 1515.95 Q1658.18 1514.82 1660.63 1514.24 Q1663.08 1513.66 1665.12 1513.66 Q1670.49 1513.66 1673.68 1516.35 Q1676.88 1519.03 1676.88 1523.52 Q1676.88 1525.65 1676.07 1527.57 Q1675.28 1529.47 1673.18 1532.07 Q1672.6 1532.74 1669.49 1535.95 Q1666.39 1539.15 1660.74 1544.91 Z\" fill=\"#000000\" fill-rule=\"nonzero\" fill-opacity=\"1\" /><path clip-path=\"url(#clip440)\" d=\"M2085.26 1518.36 L2073.46 1536.81 L2085.26 1536.81 L2085.26 1518.36 M2084.03 1514.29 L2089.91 1514.29 L2089.91 1536.81 L2094.84 1536.81 L2094.84 1540.7 L2089.91 1540.7 L2089.91 1548.85 L2085.26 1548.85 L2085.26 1540.7 L2069.66 1540.7 L2069.66 1536.19 L2084.03 1514.29 Z\" fill=\"#000000\" fill-rule=\"nonzero\" fill-opacity=\"1\" /><polyline clip-path=\"url(#clip442)\" style=\"stroke:#000000; stroke-linecap:round; stroke-linejoin:round; stroke-width:2; stroke-opacity:0.1; fill:none\" points=\"147.108,1445.72 2352.76,1445.72 \"/>\n",
       "<polyline clip-path=\"url(#clip442)\" style=\"stroke:#000000; stroke-linecap:round; stroke-linejoin:round; stroke-width:2; stroke-opacity:0.1; fill:none\" points=\"147.108,1144 2352.76,1144 \"/>\n",
       "<polyline clip-path=\"url(#clip442)\" style=\"stroke:#000000; stroke-linecap:round; stroke-linejoin:round; stroke-width:2; stroke-opacity:0.1; fill:none\" points=\"147.108,842.276 2352.76,842.276 \"/>\n",
       "<polyline clip-path=\"url(#clip442)\" style=\"stroke:#000000; stroke-linecap:round; stroke-linejoin:round; stroke-width:2; stroke-opacity:0.1; fill:none\" points=\"147.108,540.556 2352.76,540.556 \"/>\n",
       "<polyline clip-path=\"url(#clip442)\" style=\"stroke:#000000; stroke-linecap:round; stroke-linejoin:round; stroke-width:2; stroke-opacity:0.1; fill:none\" points=\"147.108,238.836 2352.76,238.836 \"/>\n",
       "<polyline clip-path=\"url(#clip440)\" style=\"stroke:#000000; stroke-linecap:round; stroke-linejoin:round; stroke-width:4; stroke-opacity:1; fill:none\" points=\"147.108,1486.45 147.108,47.2441 \"/>\n",
       "<polyline clip-path=\"url(#clip440)\" style=\"stroke:#000000; stroke-linecap:round; stroke-linejoin:round; stroke-width:4; stroke-opacity:1; fill:none\" points=\"147.108,1445.72 166.005,1445.72 \"/>\n",
       "<polyline clip-path=\"url(#clip440)\" style=\"stroke:#000000; stroke-linecap:round; stroke-linejoin:round; stroke-width:4; stroke-opacity:1; fill:none\" points=\"147.108,1144 166.005,1144 \"/>\n",
       "<polyline clip-path=\"url(#clip440)\" style=\"stroke:#000000; stroke-linecap:round; stroke-linejoin:round; stroke-width:4; stroke-opacity:1; fill:none\" points=\"147.108,842.276 166.005,842.276 \"/>\n",
       "<polyline clip-path=\"url(#clip440)\" style=\"stroke:#000000; stroke-linecap:round; stroke-linejoin:round; stroke-width:4; stroke-opacity:1; fill:none\" points=\"147.108,540.556 166.005,540.556 \"/>\n",
       "<polyline clip-path=\"url(#clip440)\" style=\"stroke:#000000; stroke-linecap:round; stroke-linejoin:round; stroke-width:4; stroke-opacity:1; fill:none\" points=\"147.108,238.836 166.005,238.836 \"/>\n",
       "<path clip-path=\"url(#clip440)\" d=\"M50.9921 1446.17 L80.6679 1446.17 L80.6679 1450.1 L50.9921 1450.1 L50.9921 1446.17 Z\" fill=\"#000000\" fill-rule=\"nonzero\" fill-opacity=\"1\" /><path clip-path=\"url(#clip440)\" d=\"M94.7882 1459.06 L111.108 1459.06 L111.108 1463 L89.1632 1463 L89.1632 1459.06 Q91.8252 1456.31 96.4085 1451.68 Q101.015 1447.02 102.196 1445.68 Q104.441 1443.16 105.321 1441.42 Q106.223 1439.66 106.223 1437.97 Q106.223 1435.22 104.279 1433.48 Q102.358 1431.75 99.2558 1431.75 Q97.0567 1431.75 94.603 1432.51 Q92.1725 1433.27 89.3947 1434.82 L89.3947 1430.1 Q92.2188 1428.97 94.6724 1428.39 Q97.1261 1427.81 99.1632 1427.81 Q104.534 1427.81 107.728 1430.5 Q110.922 1433.18 110.922 1437.67 Q110.922 1439.8 110.112 1441.72 Q109.325 1443.62 107.219 1446.21 Q106.64 1446.88 103.538 1450.1 Q100.436 1453.3 94.7882 1459.06 Z\" fill=\"#000000\" fill-rule=\"nonzero\" fill-opacity=\"1\" /><path clip-path=\"url(#clip440)\" d=\"M99.1632 1129.79 Q95.5521 1129.79 93.7234 1133.36 Q91.9178 1136.9 91.9178 1144.03 Q91.9178 1151.14 93.7234 1154.7 Q95.5521 1158.24 99.1632 1158.24 Q102.797 1158.24 104.603 1154.7 Q106.432 1151.14 106.432 1144.03 Q106.432 1136.9 104.603 1133.36 Q102.797 1129.79 99.1632 1129.79 M99.1632 1126.09 Q104.973 1126.09 108.029 1130.7 Q111.108 1135.28 111.108 1144.03 Q111.108 1152.76 108.029 1157.36 Q104.973 1161.95 99.1632 1161.95 Q93.353 1161.95 90.2743 1157.36 Q87.2188 1152.76 87.2188 1144.03 Q87.2188 1135.28 90.2743 1130.7 Q93.353 1126.09 99.1632 1126.09 Z\" fill=\"#000000\" fill-rule=\"nonzero\" fill-opacity=\"1\" /><path clip-path=\"url(#clip440)\" d=\"M94.7882 855.621 L111.108 855.621 L111.108 859.556 L89.1632 859.556 L89.1632 855.621 Q91.8252 852.866 96.4085 848.237 Q101.015 843.584 102.196 842.241 Q104.441 839.718 105.321 837.982 Q106.223 836.223 106.223 834.533 Q106.223 831.778 104.279 830.042 Q102.358 828.306 99.2558 828.306 Q97.0567 828.306 94.603 829.07 Q92.1725 829.834 89.3947 831.385 L89.3947 826.663 Q92.2188 825.528 94.6724 824.95 Q97.1261 824.371 99.1632 824.371 Q104.534 824.371 107.728 827.056 Q110.922 829.741 110.922 834.232 Q110.922 836.362 110.112 838.283 Q109.325 840.181 107.219 842.774 Q106.64 843.445 103.538 846.663 Q100.436 849.857 94.7882 855.621 Z\" fill=\"#000000\" fill-rule=\"nonzero\" fill-opacity=\"1\" /><path clip-path=\"url(#clip440)\" d=\"M101.524 527.35 L89.7188 545.799 L101.524 545.799 L101.524 527.35 M100.297 523.276 L106.177 523.276 L106.177 545.799 L111.108 545.799 L111.108 549.688 L106.177 549.688 L106.177 557.836 L101.524 557.836 L101.524 549.688 L85.9225 549.688 L85.9225 545.174 L100.297 523.276 Z\" fill=\"#000000\" fill-rule=\"nonzero\" fill-opacity=\"1\" /><path clip-path=\"url(#clip440)\" d=\"M99.5798 236.973 Q96.4317 236.973 94.5799 239.126 Q92.7512 241.278 92.7512 245.028 Q92.7512 248.755 94.5799 250.931 Q96.4317 253.084 99.5798 253.084 Q102.728 253.084 104.557 250.931 Q106.408 248.755 106.408 245.028 Q106.408 241.278 104.557 239.126 Q102.728 236.973 99.5798 236.973 M108.862 222.32 L108.862 226.579 Q107.103 225.746 105.297 225.306 Q103.515 224.866 101.756 224.866 Q97.1261 224.866 94.6724 227.991 Q92.2419 231.116 91.8947 237.436 Q93.2604 235.422 95.3206 234.357 Q97.3808 233.269 99.8576 233.269 Q105.066 233.269 108.075 236.44 Q111.108 239.589 111.108 245.028 Q111.108 250.352 107.959 253.57 Q104.811 256.788 99.5798 256.788 Q93.5845 256.788 90.4132 252.204 Q87.2419 247.598 87.2419 238.871 Q87.2419 230.677 91.1308 225.815 Q95.0197 220.931 101.571 220.931 Q103.33 220.931 105.112 221.278 Q106.918 221.626 108.862 222.32 Z\" fill=\"#000000\" fill-rule=\"nonzero\" fill-opacity=\"1\" /><polyline clip-path=\"url(#clip442)\" style=\"stroke:#009af9; stroke-linecap:round; stroke-linejoin:round; stroke-width:4; stroke-opacity:1; fill:none\" points=\"937.812,87.9763 944.054,141.743 950.296,194.423 956.539,246.017 962.781,296.525 969.024,345.947 975.266,394.282 981.508,441.532 987.751,487.695 993.993,532.772 1000.24,576.762 1006.48,619.667 1012.72,661.485 1018.96,702.218 1025.21,741.864 1031.45,780.423 1037.69,817.897 1043.93,854.284 1050.17,889.586 1056.42,923.801 1062.66,956.93 1068.9,988.972 1075.14,1019.93 1081.39,1049.8 1087.63,1078.58 1093.87,1106.28 1100.11,1132.89 1106.36,1158.42 1112.6,1182.86 1118.84,1206.21 1125.08,1228.48 1131.33,1249.66 1137.57,1269.75 1143.81,1288.76 1150.05,1306.68 1156.3,1323.52 1162.54,1339.27 1168.78,1353.93 1175.02,1367.51 1181.27,1380 1187.51,1391.41 1193.75,1401.72 1199.99,1410.96 1206.23,1419.1 1212.48,1426.16 1218.72,1432.14 1224.96,1437.03 1231.2,1440.83 1237.45,1443.54 1243.69,1445.17 1249.93,1445.72 1256.17,1445.17 1262.42,1443.54 1268.66,1440.83 1274.9,1437.03 1281.14,1432.14 1287.39,1426.16 1293.63,1419.1 1299.87,1410.96 1306.11,1401.72 1312.36,1391.41 1318.6,1380 1324.84,1367.51 1331.08,1353.93 1337.33,1339.27 1343.57,1323.52 1349.81,1306.68 1356.05,1288.76 1362.29,1269.75 1368.54,1249.66 1374.78,1228.48 1381.02,1206.21 1387.26,1182.86 1393.51,1158.42 1399.75,1132.89 1405.99,1106.28 1412.23,1078.58 1418.48,1049.8 1424.72,1019.93 1430.96,988.972 1437.2,956.93 1443.45,923.801 1449.69,889.586 1455.93,854.284 1462.17,817.897 1468.42,780.423 1474.66,741.864 1480.9,702.218 1487.14,661.485 1493.39,619.667 1499.63,576.762 1505.87,532.772 1512.11,487.695 1518.35,441.532 1524.6,394.282 1530.84,345.947 1537.08,296.525 1543.32,246.017 1549.57,194.423 1555.81,141.743 1562.05,87.9763 \"/>\n",
       "<polyline clip-path=\"url(#clip442)\" style=\"stroke:#e26f46; stroke-linecap:round; stroke-linejoin:round; stroke-width:4; stroke-opacity:1; fill:none\" points=\"209.532,1143.94 230.34,1143.91 251.148,1143.86 271.956,1143.79 292.764,1143.68 313.572,1143.52 334.38,1143.28 355.188,1142.95 375.996,1142.47 396.804,1141.79 417.612,1140.86 438.42,1139.58 459.228,1137.84 480.036,1135.52 500.844,1132.46 521.652,1128.49 542.46,1123.38 563.268,1116.92 584.076,1108.87 604.884,1098.98 625.692,1087.02 646.5,1072.78 667.308,1056.11 688.116,1036.97 708.924,1015.38 729.732,991.544 750.54,965.819 771.348,938.757 792.156,911.116 812.964,883.865 833.772,858.162 854.58,835.327 875.388,816.785 896.196,803.998 917.004,798.372 937.812,801.156 958.62,813.338 979.428,835.534 1000.24,867.894 1021.04,910.034 1041.85,960.993 1062.66,1019.23 1083.47,1082.65 1104.28,1148.72 1125.08,1214.56 1145.89,1277.13 1166.7,1333.39 1187.51,1380.52 1208.32,1416.08 1229.12,1438.21 1249.93,1445.72 1270.74,1438.21 1291.55,1416.08 1312.36,1380.52 1333.16,1333.39 1353.97,1277.13 1374.78,1214.56 1395.59,1148.72 1416.4,1082.65 1437.2,1019.23 1458.01,960.993 1478.82,910.034 1499.63,867.894 1520.44,835.534 1541.24,813.338 1562.05,801.156 1582.86,798.372 1603.67,803.998 1624.48,816.785 1645.28,835.327 1666.09,858.162 1686.9,883.865 1707.71,911.116 1728.52,938.757 1749.32,965.819 1770.13,991.544 1790.94,1015.38 1811.75,1036.97 1832.56,1056.11 1853.36,1072.78 1874.17,1087.02 1894.98,1098.98 1915.79,1108.87 1936.6,1116.92 1957.4,1123.38 1978.21,1128.49 1999.02,1132.46 2019.83,1135.52 2040.64,1137.84 2061.44,1139.58 2082.25,1140.86 2103.06,1141.79 2123.87,1142.47 2144.68,1142.95 2165.48,1143.28 2186.29,1143.52 2207.1,1143.68 2227.91,1143.79 2248.72,1143.86 2269.52,1143.91 2290.33,1143.94 \"/>\n",
       "<polyline clip-path=\"url(#clip442)\" style=\"stroke:#3da44d; stroke-linecap:round; stroke-linejoin:round; stroke-width:4; stroke-opacity:1; fill:none\" points=\"209.532,1143.99 230.34,1143.99 251.148,1143.98 271.956,1143.98 292.764,1143.97 313.572,1143.96 334.38,1143.94 355.188,1143.91 375.996,1143.87 396.804,1143.81 417.612,1143.73 438.42,1143.62 459.228,1143.48 480.036,1143.28 500.844,1143.03 521.652,1142.69 542.46,1142.26 563.268,1141.72 584.076,1141.05 604.884,1140.22 625.692,1139.21 646.5,1138.01 667.308,1136.62 688.116,1135.01 708.924,1133.19 729.732,1131.19 750.54,1129.03 771.348,1126.76 792.156,1124.44 812.964,1122.15 833.772,1119.99 854.58,1118.07 875.388,1116.52 896.196,1115.44 917.004,1114.97 937.812,1115.2 958.62,1116.23 979.428,1118.09 1000.24,1120.81 1021.04,1124.35 1041.85,1128.63 1062.66,1133.52 1083.47,1138.84 1104.28,1144.39 1125.08,1149.92 1145.89,1155.18 1166.7,1159.9 1187.51,1163.86 1208.32,1166.85 1229.12,1168.7 1249.93,1169.33 1270.74,1168.7 1291.55,1166.85 1312.36,1163.86 1333.16,1159.9 1353.97,1155.18 1374.78,1149.92 1395.59,1144.39 1416.4,1138.84 1437.2,1133.52 1458.01,1128.63 1478.82,1124.35 1499.63,1120.81 1520.44,1118.09 1541.24,1116.23 1562.05,1115.2 1582.86,1114.97 1603.67,1115.44 1624.48,1116.52 1645.28,1118.07 1666.09,1119.99 1686.9,1122.15 1707.71,1124.44 1728.52,1126.76 1749.32,1129.03 1770.13,1131.19 1790.94,1133.19 1811.75,1135.01 1832.56,1136.62 1853.36,1138.01 1874.17,1139.21 1894.98,1140.22 1915.79,1141.05 1936.6,1141.72 1957.4,1142.26 1978.21,1142.69 1999.02,1143.03 2019.83,1143.28 2040.64,1143.48 2061.44,1143.62 2082.25,1143.73 2103.06,1143.81 2123.87,1143.87 2144.68,1143.91 2165.48,1143.94 2186.29,1143.96 2207.1,1143.97 2227.91,1143.98 2248.72,1143.98 2269.52,1143.99 2290.33,1143.99 \"/>\n",
       "<path clip-path=\"url(#clip440)\" d=\"M1731.7 302.578 L2279.23 302.578 L2279.23 95.2176 L1731.7 95.2176  Z\" fill=\"#ffffff\" fill-rule=\"evenodd\" fill-opacity=\"1\"/>\n",
       "<polyline clip-path=\"url(#clip440)\" style=\"stroke:#000000; stroke-linecap:round; stroke-linejoin:round; stroke-width:4; stroke-opacity:1; fill:none\" points=\"1731.7,302.578 2279.23,302.578 2279.23,95.2176 1731.7,95.2176 1731.7,302.578 \"/>\n",
       "<polyline clip-path=\"url(#clip440)\" style=\"stroke:#009af9; stroke-linecap:round; stroke-linejoin:round; stroke-width:4; stroke-opacity:1; fill:none\" points=\"1756.21,147.058 1903.25,147.058 \"/>\n",
       "<path clip-path=\"url(#clip440)\" d=\"M1928.43 160.402 L1936.07 160.402 L1936.07 134.037 L1927.76 135.703 L1927.76 131.444 L1936.03 129.778 L1940.7 129.778 L1940.7 160.402 L1948.34 160.402 L1948.34 164.338 L1928.43 164.338 L1928.43 160.402 Z\" fill=\"#000000\" fill-rule=\"nonzero\" fill-opacity=\"1\" /><path clip-path=\"url(#clip440)\" d=\"M1957.78 144.94 L1962.67 144.94 L1962.67 150.819 L1957.78 150.819 L1957.78 144.94 Z\" fill=\"#000000\" fill-rule=\"nonzero\" fill-opacity=\"1\" /><path clip-path=\"url(#clip440)\" d=\"M1972.44 129.778 L1977.11 129.778 L1977.11 143.944 L1994.1 143.944 L1994.1 129.778 L1998.78 129.778 L1998.78 164.338 L1994.1 164.338 L1994.1 147.879 L1977.11 147.879 L1977.11 164.338 L1972.44 164.338 L1972.44 129.778 Z\" fill=\"#000000\" fill-rule=\"nonzero\" fill-opacity=\"1\" /><path clip-path=\"url(#clip440)\" d=\"M2009.64 161.699 L2019.45 161.699 L2019.45 164.338 L2005.61 164.338 L2005.61 161.791 Q2006.4 161.074 2007.85 159.777 Q2015.82 152.717 2015.82 150.541 Q2015.82 149.014 2014.61 148.088 Q2013.41 147.139 2011.44 147.139 Q2010.24 147.139 2008.83 147.555 Q2007.41 147.949 2005.75 148.759 L2005.75 145.912 Q2007.53 145.264 2009.06 144.94 Q2010.61 144.615 2011.93 144.615 Q2015.28 144.615 2017.3 146.143 Q2019.31 147.671 2019.31 150.171 Q2019.31 153.389 2011.65 159.963 Q2010.35 161.074 2009.64 161.699 Z\" fill=\"#000000\" fill-rule=\"nonzero\" fill-opacity=\"1\" /><path clip-path=\"url(#clip440)\" d=\"M2037.14 128.366 Q2034.03 133.69 2032.53 138.898 Q2031.02 144.106 2031.02 149.453 Q2031.02 154.801 2032.53 160.055 Q2034.06 165.287 2037.14 170.588 L2033.43 170.588 Q2029.96 165.148 2028.22 159.893 Q2026.51 154.639 2026.51 149.453 Q2026.51 144.291 2028.22 139.06 Q2029.94 133.828 2033.43 128.366 L2037.14 128.366 Z\" fill=\"#000000\" fill-rule=\"nonzero\" fill-opacity=\"1\" /><path clip-path=\"url(#clip440)\" d=\"M2066.95 138.412 L2057.58 151.027 L2067.44 164.338 L2062.41 164.338 L2054.87 154.152 L2047.32 164.338 L2042.3 164.338 L2052.37 150.773 L2043.15 138.412 L2048.18 138.412 L2055.05 147.648 L2061.93 138.412 L2066.95 138.412 Z\" fill=\"#000000\" fill-rule=\"nonzero\" fill-opacity=\"1\" /><path clip-path=\"url(#clip440)\" d=\"M2072.78 128.366 L2076.49 128.366 Q2079.96 133.828 2081.67 139.06 Q2083.41 144.291 2083.41 149.453 Q2083.41 154.639 2081.67 159.893 Q2079.96 165.148 2076.49 170.588 L2072.78 170.588 Q2075.86 165.287 2077.37 160.055 Q2078.89 154.801 2078.89 149.453 Q2078.89 144.106 2077.37 138.898 Q2075.86 133.69 2072.78 128.366 Z\" fill=\"#000000\" fill-rule=\"nonzero\" fill-opacity=\"1\" /><polyline clip-path=\"url(#clip440)\" style=\"stroke:#e26f46; stroke-linecap:round; stroke-linejoin:round; stroke-width:4; stroke-opacity:1; fill:none\" points=\"1756.21,198.898 1903.25,198.898 \"/>\n",
       "<path clip-path=\"url(#clip440)\" d=\"M1927.76 181.618 L1947.62 181.618 L1947.62 185.553 L1932.44 185.553 L1932.44 195.738 L1946.14 195.738 L1946.14 199.673 L1932.44 199.673 L1932.44 216.178 L1927.76 216.178 L1927.76 181.618 Z\" fill=\"#000000\" fill-rule=\"nonzero\" fill-opacity=\"1\" /><path clip-path=\"url(#clip440)\" d=\"M1959.47 212.242 L1975.79 212.242 L1975.79 216.178 L1953.85 216.178 L1953.85 212.242 Q1956.51 209.488 1961.09 204.858 Q1965.7 200.205 1966.88 198.863 Q1969.13 196.34 1970.01 194.604 Q1970.91 192.844 1970.91 191.155 Q1970.91 188.4 1968.96 186.664 Q1967.04 184.928 1963.94 184.928 Q1961.74 184.928 1959.29 185.692 Q1956.86 186.455 1954.08 188.006 L1954.08 183.284 Q1956.9 182.15 1959.36 181.571 Q1961.81 180.993 1963.85 180.993 Q1969.22 180.993 1972.41 183.678 Q1975.61 186.363 1975.61 190.854 Q1975.61 192.983 1974.8 194.905 Q1974.01 196.803 1971.9 199.395 Q1971.33 200.067 1968.22 203.284 Q1965.12 206.479 1959.47 212.242 Z\" fill=\"#000000\" fill-rule=\"nonzero\" fill-opacity=\"1\" /><polyline clip-path=\"url(#clip440)\" style=\"stroke:#3da44d; stroke-linecap:round; stroke-linejoin:round; stroke-width:4; stroke-opacity:1; fill:none\" points=\"1756.21,250.738 1903.25,250.738 \"/>\n",
       "<path clip-path=\"url(#clip440)\" d=\"M1927.76 233.458 L1947.62 233.458 L1947.62 237.393 L1932.44 237.393 L1932.44 247.578 L1946.14 247.578 L1946.14 251.513 L1932.44 251.513 L1932.44 268.018 L1927.76 268.018 L1927.76 233.458 Z\" fill=\"#000000\" fill-rule=\"nonzero\" fill-opacity=\"1\" /><path clip-path=\"url(#clip440)\" d=\"M1959.47 264.082 L1975.79 264.082 L1975.79 268.018 L1953.85 268.018 L1953.85 264.082 Q1956.51 261.328 1961.09 256.698 Q1965.7 252.045 1966.88 250.703 Q1969.13 248.18 1970.01 246.444 Q1970.91 244.684 1970.91 242.995 Q1970.91 240.24 1968.96 238.504 Q1967.04 236.768 1963.94 236.768 Q1961.74 236.768 1959.29 237.532 Q1956.86 238.295 1954.08 239.846 L1954.08 235.124 Q1956.9 233.99 1959.36 233.411 Q1961.81 232.833 1963.85 232.833 Q1969.22 232.833 1972.41 235.518 Q1975.61 238.203 1975.61 242.694 Q1975.61 244.823 1974.8 246.745 Q1974.01 248.643 1971.9 251.235 Q1971.33 251.907 1968.22 255.124 Q1965.12 258.319 1959.47 264.082 Z\" fill=\"#000000\" fill-rule=\"nonzero\" fill-opacity=\"1\" /><path clip-path=\"url(#clip440)\" d=\"M2021.63 252.369 L2021.63 268.018 L2017.37 268.018 L2017.37 252.508 Q2017.37 248.828 2015.93 246.999 Q2014.5 245.17 2011.63 245.17 Q2008.18 245.17 2006.19 247.37 Q2004.2 249.569 2004.2 253.365 L2004.2 268.018 L1999.91 268.018 L1999.91 242.092 L2004.2 242.092 L2004.2 246.12 Q2005.72 243.782 2007.78 242.624 Q2009.87 241.467 2012.58 241.467 Q2017.04 241.467 2019.33 244.245 Q2021.63 246.999 2021.63 252.369 Z\" fill=\"#000000\" fill-rule=\"nonzero\" fill-opacity=\"1\" /><path clip-path=\"url(#clip440)\" d=\"M2040.17 245.078 Q2036.74 245.078 2034.75 247.763 Q2032.76 250.425 2032.76 255.078 Q2032.76 259.731 2034.73 262.416 Q2036.72 265.078 2040.17 265.078 Q2043.57 265.078 2045.56 262.393 Q2047.55 259.707 2047.55 255.078 Q2047.55 250.471 2045.56 247.786 Q2043.57 245.078 2040.17 245.078 M2040.17 241.467 Q2045.72 241.467 2048.89 245.078 Q2052.07 248.689 2052.07 255.078 Q2052.07 261.444 2048.89 265.078 Q2045.72 268.689 2040.17 268.689 Q2034.59 268.689 2031.42 265.078 Q2028.27 261.444 2028.27 255.078 Q2028.27 248.689 2031.42 245.078 Q2034.59 241.467 2040.17 241.467 Z\" fill=\"#000000\" fill-rule=\"nonzero\" fill-opacity=\"1\" /><path clip-path=\"url(#clip440)\" d=\"M2074.15 246.073 Q2073.43 245.657 2072.58 245.471 Q2071.74 245.263 2070.72 245.263 Q2067.11 245.263 2065.17 247.624 Q2063.25 249.962 2063.25 254.36 L2063.25 268.018 L2058.96 268.018 L2058.96 242.092 L2063.25 242.092 L2063.25 246.12 Q2064.59 243.758 2066.74 242.624 Q2068.89 241.467 2071.97 241.467 Q2072.41 241.467 2072.95 241.536 Q2073.48 241.583 2074.13 241.698 L2074.15 246.073 Z\" fill=\"#000000\" fill-rule=\"nonzero\" fill-opacity=\"1\" /><path clip-path=\"url(#clip440)\" d=\"M2097.97 247.069 Q2099.57 244.198 2101.79 242.833 Q2104.01 241.467 2107.02 241.467 Q2111.07 241.467 2113.27 244.314 Q2115.47 247.138 2115.47 252.369 L2115.47 268.018 L2111.19 268.018 L2111.19 252.508 Q2111.19 248.782 2109.87 246.976 Q2108.55 245.17 2105.84 245.17 Q2102.53 245.17 2100.61 247.37 Q2098.69 249.569 2098.69 253.365 L2098.69 268.018 L2094.4 268.018 L2094.4 252.508 Q2094.4 248.758 2093.08 246.976 Q2091.76 245.17 2089.01 245.17 Q2085.75 245.17 2083.83 247.393 Q2081.9 249.592 2081.9 253.365 L2081.9 268.018 L2077.62 268.018 L2077.62 242.092 L2081.9 242.092 L2081.9 246.12 Q2083.36 243.735 2085.4 242.601 Q2087.44 241.467 2090.24 241.467 Q2093.06 241.467 2095.03 242.902 Q2097.02 244.337 2097.97 247.069 Z\" fill=\"#000000\" fill-rule=\"nonzero\" fill-opacity=\"1\" /><path clip-path=\"url(#clip440)\" d=\"M2135.75 254.985 Q2130.58 254.985 2128.59 256.166 Q2126.6 257.346 2126.6 260.194 Q2126.6 262.462 2128.08 263.805 Q2129.59 265.124 2132.16 265.124 Q2135.7 265.124 2137.83 262.624 Q2139.98 260.101 2139.98 255.934 L2139.98 254.985 L2135.75 254.985 M2144.24 253.226 L2144.24 268.018 L2139.98 268.018 L2139.98 264.082 Q2138.52 266.443 2136.35 267.578 Q2134.17 268.689 2131.02 268.689 Q2127.04 268.689 2124.68 266.467 Q2122.34 264.221 2122.34 260.471 Q2122.34 256.096 2125.26 253.874 Q2128.2 251.652 2134.01 251.652 L2139.98 251.652 L2139.98 251.235 Q2139.98 248.295 2138.04 246.698 Q2136.12 245.078 2132.62 245.078 Q2130.4 245.078 2128.29 245.61 Q2126.19 246.143 2124.24 247.207 L2124.24 243.272 Q2126.58 242.37 2128.78 241.93 Q2130.98 241.467 2133.06 241.467 Q2138.69 241.467 2141.46 244.383 Q2144.24 247.3 2144.24 253.226 Z\" fill=\"#000000\" fill-rule=\"nonzero\" fill-opacity=\"1\" /><path clip-path=\"url(#clip440)\" d=\"M2153.01 231.999 L2157.27 231.999 L2157.27 268.018 L2153.01 268.018 L2153.01 231.999 Z\" fill=\"#000000\" fill-rule=\"nonzero\" fill-opacity=\"1\" /><path clip-path=\"url(#clip440)\" d=\"M2166.19 242.092 L2170.45 242.092 L2170.45 268.018 L2166.19 268.018 L2166.19 242.092 M2166.19 231.999 L2170.45 231.999 L2170.45 237.393 L2166.19 237.393 L2166.19 231.999 Z\" fill=\"#000000\" fill-rule=\"nonzero\" fill-opacity=\"1\" /><path clip-path=\"url(#clip440)\" d=\"M2177.51 242.092 L2197.74 242.092 L2197.74 245.981 L2181.72 264.615 L2197.74 264.615 L2197.74 268.018 L2176.93 268.018 L2176.93 264.129 L2192.95 245.495 L2177.51 245.495 L2177.51 242.092 Z\" fill=\"#000000\" fill-rule=\"nonzero\" fill-opacity=\"1\" /><path clip-path=\"url(#clip440)\" d=\"M2226.42 253.99 L2226.42 256.073 L2206.83 256.073 Q2207.11 260.471 2209.47 262.786 Q2211.86 265.078 2216.09 265.078 Q2218.55 265.078 2220.84 264.476 Q2223.15 263.874 2225.42 262.67 L2225.42 266.698 Q2223.13 267.67 2220.72 268.18 Q2218.32 268.689 2215.84 268.689 Q2209.63 268.689 2206 265.078 Q2202.39 261.467 2202.39 255.309 Q2202.39 248.944 2205.82 245.217 Q2209.26 241.467 2215.1 241.467 Q2220.33 241.467 2223.36 244.846 Q2226.42 248.203 2226.42 253.99 M2222.16 252.74 Q2222.11 249.245 2220.19 247.161 Q2218.29 245.078 2215.14 245.078 Q2211.58 245.078 2209.43 247.092 Q2207.3 249.106 2206.97 252.763 L2222.16 252.74 Z\" fill=\"#000000\" fill-rule=\"nonzero\" fill-opacity=\"1\" /><path clip-path=\"url(#clip440)\" d=\"M2250.47 246.027 L2250.47 231.999 L2254.73 231.999 L2254.73 268.018 L2250.47 268.018 L2250.47 264.129 Q2249.13 266.443 2247.07 267.578 Q2245.03 268.689 2242.16 268.689 Q2237.46 268.689 2234.5 264.939 Q2231.56 261.189 2231.56 255.078 Q2231.56 248.967 2234.5 245.217 Q2237.46 241.467 2242.16 241.467 Q2245.03 241.467 2247.07 242.601 Q2249.13 243.712 2250.47 246.027 M2235.95 255.078 Q2235.95 259.777 2237.88 262.462 Q2239.82 265.124 2243.2 265.124 Q2246.58 265.124 2248.52 262.462 Q2250.47 259.777 2250.47 255.078 Q2250.47 250.379 2248.52 247.717 Q2246.58 245.032 2243.2 245.032 Q2239.82 245.032 2237.88 247.717 Q2235.95 250.379 2235.95 255.078 Z\" fill=\"#000000\" fill-rule=\"nonzero\" fill-opacity=\"1\" /></svg>\n"
      ]
     },
     "execution_count": 19,
     "metadata": {},
     "output_type": "execute_result"
    }
   ],
   "source": [
    "plot(Hermite([0, 0, 1]), -1.5, 1.5)\n",
    "plot!(xx, y_2_unnorm, label=\"F2\")\n",
    "plot!(xx, y_2_norm, label=\"F2 normalized\")"
   ]
  },
  {
   "cell_type": "markdown",
   "metadata": {},
   "source": [
    "Obliczamy wektory wartosci dla punktów w xx dla kilku kolejnych funkcji bazowych"
   ]
  },
  {
   "cell_type": "code",
   "execution_count": 20,
   "metadata": {},
   "outputs": [
    {
     "name": "stdout",
     "output_type": "stream",
     "text": [
      "1.0⋅H₀(x)\n",
      "1.0⋅H₁(x)\n",
      "1.0⋅H₂(x)\n",
      "1.0⋅H₃(x)\n"
     ]
    }
   ],
   "source": [
    "f0 = base_fun(0, xx, true);\n",
    "f1 = base_fun(1, xx, true);\n",
    "f2 = base_fun(2, xx, true);\n",
    "f3 = base_fun(3, xx, true);"
   ]
  },
  {
   "cell_type": "markdown",
   "metadata": {},
   "source": [
    "Sprawdźmy czy baza jest ortonormalna (uwaga: zamiast liczyć całkę, sprawdzamy po prostu iloczyn skalarny wektorów wartości)."
   ]
  },
  {
   "cell_type": "code",
   "execution_count": 21,
   "metadata": {},
   "outputs": [],
   "source": [
    "dot_base = Array{Float64, 2}(undef, 4, 4); \n",
    "\n",
    "for (i, f_i) in enumerate([f0, f1, f2, f3]) \n",
    "    for (j, f_j) in enumerate([f0, f1, f2, f3])\n",
    "        dot_base[i,j] = dot(f_i, f_j)\n",
    "    end\n",
    "end"
   ]
  },
  {
   "cell_type": "code",
   "execution_count": 22,
   "metadata": {},
   "outputs": [
    {
     "data": {
      "text/plain": [
       "4×4 Matrix{Float64}:\n",
       "  1.0          -5.56683e-18  -3.25356e-11  -1.61333e-18\n",
       " -5.56683e-18   1.0          -5.41192e-18  -9.61163e-10\n",
       " -3.25356e-11  -5.41192e-18   1.0           6.6555e-18\n",
       " -1.61333e-18  -9.61163e-10   6.6555e-18    1.0"
      ]
     },
     "execution_count": 22,
     "metadata": {},
     "output_type": "execute_result"
    }
   ],
   "source": [
    "dot_base"
   ]
  },
  {
   "cell_type": "markdown",
   "metadata": {},
   "source": [
    "OK, baza jest ortonormalna"
   ]
  },
  {
   "cell_type": "markdown",
   "metadata": {},
   "source": [
    "Obliczamy kolejne współczynniki aproksymacji. Dzięki ortonormalnej bazie, poszczególne współczynniki są iloczynami skalarnymi wektora wartości funkcji aproksymowanej oraz  wektora bazowego (analogia: rzut  wektora wartości funkcji aproksymowanej w kierunku wektora bazowego).\n",
    "\n",
    "Wektor bazowy jest znormalizowany $|\\vec{j}|=1$, co upraszcza obliczenia."
   ]
  },
  {
   "cell_type": "markdown",
   "metadata": {},
   "source": [
    "Analogia w 2D\n",
    "\n",
    "$\\text{rzut }\\vec{a} \\text{ w kierunku }  \\vec{j} =|\\vec{a}|\\cdot cos(\\angle(\\vec{a},\\vec{j}))=|\\vec{a}|\\cdot|\\vec{j}|\\cdot cos(\\angle(\\vec{a},\\vec{j}))=dot(\\vec{a},\\vec{j})$"
   ]
  },
  {
   "cell_type": "code",
   "execution_count": 18,
   "metadata": {},
   "outputs": [
    {
     "data": {
      "image/svg+xml": [
       "<?xml version=\"1.0\" encoding=\"utf-8\"?>\n",
       "<svg xmlns=\"http://www.w3.org/2000/svg\" xmlns:xlink=\"http://www.w3.org/1999/xlink\" width=\"600\" height=\"400\" viewBox=\"0 0 2400 1600\">\n",
       "<defs>\n",
       "  <clipPath id=\"clip380\">\n",
       "    <rect x=\"0\" y=\"0\" width=\"2400\" height=\"1600\"/>\n",
       "  </clipPath>\n",
       "</defs>\n",
       "<path clip-path=\"url(#clip380)\" d=\"M0 1600 L2400 1600 L2400 0 L0 0  Z\" fill=\"#ffffff\" fill-rule=\"evenodd\" fill-opacity=\"1\"/>\n",
       "<defs>\n",
       "  <clipPath id=\"clip381\">\n",
       "    <rect x=\"480\" y=\"0\" width=\"1681\" height=\"1600\"/>\n",
       "  </clipPath>\n",
       "</defs>\n",
       "<path clip-path=\"url(#clip380)\" d=\"M112.177 1486.45 L2352.76 1486.45 L2352.76 47.2441 L112.177 47.2441  Z\" fill=\"#ffffff\" fill-rule=\"evenodd\" fill-opacity=\"1\"/>\n",
       "<defs>\n",
       "  <clipPath id=\"clip382\">\n",
       "    <rect x=\"112\" y=\"47\" width=\"2242\" height=\"1440\"/>\n",
       "  </clipPath>\n",
       "</defs>\n",
       "<polyline clip-path=\"url(#clip382)\" style=\"stroke:#000000; stroke-linecap:round; stroke-linejoin:round; stroke-width:2; stroke-opacity:0.1; fill:none\" points=\"112.177,1486.45 112.177,47.2441 \"/>\n",
       "<polyline clip-path=\"url(#clip382)\" style=\"stroke:#000000; stroke-linecap:round; stroke-linejoin:round; stroke-width:2; stroke-opacity:0.1; fill:none\" points=\"859.037,1486.45 859.037,47.2441 \"/>\n",
       "<polyline clip-path=\"url(#clip382)\" style=\"stroke:#000000; stroke-linecap:round; stroke-linejoin:round; stroke-width:2; stroke-opacity:0.1; fill:none\" points=\"1605.9,1486.45 1605.9,47.2441 \"/>\n",
       "<polyline clip-path=\"url(#clip382)\" style=\"stroke:#000000; stroke-linecap:round; stroke-linejoin:round; stroke-width:2; stroke-opacity:0.1; fill:none\" points=\"2352.76,1486.45 2352.76,47.2441 \"/>\n",
       "<polyline clip-path=\"url(#clip380)\" style=\"stroke:#000000; stroke-linecap:round; stroke-linejoin:round; stroke-width:4; stroke-opacity:1; fill:none\" points=\"112.177,1486.45 2352.76,1486.45 \"/>\n",
       "<polyline clip-path=\"url(#clip380)\" style=\"stroke:#000000; stroke-linecap:round; stroke-linejoin:round; stroke-width:4; stroke-opacity:1; fill:none\" points=\"112.177,1486.45 112.177,1467.55 \"/>\n",
       "<polyline clip-path=\"url(#clip380)\" style=\"stroke:#000000; stroke-linecap:round; stroke-linejoin:round; stroke-width:4; stroke-opacity:1; fill:none\" points=\"859.037,1486.45 859.037,1467.55 \"/>\n",
       "<polyline clip-path=\"url(#clip380)\" style=\"stroke:#000000; stroke-linecap:round; stroke-linejoin:round; stroke-width:4; stroke-opacity:1; fill:none\" points=\"1605.9,1486.45 1605.9,1467.55 \"/>\n",
       "<polyline clip-path=\"url(#clip380)\" style=\"stroke:#000000; stroke-linecap:round; stroke-linejoin:round; stroke-width:4; stroke-opacity:1; fill:none\" points=\"2352.76,1486.45 2352.76,1467.55 \"/>\n",
       "<path clip-path=\"url(#clip380)\" d=\"M112.177 1517.37 Q108.566 1517.37 106.737 1520.93 Q104.932 1524.47 104.932 1531.6 Q104.932 1538.71 106.737 1542.27 Q108.566 1545.82 112.177 1545.82 Q115.811 1545.82 117.617 1542.27 Q119.446 1538.71 119.446 1531.6 Q119.446 1524.47 117.617 1520.93 Q115.811 1517.37 112.177 1517.37 M112.177 1513.66 Q117.987 1513.66 121.043 1518.27 Q124.122 1522.85 124.122 1531.6 Q124.122 1540.33 121.043 1544.94 Q117.987 1549.52 112.177 1549.52 Q106.367 1549.52 103.288 1544.94 Q100.233 1540.33 100.233 1531.6 Q100.233 1522.85 103.288 1518.27 Q106.367 1513.66 112.177 1513.66 Z\" fill=\"#000000\" fill-rule=\"evenodd\" fill-opacity=\"1\" /><path clip-path=\"url(#clip380)\" d=\"M849.419 1544.91 L857.058 1544.91 L857.058 1518.55 L848.747 1520.21 L848.747 1515.95 L857.011 1514.29 L861.687 1514.29 L861.687 1544.91 L869.326 1544.91 L869.326 1548.85 L849.419 1548.85 L849.419 1544.91 Z\" fill=\"#000000\" fill-rule=\"evenodd\" fill-opacity=\"1\" /><path clip-path=\"url(#clip380)\" d=\"M1600.55 1544.91 L1616.87 1544.91 L1616.87 1548.85 L1594.92 1548.85 L1594.92 1544.91 Q1597.59 1542.16 1602.17 1537.53 Q1606.78 1532.88 1607.96 1531.53 Q1610.2 1529.01 1611.08 1527.27 Q1611.98 1525.51 1611.98 1523.82 Q1611.98 1521.07 1610.04 1519.33 Q1608.12 1517.6 1605.02 1517.6 Q1602.82 1517.6 1600.36 1518.36 Q1597.93 1519.13 1595.16 1520.68 L1595.16 1515.95 Q1597.98 1514.82 1600.43 1514.24 Q1602.89 1513.66 1604.92 1513.66 Q1610.29 1513.66 1613.49 1516.35 Q1616.68 1519.03 1616.68 1523.52 Q1616.68 1525.65 1615.87 1527.57 Q1615.09 1529.47 1612.98 1532.07 Q1612.4 1532.74 1609.3 1535.95 Q1606.2 1539.15 1600.55 1544.91 Z\" fill=\"#000000\" fill-rule=\"evenodd\" fill-opacity=\"1\" /><path clip-path=\"url(#clip380)\" d=\"M2357 1530.21 Q2360.36 1530.93 2362.24 1533.2 Q2364.13 1535.47 2364.13 1538.8 Q2364.13 1543.92 2360.61 1546.72 Q2357.1 1549.52 2350.61 1549.52 Q2348.44 1549.52 2346.12 1549.08 Q2343.83 1548.66 2341.38 1547.81 L2341.38 1543.29 Q2343.32 1544.43 2345.64 1545.01 Q2347.95 1545.58 2350.48 1545.58 Q2354.87 1545.58 2357.17 1543.85 Q2359.48 1542.11 2359.48 1538.8 Q2359.48 1535.75 2357.33 1534.03 Q2355.2 1532.3 2351.38 1532.3 L2347.35 1532.3 L2347.35 1528.45 L2351.56 1528.45 Q2355.01 1528.45 2356.84 1527.09 Q2358.67 1525.7 2358.67 1523.11 Q2358.67 1520.45 2356.77 1519.03 Q2354.9 1517.6 2351.38 1517.6 Q2349.46 1517.6 2347.26 1518.01 Q2345.06 1518.43 2342.42 1519.31 L2342.42 1515.14 Q2345.08 1514.4 2347.4 1514.03 Q2349.74 1513.66 2351.8 1513.66 Q2357.12 1513.66 2360.22 1516.09 Q2363.32 1518.5 2363.32 1522.62 Q2363.32 1525.49 2361.68 1527.48 Q2360.04 1529.45 2357 1530.21 Z\" fill=\"#000000\" fill-rule=\"evenodd\" fill-opacity=\"1\" /><polyline clip-path=\"url(#clip382)\" style=\"stroke:#000000; stroke-linecap:round; stroke-linejoin:round; stroke-width:2; stroke-opacity:0.1; fill:none\" points=\"112.177,1486.45 2352.76,1486.45 \"/>\n",
       "<polyline clip-path=\"url(#clip382)\" style=\"stroke:#000000; stroke-linecap:round; stroke-linejoin:round; stroke-width:2; stroke-opacity:0.1; fill:none\" points=\"112.177,1126.65 2352.76,1126.65 \"/>\n",
       "<polyline clip-path=\"url(#clip382)\" style=\"stroke:#000000; stroke-linecap:round; stroke-linejoin:round; stroke-width:2; stroke-opacity:0.1; fill:none\" points=\"112.177,766.846 2352.76,766.846 \"/>\n",
       "<polyline clip-path=\"url(#clip382)\" style=\"stroke:#000000; stroke-linecap:round; stroke-linejoin:round; stroke-width:2; stroke-opacity:0.1; fill:none\" points=\"112.177,407.045 2352.76,407.045 \"/>\n",
       "<polyline clip-path=\"url(#clip382)\" style=\"stroke:#000000; stroke-linecap:round; stroke-linejoin:round; stroke-width:2; stroke-opacity:0.1; fill:none\" points=\"112.177,47.2441 2352.76,47.2441 \"/>\n",
       "<polyline clip-path=\"url(#clip380)\" style=\"stroke:#000000; stroke-linecap:round; stroke-linejoin:round; stroke-width:4; stroke-opacity:1; fill:none\" points=\"112.177,1486.45 112.177,47.2441 \"/>\n",
       "<polyline clip-path=\"url(#clip380)\" style=\"stroke:#000000; stroke-linecap:round; stroke-linejoin:round; stroke-width:4; stroke-opacity:1; fill:none\" points=\"112.177,1486.45 131.075,1486.45 \"/>\n",
       "<polyline clip-path=\"url(#clip380)\" style=\"stroke:#000000; stroke-linecap:round; stroke-linejoin:round; stroke-width:4; stroke-opacity:1; fill:none\" points=\"112.177,1126.65 131.075,1126.65 \"/>\n",
       "<polyline clip-path=\"url(#clip380)\" style=\"stroke:#000000; stroke-linecap:round; stroke-linejoin:round; stroke-width:4; stroke-opacity:1; fill:none\" points=\"112.177,766.846 131.075,766.846 \"/>\n",
       "<polyline clip-path=\"url(#clip380)\" style=\"stroke:#000000; stroke-linecap:round; stroke-linejoin:round; stroke-width:4; stroke-opacity:1; fill:none\" points=\"112.177,407.045 131.075,407.045 \"/>\n",
       "<polyline clip-path=\"url(#clip380)\" style=\"stroke:#000000; stroke-linecap:round; stroke-linejoin:round; stroke-width:4; stroke-opacity:1; fill:none\" points=\"112.177,47.2441 131.075,47.2441 \"/>\n",
       "<path clip-path=\"url(#clip380)\" d=\"M64.2328 1472.25 Q60.6217 1472.25 58.793 1475.81 Q56.9875 1479.35 56.9875 1486.48 Q56.9875 1493.59 58.793 1497.15 Q60.6217 1500.7 64.2328 1500.7 Q67.867 1500.7 69.6726 1497.15 Q71.5013 1493.59 71.5013 1486.48 Q71.5013 1479.35 69.6726 1475.81 Q67.867 1472.25 64.2328 1472.25 M64.2328 1468.54 Q70.0429 1468.54 73.0985 1473.15 Q76.1772 1477.73 76.1772 1486.48 Q76.1772 1495.21 73.0985 1499.82 Q70.0429 1504.4 64.2328 1504.4 Q58.4226 1504.4 55.344 1499.82 Q52.2884 1495.21 52.2884 1486.48 Q52.2884 1477.73 55.344 1473.15 Q58.4226 1468.54 64.2328 1468.54 Z\" fill=\"#000000\" fill-rule=\"evenodd\" fill-opacity=\"1\" /><path clip-path=\"url(#clip380)\" d=\"M56.2699 1139.99 L63.9087 1139.99 L63.9087 1113.63 L55.5986 1115.29 L55.5986 1111.03 L63.8624 1109.37 L68.5383 1109.37 L68.5383 1139.99 L76.1772 1139.99 L76.1772 1143.93 L56.2699 1143.93 L56.2699 1139.99 Z\" fill=\"#000000\" fill-rule=\"evenodd\" fill-opacity=\"1\" /><path clip-path=\"url(#clip380)\" d=\"M59.8578 780.191 L76.1772 780.191 L76.1772 784.126 L54.2328 784.126 L54.2328 780.191 Q56.8949 777.436 61.4782 772.807 Q66.0846 768.154 67.2652 766.811 Q69.5105 764.288 70.3902 762.552 Q71.2929 760.793 71.2929 759.103 Q71.2929 756.348 69.3485 754.612 Q67.4272 752.876 64.3254 752.876 Q62.1263 752.876 59.6726 753.64 Q57.2421 754.404 54.4643 755.955 L54.4643 751.233 Q57.2884 750.098 59.7421 749.52 Q62.1958 748.941 64.2328 748.941 Q69.6031 748.941 72.7976 751.626 Q75.992 754.311 75.992 758.802 Q75.992 760.932 75.1818 762.853 Q74.3948 764.751 72.2883 767.344 Q71.7096 768.015 68.6078 771.233 Q65.5059 774.427 59.8578 780.191 Z\" fill=\"#000000\" fill-rule=\"evenodd\" fill-opacity=\"1\" /><path clip-path=\"url(#clip380)\" d=\"M69.0476 405.691 Q72.404 406.408 74.279 408.677 Q76.1772 410.945 76.1772 414.279 Q76.1772 419.395 72.6587 422.195 Q69.1402 424.996 62.6587 424.996 Q60.4828 424.996 58.168 424.557 Q55.8764 424.14 53.4227 423.283 L53.4227 418.77 Q55.3671 419.904 57.6819 420.482 Q59.9967 421.061 62.5198 421.061 Q66.918 421.061 69.2096 419.325 Q71.5244 417.589 71.5244 414.279 Q71.5244 411.223 69.3717 409.51 Q67.242 407.774 63.4226 407.774 L59.3949 407.774 L59.3949 403.932 L63.6078 403.932 Q67.0569 403.932 68.8855 402.566 Q70.7142 401.177 70.7142 398.584 Q70.7142 395.922 68.8161 394.51 Q66.9411 393.075 63.4226 393.075 Q61.5013 393.075 59.3023 393.492 Q57.1032 393.909 54.4643 394.788 L54.4643 390.622 Q57.1264 389.881 59.4412 389.51 Q61.7791 389.14 63.8393 389.14 Q69.1633 389.14 72.2652 391.571 Q75.367 393.978 75.367 398.098 Q75.367 400.969 73.7235 402.959 Q72.08 404.927 69.0476 405.691 Z\" fill=\"#000000\" fill-rule=\"evenodd\" fill-opacity=\"1\" /><path clip-path=\"url(#clip380)\" d=\"M66.5939 34.0381 L54.7884 52.4871 L66.5939 52.4871 L66.5939 34.0381 M65.367 29.9641 L71.2466 29.9641 L71.2466 52.4871 L76.1772 52.4871 L76.1772 56.376 L71.2466 56.376 L71.2466 64.5241 L66.5939 64.5241 L66.5939 56.376 L50.9921 56.376 L50.9921 51.8621 L65.367 29.9641 Z\" fill=\"#000000\" fill-rule=\"evenodd\" fill-opacity=\"1\" /><polyline clip-path=\"url(#clip382)\" style=\"stroke:#009af9; stroke-linecap:round; stroke-linejoin:round; stroke-width:4; stroke-opacity:1; fill:none\" points=\"112.177,1486.45 1605.9,407.045 \"/>\n",
       "<polyline clip-path=\"url(#clip382)\" style=\"stroke:#009af9; stroke-linecap:round; stroke-linejoin:round; stroke-width:4; stroke-opacity:1; fill:none\" points=\"1566.17,413.541 1605.9,407.045 1587.26,442.72 \"/>\n",
       "<polyline clip-path=\"url(#clip382)\" style=\"stroke:#009af9; stroke-linecap:round; stroke-linejoin:round; stroke-width:4; stroke-opacity:1; fill:none\" points=\"1605.9,407.045 112.177,1486.45 \"/>\n",
       "<polyline clip-path=\"url(#clip382)\" style=\"stroke:#e26f46; stroke-linecap:round; stroke-linejoin:round; stroke-width:4; stroke-opacity:1; fill:none\" points=\"112.177,1486.45 1605.9,1486.45 \"/>\n",
       "<polyline clip-path=\"url(#clip382)\" style=\"stroke:#e26f46; stroke-linecap:round; stroke-linejoin:round; stroke-width:4; stroke-opacity:1; fill:none\" points=\"1569.9,1468.45 1605.9,1486.45 1569.9,1504.45 \"/>\n",
       "<polyline clip-path=\"url(#clip382)\" style=\"stroke:#e26f46; stroke-linecap:round; stroke-linejoin:round; stroke-width:4; stroke-opacity:1; fill:none\" points=\"1605.9,1486.45 112.177,1486.45 \"/>\n",
       "<polyline clip-path=\"url(#clip382)\" style=\"stroke:#3da44d; stroke-linecap:round; stroke-linejoin:round; stroke-width:4; stroke-opacity:1; fill:none\" points=\"112.177,1479.25 859.037,1479.25 \"/>\n",
       "<polyline clip-path=\"url(#clip382)\" style=\"stroke:#3da44d; stroke-linecap:round; stroke-linejoin:round; stroke-width:4; stroke-opacity:1; fill:none\" points=\"823.037,1461.25 859.037,1479.25 823.037,1497.25 \"/>\n",
       "<polyline clip-path=\"url(#clip382)\" style=\"stroke:#3da44d; stroke-linecap:round; stroke-linejoin:round; stroke-width:4; stroke-opacity:1; fill:none\" points=\"859.037,1479.25 112.177,1479.25 \"/>\n",
       "<path clip-path=\"url(#clip380)\" d=\"M1854.66 302.578 L2278.07 302.578 L2278.07 95.2176 L1854.66 95.2176  Z\" fill=\"#ffffff\" fill-rule=\"evenodd\" fill-opacity=\"1\"/>\n",
       "<polyline clip-path=\"url(#clip380)\" style=\"stroke:#000000; stroke-linecap:round; stroke-linejoin:round; stroke-width:4; stroke-opacity:1; fill:none\" points=\"1854.66,302.578 2278.07,302.578 2278.07,95.2176 1854.66,95.2176 1854.66,302.578 \"/>\n",
       "<polyline clip-path=\"url(#clip380)\" style=\"stroke:#009af9; stroke-linecap:round; stroke-linejoin:round; stroke-width:4; stroke-opacity:1; fill:none\" points=\"1879.56,147.058 2028.93,147.058 \"/>\n",
       "<path clip-path=\"url(#clip380)\" d=\"M2067.23 151.305 Q2062.06 151.305 2060.07 152.486 Q2058.08 153.666 2058.08 156.514 Q2058.08 158.782 2059.56 160.125 Q2061.07 161.444 2063.64 161.444 Q2067.18 161.444 2069.31 158.944 Q2071.46 156.421 2071.46 152.254 L2071.46 151.305 L2067.23 151.305 M2075.72 149.546 L2075.72 164.338 L2071.46 164.338 L2071.46 160.402 Q2070 162.763 2067.83 163.898 Q2065.65 165.009 2062.5 165.009 Q2058.52 165.009 2056.16 162.787 Q2053.82 160.541 2053.82 156.791 Q2053.82 152.416 2056.74 150.194 Q2059.68 147.972 2065.49 147.972 L2071.46 147.972 L2071.46 147.555 Q2071.46 144.615 2069.52 143.018 Q2067.6 141.398 2064.1 141.398 Q2061.88 141.398 2059.77 141.93 Q2057.67 142.463 2055.72 143.527 L2055.72 139.592 Q2058.06 138.69 2060.26 138.25 Q2062.46 137.787 2064.54 137.787 Q2070.17 137.787 2072.94 140.703 Q2075.72 143.62 2075.72 149.546 Z\" fill=\"#000000\" fill-rule=\"evenodd\" fill-opacity=\"1\" /><polyline clip-path=\"url(#clip380)\" style=\"stroke:#e26f46; stroke-linecap:round; stroke-linejoin:round; stroke-width:4; stroke-opacity:1; fill:none\" points=\"1879.56,198.898 2028.93,198.898 \"/>\n",
       "<path clip-path=\"url(#clip380)\" d=\"M2069.01 194.233 Q2068.29 193.817 2067.43 193.631 Q2066.6 193.423 2065.58 193.423 Q2061.97 193.423 2060.03 195.784 Q2058.11 198.122 2058.11 202.52 L2058.11 216.178 L2053.82 216.178 L2053.82 190.252 L2058.11 190.252 L2058.11 194.28 Q2059.45 191.918 2061.6 190.784 Q2063.75 189.627 2066.83 189.627 Q2067.27 189.627 2067.81 189.696 Q2068.34 189.743 2068.99 189.858 L2069.01 194.233 Z\" fill=\"#000000\" fill-rule=\"evenodd\" fill-opacity=\"1\" /><path clip-path=\"url(#clip380)\" d=\"M2071.62 190.252 L2091.86 190.252 L2091.86 194.141 L2075.84 212.775 L2091.86 212.775 L2091.86 216.178 L2071.05 216.178 L2071.05 212.289 L2087.06 193.655 L2071.62 193.655 L2071.62 190.252 Z\" fill=\"#000000\" fill-rule=\"evenodd\" fill-opacity=\"1\" /><path clip-path=\"url(#clip380)\" d=\"M2097.92 205.946 L2097.92 190.252 L2102.18 190.252 L2102.18 205.784 Q2102.18 209.465 2103.62 211.316 Q2105.05 213.145 2107.92 213.145 Q2111.37 213.145 2113.36 210.946 Q2115.37 208.747 2115.37 204.951 L2115.37 190.252 L2119.63 190.252 L2119.63 216.178 L2115.37 216.178 L2115.37 212.196 Q2113.82 214.557 2111.76 215.715 Q2109.73 216.849 2107.02 216.849 Q2102.55 216.849 2100.24 214.071 Q2097.92 211.293 2097.92 205.946 M2108.64 189.627 L2108.64 189.627 Z\" fill=\"#000000\" fill-rule=\"evenodd\" fill-opacity=\"1\" /><path clip-path=\"url(#clip380)\" d=\"M2132.62 182.891 L2132.62 190.252 L2141.39 190.252 L2141.39 193.562 L2132.62 193.562 L2132.62 207.636 Q2132.62 210.807 2133.48 211.71 Q2134.36 212.613 2137.02 212.613 L2141.39 212.613 L2141.39 216.178 L2137.02 216.178 Q2132.09 216.178 2130.21 214.349 Q2128.34 212.497 2128.34 207.636 L2128.34 193.562 L2125.21 193.562 L2125.21 190.252 L2128.34 190.252 L2128.34 182.891 L2132.62 182.891 Z\" fill=\"#000000\" fill-rule=\"evenodd\" fill-opacity=\"1\" /><path clip-path=\"url(#clip380)\" d=\"M2173.85 203.145 Q2168.68 203.145 2166.69 204.326 Q2164.7 205.506 2164.7 208.354 Q2164.7 210.622 2166.18 211.965 Q2167.69 213.284 2170.26 213.284 Q2173.8 213.284 2175.93 210.784 Q2178.08 208.261 2178.08 204.094 L2178.08 203.145 L2173.85 203.145 M2182.34 201.386 L2182.34 216.178 L2178.08 216.178 L2178.08 212.242 Q2176.62 214.603 2174.45 215.738 Q2172.27 216.849 2169.12 216.849 Q2165.14 216.849 2162.78 214.627 Q2160.44 212.381 2160.44 208.631 Q2160.44 204.256 2163.36 202.034 Q2166.3 199.812 2172.11 199.812 L2178.08 199.812 L2178.08 199.395 Q2178.08 196.455 2176.14 194.858 Q2174.22 193.238 2170.72 193.238 Q2168.5 193.238 2166.39 193.77 Q2164.29 194.303 2162.34 195.367 L2162.34 191.432 Q2164.68 190.53 2166.88 190.09 Q2169.08 189.627 2171.16 189.627 Q2176.79 189.627 2179.56 192.543 Q2182.34 195.46 2182.34 201.386 Z\" fill=\"#000000\" fill-rule=\"evenodd\" fill-opacity=\"1\" /><polyline clip-path=\"url(#clip380)\" style=\"stroke:#3da44d; stroke-linecap:round; stroke-linejoin:round; stroke-width:4; stroke-opacity:1; fill:none\" points=\"1879.56,250.738 2028.93,250.738 \"/>\n",
       "<path clip-path=\"url(#clip380)\" d=\"M2072.6 255.078 Q2072.6 250.379 2070.65 247.717 Q2068.73 245.032 2065.35 245.032 Q2061.97 245.032 2060.03 247.717 Q2058.11 250.379 2058.11 255.078 Q2058.11 259.777 2060.03 262.462 Q2061.97 265.124 2065.35 265.124 Q2068.73 265.124 2070.65 262.462 Q2072.6 259.777 2072.6 255.078 M2058.11 246.027 Q2059.45 243.712 2061.49 242.601 Q2063.55 241.467 2066.39 241.467 Q2071.12 241.467 2074.06 245.217 Q2077.02 248.967 2077.02 255.078 Q2077.02 261.189 2074.06 264.939 Q2071.12 268.689 2066.39 268.689 Q2063.55 268.689 2061.49 267.578 Q2059.45 266.443 2058.11 264.129 L2058.11 268.018 L2053.82 268.018 L2053.82 231.999 L2058.11 231.999 L2058.11 246.027 Z\" fill=\"#000000\" fill-rule=\"evenodd\" fill-opacity=\"1\" /><path clip-path=\"url(#clip380)\" d=\"M2095.86 254.985 Q2090.7 254.985 2088.71 256.166 Q2086.72 257.346 2086.72 260.194 Q2086.72 262.462 2088.2 263.805 Q2089.7 265.124 2092.27 265.124 Q2095.81 265.124 2097.94 262.624 Q2100.1 260.101 2100.1 255.934 L2100.1 254.985 L2095.86 254.985 M2104.36 253.226 L2104.36 268.018 L2100.1 268.018 L2100.1 264.082 Q2098.64 266.443 2096.46 267.578 Q2094.29 268.689 2091.14 268.689 Q2087.16 268.689 2084.8 266.467 Q2082.46 264.221 2082.46 260.471 Q2082.46 256.096 2085.37 253.874 Q2088.31 251.652 2094.12 251.652 L2100.1 251.652 L2100.1 251.235 Q2100.1 248.295 2098.15 246.698 Q2096.23 245.078 2092.74 245.078 Q2090.51 245.078 2088.41 245.61 Q2086.3 246.143 2084.36 247.207 L2084.36 243.272 Q2086.69 242.37 2088.89 241.93 Q2091.09 241.467 2093.18 241.467 Q2098.8 241.467 2101.58 244.383 Q2104.36 247.3 2104.36 253.226 Z\" fill=\"#000000\" fill-rule=\"evenodd\" fill-opacity=\"1\" /><path clip-path=\"url(#clip380)\" d=\"M2111.28 242.092 L2131.51 242.092 L2131.51 245.981 L2115.49 264.615 L2131.51 264.615 L2131.51 268.018 L2110.7 268.018 L2110.7 264.129 L2126.72 245.495 L2111.28 245.495 L2111.28 242.092 Z\" fill=\"#000000\" fill-rule=\"evenodd\" fill-opacity=\"1\" /><path clip-path=\"url(#clip380)\" d=\"M2148.06 245.078 Q2144.63 245.078 2142.64 247.763 Q2140.65 250.425 2140.65 255.078 Q2140.65 259.731 2142.62 262.416 Q2144.61 265.078 2148.06 265.078 Q2151.46 265.078 2153.45 262.393 Q2155.44 259.707 2155.44 255.078 Q2155.44 250.471 2153.45 247.786 Q2151.46 245.078 2148.06 245.078 M2148.06 241.467 Q2153.61 241.467 2156.79 245.078 Q2159.96 248.689 2159.96 255.078 Q2159.96 261.444 2156.79 265.078 Q2153.61 268.689 2148.06 268.689 Q2142.48 268.689 2139.31 265.078 Q2136.16 261.444 2136.16 255.078 Q2136.16 248.689 2139.31 245.078 Q2142.48 241.467 2148.06 241.467 Z\" fill=\"#000000\" fill-rule=\"evenodd\" fill-opacity=\"1\" /><path clip-path=\"url(#clip380)\" d=\"M2164.54 242.092 L2168.8 242.092 L2174.12 262.323 L2179.43 242.092 L2184.45 242.092 L2189.77 262.323 L2195.07 242.092 L2199.33 242.092 L2192.55 268.018 L2187.53 268.018 L2181.95 246.768 L2176.35 268.018 L2171.32 268.018 L2164.54 242.092 Z\" fill=\"#000000\" fill-rule=\"evenodd\" fill-opacity=\"1\" /><path clip-path=\"url(#clip380)\" d=\"M2216.58 270.425 Q2214.77 275.055 2213.06 276.467 Q2211.35 277.879 2208.48 277.879 L2205.07 277.879 L2205.07 274.314 L2207.57 274.314 Q2209.33 274.314 2210.3 273.48 Q2211.28 272.647 2212.46 269.545 L2213.22 267.601 L2202.74 242.092 L2207.25 242.092 L2215.35 262.369 L2223.45 242.092 L2227.97 242.092 L2216.58 270.425 Z\" fill=\"#000000\" fill-rule=\"evenodd\" fill-opacity=\"1\" /><path clip-path=\"url(#clip380)\" d=\"M2248.92 242.092 L2253.17 242.092 L2253.17 268.481 Q2253.17 273.434 2251.28 275.656 Q2249.4 277.879 2245.21 277.879 L2243.59 277.879 L2243.59 274.268 L2244.73 274.268 Q2247.16 274.268 2248.04 273.133 Q2248.92 272.022 2248.92 268.481 L2248.92 242.092 M2248.92 231.999 L2253.17 231.999 L2253.17 237.393 L2248.92 237.393 L2248.92 231.999 Z\" fill=\"#000000\" fill-rule=\"evenodd\" fill-opacity=\"1\" /></svg>\n"
      ]
     },
     "execution_count": 18,
     "metadata": {},
     "output_type": "execute_result"
    }
   ],
   "source": [
    "plot([0,2],[0,3],xrange=[0,3], yrange=[0,4],arrow=true, label=\"a\")\n",
    "plot!([0,2],[0,0],xrange=[0,3], yrange=[0,4],arrow=true, label=\"rzut a\")\n",
    "plot!([0,1],[0.02,0.02],xrange=[0,3], yrange=[0,4],arrow=true, label=\"bazowy j\")"
   ]
  },
  {
   "cell_type": "code",
   "execution_count": 19,
   "metadata": {},
   "outputs": [
    {
     "data": {
      "text/plain": [
       "(5.835575274333394, -0.8303345511467358, 2.7396936676859895, -0.7109489167738196)"
      ]
     },
     "execution_count": 19,
     "metadata": {},
     "output_type": "execute_result"
    }
   ],
   "source": [
    "c0 = dot(yy, f0)\n",
    "c1 = dot(yy, f1)\n",
    "c2 = dot(yy, f2)\n",
    "c3 = dot(yy, f3)\n",
    "c0, c1, c2, c3"
   ]
  },
  {
   "cell_type": "markdown",
   "metadata": {},
   "source": [
    "Liczymy wartości aproksymowane kolejnymi stopniami"
   ]
  },
  {
   "cell_type": "code",
   "execution_count": 20,
   "metadata": {},
   "outputs": [],
   "source": [
    "y_app_0 = c0*f0;\n",
    "y_app_1 = c1*f1;\n",
    "y_app_2 = c2*f2;\n",
    "y_app_3 = c3*f3;"
   ]
  },
  {
   "cell_type": "code",
   "execution_count": 21,
   "metadata": {},
   "outputs": [],
   "source": [
    "y_app_01 = y_app_0 + y_app_1;\n",
    "y_app_012 = y_app_01 + y_app_2;\n",
    "y_app_0123 = y_app_012 + y_app_3;"
   ]
  },
  {
   "cell_type": "code",
   "execution_count": 22,
   "metadata": {},
   "outputs": [
    {
     "data": {
      "image/svg+xml": [
       "<?xml version=\"1.0\" encoding=\"utf-8\"?>\n",
       "<svg xmlns=\"http://www.w3.org/2000/svg\" xmlns:xlink=\"http://www.w3.org/1999/xlink\" width=\"600\" height=\"400\" viewBox=\"0 0 2400 1600\">\n",
       "<defs>\n",
       "  <clipPath id=\"clip420\">\n",
       "    <rect x=\"0\" y=\"0\" width=\"2400\" height=\"1600\"/>\n",
       "  </clipPath>\n",
       "</defs>\n",
       "<path clip-path=\"url(#clip420)\" d=\"M0 1600 L2400 1600 L2400 0 L0 0  Z\" fill=\"#ffffff\" fill-rule=\"evenodd\" fill-opacity=\"1\"/>\n",
       "<defs>\n",
       "  <clipPath id=\"clip421\">\n",
       "    <rect x=\"480\" y=\"0\" width=\"1681\" height=\"1600\"/>\n",
       "  </clipPath>\n",
       "</defs>\n",
       "<path clip-path=\"url(#clip420)\" d=\"M186.274 1486.45 L2352.76 1486.45 L2352.76 47.2441 L186.274 47.2441  Z\" fill=\"#ffffff\" fill-rule=\"evenodd\" fill-opacity=\"1\"/>\n",
       "<defs>\n",
       "  <clipPath id=\"clip422\">\n",
       "    <rect x=\"186\" y=\"47\" width=\"2167\" height=\"1440\"/>\n",
       "  </clipPath>\n",
       "</defs>\n",
       "<polyline clip-path=\"url(#clip422)\" style=\"stroke:#000000; stroke-linecap:round; stroke-linejoin:round; stroke-width:2; stroke-opacity:0.1; fill:none\" points=\"451.975,1486.45 451.975,47.2441 \"/>\n",
       "<polyline clip-path=\"url(#clip422)\" style=\"stroke:#000000; stroke-linecap:round; stroke-linejoin:round; stroke-width:2; stroke-opacity:0.1; fill:none\" points=\"860.745,1486.45 860.745,47.2441 \"/>\n",
       "<polyline clip-path=\"url(#clip422)\" style=\"stroke:#000000; stroke-linecap:round; stroke-linejoin:round; stroke-width:2; stroke-opacity:0.1; fill:none\" points=\"1269.51,1486.45 1269.51,47.2441 \"/>\n",
       "<polyline clip-path=\"url(#clip422)\" style=\"stroke:#000000; stroke-linecap:round; stroke-linejoin:round; stroke-width:2; stroke-opacity:0.1; fill:none\" points=\"1678.29,1486.45 1678.29,47.2441 \"/>\n",
       "<polyline clip-path=\"url(#clip422)\" style=\"stroke:#000000; stroke-linecap:round; stroke-linejoin:round; stroke-width:2; stroke-opacity:0.1; fill:none\" points=\"2087.06,1486.45 2087.06,47.2441 \"/>\n",
       "<polyline clip-path=\"url(#clip420)\" style=\"stroke:#000000; stroke-linecap:round; stroke-linejoin:round; stroke-width:4; stroke-opacity:1; fill:none\" points=\"186.274,1486.45 2352.76,1486.45 \"/>\n",
       "<polyline clip-path=\"url(#clip420)\" style=\"stroke:#000000; stroke-linecap:round; stroke-linejoin:round; stroke-width:4; stroke-opacity:1; fill:none\" points=\"451.975,1486.45 451.975,1467.55 \"/>\n",
       "<polyline clip-path=\"url(#clip420)\" style=\"stroke:#000000; stroke-linecap:round; stroke-linejoin:round; stroke-width:4; stroke-opacity:1; fill:none\" points=\"860.745,1486.45 860.745,1467.55 \"/>\n",
       "<polyline clip-path=\"url(#clip420)\" style=\"stroke:#000000; stroke-linecap:round; stroke-linejoin:round; stroke-width:4; stroke-opacity:1; fill:none\" points=\"1269.51,1486.45 1269.51,1467.55 \"/>\n",
       "<polyline clip-path=\"url(#clip420)\" style=\"stroke:#000000; stroke-linecap:round; stroke-linejoin:round; stroke-width:4; stroke-opacity:1; fill:none\" points=\"1678.29,1486.45 1678.29,1467.55 \"/>\n",
       "<polyline clip-path=\"url(#clip420)\" style=\"stroke:#000000; stroke-linecap:round; stroke-linejoin:round; stroke-width:4; stroke-opacity:1; fill:none\" points=\"2087.06,1486.45 2087.06,1467.55 \"/>\n",
       "<path clip-path=\"url(#clip420)\" d=\"M420.875 1532.02 L450.551 1532.02 L450.551 1535.95 L420.875 1535.95 L420.875 1532.02 Z\" fill=\"#000000\" fill-rule=\"evenodd\" fill-opacity=\"1\" /><path clip-path=\"url(#clip420)\" d=\"M473.491 1518.36 L461.685 1536.81 L473.491 1536.81 L473.491 1518.36 M472.264 1514.29 L478.143 1514.29 L478.143 1536.81 L483.074 1536.81 L483.074 1540.7 L478.143 1540.7 L478.143 1548.85 L473.491 1548.85 L473.491 1540.7 L457.889 1540.7 L457.889 1536.19 L472.264 1514.29 Z\" fill=\"#000000\" fill-rule=\"evenodd\" fill-opacity=\"1\" /><path clip-path=\"url(#clip420)\" d=\"M830.687 1532.02 L860.363 1532.02 L860.363 1535.95 L830.687 1535.95 L830.687 1532.02 Z\" fill=\"#000000\" fill-rule=\"evenodd\" fill-opacity=\"1\" /><path clip-path=\"url(#clip420)\" d=\"M874.483 1544.91 L890.802 1544.91 L890.802 1548.85 L868.858 1548.85 L868.858 1544.91 Q871.52 1542.16 876.103 1537.53 Q880.71 1532.88 881.891 1531.53 Q884.136 1529.01 885.015 1527.27 Q885.918 1525.51 885.918 1523.82 Q885.918 1521.07 883.974 1519.33 Q882.053 1517.6 878.951 1517.6 Q876.752 1517.6 874.298 1518.36 Q871.867 1519.13 869.09 1520.68 L869.09 1515.95 Q871.914 1514.82 874.367 1514.24 Q876.821 1513.66 878.858 1513.66 Q884.228 1513.66 887.423 1516.35 Q890.617 1519.03 890.617 1523.52 Q890.617 1525.65 889.807 1527.57 Q889.02 1529.47 886.914 1532.07 Q886.335 1532.74 883.233 1535.95 Q880.131 1539.15 874.483 1544.91 Z\" fill=\"#000000\" fill-rule=\"evenodd\" fill-opacity=\"1\" /><path clip-path=\"url(#clip420)\" d=\"M1269.51 1517.37 Q1265.9 1517.37 1264.08 1520.93 Q1262.27 1524.47 1262.27 1531.6 Q1262.27 1538.71 1264.08 1542.27 Q1265.9 1545.82 1269.51 1545.82 Q1273.15 1545.82 1274.95 1542.27 Q1276.78 1538.71 1276.78 1531.6 Q1276.78 1524.47 1274.95 1520.93 Q1273.15 1517.37 1269.51 1517.37 M1269.51 1513.66 Q1275.33 1513.66 1278.38 1518.27 Q1281.46 1522.85 1281.46 1531.6 Q1281.46 1540.33 1278.38 1544.94 Q1275.33 1549.52 1269.51 1549.52 Q1263.7 1549.52 1260.63 1544.94 Q1257.57 1540.33 1257.57 1531.6 Q1257.57 1522.85 1260.63 1518.27 Q1263.7 1513.66 1269.51 1513.66 Z\" fill=\"#000000\" fill-rule=\"evenodd\" fill-opacity=\"1\" /><path clip-path=\"url(#clip420)\" d=\"M1672.94 1544.91 L1689.26 1544.91 L1689.26 1548.85 L1667.31 1548.85 L1667.31 1544.91 Q1669.97 1542.16 1674.56 1537.53 Q1679.16 1532.88 1680.35 1531.53 Q1682.59 1529.01 1683.47 1527.27 Q1684.37 1525.51 1684.37 1523.82 Q1684.37 1521.07 1682.43 1519.33 Q1680.51 1517.6 1677.41 1517.6 Q1675.21 1517.6 1672.75 1518.36 Q1670.32 1519.13 1667.54 1520.68 L1667.54 1515.95 Q1670.37 1514.82 1672.82 1514.24 Q1675.28 1513.66 1677.31 1513.66 Q1682.68 1513.66 1685.88 1516.35 Q1689.07 1519.03 1689.07 1523.52 Q1689.07 1525.65 1688.26 1527.57 Q1687.47 1529.47 1685.37 1532.07 Q1684.79 1532.74 1681.69 1535.95 Q1678.59 1539.15 1672.94 1544.91 Z\" fill=\"#000000\" fill-rule=\"evenodd\" fill-opacity=\"1\" /><path clip-path=\"url(#clip420)\" d=\"M2090.06 1518.36 L2078.26 1536.81 L2090.06 1536.81 L2090.06 1518.36 M2088.84 1514.29 L2094.72 1514.29 L2094.72 1536.81 L2099.65 1536.81 L2099.65 1540.7 L2094.72 1540.7 L2094.72 1548.85 L2090.06 1548.85 L2090.06 1540.7 L2074.46 1540.7 L2074.46 1536.19 L2088.84 1514.29 Z\" fill=\"#000000\" fill-rule=\"evenodd\" fill-opacity=\"1\" /><polyline clip-path=\"url(#clip422)\" style=\"stroke:#000000; stroke-linecap:round; stroke-linejoin:round; stroke-width:2; stroke-opacity:0.1; fill:none\" points=\"186.274,1445.71 2352.76,1445.71 \"/>\n",
       "<polyline clip-path=\"url(#clip422)\" style=\"stroke:#000000; stroke-linecap:round; stroke-linejoin:round; stroke-width:2; stroke-opacity:0.1; fill:none\" points=\"186.274,1205.55 2352.76,1205.55 \"/>\n",
       "<polyline clip-path=\"url(#clip422)\" style=\"stroke:#000000; stroke-linecap:round; stroke-linejoin:round; stroke-width:2; stroke-opacity:0.1; fill:none\" points=\"186.274,965.384 2352.76,965.384 \"/>\n",
       "<polyline clip-path=\"url(#clip422)\" style=\"stroke:#000000; stroke-linecap:round; stroke-linejoin:round; stroke-width:2; stroke-opacity:0.1; fill:none\" points=\"186.274,725.219 2352.76,725.219 \"/>\n",
       "<polyline clip-path=\"url(#clip422)\" style=\"stroke:#000000; stroke-linecap:round; stroke-linejoin:round; stroke-width:2; stroke-opacity:0.1; fill:none\" points=\"186.274,485.054 2352.76,485.054 \"/>\n",
       "<polyline clip-path=\"url(#clip422)\" style=\"stroke:#000000; stroke-linecap:round; stroke-linejoin:round; stroke-width:2; stroke-opacity:0.1; fill:none\" points=\"186.274,244.889 2352.76,244.889 \"/>\n",
       "<polyline clip-path=\"url(#clip420)\" style=\"stroke:#000000; stroke-linecap:round; stroke-linejoin:round; stroke-width:4; stroke-opacity:1; fill:none\" points=\"186.274,1486.45 186.274,47.2441 \"/>\n",
       "<polyline clip-path=\"url(#clip420)\" style=\"stroke:#000000; stroke-linecap:round; stroke-linejoin:round; stroke-width:4; stroke-opacity:1; fill:none\" points=\"186.274,1445.71 205.172,1445.71 \"/>\n",
       "<polyline clip-path=\"url(#clip420)\" style=\"stroke:#000000; stroke-linecap:round; stroke-linejoin:round; stroke-width:4; stroke-opacity:1; fill:none\" points=\"186.274,1205.55 205.172,1205.55 \"/>\n",
       "<polyline clip-path=\"url(#clip420)\" style=\"stroke:#000000; stroke-linecap:round; stroke-linejoin:round; stroke-width:4; stroke-opacity:1; fill:none\" points=\"186.274,965.384 205.172,965.384 \"/>\n",
       "<polyline clip-path=\"url(#clip420)\" style=\"stroke:#000000; stroke-linecap:round; stroke-linejoin:round; stroke-width:4; stroke-opacity:1; fill:none\" points=\"186.274,725.219 205.172,725.219 \"/>\n",
       "<polyline clip-path=\"url(#clip420)\" style=\"stroke:#000000; stroke-linecap:round; stroke-linejoin:round; stroke-width:4; stroke-opacity:1; fill:none\" points=\"186.274,485.054 205.172,485.054 \"/>\n",
       "<polyline clip-path=\"url(#clip420)\" style=\"stroke:#000000; stroke-linecap:round; stroke-linejoin:round; stroke-width:4; stroke-opacity:1; fill:none\" points=\"186.274,244.889 205.172,244.889 \"/>\n",
       "<path clip-path=\"url(#clip420)\" d=\"M62.9365 1431.51 Q59.3254 1431.51 57.4967 1435.08 Q55.6912 1438.62 55.6912 1445.75 Q55.6912 1452.86 57.4967 1456.42 Q59.3254 1459.96 62.9365 1459.96 Q66.5707 1459.96 68.3763 1456.42 Q70.205 1452.86 70.205 1445.75 Q70.205 1438.62 68.3763 1435.08 Q66.5707 1431.51 62.9365 1431.51 M62.9365 1427.81 Q68.7467 1427.81 71.8022 1432.42 Q74.8809 1437 74.8809 1445.75 Q74.8809 1454.48 71.8022 1459.08 Q68.7467 1463.67 62.9365 1463.67 Q57.1264 1463.67 54.0477 1459.08 Q50.9921 1454.48 50.9921 1445.75 Q50.9921 1437 54.0477 1432.42 Q57.1264 1427.81 62.9365 1427.81 Z\" fill=\"#000000\" fill-rule=\"evenodd\" fill-opacity=\"1\" /><path clip-path=\"url(#clip420)\" d=\"M83.0984 1457.11 L87.9827 1457.11 L87.9827 1462.99 L83.0984 1462.99 L83.0984 1457.11 Z\" fill=\"#000000\" fill-rule=\"evenodd\" fill-opacity=\"1\" /><path clip-path=\"url(#clip420)\" d=\"M108.168 1431.51 Q104.557 1431.51 102.728 1435.08 Q100.922 1438.62 100.922 1445.75 Q100.922 1452.86 102.728 1456.42 Q104.557 1459.96 108.168 1459.96 Q111.802 1459.96 113.608 1456.42 Q115.436 1452.86 115.436 1445.75 Q115.436 1438.62 113.608 1435.08 Q111.802 1431.51 108.168 1431.51 M108.168 1427.81 Q113.978 1427.81 117.033 1432.42 Q120.112 1437 120.112 1445.75 Q120.112 1454.48 117.033 1459.08 Q113.978 1463.67 108.168 1463.67 Q102.358 1463.67 99.2789 1459.08 Q96.2234 1454.48 96.2234 1445.75 Q96.2234 1437 99.2789 1432.42 Q102.358 1427.81 108.168 1427.81 Z\" fill=\"#000000\" fill-rule=\"evenodd\" fill-opacity=\"1\" /><path clip-path=\"url(#clip420)\" d=\"M138.33 1431.51 Q134.719 1431.51 132.89 1435.08 Q131.084 1438.62 131.084 1445.75 Q131.084 1452.86 132.89 1456.42 Q134.719 1459.96 138.33 1459.96 Q141.964 1459.96 143.769 1456.42 Q145.598 1452.86 145.598 1445.75 Q145.598 1438.62 143.769 1435.08 Q141.964 1431.51 138.33 1431.51 M138.33 1427.81 Q144.14 1427.81 147.195 1432.42 Q150.274 1437 150.274 1445.75 Q150.274 1454.48 147.195 1459.08 Q144.14 1463.67 138.33 1463.67 Q132.519 1463.67 129.441 1459.08 Q126.385 1454.48 126.385 1445.75 Q126.385 1437 129.441 1432.42 Q132.519 1427.81 138.33 1427.81 Z\" fill=\"#000000\" fill-rule=\"evenodd\" fill-opacity=\"1\" /><path clip-path=\"url(#clip420)\" d=\"M63.9319 1191.35 Q60.3208 1191.35 58.4921 1194.91 Q56.6865 1198.45 56.6865 1205.58 Q56.6865 1212.69 58.4921 1216.26 Q60.3208 1219.8 63.9319 1219.8 Q67.5661 1219.8 69.3717 1216.26 Q71.2004 1212.69 71.2004 1205.58 Q71.2004 1198.45 69.3717 1194.91 Q67.5661 1191.35 63.9319 1191.35 M63.9319 1187.64 Q69.742 1187.64 72.7976 1192.25 Q75.8763 1196.83 75.8763 1205.58 Q75.8763 1214.31 72.7976 1218.92 Q69.742 1223.5 63.9319 1223.5 Q58.1217 1223.5 55.043 1218.92 Q51.9875 1214.31 51.9875 1205.58 Q51.9875 1196.83 55.043 1192.25 Q58.1217 1187.64 63.9319 1187.64 Z\" fill=\"#000000\" fill-rule=\"evenodd\" fill-opacity=\"1\" /><path clip-path=\"url(#clip420)\" d=\"M84.0938 1216.95 L88.978 1216.95 L88.978 1222.83 L84.0938 1222.83 L84.0938 1216.95 Z\" fill=\"#000000\" fill-rule=\"evenodd\" fill-opacity=\"1\" /><path clip-path=\"url(#clip420)\" d=\"M103.191 1218.89 L119.51 1218.89 L119.51 1222.83 L97.566 1222.83 L97.566 1218.89 Q100.228 1216.14 104.811 1211.51 Q109.418 1206.86 110.598 1205.51 Q112.844 1202.99 113.723 1201.26 Q114.626 1199.5 114.626 1197.81 Q114.626 1195.05 112.682 1193.32 Q110.76 1191.58 107.658 1191.58 Q105.459 1191.58 103.006 1192.34 Q100.575 1193.11 97.7974 1194.66 L97.7974 1189.94 Q100.621 1188.8 103.075 1188.22 Q105.529 1187.64 107.566 1187.64 Q112.936 1187.64 116.131 1190.33 Q119.325 1193.01 119.325 1197.51 Q119.325 1199.63 118.515 1201.56 Q117.728 1203.45 115.621 1206.05 Q115.043 1206.72 111.941 1209.94 Q108.839 1213.13 103.191 1218.89 Z\" fill=\"#000000\" fill-rule=\"evenodd\" fill-opacity=\"1\" /><path clip-path=\"url(#clip420)\" d=\"M129.371 1188.27 L147.728 1188.27 L147.728 1192.2 L133.654 1192.2 L133.654 1200.68 Q134.672 1200.33 135.691 1200.17 Q136.709 1199.98 137.728 1199.98 Q143.515 1199.98 146.894 1203.15 Q150.274 1206.32 150.274 1211.74 Q150.274 1217.32 146.802 1220.42 Q143.33 1223.5 137.01 1223.5 Q134.834 1223.5 132.566 1223.13 Q130.32 1222.76 127.913 1222.02 L127.913 1217.32 Q129.996 1218.45 132.219 1219.01 Q134.441 1219.57 136.918 1219.57 Q140.922 1219.57 143.26 1217.46 Q145.598 1215.35 145.598 1211.74 Q145.598 1208.13 143.26 1206.02 Q140.922 1203.92 136.918 1203.92 Q135.043 1203.92 133.168 1204.33 Q131.316 1204.75 129.371 1205.63 L129.371 1188.27 Z\" fill=\"#000000\" fill-rule=\"evenodd\" fill-opacity=\"1\" /><path clip-path=\"url(#clip420)\" d=\"M62.9365 951.183 Q59.3254 951.183 57.4967 954.748 Q55.6912 958.289 55.6912 965.419 Q55.6912 972.525 57.4967 976.09 Q59.3254 979.632 62.9365 979.632 Q66.5707 979.632 68.3763 976.09 Q70.205 972.525 70.205 965.419 Q70.205 958.289 68.3763 954.748 Q66.5707 951.183 62.9365 951.183 M62.9365 947.479 Q68.7467 947.479 71.8022 952.086 Q74.8809 956.669 74.8809 965.419 Q74.8809 974.146 71.8022 978.752 Q68.7467 983.335 62.9365 983.335 Q57.1264 983.335 54.0477 978.752 Q50.9921 974.146 50.9921 965.419 Q50.9921 956.669 54.0477 952.086 Q57.1264 947.479 62.9365 947.479 Z\" fill=\"#000000\" fill-rule=\"evenodd\" fill-opacity=\"1\" /><path clip-path=\"url(#clip420)\" d=\"M83.0984 976.784 L87.9827 976.784 L87.9827 982.664 L83.0984 982.664 L83.0984 976.784 Z\" fill=\"#000000\" fill-rule=\"evenodd\" fill-opacity=\"1\" /><path clip-path=\"url(#clip420)\" d=\"M98.2141 948.104 L116.57 948.104 L116.57 952.039 L102.496 952.039 L102.496 960.511 Q103.515 960.164 104.534 960.002 Q105.552 959.817 106.571 959.817 Q112.358 959.817 115.737 962.988 Q119.117 966.16 119.117 971.576 Q119.117 977.155 115.645 980.257 Q112.172 983.335 105.853 983.335 Q103.677 983.335 101.409 982.965 Q99.1632 982.595 96.7558 981.854 L96.7558 977.155 Q98.8391 978.289 101.061 978.845 Q103.284 979.4 105.76 979.4 Q109.765 979.4 112.103 977.294 Q114.441 975.187 114.441 971.576 Q114.441 967.965 112.103 965.859 Q109.765 963.752 105.76 963.752 Q103.885 963.752 102.01 964.169 Q100.159 964.585 98.2141 965.465 L98.2141 948.104 Z\" fill=\"#000000\" fill-rule=\"evenodd\" fill-opacity=\"1\" /><path clip-path=\"url(#clip420)\" d=\"M138.33 951.183 Q134.719 951.183 132.89 954.748 Q131.084 958.289 131.084 965.419 Q131.084 972.525 132.89 976.09 Q134.719 979.632 138.33 979.632 Q141.964 979.632 143.769 976.09 Q145.598 972.525 145.598 965.419 Q145.598 958.289 143.769 954.748 Q141.964 951.183 138.33 951.183 M138.33 947.479 Q144.14 947.479 147.195 952.086 Q150.274 956.669 150.274 965.419 Q150.274 974.146 147.195 978.752 Q144.14 983.335 138.33 983.335 Q132.519 983.335 129.441 978.752 Q126.385 974.146 126.385 965.419 Q126.385 956.669 129.441 952.086 Q132.519 947.479 138.33 947.479 Z\" fill=\"#000000\" fill-rule=\"evenodd\" fill-opacity=\"1\" /><path clip-path=\"url(#clip420)\" d=\"M63.9319 711.018 Q60.3208 711.018 58.4921 714.582 Q56.6865 718.124 56.6865 725.254 Q56.6865 732.36 58.4921 735.925 Q60.3208 739.467 63.9319 739.467 Q67.5661 739.467 69.3717 735.925 Q71.2004 732.36 71.2004 725.254 Q71.2004 718.124 69.3717 714.582 Q67.5661 711.018 63.9319 711.018 M63.9319 707.314 Q69.742 707.314 72.7976 711.92 Q75.8763 716.504 75.8763 725.254 Q75.8763 733.98 72.7976 738.587 Q69.742 743.17 63.9319 743.17 Q58.1217 743.17 55.043 738.587 Q51.9875 733.98 51.9875 725.254 Q51.9875 716.504 55.043 711.92 Q58.1217 707.314 63.9319 707.314 Z\" fill=\"#000000\" fill-rule=\"evenodd\" fill-opacity=\"1\" /><path clip-path=\"url(#clip420)\" d=\"M84.0938 736.619 L88.978 736.619 L88.978 742.499 L84.0938 742.499 L84.0938 736.619 Z\" fill=\"#000000\" fill-rule=\"evenodd\" fill-opacity=\"1\" /><path clip-path=\"url(#clip420)\" d=\"M97.9826 707.939 L120.205 707.939 L120.205 709.93 L107.658 742.499 L102.774 742.499 L114.58 711.874 L97.9826 711.874 L97.9826 707.939 Z\" fill=\"#000000\" fill-rule=\"evenodd\" fill-opacity=\"1\" /><path clip-path=\"url(#clip420)\" d=\"M129.371 707.939 L147.728 707.939 L147.728 711.874 L133.654 711.874 L133.654 720.346 Q134.672 719.999 135.691 719.837 Q136.709 719.652 137.728 719.652 Q143.515 719.652 146.894 722.823 Q150.274 725.994 150.274 731.411 Q150.274 736.99 146.802 740.092 Q143.33 743.17 137.01 743.17 Q134.834 743.17 132.566 742.8 Q130.32 742.43 127.913 741.689 L127.913 736.99 Q129.996 738.124 132.219 738.68 Q134.441 739.235 136.918 739.235 Q140.922 739.235 143.26 737.129 Q145.598 735.022 145.598 731.411 Q145.598 727.8 143.26 725.693 Q140.922 723.587 136.918 723.587 Q135.043 723.587 133.168 724.004 Q131.316 724.42 129.371 725.3 L129.371 707.939 Z\" fill=\"#000000\" fill-rule=\"evenodd\" fill-opacity=\"1\" /><path clip-path=\"url(#clip420)\" d=\"M53.7467 498.399 L61.3856 498.399 L61.3856 472.033 L53.0754 473.7 L53.0754 469.44 L61.3393 467.774 L66.0152 467.774 L66.0152 498.399 L73.654 498.399 L73.654 502.334 L53.7467 502.334 L53.7467 498.399 Z\" fill=\"#000000\" fill-rule=\"evenodd\" fill-opacity=\"1\" /><path clip-path=\"url(#clip420)\" d=\"M83.0984 496.454 L87.9827 496.454 L87.9827 502.334 L83.0984 502.334 L83.0984 496.454 Z\" fill=\"#000000\" fill-rule=\"evenodd\" fill-opacity=\"1\" /><path clip-path=\"url(#clip420)\" d=\"M108.168 470.853 Q104.557 470.853 102.728 474.417 Q100.922 477.959 100.922 485.089 Q100.922 492.195 102.728 495.76 Q104.557 499.301 108.168 499.301 Q111.802 499.301 113.608 495.76 Q115.436 492.195 115.436 485.089 Q115.436 477.959 113.608 474.417 Q111.802 470.853 108.168 470.853 M108.168 467.149 Q113.978 467.149 117.033 471.755 Q120.112 476.339 120.112 485.089 Q120.112 493.815 117.033 498.422 Q113.978 503.005 108.168 503.005 Q102.358 503.005 99.2789 498.422 Q96.2234 493.815 96.2234 485.089 Q96.2234 476.339 99.2789 471.755 Q102.358 467.149 108.168 467.149 Z\" fill=\"#000000\" fill-rule=\"evenodd\" fill-opacity=\"1\" /><path clip-path=\"url(#clip420)\" d=\"M138.33 470.853 Q134.719 470.853 132.89 474.417 Q131.084 477.959 131.084 485.089 Q131.084 492.195 132.89 495.76 Q134.719 499.301 138.33 499.301 Q141.964 499.301 143.769 495.76 Q145.598 492.195 145.598 485.089 Q145.598 477.959 143.769 474.417 Q141.964 470.853 138.33 470.853 M138.33 467.149 Q144.14 467.149 147.195 471.755 Q150.274 476.339 150.274 485.089 Q150.274 493.815 147.195 498.422 Q144.14 503.005 138.33 503.005 Q132.519 503.005 129.441 498.422 Q126.385 493.815 126.385 485.089 Q126.385 476.339 129.441 471.755 Q132.519 467.149 138.33 467.149 Z\" fill=\"#000000\" fill-rule=\"evenodd\" fill-opacity=\"1\" /><path clip-path=\"url(#clip420)\" d=\"M54.7421 258.234 L62.381 258.234 L62.381 231.868 L54.0708 233.535 L54.0708 229.275 L62.3347 227.609 L67.0106 227.609 L67.0106 258.234 L74.6494 258.234 L74.6494 262.169 L54.7421 262.169 L54.7421 258.234 Z\" fill=\"#000000\" fill-rule=\"evenodd\" fill-opacity=\"1\" /><path clip-path=\"url(#clip420)\" d=\"M84.0938 256.289 L88.978 256.289 L88.978 262.169 L84.0938 262.169 L84.0938 256.289 Z\" fill=\"#000000\" fill-rule=\"evenodd\" fill-opacity=\"1\" /><path clip-path=\"url(#clip420)\" d=\"M103.191 258.234 L119.51 258.234 L119.51 262.169 L97.566 262.169 L97.566 258.234 Q100.228 255.479 104.811 250.849 Q109.418 246.197 110.598 244.854 Q112.844 242.331 113.723 240.595 Q114.626 238.835 114.626 237.146 Q114.626 234.391 112.682 232.655 Q110.76 230.919 107.658 230.919 Q105.459 230.919 103.006 231.683 Q100.575 232.447 97.7974 233.998 L97.7974 229.275 Q100.621 228.141 103.075 227.562 Q105.529 226.984 107.566 226.984 Q112.936 226.984 116.131 229.669 Q119.325 232.354 119.325 236.845 Q119.325 238.974 118.515 240.896 Q117.728 242.794 115.621 245.386 Q115.043 246.058 111.941 249.275 Q108.839 252.47 103.191 258.234 Z\" fill=\"#000000\" fill-rule=\"evenodd\" fill-opacity=\"1\" /><path clip-path=\"url(#clip420)\" d=\"M129.371 227.609 L147.728 227.609 L147.728 231.544 L133.654 231.544 L133.654 240.016 Q134.672 239.669 135.691 239.507 Q136.709 239.322 137.728 239.322 Q143.515 239.322 146.894 242.493 Q150.274 245.664 150.274 251.081 Q150.274 256.659 146.802 259.761 Q143.33 262.84 137.01 262.84 Q134.834 262.84 132.566 262.47 Q130.32 262.099 127.913 261.359 L127.913 256.659 Q129.996 257.794 132.219 258.349 Q134.441 258.905 136.918 258.905 Q140.922 258.905 143.26 256.798 Q145.598 254.692 145.598 251.081 Q145.598 247.47 143.26 245.363 Q140.922 243.257 136.918 243.257 Q135.043 243.257 133.168 243.673 Q131.316 244.09 129.371 244.97 L129.371 227.609 Z\" fill=\"#000000\" fill-rule=\"evenodd\" fill-opacity=\"1\" /><circle clip-path=\"url(#clip422)\" cx=\"247.59\" cy=\"1368.4\" r=\"14.4\" fill=\"#009af9\" fill-rule=\"evenodd\" fill-opacity=\"1\" stroke=\"#000000\" stroke-opacity=\"1\" stroke-width=\"3.2\"/>\n",
       "<circle clip-path=\"url(#clip422)\" cx=\"268.028\" cy=\"1419.77\" r=\"14.4\" fill=\"#009af9\" fill-rule=\"evenodd\" fill-opacity=\"1\" stroke=\"#000000\" stroke-opacity=\"1\" stroke-width=\"3.2\"/>\n",
       "<circle clip-path=\"url(#clip422)\" cx=\"288.467\" cy=\"1383.05\" r=\"14.4\" fill=\"#009af9\" fill-rule=\"evenodd\" fill-opacity=\"1\" stroke=\"#000000\" stroke-opacity=\"1\" stroke-width=\"3.2\"/>\n",
       "<circle clip-path=\"url(#clip422)\" cx=\"308.905\" cy=\"1239.25\" r=\"14.4\" fill=\"#009af9\" fill-rule=\"evenodd\" fill-opacity=\"1\" stroke=\"#000000\" stroke-opacity=\"1\" stroke-width=\"3.2\"/>\n",
       "<circle clip-path=\"url(#clip422)\" cx=\"329.344\" cy=\"1287.6\" r=\"14.4\" fill=\"#009af9\" fill-rule=\"evenodd\" fill-opacity=\"1\" stroke=\"#000000\" stroke-opacity=\"1\" stroke-width=\"3.2\"/>\n",
       "<circle clip-path=\"url(#clip422)\" cx=\"349.782\" cy=\"1286.22\" r=\"14.4\" fill=\"#009af9\" fill-rule=\"evenodd\" fill-opacity=\"1\" stroke=\"#000000\" stroke-opacity=\"1\" stroke-width=\"3.2\"/>\n",
       "<circle clip-path=\"url(#clip422)\" cx=\"370.221\" cy=\"1228.99\" r=\"14.4\" fill=\"#009af9\" fill-rule=\"evenodd\" fill-opacity=\"1\" stroke=\"#000000\" stroke-opacity=\"1\" stroke-width=\"3.2\"/>\n",
       "<circle clip-path=\"url(#clip422)\" cx=\"390.659\" cy=\"1224.32\" r=\"14.4\" fill=\"#009af9\" fill-rule=\"evenodd\" fill-opacity=\"1\" stroke=\"#000000\" stroke-opacity=\"1\" stroke-width=\"3.2\"/>\n",
       "<circle clip-path=\"url(#clip422)\" cx=\"411.098\" cy=\"1287.83\" r=\"14.4\" fill=\"#009af9\" fill-rule=\"evenodd\" fill-opacity=\"1\" stroke=\"#000000\" stroke-opacity=\"1\" stroke-width=\"3.2\"/>\n",
       "<circle clip-path=\"url(#clip422)\" cx=\"431.536\" cy=\"1111.4\" r=\"14.4\" fill=\"#009af9\" fill-rule=\"evenodd\" fill-opacity=\"1\" stroke=\"#000000\" stroke-opacity=\"1\" stroke-width=\"3.2\"/>\n",
       "<circle clip-path=\"url(#clip422)\" cx=\"451.975\" cy=\"1190.67\" r=\"14.4\" fill=\"#009af9\" fill-rule=\"evenodd\" fill-opacity=\"1\" stroke=\"#000000\" stroke-opacity=\"1\" stroke-width=\"3.2\"/>\n",
       "<circle clip-path=\"url(#clip422)\" cx=\"472.413\" cy=\"1100.09\" r=\"14.4\" fill=\"#009af9\" fill-rule=\"evenodd\" fill-opacity=\"1\" stroke=\"#000000\" stroke-opacity=\"1\" stroke-width=\"3.2\"/>\n",
       "<circle clip-path=\"url(#clip422)\" cx=\"492.852\" cy=\"1128.18\" r=\"14.4\" fill=\"#009af9\" fill-rule=\"evenodd\" fill-opacity=\"1\" stroke=\"#000000\" stroke-opacity=\"1\" stroke-width=\"3.2\"/>\n",
       "<circle clip-path=\"url(#clip422)\" cx=\"513.29\" cy=\"1004.93\" r=\"14.4\" fill=\"#009af9\" fill-rule=\"evenodd\" fill-opacity=\"1\" stroke=\"#000000\" stroke-opacity=\"1\" stroke-width=\"3.2\"/>\n",
       "<circle clip-path=\"url(#clip422)\" cx=\"533.729\" cy=\"1025.69\" r=\"14.4\" fill=\"#009af9\" fill-rule=\"evenodd\" fill-opacity=\"1\" stroke=\"#000000\" stroke-opacity=\"1\" stroke-width=\"3.2\"/>\n",
       "<circle clip-path=\"url(#clip422)\" cx=\"554.167\" cy=\"1050.63\" r=\"14.4\" fill=\"#009af9\" fill-rule=\"evenodd\" fill-opacity=\"1\" stroke=\"#000000\" stroke-opacity=\"1\" stroke-width=\"3.2\"/>\n",
       "<circle clip-path=\"url(#clip422)\" cx=\"574.606\" cy=\"1091.15\" r=\"14.4\" fill=\"#009af9\" fill-rule=\"evenodd\" fill-opacity=\"1\" stroke=\"#000000\" stroke-opacity=\"1\" stroke-width=\"3.2\"/>\n",
       "<circle clip-path=\"url(#clip422)\" cx=\"595.044\" cy=\"1053.41\" r=\"14.4\" fill=\"#009af9\" fill-rule=\"evenodd\" fill-opacity=\"1\" stroke=\"#000000\" stroke-opacity=\"1\" stroke-width=\"3.2\"/>\n",
       "<circle clip-path=\"url(#clip422)\" cx=\"615.483\" cy=\"1037.84\" r=\"14.4\" fill=\"#009af9\" fill-rule=\"evenodd\" fill-opacity=\"1\" stroke=\"#000000\" stroke-opacity=\"1\" stroke-width=\"3.2\"/>\n",
       "<circle clip-path=\"url(#clip422)\" cx=\"635.921\" cy=\"856.396\" r=\"14.4\" fill=\"#009af9\" fill-rule=\"evenodd\" fill-opacity=\"1\" stroke=\"#000000\" stroke-opacity=\"1\" stroke-width=\"3.2\"/>\n",
       "<circle clip-path=\"url(#clip422)\" cx=\"656.36\" cy=\"975.531\" r=\"14.4\" fill=\"#009af9\" fill-rule=\"evenodd\" fill-opacity=\"1\" stroke=\"#000000\" stroke-opacity=\"1\" stroke-width=\"3.2\"/>\n",
       "<circle clip-path=\"url(#clip422)\" cx=\"676.798\" cy=\"910.427\" r=\"14.4\" fill=\"#009af9\" fill-rule=\"evenodd\" fill-opacity=\"1\" stroke=\"#000000\" stroke-opacity=\"1\" stroke-width=\"3.2\"/>\n",
       "<circle clip-path=\"url(#clip422)\" cx=\"697.237\" cy=\"886.84\" r=\"14.4\" fill=\"#009af9\" fill-rule=\"evenodd\" fill-opacity=\"1\" stroke=\"#000000\" stroke-opacity=\"1\" stroke-width=\"3.2\"/>\n",
       "<circle clip-path=\"url(#clip422)\" cx=\"717.675\" cy=\"739.297\" r=\"14.4\" fill=\"#009af9\" fill-rule=\"evenodd\" fill-opacity=\"1\" stroke=\"#000000\" stroke-opacity=\"1\" stroke-width=\"3.2\"/>\n",
       "<circle clip-path=\"url(#clip422)\" cx=\"738.114\" cy=\"710.087\" r=\"14.4\" fill=\"#009af9\" fill-rule=\"evenodd\" fill-opacity=\"1\" stroke=\"#000000\" stroke-opacity=\"1\" stroke-width=\"3.2\"/>\n",
       "<circle clip-path=\"url(#clip422)\" cx=\"758.552\" cy=\"659.001\" r=\"14.4\" fill=\"#009af9\" fill-rule=\"evenodd\" fill-opacity=\"1\" stroke=\"#000000\" stroke-opacity=\"1\" stroke-width=\"3.2\"/>\n",
       "<circle clip-path=\"url(#clip422)\" cx=\"778.991\" cy=\"774.404\" r=\"14.4\" fill=\"#009af9\" fill-rule=\"evenodd\" fill-opacity=\"1\" stroke=\"#000000\" stroke-opacity=\"1\" stroke-width=\"3.2\"/>\n",
       "<circle clip-path=\"url(#clip422)\" cx=\"799.429\" cy=\"656.133\" r=\"14.4\" fill=\"#009af9\" fill-rule=\"evenodd\" fill-opacity=\"1\" stroke=\"#000000\" stroke-opacity=\"1\" stroke-width=\"3.2\"/>\n",
       "<circle clip-path=\"url(#clip422)\" cx=\"819.868\" cy=\"656.886\" r=\"14.4\" fill=\"#009af9\" fill-rule=\"evenodd\" fill-opacity=\"1\" stroke=\"#000000\" stroke-opacity=\"1\" stroke-width=\"3.2\"/>\n",
       "<circle clip-path=\"url(#clip422)\" cx=\"840.306\" cy=\"696.55\" r=\"14.4\" fill=\"#009af9\" fill-rule=\"evenodd\" fill-opacity=\"1\" stroke=\"#000000\" stroke-opacity=\"1\" stroke-width=\"3.2\"/>\n",
       "<circle clip-path=\"url(#clip422)\" cx=\"860.745\" cy=\"515.289\" r=\"14.4\" fill=\"#009af9\" fill-rule=\"evenodd\" fill-opacity=\"1\" stroke=\"#000000\" stroke-opacity=\"1\" stroke-width=\"3.2\"/>\n",
       "<circle clip-path=\"url(#clip422)\" cx=\"881.183\" cy=\"634.573\" r=\"14.4\" fill=\"#009af9\" fill-rule=\"evenodd\" fill-opacity=\"1\" stroke=\"#000000\" stroke-opacity=\"1\" stroke-width=\"3.2\"/>\n",
       "<circle clip-path=\"url(#clip422)\" cx=\"901.622\" cy=\"533.114\" r=\"14.4\" fill=\"#009af9\" fill-rule=\"evenodd\" fill-opacity=\"1\" stroke=\"#000000\" stroke-opacity=\"1\" stroke-width=\"3.2\"/>\n",
       "<circle clip-path=\"url(#clip422)\" cx=\"922.06\" cy=\"568.702\" r=\"14.4\" fill=\"#009af9\" fill-rule=\"evenodd\" fill-opacity=\"1\" stroke=\"#000000\" stroke-opacity=\"1\" stroke-width=\"3.2\"/>\n",
       "<circle clip-path=\"url(#clip422)\" cx=\"942.499\" cy=\"584.419\" r=\"14.4\" fill=\"#009af9\" fill-rule=\"evenodd\" fill-opacity=\"1\" stroke=\"#000000\" stroke-opacity=\"1\" stroke-width=\"3.2\"/>\n",
       "<circle clip-path=\"url(#clip422)\" cx=\"962.937\" cy=\"398.958\" r=\"14.4\" fill=\"#009af9\" fill-rule=\"evenodd\" fill-opacity=\"1\" stroke=\"#000000\" stroke-opacity=\"1\" stroke-width=\"3.2\"/>\n",
       "<circle clip-path=\"url(#clip422)\" cx=\"983.376\" cy=\"415.982\" r=\"14.4\" fill=\"#009af9\" fill-rule=\"evenodd\" fill-opacity=\"1\" stroke=\"#000000\" stroke-opacity=\"1\" stroke-width=\"3.2\"/>\n",
       "<circle clip-path=\"url(#clip422)\" cx=\"1003.81\" cy=\"390.047\" r=\"14.4\" fill=\"#009af9\" fill-rule=\"evenodd\" fill-opacity=\"1\" stroke=\"#000000\" stroke-opacity=\"1\" stroke-width=\"3.2\"/>\n",
       "<circle clip-path=\"url(#clip422)\" cx=\"1024.25\" cy=\"341.827\" r=\"14.4\" fill=\"#009af9\" fill-rule=\"evenodd\" fill-opacity=\"1\" stroke=\"#000000\" stroke-opacity=\"1\" stroke-width=\"3.2\"/>\n",
       "<circle clip-path=\"url(#clip422)\" cx=\"1044.69\" cy=\"350.121\" r=\"14.4\" fill=\"#009af9\" fill-rule=\"evenodd\" fill-opacity=\"1\" stroke=\"#000000\" stroke-opacity=\"1\" stroke-width=\"3.2\"/>\n",
       "<circle clip-path=\"url(#clip422)\" cx=\"1065.13\" cy=\"401.953\" r=\"14.4\" fill=\"#009af9\" fill-rule=\"evenodd\" fill-opacity=\"1\" stroke=\"#000000\" stroke-opacity=\"1\" stroke-width=\"3.2\"/>\n",
       "<circle clip-path=\"url(#clip422)\" cx=\"1085.57\" cy=\"378.342\" r=\"14.4\" fill=\"#009af9\" fill-rule=\"evenodd\" fill-opacity=\"1\" stroke=\"#000000\" stroke-opacity=\"1\" stroke-width=\"3.2\"/>\n",
       "<circle clip-path=\"url(#clip422)\" cx=\"1106.01\" cy=\"426.567\" r=\"14.4\" fill=\"#009af9\" fill-rule=\"evenodd\" fill-opacity=\"1\" stroke=\"#000000\" stroke-opacity=\"1\" stroke-width=\"3.2\"/>\n",
       "<circle clip-path=\"url(#clip422)\" cx=\"1126.45\" cy=\"472.404\" r=\"14.4\" fill=\"#009af9\" fill-rule=\"evenodd\" fill-opacity=\"1\" stroke=\"#000000\" stroke-opacity=\"1\" stroke-width=\"3.2\"/>\n",
       "<circle clip-path=\"url(#clip422)\" cx=\"1146.88\" cy=\"366.807\" r=\"14.4\" fill=\"#009af9\" fill-rule=\"evenodd\" fill-opacity=\"1\" stroke=\"#000000\" stroke-opacity=\"1\" stroke-width=\"3.2\"/>\n",
       "<circle clip-path=\"url(#clip422)\" cx=\"1167.32\" cy=\"303.464\" r=\"14.4\" fill=\"#009af9\" fill-rule=\"evenodd\" fill-opacity=\"1\" stroke=\"#000000\" stroke-opacity=\"1\" stroke-width=\"3.2\"/>\n",
       "<circle clip-path=\"url(#clip422)\" cx=\"1187.76\" cy=\"406.748\" r=\"14.4\" fill=\"#009af9\" fill-rule=\"evenodd\" fill-opacity=\"1\" stroke=\"#000000\" stroke-opacity=\"1\" stroke-width=\"3.2\"/>\n",
       "<circle clip-path=\"url(#clip422)\" cx=\"1208.2\" cy=\"368.652\" r=\"14.4\" fill=\"#009af9\" fill-rule=\"evenodd\" fill-opacity=\"1\" stroke=\"#000000\" stroke-opacity=\"1\" stroke-width=\"3.2\"/>\n",
       "<circle clip-path=\"url(#clip422)\" cx=\"1228.64\" cy=\"501.636\" r=\"14.4\" fill=\"#009af9\" fill-rule=\"evenodd\" fill-opacity=\"1\" stroke=\"#000000\" stroke-opacity=\"1\" stroke-width=\"3.2\"/>\n",
       "<circle clip-path=\"url(#clip422)\" cx=\"1249.08\" cy=\"338.388\" r=\"14.4\" fill=\"#009af9\" fill-rule=\"evenodd\" fill-opacity=\"1\" stroke=\"#000000\" stroke-opacity=\"1\" stroke-width=\"3.2\"/>\n",
       "<circle clip-path=\"url(#clip422)\" cx=\"1269.51\" cy=\"466.91\" r=\"14.4\" fill=\"#009af9\" fill-rule=\"evenodd\" fill-opacity=\"1\" stroke=\"#000000\" stroke-opacity=\"1\" stroke-width=\"3.2\"/>\n",
       "<circle clip-path=\"url(#clip422)\" cx=\"1289.95\" cy=\"408.081\" r=\"14.4\" fill=\"#009af9\" fill-rule=\"evenodd\" fill-opacity=\"1\" stroke=\"#000000\" stroke-opacity=\"1\" stroke-width=\"3.2\"/>\n",
       "<circle clip-path=\"url(#clip422)\" cx=\"1310.39\" cy=\"510.569\" r=\"14.4\" fill=\"#009af9\" fill-rule=\"evenodd\" fill-opacity=\"1\" stroke=\"#000000\" stroke-opacity=\"1\" stroke-width=\"3.2\"/>\n",
       "<circle clip-path=\"url(#clip422)\" cx=\"1330.83\" cy=\"402.114\" r=\"14.4\" fill=\"#009af9\" fill-rule=\"evenodd\" fill-opacity=\"1\" stroke=\"#000000\" stroke-opacity=\"1\" stroke-width=\"3.2\"/>\n",
       "<circle clip-path=\"url(#clip422)\" cx=\"1351.27\" cy=\"532.082\" r=\"14.4\" fill=\"#009af9\" fill-rule=\"evenodd\" fill-opacity=\"1\" stroke=\"#000000\" stroke-opacity=\"1\" stroke-width=\"3.2\"/>\n",
       "<circle clip-path=\"url(#clip422)\" cx=\"1371.71\" cy=\"542.391\" r=\"14.4\" fill=\"#009af9\" fill-rule=\"evenodd\" fill-opacity=\"1\" stroke=\"#000000\" stroke-opacity=\"1\" stroke-width=\"3.2\"/>\n",
       "<circle clip-path=\"url(#clip422)\" cx=\"1392.15\" cy=\"451.282\" r=\"14.4\" fill=\"#009af9\" fill-rule=\"evenodd\" fill-opacity=\"1\" stroke=\"#000000\" stroke-opacity=\"1\" stroke-width=\"3.2\"/>\n",
       "<circle clip-path=\"url(#clip422)\" cx=\"1412.58\" cy=\"536.518\" r=\"14.4\" fill=\"#009af9\" fill-rule=\"evenodd\" fill-opacity=\"1\" stroke=\"#000000\" stroke-opacity=\"1\" stroke-width=\"3.2\"/>\n",
       "<circle clip-path=\"url(#clip422)\" cx=\"1433.02\" cy=\"542.379\" r=\"14.4\" fill=\"#009af9\" fill-rule=\"evenodd\" fill-opacity=\"1\" stroke=\"#000000\" stroke-opacity=\"1\" stroke-width=\"3.2\"/>\n",
       "<circle clip-path=\"url(#clip422)\" cx=\"1453.46\" cy=\"585.774\" r=\"14.4\" fill=\"#009af9\" fill-rule=\"evenodd\" fill-opacity=\"1\" stroke=\"#000000\" stroke-opacity=\"1\" stroke-width=\"3.2\"/>\n",
       "<circle clip-path=\"url(#clip422)\" cx=\"1473.9\" cy=\"593.025\" r=\"14.4\" fill=\"#009af9\" fill-rule=\"evenodd\" fill-opacity=\"1\" stroke=\"#000000\" stroke-opacity=\"1\" stroke-width=\"3.2\"/>\n",
       "<circle clip-path=\"url(#clip422)\" cx=\"1494.34\" cy=\"623.269\" r=\"14.4\" fill=\"#009af9\" fill-rule=\"evenodd\" fill-opacity=\"1\" stroke=\"#000000\" stroke-opacity=\"1\" stroke-width=\"3.2\"/>\n",
       "<circle clip-path=\"url(#clip422)\" cx=\"1514.78\" cy=\"644.049\" r=\"14.4\" fill=\"#009af9\" fill-rule=\"evenodd\" fill-opacity=\"1\" stroke=\"#000000\" stroke-opacity=\"1\" stroke-width=\"3.2\"/>\n",
       "<circle clip-path=\"url(#clip422)\" cx=\"1535.22\" cy=\"717.642\" r=\"14.4\" fill=\"#009af9\" fill-rule=\"evenodd\" fill-opacity=\"1\" stroke=\"#000000\" stroke-opacity=\"1\" stroke-width=\"3.2\"/>\n",
       "<circle clip-path=\"url(#clip422)\" cx=\"1555.65\" cy=\"743.166\" r=\"14.4\" fill=\"#009af9\" fill-rule=\"evenodd\" fill-opacity=\"1\" stroke=\"#000000\" stroke-opacity=\"1\" stroke-width=\"3.2\"/>\n",
       "<circle clip-path=\"url(#clip422)\" cx=\"1576.09\" cy=\"825.733\" r=\"14.4\" fill=\"#009af9\" fill-rule=\"evenodd\" fill-opacity=\"1\" stroke=\"#000000\" stroke-opacity=\"1\" stroke-width=\"3.2\"/>\n",
       "<circle clip-path=\"url(#clip422)\" cx=\"1596.53\" cy=\"778.668\" r=\"14.4\" fill=\"#009af9\" fill-rule=\"evenodd\" fill-opacity=\"1\" stroke=\"#000000\" stroke-opacity=\"1\" stroke-width=\"3.2\"/>\n",
       "<circle clip-path=\"url(#clip422)\" cx=\"1616.97\" cy=\"902.508\" r=\"14.4\" fill=\"#009af9\" fill-rule=\"evenodd\" fill-opacity=\"1\" stroke=\"#000000\" stroke-opacity=\"1\" stroke-width=\"3.2\"/>\n",
       "<circle clip-path=\"url(#clip422)\" cx=\"1637.41\" cy=\"843.511\" r=\"14.4\" fill=\"#009af9\" fill-rule=\"evenodd\" fill-opacity=\"1\" stroke=\"#000000\" stroke-opacity=\"1\" stroke-width=\"3.2\"/>\n",
       "<circle clip-path=\"url(#clip422)\" cx=\"1657.85\" cy=\"859.765\" r=\"14.4\" fill=\"#009af9\" fill-rule=\"evenodd\" fill-opacity=\"1\" stroke=\"#000000\" stroke-opacity=\"1\" stroke-width=\"3.2\"/>\n",
       "<circle clip-path=\"url(#clip422)\" cx=\"1678.29\" cy=\"916.108\" r=\"14.4\" fill=\"#009af9\" fill-rule=\"evenodd\" fill-opacity=\"1\" stroke=\"#000000\" stroke-opacity=\"1\" stroke-width=\"3.2\"/>\n",
       "<circle clip-path=\"url(#clip422)\" cx=\"1698.72\" cy=\"946.323\" r=\"14.4\" fill=\"#009af9\" fill-rule=\"evenodd\" fill-opacity=\"1\" stroke=\"#000000\" stroke-opacity=\"1\" stroke-width=\"3.2\"/>\n",
       "<circle clip-path=\"url(#clip422)\" cx=\"1719.16\" cy=\"1048.46\" r=\"14.4\" fill=\"#009af9\" fill-rule=\"evenodd\" fill-opacity=\"1\" stroke=\"#000000\" stroke-opacity=\"1\" stroke-width=\"3.2\"/>\n",
       "<circle clip-path=\"url(#clip422)\" cx=\"1739.6\" cy=\"979.66\" r=\"14.4\" fill=\"#009af9\" fill-rule=\"evenodd\" fill-opacity=\"1\" stroke=\"#000000\" stroke-opacity=\"1\" stroke-width=\"3.2\"/>\n",
       "<circle clip-path=\"url(#clip422)\" cx=\"1760.04\" cy=\"1043.77\" r=\"14.4\" fill=\"#009af9\" fill-rule=\"evenodd\" fill-opacity=\"1\" stroke=\"#000000\" stroke-opacity=\"1\" stroke-width=\"3.2\"/>\n",
       "<circle clip-path=\"url(#clip422)\" cx=\"1780.48\" cy=\"1172.79\" r=\"14.4\" fill=\"#009af9\" fill-rule=\"evenodd\" fill-opacity=\"1\" stroke=\"#000000\" stroke-opacity=\"1\" stroke-width=\"3.2\"/>\n",
       "<circle clip-path=\"url(#clip422)\" cx=\"1800.92\" cy=\"1122.46\" r=\"14.4\" fill=\"#009af9\" fill-rule=\"evenodd\" fill-opacity=\"1\" stroke=\"#000000\" stroke-opacity=\"1\" stroke-width=\"3.2\"/>\n",
       "<circle clip-path=\"url(#clip422)\" cx=\"1821.35\" cy=\"1158.72\" r=\"14.4\" fill=\"#009af9\" fill-rule=\"evenodd\" fill-opacity=\"1\" stroke=\"#000000\" stroke-opacity=\"1\" stroke-width=\"3.2\"/>\n",
       "<circle clip-path=\"url(#clip422)\" cx=\"1841.79\" cy=\"1116.9\" r=\"14.4\" fill=\"#009af9\" fill-rule=\"evenodd\" fill-opacity=\"1\" stroke=\"#000000\" stroke-opacity=\"1\" stroke-width=\"3.2\"/>\n",
       "<circle clip-path=\"url(#clip422)\" cx=\"1862.23\" cy=\"1232.02\" r=\"14.4\" fill=\"#009af9\" fill-rule=\"evenodd\" fill-opacity=\"1\" stroke=\"#000000\" stroke-opacity=\"1\" stroke-width=\"3.2\"/>\n",
       "<circle clip-path=\"url(#clip422)\" cx=\"1882.67\" cy=\"1145.67\" r=\"14.4\" fill=\"#009af9\" fill-rule=\"evenodd\" fill-opacity=\"1\" stroke=\"#000000\" stroke-opacity=\"1\" stroke-width=\"3.2\"/>\n",
       "<circle clip-path=\"url(#clip422)\" cx=\"1903.11\" cy=\"1288.87\" r=\"14.4\" fill=\"#009af9\" fill-rule=\"evenodd\" fill-opacity=\"1\" stroke=\"#000000\" stroke-opacity=\"1\" stroke-width=\"3.2\"/>\n",
       "<circle clip-path=\"url(#clip422)\" cx=\"1923.55\" cy=\"1325.36\" r=\"14.4\" fill=\"#009af9\" fill-rule=\"evenodd\" fill-opacity=\"1\" stroke=\"#000000\" stroke-opacity=\"1\" stroke-width=\"3.2\"/>\n",
       "<circle clip-path=\"url(#clip422)\" cx=\"1943.99\" cy=\"1318.26\" r=\"14.4\" fill=\"#009af9\" fill-rule=\"evenodd\" fill-opacity=\"1\" stroke=\"#000000\" stroke-opacity=\"1\" stroke-width=\"3.2\"/>\n",
       "<circle clip-path=\"url(#clip422)\" cx=\"1964.42\" cy=\"1260.65\" r=\"14.4\" fill=\"#009af9\" fill-rule=\"evenodd\" fill-opacity=\"1\" stroke=\"#000000\" stroke-opacity=\"1\" stroke-width=\"3.2\"/>\n",
       "<circle clip-path=\"url(#clip422)\" cx=\"1984.86\" cy=\"1247.98\" r=\"14.4\" fill=\"#009af9\" fill-rule=\"evenodd\" fill-opacity=\"1\" stroke=\"#000000\" stroke-opacity=\"1\" stroke-width=\"3.2\"/>\n",
       "<circle clip-path=\"url(#clip422)\" cx=\"2005.3\" cy=\"1251.22\" r=\"14.4\" fill=\"#009af9\" fill-rule=\"evenodd\" fill-opacity=\"1\" stroke=\"#000000\" stroke-opacity=\"1\" stroke-width=\"3.2\"/>\n",
       "<circle clip-path=\"url(#clip422)\" cx=\"2025.74\" cy=\"1389.58\" r=\"14.4\" fill=\"#009af9\" fill-rule=\"evenodd\" fill-opacity=\"1\" stroke=\"#000000\" stroke-opacity=\"1\" stroke-width=\"3.2\"/>\n",
       "<circle clip-path=\"url(#clip422)\" cx=\"2046.18\" cy=\"1433.98\" r=\"14.4\" fill=\"#009af9\" fill-rule=\"evenodd\" fill-opacity=\"1\" stroke=\"#000000\" stroke-opacity=\"1\" stroke-width=\"3.2\"/>\n",
       "<circle clip-path=\"url(#clip422)\" cx=\"2066.62\" cy=\"1419.93\" r=\"14.4\" fill=\"#009af9\" fill-rule=\"evenodd\" fill-opacity=\"1\" stroke=\"#000000\" stroke-opacity=\"1\" stroke-width=\"3.2\"/>\n",
       "<circle clip-path=\"url(#clip422)\" cx=\"2087.06\" cy=\"1284.79\" r=\"14.4\" fill=\"#009af9\" fill-rule=\"evenodd\" fill-opacity=\"1\" stroke=\"#000000\" stroke-opacity=\"1\" stroke-width=\"3.2\"/>\n",
       "<circle clip-path=\"url(#clip422)\" cx=\"2107.49\" cy=\"1266.62\" r=\"14.4\" fill=\"#009af9\" fill-rule=\"evenodd\" fill-opacity=\"1\" stroke=\"#000000\" stroke-opacity=\"1\" stroke-width=\"3.2\"/>\n",
       "<circle clip-path=\"url(#clip422)\" cx=\"2127.93\" cy=\"1297.21\" r=\"14.4\" fill=\"#009af9\" fill-rule=\"evenodd\" fill-opacity=\"1\" stroke=\"#000000\" stroke-opacity=\"1\" stroke-width=\"3.2\"/>\n",
       "<circle clip-path=\"url(#clip422)\" cx=\"2148.37\" cy=\"1325.4\" r=\"14.4\" fill=\"#009af9\" fill-rule=\"evenodd\" fill-opacity=\"1\" stroke=\"#000000\" stroke-opacity=\"1\" stroke-width=\"3.2\"/>\n",
       "<circle clip-path=\"url(#clip422)\" cx=\"2168.81\" cy=\"1389.46\" r=\"14.4\" fill=\"#009af9\" fill-rule=\"evenodd\" fill-opacity=\"1\" stroke=\"#000000\" stroke-opacity=\"1\" stroke-width=\"3.2\"/>\n",
       "<circle clip-path=\"url(#clip422)\" cx=\"2189.25\" cy=\"1287.47\" r=\"14.4\" fill=\"#009af9\" fill-rule=\"evenodd\" fill-opacity=\"1\" stroke=\"#000000\" stroke-opacity=\"1\" stroke-width=\"3.2\"/>\n",
       "<circle clip-path=\"url(#clip422)\" cx=\"2209.69\" cy=\"1407.16\" r=\"14.4\" fill=\"#009af9\" fill-rule=\"evenodd\" fill-opacity=\"1\" stroke=\"#000000\" stroke-opacity=\"1\" stroke-width=\"3.2\"/>\n",
       "<circle clip-path=\"url(#clip422)\" cx=\"2230.12\" cy=\"1251.46\" r=\"14.4\" fill=\"#009af9\" fill-rule=\"evenodd\" fill-opacity=\"1\" stroke=\"#000000\" stroke-opacity=\"1\" stroke-width=\"3.2\"/>\n",
       "<circle clip-path=\"url(#clip422)\" cx=\"2250.56\" cy=\"1224.01\" r=\"14.4\" fill=\"#009af9\" fill-rule=\"evenodd\" fill-opacity=\"1\" stroke=\"#000000\" stroke-opacity=\"1\" stroke-width=\"3.2\"/>\n",
       "<circle clip-path=\"url(#clip422)\" cx=\"2271\" cy=\"1375.46\" r=\"14.4\" fill=\"#009af9\" fill-rule=\"evenodd\" fill-opacity=\"1\" stroke=\"#000000\" stroke-opacity=\"1\" stroke-width=\"3.2\"/>\n",
       "<circle clip-path=\"url(#clip422)\" cx=\"2291.44\" cy=\"1264.03\" r=\"14.4\" fill=\"#009af9\" fill-rule=\"evenodd\" fill-opacity=\"1\" stroke=\"#000000\" stroke-opacity=\"1\" stroke-width=\"3.2\"/>\n",
       "<polyline clip-path=\"url(#clip422)\" style=\"stroke:#e26f46; stroke-linecap:round; stroke-linejoin:round; stroke-width:4; stroke-opacity:1; fill:none\" points=\"247.59,1445.71 268.028,1445.71 288.467,1445.7 308.905,1445.69 329.344,1445.68 349.782,1445.66 370.221,1445.63 390.659,1445.59 411.098,1445.52 431.536,1445.42 451.975,1445.27 472.413,1445.05 492.852,1444.74 513.29,1444.3 533.729,1443.67 554.167,1442.8 574.606,1441.6 595.044,1439.96 615.483,1437.76 635.921,1434.81 656.36,1430.92 676.798,1425.85 697.237,1419.29 717.675,1410.93 738.114,1400.38 758.552,1387.21 778.991,1370.97 799.429,1351.17 819.868,1327.31 840.306,1298.91 860.745,1265.51 881.183,1226.7 901.622,1182.2 922.06,1131.8 942.499,1075.49 962.937,1013.41 983.376,945.959 1003.81,873.726 1024.25,797.566 1044.69,718.574 1065.13,638.072 1085.57,557.584 1106.01,478.791 1126.45,403.483 1146.88,333.488 1167.32,270.602 1187.76,216.514 1208.2,172.73 1228.64,140.505 1249.08,120.779 1269.51,114.138 1289.95,120.779 1310.39,140.505 1330.83,172.73 1351.27,216.514 1371.71,270.602 1392.15,333.488 1412.58,403.483 1433.02,478.791 1453.46,557.584 1473.9,638.072 1494.34,718.574 1514.78,797.566 1535.22,873.726 1555.65,945.959 1576.09,1013.41 1596.53,1075.49 1616.97,1131.8 1637.41,1182.2 1657.85,1226.7 1678.29,1265.51 1698.72,1298.91 1719.16,1327.31 1739.6,1351.17 1760.04,1370.97 1780.48,1387.21 1800.92,1400.38 1821.35,1410.93 1841.79,1419.29 1862.23,1425.85 1882.67,1430.92 1903.11,1434.81 1923.55,1437.76 1943.99,1439.96 1964.42,1441.6 1984.86,1442.8 2005.3,1443.67 2025.74,1444.3 2046.18,1444.74 2066.62,1445.05 2087.06,1445.27 2107.49,1445.42 2127.93,1445.52 2148.37,1445.59 2168.81,1445.63 2189.25,1445.66 2209.69,1445.68 2230.12,1445.69 2250.56,1445.7 2271,1445.71 2291.44,1445.71 \"/>\n",
       "<polyline clip-path=\"url(#clip422)\" style=\"stroke:#3da44d; stroke-linecap:round; stroke-linejoin:round; stroke-width:4; stroke-opacity:1; fill:none\" points=\"247.59,1445.7 268.028,1445.7 288.467,1445.69 308.905,1445.67 329.344,1445.65 349.782,1445.61 370.221,1445.56 390.659,1445.47 411.098,1445.35 431.536,1445.17 451.975,1444.91 472.413,1444.53 492.852,1443.99 513.29,1443.24 533.729,1442.19 554.167,1440.75 574.606,1438.79 595.044,1436.15 615.483,1432.63 635.921,1428.01 656.36,1421.99 676.798,1414.25 697.237,1404.41 717.675,1392.03 738.114,1376.66 758.552,1357.78 778.991,1334.87 799.429,1307.41 819.868,1274.89 840.306,1236.87 860.745,1192.98 881.183,1142.97 901.622,1086.75 922.06,1024.42 942.499,956.287 962.937,882.93 983.376,805.169 1003.81,724.097 1024.25,641.057 1044.69,557.623 1065.13,475.554 1085.57,396.74 1106.01,323.135 1126.45,256.676 1146.88,199.203 1167.32,152.37 1187.76,117.575 1208.2,95.8832 1228.64,87.9763 1249.08,94.1179 1269.51,114.138 1289.95,147.44 1310.39,193.033 1330.83,249.578 1351.27,315.453 1371.71,388.834 1392.15,467.773 1412.58,550.29 1433.02,634.447 1453.46,718.427 1473.9,800.591 1494.34,879.526 1514.78,954.076 1535.22,1023.35 1555.65,1086.75 1576.09,1143.9 1596.53,1194.69 1616.97,1239.19 1637.41,1277.64 1657.85,1310.44 1678.29,1338.03 1698.72,1360.94 1719.16,1379.73 1739.6,1394.92 1760.04,1407.07 1780.48,1416.64 1800.92,1424.1 1821.35,1429.83 1841.79,1434.18 1862.23,1437.44 1882.67,1439.85 1903.11,1441.61 1923.55,1442.88 1943.99,1443.78 1964.42,1444.42 1984.86,1444.85 2005.3,1445.15 2025.74,1445.35 2046.18,1445.49 2066.62,1445.57 2087.06,1445.63 2107.49,1445.66 2127.93,1445.68 2148.37,1445.7 2168.81,1445.7 2189.25,1445.71 2209.69,1445.71 2230.12,1445.71 2250.56,1445.71 2271,1445.71 2291.44,1445.71 \"/>\n",
       "<polyline clip-path=\"url(#clip422)\" style=\"stroke:#c271d2; stroke-linecap:round; stroke-linejoin:round; stroke-width:4; stroke-opacity:1; fill:none\" points=\"247.59,1445.62 268.028,1445.57 288.467,1445.49 308.905,1445.37 329.344,1445.18 349.782,1444.91 370.221,1444.51 390.659,1443.94 411.098,1443.11 431.536,1441.94 451.975,1440.31 472.413,1438.05 492.852,1434.98 513.29,1430.82 533.729,1425.3 554.167,1418.03 574.606,1408.59 595.044,1396.48 615.483,1381.17 635.921,1362.06 656.36,1338.51 676.798,1309.91 697.237,1275.65 717.675,1235.23 738.114,1188.22 758.552,1134.42 778.991,1073.82 799.429,1006.71 819.868,933.7 840.306,855.755 860.745,774.207 881.183,690.741 901.622,607.355 922.06,526.286 942.499,449.915 962.937,380.638 983.376,320.725 1003.81,272.171 1024.25,236.542 1044.69,214.847 1065.13,207.438 1085.57,213.942 1106.01,233.257 1126.45,263.596 1146.88,302.587 1167.32,347.423 1187.76,395.057 1208.2,442.413 1228.64,486.608 1249.08,525.164 1269.51,556.186 1289.95,578.487 1310.39,591.665 1330.83,596.107 1351.27,592.935 1371.71,583.887 1392.15,571.158 1412.58,557.21 1433.02,544.569 1453.46,535.629 1473.9,532.475 1494.34,536.751 1514.78,549.56 1535.22,571.428 1555.65,602.304 1576.09,641.608 1596.53,688.314 1616.97,741.056 1637.41,798.25 1657.85,858.209 1678.29,919.258 1698.72,979.829 1719.16,1038.54 1739.6,1094.23 1760.04,1146.02 1780.48,1193.29 1800.92,1235.66 1821.35,1273.02 1841.79,1305.43 1862.23,1333.1 1882.67,1356.37 1903.11,1375.66 1923.55,1391.42 1943.99,1404.12 1964.42,1414.21 1984.86,1422.13 2005.3,1428.26 2025.74,1432.94 2046.18,1436.47 2066.62,1439.1 2087.06,1441.03 2107.49,1442.44 2127.93,1443.45 2148.37,1444.16 2168.81,1444.66 2189.25,1445.01 2209.69,1445.25 2230.12,1445.41 2250.56,1445.52 2271,1445.59 2291.44,1445.63 \"/>\n",
       "<polyline clip-path=\"url(#clip422)\" style=\"stroke:#ac8d18; stroke-linecap:round; stroke-linejoin:round; stroke-width:4; stroke-opacity:1; fill:none\" points=\"247.59,1445.54 268.028,1445.44 288.467,1445.3 308.905,1445.08 329.344,1444.75 349.782,1444.28 370.221,1443.59 390.659,1442.62 411.098,1441.24 431.536,1439.31 451.975,1436.67 472.413,1433.07 492.852,1428.24 513.29,1421.83 533.729,1413.44 554.167,1402.61 574.606,1388.8 595.044,1371.42 615.483,1349.86 635.921,1323.49 656.36,1291.69 676.798,1253.9 697.237,1209.68 717.675,1158.73 738.114,1101 758.552,1036.69 778.991,966.313 799.429,890.767 819.868,811.304 840.306,729.548 860.745,647.45 881.183,567.225 901.622,491.249 922.06,421.935 942.499,361.583 962.937,312.221 983.376,275.449 1003.81,252.296 1024.25,243.107 1044.69,247.479 1065.13,264.246 1085.57,291.529 1106.01,326.842 1126.45,367.255 1146.88,409.609 1167.32,450.743 1187.76,487.743 1208.2,518.163 1228.64,540.223 1249.08,552.936 1269.51,556.186 1289.95,550.715 1310.39,538.049 1330.83,520.356 1351.27,500.25 1371.71,480.567 1392.15,464.136 1412.58,453.551 1433.02,450.985 1453.46,458.041 1473.9,475.667 1494.34,504.119 1514.78,542.995 1535.22,591.303 1555.65,647.58 1576.09,710.024 1596.53,776.646 1616.97,845.408 1637.41,914.357 1657.85,981.726 1678.29,1046.01 1698.72,1106.04 1719.16,1160.93 1739.6,1210.17 1760.04,1253.53 1780.48,1291.02 1800.92,1322.89 1821.35,1349.52 1841.79,1371.4 1862.23,1389.11 1882.67,1403.19 1903.11,1414.22 1923.55,1422.73 1943.99,1429.18 1964.42,1434 1984.86,1437.55 2005.3,1440.11 2025.74,1441.93 2046.18,1443.21 2066.62,1444.08 2087.06,1444.67 2107.49,1445.07 2127.93,1445.32 2148.37,1445.48 2168.81,1445.58 2189.25,1445.64 2209.69,1445.68 2230.12,1445.7 2250.56,1445.71 2271,1445.71 2291.44,1445.72 \"/>\n",
       "<path clip-path=\"url(#clip420)\" d=\"M1974.01 406.258 L2280.54 406.258 L2280.54 95.2176 L1974.01 95.2176  Z\" fill=\"#ffffff\" fill-rule=\"evenodd\" fill-opacity=\"1\"/>\n",
       "<polyline clip-path=\"url(#clip420)\" style=\"stroke:#000000; stroke-linecap:round; stroke-linejoin:round; stroke-width:4; stroke-opacity:1; fill:none\" points=\"1974.01,406.258 2280.54,406.258 2280.54,95.2176 1974.01,95.2176 1974.01,406.258 \"/>\n",
       "<circle clip-path=\"url(#clip420)\" cx=\"2070.3\" cy=\"147.058\" r=\"23.04\" fill=\"#009af9\" fill-rule=\"evenodd\" fill-opacity=\"1\" stroke=\"#000000\" stroke-opacity=\"1\" stroke-width=\"5.12\"/>\n",
       "<path clip-path=\"url(#clip420)\" d=\"M2183.09 128.319 L2183.09 131.861 L2179.01 131.861 Q2176.72 131.861 2175.82 132.787 Q2174.94 133.713 2174.94 136.12 L2174.94 138.412 L2181.95 138.412 L2181.95 141.722 L2174.94 141.722 L2174.94 164.338 L2170.66 164.338 L2170.66 141.722 L2166.58 141.722 L2166.58 138.412 L2170.66 138.412 L2170.66 136.606 Q2170.66 132.278 2172.67 130.31 Q2174.69 128.319 2179.06 128.319 L2183.09 128.319 Z\" fill=\"#000000\" fill-rule=\"evenodd\" fill-opacity=\"1\" /><path clip-path=\"url(#clip420)\" d=\"M2186.21 154.106 L2186.21 138.412 L2190.47 138.412 L2190.47 153.944 Q2190.47 157.625 2191.91 159.476 Q2193.34 161.305 2196.21 161.305 Q2199.66 161.305 2201.65 159.106 Q2203.67 156.907 2203.67 153.111 L2203.67 138.412 L2207.93 138.412 L2207.93 164.338 L2203.67 164.338 L2203.67 160.356 Q2202.12 162.717 2200.06 163.875 Q2198.02 165.009 2195.31 165.009 Q2190.84 165.009 2188.53 162.231 Q2186.21 159.453 2186.21 154.106 M2196.93 137.787 L2196.93 137.787 Z\" fill=\"#000000\" fill-rule=\"evenodd\" fill-opacity=\"1\" /><path clip-path=\"url(#clip420)\" d=\"M2238.25 148.689 L2238.25 164.338 L2233.99 164.338 L2233.99 148.828 Q2233.99 145.148 2232.56 143.319 Q2231.12 141.49 2228.25 141.49 Q2224.8 141.49 2222.81 143.69 Q2220.82 145.889 2220.82 149.685 L2220.82 164.338 L2216.54 164.338 L2216.54 138.412 L2220.82 138.412 L2220.82 142.44 Q2222.35 140.102 2224.41 138.944 Q2226.49 137.787 2229.2 137.787 Q2233.67 137.787 2235.96 140.565 Q2238.25 143.319 2238.25 148.689 Z\" fill=\"#000000\" fill-rule=\"evenodd\" fill-opacity=\"1\" /><polyline clip-path=\"url(#clip420)\" style=\"stroke:#e26f46; stroke-linecap:round; stroke-linejoin:round; stroke-width:4; stroke-opacity:1; fill:none\" points=\"1998.08,198.898 2142.51,198.898 \"/>\n",
       "<path clip-path=\"url(#clip420)\" d=\"M2166.58 180.159 L2170.87 180.159 L2170.87 201.432 L2183.57 190.252 L2189.01 190.252 L2175.26 202.381 L2189.59 216.178 L2184.04 216.178 L2170.87 203.516 L2170.87 216.178 L2166.58 216.178 L2166.58 180.159 Z\" fill=\"#000000\" fill-rule=\"evenodd\" fill-opacity=\"1\" /><path clip-path=\"url(#clip420)\" d=\"M2194.76 194.65 L2224.43 194.65 L2224.43 198.539 L2194.76 198.539 L2194.76 194.65 M2194.76 204.094 L2224.43 204.094 L2224.43 208.029 L2194.76 208.029 L2194.76 204.094 Z\" fill=\"#000000\" fill-rule=\"evenodd\" fill-opacity=\"1\" /><path clip-path=\"url(#clip420)\" d=\"M2244.52 184.696 Q2240.91 184.696 2239.08 188.261 Q2237.28 191.803 2237.28 198.932 Q2237.28 206.039 2239.08 209.604 Q2240.91 213.145 2244.52 213.145 Q2248.16 213.145 2249.96 209.604 Q2251.79 206.039 2251.79 198.932 Q2251.79 191.803 2249.96 188.261 Q2248.16 184.696 2244.52 184.696 M2244.52 180.993 Q2250.33 180.993 2253.39 185.599 Q2256.47 190.182 2256.47 198.932 Q2256.47 207.659 2253.39 212.266 Q2250.33 216.849 2244.52 216.849 Q2238.71 216.849 2235.63 212.266 Q2232.58 207.659 2232.58 198.932 Q2232.58 190.182 2235.63 185.599 Q2238.71 180.993 2244.52 180.993 Z\" fill=\"#000000\" fill-rule=\"evenodd\" fill-opacity=\"1\" /><polyline clip-path=\"url(#clip420)\" style=\"stroke:#3da44d; stroke-linecap:round; stroke-linejoin:round; stroke-width:4; stroke-opacity:1; fill:none\" points=\"1998.08,250.738 2142.51,250.738 \"/>\n",
       "<path clip-path=\"url(#clip420)\" d=\"M2166.58 231.999 L2170.87 231.999 L2170.87 253.272 L2183.57 242.092 L2189.01 242.092 L2175.26 254.221 L2189.59 268.018 L2184.04 268.018 L2170.87 255.356 L2170.87 268.018 L2166.58 268.018 L2166.58 231.999 Z\" fill=\"#000000\" fill-rule=\"evenodd\" fill-opacity=\"1\" /><path clip-path=\"url(#clip420)\" d=\"M2194.76 246.49 L2224.43 246.49 L2224.43 250.379 L2194.76 250.379 L2194.76 246.49 M2194.76 255.934 L2224.43 255.934 L2224.43 259.869 L2194.76 259.869 L2194.76 255.934 Z\" fill=\"#000000\" fill-rule=\"evenodd\" fill-opacity=\"1\" /><path clip-path=\"url(#clip420)\" d=\"M2235.33 264.082 L2242.97 264.082 L2242.97 237.717 L2234.66 239.383 L2234.66 235.124 L2242.93 233.458 L2247.6 233.458 L2247.6 264.082 L2255.24 264.082 L2255.24 268.018 L2235.33 268.018 L2235.33 264.082 Z\" fill=\"#000000\" fill-rule=\"evenodd\" fill-opacity=\"1\" /><polyline clip-path=\"url(#clip420)\" style=\"stroke:#c271d2; stroke-linecap:round; stroke-linejoin:round; stroke-width:4; stroke-opacity:1; fill:none\" points=\"1998.08,302.578 2142.51,302.578 \"/>\n",
       "<path clip-path=\"url(#clip420)\" d=\"M2166.58 283.839 L2170.87 283.839 L2170.87 305.112 L2183.57 293.932 L2189.01 293.932 L2175.26 306.061 L2189.59 319.858 L2184.04 319.858 L2170.87 307.196 L2170.87 319.858 L2166.58 319.858 L2166.58 283.839 Z\" fill=\"#000000\" fill-rule=\"evenodd\" fill-opacity=\"1\" /><path clip-path=\"url(#clip420)\" d=\"M2194.76 298.33 L2224.43 298.33 L2224.43 302.219 L2194.76 302.219 L2194.76 298.33 M2194.76 307.774 L2224.43 307.774 L2224.43 311.709 L2194.76 311.709 L2194.76 307.774 Z\" fill=\"#000000\" fill-rule=\"evenodd\" fill-opacity=\"1\" /><path clip-path=\"url(#clip420)\" d=\"M2238.55 315.922 L2254.87 315.922 L2254.87 319.858 L2232.93 319.858 L2232.93 315.922 Q2235.59 313.168 2240.17 308.538 Q2244.78 303.885 2245.96 302.543 Q2248.2 300.02 2249.08 298.284 Q2249.99 296.524 2249.99 294.835 Q2249.99 292.08 2248.04 290.344 Q2246.12 288.608 2243.02 288.608 Q2240.82 288.608 2238.37 289.372 Q2235.94 290.135 2233.16 291.686 L2233.16 286.964 Q2235.98 285.83 2238.44 285.251 Q2240.89 284.673 2242.93 284.673 Q2248.3 284.673 2251.49 287.358 Q2254.69 290.043 2254.69 294.534 Q2254.69 296.663 2253.88 298.585 Q2253.09 300.483 2250.98 303.075 Q2250.4 303.747 2247.3 306.964 Q2244.2 310.159 2238.55 315.922 Z\" fill=\"#000000\" fill-rule=\"evenodd\" fill-opacity=\"1\" /><polyline clip-path=\"url(#clip420)\" style=\"stroke:#ac8d18; stroke-linecap:round; stroke-linejoin:round; stroke-width:4; stroke-opacity:1; fill:none\" points=\"1998.08,354.418 2142.51,354.418 \"/>\n",
       "<path clip-path=\"url(#clip420)\" d=\"M2166.58 335.679 L2170.87 335.679 L2170.87 356.952 L2183.57 345.772 L2189.01 345.772 L2175.26 357.901 L2189.59 371.698 L2184.04 371.698 L2170.87 359.036 L2170.87 371.698 L2166.58 371.698 L2166.58 335.679 Z\" fill=\"#000000\" fill-rule=\"evenodd\" fill-opacity=\"1\" /><path clip-path=\"url(#clip420)\" d=\"M2194.76 350.17 L2224.43 350.17 L2224.43 354.059 L2194.76 354.059 L2194.76 350.17 M2194.76 359.614 L2224.43 359.614 L2224.43 363.549 L2194.76 363.549 L2194.76 359.614 Z\" fill=\"#000000\" fill-rule=\"evenodd\" fill-opacity=\"1\" /><path clip-path=\"url(#clip420)\" d=\"M2248.69 353.063 Q2252.05 353.781 2253.92 356.049 Q2255.82 358.318 2255.82 361.651 Q2255.82 366.767 2252.3 369.568 Q2248.78 372.369 2242.3 372.369 Q2240.13 372.369 2237.81 371.929 Q2235.52 371.512 2233.07 370.656 L2233.07 366.142 Q2235.01 367.276 2237.32 367.855 Q2239.64 368.434 2242.16 368.434 Q2246.56 368.434 2248.85 366.698 Q2251.17 364.961 2251.17 361.651 Q2251.17 358.596 2249.01 356.883 Q2246.88 355.147 2243.07 355.147 L2239.04 355.147 L2239.04 351.304 L2243.25 351.304 Q2246.7 351.304 2248.53 349.938 Q2250.36 348.55 2250.36 345.957 Q2250.36 343.295 2248.46 341.883 Q2246.58 340.448 2243.07 340.448 Q2241.14 340.448 2238.94 340.864 Q2236.75 341.281 2234.11 342.161 L2234.11 337.994 Q2236.77 337.253 2239.08 336.883 Q2241.42 336.513 2243.48 336.513 Q2248.81 336.513 2251.91 338.943 Q2255.01 341.35 2255.01 345.471 Q2255.01 348.341 2253.37 350.332 Q2251.72 352.3 2248.69 353.063 Z\" fill=\"#000000\" fill-rule=\"evenodd\" fill-opacity=\"1\" /></svg>\n"
      ]
     },
     "execution_count": 22,
     "metadata": {},
     "output_type": "execute_result"
    }
   ],
   "source": [
    "scatter(xx, yy, markershape=:circle, label=\"fun\")\n",
    "plot!(xx, y_app_0, label=\"k=0\")\n",
    "plot!(xx, y_app_01, label=\"k=1\")\n",
    "plot!(xx, y_app_012, label=\"k=2\")\n",
    "plot!(xx, y_app_0123, label=\"k=3\")"
   ]
  },
  {
   "cell_type": "markdown",
   "metadata": {},
   "source": [
    "Liczymy błędy aproksymacji kolejnymi stopniami"
   ]
  },
  {
   "cell_type": "code",
   "execution_count": 23,
   "metadata": {},
   "outputs": [],
   "source": [
    "using Statistics"
   ]
  },
  {
   "cell_type": "code",
   "execution_count": 24,
   "metadata": {},
   "outputs": [
    {
     "data": {
      "text/plain": [
       "mse (generic function with 1 method)"
      ]
     },
     "execution_count": 24,
     "metadata": {},
     "output_type": "execute_result"
    }
   ],
   "source": [
    "mse(y1, y2) = mean((y1-y2).^2)"
   ]
  },
  {
   "cell_type": "code",
   "execution_count": 25,
   "metadata": {},
   "outputs": [
    {
     "data": {
      "text/plain": [
       "0.12616477643907398"
      ]
     },
     "execution_count": 25,
     "metadata": {},
     "output_type": "execute_result"
    }
   ],
   "source": [
    "mse(yy, y_app_0)"
   ]
  },
  {
   "cell_type": "code",
   "execution_count": 26,
   "metadata": {},
   "outputs": [
    {
     "data": {
      "text/plain": [
       "0.11933848468830119"
      ]
     },
     "execution_count": 26,
     "metadata": {},
     "output_type": "execute_result"
    }
   ],
   "source": [
    "mse(yy, y_app_01)"
   ]
  },
  {
   "cell_type": "code",
   "execution_count": 27,
   "metadata": {},
   "outputs": [
    {
     "data": {
      "text/plain": [
       "0.04502243128435021"
      ]
     },
     "execution_count": 27,
     "metadata": {},
     "output_type": "execute_result"
    }
   ],
   "source": [
    "mse(yy, y_app_012)"
   ]
  },
  {
   "cell_type": "code",
   "execution_count": 28,
   "metadata": {},
   "outputs": [
    {
     "data": {
      "text/plain": [
       "0.04001799204279907"
      ]
     },
     "execution_count": 28,
     "metadata": {},
     "output_type": "execute_result"
    }
   ],
   "source": [
    "mse(yy, y_app_0123)"
   ]
  },
  {
   "cell_type": "markdown",
   "metadata": {},
   "source": [
    "### EKG"
   ]
  },
  {
   "cell_type": "markdown",
   "metadata": {},
   "source": [
    "Dane pochodzą z bazy https://www.physionet.org/content/mitdb/1.0.0/ .\n",
    "\n",
    "W sygnale można wyróżnić wiele struktur, z których najbardziej charakterystyczną jest zespół QRS."
   ]
  },
  {
   "cell_type": "code",
   "execution_count": 29,
   "metadata": {
    "scrolled": true
   },
   "outputs": [],
   "source": [
    "ekg_data = CSV.read(\"ecg_data.csv\", DataFrame);"
   ]
  },
  {
   "cell_type": "code",
   "execution_count": 30,
   "metadata": {},
   "outputs": [
    {
     "data": {
      "text/html": [
       "<div><div style = \"float: left;\"><span>5×3 DataFrame</span></div><div style = \"clear: both;\"></div></div><div class = \"data-frame\" style = \"overflow-x: scroll;\"><table class = \"data-frame\" style = \"margin-bottom: 6px;\"><thead><tr class = \"header\"><th class = \"rowNumber\" style = \"font-weight: bold; text-align: right;\">Row</th><th style = \"text-align: left;\">time</th><th style = \"text-align: left;\">signalN</th><th style = \"text-align: left;\">signalV</th></tr><tr class = \"subheader headerLastRow\"><th class = \"rowNumber\" style = \"font-weight: bold; text-align: right;\"></th><th title = \"Float64\" style = \"text-align: left;\">Float64</th><th title = \"Float64\" style = \"text-align: left;\">Float64</th><th title = \"Float64\" style = \"text-align: left;\">Float64</th></tr></thead><tbody><tr><td class = \"rowNumber\" style = \"font-weight: bold; text-align: right;\">1</td><td style = \"text-align: right;\">-0.1</td><td style = \"text-align: right;\">0.0183886</td><td style = \"text-align: right;\">-0.0990972</td></tr><tr><td class = \"rowNumber\" style = \"font-weight: bold; text-align: right;\">2</td><td style = \"text-align: right;\">-0.0972222</td><td style = \"text-align: right;\">0.0145191</td><td style = \"text-align: right;\">-0.0920442</td></tr><tr><td class = \"rowNumber\" style = \"font-weight: bold; text-align: right;\">3</td><td style = \"text-align: right;\">-0.0944444</td><td style = \"text-align: right;\">0.012849</td><td style = \"text-align: right;\">-0.0831644</td></tr><tr><td class = \"rowNumber\" style = \"font-weight: bold; text-align: right;\">4</td><td style = \"text-align: right;\">-0.0916667</td><td style = \"text-align: right;\">0.0124946</td><td style = \"text-align: right;\">-0.0722728</td></tr><tr><td class = \"rowNumber\" style = \"font-weight: bold; text-align: right;\">5</td><td style = \"text-align: right;\">-0.0888889</td><td style = \"text-align: right;\">0.0124117</td><td style = \"text-align: right;\">-0.0593656</td></tr></tbody></table></div>"
      ],
      "text/latex": [
       "\\begin{tabular}{r|ccc}\n",
       "\t& time & signalN & signalV\\\\\n",
       "\t\\hline\n",
       "\t& Float64 & Float64 & Float64\\\\\n",
       "\t\\hline\n",
       "\t1 & -0.1 & 0.0183886 & -0.0990972 \\\\\n",
       "\t2 & -0.0972222 & 0.0145191 & -0.0920442 \\\\\n",
       "\t3 & -0.0944444 & 0.012849 & -0.0831644 \\\\\n",
       "\t4 & -0.0916667 & 0.0124946 & -0.0722728 \\\\\n",
       "\t5 & -0.0888889 & 0.0124117 & -0.0593656 \\\\\n",
       "\\end{tabular}\n"
      ],
      "text/plain": [
       "\u001b[1m5×3 DataFrame\u001b[0m\n",
       "\u001b[1m Row \u001b[0m│\u001b[1m time       \u001b[0m\u001b[1m signalN   \u001b[0m\u001b[1m signalV    \u001b[0m\n",
       "     │\u001b[90m Float64    \u001b[0m\u001b[90m Float64   \u001b[0m\u001b[90m Float64    \u001b[0m\n",
       "─────┼───────────────────────────────────\n",
       "   1 │ -0.1        0.0183886  -0.0990972\n",
       "   2 │ -0.0972222  0.0145191  -0.0920442\n",
       "   3 │ -0.0944444  0.012849   -0.0831644\n",
       "   4 │ -0.0916667  0.0124946  -0.0722728\n",
       "   5 │ -0.0888889  0.0124117  -0.0593656"
      ]
     },
     "execution_count": 30,
     "metadata": {},
     "output_type": "execute_result"
    }
   ],
   "source": [
    "first(ekg_data, 5)"
   ]
  },
  {
   "cell_type": "code",
   "execution_count": 31,
   "metadata": {},
   "outputs": [
    {
     "data": {
      "image/svg+xml": [
       "<?xml version=\"1.0\" encoding=\"utf-8\"?>\n",
       "<svg xmlns=\"http://www.w3.org/2000/svg\" xmlns:xlink=\"http://www.w3.org/1999/xlink\" width=\"600\" height=\"400\" viewBox=\"0 0 2400 1600\">\n",
       "<defs>\n",
       "  <clipPath id=\"clip460\">\n",
       "    <rect x=\"0\" y=\"0\" width=\"2400\" height=\"1600\"/>\n",
       "  </clipPath>\n",
       "</defs>\n",
       "<path clip-path=\"url(#clip460)\" d=\"M0 1600 L2400 1600 L2400 0 L0 0  Z\" fill=\"#ffffff\" fill-rule=\"evenodd\" fill-opacity=\"1\"/>\n",
       "<defs>\n",
       "  <clipPath id=\"clip461\">\n",
       "    <rect x=\"480\" y=\"0\" width=\"1681\" height=\"1600\"/>\n",
       "  </clipPath>\n",
       "</defs>\n",
       "<path clip-path=\"url(#clip460)\" d=\"M210.746 1423.18 L2352.76 1423.18 L2352.76 47.2441 L210.746 47.2441  Z\" fill=\"#ffffff\" fill-rule=\"evenodd\" fill-opacity=\"1\"/>\n",
       "<defs>\n",
       "  <clipPath id=\"clip462\">\n",
       "    <rect x=\"210\" y=\"47\" width=\"2143\" height=\"1377\"/>\n",
       "  </clipPath>\n",
       "</defs>\n",
       "<polyline clip-path=\"url(#clip462)\" style=\"stroke:#000000; stroke-linecap:round; stroke-linejoin:round; stroke-width:2; stroke-opacity:0.1; fill:none\" points=\"271.369,1423.18 271.369,47.2441 \"/>\n",
       "<polyline clip-path=\"url(#clip462)\" style=\"stroke:#000000; stroke-linecap:round; stroke-linejoin:round; stroke-width:2; stroke-opacity:0.1; fill:none\" points=\"776.56,1423.18 776.56,47.2441 \"/>\n",
       "<polyline clip-path=\"url(#clip462)\" style=\"stroke:#000000; stroke-linecap:round; stroke-linejoin:round; stroke-width:2; stroke-opacity:0.1; fill:none\" points=\"1281.75,1423.18 1281.75,47.2441 \"/>\n",
       "<polyline clip-path=\"url(#clip462)\" style=\"stroke:#000000; stroke-linecap:round; stroke-linejoin:round; stroke-width:2; stroke-opacity:0.1; fill:none\" points=\"1786.94,1423.18 1786.94,47.2441 \"/>\n",
       "<polyline clip-path=\"url(#clip462)\" style=\"stroke:#000000; stroke-linecap:round; stroke-linejoin:round; stroke-width:2; stroke-opacity:0.1; fill:none\" points=\"2292.13,1423.18 2292.13,47.2441 \"/>\n",
       "<polyline clip-path=\"url(#clip460)\" style=\"stroke:#000000; stroke-linecap:round; stroke-linejoin:round; stroke-width:4; stroke-opacity:1; fill:none\" points=\"210.746,1423.18 2352.76,1423.18 \"/>\n",
       "<polyline clip-path=\"url(#clip460)\" style=\"stroke:#000000; stroke-linecap:round; stroke-linejoin:round; stroke-width:4; stroke-opacity:1; fill:none\" points=\"271.369,1423.18 271.369,1404.28 \"/>\n",
       "<polyline clip-path=\"url(#clip460)\" style=\"stroke:#000000; stroke-linecap:round; stroke-linejoin:round; stroke-width:4; stroke-opacity:1; fill:none\" points=\"776.56,1423.18 776.56,1404.28 \"/>\n",
       "<polyline clip-path=\"url(#clip460)\" style=\"stroke:#000000; stroke-linecap:round; stroke-linejoin:round; stroke-width:4; stroke-opacity:1; fill:none\" points=\"1281.75,1423.18 1281.75,1404.28 \"/>\n",
       "<polyline clip-path=\"url(#clip460)\" style=\"stroke:#000000; stroke-linecap:round; stroke-linejoin:round; stroke-width:4; stroke-opacity:1; fill:none\" points=\"1786.94,1423.18 1786.94,1404.28 \"/>\n",
       "<polyline clip-path=\"url(#clip460)\" style=\"stroke:#000000; stroke-linecap:round; stroke-linejoin:round; stroke-width:4; stroke-opacity:1; fill:none\" points=\"2292.13,1423.18 2292.13,1404.28 \"/>\n",
       "<path clip-path=\"url(#clip460)\" d=\"M202.816 1468.75 L232.492 1468.75 L232.492 1472.69 L202.816 1472.69 L202.816 1468.75 Z\" fill=\"#000000\" fill-rule=\"evenodd\" fill-opacity=\"1\" /><path clip-path=\"url(#clip460)\" d=\"M252.584 1454.1 Q248.973 1454.1 247.144 1457.66 Q245.339 1461.2 245.339 1468.33 Q245.339 1475.44 247.144 1479.01 Q248.973 1482.55 252.584 1482.55 Q256.218 1482.55 258.024 1479.01 Q259.853 1475.44 259.853 1468.33 Q259.853 1461.2 258.024 1457.66 Q256.218 1454.1 252.584 1454.1 M252.584 1450.39 Q258.394 1450.39 261.45 1455 Q264.529 1459.58 264.529 1468.33 Q264.529 1477.06 261.45 1481.67 Q258.394 1486.25 252.584 1486.25 Q246.774 1486.25 243.695 1481.67 Q240.64 1477.06 240.64 1468.33 Q240.64 1459.58 243.695 1455 Q246.774 1450.39 252.584 1450.39 Z\" fill=\"#000000\" fill-rule=\"evenodd\" fill-opacity=\"1\" /><path clip-path=\"url(#clip460)\" d=\"M272.746 1479.7 L277.63 1479.7 L277.63 1485.58 L272.746 1485.58 L272.746 1479.7 Z\" fill=\"#000000\" fill-rule=\"evenodd\" fill-opacity=\"1\" /><path clip-path=\"url(#clip460)\" d=\"M288.626 1481.64 L296.265 1481.64 L296.265 1455.28 L287.954 1456.95 L287.954 1452.69 L296.218 1451.02 L300.894 1451.02 L300.894 1481.64 L308.533 1481.64 L308.533 1485.58 L288.626 1485.58 L288.626 1481.64 Z\" fill=\"#000000\" fill-rule=\"evenodd\" fill-opacity=\"1\" /><path clip-path=\"url(#clip460)\" d=\"M327.977 1454.1 Q324.366 1454.1 322.538 1457.66 Q320.732 1461.2 320.732 1468.33 Q320.732 1475.44 322.538 1479.01 Q324.366 1482.55 327.977 1482.55 Q331.612 1482.55 333.417 1479.01 Q335.246 1475.44 335.246 1468.33 Q335.246 1461.2 333.417 1457.66 Q331.612 1454.1 327.977 1454.1 M327.977 1450.39 Q333.788 1450.39 336.843 1455 Q339.922 1459.58 339.922 1468.33 Q339.922 1477.06 336.843 1481.67 Q333.788 1486.25 327.977 1486.25 Q322.167 1486.25 319.089 1481.67 Q316.033 1477.06 316.033 1468.33 Q316.033 1459.58 319.089 1455 Q322.167 1450.39 327.977 1450.39 Z\" fill=\"#000000\" fill-rule=\"evenodd\" fill-opacity=\"1\" /><path clip-path=\"url(#clip460)\" d=\"M708.505 1468.75 L738.18 1468.75 L738.18 1472.69 L708.505 1472.69 L708.505 1468.75 Z\" fill=\"#000000\" fill-rule=\"evenodd\" fill-opacity=\"1\" /><path clip-path=\"url(#clip460)\" d=\"M758.273 1454.1 Q754.662 1454.1 752.833 1457.66 Q751.028 1461.2 751.028 1468.33 Q751.028 1475.44 752.833 1479.01 Q754.662 1482.55 758.273 1482.55 Q761.907 1482.55 763.713 1479.01 Q765.541 1475.44 765.541 1468.33 Q765.541 1461.2 763.713 1457.66 Q761.907 1454.1 758.273 1454.1 M758.273 1450.39 Q764.083 1450.39 767.139 1455 Q770.217 1459.58 770.217 1468.33 Q770.217 1477.06 767.139 1481.67 Q764.083 1486.25 758.273 1486.25 Q752.463 1486.25 749.384 1481.67 Q746.329 1477.06 746.329 1468.33 Q746.329 1459.58 749.384 1455 Q752.463 1450.39 758.273 1450.39 Z\" fill=\"#000000\" fill-rule=\"evenodd\" fill-opacity=\"1\" /><path clip-path=\"url(#clip460)\" d=\"M778.435 1479.7 L783.319 1479.7 L783.319 1485.58 L778.435 1485.58 L778.435 1479.7 Z\" fill=\"#000000\" fill-rule=\"evenodd\" fill-opacity=\"1\" /><path clip-path=\"url(#clip460)\" d=\"M803.504 1454.1 Q799.893 1454.1 798.064 1457.66 Q796.259 1461.2 796.259 1468.33 Q796.259 1475.44 798.064 1479.01 Q799.893 1482.55 803.504 1482.55 Q807.138 1482.55 808.944 1479.01 Q810.773 1475.44 810.773 1468.33 Q810.773 1461.2 808.944 1457.66 Q807.138 1454.1 803.504 1454.1 M803.504 1450.39 Q809.314 1450.39 812.37 1455 Q815.449 1459.58 815.449 1468.33 Q815.449 1477.06 812.37 1481.67 Q809.314 1486.25 803.504 1486.25 Q797.694 1486.25 794.615 1481.67 Q791.56 1477.06 791.56 1468.33 Q791.56 1459.58 794.615 1455 Q797.694 1450.39 803.504 1450.39 Z\" fill=\"#000000\" fill-rule=\"evenodd\" fill-opacity=\"1\" /><path clip-path=\"url(#clip460)\" d=\"M823.712 1451.02 L842.069 1451.02 L842.069 1454.96 L827.995 1454.96 L827.995 1463.43 Q829.013 1463.08 830.032 1462.92 Q831.05 1462.73 832.069 1462.73 Q837.856 1462.73 841.235 1465.9 Q844.615 1469.08 844.615 1474.49 Q844.615 1480.07 841.143 1483.17 Q837.671 1486.25 831.351 1486.25 Q829.175 1486.25 826.907 1485.88 Q824.661 1485.51 822.254 1484.77 L822.254 1480.07 Q824.337 1481.2 826.56 1481.76 Q828.782 1482.32 831.259 1482.32 Q835.263 1482.32 837.601 1480.21 Q839.939 1478.1 839.939 1474.49 Q839.939 1470.88 837.601 1468.77 Q835.263 1466.67 831.259 1466.67 Q829.384 1466.67 827.509 1467.08 Q825.657 1467.5 823.712 1468.38 L823.712 1451.02 Z\" fill=\"#000000\" fill-rule=\"evenodd\" fill-opacity=\"1\" /><path clip-path=\"url(#clip460)\" d=\"M1244.05 1454.1 Q1240.44 1454.1 1238.61 1457.66 Q1236.81 1461.2 1236.81 1468.33 Q1236.81 1475.44 1238.61 1479.01 Q1240.44 1482.55 1244.05 1482.55 Q1247.69 1482.55 1249.49 1479.01 Q1251.32 1475.44 1251.32 1468.33 Q1251.32 1461.2 1249.49 1457.66 Q1247.69 1454.1 1244.05 1454.1 M1244.05 1450.39 Q1249.86 1450.39 1252.92 1455 Q1256 1459.58 1256 1468.33 Q1256 1477.06 1252.92 1481.67 Q1249.86 1486.25 1244.05 1486.25 Q1238.24 1486.25 1235.17 1481.67 Q1232.11 1477.06 1232.11 1468.33 Q1232.11 1459.58 1235.17 1455 Q1238.24 1450.39 1244.05 1450.39 Z\" fill=\"#000000\" fill-rule=\"evenodd\" fill-opacity=\"1\" /><path clip-path=\"url(#clip460)\" d=\"M1264.22 1479.7 L1269.1 1479.7 L1269.1 1485.58 L1264.22 1485.58 L1264.22 1479.7 Z\" fill=\"#000000\" fill-rule=\"evenodd\" fill-opacity=\"1\" /><path clip-path=\"url(#clip460)\" d=\"M1289.29 1454.1 Q1285.67 1454.1 1283.85 1457.66 Q1282.04 1461.2 1282.04 1468.33 Q1282.04 1475.44 1283.85 1479.01 Q1285.67 1482.55 1289.29 1482.55 Q1292.92 1482.55 1294.73 1479.01 Q1296.55 1475.44 1296.55 1468.33 Q1296.55 1461.2 1294.73 1457.66 Q1292.92 1454.1 1289.29 1454.1 M1289.29 1450.39 Q1295.1 1450.39 1298.15 1455 Q1301.23 1459.58 1301.23 1468.33 Q1301.23 1477.06 1298.15 1481.67 Q1295.1 1486.25 1289.29 1486.25 Q1283.48 1486.25 1280.4 1481.67 Q1277.34 1477.06 1277.34 1468.33 Q1277.34 1459.58 1280.4 1455 Q1283.48 1450.39 1289.29 1450.39 Z\" fill=\"#000000\" fill-rule=\"evenodd\" fill-opacity=\"1\" /><path clip-path=\"url(#clip460)\" d=\"M1319.45 1454.1 Q1315.84 1454.1 1314.01 1457.66 Q1312.2 1461.2 1312.2 1468.33 Q1312.2 1475.44 1314.01 1479.01 Q1315.84 1482.55 1319.45 1482.55 Q1323.08 1482.55 1324.89 1479.01 Q1326.72 1475.44 1326.72 1468.33 Q1326.72 1461.2 1324.89 1457.66 Q1323.08 1454.1 1319.45 1454.1 M1319.45 1450.39 Q1325.26 1450.39 1328.31 1455 Q1331.39 1459.58 1331.39 1468.33 Q1331.39 1477.06 1328.31 1481.67 Q1325.26 1486.25 1319.45 1486.25 Q1313.64 1486.25 1310.56 1481.67 Q1307.5 1477.06 1307.5 1468.33 Q1307.5 1459.58 1310.56 1455 Q1313.64 1450.39 1319.45 1450.39 Z\" fill=\"#000000\" fill-rule=\"evenodd\" fill-opacity=\"1\" /><path clip-path=\"url(#clip460)\" d=\"M1749.74 1454.1 Q1746.13 1454.1 1744.3 1457.66 Q1742.5 1461.2 1742.5 1468.33 Q1742.5 1475.44 1744.3 1479.01 Q1746.13 1482.55 1749.74 1482.55 Q1753.38 1482.55 1755.18 1479.01 Q1757.01 1475.44 1757.01 1468.33 Q1757.01 1461.2 1755.18 1457.66 Q1753.38 1454.1 1749.74 1454.1 M1749.74 1450.39 Q1755.55 1450.39 1758.61 1455 Q1761.69 1459.58 1761.69 1468.33 Q1761.69 1477.06 1758.61 1481.67 Q1755.55 1486.25 1749.74 1486.25 Q1743.93 1486.25 1740.85 1481.67 Q1737.8 1477.06 1737.8 1468.33 Q1737.8 1459.58 1740.85 1455 Q1743.93 1450.39 1749.74 1450.39 Z\" fill=\"#000000\" fill-rule=\"evenodd\" fill-opacity=\"1\" /><path clip-path=\"url(#clip460)\" d=\"M1769.91 1479.7 L1774.79 1479.7 L1774.79 1485.58 L1769.91 1485.58 L1769.91 1479.7 Z\" fill=\"#000000\" fill-rule=\"evenodd\" fill-opacity=\"1\" /><path clip-path=\"url(#clip460)\" d=\"M1794.97 1454.1 Q1791.36 1454.1 1789.53 1457.66 Q1787.73 1461.2 1787.73 1468.33 Q1787.73 1475.44 1789.53 1479.01 Q1791.36 1482.55 1794.97 1482.55 Q1798.61 1482.55 1800.41 1479.01 Q1802.24 1475.44 1802.24 1468.33 Q1802.24 1461.2 1800.41 1457.66 Q1798.61 1454.1 1794.97 1454.1 M1794.97 1450.39 Q1800.78 1450.39 1803.84 1455 Q1806.92 1459.58 1806.92 1468.33 Q1806.92 1477.06 1803.84 1481.67 Q1800.78 1486.25 1794.97 1486.25 Q1789.16 1486.25 1786.09 1481.67 Q1783.03 1477.06 1783.03 1468.33 Q1783.03 1459.58 1786.09 1455 Q1789.16 1450.39 1794.97 1450.39 Z\" fill=\"#000000\" fill-rule=\"evenodd\" fill-opacity=\"1\" /><path clip-path=\"url(#clip460)\" d=\"M1815.18 1451.02 L1833.54 1451.02 L1833.54 1454.96 L1819.46 1454.96 L1819.46 1463.43 Q1820.48 1463.08 1821.5 1462.92 Q1822.52 1462.73 1823.54 1462.73 Q1829.33 1462.73 1832.71 1465.9 Q1836.09 1469.08 1836.09 1474.49 Q1836.09 1480.07 1832.61 1483.17 Q1829.14 1486.25 1822.82 1486.25 Q1820.65 1486.25 1818.38 1485.88 Q1816.13 1485.51 1813.72 1484.77 L1813.72 1480.07 Q1815.81 1481.2 1818.03 1481.76 Q1820.25 1482.32 1822.73 1482.32 Q1826.73 1482.32 1829.07 1480.21 Q1831.41 1478.1 1831.41 1474.49 Q1831.41 1470.88 1829.07 1468.77 Q1826.73 1466.67 1822.73 1466.67 Q1820.85 1466.67 1818.98 1467.08 Q1817.13 1467.5 1815.18 1468.38 L1815.18 1451.02 Z\" fill=\"#000000\" fill-rule=\"evenodd\" fill-opacity=\"1\" /><path clip-path=\"url(#clip460)\" d=\"M2254.44 1454.1 Q2250.83 1454.1 2249 1457.66 Q2247.19 1461.2 2247.19 1468.33 Q2247.19 1475.44 2249 1479.01 Q2250.83 1482.55 2254.44 1482.55 Q2258.07 1482.55 2259.88 1479.01 Q2261.7 1475.44 2261.7 1468.33 Q2261.7 1461.2 2259.88 1457.66 Q2258.07 1454.1 2254.44 1454.1 M2254.44 1450.39 Q2260.25 1450.39 2263.3 1455 Q2266.38 1459.58 2266.38 1468.33 Q2266.38 1477.06 2263.3 1481.67 Q2260.25 1486.25 2254.44 1486.25 Q2248.63 1486.25 2245.55 1481.67 Q2242.49 1477.06 2242.49 1468.33 Q2242.49 1459.58 2245.55 1455 Q2248.63 1450.39 2254.44 1450.39 Z\" fill=\"#000000\" fill-rule=\"evenodd\" fill-opacity=\"1\" /><path clip-path=\"url(#clip460)\" d=\"M2274.6 1479.7 L2279.48 1479.7 L2279.48 1485.58 L2274.6 1485.58 L2274.6 1479.7 Z\" fill=\"#000000\" fill-rule=\"evenodd\" fill-opacity=\"1\" /><path clip-path=\"url(#clip460)\" d=\"M2290.48 1481.64 L2298.12 1481.64 L2298.12 1455.28 L2289.81 1456.95 L2289.81 1452.69 L2298.07 1451.02 L2302.75 1451.02 L2302.75 1481.64 L2310.39 1481.64 L2310.39 1485.58 L2290.48 1485.58 L2290.48 1481.64 Z\" fill=\"#000000\" fill-rule=\"evenodd\" fill-opacity=\"1\" /><path clip-path=\"url(#clip460)\" d=\"M2329.83 1454.1 Q2326.22 1454.1 2324.39 1457.66 Q2322.58 1461.2 2322.58 1468.33 Q2322.58 1475.44 2324.39 1479.01 Q2326.22 1482.55 2329.83 1482.55 Q2333.46 1482.55 2335.27 1479.01 Q2337.1 1475.44 2337.1 1468.33 Q2337.1 1461.2 2335.27 1457.66 Q2333.46 1454.1 2329.83 1454.1 M2329.83 1450.39 Q2335.64 1450.39 2338.7 1455 Q2341.77 1459.58 2341.77 1468.33 Q2341.77 1477.06 2338.7 1481.67 Q2335.64 1486.25 2329.83 1486.25 Q2324.02 1486.25 2320.94 1481.67 Q2317.89 1477.06 2317.89 1468.33 Q2317.89 1459.58 2320.94 1455 Q2324.02 1450.39 2329.83 1450.39 Z\" fill=\"#000000\" fill-rule=\"evenodd\" fill-opacity=\"1\" /><path clip-path=\"url(#clip460)\" d=\"M1241.36 1533.76 L1241.36 1539.24 Q1238.88 1537.87 1236.36 1537.2 Q1233.88 1536.5 1231.33 1536.5 Q1225.64 1536.5 1222.49 1540.13 Q1219.34 1543.73 1219.34 1550.25 Q1219.34 1556.78 1222.49 1560.4 Q1225.64 1564 1231.33 1564 Q1233.88 1564 1236.36 1563.33 Q1238.88 1562.63 1241.36 1561.26 L1241.36 1566.68 Q1238.91 1567.82 1236.27 1568.39 Q1233.66 1568.97 1230.7 1568.97 Q1222.65 1568.97 1217.9 1563.91 Q1213.16 1558.85 1213.16 1550.25 Q1213.16 1541.53 1217.93 1536.53 Q1222.74 1531.54 1231.08 1531.54 Q1233.79 1531.54 1236.36 1532.11 Q1238.94 1532.65 1241.36 1533.76 Z\" fill=\"#000000\" fill-rule=\"evenodd\" fill-opacity=\"1\" /><path clip-path=\"url(#clip460)\" d=\"M1249 1532.4 L1276.82 1532.4 L1276.82 1537.74 L1254.79 1563.37 L1276.82 1563.37 L1276.82 1568.04 L1248.2 1568.04 L1248.2 1562.7 L1270.23 1537.07 L1249 1537.07 L1249 1532.4 Z\" fill=\"#000000\" fill-rule=\"evenodd\" fill-opacity=\"1\" /><path clip-path=\"url(#clip460)\" d=\"M1301.96 1550.12 Q1294.86 1550.12 1292.13 1551.75 Q1289.39 1553.37 1289.39 1557.29 Q1289.39 1560.4 1291.43 1562.25 Q1293.5 1564.07 1297.03 1564.07 Q1301.9 1564.07 1304.83 1560.63 Q1307.79 1557.16 1307.79 1551.43 L1307.79 1550.12 L1301.96 1550.12 M1313.64 1547.71 L1313.64 1568.04 L1307.79 1568.04 L1307.79 1562.63 Q1305.78 1565.88 1302.79 1567.44 Q1299.8 1568.97 1295.47 1568.97 Q1289.99 1568.97 1286.75 1565.91 Q1283.53 1562.82 1283.53 1557.67 Q1283.53 1551.65 1287.54 1548.6 Q1291.59 1545.54 1299.57 1545.54 L1307.79 1545.54 L1307.79 1544.97 Q1307.79 1540.93 1305.11 1538.73 Q1302.47 1536.5 1297.67 1536.5 Q1294.61 1536.5 1291.71 1537.23 Q1288.82 1537.97 1286.14 1539.43 L1286.14 1534.02 Q1289.36 1532.78 1292.38 1532.17 Q1295.41 1531.54 1298.27 1531.54 Q1306 1531.54 1309.82 1535.55 Q1313.64 1539.56 1313.64 1547.71 Z\" fill=\"#000000\" fill-rule=\"evenodd\" fill-opacity=\"1\" /><path clip-path=\"url(#clip460)\" d=\"M1348.43 1533.45 L1348.43 1538.98 Q1345.95 1537.71 1343.28 1537.07 Q1340.6 1536.44 1337.74 1536.44 Q1333.38 1536.44 1331.18 1537.77 Q1329.02 1539.11 1329.02 1541.79 Q1329.02 1543.82 1330.58 1545 Q1332.14 1546.15 1336.85 1547.2 L1338.85 1547.64 Q1345.09 1548.98 1347.7 1551.43 Q1350.34 1553.85 1350.34 1558.21 Q1350.34 1563.17 1346.39 1566.07 Q1342.48 1568.97 1335.6 1568.97 Q1332.74 1568.97 1329.62 1568.39 Q1326.53 1567.85 1323.1 1566.74 L1323.1 1560.69 Q1326.34 1562.38 1329.49 1563.24 Q1332.64 1564.07 1335.73 1564.07 Q1339.87 1564.07 1342.1 1562.66 Q1344.33 1561.23 1344.33 1558.65 Q1344.33 1556.27 1342.7 1554.99 Q1341.11 1553.72 1335.67 1552.54 L1333.63 1552.07 Q1328.19 1550.92 1325.77 1548.56 Q1323.35 1546.18 1323.35 1542.04 Q1323.35 1537.01 1326.92 1534.27 Q1330.48 1531.54 1337.04 1531.54 Q1340.28 1531.54 1343.15 1532.01 Q1346.01 1532.49 1348.43 1533.45 Z\" fill=\"#000000\" fill-rule=\"evenodd\" fill-opacity=\"1\" /><polyline clip-path=\"url(#clip462)\" style=\"stroke:#000000; stroke-linecap:round; stroke-linejoin:round; stroke-width:2; stroke-opacity:0.1; fill:none\" points=\"210.746,1326.42 2352.76,1326.42 \"/>\n",
       "<polyline clip-path=\"url(#clip462)\" style=\"stroke:#000000; stroke-linecap:round; stroke-linejoin:round; stroke-width:2; stroke-opacity:0.1; fill:none\" points=\"210.746,925.829 2352.76,925.829 \"/>\n",
       "<polyline clip-path=\"url(#clip462)\" style=\"stroke:#000000; stroke-linecap:round; stroke-linejoin:round; stroke-width:2; stroke-opacity:0.1; fill:none\" points=\"210.746,525.236 2352.76,525.236 \"/>\n",
       "<polyline clip-path=\"url(#clip462)\" style=\"stroke:#000000; stroke-linecap:round; stroke-linejoin:round; stroke-width:2; stroke-opacity:0.1; fill:none\" points=\"210.746,124.643 2352.76,124.643 \"/>\n",
       "<polyline clip-path=\"url(#clip460)\" style=\"stroke:#000000; stroke-linecap:round; stroke-linejoin:round; stroke-width:4; stroke-opacity:1; fill:none\" points=\"210.746,1423.18 210.746,47.2441 \"/>\n",
       "<polyline clip-path=\"url(#clip460)\" style=\"stroke:#000000; stroke-linecap:round; stroke-linejoin:round; stroke-width:4; stroke-opacity:1; fill:none\" points=\"210.746,1326.42 229.644,1326.42 \"/>\n",
       "<polyline clip-path=\"url(#clip460)\" style=\"stroke:#000000; stroke-linecap:round; stroke-linejoin:round; stroke-width:4; stroke-opacity:1; fill:none\" points=\"210.746,925.829 229.644,925.829 \"/>\n",
       "<polyline clip-path=\"url(#clip460)\" style=\"stroke:#000000; stroke-linecap:round; stroke-linejoin:round; stroke-width:4; stroke-opacity:1; fill:none\" points=\"210.746,525.236 229.644,525.236 \"/>\n",
       "<polyline clip-path=\"url(#clip460)\" style=\"stroke:#000000; stroke-linecap:round; stroke-linejoin:round; stroke-width:4; stroke-opacity:1; fill:none\" points=\"210.746,124.643 229.644,124.643 \"/>\n",
       "<path clip-path=\"url(#clip460)\" d=\"M114.631 1326.87 L144.306 1326.87 L144.306 1330.81 L114.631 1330.81 L114.631 1326.87 Z\" fill=\"#000000\" fill-rule=\"evenodd\" fill-opacity=\"1\" /><path clip-path=\"url(#clip460)\" d=\"M158.427 1339.77 L174.746 1339.77 L174.746 1343.7 L152.802 1343.7 L152.802 1339.77 Q155.464 1337.01 160.047 1332.38 Q164.653 1327.73 165.834 1326.39 Q168.079 1323.86 168.959 1322.13 Q169.862 1320.37 169.862 1318.68 Q169.862 1315.92 167.917 1314.19 Q165.996 1312.45 162.894 1312.45 Q160.695 1312.45 158.241 1313.22 Q155.811 1313.98 153.033 1315.53 L153.033 1310.81 Q155.857 1309.67 158.311 1309.1 Q160.765 1308.52 162.802 1308.52 Q168.172 1308.52 171.366 1311.2 Q174.561 1313.89 174.561 1318.38 Q174.561 1320.51 173.751 1322.43 Q172.964 1324.33 170.857 1326.92 Q170.278 1327.59 167.177 1330.81 Q164.075 1334 158.427 1339.77 Z\" fill=\"#000000\" fill-rule=\"evenodd\" fill-opacity=\"1\" /><path clip-path=\"url(#clip460)\" d=\"M114.26 926.28 L143.936 926.28 L143.936 930.215 L114.26 930.215 L114.26 926.28 Z\" fill=\"#000000\" fill-rule=\"evenodd\" fill-opacity=\"1\" /><path clip-path=\"url(#clip460)\" d=\"M154.839 939.173 L162.477 939.173 L162.477 912.808 L154.167 914.474 L154.167 910.215 L162.431 908.549 L167.107 908.549 L167.107 939.173 L174.746 939.173 L174.746 943.109 L154.839 943.109 L154.839 939.173 Z\" fill=\"#000000\" fill-rule=\"evenodd\" fill-opacity=\"1\" /><path clip-path=\"url(#clip460)\" d=\"M162.802 511.034 Q159.19 511.034 157.362 514.599 Q155.556 518.141 155.556 525.271 Q155.556 532.377 157.362 535.942 Q159.19 539.483 162.802 539.483 Q166.436 539.483 168.241 535.942 Q170.07 532.377 170.07 525.271 Q170.07 518.141 168.241 514.599 Q166.436 511.034 162.802 511.034 M162.802 507.331 Q168.612 507.331 171.667 511.937 Q174.746 516.521 174.746 525.271 Q174.746 533.997 171.667 538.604 Q168.612 543.187 162.802 543.187 Q156.991 543.187 153.913 538.604 Q150.857 533.997 150.857 525.271 Q150.857 516.521 153.913 511.937 Q156.991 507.331 162.802 507.331 Z\" fill=\"#000000\" fill-rule=\"evenodd\" fill-opacity=\"1\" /><path clip-path=\"url(#clip460)\" d=\"M154.839 137.988 L162.477 137.988 L162.477 111.622 L154.167 113.289 L154.167 109.03 L162.431 107.363 L167.107 107.363 L167.107 137.988 L174.746 137.988 L174.746 141.923 L154.839 141.923 L154.839 137.988 Z\" fill=\"#000000\" fill-rule=\"evenodd\" fill-opacity=\"1\" /><path clip-path=\"url(#clip460)\" d=\"M42.4881 838.114 L64.0042 838.114 L64.0042 843.97 L42.679 843.97 Q37.6183 843.97 35.1038 845.943 Q32.5894 847.917 32.5894 851.864 Q32.5894 856.606 35.6131 859.343 Q38.6368 862.081 43.8567 862.081 L64.0042 862.081 L64.0042 867.969 L28.3562 867.969 L28.3562 862.081 L33.8944 862.081 Q30.6797 859.98 29.0883 857.147 Q27.4968 854.283 27.4968 850.559 Q27.4968 844.416 31.3163 841.265 Q35.1038 838.114 42.4881 838.114 Z\" fill=\"#000000\" fill-rule=\"evenodd\" fill-opacity=\"1\" /><path clip-path=\"url(#clip460)\" d=\"M46.0847 810.232 Q46.0847 817.33 47.7079 820.067 Q49.3312 822.804 53.2461 822.804 Q56.3653 822.804 58.2114 820.767 Q60.0256 818.698 60.0256 815.165 Q60.0256 810.295 56.5881 807.367 Q53.1188 804.407 47.3897 804.407 L46.0847 804.407 L46.0847 810.232 M43.6657 798.551 L64.0042 798.551 L64.0042 804.407 L58.5933 804.407 Q61.8398 806.412 63.3994 809.404 Q64.9272 812.396 64.9272 816.725 Q64.9272 822.199 61.8716 825.446 Q58.7843 828.661 53.6281 828.661 Q47.6125 828.661 44.5569 824.65 Q41.5014 820.608 41.5014 812.619 L41.5014 804.407 L40.9285 804.407 Q36.8862 804.407 34.6901 807.081 Q32.4621 809.723 32.4621 814.529 Q32.4621 817.584 33.1941 820.481 Q33.9262 823.377 35.3903 826.051 L29.9795 826.051 Q28.7381 822.836 28.1334 819.812 Q27.4968 816.788 27.4968 813.924 Q27.4968 806.19 31.5072 802.37 Q35.5176 798.551 43.6657 798.551 Z\" fill=\"#000000\" fill-rule=\"evenodd\" fill-opacity=\"1\" /><path clip-path=\"url(#clip460)\" d=\"M58.657 780.822 L77.5631 780.822 L77.5631 786.711 L28.3562 786.711 L28.3562 780.822 L33.7671 780.822 Q30.5842 778.976 29.0564 776.175 Q27.4968 773.343 27.4968 769.428 Q27.4968 762.935 32.6531 758.892 Q37.8093 754.818 46.212 754.818 Q54.6147 754.818 59.771 758.892 Q64.9272 762.935 64.9272 769.428 Q64.9272 773.343 63.3994 776.175 Q61.8398 778.976 58.657 780.822 M46.212 760.898 Q39.7508 760.898 36.0905 763.571 Q32.3984 766.213 32.3984 770.86 Q32.3984 775.507 36.0905 778.18 Q39.7508 780.822 46.212 780.822 Q52.6732 780.822 56.3653 778.18 Q60.0256 775.507 60.0256 770.86 Q60.0256 766.213 56.3653 763.571 Q52.6732 760.898 46.212 760.898 Z\" fill=\"#000000\" fill-rule=\"evenodd\" fill-opacity=\"1\" /><path clip-path=\"url(#clip460)\" d=\"M28.3562 745.111 L28.3562 739.254 L64.0042 739.254 L64.0042 745.111 L28.3562 745.111 M14.479 745.111 L14.479 739.254 L21.895 739.254 L21.895 745.111 L14.479 745.111 Z\" fill=\"#000000\" fill-rule=\"evenodd\" fill-opacity=\"1\" /><path clip-path=\"url(#clip460)\" d=\"M44.7161 696.508 L47.5806 696.508 L47.5806 723.435 Q53.6281 723.053 56.8109 719.807 Q59.9619 716.529 59.9619 710.704 Q59.9619 707.33 59.1344 704.179 Q58.3069 700.996 56.6518 697.877 L62.1899 697.877 Q63.5267 701.028 64.227 704.338 Q64.9272 707.648 64.9272 711.054 Q64.9272 719.584 59.9619 724.581 Q54.9967 729.546 46.5303 729.546 Q37.7774 729.546 32.6531 724.836 Q27.4968 720.093 27.4968 712.073 Q27.4968 704.879 32.1438 700.71 Q36.7589 696.508 44.7161 696.508 M42.9973 702.365 Q38.1912 702.429 35.3266 705.07 Q32.4621 707.68 32.4621 712.009 Q32.4621 716.911 35.2312 719.871 Q38.0002 722.799 43.0292 723.244 L42.9973 702.365 M64.0042 707.171 L64.0042 703.383 Q65.9457 704.816 67.3462 705.516 Q68.7466 706.184 69.7333 706.184 Q71.1974 706.184 71.9295 705.325 Q72.6615 704.434 72.6615 702.715 Q72.6615 701.697 72.4069 700.71 Q72.1841 699.723 71.7067 698.736 L75.9399 698.736 Q76.2581 699.946 76.4173 701.028 Q76.5764 702.11 76.5764 703.065 Q76.5764 706.948 75.176 708.794 Q73.8073 710.609 70.8473 710.609 Q69.3195 710.609 67.6326 709.781 Q65.9775 708.922 64.0042 707.171 Z\" fill=\"#000000\" fill-rule=\"evenodd\" fill-opacity=\"1\" /><path clip-path=\"url(#clip460)\" d=\"M29.7248 661.242 L35.1993 661.242 Q33.8307 663.725 33.1623 666.24 Q32.4621 668.722 32.4621 671.268 Q32.4621 676.966 36.0905 680.117 Q39.6872 683.268 46.212 683.268 Q52.7369 683.268 56.3653 680.117 Q59.9619 676.966 59.9619 671.268 Q59.9619 668.722 59.2935 666.24 Q58.5933 663.725 57.2247 661.242 L62.6355 661.242 Q63.7814 663.693 64.3543 666.335 Q64.9272 668.945 64.9272 671.905 Q64.9272 679.958 59.8664 684.7 Q54.8057 689.443 46.212 689.443 Q37.491 689.443 32.4939 684.668 Q27.4968 679.862 27.4968 671.523 Q27.4968 668.818 28.0697 666.24 Q28.6108 663.661 29.7248 661.242 Z\" fill=\"#000000\" fill-rule=\"evenodd\" fill-opacity=\"1\" /><path clip-path=\"url(#clip460)\" d=\"M28.3562 651.057 L28.3562 645.201 L64.0042 645.201 L64.0042 651.057 L28.3562 651.057 M14.479 651.057 L14.479 645.201 L21.895 645.201 L21.895 651.057 L14.479 651.057 Z\" fill=\"#000000\" fill-rule=\"evenodd\" fill-opacity=\"1\" /><path clip-path=\"url(#clip460)\" d=\"M44.7161 602.455 L47.5806 602.455 L47.5806 629.382 Q53.6281 629 56.8109 625.754 Q59.9619 622.475 59.9619 616.651 Q59.9619 613.277 59.1344 610.126 Q58.3069 606.943 56.6518 603.824 L62.1899 603.824 Q63.5267 606.975 64.227 610.285 Q64.9272 613.595 64.9272 617.001 Q64.9272 625.531 59.9619 630.528 Q54.9967 635.493 46.5303 635.493 Q37.7774 635.493 32.6531 630.783 Q27.4968 626.04 27.4968 618.019 Q27.4968 610.826 32.1438 606.657 Q36.7589 602.455 44.7161 602.455 M42.9973 608.312 Q38.1912 608.375 35.3266 611.017 Q32.4621 613.627 32.4621 617.956 Q32.4621 622.857 35.2312 625.817 Q38.0002 628.746 43.0292 629.191 L42.9973 608.312 Z\" fill=\"#000000\" fill-rule=\"evenodd\" fill-opacity=\"1\" /><polyline clip-path=\"url(#clip462)\" style=\"stroke:#009af9; stroke-linecap:round; stroke-linejoin:round; stroke-width:4; stroke-opacity:1; fill:none\" points=\"271.369,517.869 299.435,519.42 327.501,520.089 355.567,520.231 383.634,520.264 411.7,520.602 439.766,521.578 467.832,523.373 495.898,525.953 523.964,529.025 552.031,532.037 580.097,534.22 608.163,534.699 636.229,532.667 664.295,527.611 692.361,519.545 720.428,509.202 748.494,498.117 776.56,488.531 804.626,483.084 832.692,484.314 860.758,494.021 888.825,512.622 916.891,538.65 944.957,568.548 973.023,596.894 1001.09,617.087 1029.16,622.425 1057.22,607.418 1085.29,569.072 1113.35,507.875 1141.42,428.208 1169.49,338.048 1197.55,247.934 1225.62,169.357 1253.68,112.857 1281.75,86.1857 1309.82,92.9201 1337.88,131.811 1365.95,197.006 1394.02,279.108 1422.08,366.845 1450.15,449.029 1478.21,516.381 1506.28,562.896 1534.35,586.496 1562.41,588.915 1590.48,574.897 1618.54,550.941 1646.61,523.89 1674.68,499.661 1702.74,482.36 1730.81,473.886 1758.88,474.047 1786.94,481.052 1815.01,492.232 1843.07,504.768 1871.14,516.299 1899.21,525.275 1927.27,531.07 1955.34,533.849 1983.41,534.308 2011.47,533.365 2039.54,531.897 2067.6,530.552 2095.67,529.689 2123.74,529.397 2151.8,529.577 2179.87,530.047 2207.93,530.623 2236,531.174 2264.07,531.64 2292.13,532.014 \"/>\n",
       "<polyline clip-path=\"url(#clip462)\" style=\"stroke:#e26f46; stroke-linecap:round; stroke-linejoin:round; stroke-width:4; stroke-opacity:1; fill:none\" points=\"271.369,564.933 299.435,562.108 327.501,558.551 355.567,554.188 383.634,549.017 411.7,543.173 439.766,536.984 467.832,530.995 495.898,525.938 523.964,522.625 552.031,521.77 580.097,523.765 608.163,528.465 636.229,535.031 664.295,541.92 692.361,547.045 720.428,548.137 748.494,543.245 776.56,531.321 804.626,512.736 832.692,489.629 860.758,465.938 888.825,447.074 916.891,439.238 944.957,448.475 973.023,479.62 1001.09,535.332 1029.16,615.407 1057.22,716.531 1085.29,832.534 1113.35,955.126 1141.42,1075 1169.49,1183.09 1197.55,1271.78 1225.62,1335.88 1253.68,1373.13 1281.75,1384.24 1309.82,1372.54 1337.88,1343.2 1365.95,1302.28 1394.02,1255.83 1422.08,1209.02 1450.15,1165.65 1478.21,1127.89 1506.28,1096.31 1534.35,1070.21 1562.41,1048.03 1590.48,1027.84 1618.54,1007.8 1646.61,986.47 1674.68,963.063 1702.74,937.466 1730.81,910.185 1758.88,882.167 1786.94,854.574 1815.01,828.527 1843.07,804.885 1871.14,784.084 1899.21,766.047 1927.27,750.205 1955.34,735.598 1983.41,721.056 2011.47,705.414 2039.54,687.728 2067.6,667.448 2095.67,644.518 2123.74,619.384 2151.8,592.907 2179.87,566.212 2207.93,540.487 2236,516.783 2264.07,495.853 2292.13,478.049 \"/>\n",
       "<path clip-path=\"url(#clip460)\" d=\"M1940.19 248.629 L2281.36 248.629 L2281.36 93.1086 L1940.19 93.1086  Z\" fill=\"#ffffff\" fill-rule=\"evenodd\" fill-opacity=\"1\"/>\n",
       "<polyline clip-path=\"url(#clip460)\" style=\"stroke:#000000; stroke-linecap:round; stroke-linejoin:round; stroke-width:4; stroke-opacity:1; fill:none\" points=\"1940.19,248.629 2281.36,248.629 2281.36,93.1086 1940.19,93.1086 1940.19,248.629 \"/>\n",
       "<polyline clip-path=\"url(#clip460)\" style=\"stroke:#009af9; stroke-linecap:round; stroke-linejoin:round; stroke-width:4; stroke-opacity:1; fill:none\" points=\"1963.99,144.949 2106.79,144.949 \"/>\n",
       "<path clip-path=\"url(#clip460)\" d=\"M2130.59 127.669 L2159.82 127.669 L2159.82 131.604 L2147.56 131.604 L2147.56 162.229 L2142.86 162.229 L2142.86 131.604 L2130.59 131.604 L2130.59 127.669 Z\" fill=\"#000000\" fill-rule=\"evenodd\" fill-opacity=\"1\" /><path clip-path=\"url(#clip460)\" d=\"M2167.56 164.636 Q2165.75 169.266 2164.04 170.678 Q2162.32 172.09 2159.45 172.09 L2156.05 172.09 L2156.05 168.525 L2158.55 168.525 Q2160.31 168.525 2161.28 167.692 Q2162.26 166.858 2163.44 163.756 L2164.2 161.812 L2153.71 136.303 L2158.23 136.303 L2166.33 156.581 L2174.43 136.303 L2178.94 136.303 L2167.56 164.636 Z\" fill=\"#000000\" fill-rule=\"evenodd\" fill-opacity=\"1\" /><path clip-path=\"url(#clip460)\" d=\"M2188.94 158.34 L2188.94 172.09 L2184.66 172.09 L2184.66 136.303 L2188.94 136.303 L2188.94 140.238 Q2190.29 137.923 2192.32 136.812 Q2194.38 135.678 2197.23 135.678 Q2201.95 135.678 2204.89 139.428 Q2207.86 143.178 2207.86 149.289 Q2207.86 155.4 2204.89 159.15 Q2201.95 162.9 2197.23 162.9 Q2194.38 162.9 2192.32 161.789 Q2190.29 160.655 2188.94 158.34 M2203.44 149.289 Q2203.44 144.59 2201.49 141.928 Q2199.57 139.243 2196.19 139.243 Q2192.81 139.243 2190.87 141.928 Q2188.94 144.59 2188.94 149.289 Q2188.94 153.988 2190.87 156.673 Q2192.81 159.335 2196.19 159.335 Q2199.57 159.335 2201.49 156.673 Q2203.44 153.988 2203.44 149.289 Z\" fill=\"#000000\" fill-rule=\"evenodd\" fill-opacity=\"1\" /><path clip-path=\"url(#clip460)\" d=\"M2230.17 127.669 L2236.47 127.669 L2251.79 156.581 L2251.79 127.669 L2256.33 127.669 L2256.33 162.229 L2250.03 162.229 L2234.71 133.317 L2234.71 162.229 L2230.17 162.229 L2230.17 127.669 Z\" fill=\"#000000\" fill-rule=\"evenodd\" fill-opacity=\"1\" /><polyline clip-path=\"url(#clip460)\" style=\"stroke:#e26f46; stroke-linecap:round; stroke-linejoin:round; stroke-width:4; stroke-opacity:1; fill:none\" points=\"1963.99,196.789 2106.79,196.789 \"/>\n",
       "<path clip-path=\"url(#clip460)\" d=\"M2130.59 179.509 L2159.82 179.509 L2159.82 183.444 L2147.56 183.444 L2147.56 214.069 L2142.86 214.069 L2142.86 183.444 L2130.59 183.444 L2130.59 179.509 Z\" fill=\"#000000\" fill-rule=\"evenodd\" fill-opacity=\"1\" /><path clip-path=\"url(#clip460)\" d=\"M2167.56 216.476 Q2165.75 221.106 2164.04 222.518 Q2162.32 223.93 2159.45 223.93 L2156.05 223.93 L2156.05 220.365 L2158.55 220.365 Q2160.31 220.365 2161.28 219.532 Q2162.26 218.698 2163.44 215.596 L2164.2 213.652 L2153.71 188.143 L2158.23 188.143 L2166.33 208.421 L2174.43 188.143 L2178.94 188.143 L2167.56 216.476 Z\" fill=\"#000000\" fill-rule=\"evenodd\" fill-opacity=\"1\" /><path clip-path=\"url(#clip460)\" d=\"M2188.94 210.18 L2188.94 223.93 L2184.66 223.93 L2184.66 188.143 L2188.94 188.143 L2188.94 192.078 Q2190.29 189.763 2192.32 188.652 Q2194.38 187.518 2197.23 187.518 Q2201.95 187.518 2204.89 191.268 Q2207.86 195.018 2207.86 201.129 Q2207.86 207.24 2204.89 210.99 Q2201.95 214.74 2197.23 214.74 Q2194.38 214.74 2192.32 213.629 Q2190.29 212.495 2188.94 210.18 M2203.44 201.129 Q2203.44 196.43 2201.49 193.768 Q2199.57 191.083 2196.19 191.083 Q2192.81 191.083 2190.87 193.768 Q2188.94 196.43 2188.94 201.129 Q2188.94 205.828 2190.87 208.513 Q2192.81 211.175 2196.19 211.175 Q2199.57 211.175 2201.49 208.513 Q2203.44 205.828 2203.44 201.129 Z\" fill=\"#000000\" fill-rule=\"evenodd\" fill-opacity=\"1\" /><path clip-path=\"url(#clip460)\" d=\"M2239.08 214.069 L2225.89 179.509 L2230.77 179.509 L2241.72 208.606 L2252.69 179.509 L2257.56 179.509 L2244.38 214.069 L2239.08 214.069 Z\" fill=\"#000000\" fill-rule=\"evenodd\" fill-opacity=\"1\" /></svg>\n"
      ]
     },
     "execution_count": 31,
     "metadata": {},
     "output_type": "execute_result"
    }
   ],
   "source": [
    "plot(ekg_data.time, ekg_data.signalN, label=\"Typ N\", xlabel = \"czas\", ylabel=\"napięcie\")\n",
    "plot!(ekg_data.time, ekg_data.signalV, label=\"Typ V\")"
   ]
  },
  {
   "cell_type": "markdown",
   "metadata": {},
   "source": [
    "(5.725113911598116, -0.9157906158817669, 2.711325477169205, -0.8018390195854078)"
   ]
  },
  {
   "cell_type": "markdown",
   "metadata": {},
   "source": [
    "Uwaga: Funkcje bazowe mają pewną \"szerokość\" i najlepiej aproksymują inne funkcje o podobnej szerokości. Można dodatkowo sparametryzować f. bazowe aby były węższe i lepiej pasowały do zespołów QRS. Na potrzeby laboratorium postąpimy inaczej - przeskalujemy oś X aproksymowanych sygnałów."
   ]
  },
  {
   "cell_type": "code",
   "execution_count": 32,
   "metadata": {},
   "outputs": [],
   "source": [
    "# Definicja węzłów\n",
    "xx_ekg = ekg_data.time*40\n",
    "yy_ekgV = ekg_data.signalV;"
   ]
  },
  {
   "cell_type": "markdown",
   "metadata": {},
   "source": [
    "## Zadania"
   ]
  },
  {
   "cell_type": "markdown",
   "metadata": {},
   "source": [
    "#### Zadanie 1 (1 pkt)"
   ]
  },
  {
   "cell_type": "markdown",
   "metadata": {},
   "source": [
    "Narysować 6 pierwszych wielomianów Hermita (na jednym wykresie albo siatce 2x3 lub 3x2)"
   ]
  },
  {
   "cell_type": "markdown",
   "metadata": {},
   "source": [
    "#### Zadanie 2  (1 pkt)"
   ]
  },
  {
   "cell_type": "markdown",
   "metadata": {},
   "source": [
    "Narysować 6 pierwszych funkcji bazowych"
   ]
  },
  {
   "cell_type": "markdown",
   "metadata": {},
   "source": [
    "#### Zadanie 3  (1 pkt)"
   ]
  },
  {
   "cell_type": "markdown",
   "metadata": {},
   "source": [
    "Pokazać, że same wielomiany nie są ortogonane, ale już z funkcją wagową $exp(-x^2)$ są. Uzyć metody z wektorami wartości, założyć pewien przedział."
   ]
  },
  {
   "cell_type": "markdown",
   "metadata": {},
   "source": [
    "#### Zadanie 4  (1 pkt)"
   ]
  },
  {
   "cell_type": "markdown",
   "metadata": {},
   "source": [
    "Dokonać aproksymacji zespołu QRS typu N oraz V za pomocą kilku kolejnych stopni. Przedstawić osobno wykresy dla N i V."
   ]
  },
  {
   "cell_type": "markdown",
   "metadata": {},
   "source": [
    "#### Zadanie 5  (1 pkt)"
   ]
  },
  {
   "cell_type": "markdown",
   "metadata": {},
   "source": [
    "Przedstawić wykres błędu aproksymacji w zależności od stopnia wielomianu dla stopni od 0 do 10. Jakiego stopnia należy użyć gdybyśmy mieli robić coś dalej z rezultatem aproksymacji?"
   ]
  }
 ],
 "metadata": {
  "kernelspec": {
   "display_name": "Julia 1.8.5",
   "language": "julia",
   "name": "julia-1.8"
  },
  "language_info": {
   "file_extension": ".jl",
   "mimetype": "application/julia",
   "name": "julia",
   "version": "1.8.5"
  }
 },
 "nbformat": 4,
 "nbformat_minor": 4
}
