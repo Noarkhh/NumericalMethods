{
 "cells": [
  {
   "cell_type": "markdown",
   "metadata": {},
   "source": [
    "# Zastosowanie wielomianów ortogonalnych w medycynie obliczeniowej\n"
   ]
  },
  {
   "cell_type": "markdown",
   "metadata": {},
   "source": [
    " Użycie wielomianów ortogonalnych do analizy EKG "
   ]
  },
  {
   "cell_type": "markdown",
   "metadata": {},
   "source": [
    "Instalacja wymaganych pakietów"
   ]
  },
  {
   "cell_type": "code",
   "execution_count": 1,
   "metadata": {},
   "outputs": [],
   "source": [
    "using Pkg"
   ]
  },
  {
   "cell_type": "code",
   "execution_count": 2,
   "metadata": {},
   "outputs": [],
   "source": [
    "# Pkg.add(\"Polynomials\")\n",
    "#Pkg.add(\"SpecialPolynomials\")\n",
    "# Pkg.add(\"Plots\")\n",
    "#Pkg.add(\"CSV\")\n",
    "#Pkg.add(\"DataFrames\")"
   ]
  },
  {
   "cell_type": "code",
   "execution_count": 1,
   "metadata": {},
   "outputs": [],
   "source": [
    "using Polynomials\n",
    "using SpecialPolynomials\n",
    "using Plots\n",
    "using LinearAlgebra\n",
    "using CSV\n",
    "using DataFrames"
   ]
  },
  {
   "cell_type": "markdown",
   "metadata": {},
   "source": [
    "## Teoria"
   ]
  },
  {
   "cell_type": "markdown",
   "metadata": {},
   "source": [
    "**Wielomiany ortogonalne** to rodzina wielomianów, w których iloczyn skalarny dwóch róznych wielomianów jest równa 0.\n",
    "\n",
    "Jeżeli dodatkowo iloczyn skalarny wielomianu \"przez siebie\" jest równy 1, to nazywamy je **wielomianami ortonormalnymi**\n",
    "\n",
    "Iloczyn skalarny wielomianów można zdefiniować jako:\n",
    "\n",
    "$<P_m,P_n>=\\int_a^b P_n(x)P_m(x)W(x)dx = 0$\n",
    "\n",
    "Funkcja *W* jest nazywana *funkcją wagową*."
   ]
  },
  {
   "cell_type": "markdown",
   "metadata": {},
   "source": [
    "### Przykładowe rodziny wielomianów ortogonalnych"
   ]
  },
  {
   "cell_type": "markdown",
   "metadata": {},
   "source": [
    "| Nazwa                | Przedział       | Funkcja wagowa           | Zastosowanie                                           | Parzystość                                                     |\n",
    "|----------------------|-----------------|--------------------------|--------------------------------------------------------|----------------------------------------------------------------|\n",
    "| Czebyszewa (1 rzędu) | [-1,1]          | $\\frac{1}{\\sqrt{1-x^2}}$ | Zera wielomianu jako węzły interpolacji wielomianowej  | Dla parzystego k - parzyste, dla nieparzystego k - nieparzyste |\n",
    "| Legendre             | [-1,1]          | 1                        | Zera wielomianu jako węzły kwadratur Gaussa-Legendre'a | jw                                                             |\n",
    "| Hermite              | [$-\\infty$,$\\infty$] | $\\exp(-x^2)$             | Zera wielomianu jako węzły kwadratur Gaussa-Hermite'a  | jw                                                             |\n",
    "| Laguerre             | [0,$\\infty$]      | $\\exp(-x)$               | Zera wielomianu jako węzły kwadratur Gaussa-Laguerra'a | brak                                                           |\n"
   ]
  },
  {
   "cell_type": "markdown",
   "metadata": {},
   "source": [
    "### Wielomiany Hermite'a"
   ]
  },
  {
   "cell_type": "markdown",
   "metadata": {},
   "source": [
    "Zdefiniowane są rekurencyjnie jako:\n",
    "\n",
    "$H_0(x) = 1$\n",
    "\n",
    "$H_1(x) = 2x$\n",
    "\n",
    "$H_{n+1}(x) = 2xH_n(x)-2nH_{n-1}$"
   ]
  },
  {
   "cell_type": "markdown",
   "metadata": {},
   "source": [
    "Wykres przykładowego wielomianu (tutaj 3 stopnia)"
   ]
  },
  {
   "cell_type": "code",
   "execution_count": 2,
   "metadata": {},
   "outputs": [
    {
     "data": {
      "image/svg+xml": [
       "<?xml version=\"1.0\" encoding=\"utf-8\"?>\n",
       "<svg xmlns=\"http://www.w3.org/2000/svg\" xmlns:xlink=\"http://www.w3.org/1999/xlink\" width=\"600\" height=\"400\" viewBox=\"0 0 2400 1600\">\n",
       "<defs>\n",
       "  <clipPath id=\"clip690\">\n",
       "    <rect x=\"0\" y=\"0\" width=\"2400\" height=\"1600\"/>\n",
       "  </clipPath>\n",
       "</defs>\n",
       "<path clip-path=\"url(#clip690)\" d=\"M0 1600 L2400 1600 L2400 0 L0 0  Z\" fill=\"#ffffff\" fill-rule=\"evenodd\" fill-opacity=\"1\"/>\n",
       "<defs>\n",
       "  <clipPath id=\"clip691\">\n",
       "    <rect x=\"480\" y=\"0\" width=\"1681\" height=\"1600\"/>\n",
       "  </clipPath>\n",
       "</defs>\n",
       "<path clip-path=\"url(#clip690)\" d=\"M178.867 1486.45 L2352.76 1486.45 L2352.76 47.2441 L178.867 47.2441  Z\" fill=\"#ffffff\" fill-rule=\"evenodd\" fill-opacity=\"1\"/>\n",
       "<defs>\n",
       "  <clipPath id=\"clip692\">\n",
       "    <rect x=\"178\" y=\"47\" width=\"2175\" height=\"1440\"/>\n",
       "  </clipPath>\n",
       "</defs>\n",
       "<polyline clip-path=\"url(#clip692)\" style=\"stroke:#000000; stroke-linecap:round; stroke-linejoin:round; stroke-width:2; stroke-opacity:0.1; fill:none\" points=\"240.392,1486.45 240.392,47.2441 \"/>\n",
       "<polyline clip-path=\"url(#clip692)\" style=\"stroke:#000000; stroke-linecap:round; stroke-linejoin:round; stroke-width:2; stroke-opacity:0.1; fill:none\" points=\"753.102,1486.45 753.102,47.2441 \"/>\n",
       "<polyline clip-path=\"url(#clip692)\" style=\"stroke:#000000; stroke-linecap:round; stroke-linejoin:round; stroke-width:2; stroke-opacity:0.1; fill:none\" points=\"1265.81,1486.45 1265.81,47.2441 \"/>\n",
       "<polyline clip-path=\"url(#clip692)\" style=\"stroke:#000000; stroke-linecap:round; stroke-linejoin:round; stroke-width:2; stroke-opacity:0.1; fill:none\" points=\"1778.52,1486.45 1778.52,47.2441 \"/>\n",
       "<polyline clip-path=\"url(#clip692)\" style=\"stroke:#000000; stroke-linecap:round; stroke-linejoin:round; stroke-width:2; stroke-opacity:0.1; fill:none\" points=\"2291.23,1486.45 2291.23,47.2441 \"/>\n",
       "<polyline clip-path=\"url(#clip690)\" style=\"stroke:#000000; stroke-linecap:round; stroke-linejoin:round; stroke-width:4; stroke-opacity:1; fill:none\" points=\"178.867,1486.45 2352.76,1486.45 \"/>\n",
       "<polyline clip-path=\"url(#clip690)\" style=\"stroke:#000000; stroke-linecap:round; stroke-linejoin:round; stroke-width:4; stroke-opacity:1; fill:none\" points=\"240.392,1486.45 240.392,1467.55 \"/>\n",
       "<polyline clip-path=\"url(#clip690)\" style=\"stroke:#000000; stroke-linecap:round; stroke-linejoin:round; stroke-width:4; stroke-opacity:1; fill:none\" points=\"753.102,1486.45 753.102,1467.55 \"/>\n",
       "<polyline clip-path=\"url(#clip690)\" style=\"stroke:#000000; stroke-linecap:round; stroke-linejoin:round; stroke-width:4; stroke-opacity:1; fill:none\" points=\"1265.81,1486.45 1265.81,1467.55 \"/>\n",
       "<polyline clip-path=\"url(#clip690)\" style=\"stroke:#000000; stroke-linecap:round; stroke-linejoin:round; stroke-width:4; stroke-opacity:1; fill:none\" points=\"1778.52,1486.45 1778.52,1467.55 \"/>\n",
       "<polyline clip-path=\"url(#clip690)\" style=\"stroke:#000000; stroke-linecap:round; stroke-linejoin:round; stroke-width:4; stroke-opacity:1; fill:none\" points=\"2291.23,1486.45 2291.23,1467.55 \"/>\n",
       "<path clip-path=\"url(#clip690)\" d=\"M210.334 1532.02 L240.01 1532.02 L240.01 1535.95 L210.334 1535.95 L210.334 1532.02 Z\" fill=\"#000000\" fill-rule=\"evenodd\" fill-opacity=\"1\" /><path clip-path=\"url(#clip690)\" d=\"M254.13 1544.91 L270.45 1544.91 L270.45 1548.85 L248.505 1548.85 L248.505 1544.91 Q251.167 1542.16 255.751 1537.53 Q260.357 1532.88 261.538 1531.53 Q263.783 1529.01 264.663 1527.27 Q265.565 1525.51 265.565 1523.82 Q265.565 1521.07 263.621 1519.33 Q261.7 1517.6 258.598 1517.6 Q256.399 1517.6 253.945 1518.36 Q251.514 1519.13 248.737 1520.68 L248.737 1515.95 Q251.561 1514.82 254.014 1514.24 Q256.468 1513.66 258.505 1513.66 Q263.875 1513.66 267.07 1516.35 Q270.264 1519.03 270.264 1523.52 Q270.264 1525.65 269.454 1527.57 Q268.667 1529.47 266.561 1532.07 Q265.982 1532.74 262.88 1535.95 Q259.778 1539.15 254.13 1544.91 Z\" fill=\"#000000\" fill-rule=\"evenodd\" fill-opacity=\"1\" /><path clip-path=\"url(#clip690)\" d=\"M722.859 1532.02 L752.534 1532.02 L752.534 1535.95 L722.859 1535.95 L722.859 1532.02 Z\" fill=\"#000000\" fill-rule=\"evenodd\" fill-opacity=\"1\" /><path clip-path=\"url(#clip690)\" d=\"M763.437 1544.91 L771.076 1544.91 L771.076 1518.55 L762.766 1520.21 L762.766 1515.95 L771.03 1514.29 L775.706 1514.29 L775.706 1544.91 L783.344 1544.91 L783.344 1548.85 L763.437 1548.85 L763.437 1544.91 Z\" fill=\"#000000\" fill-rule=\"evenodd\" fill-opacity=\"1\" /><path clip-path=\"url(#clip690)\" d=\"M1265.81 1517.37 Q1262.2 1517.37 1260.37 1520.93 Q1258.57 1524.47 1258.57 1531.6 Q1258.57 1538.71 1260.37 1542.27 Q1262.2 1545.82 1265.81 1545.82 Q1269.45 1545.82 1271.25 1542.27 Q1273.08 1538.71 1273.08 1531.6 Q1273.08 1524.47 1271.25 1520.93 Q1269.45 1517.37 1265.81 1517.37 M1265.81 1513.66 Q1271.62 1513.66 1274.68 1518.27 Q1277.76 1522.85 1277.76 1531.6 Q1277.76 1540.33 1274.68 1544.94 Q1271.62 1549.52 1265.81 1549.52 Q1260 1549.52 1256.92 1544.94 Q1253.87 1540.33 1253.87 1531.6 Q1253.87 1522.85 1256.92 1518.27 Q1260 1513.66 1265.81 1513.66 Z\" fill=\"#000000\" fill-rule=\"evenodd\" fill-opacity=\"1\" /><path clip-path=\"url(#clip690)\" d=\"M1768.9 1544.91 L1776.54 1544.91 L1776.54 1518.55 L1768.23 1520.21 L1768.23 1515.95 L1776.5 1514.29 L1781.17 1514.29 L1781.17 1544.91 L1788.81 1544.91 L1788.81 1548.85 L1768.9 1548.85 L1768.9 1544.91 Z\" fill=\"#000000\" fill-rule=\"evenodd\" fill-opacity=\"1\" /><path clip-path=\"url(#clip690)\" d=\"M2285.88 1544.91 L2302.2 1544.91 L2302.2 1548.85 L2280.26 1548.85 L2280.26 1544.91 Q2282.92 1542.16 2287.5 1537.53 Q2292.11 1532.88 2293.29 1531.53 Q2295.54 1529.01 2296.42 1527.27 Q2297.32 1525.51 2297.32 1523.82 Q2297.32 1521.07 2295.37 1519.33 Q2293.45 1517.6 2290.35 1517.6 Q2288.15 1517.6 2285.7 1518.36 Q2283.27 1519.13 2280.49 1520.68 L2280.49 1515.95 Q2283.31 1514.82 2285.77 1514.24 Q2288.22 1513.66 2290.26 1513.66 Q2295.63 1513.66 2298.82 1516.35 Q2302.02 1519.03 2302.02 1523.52 Q2302.02 1525.65 2301.21 1527.57 Q2300.42 1529.47 2298.31 1532.07 Q2297.74 1532.74 2294.63 1535.95 Q2291.53 1539.15 2285.88 1544.91 Z\" fill=\"#000000\" fill-rule=\"evenodd\" fill-opacity=\"1\" /><polyline clip-path=\"url(#clip692)\" style=\"stroke:#000000; stroke-linecap:round; stroke-linejoin:round; stroke-width:2; stroke-opacity:0.1; fill:none\" points=\"178.867,1445.72 2352.76,1445.72 \"/>\n",
       "<polyline clip-path=\"url(#clip692)\" style=\"stroke:#000000; stroke-linecap:round; stroke-linejoin:round; stroke-width:2; stroke-opacity:0.1; fill:none\" points=\"178.867,1106.28 2352.76,1106.28 \"/>\n",
       "<polyline clip-path=\"url(#clip692)\" style=\"stroke:#000000; stroke-linecap:round; stroke-linejoin:round; stroke-width:2; stroke-opacity:0.1; fill:none\" points=\"178.867,766.846 2352.76,766.846 \"/>\n",
       "<polyline clip-path=\"url(#clip692)\" style=\"stroke:#000000; stroke-linecap:round; stroke-linejoin:round; stroke-width:2; stroke-opacity:0.1; fill:none\" points=\"178.867,427.411 2352.76,427.411 \"/>\n",
       "<polyline clip-path=\"url(#clip692)\" style=\"stroke:#000000; stroke-linecap:round; stroke-linejoin:round; stroke-width:2; stroke-opacity:0.1; fill:none\" points=\"178.867,87.9763 2352.76,87.9763 \"/>\n",
       "<polyline clip-path=\"url(#clip690)\" style=\"stroke:#000000; stroke-linecap:round; stroke-linejoin:round; stroke-width:4; stroke-opacity:1; fill:none\" points=\"178.867,1486.45 178.867,47.2441 \"/>\n",
       "<polyline clip-path=\"url(#clip690)\" style=\"stroke:#000000; stroke-linecap:round; stroke-linejoin:round; stroke-width:4; stroke-opacity:1; fill:none\" points=\"178.867,1445.72 197.764,1445.72 \"/>\n",
       "<polyline clip-path=\"url(#clip690)\" style=\"stroke:#000000; stroke-linecap:round; stroke-linejoin:round; stroke-width:4; stroke-opacity:1; fill:none\" points=\"178.867,1106.28 197.764,1106.28 \"/>\n",
       "<polyline clip-path=\"url(#clip690)\" style=\"stroke:#000000; stroke-linecap:round; stroke-linejoin:round; stroke-width:4; stroke-opacity:1; fill:none\" points=\"178.867,766.846 197.764,766.846 \"/>\n",
       "<polyline clip-path=\"url(#clip690)\" style=\"stroke:#000000; stroke-linecap:round; stroke-linejoin:round; stroke-width:4; stroke-opacity:1; fill:none\" points=\"178.867,427.411 197.764,427.411 \"/>\n",
       "<polyline clip-path=\"url(#clip690)\" style=\"stroke:#000000; stroke-linecap:round; stroke-linejoin:round; stroke-width:4; stroke-opacity:1; fill:none\" points=\"178.867,87.9763 197.764,87.9763 \"/>\n",
       "<path clip-path=\"url(#clip690)\" d=\"M50.9921 1446.17 L80.6679 1446.17 L80.6679 1450.1 L50.9921 1450.1 L50.9921 1446.17 Z\" fill=\"#000000\" fill-rule=\"evenodd\" fill-opacity=\"1\" /><path clip-path=\"url(#clip690)\" d=\"M103.608 1432.51 L91.8021 1450.96 L103.608 1450.96 L103.608 1432.51 M102.381 1428.44 L108.26 1428.44 L108.26 1450.96 L113.191 1450.96 L113.191 1454.85 L108.26 1454.85 L108.26 1463 L103.608 1463 L103.608 1454.85 L88.0058 1454.85 L88.0058 1450.33 L102.381 1428.44 Z\" fill=\"#000000\" fill-rule=\"evenodd\" fill-opacity=\"1\" /><path clip-path=\"url(#clip690)\" d=\"M130.922 1431.51 Q127.311 1431.51 125.482 1435.08 Q123.677 1438.62 123.677 1445.75 Q123.677 1452.86 125.482 1456.42 Q127.311 1459.96 130.922 1459.96 Q134.556 1459.96 136.362 1456.42 Q138.191 1452.86 138.191 1445.75 Q138.191 1438.62 136.362 1435.08 Q134.556 1431.51 130.922 1431.51 M130.922 1427.81 Q136.732 1427.81 139.788 1432.42 Q142.867 1437 142.867 1445.75 Q142.867 1454.48 139.788 1459.08 Q136.732 1463.67 130.922 1463.67 Q125.112 1463.67 122.033 1459.08 Q118.978 1454.48 118.978 1445.75 Q118.978 1437 122.033 1432.42 Q125.112 1427.81 130.922 1427.81 Z\" fill=\"#000000\" fill-rule=\"evenodd\" fill-opacity=\"1\" /><path clip-path=\"url(#clip690)\" d=\"M50.9921 1106.73 L80.6679 1106.73 L80.6679 1110.67 L50.9921 1110.67 L50.9921 1106.73 Z\" fill=\"#000000\" fill-rule=\"evenodd\" fill-opacity=\"1\" /><path clip-path=\"url(#clip690)\" d=\"M94.7882 1119.63 L111.108 1119.63 L111.108 1123.56 L89.1632 1123.56 L89.1632 1119.63 Q91.8252 1116.87 96.4085 1112.24 Q101.015 1107.59 102.196 1106.25 Q104.441 1103.72 105.321 1101.99 Q106.223 1100.23 106.223 1098.54 Q106.223 1095.78 104.279 1094.05 Q102.358 1092.31 99.2558 1092.31 Q97.0567 1092.31 94.603 1093.07 Q92.1725 1093.84 89.3947 1095.39 L89.3947 1090.67 Q92.2188 1089.53 94.6724 1088.95 Q97.1261 1088.38 99.1632 1088.38 Q104.534 1088.38 107.728 1091.06 Q110.922 1093.75 110.922 1098.24 Q110.922 1100.37 110.112 1102.29 Q109.325 1104.19 107.219 1106.78 Q106.64 1107.45 103.538 1110.67 Q100.436 1113.86 94.7882 1119.63 Z\" fill=\"#000000\" fill-rule=\"evenodd\" fill-opacity=\"1\" /><path clip-path=\"url(#clip690)\" d=\"M130.922 1092.08 Q127.311 1092.08 125.482 1095.64 Q123.677 1099.19 123.677 1106.32 Q123.677 1113.42 125.482 1116.99 Q127.311 1120.53 130.922 1120.53 Q134.556 1120.53 136.362 1116.99 Q138.191 1113.42 138.191 1106.32 Q138.191 1099.19 136.362 1095.64 Q134.556 1092.08 130.922 1092.08 M130.922 1088.38 Q136.732 1088.38 139.788 1092.98 Q142.867 1097.57 142.867 1106.32 Q142.867 1115.04 139.788 1119.65 Q136.732 1124.23 130.922 1124.23 Q125.112 1124.23 122.033 1119.65 Q118.978 1115.04 118.978 1106.32 Q118.978 1097.57 122.033 1092.98 Q125.112 1088.38 130.922 1088.38 Z\" fill=\"#000000\" fill-rule=\"evenodd\" fill-opacity=\"1\" /><path clip-path=\"url(#clip690)\" d=\"M130.922 752.645 Q127.311 752.645 125.482 756.209 Q123.677 759.751 123.677 766.881 Q123.677 773.987 125.482 777.552 Q127.311 781.094 130.922 781.094 Q134.556 781.094 136.362 777.552 Q138.191 773.987 138.191 766.881 Q138.191 759.751 136.362 756.209 Q134.556 752.645 130.922 752.645 M130.922 748.941 Q136.732 748.941 139.788 753.547 Q142.867 758.131 142.867 766.881 Q142.867 775.608 139.788 780.214 Q136.732 784.797 130.922 784.797 Q125.112 784.797 122.033 780.214 Q118.978 775.608 118.978 766.881 Q118.978 758.131 122.033 753.547 Q125.112 748.941 130.922 748.941 Z\" fill=\"#000000\" fill-rule=\"evenodd\" fill-opacity=\"1\" /><path clip-path=\"url(#clip690)\" d=\"M94.7882 440.756 L111.108 440.756 L111.108 444.691 L89.1632 444.691 L89.1632 440.756 Q91.8252 438.001 96.4085 433.372 Q101.015 428.719 102.196 427.376 Q104.441 424.853 105.321 423.117 Q106.223 421.358 106.223 419.668 Q106.223 416.914 104.279 415.177 Q102.358 413.441 99.2558 413.441 Q97.0567 413.441 94.603 414.205 Q92.1725 414.969 89.3947 416.52 L89.3947 411.798 Q92.2188 410.664 94.6724 410.085 Q97.1261 409.506 99.1632 409.506 Q104.534 409.506 107.728 412.191 Q110.922 414.876 110.922 419.367 Q110.922 421.497 110.112 423.418 Q109.325 425.316 107.219 427.909 Q106.64 428.58 103.538 431.798 Q100.436 434.992 94.7882 440.756 Z\" fill=\"#000000\" fill-rule=\"evenodd\" fill-opacity=\"1\" /><path clip-path=\"url(#clip690)\" d=\"M130.922 413.21 Q127.311 413.21 125.482 416.775 Q123.677 420.316 123.677 427.446 Q123.677 434.552 125.482 438.117 Q127.311 441.659 130.922 441.659 Q134.556 441.659 136.362 438.117 Q138.191 434.552 138.191 427.446 Q138.191 420.316 136.362 416.775 Q134.556 413.21 130.922 413.21 M130.922 409.506 Q136.732 409.506 139.788 414.113 Q142.867 418.696 142.867 427.446 Q142.867 436.173 139.788 440.779 Q136.732 445.362 130.922 445.362 Q125.112 445.362 122.033 440.779 Q118.978 436.173 118.978 427.446 Q118.978 418.696 122.033 414.113 Q125.112 409.506 130.922 409.506 Z\" fill=\"#000000\" fill-rule=\"evenodd\" fill-opacity=\"1\" /><path clip-path=\"url(#clip690)\" d=\"M103.608 74.7703 L91.8021 93.2193 L103.608 93.2193 L103.608 74.7703 M102.381 70.6963 L108.26 70.6963 L108.26 93.2193 L113.191 93.2193 L113.191 97.1082 L108.26 97.1082 L108.26 105.256 L103.608 105.256 L103.608 97.1082 L88.0058 97.1082 L88.0058 92.5943 L102.381 70.6963 Z\" fill=\"#000000\" fill-rule=\"evenodd\" fill-opacity=\"1\" /><path clip-path=\"url(#clip690)\" d=\"M130.922 73.775 Q127.311 73.775 125.482 77.3398 Q123.677 80.8814 123.677 88.011 Q123.677 95.1174 125.482 98.6822 Q127.311 102.224 130.922 102.224 Q134.556 102.224 136.362 98.6822 Q138.191 95.1174 138.191 88.011 Q138.191 80.8814 136.362 77.3398 Q134.556 73.775 130.922 73.775 M130.922 70.0713 Q136.732 70.0713 139.788 74.6777 Q142.867 79.261 142.867 88.011 Q142.867 96.7378 139.788 101.344 Q136.732 105.928 130.922 105.928 Q125.112 105.928 122.033 101.344 Q118.978 96.7378 118.978 88.011 Q118.978 79.261 122.033 74.6777 Q125.112 70.0713 130.922 70.0713 Z\" fill=\"#000000\" fill-rule=\"evenodd\" fill-opacity=\"1\" /><polyline clip-path=\"url(#clip692)\" style=\"stroke:#009af9; stroke-linecap:round; stroke-linejoin:round; stroke-width:4; stroke-opacity:1; fill:none\" points=\"240.392,1445.72 260.9,1389.99 281.409,1336.81 301.917,1286.14 322.425,1237.91 342.934,1192.09 363.442,1148.61 383.951,1107.43 404.459,1068.49 424.967,1031.73 445.476,997.119 465.984,964.589 486.492,934.093 507.001,905.579 527.509,878.993 548.018,854.284 568.526,831.401 589.034,810.289 609.543,790.899 630.051,773.176 650.56,757.07 671.068,742.528 691.576,729.498 712.085,717.928 732.593,707.766 753.102,698.959 773.61,691.456 794.118,685.203 814.627,680.151 835.135,676.245 855.643,673.434 876.152,671.665 896.66,670.887 917.169,671.048 937.677,672.095 958.185,673.977 978.694,676.64 999.202,680.033 1019.71,684.104 1040.22,688.801 1060.73,694.071 1081.24,699.863 1101.74,706.124 1122.25,712.801 1142.76,719.844 1163.27,727.2 1183.78,734.816 1204.29,742.641 1224.79,750.623 1245.3,758.708 1265.81,766.846 1286.32,774.984 1306.83,783.069 1327.34,791.051 1347.84,798.876 1368.35,806.492 1388.86,813.848 1409.37,820.891 1429.88,827.568 1450.39,833.829 1470.9,839.621 1491.4,844.891 1511.91,849.588 1532.42,853.659 1552.93,857.052 1573.44,859.715 1593.95,861.597 1614.45,862.644 1634.96,862.804 1655.47,862.027 1675.98,860.258 1696.49,857.447 1717,853.541 1737.5,848.488 1758.01,842.236 1778.52,834.733 1799.03,825.926 1819.54,815.764 1840.05,804.194 1860.55,791.164 1881.06,776.622 1901.57,760.516 1922.08,742.793 1942.59,723.403 1963.1,702.291 1983.6,679.408 2004.11,654.699 2024.62,628.113 2045.13,599.599 2065.64,569.103 2086.15,536.573 2106.66,501.959 2127.16,465.206 2147.67,426.264 2168.18,385.08 2188.69,341.602 2209.2,295.778 2229.71,247.555 2250.21,196.882 2270.72,143.707 2291.23,87.9763 \"/>\n",
       "<path clip-path=\"url(#clip690)\" d=\"M251.33 198.898 L624.366 198.898 L624.366 95.2176 L251.33 95.2176  Z\" fill=\"#ffffff\" fill-rule=\"evenodd\" fill-opacity=\"1\"/>\n",
       "<polyline clip-path=\"url(#clip690)\" style=\"stroke:#000000; stroke-linecap:round; stroke-linejoin:round; stroke-width:4; stroke-opacity:1; fill:none\" points=\"251.33,198.898 624.366,198.898 624.366,95.2176 251.33,95.2176 251.33,198.898 \"/>\n",
       "<polyline clip-path=\"url(#clip690)\" style=\"stroke:#009af9; stroke-linecap:round; stroke-linejoin:round; stroke-width:4; stroke-opacity:1; fill:none\" points=\"275.484,147.058 420.41,147.058 \"/>\n",
       "<path clip-path=\"url(#clip690)\" d=\"M445.236 160.402 L452.874 160.402 L452.874 134.037 L444.564 135.703 L444.564 131.444 L452.828 129.778 L457.504 129.778 L457.504 160.402 L465.143 160.402 L465.143 164.338 L445.236 164.338 L445.236 160.402 Z\" fill=\"#000000\" fill-rule=\"evenodd\" fill-opacity=\"1\" /><path clip-path=\"url(#clip690)\" d=\"M474.587 144.94 L479.471 144.94 L479.471 150.819 L474.587 150.819 L474.587 144.94 Z\" fill=\"#000000\" fill-rule=\"evenodd\" fill-opacity=\"1\" /><path clip-path=\"url(#clip690)\" d=\"M489.24 129.778 L493.916 129.778 L493.916 143.944 L510.906 143.944 L510.906 129.778 L515.582 129.778 L515.582 164.338 L510.906 164.338 L510.906 147.879 L493.916 147.879 L493.916 164.338 L489.24 164.338 L489.24 129.778 Z\" fill=\"#000000\" fill-rule=\"evenodd\" fill-opacity=\"1\" /><path clip-path=\"url(#clip690)\" d=\"M532.365 153.875 Q534.494 154.291 535.652 155.564 Q536.832 156.814 536.832 158.713 Q536.832 161.583 534.633 163.134 Q532.434 164.685 528.337 164.685 Q527.017 164.685 525.559 164.43 Q524.124 164.199 522.504 163.736 L522.504 160.935 Q523.707 161.56 525.073 161.861 Q526.462 162.162 528.013 162.162 Q530.536 162.162 531.925 161.259 Q533.314 160.333 533.314 158.713 Q533.314 157 532.017 156.12 Q530.744 155.24 528.244 155.24 L526.254 155.24 L526.254 152.74 L528.43 152.74 Q530.605 152.74 531.717 152.023 Q532.851 151.282 532.851 149.893 Q532.851 148.551 531.693 147.856 Q530.536 147.139 528.337 147.139 Q527.411 147.139 526.23 147.347 Q525.05 147.555 523.175 148.088 L523.175 145.426 Q524.865 145.032 526.346 144.824 Q527.828 144.615 529.101 144.615 Q532.434 144.615 534.379 145.981 Q536.346 147.347 536.346 149.639 Q536.346 151.236 535.304 152.347 Q534.263 153.458 532.365 153.875 Z\" fill=\"#000000\" fill-rule=\"evenodd\" fill-opacity=\"1\" /><path clip-path=\"url(#clip690)\" d=\"M553.939 128.366 Q550.837 133.69 549.332 138.898 Q547.828 144.106 547.828 149.453 Q547.828 154.801 549.332 160.055 Q550.86 165.287 553.939 170.588 L550.235 170.588 Q546.763 165.148 545.027 159.893 Q543.314 154.639 543.314 149.453 Q543.314 144.291 545.027 139.06 Q546.74 133.828 550.235 128.366 L553.939 128.366 Z\" fill=\"#000000\" fill-rule=\"evenodd\" fill-opacity=\"1\" /><path clip-path=\"url(#clip690)\" d=\"M583.753 138.412 L574.378 151.027 L584.239 164.338 L579.216 164.338 L571.67 154.152 L564.124 164.338 L559.101 164.338 L569.17 150.773 L559.957 138.412 L564.98 138.412 L571.855 147.648 L578.73 138.412 L583.753 138.412 Z\" fill=\"#000000\" fill-rule=\"evenodd\" fill-opacity=\"1\" /><path clip-path=\"url(#clip690)\" d=\"M589.587 128.366 L593.29 128.366 Q596.762 133.828 598.475 139.06 Q600.212 144.291 600.212 149.453 Q600.212 154.639 598.475 159.893 Q596.762 165.148 593.29 170.588 L589.587 170.588 Q592.665 165.287 594.17 160.055 Q595.698 154.801 595.698 149.453 Q595.698 144.106 594.17 138.898 Q592.665 133.69 589.587 128.366 Z\" fill=\"#000000\" fill-rule=\"evenodd\" fill-opacity=\"1\" /></svg>\n"
      ]
     },
     "execution_count": 2,
     "metadata": {},
     "output_type": "execute_result"
    }
   ],
   "source": [
    "h3 = Hermite([0, 0, 0, 1])\n",
    "plot(h3, -2, 2)"
   ]
  },
  {
   "cell_type": "markdown",
   "metadata": {},
   "source": [
    "Żeby nie podawać wektora ze współczynnikami kolejnych stopni, można zrobić inaczej"
   ]
  },
  {
   "cell_type": "code",
   "execution_count": 3,
   "metadata": {},
   "outputs": [
    {
     "data": {
      "image/svg+xml": [
       "<?xml version=\"1.0\" encoding=\"utf-8\"?>\n",
       "<svg xmlns=\"http://www.w3.org/2000/svg\" xmlns:xlink=\"http://www.w3.org/1999/xlink\" width=\"600\" height=\"400\" viewBox=\"0 0 2400 1600\">\n",
       "<defs>\n",
       "  <clipPath id=\"clip730\">\n",
       "    <rect x=\"0\" y=\"0\" width=\"2400\" height=\"1600\"/>\n",
       "  </clipPath>\n",
       "</defs>\n",
       "<path clip-path=\"url(#clip730)\" d=\"M0 1600 L2400 1600 L2400 0 L0 0  Z\" fill=\"#ffffff\" fill-rule=\"evenodd\" fill-opacity=\"1\"/>\n",
       "<defs>\n",
       "  <clipPath id=\"clip731\">\n",
       "    <rect x=\"480\" y=\"0\" width=\"1681\" height=\"1600\"/>\n",
       "  </clipPath>\n",
       "</defs>\n",
       "<path clip-path=\"url(#clip730)\" d=\"M178.867 1486.45 L2352.76 1486.45 L2352.76 47.2441 L178.867 47.2441  Z\" fill=\"#ffffff\" fill-rule=\"evenodd\" fill-opacity=\"1\"/>\n",
       "<defs>\n",
       "  <clipPath id=\"clip732\">\n",
       "    <rect x=\"178\" y=\"47\" width=\"2175\" height=\"1440\"/>\n",
       "  </clipPath>\n",
       "</defs>\n",
       "<polyline clip-path=\"url(#clip732)\" style=\"stroke:#000000; stroke-linecap:round; stroke-linejoin:round; stroke-width:2; stroke-opacity:0.1; fill:none\" points=\"240.392,1486.45 240.392,47.2441 \"/>\n",
       "<polyline clip-path=\"url(#clip732)\" style=\"stroke:#000000; stroke-linecap:round; stroke-linejoin:round; stroke-width:2; stroke-opacity:0.1; fill:none\" points=\"753.102,1486.45 753.102,47.2441 \"/>\n",
       "<polyline clip-path=\"url(#clip732)\" style=\"stroke:#000000; stroke-linecap:round; stroke-linejoin:round; stroke-width:2; stroke-opacity:0.1; fill:none\" points=\"1265.81,1486.45 1265.81,47.2441 \"/>\n",
       "<polyline clip-path=\"url(#clip732)\" style=\"stroke:#000000; stroke-linecap:round; stroke-linejoin:round; stroke-width:2; stroke-opacity:0.1; fill:none\" points=\"1778.52,1486.45 1778.52,47.2441 \"/>\n",
       "<polyline clip-path=\"url(#clip732)\" style=\"stroke:#000000; stroke-linecap:round; stroke-linejoin:round; stroke-width:2; stroke-opacity:0.1; fill:none\" points=\"2291.23,1486.45 2291.23,47.2441 \"/>\n",
       "<polyline clip-path=\"url(#clip730)\" style=\"stroke:#000000; stroke-linecap:round; stroke-linejoin:round; stroke-width:4; stroke-opacity:1; fill:none\" points=\"178.867,1486.45 2352.76,1486.45 \"/>\n",
       "<polyline clip-path=\"url(#clip730)\" style=\"stroke:#000000; stroke-linecap:round; stroke-linejoin:round; stroke-width:4; stroke-opacity:1; fill:none\" points=\"240.392,1486.45 240.392,1467.55 \"/>\n",
       "<polyline clip-path=\"url(#clip730)\" style=\"stroke:#000000; stroke-linecap:round; stroke-linejoin:round; stroke-width:4; stroke-opacity:1; fill:none\" points=\"753.102,1486.45 753.102,1467.55 \"/>\n",
       "<polyline clip-path=\"url(#clip730)\" style=\"stroke:#000000; stroke-linecap:round; stroke-linejoin:round; stroke-width:4; stroke-opacity:1; fill:none\" points=\"1265.81,1486.45 1265.81,1467.55 \"/>\n",
       "<polyline clip-path=\"url(#clip730)\" style=\"stroke:#000000; stroke-linecap:round; stroke-linejoin:round; stroke-width:4; stroke-opacity:1; fill:none\" points=\"1778.52,1486.45 1778.52,1467.55 \"/>\n",
       "<polyline clip-path=\"url(#clip730)\" style=\"stroke:#000000; stroke-linecap:round; stroke-linejoin:round; stroke-width:4; stroke-opacity:1; fill:none\" points=\"2291.23,1486.45 2291.23,1467.55 \"/>\n",
       "<path clip-path=\"url(#clip730)\" d=\"M210.334 1532.02 L240.01 1532.02 L240.01 1535.95 L210.334 1535.95 L210.334 1532.02 Z\" fill=\"#000000\" fill-rule=\"evenodd\" fill-opacity=\"1\" /><path clip-path=\"url(#clip730)\" d=\"M254.13 1544.91 L270.45 1544.91 L270.45 1548.85 L248.505 1548.85 L248.505 1544.91 Q251.167 1542.16 255.751 1537.53 Q260.357 1532.88 261.538 1531.53 Q263.783 1529.01 264.663 1527.27 Q265.565 1525.51 265.565 1523.82 Q265.565 1521.07 263.621 1519.33 Q261.7 1517.6 258.598 1517.6 Q256.399 1517.6 253.945 1518.36 Q251.514 1519.13 248.737 1520.68 L248.737 1515.95 Q251.561 1514.82 254.014 1514.24 Q256.468 1513.66 258.505 1513.66 Q263.875 1513.66 267.07 1516.35 Q270.264 1519.03 270.264 1523.52 Q270.264 1525.65 269.454 1527.57 Q268.667 1529.47 266.561 1532.07 Q265.982 1532.74 262.88 1535.95 Q259.778 1539.15 254.13 1544.91 Z\" fill=\"#000000\" fill-rule=\"evenodd\" fill-opacity=\"1\" /><path clip-path=\"url(#clip730)\" d=\"M722.859 1532.02 L752.534 1532.02 L752.534 1535.95 L722.859 1535.95 L722.859 1532.02 Z\" fill=\"#000000\" fill-rule=\"evenodd\" fill-opacity=\"1\" /><path clip-path=\"url(#clip730)\" d=\"M763.437 1544.91 L771.076 1544.91 L771.076 1518.55 L762.766 1520.21 L762.766 1515.95 L771.03 1514.29 L775.706 1514.29 L775.706 1544.91 L783.344 1544.91 L783.344 1548.85 L763.437 1548.85 L763.437 1544.91 Z\" fill=\"#000000\" fill-rule=\"evenodd\" fill-opacity=\"1\" /><path clip-path=\"url(#clip730)\" d=\"M1265.81 1517.37 Q1262.2 1517.37 1260.37 1520.93 Q1258.57 1524.47 1258.57 1531.6 Q1258.57 1538.71 1260.37 1542.27 Q1262.2 1545.82 1265.81 1545.82 Q1269.45 1545.82 1271.25 1542.27 Q1273.08 1538.71 1273.08 1531.6 Q1273.08 1524.47 1271.25 1520.93 Q1269.45 1517.37 1265.81 1517.37 M1265.81 1513.66 Q1271.62 1513.66 1274.68 1518.27 Q1277.76 1522.85 1277.76 1531.6 Q1277.76 1540.33 1274.68 1544.94 Q1271.62 1549.52 1265.81 1549.52 Q1260 1549.52 1256.92 1544.94 Q1253.87 1540.33 1253.87 1531.6 Q1253.87 1522.85 1256.92 1518.27 Q1260 1513.66 1265.81 1513.66 Z\" fill=\"#000000\" fill-rule=\"evenodd\" fill-opacity=\"1\" /><path clip-path=\"url(#clip730)\" d=\"M1768.9 1544.91 L1776.54 1544.91 L1776.54 1518.55 L1768.23 1520.21 L1768.23 1515.95 L1776.5 1514.29 L1781.17 1514.29 L1781.17 1544.91 L1788.81 1544.91 L1788.81 1548.85 L1768.9 1548.85 L1768.9 1544.91 Z\" fill=\"#000000\" fill-rule=\"evenodd\" fill-opacity=\"1\" /><path clip-path=\"url(#clip730)\" d=\"M2285.88 1544.91 L2302.2 1544.91 L2302.2 1548.85 L2280.26 1548.85 L2280.26 1544.91 Q2282.92 1542.16 2287.5 1537.53 Q2292.11 1532.88 2293.29 1531.53 Q2295.54 1529.01 2296.42 1527.27 Q2297.32 1525.51 2297.32 1523.82 Q2297.32 1521.07 2295.37 1519.33 Q2293.45 1517.6 2290.35 1517.6 Q2288.15 1517.6 2285.7 1518.36 Q2283.27 1519.13 2280.49 1520.68 L2280.49 1515.95 Q2283.31 1514.82 2285.77 1514.24 Q2288.22 1513.66 2290.26 1513.66 Q2295.63 1513.66 2298.82 1516.35 Q2302.02 1519.03 2302.02 1523.52 Q2302.02 1525.65 2301.21 1527.57 Q2300.42 1529.47 2298.31 1532.07 Q2297.74 1532.74 2294.63 1535.95 Q2291.53 1539.15 2285.88 1544.91 Z\" fill=\"#000000\" fill-rule=\"evenodd\" fill-opacity=\"1\" /><polyline clip-path=\"url(#clip732)\" style=\"stroke:#000000; stroke-linecap:round; stroke-linejoin:round; stroke-width:2; stroke-opacity:0.1; fill:none\" points=\"178.867,1445.72 2352.76,1445.72 \"/>\n",
       "<polyline clip-path=\"url(#clip732)\" style=\"stroke:#000000; stroke-linecap:round; stroke-linejoin:round; stroke-width:2; stroke-opacity:0.1; fill:none\" points=\"178.867,1106.28 2352.76,1106.28 \"/>\n",
       "<polyline clip-path=\"url(#clip732)\" style=\"stroke:#000000; stroke-linecap:round; stroke-linejoin:round; stroke-width:2; stroke-opacity:0.1; fill:none\" points=\"178.867,766.846 2352.76,766.846 \"/>\n",
       "<polyline clip-path=\"url(#clip732)\" style=\"stroke:#000000; stroke-linecap:round; stroke-linejoin:round; stroke-width:2; stroke-opacity:0.1; fill:none\" points=\"178.867,427.411 2352.76,427.411 \"/>\n",
       "<polyline clip-path=\"url(#clip732)\" style=\"stroke:#000000; stroke-linecap:round; stroke-linejoin:round; stroke-width:2; stroke-opacity:0.1; fill:none\" points=\"178.867,87.9763 2352.76,87.9763 \"/>\n",
       "<polyline clip-path=\"url(#clip730)\" style=\"stroke:#000000; stroke-linecap:round; stroke-linejoin:round; stroke-width:4; stroke-opacity:1; fill:none\" points=\"178.867,1486.45 178.867,47.2441 \"/>\n",
       "<polyline clip-path=\"url(#clip730)\" style=\"stroke:#000000; stroke-linecap:round; stroke-linejoin:round; stroke-width:4; stroke-opacity:1; fill:none\" points=\"178.867,1445.72 197.764,1445.72 \"/>\n",
       "<polyline clip-path=\"url(#clip730)\" style=\"stroke:#000000; stroke-linecap:round; stroke-linejoin:round; stroke-width:4; stroke-opacity:1; fill:none\" points=\"178.867,1106.28 197.764,1106.28 \"/>\n",
       "<polyline clip-path=\"url(#clip730)\" style=\"stroke:#000000; stroke-linecap:round; stroke-linejoin:round; stroke-width:4; stroke-opacity:1; fill:none\" points=\"178.867,766.846 197.764,766.846 \"/>\n",
       "<polyline clip-path=\"url(#clip730)\" style=\"stroke:#000000; stroke-linecap:round; stroke-linejoin:round; stroke-width:4; stroke-opacity:1; fill:none\" points=\"178.867,427.411 197.764,427.411 \"/>\n",
       "<polyline clip-path=\"url(#clip730)\" style=\"stroke:#000000; stroke-linecap:round; stroke-linejoin:round; stroke-width:4; stroke-opacity:1; fill:none\" points=\"178.867,87.9763 197.764,87.9763 \"/>\n",
       "<path clip-path=\"url(#clip730)\" d=\"M50.9921 1446.17 L80.6679 1446.17 L80.6679 1450.1 L50.9921 1450.1 L50.9921 1446.17 Z\" fill=\"#000000\" fill-rule=\"evenodd\" fill-opacity=\"1\" /><path clip-path=\"url(#clip730)\" d=\"M103.608 1432.51 L91.8021 1450.96 L103.608 1450.96 L103.608 1432.51 M102.381 1428.44 L108.26 1428.44 L108.26 1450.96 L113.191 1450.96 L113.191 1454.85 L108.26 1454.85 L108.26 1463 L103.608 1463 L103.608 1454.85 L88.0058 1454.85 L88.0058 1450.33 L102.381 1428.44 Z\" fill=\"#000000\" fill-rule=\"evenodd\" fill-opacity=\"1\" /><path clip-path=\"url(#clip730)\" d=\"M130.922 1431.51 Q127.311 1431.51 125.482 1435.08 Q123.677 1438.62 123.677 1445.75 Q123.677 1452.86 125.482 1456.42 Q127.311 1459.96 130.922 1459.96 Q134.556 1459.96 136.362 1456.42 Q138.191 1452.86 138.191 1445.75 Q138.191 1438.62 136.362 1435.08 Q134.556 1431.51 130.922 1431.51 M130.922 1427.81 Q136.732 1427.81 139.788 1432.42 Q142.867 1437 142.867 1445.75 Q142.867 1454.48 139.788 1459.08 Q136.732 1463.67 130.922 1463.67 Q125.112 1463.67 122.033 1459.08 Q118.978 1454.48 118.978 1445.75 Q118.978 1437 122.033 1432.42 Q125.112 1427.81 130.922 1427.81 Z\" fill=\"#000000\" fill-rule=\"evenodd\" fill-opacity=\"1\" /><path clip-path=\"url(#clip730)\" d=\"M50.9921 1106.73 L80.6679 1106.73 L80.6679 1110.67 L50.9921 1110.67 L50.9921 1106.73 Z\" fill=\"#000000\" fill-rule=\"evenodd\" fill-opacity=\"1\" /><path clip-path=\"url(#clip730)\" d=\"M94.7882 1119.63 L111.108 1119.63 L111.108 1123.56 L89.1632 1123.56 L89.1632 1119.63 Q91.8252 1116.87 96.4085 1112.24 Q101.015 1107.59 102.196 1106.25 Q104.441 1103.72 105.321 1101.99 Q106.223 1100.23 106.223 1098.54 Q106.223 1095.78 104.279 1094.05 Q102.358 1092.31 99.2558 1092.31 Q97.0567 1092.31 94.603 1093.07 Q92.1725 1093.84 89.3947 1095.39 L89.3947 1090.67 Q92.2188 1089.53 94.6724 1088.95 Q97.1261 1088.38 99.1632 1088.38 Q104.534 1088.38 107.728 1091.06 Q110.922 1093.75 110.922 1098.24 Q110.922 1100.37 110.112 1102.29 Q109.325 1104.19 107.219 1106.78 Q106.64 1107.45 103.538 1110.67 Q100.436 1113.86 94.7882 1119.63 Z\" fill=\"#000000\" fill-rule=\"evenodd\" fill-opacity=\"1\" /><path clip-path=\"url(#clip730)\" d=\"M130.922 1092.08 Q127.311 1092.08 125.482 1095.64 Q123.677 1099.19 123.677 1106.32 Q123.677 1113.42 125.482 1116.99 Q127.311 1120.53 130.922 1120.53 Q134.556 1120.53 136.362 1116.99 Q138.191 1113.42 138.191 1106.32 Q138.191 1099.19 136.362 1095.64 Q134.556 1092.08 130.922 1092.08 M130.922 1088.38 Q136.732 1088.38 139.788 1092.98 Q142.867 1097.57 142.867 1106.32 Q142.867 1115.04 139.788 1119.65 Q136.732 1124.23 130.922 1124.23 Q125.112 1124.23 122.033 1119.65 Q118.978 1115.04 118.978 1106.32 Q118.978 1097.57 122.033 1092.98 Q125.112 1088.38 130.922 1088.38 Z\" fill=\"#000000\" fill-rule=\"evenodd\" fill-opacity=\"1\" /><path clip-path=\"url(#clip730)\" d=\"M130.922 752.645 Q127.311 752.645 125.482 756.209 Q123.677 759.751 123.677 766.881 Q123.677 773.987 125.482 777.552 Q127.311 781.094 130.922 781.094 Q134.556 781.094 136.362 777.552 Q138.191 773.987 138.191 766.881 Q138.191 759.751 136.362 756.209 Q134.556 752.645 130.922 752.645 M130.922 748.941 Q136.732 748.941 139.788 753.547 Q142.867 758.131 142.867 766.881 Q142.867 775.608 139.788 780.214 Q136.732 784.797 130.922 784.797 Q125.112 784.797 122.033 780.214 Q118.978 775.608 118.978 766.881 Q118.978 758.131 122.033 753.547 Q125.112 748.941 130.922 748.941 Z\" fill=\"#000000\" fill-rule=\"evenodd\" fill-opacity=\"1\" /><path clip-path=\"url(#clip730)\" d=\"M94.7882 440.756 L111.108 440.756 L111.108 444.691 L89.1632 444.691 L89.1632 440.756 Q91.8252 438.001 96.4085 433.372 Q101.015 428.719 102.196 427.376 Q104.441 424.853 105.321 423.117 Q106.223 421.358 106.223 419.668 Q106.223 416.914 104.279 415.177 Q102.358 413.441 99.2558 413.441 Q97.0567 413.441 94.603 414.205 Q92.1725 414.969 89.3947 416.52 L89.3947 411.798 Q92.2188 410.664 94.6724 410.085 Q97.1261 409.506 99.1632 409.506 Q104.534 409.506 107.728 412.191 Q110.922 414.876 110.922 419.367 Q110.922 421.497 110.112 423.418 Q109.325 425.316 107.219 427.909 Q106.64 428.58 103.538 431.798 Q100.436 434.992 94.7882 440.756 Z\" fill=\"#000000\" fill-rule=\"evenodd\" fill-opacity=\"1\" /><path clip-path=\"url(#clip730)\" d=\"M130.922 413.21 Q127.311 413.21 125.482 416.775 Q123.677 420.316 123.677 427.446 Q123.677 434.552 125.482 438.117 Q127.311 441.659 130.922 441.659 Q134.556 441.659 136.362 438.117 Q138.191 434.552 138.191 427.446 Q138.191 420.316 136.362 416.775 Q134.556 413.21 130.922 413.21 M130.922 409.506 Q136.732 409.506 139.788 414.113 Q142.867 418.696 142.867 427.446 Q142.867 436.173 139.788 440.779 Q136.732 445.362 130.922 445.362 Q125.112 445.362 122.033 440.779 Q118.978 436.173 118.978 427.446 Q118.978 418.696 122.033 414.113 Q125.112 409.506 130.922 409.506 Z\" fill=\"#000000\" fill-rule=\"evenodd\" fill-opacity=\"1\" /><path clip-path=\"url(#clip730)\" d=\"M103.608 74.7703 L91.8021 93.2193 L103.608 93.2193 L103.608 74.7703 M102.381 70.6963 L108.26 70.6963 L108.26 93.2193 L113.191 93.2193 L113.191 97.1082 L108.26 97.1082 L108.26 105.256 L103.608 105.256 L103.608 97.1082 L88.0058 97.1082 L88.0058 92.5943 L102.381 70.6963 Z\" fill=\"#000000\" fill-rule=\"evenodd\" fill-opacity=\"1\" /><path clip-path=\"url(#clip730)\" d=\"M130.922 73.775 Q127.311 73.775 125.482 77.3398 Q123.677 80.8814 123.677 88.011 Q123.677 95.1174 125.482 98.6822 Q127.311 102.224 130.922 102.224 Q134.556 102.224 136.362 98.6822 Q138.191 95.1174 138.191 88.011 Q138.191 80.8814 136.362 77.3398 Q134.556 73.775 130.922 73.775 M130.922 70.0713 Q136.732 70.0713 139.788 74.6777 Q142.867 79.261 142.867 88.011 Q142.867 96.7378 139.788 101.344 Q136.732 105.928 130.922 105.928 Q125.112 105.928 122.033 101.344 Q118.978 96.7378 118.978 88.011 Q118.978 79.261 122.033 74.6777 Q125.112 70.0713 130.922 70.0713 Z\" fill=\"#000000\" fill-rule=\"evenodd\" fill-opacity=\"1\" /><polyline clip-path=\"url(#clip732)\" style=\"stroke:#009af9; stroke-linecap:round; stroke-linejoin:round; stroke-width:4; stroke-opacity:1; fill:none\" points=\"240.392,1445.72 260.9,1389.99 281.409,1336.81 301.917,1286.14 322.425,1237.91 342.934,1192.09 363.442,1148.61 383.951,1107.43 404.459,1068.49 424.967,1031.73 445.476,997.119 465.984,964.589 486.492,934.093 507.001,905.579 527.509,878.993 548.018,854.284 568.526,831.401 589.034,810.289 609.543,790.899 630.051,773.176 650.56,757.07 671.068,742.528 691.576,729.498 712.085,717.928 732.593,707.766 753.102,698.959 773.61,691.456 794.118,685.203 814.627,680.151 835.135,676.245 855.643,673.434 876.152,671.665 896.66,670.887 917.169,671.048 937.677,672.095 958.185,673.977 978.694,676.64 999.202,680.033 1019.71,684.104 1040.22,688.801 1060.73,694.071 1081.24,699.863 1101.74,706.124 1122.25,712.801 1142.76,719.844 1163.27,727.2 1183.78,734.816 1204.29,742.641 1224.79,750.623 1245.3,758.708 1265.81,766.846 1286.32,774.984 1306.83,783.069 1327.34,791.051 1347.84,798.876 1368.35,806.492 1388.86,813.848 1409.37,820.891 1429.88,827.568 1450.39,833.829 1470.9,839.621 1491.4,844.891 1511.91,849.588 1532.42,853.659 1552.93,857.052 1573.44,859.715 1593.95,861.597 1614.45,862.644 1634.96,862.804 1655.47,862.027 1675.98,860.258 1696.49,857.447 1717,853.541 1737.5,848.488 1758.01,842.236 1778.52,834.733 1799.03,825.926 1819.54,815.764 1840.05,804.194 1860.55,791.164 1881.06,776.622 1901.57,760.516 1922.08,742.793 1942.59,723.403 1963.1,702.291 1983.6,679.408 2004.11,654.699 2024.62,628.113 2045.13,599.599 2065.64,569.103 2086.15,536.573 2106.66,501.959 2127.16,465.206 2147.67,426.264 2168.18,385.08 2188.69,341.602 2209.2,295.778 2229.71,247.555 2250.21,196.882 2270.72,143.707 2291.23,87.9763 \"/>\n",
       "<path clip-path=\"url(#clip730)\" d=\"M251.33 198.898 L669.597 198.898 L669.597 95.2176 L251.33 95.2176  Z\" fill=\"#ffffff\" fill-rule=\"evenodd\" fill-opacity=\"1\"/>\n",
       "<polyline clip-path=\"url(#clip730)\" style=\"stroke:#000000; stroke-linecap:round; stroke-linejoin:round; stroke-width:4; stroke-opacity:1; fill:none\" points=\"251.33,198.898 669.597,198.898 669.597,95.2176 251.33,95.2176 251.33,198.898 \"/>\n",
       "<polyline clip-path=\"url(#clip730)\" style=\"stroke:#009af9; stroke-linecap:round; stroke-linejoin:round; stroke-width:4; stroke-opacity:1; fill:none\" points=\"275.484,147.058 420.41,147.058 \"/>\n",
       "<path clip-path=\"url(#clip730)\" d=\"M445.236 160.402 L452.874 160.402 L452.874 134.037 L444.564 135.703 L444.564 131.444 L452.828 129.778 L457.504 129.778 L457.504 160.402 L465.143 160.402 L465.143 164.338 L445.236 164.338 L445.236 160.402 Z\" fill=\"#000000\" fill-rule=\"evenodd\" fill-opacity=\"1\" /><path clip-path=\"url(#clip730)\" d=\"M474.587 158.458 L479.471 158.458 L479.471 164.338 L474.587 164.338 L474.587 158.458 Z\" fill=\"#000000\" fill-rule=\"evenodd\" fill-opacity=\"1\" /><path clip-path=\"url(#clip730)\" d=\"M499.657 132.856 Q496.045 132.856 494.217 136.421 Q492.411 139.963 492.411 147.092 Q492.411 154.199 494.217 157.764 Q496.045 161.305 499.657 161.305 Q503.291 161.305 505.096 157.764 Q506.925 154.199 506.925 147.092 Q506.925 139.963 505.096 136.421 Q503.291 132.856 499.657 132.856 M499.657 129.153 Q505.467 129.153 508.522 133.759 Q511.601 138.342 511.601 147.092 Q511.601 155.819 508.522 160.426 Q505.467 165.009 499.657 165.009 Q493.846 165.009 490.768 160.426 Q487.712 155.819 487.712 147.092 Q487.712 138.342 490.768 133.759 Q493.846 129.153 499.657 129.153 Z\" fill=\"#000000\" fill-rule=\"evenodd\" fill-opacity=\"1\" /><path clip-path=\"url(#clip730)\" d=\"M519.818 144.94 L524.703 144.94 L524.703 150.819 L519.818 150.819 L519.818 144.94 Z\" fill=\"#000000\" fill-rule=\"evenodd\" fill-opacity=\"1\" /><path clip-path=\"url(#clip730)\" d=\"M534.471 129.778 L539.147 129.778 L539.147 143.944 L556.138 143.944 L556.138 129.778 L560.814 129.778 L560.814 164.338 L556.138 164.338 L556.138 147.879 L539.147 147.879 L539.147 164.338 L534.471 164.338 L534.471 129.778 Z\" fill=\"#000000\" fill-rule=\"evenodd\" fill-opacity=\"1\" /><path clip-path=\"url(#clip730)\" d=\"M577.596 153.875 Q579.726 154.291 580.883 155.564 Q582.063 156.814 582.063 158.713 Q582.063 161.583 579.864 163.134 Q577.665 164.685 573.568 164.685 Q572.249 164.685 570.79 164.43 Q569.355 164.199 567.735 163.736 L567.735 160.935 Q568.939 161.56 570.304 161.861 Q571.693 162.162 573.244 162.162 Q575.767 162.162 577.156 161.259 Q578.545 160.333 578.545 158.713 Q578.545 157 577.249 156.12 Q575.976 155.24 573.476 155.24 L571.485 155.24 L571.485 152.74 L573.661 152.74 Q575.837 152.74 576.948 152.023 Q578.082 151.282 578.082 149.893 Q578.082 148.551 576.925 147.856 Q575.767 147.139 573.568 147.139 Q572.642 147.139 571.462 147.347 Q570.281 147.555 568.406 148.088 L568.406 145.426 Q570.096 145.032 571.577 144.824 Q573.059 144.615 574.332 144.615 Q577.665 144.615 579.61 145.981 Q581.577 147.347 581.577 149.639 Q581.577 151.236 580.536 152.347 Q579.494 153.458 577.596 153.875 Z\" fill=\"#000000\" fill-rule=\"evenodd\" fill-opacity=\"1\" /><path clip-path=\"url(#clip730)\" d=\"M599.17 128.366 Q596.068 133.69 594.563 138.898 Q593.059 144.106 593.059 149.453 Q593.059 154.801 594.563 160.055 Q596.091 165.287 599.17 170.588 L595.466 170.588 Q591.994 165.148 590.258 159.893 Q588.545 154.639 588.545 149.453 Q588.545 144.291 590.258 139.06 Q591.971 133.828 595.466 128.366 L599.17 128.366 Z\" fill=\"#000000\" fill-rule=\"evenodd\" fill-opacity=\"1\" /><path clip-path=\"url(#clip730)\" d=\"M628.985 138.412 L619.61 151.027 L629.471 164.338 L624.448 164.338 L616.901 154.152 L609.355 164.338 L604.332 164.338 L614.401 150.773 L605.188 138.412 L610.211 138.412 L617.086 147.648 L623.961 138.412 L628.985 138.412 Z\" fill=\"#000000\" fill-rule=\"evenodd\" fill-opacity=\"1\" /><path clip-path=\"url(#clip730)\" d=\"M634.818 128.366 L638.522 128.366 Q641.994 133.828 643.707 139.06 Q645.443 144.291 645.443 149.453 Q645.443 154.639 643.707 159.893 Q641.994 165.148 638.522 170.588 L634.818 170.588 Q637.897 165.287 639.401 160.055 Q640.929 154.801 640.929 149.453 Q640.929 144.106 639.401 138.898 Q637.897 133.69 634.818 128.366 Z\" fill=\"#000000\" fill-rule=\"evenodd\" fill-opacity=\"1\" /></svg>\n"
      ]
     },
     "execution_count": 3,
     "metadata": {},
     "output_type": "execute_result"
    }
   ],
   "source": [
    "h4 = basis(Hermite, 3)\n",
    "plot(h4, -2, 2)"
   ]
  },
  {
   "cell_type": "markdown",
   "metadata": {},
   "source": [
    "### Przykład aproksymacji"
   ]
  },
  {
   "cell_type": "markdown",
   "metadata": {},
   "source": [
    "Spróbujemy dokonać aproksymacji zaszumionej funkcji `cos` wykorzystując rodzinę wielomianów ortogonalnych Hermite'a."
   ]
  },
  {
   "cell_type": "code",
   "execution_count": 4,
   "metadata": {
    "scrolled": true
   },
   "outputs": [],
   "source": [
    "# Definicja węzłów\n",
    "xx = -5:0.1:5\n",
    "yy = cos.(xx/3 .+.2).^2 .+ rand(length(xx))/5;"
   ]
  },
  {
   "cell_type": "code",
   "execution_count": 5,
   "metadata": {
    "scrolled": false
   },
   "outputs": [
    {
     "data": {
      "image/svg+xml": [
       "<?xml version=\"1.0\" encoding=\"utf-8\"?>\n",
       "<svg xmlns=\"http://www.w3.org/2000/svg\" xmlns:xlink=\"http://www.w3.org/1999/xlink\" width=\"600\" height=\"400\" viewBox=\"0 0 2400 1600\">\n",
       "<defs>\n",
       "  <clipPath id=\"clip770\">\n",
       "    <rect x=\"0\" y=\"0\" width=\"2400\" height=\"1600\"/>\n",
       "  </clipPath>\n",
       "</defs>\n",
       "<path clip-path=\"url(#clip770)\" d=\"M0 1600 L2400 1600 L2400 0 L0 0  Z\" fill=\"#ffffff\" fill-rule=\"evenodd\" fill-opacity=\"1\"/>\n",
       "<defs>\n",
       "  <clipPath id=\"clip771\">\n",
       "    <rect x=\"480\" y=\"0\" width=\"1681\" height=\"1600\"/>\n",
       "  </clipPath>\n",
       "</defs>\n",
       "<path clip-path=\"url(#clip770)\" d=\"M186.274 1486.45 L2352.76 1486.45 L2352.76 47.2441 L186.274 47.2441  Z\" fill=\"#ffffff\" fill-rule=\"evenodd\" fill-opacity=\"1\"/>\n",
       "<defs>\n",
       "  <clipPath id=\"clip772\">\n",
       "    <rect x=\"186\" y=\"47\" width=\"2167\" height=\"1440\"/>\n",
       "  </clipPath>\n",
       "</defs>\n",
       "<polyline clip-path=\"url(#clip772)\" style=\"stroke:#000000; stroke-linecap:round; stroke-linejoin:round; stroke-width:2; stroke-opacity:0.1; fill:none\" points=\"451.975,1486.45 451.975,47.2441 \"/>\n",
       "<polyline clip-path=\"url(#clip772)\" style=\"stroke:#000000; stroke-linecap:round; stroke-linejoin:round; stroke-width:2; stroke-opacity:0.1; fill:none\" points=\"860.745,1486.45 860.745,47.2441 \"/>\n",
       "<polyline clip-path=\"url(#clip772)\" style=\"stroke:#000000; stroke-linecap:round; stroke-linejoin:round; stroke-width:2; stroke-opacity:0.1; fill:none\" points=\"1269.51,1486.45 1269.51,47.2441 \"/>\n",
       "<polyline clip-path=\"url(#clip772)\" style=\"stroke:#000000; stroke-linecap:round; stroke-linejoin:round; stroke-width:2; stroke-opacity:0.1; fill:none\" points=\"1678.29,1486.45 1678.29,47.2441 \"/>\n",
       "<polyline clip-path=\"url(#clip772)\" style=\"stroke:#000000; stroke-linecap:round; stroke-linejoin:round; stroke-width:2; stroke-opacity:0.1; fill:none\" points=\"2087.06,1486.45 2087.06,47.2441 \"/>\n",
       "<polyline clip-path=\"url(#clip770)\" style=\"stroke:#000000; stroke-linecap:round; stroke-linejoin:round; stroke-width:4; stroke-opacity:1; fill:none\" points=\"186.274,1486.45 2352.76,1486.45 \"/>\n",
       "<polyline clip-path=\"url(#clip770)\" style=\"stroke:#000000; stroke-linecap:round; stroke-linejoin:round; stroke-width:4; stroke-opacity:1; fill:none\" points=\"451.975,1486.45 451.975,1467.55 \"/>\n",
       "<polyline clip-path=\"url(#clip770)\" style=\"stroke:#000000; stroke-linecap:round; stroke-linejoin:round; stroke-width:4; stroke-opacity:1; fill:none\" points=\"860.745,1486.45 860.745,1467.55 \"/>\n",
       "<polyline clip-path=\"url(#clip770)\" style=\"stroke:#000000; stroke-linecap:round; stroke-linejoin:round; stroke-width:4; stroke-opacity:1; fill:none\" points=\"1269.51,1486.45 1269.51,1467.55 \"/>\n",
       "<polyline clip-path=\"url(#clip770)\" style=\"stroke:#000000; stroke-linecap:round; stroke-linejoin:round; stroke-width:4; stroke-opacity:1; fill:none\" points=\"1678.29,1486.45 1678.29,1467.55 \"/>\n",
       "<polyline clip-path=\"url(#clip770)\" style=\"stroke:#000000; stroke-linecap:round; stroke-linejoin:round; stroke-width:4; stroke-opacity:1; fill:none\" points=\"2087.06,1486.45 2087.06,1467.55 \"/>\n",
       "<path clip-path=\"url(#clip770)\" d=\"M420.875 1532.02 L450.551 1532.02 L450.551 1535.95 L420.875 1535.95 L420.875 1532.02 Z\" fill=\"#000000\" fill-rule=\"evenodd\" fill-opacity=\"1\" /><path clip-path=\"url(#clip770)\" d=\"M473.491 1518.36 L461.685 1536.81 L473.491 1536.81 L473.491 1518.36 M472.264 1514.29 L478.143 1514.29 L478.143 1536.81 L483.074 1536.81 L483.074 1540.7 L478.143 1540.7 L478.143 1548.85 L473.491 1548.85 L473.491 1540.7 L457.889 1540.7 L457.889 1536.19 L472.264 1514.29 Z\" fill=\"#000000\" fill-rule=\"evenodd\" fill-opacity=\"1\" /><path clip-path=\"url(#clip770)\" d=\"M830.687 1532.02 L860.363 1532.02 L860.363 1535.95 L830.687 1535.95 L830.687 1532.02 Z\" fill=\"#000000\" fill-rule=\"evenodd\" fill-opacity=\"1\" /><path clip-path=\"url(#clip770)\" d=\"M874.483 1544.91 L890.802 1544.91 L890.802 1548.85 L868.858 1548.85 L868.858 1544.91 Q871.52 1542.16 876.103 1537.53 Q880.71 1532.88 881.891 1531.53 Q884.136 1529.01 885.015 1527.27 Q885.918 1525.51 885.918 1523.82 Q885.918 1521.07 883.974 1519.33 Q882.053 1517.6 878.951 1517.6 Q876.752 1517.6 874.298 1518.36 Q871.867 1519.13 869.09 1520.68 L869.09 1515.95 Q871.914 1514.82 874.367 1514.24 Q876.821 1513.66 878.858 1513.66 Q884.228 1513.66 887.423 1516.35 Q890.617 1519.03 890.617 1523.52 Q890.617 1525.65 889.807 1527.57 Q889.02 1529.47 886.914 1532.07 Q886.335 1532.74 883.233 1535.95 Q880.131 1539.15 874.483 1544.91 Z\" fill=\"#000000\" fill-rule=\"evenodd\" fill-opacity=\"1\" /><path clip-path=\"url(#clip770)\" d=\"M1269.51 1517.37 Q1265.9 1517.37 1264.08 1520.93 Q1262.27 1524.47 1262.27 1531.6 Q1262.27 1538.71 1264.08 1542.27 Q1265.9 1545.82 1269.51 1545.82 Q1273.15 1545.82 1274.95 1542.27 Q1276.78 1538.71 1276.78 1531.6 Q1276.78 1524.47 1274.95 1520.93 Q1273.15 1517.37 1269.51 1517.37 M1269.51 1513.66 Q1275.33 1513.66 1278.38 1518.27 Q1281.46 1522.85 1281.46 1531.6 Q1281.46 1540.33 1278.38 1544.94 Q1275.33 1549.52 1269.51 1549.52 Q1263.7 1549.52 1260.63 1544.94 Q1257.57 1540.33 1257.57 1531.6 Q1257.57 1522.85 1260.63 1518.27 Q1263.7 1513.66 1269.51 1513.66 Z\" fill=\"#000000\" fill-rule=\"evenodd\" fill-opacity=\"1\" /><path clip-path=\"url(#clip770)\" d=\"M1672.94 1544.91 L1689.26 1544.91 L1689.26 1548.85 L1667.31 1548.85 L1667.31 1544.91 Q1669.97 1542.16 1674.56 1537.53 Q1679.16 1532.88 1680.35 1531.53 Q1682.59 1529.01 1683.47 1527.27 Q1684.37 1525.51 1684.37 1523.82 Q1684.37 1521.07 1682.43 1519.33 Q1680.51 1517.6 1677.41 1517.6 Q1675.21 1517.6 1672.75 1518.36 Q1670.32 1519.13 1667.54 1520.68 L1667.54 1515.95 Q1670.37 1514.82 1672.82 1514.24 Q1675.28 1513.66 1677.31 1513.66 Q1682.68 1513.66 1685.88 1516.35 Q1689.07 1519.03 1689.07 1523.52 Q1689.07 1525.65 1688.26 1527.57 Q1687.47 1529.47 1685.37 1532.07 Q1684.79 1532.74 1681.69 1535.95 Q1678.59 1539.15 1672.94 1544.91 Z\" fill=\"#000000\" fill-rule=\"evenodd\" fill-opacity=\"1\" /><path clip-path=\"url(#clip770)\" d=\"M2090.06 1518.36 L2078.26 1536.81 L2090.06 1536.81 L2090.06 1518.36 M2088.84 1514.29 L2094.72 1514.29 L2094.72 1536.81 L2099.65 1536.81 L2099.65 1540.7 L2094.72 1540.7 L2094.72 1548.85 L2090.06 1548.85 L2090.06 1540.7 L2074.46 1540.7 L2074.46 1536.19 L2088.84 1514.29 Z\" fill=\"#000000\" fill-rule=\"evenodd\" fill-opacity=\"1\" /><polyline clip-path=\"url(#clip772)\" style=\"stroke:#000000; stroke-linecap:round; stroke-linejoin:round; stroke-width:2; stroke-opacity:0.1; fill:none\" points=\"186.274,1473.24 2352.76,1473.24 \"/>\n",
       "<polyline clip-path=\"url(#clip772)\" style=\"stroke:#000000; stroke-linecap:round; stroke-linejoin:round; stroke-width:2; stroke-opacity:0.1; fill:none\" points=\"186.274,1180.51 2352.76,1180.51 \"/>\n",
       "<polyline clip-path=\"url(#clip772)\" style=\"stroke:#000000; stroke-linecap:round; stroke-linejoin:round; stroke-width:2; stroke-opacity:0.1; fill:none\" points=\"186.274,887.788 2352.76,887.788 \"/>\n",
       "<polyline clip-path=\"url(#clip772)\" style=\"stroke:#000000; stroke-linecap:round; stroke-linejoin:round; stroke-width:2; stroke-opacity:0.1; fill:none\" points=\"186.274,595.063 2352.76,595.063 \"/>\n",
       "<polyline clip-path=\"url(#clip772)\" style=\"stroke:#000000; stroke-linecap:round; stroke-linejoin:round; stroke-width:2; stroke-opacity:0.1; fill:none\" points=\"186.274,302.338 2352.76,302.338 \"/>\n",
       "<polyline clip-path=\"url(#clip770)\" style=\"stroke:#000000; stroke-linecap:round; stroke-linejoin:round; stroke-width:4; stroke-opacity:1; fill:none\" points=\"186.274,1486.45 186.274,47.2441 \"/>\n",
       "<polyline clip-path=\"url(#clip770)\" style=\"stroke:#000000; stroke-linecap:round; stroke-linejoin:round; stroke-width:4; stroke-opacity:1; fill:none\" points=\"186.274,1473.24 205.172,1473.24 \"/>\n",
       "<polyline clip-path=\"url(#clip770)\" style=\"stroke:#000000; stroke-linecap:round; stroke-linejoin:round; stroke-width:4; stroke-opacity:1; fill:none\" points=\"186.274,1180.51 205.172,1180.51 \"/>\n",
       "<polyline clip-path=\"url(#clip770)\" style=\"stroke:#000000; stroke-linecap:round; stroke-linejoin:round; stroke-width:4; stroke-opacity:1; fill:none\" points=\"186.274,887.788 205.172,887.788 \"/>\n",
       "<polyline clip-path=\"url(#clip770)\" style=\"stroke:#000000; stroke-linecap:round; stroke-linejoin:round; stroke-width:4; stroke-opacity:1; fill:none\" points=\"186.274,595.063 205.172,595.063 \"/>\n",
       "<polyline clip-path=\"url(#clip770)\" style=\"stroke:#000000; stroke-linecap:round; stroke-linejoin:round; stroke-width:4; stroke-opacity:1; fill:none\" points=\"186.274,302.338 205.172,302.338 \"/>\n",
       "<path clip-path=\"url(#clip770)\" d=\"M62.9365 1459.04 Q59.3254 1459.04 57.4967 1462.6 Q55.6912 1466.14 55.6912 1473.27 Q55.6912 1480.38 57.4967 1483.94 Q59.3254 1487.48 62.9365 1487.48 Q66.5707 1487.48 68.3763 1483.94 Q70.205 1480.38 70.205 1473.27 Q70.205 1466.14 68.3763 1462.6 Q66.5707 1459.04 62.9365 1459.04 M62.9365 1455.33 Q68.7467 1455.33 71.8022 1459.94 Q74.8809 1464.52 74.8809 1473.27 Q74.8809 1482 71.8022 1486.61 Q68.7467 1491.19 62.9365 1491.19 Q57.1264 1491.19 54.0477 1486.61 Q50.9921 1482 50.9921 1473.27 Q50.9921 1464.52 54.0477 1459.94 Q57.1264 1455.33 62.9365 1455.33 Z\" fill=\"#000000\" fill-rule=\"evenodd\" fill-opacity=\"1\" /><path clip-path=\"url(#clip770)\" d=\"M83.0984 1484.64 L87.9827 1484.64 L87.9827 1490.52 L83.0984 1490.52 L83.0984 1484.64 Z\" fill=\"#000000\" fill-rule=\"evenodd\" fill-opacity=\"1\" /><path clip-path=\"url(#clip770)\" d=\"M108.168 1459.04 Q104.557 1459.04 102.728 1462.6 Q100.922 1466.14 100.922 1473.27 Q100.922 1480.38 102.728 1483.94 Q104.557 1487.48 108.168 1487.48 Q111.802 1487.48 113.608 1483.94 Q115.436 1480.38 115.436 1473.27 Q115.436 1466.14 113.608 1462.6 Q111.802 1459.04 108.168 1459.04 M108.168 1455.33 Q113.978 1455.33 117.033 1459.94 Q120.112 1464.52 120.112 1473.27 Q120.112 1482 117.033 1486.61 Q113.978 1491.19 108.168 1491.19 Q102.358 1491.19 99.2789 1486.61 Q96.2234 1482 96.2234 1473.27 Q96.2234 1464.52 99.2789 1459.94 Q102.358 1455.33 108.168 1455.33 Z\" fill=\"#000000\" fill-rule=\"evenodd\" fill-opacity=\"1\" /><path clip-path=\"url(#clip770)\" d=\"M138.33 1459.04 Q134.719 1459.04 132.89 1462.6 Q131.084 1466.14 131.084 1473.27 Q131.084 1480.38 132.89 1483.94 Q134.719 1487.48 138.33 1487.48 Q141.964 1487.48 143.769 1483.94 Q145.598 1480.38 145.598 1473.27 Q145.598 1466.14 143.769 1462.6 Q141.964 1459.04 138.33 1459.04 M138.33 1455.33 Q144.14 1455.33 147.195 1459.94 Q150.274 1464.52 150.274 1473.27 Q150.274 1482 147.195 1486.61 Q144.14 1491.19 138.33 1491.19 Q132.519 1491.19 129.441 1486.61 Q126.385 1482 126.385 1473.27 Q126.385 1464.52 129.441 1459.94 Q132.519 1455.33 138.33 1455.33 Z\" fill=\"#000000\" fill-rule=\"evenodd\" fill-opacity=\"1\" /><path clip-path=\"url(#clip770)\" d=\"M63.9319 1166.31 Q60.3208 1166.31 58.4921 1169.88 Q56.6865 1173.42 56.6865 1180.55 Q56.6865 1187.65 58.4921 1191.22 Q60.3208 1194.76 63.9319 1194.76 Q67.5661 1194.76 69.3717 1191.22 Q71.2004 1187.65 71.2004 1180.55 Q71.2004 1173.42 69.3717 1169.88 Q67.5661 1166.31 63.9319 1166.31 M63.9319 1162.61 Q69.742 1162.61 72.7976 1167.21 Q75.8763 1171.8 75.8763 1180.55 Q75.8763 1189.27 72.7976 1193.88 Q69.742 1198.46 63.9319 1198.46 Q58.1217 1198.46 55.043 1193.88 Q51.9875 1189.27 51.9875 1180.55 Q51.9875 1171.8 55.043 1167.21 Q58.1217 1162.61 63.9319 1162.61 Z\" fill=\"#000000\" fill-rule=\"evenodd\" fill-opacity=\"1\" /><path clip-path=\"url(#clip770)\" d=\"M84.0938 1191.91 L88.978 1191.91 L88.978 1197.79 L84.0938 1197.79 L84.0938 1191.91 Z\" fill=\"#000000\" fill-rule=\"evenodd\" fill-opacity=\"1\" /><path clip-path=\"url(#clip770)\" d=\"M103.191 1193.86 L119.51 1193.86 L119.51 1197.79 L97.566 1197.79 L97.566 1193.86 Q100.228 1191.1 104.811 1186.47 Q109.418 1181.82 110.598 1180.48 Q112.844 1177.95 113.723 1176.22 Q114.626 1174.46 114.626 1172.77 Q114.626 1170.01 112.682 1168.28 Q110.76 1166.54 107.658 1166.54 Q105.459 1166.54 103.006 1167.31 Q100.575 1168.07 97.7974 1169.62 L97.7974 1164.9 Q100.621 1163.76 103.075 1163.19 Q105.529 1162.61 107.566 1162.61 Q112.936 1162.61 116.131 1165.29 Q119.325 1167.98 119.325 1172.47 Q119.325 1174.6 118.515 1176.52 Q117.728 1178.42 115.621 1181.01 Q115.043 1181.68 111.941 1184.9 Q108.839 1188.09 103.191 1193.86 Z\" fill=\"#000000\" fill-rule=\"evenodd\" fill-opacity=\"1\" /><path clip-path=\"url(#clip770)\" d=\"M129.371 1163.23 L147.728 1163.23 L147.728 1167.17 L133.654 1167.17 L133.654 1175.64 Q134.672 1175.29 135.691 1175.13 Q136.709 1174.95 137.728 1174.95 Q143.515 1174.95 146.894 1178.12 Q150.274 1181.29 150.274 1186.7 Q150.274 1192.28 146.802 1195.39 Q143.33 1198.46 137.01 1198.46 Q134.834 1198.46 132.566 1198.09 Q130.32 1197.72 127.913 1196.98 L127.913 1192.28 Q129.996 1193.42 132.219 1193.97 Q134.441 1194.53 136.918 1194.53 Q140.922 1194.53 143.26 1192.42 Q145.598 1190.32 145.598 1186.7 Q145.598 1183.09 143.26 1180.99 Q140.922 1178.88 136.918 1178.88 Q135.043 1178.88 133.168 1179.3 Q131.316 1179.71 129.371 1180.59 L129.371 1163.23 Z\" fill=\"#000000\" fill-rule=\"evenodd\" fill-opacity=\"1\" /><path clip-path=\"url(#clip770)\" d=\"M62.9365 873.586 Q59.3254 873.586 57.4967 877.151 Q55.6912 880.693 55.6912 887.823 Q55.6912 894.929 57.4967 898.494 Q59.3254 902.035 62.9365 902.035 Q66.5707 902.035 68.3763 898.494 Q70.205 894.929 70.205 887.823 Q70.205 880.693 68.3763 877.151 Q66.5707 873.586 62.9365 873.586 M62.9365 869.883 Q68.7467 869.883 71.8022 874.489 Q74.8809 879.073 74.8809 887.823 Q74.8809 896.549 71.8022 901.156 Q68.7467 905.739 62.9365 905.739 Q57.1264 905.739 54.0477 901.156 Q50.9921 896.549 50.9921 887.823 Q50.9921 879.073 54.0477 874.489 Q57.1264 869.883 62.9365 869.883 Z\" fill=\"#000000\" fill-rule=\"evenodd\" fill-opacity=\"1\" /><path clip-path=\"url(#clip770)\" d=\"M83.0984 899.188 L87.9827 899.188 L87.9827 905.068 L83.0984 905.068 L83.0984 899.188 Z\" fill=\"#000000\" fill-rule=\"evenodd\" fill-opacity=\"1\" /><path clip-path=\"url(#clip770)\" d=\"M98.2141 870.508 L116.57 870.508 L116.57 874.443 L102.496 874.443 L102.496 882.915 Q103.515 882.568 104.534 882.406 Q105.552 882.221 106.571 882.221 Q112.358 882.221 115.737 885.392 Q119.117 888.563 119.117 893.98 Q119.117 899.559 115.645 902.66 Q112.172 905.739 105.853 905.739 Q103.677 905.739 101.409 905.369 Q99.1632 904.998 96.7558 904.258 L96.7558 899.559 Q98.8391 900.693 101.061 901.248 Q103.284 901.804 105.76 901.804 Q109.765 901.804 112.103 899.697 Q114.441 897.591 114.441 893.98 Q114.441 890.369 112.103 888.262 Q109.765 886.156 105.76 886.156 Q103.885 886.156 102.01 886.573 Q100.159 886.989 98.2141 887.869 L98.2141 870.508 Z\" fill=\"#000000\" fill-rule=\"evenodd\" fill-opacity=\"1\" /><path clip-path=\"url(#clip770)\" d=\"M138.33 873.586 Q134.719 873.586 132.89 877.151 Q131.084 880.693 131.084 887.823 Q131.084 894.929 132.89 898.494 Q134.719 902.035 138.33 902.035 Q141.964 902.035 143.769 898.494 Q145.598 894.929 145.598 887.823 Q145.598 880.693 143.769 877.151 Q141.964 873.586 138.33 873.586 M138.33 869.883 Q144.14 869.883 147.195 874.489 Q150.274 879.073 150.274 887.823 Q150.274 896.549 147.195 901.156 Q144.14 905.739 138.33 905.739 Q132.519 905.739 129.441 901.156 Q126.385 896.549 126.385 887.823 Q126.385 879.073 129.441 874.489 Q132.519 869.883 138.33 869.883 Z\" fill=\"#000000\" fill-rule=\"evenodd\" fill-opacity=\"1\" /><path clip-path=\"url(#clip770)\" d=\"M63.9319 580.862 Q60.3208 580.862 58.4921 584.427 Q56.6865 587.968 56.6865 595.098 Q56.6865 602.204 58.4921 605.769 Q60.3208 609.311 63.9319 609.311 Q67.5661 609.311 69.3717 605.769 Q71.2004 602.204 71.2004 595.098 Q71.2004 587.968 69.3717 584.427 Q67.5661 580.862 63.9319 580.862 M63.9319 577.158 Q69.742 577.158 72.7976 581.765 Q75.8763 586.348 75.8763 595.098 Q75.8763 603.825 72.7976 608.431 Q69.742 613.014 63.9319 613.014 Q58.1217 613.014 55.043 608.431 Q51.9875 603.825 51.9875 595.098 Q51.9875 586.348 55.043 581.765 Q58.1217 577.158 63.9319 577.158 Z\" fill=\"#000000\" fill-rule=\"evenodd\" fill-opacity=\"1\" /><path clip-path=\"url(#clip770)\" d=\"M84.0938 606.464 L88.978 606.464 L88.978 612.343 L84.0938 612.343 L84.0938 606.464 Z\" fill=\"#000000\" fill-rule=\"evenodd\" fill-opacity=\"1\" /><path clip-path=\"url(#clip770)\" d=\"M97.9826 577.783 L120.205 577.783 L120.205 579.774 L107.658 612.343 L102.774 612.343 L114.58 581.718 L97.9826 581.718 L97.9826 577.783 Z\" fill=\"#000000\" fill-rule=\"evenodd\" fill-opacity=\"1\" /><path clip-path=\"url(#clip770)\" d=\"M129.371 577.783 L147.728 577.783 L147.728 581.718 L133.654 581.718 L133.654 590.19 Q134.672 589.843 135.691 589.681 Q136.709 589.496 137.728 589.496 Q143.515 589.496 146.894 592.667 Q150.274 595.839 150.274 601.255 Q150.274 606.834 146.802 609.936 Q143.33 613.014 137.01 613.014 Q134.834 613.014 132.566 612.644 Q130.32 612.274 127.913 611.533 L127.913 606.834 Q129.996 607.968 132.219 608.524 Q134.441 609.079 136.918 609.079 Q140.922 609.079 143.26 606.973 Q145.598 604.866 145.598 601.255 Q145.598 597.644 143.26 595.538 Q140.922 593.431 136.918 593.431 Q135.043 593.431 133.168 593.848 Q131.316 594.264 129.371 595.144 L129.371 577.783 Z\" fill=\"#000000\" fill-rule=\"evenodd\" fill-opacity=\"1\" /><path clip-path=\"url(#clip770)\" d=\"M53.7467 315.683 L61.3856 315.683 L61.3856 289.318 L53.0754 290.984 L53.0754 286.725 L61.3393 285.058 L66.0152 285.058 L66.0152 315.683 L73.654 315.683 L73.654 319.618 L53.7467 319.618 L53.7467 315.683 Z\" fill=\"#000000\" fill-rule=\"evenodd\" fill-opacity=\"1\" /><path clip-path=\"url(#clip770)\" d=\"M83.0984 313.739 L87.9827 313.739 L87.9827 319.618 L83.0984 319.618 L83.0984 313.739 Z\" fill=\"#000000\" fill-rule=\"evenodd\" fill-opacity=\"1\" /><path clip-path=\"url(#clip770)\" d=\"M108.168 288.137 Q104.557 288.137 102.728 291.702 Q100.922 295.244 100.922 302.373 Q100.922 309.48 102.728 313.044 Q104.557 316.586 108.168 316.586 Q111.802 316.586 113.608 313.044 Q115.436 309.48 115.436 302.373 Q115.436 295.244 113.608 291.702 Q111.802 288.137 108.168 288.137 M108.168 284.433 Q113.978 284.433 117.033 289.04 Q120.112 293.623 120.112 302.373 Q120.112 311.1 117.033 315.706 Q113.978 320.29 108.168 320.29 Q102.358 320.29 99.2789 315.706 Q96.2234 311.1 96.2234 302.373 Q96.2234 293.623 99.2789 289.04 Q102.358 284.433 108.168 284.433 Z\" fill=\"#000000\" fill-rule=\"evenodd\" fill-opacity=\"1\" /><path clip-path=\"url(#clip770)\" d=\"M138.33 288.137 Q134.719 288.137 132.89 291.702 Q131.084 295.244 131.084 302.373 Q131.084 309.48 132.89 313.044 Q134.719 316.586 138.33 316.586 Q141.964 316.586 143.769 313.044 Q145.598 309.48 145.598 302.373 Q145.598 295.244 143.769 291.702 Q141.964 288.137 138.33 288.137 M138.33 284.433 Q144.14 284.433 147.195 289.04 Q150.274 293.623 150.274 302.373 Q150.274 311.1 147.195 315.706 Q144.14 320.29 138.33 320.29 Q132.519 320.29 129.441 315.706 Q126.385 311.1 126.385 302.373 Q126.385 293.623 129.441 289.04 Q132.519 284.433 138.33 284.433 Z\" fill=\"#000000\" fill-rule=\"evenodd\" fill-opacity=\"1\" /><circle clip-path=\"url(#clip772)\" cx=\"247.59\" cy=\"1294.57\" r=\"14.4\" fill=\"#009af9\" fill-rule=\"evenodd\" fill-opacity=\"1\" stroke=\"#000000\" stroke-opacity=\"1\" stroke-width=\"3.2\"/>\n",
       "<circle clip-path=\"url(#clip772)\" cx=\"268.028\" cy=\"1428.49\" r=\"14.4\" fill=\"#009af9\" fill-rule=\"evenodd\" fill-opacity=\"1\" stroke=\"#000000\" stroke-opacity=\"1\" stroke-width=\"3.2\"/>\n",
       "<circle clip-path=\"url(#clip772)\" cx=\"288.467\" cy=\"1408.5\" r=\"14.4\" fill=\"#009af9\" fill-rule=\"evenodd\" fill-opacity=\"1\" stroke=\"#000000\" stroke-opacity=\"1\" stroke-width=\"3.2\"/>\n",
       "<circle clip-path=\"url(#clip772)\" cx=\"308.905\" cy=\"1231.92\" r=\"14.4\" fill=\"#009af9\" fill-rule=\"evenodd\" fill-opacity=\"1\" stroke=\"#000000\" stroke-opacity=\"1\" stroke-width=\"3.2\"/>\n",
       "<circle clip-path=\"url(#clip772)\" cx=\"329.344\" cy=\"1257.44\" r=\"14.4\" fill=\"#009af9\" fill-rule=\"evenodd\" fill-opacity=\"1\" stroke=\"#000000\" stroke-opacity=\"1\" stroke-width=\"3.2\"/>\n",
       "<circle clip-path=\"url(#clip772)\" cx=\"349.782\" cy=\"1351.27\" r=\"14.4\" fill=\"#009af9\" fill-rule=\"evenodd\" fill-opacity=\"1\" stroke=\"#000000\" stroke-opacity=\"1\" stroke-width=\"3.2\"/>\n",
       "<circle clip-path=\"url(#clip772)\" cx=\"370.221\" cy=\"1229.59\" r=\"14.4\" fill=\"#009af9\" fill-rule=\"evenodd\" fill-opacity=\"1\" stroke=\"#000000\" stroke-opacity=\"1\" stroke-width=\"3.2\"/>\n",
       "<circle clip-path=\"url(#clip772)\" cx=\"390.659\" cy=\"1169.51\" r=\"14.4\" fill=\"#009af9\" fill-rule=\"evenodd\" fill-opacity=\"1\" stroke=\"#000000\" stroke-opacity=\"1\" stroke-width=\"3.2\"/>\n",
       "<circle clip-path=\"url(#clip772)\" cx=\"411.098\" cy=\"1212.37\" r=\"14.4\" fill=\"#009af9\" fill-rule=\"evenodd\" fill-opacity=\"1\" stroke=\"#000000\" stroke-opacity=\"1\" stroke-width=\"3.2\"/>\n",
       "<circle clip-path=\"url(#clip772)\" cx=\"431.536\" cy=\"1161.76\" r=\"14.4\" fill=\"#009af9\" fill-rule=\"evenodd\" fill-opacity=\"1\" stroke=\"#000000\" stroke-opacity=\"1\" stroke-width=\"3.2\"/>\n",
       "<circle clip-path=\"url(#clip772)\" cx=\"451.975\" cy=\"1259.25\" r=\"14.4\" fill=\"#009af9\" fill-rule=\"evenodd\" fill-opacity=\"1\" stroke=\"#000000\" stroke-opacity=\"1\" stroke-width=\"3.2\"/>\n",
       "<circle clip-path=\"url(#clip772)\" cx=\"472.413\" cy=\"1181\" r=\"14.4\" fill=\"#009af9\" fill-rule=\"evenodd\" fill-opacity=\"1\" stroke=\"#000000\" stroke-opacity=\"1\" stroke-width=\"3.2\"/>\n",
       "<circle clip-path=\"url(#clip772)\" cx=\"492.852\" cy=\"1176.08\" r=\"14.4\" fill=\"#009af9\" fill-rule=\"evenodd\" fill-opacity=\"1\" stroke=\"#000000\" stroke-opacity=\"1\" stroke-width=\"3.2\"/>\n",
       "<circle clip-path=\"url(#clip772)\" cx=\"513.29\" cy=\"938.666\" r=\"14.4\" fill=\"#009af9\" fill-rule=\"evenodd\" fill-opacity=\"1\" stroke=\"#000000\" stroke-opacity=\"1\" stroke-width=\"3.2\"/>\n",
       "<circle clip-path=\"url(#clip772)\" cx=\"533.729\" cy=\"1055.95\" r=\"14.4\" fill=\"#009af9\" fill-rule=\"evenodd\" fill-opacity=\"1\" stroke=\"#000000\" stroke-opacity=\"1\" stroke-width=\"3.2\"/>\n",
       "<circle clip-path=\"url(#clip772)\" cx=\"554.167\" cy=\"887.095\" r=\"14.4\" fill=\"#009af9\" fill-rule=\"evenodd\" fill-opacity=\"1\" stroke=\"#000000\" stroke-opacity=\"1\" stroke-width=\"3.2\"/>\n",
       "<circle clip-path=\"url(#clip772)\" cx=\"574.606\" cy=\"930.694\" r=\"14.4\" fill=\"#009af9\" fill-rule=\"evenodd\" fill-opacity=\"1\" stroke=\"#000000\" stroke-opacity=\"1\" stroke-width=\"3.2\"/>\n",
       "<circle clip-path=\"url(#clip772)\" cx=\"595.044\" cy=\"800.829\" r=\"14.4\" fill=\"#009af9\" fill-rule=\"evenodd\" fill-opacity=\"1\" stroke=\"#000000\" stroke-opacity=\"1\" stroke-width=\"3.2\"/>\n",
       "<circle clip-path=\"url(#clip772)\" cx=\"615.483\" cy=\"947.802\" r=\"14.4\" fill=\"#009af9\" fill-rule=\"evenodd\" fill-opacity=\"1\" stroke=\"#000000\" stroke-opacity=\"1\" stroke-width=\"3.2\"/>\n",
       "<circle clip-path=\"url(#clip772)\" cx=\"635.921\" cy=\"887.897\" r=\"14.4\" fill=\"#009af9\" fill-rule=\"evenodd\" fill-opacity=\"1\" stroke=\"#000000\" stroke-opacity=\"1\" stroke-width=\"3.2\"/>\n",
       "<circle clip-path=\"url(#clip772)\" cx=\"656.36\" cy=\"890.679\" r=\"14.4\" fill=\"#009af9\" fill-rule=\"evenodd\" fill-opacity=\"1\" stroke=\"#000000\" stroke-opacity=\"1\" stroke-width=\"3.2\"/>\n",
       "<circle clip-path=\"url(#clip772)\" cx=\"676.798\" cy=\"832.157\" r=\"14.4\" fill=\"#009af9\" fill-rule=\"evenodd\" fill-opacity=\"1\" stroke=\"#000000\" stroke-opacity=\"1\" stroke-width=\"3.2\"/>\n",
       "<circle clip-path=\"url(#clip772)\" cx=\"697.237\" cy=\"640.461\" r=\"14.4\" fill=\"#009af9\" fill-rule=\"evenodd\" fill-opacity=\"1\" stroke=\"#000000\" stroke-opacity=\"1\" stroke-width=\"3.2\"/>\n",
       "<circle clip-path=\"url(#clip772)\" cx=\"717.675\" cy=\"606.702\" r=\"14.4\" fill=\"#009af9\" fill-rule=\"evenodd\" fill-opacity=\"1\" stroke=\"#000000\" stroke-opacity=\"1\" stroke-width=\"3.2\"/>\n",
       "<circle clip-path=\"url(#clip772)\" cx=\"738.114\" cy=\"717.088\" r=\"14.4\" fill=\"#009af9\" fill-rule=\"evenodd\" fill-opacity=\"1\" stroke=\"#000000\" stroke-opacity=\"1\" stroke-width=\"3.2\"/>\n",
       "<circle clip-path=\"url(#clip772)\" cx=\"758.552\" cy=\"608.09\" r=\"14.4\" fill=\"#009af9\" fill-rule=\"evenodd\" fill-opacity=\"1\" stroke=\"#000000\" stroke-opacity=\"1\" stroke-width=\"3.2\"/>\n",
       "<circle clip-path=\"url(#clip772)\" cx=\"778.991\" cy=\"554.384\" r=\"14.4\" fill=\"#009af9\" fill-rule=\"evenodd\" fill-opacity=\"1\" stroke=\"#000000\" stroke-opacity=\"1\" stroke-width=\"3.2\"/>\n",
       "<circle clip-path=\"url(#clip772)\" cx=\"799.429\" cy=\"515.836\" r=\"14.4\" fill=\"#009af9\" fill-rule=\"evenodd\" fill-opacity=\"1\" stroke=\"#000000\" stroke-opacity=\"1\" stroke-width=\"3.2\"/>\n",
       "<circle clip-path=\"url(#clip772)\" cx=\"819.868\" cy=\"464.692\" r=\"14.4\" fill=\"#009af9\" fill-rule=\"evenodd\" fill-opacity=\"1\" stroke=\"#000000\" stroke-opacity=\"1\" stroke-width=\"3.2\"/>\n",
       "<circle clip-path=\"url(#clip772)\" cx=\"840.306\" cy=\"552.204\" r=\"14.4\" fill=\"#009af9\" fill-rule=\"evenodd\" fill-opacity=\"1\" stroke=\"#000000\" stroke-opacity=\"1\" stroke-width=\"3.2\"/>\n",
       "<circle clip-path=\"url(#clip772)\" cx=\"860.745\" cy=\"468.047\" r=\"14.4\" fill=\"#009af9\" fill-rule=\"evenodd\" fill-opacity=\"1\" stroke=\"#000000\" stroke-opacity=\"1\" stroke-width=\"3.2\"/>\n",
       "<circle clip-path=\"url(#clip772)\" cx=\"881.183\" cy=\"502.712\" r=\"14.4\" fill=\"#009af9\" fill-rule=\"evenodd\" fill-opacity=\"1\" stroke=\"#000000\" stroke-opacity=\"1\" stroke-width=\"3.2\"/>\n",
       "<circle clip-path=\"url(#clip772)\" cx=\"901.622\" cy=\"357.176\" r=\"14.4\" fill=\"#009af9\" fill-rule=\"evenodd\" fill-opacity=\"1\" stroke=\"#000000\" stroke-opacity=\"1\" stroke-width=\"3.2\"/>\n",
       "<circle clip-path=\"url(#clip772)\" cx=\"922.06\" cy=\"291.664\" r=\"14.4\" fill=\"#009af9\" fill-rule=\"evenodd\" fill-opacity=\"1\" stroke=\"#000000\" stroke-opacity=\"1\" stroke-width=\"3.2\"/>\n",
       "<circle clip-path=\"url(#clip772)\" cx=\"942.499\" cy=\"368.374\" r=\"14.4\" fill=\"#009af9\" fill-rule=\"evenodd\" fill-opacity=\"1\" stroke=\"#000000\" stroke-opacity=\"1\" stroke-width=\"3.2\"/>\n",
       "<circle clip-path=\"url(#clip772)\" cx=\"962.937\" cy=\"271.011\" r=\"14.4\" fill=\"#009af9\" fill-rule=\"evenodd\" fill-opacity=\"1\" stroke=\"#000000\" stroke-opacity=\"1\" stroke-width=\"3.2\"/>\n",
       "<circle clip-path=\"url(#clip772)\" cx=\"983.376\" cy=\"367.452\" r=\"14.4\" fill=\"#009af9\" fill-rule=\"evenodd\" fill-opacity=\"1\" stroke=\"#000000\" stroke-opacity=\"1\" stroke-width=\"3.2\"/>\n",
       "<circle clip-path=\"url(#clip772)\" cx=\"1003.81\" cy=\"196.477\" r=\"14.4\" fill=\"#009af9\" fill-rule=\"evenodd\" fill-opacity=\"1\" stroke=\"#000000\" stroke-opacity=\"1\" stroke-width=\"3.2\"/>\n",
       "<circle clip-path=\"url(#clip772)\" cx=\"1024.25\" cy=\"324.335\" r=\"14.4\" fill=\"#009af9\" fill-rule=\"evenodd\" fill-opacity=\"1\" stroke=\"#000000\" stroke-opacity=\"1\" stroke-width=\"3.2\"/>\n",
       "<circle clip-path=\"url(#clip772)\" cx=\"1044.69\" cy=\"119.371\" r=\"14.4\" fill=\"#009af9\" fill-rule=\"evenodd\" fill-opacity=\"1\" stroke=\"#000000\" stroke-opacity=\"1\" stroke-width=\"3.2\"/>\n",
       "<circle clip-path=\"url(#clip772)\" cx=\"1065.13\" cy=\"151.921\" r=\"14.4\" fill=\"#009af9\" fill-rule=\"evenodd\" fill-opacity=\"1\" stroke=\"#000000\" stroke-opacity=\"1\" stroke-width=\"3.2\"/>\n",
       "<circle clip-path=\"url(#clip772)\" cx=\"1085.57\" cy=\"297.415\" r=\"14.4\" fill=\"#009af9\" fill-rule=\"evenodd\" fill-opacity=\"1\" stroke=\"#000000\" stroke-opacity=\"1\" stroke-width=\"3.2\"/>\n",
       "<circle clip-path=\"url(#clip772)\" cx=\"1106.01\" cy=\"87.9763\" r=\"14.4\" fill=\"#009af9\" fill-rule=\"evenodd\" fill-opacity=\"1\" stroke=\"#000000\" stroke-opacity=\"1\" stroke-width=\"3.2\"/>\n",
       "<circle clip-path=\"url(#clip772)\" cx=\"1126.45\" cy=\"166.329\" r=\"14.4\" fill=\"#009af9\" fill-rule=\"evenodd\" fill-opacity=\"1\" stroke=\"#000000\" stroke-opacity=\"1\" stroke-width=\"3.2\"/>\n",
       "<circle clip-path=\"url(#clip772)\" cx=\"1146.88\" cy=\"228.153\" r=\"14.4\" fill=\"#009af9\" fill-rule=\"evenodd\" fill-opacity=\"1\" stroke=\"#000000\" stroke-opacity=\"1\" stroke-width=\"3.2\"/>\n",
       "<circle clip-path=\"url(#clip772)\" cx=\"1167.32\" cy=\"280.654\" r=\"14.4\" fill=\"#009af9\" fill-rule=\"evenodd\" fill-opacity=\"1\" stroke=\"#000000\" stroke-opacity=\"1\" stroke-width=\"3.2\"/>\n",
       "<circle clip-path=\"url(#clip772)\" cx=\"1187.76\" cy=\"134.277\" r=\"14.4\" fill=\"#009af9\" fill-rule=\"evenodd\" fill-opacity=\"1\" stroke=\"#000000\" stroke-opacity=\"1\" stroke-width=\"3.2\"/>\n",
       "<circle clip-path=\"url(#clip772)\" cx=\"1208.2\" cy=\"269.354\" r=\"14.4\" fill=\"#009af9\" fill-rule=\"evenodd\" fill-opacity=\"1\" stroke=\"#000000\" stroke-opacity=\"1\" stroke-width=\"3.2\"/>\n",
       "<circle clip-path=\"url(#clip772)\" cx=\"1228.64\" cy=\"297.885\" r=\"14.4\" fill=\"#009af9\" fill-rule=\"evenodd\" fill-opacity=\"1\" stroke=\"#000000\" stroke-opacity=\"1\" stroke-width=\"3.2\"/>\n",
       "<circle clip-path=\"url(#clip772)\" cx=\"1249.08\" cy=\"106.345\" r=\"14.4\" fill=\"#009af9\" fill-rule=\"evenodd\" fill-opacity=\"1\" stroke=\"#000000\" stroke-opacity=\"1\" stroke-width=\"3.2\"/>\n",
       "<circle clip-path=\"url(#clip772)\" cx=\"1269.51\" cy=\"230.368\" r=\"14.4\" fill=\"#009af9\" fill-rule=\"evenodd\" fill-opacity=\"1\" stroke=\"#000000\" stroke-opacity=\"1\" stroke-width=\"3.2\"/>\n",
       "<circle clip-path=\"url(#clip772)\" cx=\"1289.95\" cy=\"361.287\" r=\"14.4\" fill=\"#009af9\" fill-rule=\"evenodd\" fill-opacity=\"1\" stroke=\"#000000\" stroke-opacity=\"1\" stroke-width=\"3.2\"/>\n",
       "<circle clip-path=\"url(#clip772)\" cx=\"1310.39\" cy=\"179.04\" r=\"14.4\" fill=\"#009af9\" fill-rule=\"evenodd\" fill-opacity=\"1\" stroke=\"#000000\" stroke-opacity=\"1\" stroke-width=\"3.2\"/>\n",
       "<circle clip-path=\"url(#clip772)\" cx=\"1330.83\" cy=\"302.268\" r=\"14.4\" fill=\"#009af9\" fill-rule=\"evenodd\" fill-opacity=\"1\" stroke=\"#000000\" stroke-opacity=\"1\" stroke-width=\"3.2\"/>\n",
       "<circle clip-path=\"url(#clip772)\" cx=\"1351.27\" cy=\"232.437\" r=\"14.4\" fill=\"#009af9\" fill-rule=\"evenodd\" fill-opacity=\"1\" stroke=\"#000000\" stroke-opacity=\"1\" stroke-width=\"3.2\"/>\n",
       "<circle clip-path=\"url(#clip772)\" cx=\"1371.71\" cy=\"345.152\" r=\"14.4\" fill=\"#009af9\" fill-rule=\"evenodd\" fill-opacity=\"1\" stroke=\"#000000\" stroke-opacity=\"1\" stroke-width=\"3.2\"/>\n",
       "<circle clip-path=\"url(#clip772)\" cx=\"1392.15\" cy=\"454.19\" r=\"14.4\" fill=\"#009af9\" fill-rule=\"evenodd\" fill-opacity=\"1\" stroke=\"#000000\" stroke-opacity=\"1\" stroke-width=\"3.2\"/>\n",
       "<circle clip-path=\"url(#clip772)\" cx=\"1412.58\" cy=\"465.808\" r=\"14.4\" fill=\"#009af9\" fill-rule=\"evenodd\" fill-opacity=\"1\" stroke=\"#000000\" stroke-opacity=\"1\" stroke-width=\"3.2\"/>\n",
       "<circle clip-path=\"url(#clip772)\" cx=\"1433.02\" cy=\"429.046\" r=\"14.4\" fill=\"#009af9\" fill-rule=\"evenodd\" fill-opacity=\"1\" stroke=\"#000000\" stroke-opacity=\"1\" stroke-width=\"3.2\"/>\n",
       "<circle clip-path=\"url(#clip772)\" cx=\"1453.46\" cy=\"519.214\" r=\"14.4\" fill=\"#009af9\" fill-rule=\"evenodd\" fill-opacity=\"1\" stroke=\"#000000\" stroke-opacity=\"1\" stroke-width=\"3.2\"/>\n",
       "<circle clip-path=\"url(#clip772)\" cx=\"1473.9\" cy=\"455.505\" r=\"14.4\" fill=\"#009af9\" fill-rule=\"evenodd\" fill-opacity=\"1\" stroke=\"#000000\" stroke-opacity=\"1\" stroke-width=\"3.2\"/>\n",
       "<circle clip-path=\"url(#clip772)\" cx=\"1494.34\" cy=\"617.828\" r=\"14.4\" fill=\"#009af9\" fill-rule=\"evenodd\" fill-opacity=\"1\" stroke=\"#000000\" stroke-opacity=\"1\" stroke-width=\"3.2\"/>\n",
       "<circle clip-path=\"url(#clip772)\" cx=\"1514.78\" cy=\"640.985\" r=\"14.4\" fill=\"#009af9\" fill-rule=\"evenodd\" fill-opacity=\"1\" stroke=\"#000000\" stroke-opacity=\"1\" stroke-width=\"3.2\"/>\n",
       "<circle clip-path=\"url(#clip772)\" cx=\"1535.22\" cy=\"704.521\" r=\"14.4\" fill=\"#009af9\" fill-rule=\"evenodd\" fill-opacity=\"1\" stroke=\"#000000\" stroke-opacity=\"1\" stroke-width=\"3.2\"/>\n",
       "<circle clip-path=\"url(#clip772)\" cx=\"1555.65\" cy=\"705.256\" r=\"14.4\" fill=\"#009af9\" fill-rule=\"evenodd\" fill-opacity=\"1\" stroke=\"#000000\" stroke-opacity=\"1\" stroke-width=\"3.2\"/>\n",
       "<circle clip-path=\"url(#clip772)\" cx=\"1576.09\" cy=\"737.536\" r=\"14.4\" fill=\"#009af9\" fill-rule=\"evenodd\" fill-opacity=\"1\" stroke=\"#000000\" stroke-opacity=\"1\" stroke-width=\"3.2\"/>\n",
       "<circle clip-path=\"url(#clip772)\" cx=\"1596.53\" cy=\"645.884\" r=\"14.4\" fill=\"#009af9\" fill-rule=\"evenodd\" fill-opacity=\"1\" stroke=\"#000000\" stroke-opacity=\"1\" stroke-width=\"3.2\"/>\n",
       "<circle clip-path=\"url(#clip772)\" cx=\"1616.97\" cy=\"734.761\" r=\"14.4\" fill=\"#009af9\" fill-rule=\"evenodd\" fill-opacity=\"1\" stroke=\"#000000\" stroke-opacity=\"1\" stroke-width=\"3.2\"/>\n",
       "<circle clip-path=\"url(#clip772)\" cx=\"1637.41\" cy=\"684.618\" r=\"14.4\" fill=\"#009af9\" fill-rule=\"evenodd\" fill-opacity=\"1\" stroke=\"#000000\" stroke-opacity=\"1\" stroke-width=\"3.2\"/>\n",
       "<circle clip-path=\"url(#clip772)\" cx=\"1657.85\" cy=\"908.966\" r=\"14.4\" fill=\"#009af9\" fill-rule=\"evenodd\" fill-opacity=\"1\" stroke=\"#000000\" stroke-opacity=\"1\" stroke-width=\"3.2\"/>\n",
       "<circle clip-path=\"url(#clip772)\" cx=\"1678.29\" cy=\"765.304\" r=\"14.4\" fill=\"#009af9\" fill-rule=\"evenodd\" fill-opacity=\"1\" stroke=\"#000000\" stroke-opacity=\"1\" stroke-width=\"3.2\"/>\n",
       "<circle clip-path=\"url(#clip772)\" cx=\"1698.72\" cy=\"855.801\" r=\"14.4\" fill=\"#009af9\" fill-rule=\"evenodd\" fill-opacity=\"1\" stroke=\"#000000\" stroke-opacity=\"1\" stroke-width=\"3.2\"/>\n",
       "<circle clip-path=\"url(#clip772)\" cx=\"1719.16\" cy=\"988.679\" r=\"14.4\" fill=\"#009af9\" fill-rule=\"evenodd\" fill-opacity=\"1\" stroke=\"#000000\" stroke-opacity=\"1\" stroke-width=\"3.2\"/>\n",
       "<circle clip-path=\"url(#clip772)\" cx=\"1739.6\" cy=\"1073.92\" r=\"14.4\" fill=\"#009af9\" fill-rule=\"evenodd\" fill-opacity=\"1\" stroke=\"#000000\" stroke-opacity=\"1\" stroke-width=\"3.2\"/>\n",
       "<circle clip-path=\"url(#clip772)\" cx=\"1760.04\" cy=\"1107.22\" r=\"14.4\" fill=\"#009af9\" fill-rule=\"evenodd\" fill-opacity=\"1\" stroke=\"#000000\" stroke-opacity=\"1\" stroke-width=\"3.2\"/>\n",
       "<circle clip-path=\"url(#clip772)\" cx=\"1780.48\" cy=\"1050.59\" r=\"14.4\" fill=\"#009af9\" fill-rule=\"evenodd\" fill-opacity=\"1\" stroke=\"#000000\" stroke-opacity=\"1\" stroke-width=\"3.2\"/>\n",
       "<circle clip-path=\"url(#clip772)\" cx=\"1800.92\" cy=\"1112.75\" r=\"14.4\" fill=\"#009af9\" fill-rule=\"evenodd\" fill-opacity=\"1\" stroke=\"#000000\" stroke-opacity=\"1\" stroke-width=\"3.2\"/>\n",
       "<circle clip-path=\"url(#clip772)\" cx=\"1821.35\" cy=\"1082.72\" r=\"14.4\" fill=\"#009af9\" fill-rule=\"evenodd\" fill-opacity=\"1\" stroke=\"#000000\" stroke-opacity=\"1\" stroke-width=\"3.2\"/>\n",
       "<circle clip-path=\"url(#clip772)\" cx=\"1841.79\" cy=\"1097.39\" r=\"14.4\" fill=\"#009af9\" fill-rule=\"evenodd\" fill-opacity=\"1\" stroke=\"#000000\" stroke-opacity=\"1\" stroke-width=\"3.2\"/>\n",
       "<circle clip-path=\"url(#clip772)\" cx=\"1862.23\" cy=\"1111.14\" r=\"14.4\" fill=\"#009af9\" fill-rule=\"evenodd\" fill-opacity=\"1\" stroke=\"#000000\" stroke-opacity=\"1\" stroke-width=\"3.2\"/>\n",
       "<circle clip-path=\"url(#clip772)\" cx=\"1882.67\" cy=\"1199.83\" r=\"14.4\" fill=\"#009af9\" fill-rule=\"evenodd\" fill-opacity=\"1\" stroke=\"#000000\" stroke-opacity=\"1\" stroke-width=\"3.2\"/>\n",
       "<circle clip-path=\"url(#clip772)\" cx=\"1903.11\" cy=\"1339.51\" r=\"14.4\" fill=\"#009af9\" fill-rule=\"evenodd\" fill-opacity=\"1\" stroke=\"#000000\" stroke-opacity=\"1\" stroke-width=\"3.2\"/>\n",
       "<circle clip-path=\"url(#clip772)\" cx=\"1923.55\" cy=\"1254.23\" r=\"14.4\" fill=\"#009af9\" fill-rule=\"evenodd\" fill-opacity=\"1\" stroke=\"#000000\" stroke-opacity=\"1\" stroke-width=\"3.2\"/>\n",
       "<circle clip-path=\"url(#clip772)\" cx=\"1943.99\" cy=\"1299.07\" r=\"14.4\" fill=\"#009af9\" fill-rule=\"evenodd\" fill-opacity=\"1\" stroke=\"#000000\" stroke-opacity=\"1\" stroke-width=\"3.2\"/>\n",
       "<circle clip-path=\"url(#clip772)\" cx=\"1964.42\" cy=\"1261.85\" r=\"14.4\" fill=\"#009af9\" fill-rule=\"evenodd\" fill-opacity=\"1\" stroke=\"#000000\" stroke-opacity=\"1\" stroke-width=\"3.2\"/>\n",
       "<circle clip-path=\"url(#clip772)\" cx=\"1984.86\" cy=\"1335.73\" r=\"14.4\" fill=\"#009af9\" fill-rule=\"evenodd\" fill-opacity=\"1\" stroke=\"#000000\" stroke-opacity=\"1\" stroke-width=\"3.2\"/>\n",
       "<circle clip-path=\"url(#clip772)\" cx=\"2005.3\" cy=\"1295.41\" r=\"14.4\" fill=\"#009af9\" fill-rule=\"evenodd\" fill-opacity=\"1\" stroke=\"#000000\" stroke-opacity=\"1\" stroke-width=\"3.2\"/>\n",
       "<circle clip-path=\"url(#clip772)\" cx=\"2025.74\" cy=\"1384.57\" r=\"14.4\" fill=\"#009af9\" fill-rule=\"evenodd\" fill-opacity=\"1\" stroke=\"#000000\" stroke-opacity=\"1\" stroke-width=\"3.2\"/>\n",
       "<circle clip-path=\"url(#clip772)\" cx=\"2046.18\" cy=\"1445.72\" r=\"14.4\" fill=\"#009af9\" fill-rule=\"evenodd\" fill-opacity=\"1\" stroke=\"#000000\" stroke-opacity=\"1\" stroke-width=\"3.2\"/>\n",
       "<circle clip-path=\"url(#clip772)\" cx=\"2066.62\" cy=\"1271.63\" r=\"14.4\" fill=\"#009af9\" fill-rule=\"evenodd\" fill-opacity=\"1\" stroke=\"#000000\" stroke-opacity=\"1\" stroke-width=\"3.2\"/>\n",
       "<circle clip-path=\"url(#clip772)\" cx=\"2087.06\" cy=\"1299.01\" r=\"14.4\" fill=\"#009af9\" fill-rule=\"evenodd\" fill-opacity=\"1\" stroke=\"#000000\" stroke-opacity=\"1\" stroke-width=\"3.2\"/>\n",
       "<circle clip-path=\"url(#clip772)\" cx=\"2107.49\" cy=\"1351.41\" r=\"14.4\" fill=\"#009af9\" fill-rule=\"evenodd\" fill-opacity=\"1\" stroke=\"#000000\" stroke-opacity=\"1\" stroke-width=\"3.2\"/>\n",
       "<circle clip-path=\"url(#clip772)\" cx=\"2127.93\" cy=\"1250.89\" r=\"14.4\" fill=\"#009af9\" fill-rule=\"evenodd\" fill-opacity=\"1\" stroke=\"#000000\" stroke-opacity=\"1\" stroke-width=\"3.2\"/>\n",
       "<circle clip-path=\"url(#clip772)\" cx=\"2148.37\" cy=\"1305.44\" r=\"14.4\" fill=\"#009af9\" fill-rule=\"evenodd\" fill-opacity=\"1\" stroke=\"#000000\" stroke-opacity=\"1\" stroke-width=\"3.2\"/>\n",
       "<circle clip-path=\"url(#clip772)\" cx=\"2168.81\" cy=\"1239.73\" r=\"14.4\" fill=\"#009af9\" fill-rule=\"evenodd\" fill-opacity=\"1\" stroke=\"#000000\" stroke-opacity=\"1\" stroke-width=\"3.2\"/>\n",
       "<circle clip-path=\"url(#clip772)\" cx=\"2189.25\" cy=\"1267.36\" r=\"14.4\" fill=\"#009af9\" fill-rule=\"evenodd\" fill-opacity=\"1\" stroke=\"#000000\" stroke-opacity=\"1\" stroke-width=\"3.2\"/>\n",
       "<circle clip-path=\"url(#clip772)\" cx=\"2209.69\" cy=\"1342.34\" r=\"14.4\" fill=\"#009af9\" fill-rule=\"evenodd\" fill-opacity=\"1\" stroke=\"#000000\" stroke-opacity=\"1\" stroke-width=\"3.2\"/>\n",
       "<circle clip-path=\"url(#clip772)\" cx=\"2230.12\" cy=\"1377.63\" r=\"14.4\" fill=\"#009af9\" fill-rule=\"evenodd\" fill-opacity=\"1\" stroke=\"#000000\" stroke-opacity=\"1\" stroke-width=\"3.2\"/>\n",
       "<circle clip-path=\"url(#clip772)\" cx=\"2250.56\" cy=\"1409.68\" r=\"14.4\" fill=\"#009af9\" fill-rule=\"evenodd\" fill-opacity=\"1\" stroke=\"#000000\" stroke-opacity=\"1\" stroke-width=\"3.2\"/>\n",
       "<circle clip-path=\"url(#clip772)\" cx=\"2271\" cy=\"1256.16\" r=\"14.4\" fill=\"#009af9\" fill-rule=\"evenodd\" fill-opacity=\"1\" stroke=\"#000000\" stroke-opacity=\"1\" stroke-width=\"3.2\"/>\n",
       "<circle clip-path=\"url(#clip772)\" cx=\"2291.44\" cy=\"1164.06\" r=\"14.4\" fill=\"#009af9\" fill-rule=\"evenodd\" fill-opacity=\"1\" stroke=\"#000000\" stroke-opacity=\"1\" stroke-width=\"3.2\"/>\n",
       "<path clip-path=\"url(#clip770)\" d=\"M2011.46 198.898 L2280.54 198.898 L2280.54 95.2176 L2011.46 95.2176  Z\" fill=\"#ffffff\" fill-rule=\"evenodd\" fill-opacity=\"1\"/>\n",
       "<polyline clip-path=\"url(#clip770)\" style=\"stroke:#000000; stroke-linecap:round; stroke-linejoin:round; stroke-width:4; stroke-opacity:1; fill:none\" points=\"2011.46,198.898 2280.54,198.898 2280.54,95.2176 2011.46,95.2176 2011.46,198.898 \"/>\n",
       "<circle clip-path=\"url(#clip770)\" cx=\"2107.75\" cy=\"147.058\" r=\"23.04\" fill=\"#009af9\" fill-rule=\"evenodd\" fill-opacity=\"1\" stroke=\"#000000\" stroke-opacity=\"1\" stroke-width=\"5.12\"/>\n",
       "<path clip-path=\"url(#clip770)\" d=\"M2217.88 166.745 Q2216.07 171.375 2214.36 172.787 Q2212.65 174.199 2209.78 174.199 L2206.38 174.199 L2206.38 170.634 L2208.88 170.634 Q2210.63 170.634 2211.61 169.8 Q2212.58 168.967 2213.76 165.865 L2214.52 163.921 L2204.04 138.412 L2208.55 138.412 L2216.65 158.689 L2224.76 138.412 L2229.27 138.412 L2217.88 166.745 Z\" fill=\"#000000\" fill-rule=\"evenodd\" fill-opacity=\"1\" /><path clip-path=\"url(#clip770)\" d=\"M2236.56 160.402 L2244.2 160.402 L2244.2 134.037 L2235.89 135.703 L2235.89 131.444 L2244.15 129.778 L2248.83 129.778 L2248.83 160.402 L2256.47 160.402 L2256.47 164.338 L2236.56 164.338 L2236.56 160.402 Z\" fill=\"#000000\" fill-rule=\"evenodd\" fill-opacity=\"1\" /></svg>\n"
      ]
     },
     "execution_count": 5,
     "metadata": {},
     "output_type": "execute_result"
    }
   ],
   "source": [
    "scatter(xx, yy, markershape=:circle)"
   ]
  },
  {
   "cell_type": "markdown",
   "metadata": {},
   "source": [
    "Obliczony wektor wartości normalizujemy do 1, żeby łatwiej policzyć współczynniki aproksymacji (niżej objaśnienie dlaczego łatwiej). "
   ]
  },
  {
   "cell_type": "code",
   "execution_count": 6,
   "metadata": {},
   "outputs": [
    {
     "data": {
      "text/plain": [
       "4-element Vector{Int64}:\n",
       " 2\n",
       " 2\n",
       " 2\n",
       " 2"
      ]
     },
     "execution_count": 6,
     "metadata": {},
     "output_type": "execute_result"
    }
   ],
   "source": [
    "#przykład prostego wektora, który znormalizujemy\n",
    "vec=[2,2,2,2]"
   ]
  },
  {
   "cell_type": "code",
   "execution_count": 7,
   "metadata": {},
   "outputs": [
    {
     "data": {
      "text/plain": [
       "16"
      ]
     },
     "execution_count": 7,
     "metadata": {},
     "output_type": "execute_result"
    }
   ],
   "source": [
    "# iloczyn skalarny = długość^2\n",
    "dot(vec,vec)"
   ]
  },
  {
   "cell_type": "code",
   "execution_count": 8,
   "metadata": {},
   "outputs": [
    {
     "data": {
      "text/plain": [
       "4-element Vector{Float64}:\n",
       " 0.5\n",
       " 0.5\n",
       " 0.5\n",
       " 0.5"
      ]
     },
     "execution_count": 8,
     "metadata": {},
     "output_type": "execute_result"
    }
   ],
   "source": [
    "# normalizacja - długość wektora =1\n",
    "normalize(vec)"
   ]
  },
  {
   "cell_type": "code",
   "execution_count": 9,
   "metadata": {},
   "outputs": [
    {
     "data": {
      "text/plain": [
       "1.0"
      ]
     },
     "execution_count": 9,
     "metadata": {},
     "output_type": "execute_result"
    }
   ],
   "source": [
    "# sprawdzamy długość^2\n",
    "dot(normalize(vec), normalize(vec))"
   ]
  },
  {
   "cell_type": "markdown",
   "metadata": {},
   "source": [
    "* 0bliczamy funkcję bazową uwzględniającą czynnik wagowy.\n",
    "$<P_m,P_n>=\\int_{-\\infty}^{\\infty} H_n(x)H_m(x)\\exp(-x^2)dx \n",
    "= \\int_{-\\infty}^{\\infty}\\underbrace{H_n(x)\\exp(-\\frac{x^2}{2})}_{\\text{funkcja bazowa}_n}\\underbrace{H_m(x)\\exp(-\\frac{x^2}{2})}_{\\text{funkcja bazowa}_m}$\n",
    "\n",
    "* Wyliczamy jej wartości dla podanych punktów x\n",
    "* Otrzymany wektor wartości normalizujemy\n"
   ]
  },
  {
   "cell_type": "code",
   "execution_count": 10,
   "metadata": {},
   "outputs": [
    {
     "data": {
      "text/plain": [
       "base_fun (generic function with 2 methods)"
      ]
     },
     "execution_count": 10,
     "metadata": {},
     "output_type": "execute_result"
    }
   ],
   "source": [
    "# obliczamy funkcję bazową\n",
    "# argument 'norm'  na potrzeby wykresów\n",
    "function base_fun(k, x, norm=true)\n",
    "    H_k = basis(Hermite, k).(x)\n",
    "    app = H_k .* exp.(-(x.^2)/2)\n",
    "    # normalize to have norm 1\n",
    "    if norm\n",
    "        return normalize(app)\n",
    "    end\n",
    "    return app\n",
    "end"
   ]
  },
  {
   "cell_type": "code",
   "execution_count": 11,
   "metadata": {
    "scrolled": true
   },
   "outputs": [],
   "source": [
    "y_2_unnorm = base_fun(2, xx, false);\n",
    "y_2_norm = base_fun(2, xx);"
   ]
  },
  {
   "cell_type": "code",
   "execution_count": 12,
   "metadata": {},
   "outputs": [
    {
     "data": {
      "image/svg+xml": [
       "<?xml version=\"1.0\" encoding=\"utf-8\"?>\n",
       "<svg xmlns=\"http://www.w3.org/2000/svg\" xmlns:xlink=\"http://www.w3.org/1999/xlink\" width=\"600\" height=\"400\" viewBox=\"0 0 2400 1600\">\n",
       "<defs>\n",
       "  <clipPath id=\"clip810\">\n",
       "    <rect x=\"0\" y=\"0\" width=\"2400\" height=\"1600\"/>\n",
       "  </clipPath>\n",
       "</defs>\n",
       "<path clip-path=\"url(#clip810)\" d=\"M0 1600 L2400 1600 L2400 0 L0 0  Z\" fill=\"#ffffff\" fill-rule=\"evenodd\" fill-opacity=\"1\"/>\n",
       "<defs>\n",
       "  <clipPath id=\"clip811\">\n",
       "    <rect x=\"480\" y=\"0\" width=\"1681\" height=\"1600\"/>\n",
       "  </clipPath>\n",
       "</defs>\n",
       "<path clip-path=\"url(#clip810)\" d=\"M147.108 1486.45 L2352.76 1486.45 L2352.76 47.2441 L147.108 47.2441  Z\" fill=\"#ffffff\" fill-rule=\"evenodd\" fill-opacity=\"1\"/>\n",
       "<defs>\n",
       "  <clipPath id=\"clip812\">\n",
       "    <rect x=\"147\" y=\"47\" width=\"2207\" height=\"1440\"/>\n",
       "  </clipPath>\n",
       "</defs>\n",
       "<polyline clip-path=\"url(#clip812)\" style=\"stroke:#000000; stroke-linecap:round; stroke-linejoin:round; stroke-width:2; stroke-opacity:0.1; fill:none\" points=\"417.612,1486.45 417.612,47.2441 \"/>\n",
       "<polyline clip-path=\"url(#clip812)\" style=\"stroke:#000000; stroke-linecap:round; stroke-linejoin:round; stroke-width:2; stroke-opacity:0.1; fill:none\" points=\"833.772,1486.45 833.772,47.2441 \"/>\n",
       "<polyline clip-path=\"url(#clip812)\" style=\"stroke:#000000; stroke-linecap:round; stroke-linejoin:round; stroke-width:2; stroke-opacity:0.1; fill:none\" points=\"1249.93,1486.45 1249.93,47.2441 \"/>\n",
       "<polyline clip-path=\"url(#clip812)\" style=\"stroke:#000000; stroke-linecap:round; stroke-linejoin:round; stroke-width:2; stroke-opacity:0.1; fill:none\" points=\"1666.09,1486.45 1666.09,47.2441 \"/>\n",
       "<polyline clip-path=\"url(#clip812)\" style=\"stroke:#000000; stroke-linecap:round; stroke-linejoin:round; stroke-width:2; stroke-opacity:0.1; fill:none\" points=\"2082.25,1486.45 2082.25,47.2441 \"/>\n",
       "<polyline clip-path=\"url(#clip810)\" style=\"stroke:#000000; stroke-linecap:round; stroke-linejoin:round; stroke-width:4; stroke-opacity:1; fill:none\" points=\"147.108,1486.45 2352.76,1486.45 \"/>\n",
       "<polyline clip-path=\"url(#clip810)\" style=\"stroke:#000000; stroke-linecap:round; stroke-linejoin:round; stroke-width:4; stroke-opacity:1; fill:none\" points=\"417.612,1486.45 417.612,1467.55 \"/>\n",
       "<polyline clip-path=\"url(#clip810)\" style=\"stroke:#000000; stroke-linecap:round; stroke-linejoin:round; stroke-width:4; stroke-opacity:1; fill:none\" points=\"833.772,1486.45 833.772,1467.55 \"/>\n",
       "<polyline clip-path=\"url(#clip810)\" style=\"stroke:#000000; stroke-linecap:round; stroke-linejoin:round; stroke-width:4; stroke-opacity:1; fill:none\" points=\"1249.93,1486.45 1249.93,1467.55 \"/>\n",
       "<polyline clip-path=\"url(#clip810)\" style=\"stroke:#000000; stroke-linecap:round; stroke-linejoin:round; stroke-width:4; stroke-opacity:1; fill:none\" points=\"1666.09,1486.45 1666.09,1467.55 \"/>\n",
       "<polyline clip-path=\"url(#clip810)\" style=\"stroke:#000000; stroke-linecap:round; stroke-linejoin:round; stroke-width:4; stroke-opacity:1; fill:none\" points=\"2082.25,1486.45 2082.25,1467.55 \"/>\n",
       "<path clip-path=\"url(#clip810)\" d=\"M386.512 1532.02 L416.188 1532.02 L416.188 1535.95 L386.512 1535.95 L386.512 1532.02 Z\" fill=\"#000000\" fill-rule=\"evenodd\" fill-opacity=\"1\" /><path clip-path=\"url(#clip810)\" d=\"M439.128 1518.36 L427.322 1536.81 L439.128 1536.81 L439.128 1518.36 M437.901 1514.29 L443.78 1514.29 L443.78 1536.81 L448.711 1536.81 L448.711 1540.7 L443.78 1540.7 L443.78 1548.85 L439.128 1548.85 L439.128 1540.7 L423.526 1540.7 L423.526 1536.19 L437.901 1514.29 Z\" fill=\"#000000\" fill-rule=\"evenodd\" fill-opacity=\"1\" /><path clip-path=\"url(#clip810)\" d=\"M803.714 1532.02 L833.39 1532.02 L833.39 1535.95 L803.714 1535.95 L803.714 1532.02 Z\" fill=\"#000000\" fill-rule=\"evenodd\" fill-opacity=\"1\" /><path clip-path=\"url(#clip810)\" d=\"M847.51 1544.91 L863.829 1544.91 L863.829 1548.85 L841.885 1548.85 L841.885 1544.91 Q844.547 1542.16 849.13 1537.53 Q853.737 1532.88 854.917 1531.53 Q857.163 1529.01 858.042 1527.27 Q858.945 1525.51 858.945 1523.82 Q858.945 1521.07 857.001 1519.33 Q855.079 1517.6 851.978 1517.6 Q849.779 1517.6 847.325 1518.36 Q844.894 1519.13 842.117 1520.68 L842.117 1515.95 Q844.941 1514.82 847.394 1514.24 Q849.848 1513.66 851.885 1513.66 Q857.255 1513.66 860.45 1516.35 Q863.644 1519.03 863.644 1523.52 Q863.644 1525.65 862.834 1527.57 Q862.047 1529.47 859.94 1532.07 Q859.362 1532.74 856.26 1535.95 Q853.158 1539.15 847.51 1544.91 Z\" fill=\"#000000\" fill-rule=\"evenodd\" fill-opacity=\"1\" /><path clip-path=\"url(#clip810)\" d=\"M1249.93 1517.37 Q1246.32 1517.37 1244.49 1520.93 Q1242.69 1524.47 1242.69 1531.6 Q1242.69 1538.71 1244.49 1542.27 Q1246.32 1545.82 1249.93 1545.82 Q1253.57 1545.82 1255.37 1542.27 Q1257.2 1538.71 1257.2 1531.6 Q1257.2 1524.47 1255.37 1520.93 Q1253.57 1517.37 1249.93 1517.37 M1249.93 1513.66 Q1255.74 1513.66 1258.8 1518.27 Q1261.88 1522.85 1261.88 1531.6 Q1261.88 1540.33 1258.8 1544.94 Q1255.74 1549.52 1249.93 1549.52 Q1244.12 1549.52 1241.04 1544.94 Q1237.99 1540.33 1237.99 1531.6 Q1237.99 1522.85 1241.04 1518.27 Q1244.12 1513.66 1249.93 1513.66 Z\" fill=\"#000000\" fill-rule=\"evenodd\" fill-opacity=\"1\" /><path clip-path=\"url(#clip810)\" d=\"M1660.74 1544.91 L1677.06 1544.91 L1677.06 1548.85 L1655.12 1548.85 L1655.12 1544.91 Q1657.78 1542.16 1662.36 1537.53 Q1666.97 1532.88 1668.15 1531.53 Q1670.4 1529.01 1671.28 1527.27 Q1672.18 1525.51 1672.18 1523.82 Q1672.18 1521.07 1670.24 1519.33 Q1668.31 1517.6 1665.21 1517.6 Q1663.01 1517.6 1660.56 1518.36 Q1658.13 1519.13 1655.35 1520.68 L1655.35 1515.95 Q1658.18 1514.82 1660.63 1514.24 Q1663.08 1513.66 1665.12 1513.66 Q1670.49 1513.66 1673.68 1516.35 Q1676.88 1519.03 1676.88 1523.52 Q1676.88 1525.65 1676.07 1527.57 Q1675.28 1529.47 1673.18 1532.07 Q1672.6 1532.74 1669.49 1535.95 Q1666.39 1539.15 1660.74 1544.91 Z\" fill=\"#000000\" fill-rule=\"evenodd\" fill-opacity=\"1\" /><path clip-path=\"url(#clip810)\" d=\"M2085.26 1518.36 L2073.46 1536.81 L2085.26 1536.81 L2085.26 1518.36 M2084.03 1514.29 L2089.91 1514.29 L2089.91 1536.81 L2094.84 1536.81 L2094.84 1540.7 L2089.91 1540.7 L2089.91 1548.85 L2085.26 1548.85 L2085.26 1540.7 L2069.66 1540.7 L2069.66 1536.19 L2084.03 1514.29 Z\" fill=\"#000000\" fill-rule=\"evenodd\" fill-opacity=\"1\" /><polyline clip-path=\"url(#clip812)\" style=\"stroke:#000000; stroke-linecap:round; stroke-linejoin:round; stroke-width:2; stroke-opacity:0.1; fill:none\" points=\"147.108,1445.72 2352.76,1445.72 \"/>\n",
       "<polyline clip-path=\"url(#clip812)\" style=\"stroke:#000000; stroke-linecap:round; stroke-linejoin:round; stroke-width:2; stroke-opacity:0.1; fill:none\" points=\"147.108,1144 2352.76,1144 \"/>\n",
       "<polyline clip-path=\"url(#clip812)\" style=\"stroke:#000000; stroke-linecap:round; stroke-linejoin:round; stroke-width:2; stroke-opacity:0.1; fill:none\" points=\"147.108,842.276 2352.76,842.276 \"/>\n",
       "<polyline clip-path=\"url(#clip812)\" style=\"stroke:#000000; stroke-linecap:round; stroke-linejoin:round; stroke-width:2; stroke-opacity:0.1; fill:none\" points=\"147.108,540.556 2352.76,540.556 \"/>\n",
       "<polyline clip-path=\"url(#clip812)\" style=\"stroke:#000000; stroke-linecap:round; stroke-linejoin:round; stroke-width:2; stroke-opacity:0.1; fill:none\" points=\"147.108,238.836 2352.76,238.836 \"/>\n",
       "<polyline clip-path=\"url(#clip810)\" style=\"stroke:#000000; stroke-linecap:round; stroke-linejoin:round; stroke-width:4; stroke-opacity:1; fill:none\" points=\"147.108,1486.45 147.108,47.2441 \"/>\n",
       "<polyline clip-path=\"url(#clip810)\" style=\"stroke:#000000; stroke-linecap:round; stroke-linejoin:round; stroke-width:4; stroke-opacity:1; fill:none\" points=\"147.108,1445.72 166.005,1445.72 \"/>\n",
       "<polyline clip-path=\"url(#clip810)\" style=\"stroke:#000000; stroke-linecap:round; stroke-linejoin:round; stroke-width:4; stroke-opacity:1; fill:none\" points=\"147.108,1144 166.005,1144 \"/>\n",
       "<polyline clip-path=\"url(#clip810)\" style=\"stroke:#000000; stroke-linecap:round; stroke-linejoin:round; stroke-width:4; stroke-opacity:1; fill:none\" points=\"147.108,842.276 166.005,842.276 \"/>\n",
       "<polyline clip-path=\"url(#clip810)\" style=\"stroke:#000000; stroke-linecap:round; stroke-linejoin:round; stroke-width:4; stroke-opacity:1; fill:none\" points=\"147.108,540.556 166.005,540.556 \"/>\n",
       "<polyline clip-path=\"url(#clip810)\" style=\"stroke:#000000; stroke-linecap:round; stroke-linejoin:round; stroke-width:4; stroke-opacity:1; fill:none\" points=\"147.108,238.836 166.005,238.836 \"/>\n",
       "<path clip-path=\"url(#clip810)\" d=\"M50.9921 1446.17 L80.6679 1446.17 L80.6679 1450.1 L50.9921 1450.1 L50.9921 1446.17 Z\" fill=\"#000000\" fill-rule=\"evenodd\" fill-opacity=\"1\" /><path clip-path=\"url(#clip810)\" d=\"M94.7882 1459.06 L111.108 1459.06 L111.108 1463 L89.1632 1463 L89.1632 1459.06 Q91.8252 1456.31 96.4085 1451.68 Q101.015 1447.02 102.196 1445.68 Q104.441 1443.16 105.321 1441.42 Q106.223 1439.66 106.223 1437.97 Q106.223 1435.22 104.279 1433.48 Q102.358 1431.75 99.2558 1431.75 Q97.0567 1431.75 94.603 1432.51 Q92.1725 1433.27 89.3947 1434.82 L89.3947 1430.1 Q92.2188 1428.97 94.6724 1428.39 Q97.1261 1427.81 99.1632 1427.81 Q104.534 1427.81 107.728 1430.5 Q110.922 1433.18 110.922 1437.67 Q110.922 1439.8 110.112 1441.72 Q109.325 1443.62 107.219 1446.21 Q106.64 1446.88 103.538 1450.1 Q100.436 1453.3 94.7882 1459.06 Z\" fill=\"#000000\" fill-rule=\"evenodd\" fill-opacity=\"1\" /><path clip-path=\"url(#clip810)\" d=\"M99.1632 1129.79 Q95.5521 1129.79 93.7234 1133.36 Q91.9178 1136.9 91.9178 1144.03 Q91.9178 1151.14 93.7234 1154.7 Q95.5521 1158.24 99.1632 1158.24 Q102.797 1158.24 104.603 1154.7 Q106.432 1151.14 106.432 1144.03 Q106.432 1136.9 104.603 1133.36 Q102.797 1129.79 99.1632 1129.79 M99.1632 1126.09 Q104.973 1126.09 108.029 1130.7 Q111.108 1135.28 111.108 1144.03 Q111.108 1152.76 108.029 1157.36 Q104.973 1161.95 99.1632 1161.95 Q93.353 1161.95 90.2743 1157.36 Q87.2188 1152.76 87.2188 1144.03 Q87.2188 1135.28 90.2743 1130.7 Q93.353 1126.09 99.1632 1126.09 Z\" fill=\"#000000\" fill-rule=\"evenodd\" fill-opacity=\"1\" /><path clip-path=\"url(#clip810)\" d=\"M94.7882 855.621 L111.108 855.621 L111.108 859.556 L89.1632 859.556 L89.1632 855.621 Q91.8252 852.866 96.4085 848.237 Q101.015 843.584 102.196 842.241 Q104.441 839.718 105.321 837.982 Q106.223 836.223 106.223 834.533 Q106.223 831.778 104.279 830.042 Q102.358 828.306 99.2558 828.306 Q97.0567 828.306 94.603 829.07 Q92.1725 829.834 89.3947 831.385 L89.3947 826.663 Q92.2188 825.528 94.6724 824.95 Q97.1261 824.371 99.1632 824.371 Q104.534 824.371 107.728 827.056 Q110.922 829.741 110.922 834.232 Q110.922 836.362 110.112 838.283 Q109.325 840.181 107.219 842.774 Q106.64 843.445 103.538 846.663 Q100.436 849.857 94.7882 855.621 Z\" fill=\"#000000\" fill-rule=\"evenodd\" fill-opacity=\"1\" /><path clip-path=\"url(#clip810)\" d=\"M101.524 527.35 L89.7188 545.799 L101.524 545.799 L101.524 527.35 M100.297 523.276 L106.177 523.276 L106.177 545.799 L111.108 545.799 L111.108 549.688 L106.177 549.688 L106.177 557.836 L101.524 557.836 L101.524 549.688 L85.9225 549.688 L85.9225 545.174 L100.297 523.276 Z\" fill=\"#000000\" fill-rule=\"evenodd\" fill-opacity=\"1\" /><path clip-path=\"url(#clip810)\" d=\"M99.5798 236.973 Q96.4317 236.973 94.5799 239.126 Q92.7512 241.278 92.7512 245.028 Q92.7512 248.755 94.5799 250.931 Q96.4317 253.084 99.5798 253.084 Q102.728 253.084 104.557 250.931 Q106.408 248.755 106.408 245.028 Q106.408 241.278 104.557 239.126 Q102.728 236.973 99.5798 236.973 M108.862 222.32 L108.862 226.579 Q107.103 225.746 105.297 225.306 Q103.515 224.866 101.756 224.866 Q97.1261 224.866 94.6724 227.991 Q92.2419 231.116 91.8947 237.436 Q93.2604 235.422 95.3206 234.357 Q97.3808 233.269 99.8576 233.269 Q105.066 233.269 108.075 236.44 Q111.108 239.589 111.108 245.028 Q111.108 250.352 107.959 253.57 Q104.811 256.788 99.5798 256.788 Q93.5845 256.788 90.4132 252.204 Q87.2419 247.598 87.2419 238.871 Q87.2419 230.677 91.1308 225.815 Q95.0197 220.931 101.571 220.931 Q103.33 220.931 105.112 221.278 Q106.918 221.626 108.862 222.32 Z\" fill=\"#000000\" fill-rule=\"evenodd\" fill-opacity=\"1\" /><polyline clip-path=\"url(#clip812)\" style=\"stroke:#009af9; stroke-linecap:round; stroke-linejoin:round; stroke-width:4; stroke-opacity:1; fill:none\" points=\"937.812,87.9763 944.054,141.743 950.296,194.423 956.539,246.017 962.781,296.525 969.024,345.947 975.266,394.282 981.508,441.532 987.751,487.695 993.993,532.772 1000.24,576.762 1006.48,619.667 1012.72,661.485 1018.96,702.218 1025.21,741.864 1031.45,780.423 1037.69,817.897 1043.93,854.284 1050.17,889.586 1056.42,923.801 1062.66,956.93 1068.9,988.972 1075.14,1019.93 1081.39,1049.8 1087.63,1078.58 1093.87,1106.28 1100.11,1132.89 1106.36,1158.42 1112.6,1182.86 1118.84,1206.21 1125.08,1228.48 1131.33,1249.66 1137.57,1269.75 1143.81,1288.76 1150.05,1306.68 1156.3,1323.52 1162.54,1339.27 1168.78,1353.93 1175.02,1367.51 1181.27,1380 1187.51,1391.41 1193.75,1401.72 1199.99,1410.96 1206.23,1419.1 1212.48,1426.16 1218.72,1432.14 1224.96,1437.03 1231.2,1440.83 1237.45,1443.54 1243.69,1445.17 1249.93,1445.72 1256.17,1445.17 1262.42,1443.54 1268.66,1440.83 1274.9,1437.03 1281.14,1432.14 1287.39,1426.16 1293.63,1419.1 1299.87,1410.96 1306.11,1401.72 1312.36,1391.41 1318.6,1380 1324.84,1367.51 1331.08,1353.93 1337.33,1339.27 1343.57,1323.52 1349.81,1306.68 1356.05,1288.76 1362.29,1269.75 1368.54,1249.66 1374.78,1228.48 1381.02,1206.21 1387.26,1182.86 1393.51,1158.42 1399.75,1132.89 1405.99,1106.28 1412.23,1078.58 1418.48,1049.8 1424.72,1019.93 1430.96,988.972 1437.2,956.93 1443.45,923.801 1449.69,889.586 1455.93,854.284 1462.17,817.897 1468.42,780.423 1474.66,741.864 1480.9,702.218 1487.14,661.485 1493.39,619.667 1499.63,576.762 1505.87,532.772 1512.11,487.695 1518.35,441.532 1524.6,394.282 1530.84,345.947 1537.08,296.525 1543.32,246.017 1549.57,194.423 1555.81,141.743 1562.05,87.9763 \"/>\n",
       "<polyline clip-path=\"url(#clip812)\" style=\"stroke:#e26f46; stroke-linecap:round; stroke-linejoin:round; stroke-width:4; stroke-opacity:1; fill:none\" points=\"209.532,1143.94 230.34,1143.91 251.148,1143.86 271.956,1143.79 292.764,1143.68 313.572,1143.52 334.38,1143.28 355.188,1142.95 375.996,1142.47 396.804,1141.79 417.612,1140.86 438.42,1139.58 459.228,1137.84 480.036,1135.52 500.844,1132.46 521.652,1128.49 542.46,1123.38 563.268,1116.92 584.076,1108.87 604.884,1098.98 625.692,1087.02 646.5,1072.78 667.308,1056.11 688.116,1036.97 708.924,1015.38 729.732,991.544 750.54,965.819 771.348,938.757 792.156,911.116 812.964,883.865 833.772,858.162 854.58,835.327 875.388,816.785 896.196,803.998 917.004,798.372 937.812,801.156 958.62,813.338 979.428,835.534 1000.24,867.894 1021.04,910.034 1041.85,960.993 1062.66,1019.23 1083.47,1082.65 1104.28,1148.72 1125.08,1214.56 1145.89,1277.13 1166.7,1333.39 1187.51,1380.52 1208.32,1416.08 1229.12,1438.21 1249.93,1445.72 1270.74,1438.21 1291.55,1416.08 1312.36,1380.52 1333.16,1333.39 1353.97,1277.13 1374.78,1214.56 1395.59,1148.72 1416.4,1082.65 1437.2,1019.23 1458.01,960.993 1478.82,910.034 1499.63,867.894 1520.44,835.534 1541.24,813.338 1562.05,801.156 1582.86,798.372 1603.67,803.998 1624.48,816.785 1645.28,835.327 1666.09,858.162 1686.9,883.865 1707.71,911.116 1728.52,938.757 1749.32,965.819 1770.13,991.544 1790.94,1015.38 1811.75,1036.97 1832.56,1056.11 1853.36,1072.78 1874.17,1087.02 1894.98,1098.98 1915.79,1108.87 1936.6,1116.92 1957.4,1123.38 1978.21,1128.49 1999.02,1132.46 2019.83,1135.52 2040.64,1137.84 2061.44,1139.58 2082.25,1140.86 2103.06,1141.79 2123.87,1142.47 2144.68,1142.95 2165.48,1143.28 2186.29,1143.52 2207.1,1143.68 2227.91,1143.79 2248.72,1143.86 2269.52,1143.91 2290.33,1143.94 \"/>\n",
       "<polyline clip-path=\"url(#clip812)\" style=\"stroke:#3da44d; stroke-linecap:round; stroke-linejoin:round; stroke-width:4; stroke-opacity:1; fill:none\" points=\"209.532,1143.99 230.34,1143.99 251.148,1143.98 271.956,1143.98 292.764,1143.97 313.572,1143.96 334.38,1143.94 355.188,1143.91 375.996,1143.87 396.804,1143.81 417.612,1143.73 438.42,1143.62 459.228,1143.48 480.036,1143.28 500.844,1143.03 521.652,1142.69 542.46,1142.26 563.268,1141.72 584.076,1141.05 604.884,1140.22 625.692,1139.21 646.5,1138.01 667.308,1136.62 688.116,1135.01 708.924,1133.19 729.732,1131.19 750.54,1129.03 771.348,1126.76 792.156,1124.44 812.964,1122.15 833.772,1119.99 854.58,1118.07 875.388,1116.52 896.196,1115.44 917.004,1114.97 937.812,1115.2 958.62,1116.23 979.428,1118.09 1000.24,1120.81 1021.04,1124.35 1041.85,1128.63 1062.66,1133.52 1083.47,1138.84 1104.28,1144.39 1125.08,1149.92 1145.89,1155.18 1166.7,1159.9 1187.51,1163.86 1208.32,1166.85 1229.12,1168.7 1249.93,1169.33 1270.74,1168.7 1291.55,1166.85 1312.36,1163.86 1333.16,1159.9 1353.97,1155.18 1374.78,1149.92 1395.59,1144.39 1416.4,1138.84 1437.2,1133.52 1458.01,1128.63 1478.82,1124.35 1499.63,1120.81 1520.44,1118.09 1541.24,1116.23 1562.05,1115.2 1582.86,1114.97 1603.67,1115.44 1624.48,1116.52 1645.28,1118.07 1666.09,1119.99 1686.9,1122.15 1707.71,1124.44 1728.52,1126.76 1749.32,1129.03 1770.13,1131.19 1790.94,1133.19 1811.75,1135.01 1832.56,1136.62 1853.36,1138.01 1874.17,1139.21 1894.98,1140.22 1915.79,1141.05 1936.6,1141.72 1957.4,1142.26 1978.21,1142.69 1999.02,1143.03 2019.83,1143.28 2040.64,1143.48 2061.44,1143.62 2082.25,1143.73 2103.06,1143.81 2123.87,1143.87 2144.68,1143.91 2165.48,1143.94 2186.29,1143.96 2207.1,1143.97 2227.91,1143.98 2248.72,1143.98 2269.52,1143.99 2290.33,1143.99 \"/>\n",
       "<path clip-path=\"url(#clip810)\" d=\"M1731.7 302.578 L2279.23 302.578 L2279.23 95.2176 L1731.7 95.2176  Z\" fill=\"#ffffff\" fill-rule=\"evenodd\" fill-opacity=\"1\"/>\n",
       "<polyline clip-path=\"url(#clip810)\" style=\"stroke:#000000; stroke-linecap:round; stroke-linejoin:round; stroke-width:4; stroke-opacity:1; fill:none\" points=\"1731.7,302.578 2279.23,302.578 2279.23,95.2176 1731.7,95.2176 1731.7,302.578 \"/>\n",
       "<polyline clip-path=\"url(#clip810)\" style=\"stroke:#009af9; stroke-linecap:round; stroke-linejoin:round; stroke-width:4; stroke-opacity:1; fill:none\" points=\"1756.21,147.058 1903.25,147.058 \"/>\n",
       "<path clip-path=\"url(#clip810)\" d=\"M1928.43 160.402 L1936.07 160.402 L1936.07 134.037 L1927.76 135.703 L1927.76 131.444 L1936.03 129.778 L1940.7 129.778 L1940.7 160.402 L1948.34 160.402 L1948.34 164.338 L1928.43 164.338 L1928.43 160.402 Z\" fill=\"#000000\" fill-rule=\"evenodd\" fill-opacity=\"1\" /><path clip-path=\"url(#clip810)\" d=\"M1957.78 144.94 L1962.67 144.94 L1962.67 150.819 L1957.78 150.819 L1957.78 144.94 Z\" fill=\"#000000\" fill-rule=\"evenodd\" fill-opacity=\"1\" /><path clip-path=\"url(#clip810)\" d=\"M1972.44 129.778 L1977.11 129.778 L1977.11 143.944 L1994.1 143.944 L1994.1 129.778 L1998.78 129.778 L1998.78 164.338 L1994.1 164.338 L1994.1 147.879 L1977.11 147.879 L1977.11 164.338 L1972.44 164.338 L1972.44 129.778 Z\" fill=\"#000000\" fill-rule=\"evenodd\" fill-opacity=\"1\" /><path clip-path=\"url(#clip810)\" d=\"M2009.64 161.699 L2019.45 161.699 L2019.45 164.338 L2005.61 164.338 L2005.61 161.791 Q2006.4 161.074 2007.85 159.777 Q2015.82 152.717 2015.82 150.541 Q2015.82 149.014 2014.61 148.088 Q2013.41 147.139 2011.44 147.139 Q2010.24 147.139 2008.83 147.555 Q2007.41 147.949 2005.75 148.759 L2005.75 145.912 Q2007.53 145.264 2009.06 144.94 Q2010.61 144.615 2011.93 144.615 Q2015.28 144.615 2017.3 146.143 Q2019.31 147.671 2019.31 150.171 Q2019.31 153.389 2011.65 159.963 Q2010.35 161.074 2009.64 161.699 Z\" fill=\"#000000\" fill-rule=\"evenodd\" fill-opacity=\"1\" /><path clip-path=\"url(#clip810)\" d=\"M2037.14 128.366 Q2034.03 133.69 2032.53 138.898 Q2031.02 144.106 2031.02 149.453 Q2031.02 154.801 2032.53 160.055 Q2034.06 165.287 2037.14 170.588 L2033.43 170.588 Q2029.96 165.148 2028.22 159.893 Q2026.51 154.639 2026.51 149.453 Q2026.51 144.291 2028.22 139.06 Q2029.94 133.828 2033.43 128.366 L2037.14 128.366 Z\" fill=\"#000000\" fill-rule=\"evenodd\" fill-opacity=\"1\" /><path clip-path=\"url(#clip810)\" d=\"M2066.95 138.412 L2057.58 151.027 L2067.44 164.338 L2062.41 164.338 L2054.87 154.152 L2047.32 164.338 L2042.3 164.338 L2052.37 150.773 L2043.15 138.412 L2048.18 138.412 L2055.05 147.648 L2061.93 138.412 L2066.95 138.412 Z\" fill=\"#000000\" fill-rule=\"evenodd\" fill-opacity=\"1\" /><path clip-path=\"url(#clip810)\" d=\"M2072.78 128.366 L2076.49 128.366 Q2079.96 133.828 2081.67 139.06 Q2083.41 144.291 2083.41 149.453 Q2083.41 154.639 2081.67 159.893 Q2079.96 165.148 2076.49 170.588 L2072.78 170.588 Q2075.86 165.287 2077.37 160.055 Q2078.89 154.801 2078.89 149.453 Q2078.89 144.106 2077.37 138.898 Q2075.86 133.69 2072.78 128.366 Z\" fill=\"#000000\" fill-rule=\"evenodd\" fill-opacity=\"1\" /><polyline clip-path=\"url(#clip810)\" style=\"stroke:#e26f46; stroke-linecap:round; stroke-linejoin:round; stroke-width:4; stroke-opacity:1; fill:none\" points=\"1756.21,198.898 1903.25,198.898 \"/>\n",
       "<path clip-path=\"url(#clip810)\" d=\"M1927.76 181.618 L1947.62 181.618 L1947.62 185.553 L1932.44 185.553 L1932.44 195.738 L1946.14 195.738 L1946.14 199.673 L1932.44 199.673 L1932.44 216.178 L1927.76 216.178 L1927.76 181.618 Z\" fill=\"#000000\" fill-rule=\"evenodd\" fill-opacity=\"1\" /><path clip-path=\"url(#clip810)\" d=\"M1959.47 212.242 L1975.79 212.242 L1975.79 216.178 L1953.85 216.178 L1953.85 212.242 Q1956.51 209.488 1961.09 204.858 Q1965.7 200.205 1966.88 198.863 Q1969.13 196.34 1970.01 194.604 Q1970.91 192.844 1970.91 191.155 Q1970.91 188.4 1968.96 186.664 Q1967.04 184.928 1963.94 184.928 Q1961.74 184.928 1959.29 185.692 Q1956.86 186.455 1954.08 188.006 L1954.08 183.284 Q1956.9 182.15 1959.36 181.571 Q1961.81 180.993 1963.85 180.993 Q1969.22 180.993 1972.41 183.678 Q1975.61 186.363 1975.61 190.854 Q1975.61 192.983 1974.8 194.905 Q1974.01 196.803 1971.9 199.395 Q1971.33 200.067 1968.22 203.284 Q1965.12 206.479 1959.47 212.242 Z\" fill=\"#000000\" fill-rule=\"evenodd\" fill-opacity=\"1\" /><polyline clip-path=\"url(#clip810)\" style=\"stroke:#3da44d; stroke-linecap:round; stroke-linejoin:round; stroke-width:4; stroke-opacity:1; fill:none\" points=\"1756.21,250.738 1903.25,250.738 \"/>\n",
       "<path clip-path=\"url(#clip810)\" d=\"M1927.76 233.458 L1947.62 233.458 L1947.62 237.393 L1932.44 237.393 L1932.44 247.578 L1946.14 247.578 L1946.14 251.513 L1932.44 251.513 L1932.44 268.018 L1927.76 268.018 L1927.76 233.458 Z\" fill=\"#000000\" fill-rule=\"evenodd\" fill-opacity=\"1\" /><path clip-path=\"url(#clip810)\" d=\"M1959.47 264.082 L1975.79 264.082 L1975.79 268.018 L1953.85 268.018 L1953.85 264.082 Q1956.51 261.328 1961.09 256.698 Q1965.7 252.045 1966.88 250.703 Q1969.13 248.18 1970.01 246.444 Q1970.91 244.684 1970.91 242.995 Q1970.91 240.24 1968.96 238.504 Q1967.04 236.768 1963.94 236.768 Q1961.74 236.768 1959.29 237.532 Q1956.86 238.295 1954.08 239.846 L1954.08 235.124 Q1956.9 233.99 1959.36 233.411 Q1961.81 232.833 1963.85 232.833 Q1969.22 232.833 1972.41 235.518 Q1975.61 238.203 1975.61 242.694 Q1975.61 244.823 1974.8 246.745 Q1974.01 248.643 1971.9 251.235 Q1971.33 251.907 1968.22 255.124 Q1965.12 258.319 1959.47 264.082 Z\" fill=\"#000000\" fill-rule=\"evenodd\" fill-opacity=\"1\" /><path clip-path=\"url(#clip810)\" d=\"M2021.63 252.369 L2021.63 268.018 L2017.37 268.018 L2017.37 252.508 Q2017.37 248.828 2015.93 246.999 Q2014.5 245.17 2011.63 245.17 Q2008.18 245.17 2006.19 247.37 Q2004.2 249.569 2004.2 253.365 L2004.2 268.018 L1999.91 268.018 L1999.91 242.092 L2004.2 242.092 L2004.2 246.12 Q2005.72 243.782 2007.78 242.624 Q2009.87 241.467 2012.58 241.467 Q2017.04 241.467 2019.33 244.245 Q2021.63 246.999 2021.63 252.369 Z\" fill=\"#000000\" fill-rule=\"evenodd\" fill-opacity=\"1\" /><path clip-path=\"url(#clip810)\" d=\"M2040.17 245.078 Q2036.74 245.078 2034.75 247.763 Q2032.76 250.425 2032.76 255.078 Q2032.76 259.731 2034.73 262.416 Q2036.72 265.078 2040.17 265.078 Q2043.57 265.078 2045.56 262.393 Q2047.55 259.707 2047.55 255.078 Q2047.55 250.471 2045.56 247.786 Q2043.57 245.078 2040.17 245.078 M2040.17 241.467 Q2045.72 241.467 2048.89 245.078 Q2052.07 248.689 2052.07 255.078 Q2052.07 261.444 2048.89 265.078 Q2045.72 268.689 2040.17 268.689 Q2034.59 268.689 2031.42 265.078 Q2028.27 261.444 2028.27 255.078 Q2028.27 248.689 2031.42 245.078 Q2034.59 241.467 2040.17 241.467 Z\" fill=\"#000000\" fill-rule=\"evenodd\" fill-opacity=\"1\" /><path clip-path=\"url(#clip810)\" d=\"M2074.15 246.073 Q2073.43 245.657 2072.58 245.471 Q2071.74 245.263 2070.72 245.263 Q2067.11 245.263 2065.17 247.624 Q2063.25 249.962 2063.25 254.36 L2063.25 268.018 L2058.96 268.018 L2058.96 242.092 L2063.25 242.092 L2063.25 246.12 Q2064.59 243.758 2066.74 242.624 Q2068.89 241.467 2071.97 241.467 Q2072.41 241.467 2072.95 241.536 Q2073.48 241.583 2074.13 241.698 L2074.15 246.073 Z\" fill=\"#000000\" fill-rule=\"evenodd\" fill-opacity=\"1\" /><path clip-path=\"url(#clip810)\" d=\"M2097.97 247.069 Q2099.57 244.198 2101.79 242.833 Q2104.01 241.467 2107.02 241.467 Q2111.07 241.467 2113.27 244.314 Q2115.47 247.138 2115.47 252.369 L2115.47 268.018 L2111.19 268.018 L2111.19 252.508 Q2111.19 248.782 2109.87 246.976 Q2108.55 245.17 2105.84 245.17 Q2102.53 245.17 2100.61 247.37 Q2098.69 249.569 2098.69 253.365 L2098.69 268.018 L2094.4 268.018 L2094.4 252.508 Q2094.4 248.758 2093.08 246.976 Q2091.76 245.17 2089.01 245.17 Q2085.75 245.17 2083.83 247.393 Q2081.9 249.592 2081.9 253.365 L2081.9 268.018 L2077.62 268.018 L2077.62 242.092 L2081.9 242.092 L2081.9 246.12 Q2083.36 243.735 2085.4 242.601 Q2087.44 241.467 2090.24 241.467 Q2093.06 241.467 2095.03 242.902 Q2097.02 244.337 2097.97 247.069 Z\" fill=\"#000000\" fill-rule=\"evenodd\" fill-opacity=\"1\" /><path clip-path=\"url(#clip810)\" d=\"M2135.75 254.985 Q2130.58 254.985 2128.59 256.166 Q2126.6 257.346 2126.6 260.194 Q2126.6 262.462 2128.08 263.805 Q2129.59 265.124 2132.16 265.124 Q2135.7 265.124 2137.83 262.624 Q2139.98 260.101 2139.98 255.934 L2139.98 254.985 L2135.75 254.985 M2144.24 253.226 L2144.24 268.018 L2139.98 268.018 L2139.98 264.082 Q2138.52 266.443 2136.35 267.578 Q2134.17 268.689 2131.02 268.689 Q2127.04 268.689 2124.68 266.467 Q2122.34 264.221 2122.34 260.471 Q2122.34 256.096 2125.26 253.874 Q2128.2 251.652 2134.01 251.652 L2139.98 251.652 L2139.98 251.235 Q2139.98 248.295 2138.04 246.698 Q2136.12 245.078 2132.62 245.078 Q2130.4 245.078 2128.29 245.61 Q2126.19 246.143 2124.24 247.207 L2124.24 243.272 Q2126.58 242.37 2128.78 241.93 Q2130.98 241.467 2133.06 241.467 Q2138.69 241.467 2141.46 244.383 Q2144.24 247.3 2144.24 253.226 Z\" fill=\"#000000\" fill-rule=\"evenodd\" fill-opacity=\"1\" /><path clip-path=\"url(#clip810)\" d=\"M2153.01 231.999 L2157.27 231.999 L2157.27 268.018 L2153.01 268.018 L2153.01 231.999 Z\" fill=\"#000000\" fill-rule=\"evenodd\" fill-opacity=\"1\" /><path clip-path=\"url(#clip810)\" d=\"M2166.19 242.092 L2170.45 242.092 L2170.45 268.018 L2166.19 268.018 L2166.19 242.092 M2166.19 231.999 L2170.45 231.999 L2170.45 237.393 L2166.19 237.393 L2166.19 231.999 Z\" fill=\"#000000\" fill-rule=\"evenodd\" fill-opacity=\"1\" /><path clip-path=\"url(#clip810)\" d=\"M2177.51 242.092 L2197.74 242.092 L2197.74 245.981 L2181.72 264.615 L2197.74 264.615 L2197.74 268.018 L2176.93 268.018 L2176.93 264.129 L2192.95 245.495 L2177.51 245.495 L2177.51 242.092 Z\" fill=\"#000000\" fill-rule=\"evenodd\" fill-opacity=\"1\" /><path clip-path=\"url(#clip810)\" d=\"M2226.42 253.99 L2226.42 256.073 L2206.83 256.073 Q2207.11 260.471 2209.47 262.786 Q2211.86 265.078 2216.09 265.078 Q2218.55 265.078 2220.84 264.476 Q2223.15 263.874 2225.42 262.67 L2225.42 266.698 Q2223.13 267.67 2220.72 268.18 Q2218.32 268.689 2215.84 268.689 Q2209.63 268.689 2206 265.078 Q2202.39 261.467 2202.39 255.309 Q2202.39 248.944 2205.82 245.217 Q2209.26 241.467 2215.1 241.467 Q2220.33 241.467 2223.36 244.846 Q2226.42 248.203 2226.42 253.99 M2222.16 252.74 Q2222.11 249.245 2220.19 247.161 Q2218.29 245.078 2215.14 245.078 Q2211.58 245.078 2209.43 247.092 Q2207.3 249.106 2206.97 252.763 L2222.16 252.74 Z\" fill=\"#000000\" fill-rule=\"evenodd\" fill-opacity=\"1\" /><path clip-path=\"url(#clip810)\" d=\"M2250.47 246.027 L2250.47 231.999 L2254.73 231.999 L2254.73 268.018 L2250.47 268.018 L2250.47 264.129 Q2249.13 266.443 2247.07 267.578 Q2245.03 268.689 2242.16 268.689 Q2237.46 268.689 2234.5 264.939 Q2231.56 261.189 2231.56 255.078 Q2231.56 248.967 2234.5 245.217 Q2237.46 241.467 2242.16 241.467 Q2245.03 241.467 2247.07 242.601 Q2249.13 243.712 2250.47 246.027 M2235.95 255.078 Q2235.95 259.777 2237.88 262.462 Q2239.82 265.124 2243.2 265.124 Q2246.58 265.124 2248.52 262.462 Q2250.47 259.777 2250.47 255.078 Q2250.47 250.379 2248.52 247.717 Q2246.58 245.032 2243.2 245.032 Q2239.82 245.032 2237.88 247.717 Q2235.95 250.379 2235.95 255.078 Z\" fill=\"#000000\" fill-rule=\"evenodd\" fill-opacity=\"1\" /></svg>\n"
      ]
     },
     "execution_count": 12,
     "metadata": {},
     "output_type": "execute_result"
    }
   ],
   "source": [
    "plot(Hermite([0, 0, 1]), -1.5, 1.5)\n",
    "plot!(xx, y_2_unnorm, label=\"F2\")\n",
    "plot!(xx, y_2_norm, label=\"F2 normalized\")"
   ]
  },
  {
   "cell_type": "markdown",
   "metadata": {},
   "source": [
    "Obliczamy wektory wartosci dla punktów w xx dla kilku kolejnych funkcji bazowych"
   ]
  },
  {
   "cell_type": "code",
   "execution_count": 13,
   "metadata": {},
   "outputs": [],
   "source": [
    "f0 = base_fun(0, xx, true);\n",
    "f1 = base_fun(1, xx, true);\n",
    "f2 = base_fun(2, xx, true);\n",
    "f3 = base_fun(3, xx, true);"
   ]
  },
  {
   "cell_type": "markdown",
   "metadata": {},
   "source": [
    "Sprawdźmy czy baza jest ortonormalna (uwaga: zamiast liczyć całkę, sprawdzamy po prostu iloczyn skalarny wektorów wartości)."
   ]
  },
  {
   "cell_type": "code",
   "execution_count": 14,
   "metadata": {},
   "outputs": [],
   "source": [
    "dot_base = Array{Float64, 2}(undef, 4, 4); \n",
    "\n",
    "for (i, f_i) in enumerate([f0, f1, f2, f3]) \n",
    "    for (j, f_j) in enumerate([f0, f1, f2, f3])\n",
    "        dot_base[i,j] = dot(f_i, f_j)\n",
    "    end\n",
    "end"
   ]
  },
  {
   "cell_type": "code",
   "execution_count": 15,
   "metadata": {},
   "outputs": [
    {
     "data": {
      "text/plain": [
       "4×4 Matrix{Float64}:\n",
       "  1.0           5.70888e-18  -3.25356e-11   5.32557e-18\n",
       "  5.70888e-18   1.0           8.46587e-18  -9.61163e-10\n",
       " -3.25356e-11   8.46587e-18   1.0          -7.22228e-18\n",
       "  5.32557e-18  -9.61163e-10  -7.22228e-18   1.0"
      ]
     },
     "execution_count": 15,
     "metadata": {},
     "output_type": "execute_result"
    }
   ],
   "source": [
    "dot_base"
   ]
  },
  {
   "cell_type": "markdown",
   "metadata": {},
   "source": [
    "OK, baza jest ortonormalna"
   ]
  },
  {
   "cell_type": "markdown",
   "metadata": {},
   "source": [
    "Obliczamy kolejne współczynniki aproksymacji. Dzięki ortonormalnej bazie, poszczególne współczynniki są iloczynami skalarnymi wektora wartości funkcji aproksymowanej oraz  wektora bazowego (analogia: rzut  wektora wartości funkcji aproksymowanej w kierunku wektora bazowego).\n",
    "\n",
    "Wektor bazowy jest znormalizowany $|\\vec{j}|=1$, co upraszcza obliczenia."
   ]
  },
  {
   "cell_type": "markdown",
   "metadata": {},
   "source": [
    "Analogia w 2D\n",
    "\n",
    "$\\text{rzut }\\vec{a} \\text{ w kierunku }  \\vec{j} =|\\vec{a}|\\cdot cos(\\angle(\\vec{a},\\vec{j}))=|\\vec{a}|\\cdot|\\vec{j}|\\cdot cos(\\angle(\\vec{a},\\vec{j}))=dot(\\vec{a},\\vec{j})$"
   ]
  },
  {
   "cell_type": "code",
   "execution_count": 16,
   "metadata": {},
   "outputs": [
    {
     "data": {
      "image/svg+xml": [
       "<?xml version=\"1.0\" encoding=\"utf-8\"?>\n",
       "<svg xmlns=\"http://www.w3.org/2000/svg\" xmlns:xlink=\"http://www.w3.org/1999/xlink\" width=\"600\" height=\"400\" viewBox=\"0 0 2400 1600\">\n",
       "<defs>\n",
       "  <clipPath id=\"clip850\">\n",
       "    <rect x=\"0\" y=\"0\" width=\"2400\" height=\"1600\"/>\n",
       "  </clipPath>\n",
       "</defs>\n",
       "<path clip-path=\"url(#clip850)\" d=\"M0 1600 L2400 1600 L2400 0 L0 0  Z\" fill=\"#ffffff\" fill-rule=\"evenodd\" fill-opacity=\"1\"/>\n",
       "<defs>\n",
       "  <clipPath id=\"clip851\">\n",
       "    <rect x=\"480\" y=\"0\" width=\"1681\" height=\"1600\"/>\n",
       "  </clipPath>\n",
       "</defs>\n",
       "<path clip-path=\"url(#clip850)\" d=\"M112.177 1486.45 L2352.76 1486.45 L2352.76 47.2441 L112.177 47.2441  Z\" fill=\"#ffffff\" fill-rule=\"evenodd\" fill-opacity=\"1\"/>\n",
       "<defs>\n",
       "  <clipPath id=\"clip852\">\n",
       "    <rect x=\"112\" y=\"47\" width=\"2242\" height=\"1440\"/>\n",
       "  </clipPath>\n",
       "</defs>\n",
       "<polyline clip-path=\"url(#clip852)\" style=\"stroke:#000000; stroke-linecap:round; stroke-linejoin:round; stroke-width:2; stroke-opacity:0.1; fill:none\" points=\"112.177,1486.45 112.177,47.2441 \"/>\n",
       "<polyline clip-path=\"url(#clip852)\" style=\"stroke:#000000; stroke-linecap:round; stroke-linejoin:round; stroke-width:2; stroke-opacity:0.1; fill:none\" points=\"859.037,1486.45 859.037,47.2441 \"/>\n",
       "<polyline clip-path=\"url(#clip852)\" style=\"stroke:#000000; stroke-linecap:round; stroke-linejoin:round; stroke-width:2; stroke-opacity:0.1; fill:none\" points=\"1605.9,1486.45 1605.9,47.2441 \"/>\n",
       "<polyline clip-path=\"url(#clip852)\" style=\"stroke:#000000; stroke-linecap:round; stroke-linejoin:round; stroke-width:2; stroke-opacity:0.1; fill:none\" points=\"2352.76,1486.45 2352.76,47.2441 \"/>\n",
       "<polyline clip-path=\"url(#clip850)\" style=\"stroke:#000000; stroke-linecap:round; stroke-linejoin:round; stroke-width:4; stroke-opacity:1; fill:none\" points=\"112.177,1486.45 2352.76,1486.45 \"/>\n",
       "<polyline clip-path=\"url(#clip850)\" style=\"stroke:#000000; stroke-linecap:round; stroke-linejoin:round; stroke-width:4; stroke-opacity:1; fill:none\" points=\"112.177,1486.45 112.177,1467.55 \"/>\n",
       "<polyline clip-path=\"url(#clip850)\" style=\"stroke:#000000; stroke-linecap:round; stroke-linejoin:round; stroke-width:4; stroke-opacity:1; fill:none\" points=\"859.037,1486.45 859.037,1467.55 \"/>\n",
       "<polyline clip-path=\"url(#clip850)\" style=\"stroke:#000000; stroke-linecap:round; stroke-linejoin:round; stroke-width:4; stroke-opacity:1; fill:none\" points=\"1605.9,1486.45 1605.9,1467.55 \"/>\n",
       "<polyline clip-path=\"url(#clip850)\" style=\"stroke:#000000; stroke-linecap:round; stroke-linejoin:round; stroke-width:4; stroke-opacity:1; fill:none\" points=\"2352.76,1486.45 2352.76,1467.55 \"/>\n",
       "<path clip-path=\"url(#clip850)\" d=\"M112.177 1517.37 Q108.566 1517.37 106.737 1520.93 Q104.932 1524.47 104.932 1531.6 Q104.932 1538.71 106.737 1542.27 Q108.566 1545.82 112.177 1545.82 Q115.811 1545.82 117.617 1542.27 Q119.446 1538.71 119.446 1531.6 Q119.446 1524.47 117.617 1520.93 Q115.811 1517.37 112.177 1517.37 M112.177 1513.66 Q117.987 1513.66 121.043 1518.27 Q124.122 1522.85 124.122 1531.6 Q124.122 1540.33 121.043 1544.94 Q117.987 1549.52 112.177 1549.52 Q106.367 1549.52 103.288 1544.94 Q100.233 1540.33 100.233 1531.6 Q100.233 1522.85 103.288 1518.27 Q106.367 1513.66 112.177 1513.66 Z\" fill=\"#000000\" fill-rule=\"evenodd\" fill-opacity=\"1\" /><path clip-path=\"url(#clip850)\" d=\"M849.419 1544.91 L857.058 1544.91 L857.058 1518.55 L848.747 1520.21 L848.747 1515.95 L857.011 1514.29 L861.687 1514.29 L861.687 1544.91 L869.326 1544.91 L869.326 1548.85 L849.419 1548.85 L849.419 1544.91 Z\" fill=\"#000000\" fill-rule=\"evenodd\" fill-opacity=\"1\" /><path clip-path=\"url(#clip850)\" d=\"M1600.55 1544.91 L1616.87 1544.91 L1616.87 1548.85 L1594.92 1548.85 L1594.92 1544.91 Q1597.59 1542.16 1602.17 1537.53 Q1606.78 1532.88 1607.96 1531.53 Q1610.2 1529.01 1611.08 1527.27 Q1611.98 1525.51 1611.98 1523.82 Q1611.98 1521.07 1610.04 1519.33 Q1608.12 1517.6 1605.02 1517.6 Q1602.82 1517.6 1600.36 1518.36 Q1597.93 1519.13 1595.16 1520.68 L1595.16 1515.95 Q1597.98 1514.82 1600.43 1514.24 Q1602.89 1513.66 1604.92 1513.66 Q1610.29 1513.66 1613.49 1516.35 Q1616.68 1519.03 1616.68 1523.52 Q1616.68 1525.65 1615.87 1527.57 Q1615.09 1529.47 1612.98 1532.07 Q1612.4 1532.74 1609.3 1535.95 Q1606.2 1539.15 1600.55 1544.91 Z\" fill=\"#000000\" fill-rule=\"evenodd\" fill-opacity=\"1\" /><path clip-path=\"url(#clip850)\" d=\"M2357 1530.21 Q2360.36 1530.93 2362.24 1533.2 Q2364.13 1535.47 2364.13 1538.8 Q2364.13 1543.92 2360.61 1546.72 Q2357.1 1549.52 2350.61 1549.52 Q2348.44 1549.52 2346.12 1549.08 Q2343.83 1548.66 2341.38 1547.81 L2341.38 1543.29 Q2343.32 1544.43 2345.64 1545.01 Q2347.95 1545.58 2350.48 1545.58 Q2354.87 1545.58 2357.17 1543.85 Q2359.48 1542.11 2359.48 1538.8 Q2359.48 1535.75 2357.33 1534.03 Q2355.2 1532.3 2351.38 1532.3 L2347.35 1532.3 L2347.35 1528.45 L2351.56 1528.45 Q2355.01 1528.45 2356.84 1527.09 Q2358.67 1525.7 2358.67 1523.11 Q2358.67 1520.45 2356.77 1519.03 Q2354.9 1517.6 2351.38 1517.6 Q2349.46 1517.6 2347.26 1518.01 Q2345.06 1518.43 2342.42 1519.31 L2342.42 1515.14 Q2345.08 1514.4 2347.4 1514.03 Q2349.74 1513.66 2351.8 1513.66 Q2357.12 1513.66 2360.22 1516.09 Q2363.32 1518.5 2363.32 1522.62 Q2363.32 1525.49 2361.68 1527.48 Q2360.04 1529.45 2357 1530.21 Z\" fill=\"#000000\" fill-rule=\"evenodd\" fill-opacity=\"1\" /><polyline clip-path=\"url(#clip852)\" style=\"stroke:#000000; stroke-linecap:round; stroke-linejoin:round; stroke-width:2; stroke-opacity:0.1; fill:none\" points=\"112.177,1486.45 2352.76,1486.45 \"/>\n",
       "<polyline clip-path=\"url(#clip852)\" style=\"stroke:#000000; stroke-linecap:round; stroke-linejoin:round; stroke-width:2; stroke-opacity:0.1; fill:none\" points=\"112.177,1126.65 2352.76,1126.65 \"/>\n",
       "<polyline clip-path=\"url(#clip852)\" style=\"stroke:#000000; stroke-linecap:round; stroke-linejoin:round; stroke-width:2; stroke-opacity:0.1; fill:none\" points=\"112.177,766.846 2352.76,766.846 \"/>\n",
       "<polyline clip-path=\"url(#clip852)\" style=\"stroke:#000000; stroke-linecap:round; stroke-linejoin:round; stroke-width:2; stroke-opacity:0.1; fill:none\" points=\"112.177,407.045 2352.76,407.045 \"/>\n",
       "<polyline clip-path=\"url(#clip852)\" style=\"stroke:#000000; stroke-linecap:round; stroke-linejoin:round; stroke-width:2; stroke-opacity:0.1; fill:none\" points=\"112.177,47.2441 2352.76,47.2441 \"/>\n",
       "<polyline clip-path=\"url(#clip850)\" style=\"stroke:#000000; stroke-linecap:round; stroke-linejoin:round; stroke-width:4; stroke-opacity:1; fill:none\" points=\"112.177,1486.45 112.177,47.2441 \"/>\n",
       "<polyline clip-path=\"url(#clip850)\" style=\"stroke:#000000; stroke-linecap:round; stroke-linejoin:round; stroke-width:4; stroke-opacity:1; fill:none\" points=\"112.177,1486.45 131.075,1486.45 \"/>\n",
       "<polyline clip-path=\"url(#clip850)\" style=\"stroke:#000000; stroke-linecap:round; stroke-linejoin:round; stroke-width:4; stroke-opacity:1; fill:none\" points=\"112.177,1126.65 131.075,1126.65 \"/>\n",
       "<polyline clip-path=\"url(#clip850)\" style=\"stroke:#000000; stroke-linecap:round; stroke-linejoin:round; stroke-width:4; stroke-opacity:1; fill:none\" points=\"112.177,766.846 131.075,766.846 \"/>\n",
       "<polyline clip-path=\"url(#clip850)\" style=\"stroke:#000000; stroke-linecap:round; stroke-linejoin:round; stroke-width:4; stroke-opacity:1; fill:none\" points=\"112.177,407.045 131.075,407.045 \"/>\n",
       "<polyline clip-path=\"url(#clip850)\" style=\"stroke:#000000; stroke-linecap:round; stroke-linejoin:round; stroke-width:4; stroke-opacity:1; fill:none\" points=\"112.177,47.2441 131.075,47.2441 \"/>\n",
       "<path clip-path=\"url(#clip850)\" d=\"M64.2328 1472.25 Q60.6217 1472.25 58.793 1475.81 Q56.9875 1479.35 56.9875 1486.48 Q56.9875 1493.59 58.793 1497.15 Q60.6217 1500.7 64.2328 1500.7 Q67.867 1500.7 69.6726 1497.15 Q71.5013 1493.59 71.5013 1486.48 Q71.5013 1479.35 69.6726 1475.81 Q67.867 1472.25 64.2328 1472.25 M64.2328 1468.54 Q70.0429 1468.54 73.0985 1473.15 Q76.1772 1477.73 76.1772 1486.48 Q76.1772 1495.21 73.0985 1499.82 Q70.0429 1504.4 64.2328 1504.4 Q58.4226 1504.4 55.344 1499.82 Q52.2884 1495.21 52.2884 1486.48 Q52.2884 1477.73 55.344 1473.15 Q58.4226 1468.54 64.2328 1468.54 Z\" fill=\"#000000\" fill-rule=\"evenodd\" fill-opacity=\"1\" /><path clip-path=\"url(#clip850)\" d=\"M56.2699 1139.99 L63.9087 1139.99 L63.9087 1113.63 L55.5986 1115.29 L55.5986 1111.03 L63.8624 1109.37 L68.5383 1109.37 L68.5383 1139.99 L76.1772 1139.99 L76.1772 1143.93 L56.2699 1143.93 L56.2699 1139.99 Z\" fill=\"#000000\" fill-rule=\"evenodd\" fill-opacity=\"1\" /><path clip-path=\"url(#clip850)\" d=\"M59.8578 780.191 L76.1772 780.191 L76.1772 784.126 L54.2328 784.126 L54.2328 780.191 Q56.8949 777.436 61.4782 772.807 Q66.0846 768.154 67.2652 766.811 Q69.5105 764.288 70.3902 762.552 Q71.2929 760.793 71.2929 759.103 Q71.2929 756.348 69.3485 754.612 Q67.4272 752.876 64.3254 752.876 Q62.1263 752.876 59.6726 753.64 Q57.2421 754.404 54.4643 755.955 L54.4643 751.233 Q57.2884 750.098 59.7421 749.52 Q62.1958 748.941 64.2328 748.941 Q69.6031 748.941 72.7976 751.626 Q75.992 754.311 75.992 758.802 Q75.992 760.932 75.1818 762.853 Q74.3948 764.751 72.2883 767.344 Q71.7096 768.015 68.6078 771.233 Q65.5059 774.427 59.8578 780.191 Z\" fill=\"#000000\" fill-rule=\"evenodd\" fill-opacity=\"1\" /><path clip-path=\"url(#clip850)\" d=\"M69.0476 405.691 Q72.404 406.408 74.279 408.677 Q76.1772 410.945 76.1772 414.279 Q76.1772 419.395 72.6587 422.195 Q69.1402 424.996 62.6587 424.996 Q60.4828 424.996 58.168 424.557 Q55.8764 424.14 53.4227 423.283 L53.4227 418.77 Q55.3671 419.904 57.6819 420.482 Q59.9967 421.061 62.5198 421.061 Q66.918 421.061 69.2096 419.325 Q71.5244 417.589 71.5244 414.279 Q71.5244 411.223 69.3717 409.51 Q67.242 407.774 63.4226 407.774 L59.3949 407.774 L59.3949 403.932 L63.6078 403.932 Q67.0569 403.932 68.8855 402.566 Q70.7142 401.177 70.7142 398.584 Q70.7142 395.922 68.8161 394.51 Q66.9411 393.075 63.4226 393.075 Q61.5013 393.075 59.3023 393.492 Q57.1032 393.909 54.4643 394.788 L54.4643 390.622 Q57.1264 389.881 59.4412 389.51 Q61.7791 389.14 63.8393 389.14 Q69.1633 389.14 72.2652 391.571 Q75.367 393.978 75.367 398.098 Q75.367 400.969 73.7235 402.959 Q72.08 404.927 69.0476 405.691 Z\" fill=\"#000000\" fill-rule=\"evenodd\" fill-opacity=\"1\" /><path clip-path=\"url(#clip850)\" d=\"M66.5939 34.0381 L54.7884 52.4871 L66.5939 52.4871 L66.5939 34.0381 M65.367 29.9641 L71.2466 29.9641 L71.2466 52.4871 L76.1772 52.4871 L76.1772 56.376 L71.2466 56.376 L71.2466 64.5241 L66.5939 64.5241 L66.5939 56.376 L50.9921 56.376 L50.9921 51.8621 L65.367 29.9641 Z\" fill=\"#000000\" fill-rule=\"evenodd\" fill-opacity=\"1\" /><polyline clip-path=\"url(#clip852)\" style=\"stroke:#009af9; stroke-linecap:round; stroke-linejoin:round; stroke-width:4; stroke-opacity:1; fill:none\" points=\"112.177,1486.45 1605.9,407.045 \"/>\n",
       "<polyline clip-path=\"url(#clip852)\" style=\"stroke:#009af9; stroke-linecap:round; stroke-linejoin:round; stroke-width:4; stroke-opacity:1; fill:none\" points=\"1566.17,413.541 1605.9,407.045 1587.26,442.72 \"/>\n",
       "<polyline clip-path=\"url(#clip852)\" style=\"stroke:#009af9; stroke-linecap:round; stroke-linejoin:round; stroke-width:4; stroke-opacity:1; fill:none\" points=\"1605.9,407.045 112.177,1486.45 \"/>\n",
       "<polyline clip-path=\"url(#clip852)\" style=\"stroke:#e26f46; stroke-linecap:round; stroke-linejoin:round; stroke-width:4; stroke-opacity:1; fill:none\" points=\"112.177,1486.45 1605.9,1486.45 \"/>\n",
       "<polyline clip-path=\"url(#clip852)\" style=\"stroke:#e26f46; stroke-linecap:round; stroke-linejoin:round; stroke-width:4; stroke-opacity:1; fill:none\" points=\"1569.9,1468.45 1605.9,1486.45 1569.9,1504.45 \"/>\n",
       "<polyline clip-path=\"url(#clip852)\" style=\"stroke:#e26f46; stroke-linecap:round; stroke-linejoin:round; stroke-width:4; stroke-opacity:1; fill:none\" points=\"1605.9,1486.45 112.177,1486.45 \"/>\n",
       "<polyline clip-path=\"url(#clip852)\" style=\"stroke:#3da44d; stroke-linecap:round; stroke-linejoin:round; stroke-width:4; stroke-opacity:1; fill:none\" points=\"112.177,1479.25 859.037,1479.25 \"/>\n",
       "<polyline clip-path=\"url(#clip852)\" style=\"stroke:#3da44d; stroke-linecap:round; stroke-linejoin:round; stroke-width:4; stroke-opacity:1; fill:none\" points=\"823.037,1461.25 859.037,1479.25 823.037,1497.25 \"/>\n",
       "<polyline clip-path=\"url(#clip852)\" style=\"stroke:#3da44d; stroke-linecap:round; stroke-linejoin:round; stroke-width:4; stroke-opacity:1; fill:none\" points=\"859.037,1479.25 112.177,1479.25 \"/>\n",
       "<path clip-path=\"url(#clip850)\" d=\"M1854.66 302.578 L2278.07 302.578 L2278.07 95.2176 L1854.66 95.2176  Z\" fill=\"#ffffff\" fill-rule=\"evenodd\" fill-opacity=\"1\"/>\n",
       "<polyline clip-path=\"url(#clip850)\" style=\"stroke:#000000; stroke-linecap:round; stroke-linejoin:round; stroke-width:4; stroke-opacity:1; fill:none\" points=\"1854.66,302.578 2278.07,302.578 2278.07,95.2176 1854.66,95.2176 1854.66,302.578 \"/>\n",
       "<polyline clip-path=\"url(#clip850)\" style=\"stroke:#009af9; stroke-linecap:round; stroke-linejoin:round; stroke-width:4; stroke-opacity:1; fill:none\" points=\"1879.56,147.058 2028.93,147.058 \"/>\n",
       "<path clip-path=\"url(#clip850)\" d=\"M2067.23 151.305 Q2062.06 151.305 2060.07 152.486 Q2058.08 153.666 2058.08 156.514 Q2058.08 158.782 2059.56 160.125 Q2061.07 161.444 2063.64 161.444 Q2067.18 161.444 2069.31 158.944 Q2071.46 156.421 2071.46 152.254 L2071.46 151.305 L2067.23 151.305 M2075.72 149.546 L2075.72 164.338 L2071.46 164.338 L2071.46 160.402 Q2070 162.763 2067.83 163.898 Q2065.65 165.009 2062.5 165.009 Q2058.52 165.009 2056.16 162.787 Q2053.82 160.541 2053.82 156.791 Q2053.82 152.416 2056.74 150.194 Q2059.68 147.972 2065.49 147.972 L2071.46 147.972 L2071.46 147.555 Q2071.46 144.615 2069.52 143.018 Q2067.6 141.398 2064.1 141.398 Q2061.88 141.398 2059.77 141.93 Q2057.67 142.463 2055.72 143.527 L2055.72 139.592 Q2058.06 138.69 2060.26 138.25 Q2062.46 137.787 2064.54 137.787 Q2070.17 137.787 2072.94 140.703 Q2075.72 143.62 2075.72 149.546 Z\" fill=\"#000000\" fill-rule=\"evenodd\" fill-opacity=\"1\" /><polyline clip-path=\"url(#clip850)\" style=\"stroke:#e26f46; stroke-linecap:round; stroke-linejoin:round; stroke-width:4; stroke-opacity:1; fill:none\" points=\"1879.56,198.898 2028.93,198.898 \"/>\n",
       "<path clip-path=\"url(#clip850)\" d=\"M2069.01 194.233 Q2068.29 193.817 2067.43 193.631 Q2066.6 193.423 2065.58 193.423 Q2061.97 193.423 2060.03 195.784 Q2058.11 198.122 2058.11 202.52 L2058.11 216.178 L2053.82 216.178 L2053.82 190.252 L2058.11 190.252 L2058.11 194.28 Q2059.45 191.918 2061.6 190.784 Q2063.75 189.627 2066.83 189.627 Q2067.27 189.627 2067.81 189.696 Q2068.34 189.743 2068.99 189.858 L2069.01 194.233 Z\" fill=\"#000000\" fill-rule=\"evenodd\" fill-opacity=\"1\" /><path clip-path=\"url(#clip850)\" d=\"M2071.62 190.252 L2091.86 190.252 L2091.86 194.141 L2075.84 212.775 L2091.86 212.775 L2091.86 216.178 L2071.05 216.178 L2071.05 212.289 L2087.06 193.655 L2071.62 193.655 L2071.62 190.252 Z\" fill=\"#000000\" fill-rule=\"evenodd\" fill-opacity=\"1\" /><path clip-path=\"url(#clip850)\" d=\"M2097.92 205.946 L2097.92 190.252 L2102.18 190.252 L2102.18 205.784 Q2102.18 209.465 2103.62 211.316 Q2105.05 213.145 2107.92 213.145 Q2111.37 213.145 2113.36 210.946 Q2115.37 208.747 2115.37 204.951 L2115.37 190.252 L2119.63 190.252 L2119.63 216.178 L2115.37 216.178 L2115.37 212.196 Q2113.82 214.557 2111.76 215.715 Q2109.73 216.849 2107.02 216.849 Q2102.55 216.849 2100.24 214.071 Q2097.92 211.293 2097.92 205.946 M2108.64 189.627 L2108.64 189.627 Z\" fill=\"#000000\" fill-rule=\"evenodd\" fill-opacity=\"1\" /><path clip-path=\"url(#clip850)\" d=\"M2132.62 182.891 L2132.62 190.252 L2141.39 190.252 L2141.39 193.562 L2132.62 193.562 L2132.62 207.636 Q2132.62 210.807 2133.48 211.71 Q2134.36 212.613 2137.02 212.613 L2141.39 212.613 L2141.39 216.178 L2137.02 216.178 Q2132.09 216.178 2130.21 214.349 Q2128.34 212.497 2128.34 207.636 L2128.34 193.562 L2125.21 193.562 L2125.21 190.252 L2128.34 190.252 L2128.34 182.891 L2132.62 182.891 Z\" fill=\"#000000\" fill-rule=\"evenodd\" fill-opacity=\"1\" /><path clip-path=\"url(#clip850)\" d=\"M2173.85 203.145 Q2168.68 203.145 2166.69 204.326 Q2164.7 205.506 2164.7 208.354 Q2164.7 210.622 2166.18 211.965 Q2167.69 213.284 2170.26 213.284 Q2173.8 213.284 2175.93 210.784 Q2178.08 208.261 2178.08 204.094 L2178.08 203.145 L2173.85 203.145 M2182.34 201.386 L2182.34 216.178 L2178.08 216.178 L2178.08 212.242 Q2176.62 214.603 2174.45 215.738 Q2172.27 216.849 2169.12 216.849 Q2165.14 216.849 2162.78 214.627 Q2160.44 212.381 2160.44 208.631 Q2160.44 204.256 2163.36 202.034 Q2166.3 199.812 2172.11 199.812 L2178.08 199.812 L2178.08 199.395 Q2178.08 196.455 2176.14 194.858 Q2174.22 193.238 2170.72 193.238 Q2168.5 193.238 2166.39 193.77 Q2164.29 194.303 2162.34 195.367 L2162.34 191.432 Q2164.68 190.53 2166.88 190.09 Q2169.08 189.627 2171.16 189.627 Q2176.79 189.627 2179.56 192.543 Q2182.34 195.46 2182.34 201.386 Z\" fill=\"#000000\" fill-rule=\"evenodd\" fill-opacity=\"1\" /><polyline clip-path=\"url(#clip850)\" style=\"stroke:#3da44d; stroke-linecap:round; stroke-linejoin:round; stroke-width:4; stroke-opacity:1; fill:none\" points=\"1879.56,250.738 2028.93,250.738 \"/>\n",
       "<path clip-path=\"url(#clip850)\" d=\"M2072.6 255.078 Q2072.6 250.379 2070.65 247.717 Q2068.73 245.032 2065.35 245.032 Q2061.97 245.032 2060.03 247.717 Q2058.11 250.379 2058.11 255.078 Q2058.11 259.777 2060.03 262.462 Q2061.97 265.124 2065.35 265.124 Q2068.73 265.124 2070.65 262.462 Q2072.6 259.777 2072.6 255.078 M2058.11 246.027 Q2059.45 243.712 2061.49 242.601 Q2063.55 241.467 2066.39 241.467 Q2071.12 241.467 2074.06 245.217 Q2077.02 248.967 2077.02 255.078 Q2077.02 261.189 2074.06 264.939 Q2071.12 268.689 2066.39 268.689 Q2063.55 268.689 2061.49 267.578 Q2059.45 266.443 2058.11 264.129 L2058.11 268.018 L2053.82 268.018 L2053.82 231.999 L2058.11 231.999 L2058.11 246.027 Z\" fill=\"#000000\" fill-rule=\"evenodd\" fill-opacity=\"1\" /><path clip-path=\"url(#clip850)\" d=\"M2095.86 254.985 Q2090.7 254.985 2088.71 256.166 Q2086.72 257.346 2086.72 260.194 Q2086.72 262.462 2088.2 263.805 Q2089.7 265.124 2092.27 265.124 Q2095.81 265.124 2097.94 262.624 Q2100.1 260.101 2100.1 255.934 L2100.1 254.985 L2095.86 254.985 M2104.36 253.226 L2104.36 268.018 L2100.1 268.018 L2100.1 264.082 Q2098.64 266.443 2096.46 267.578 Q2094.29 268.689 2091.14 268.689 Q2087.16 268.689 2084.8 266.467 Q2082.46 264.221 2082.46 260.471 Q2082.46 256.096 2085.37 253.874 Q2088.31 251.652 2094.12 251.652 L2100.1 251.652 L2100.1 251.235 Q2100.1 248.295 2098.15 246.698 Q2096.23 245.078 2092.74 245.078 Q2090.51 245.078 2088.41 245.61 Q2086.3 246.143 2084.36 247.207 L2084.36 243.272 Q2086.69 242.37 2088.89 241.93 Q2091.09 241.467 2093.18 241.467 Q2098.8 241.467 2101.58 244.383 Q2104.36 247.3 2104.36 253.226 Z\" fill=\"#000000\" fill-rule=\"evenodd\" fill-opacity=\"1\" /><path clip-path=\"url(#clip850)\" d=\"M2111.28 242.092 L2131.51 242.092 L2131.51 245.981 L2115.49 264.615 L2131.51 264.615 L2131.51 268.018 L2110.7 268.018 L2110.7 264.129 L2126.72 245.495 L2111.28 245.495 L2111.28 242.092 Z\" fill=\"#000000\" fill-rule=\"evenodd\" fill-opacity=\"1\" /><path clip-path=\"url(#clip850)\" d=\"M2148.06 245.078 Q2144.63 245.078 2142.64 247.763 Q2140.65 250.425 2140.65 255.078 Q2140.65 259.731 2142.62 262.416 Q2144.61 265.078 2148.06 265.078 Q2151.46 265.078 2153.45 262.393 Q2155.44 259.707 2155.44 255.078 Q2155.44 250.471 2153.45 247.786 Q2151.46 245.078 2148.06 245.078 M2148.06 241.467 Q2153.61 241.467 2156.79 245.078 Q2159.96 248.689 2159.96 255.078 Q2159.96 261.444 2156.79 265.078 Q2153.61 268.689 2148.06 268.689 Q2142.48 268.689 2139.31 265.078 Q2136.16 261.444 2136.16 255.078 Q2136.16 248.689 2139.31 245.078 Q2142.48 241.467 2148.06 241.467 Z\" fill=\"#000000\" fill-rule=\"evenodd\" fill-opacity=\"1\" /><path clip-path=\"url(#clip850)\" d=\"M2164.54 242.092 L2168.8 242.092 L2174.12 262.323 L2179.43 242.092 L2184.45 242.092 L2189.77 262.323 L2195.07 242.092 L2199.33 242.092 L2192.55 268.018 L2187.53 268.018 L2181.95 246.768 L2176.35 268.018 L2171.32 268.018 L2164.54 242.092 Z\" fill=\"#000000\" fill-rule=\"evenodd\" fill-opacity=\"1\" /><path clip-path=\"url(#clip850)\" d=\"M2216.58 270.425 Q2214.77 275.055 2213.06 276.467 Q2211.35 277.879 2208.48 277.879 L2205.07 277.879 L2205.07 274.314 L2207.57 274.314 Q2209.33 274.314 2210.3 273.48 Q2211.28 272.647 2212.46 269.545 L2213.22 267.601 L2202.74 242.092 L2207.25 242.092 L2215.35 262.369 L2223.45 242.092 L2227.97 242.092 L2216.58 270.425 Z\" fill=\"#000000\" fill-rule=\"evenodd\" fill-opacity=\"1\" /><path clip-path=\"url(#clip850)\" d=\"M2248.92 242.092 L2253.17 242.092 L2253.17 268.481 Q2253.17 273.434 2251.28 275.656 Q2249.4 277.879 2245.21 277.879 L2243.59 277.879 L2243.59 274.268 L2244.73 274.268 Q2247.16 274.268 2248.04 273.133 Q2248.92 272.022 2248.92 268.481 L2248.92 242.092 M2248.92 231.999 L2253.17 231.999 L2253.17 237.393 L2248.92 237.393 L2248.92 231.999 Z\" fill=\"#000000\" fill-rule=\"evenodd\" fill-opacity=\"1\" /></svg>\n"
      ]
     },
     "execution_count": 16,
     "metadata": {},
     "output_type": "execute_result"
    }
   ],
   "source": [
    "plot([0,2],[0,3],xrange=[0,3], yrange=[0,4],arrow=true, label=\"a\")\n",
    "plot!([0,2],[0,0],xrange=[0,3], yrange=[0,4],arrow=true, label=\"rzut a\")\n",
    "plot!([0,1],[0.02,0.02],xrange=[0,3], yrange=[0,4],arrow=true, label=\"bazowy j\")"
   ]
  },
  {
   "cell_type": "code",
   "execution_count": 17,
   "metadata": {},
   "outputs": [
    {
     "data": {
      "text/plain": [
       "(5.687293444762257, -0.9197134978024951, 2.6184141628565176, -0.6990329510401282)"
      ]
     },
     "execution_count": 17,
     "metadata": {},
     "output_type": "execute_result"
    }
   ],
   "source": [
    "c0 = dot(yy, f0)\n",
    "c1 = dot(yy, f1)\n",
    "c2 = dot(yy, f2)\n",
    "c3 = dot(yy, f3)\n",
    "c0, c1, c2, c3"
   ]
  },
  {
   "cell_type": "markdown",
   "metadata": {},
   "source": [
    "Liczymy wartości aproksymowane kolejnymi stopniami"
   ]
  },
  {
   "cell_type": "code",
   "execution_count": 18,
   "metadata": {},
   "outputs": [],
   "source": [
    "y_app_0 = c0*f0;\n",
    "y_app_1 = c1*f1;\n",
    "y_app_2 = c2*f2;\n",
    "y_app_3 = c3*f3;"
   ]
  },
  {
   "cell_type": "code",
   "execution_count": 19,
   "metadata": {},
   "outputs": [],
   "source": [
    "y_app_01 = y_app_0 + y_app_1;\n",
    "y_app_012 = y_app_01 + y_app_2;\n",
    "y_app_0123 = y_app_012 + y_app_3;"
   ]
  },
  {
   "cell_type": "code",
   "execution_count": 20,
   "metadata": {},
   "outputs": [
    {
     "data": {
      "image/svg+xml": [
       "<?xml version=\"1.0\" encoding=\"utf-8\"?>\n",
       "<svg xmlns=\"http://www.w3.org/2000/svg\" xmlns:xlink=\"http://www.w3.org/1999/xlink\" width=\"600\" height=\"400\" viewBox=\"0 0 2400 1600\">\n",
       "<defs>\n",
       "  <clipPath id=\"clip890\">\n",
       "    <rect x=\"0\" y=\"0\" width=\"2400\" height=\"1600\"/>\n",
       "  </clipPath>\n",
       "</defs>\n",
       "<path clip-path=\"url(#clip890)\" d=\"M0 1600 L2400 1600 L2400 0 L0 0  Z\" fill=\"#ffffff\" fill-rule=\"evenodd\" fill-opacity=\"1\"/>\n",
       "<defs>\n",
       "  <clipPath id=\"clip891\">\n",
       "    <rect x=\"480\" y=\"0\" width=\"1681\" height=\"1600\"/>\n",
       "  </clipPath>\n",
       "</defs>\n",
       "<path clip-path=\"url(#clip890)\" d=\"M186.274 1486.45 L2352.76 1486.45 L2352.76 47.2441 L186.274 47.2441  Z\" fill=\"#ffffff\" fill-rule=\"evenodd\" fill-opacity=\"1\"/>\n",
       "<defs>\n",
       "  <clipPath id=\"clip892\">\n",
       "    <rect x=\"186\" y=\"47\" width=\"2167\" height=\"1440\"/>\n",
       "  </clipPath>\n",
       "</defs>\n",
       "<polyline clip-path=\"url(#clip892)\" style=\"stroke:#000000; stroke-linecap:round; stroke-linejoin:round; stroke-width:2; stroke-opacity:0.1; fill:none\" points=\"451.975,1486.45 451.975,47.2441 \"/>\n",
       "<polyline clip-path=\"url(#clip892)\" style=\"stroke:#000000; stroke-linecap:round; stroke-linejoin:round; stroke-width:2; stroke-opacity:0.1; fill:none\" points=\"860.745,1486.45 860.745,47.2441 \"/>\n",
       "<polyline clip-path=\"url(#clip892)\" style=\"stroke:#000000; stroke-linecap:round; stroke-linejoin:round; stroke-width:2; stroke-opacity:0.1; fill:none\" points=\"1269.51,1486.45 1269.51,47.2441 \"/>\n",
       "<polyline clip-path=\"url(#clip892)\" style=\"stroke:#000000; stroke-linecap:round; stroke-linejoin:round; stroke-width:2; stroke-opacity:0.1; fill:none\" points=\"1678.29,1486.45 1678.29,47.2441 \"/>\n",
       "<polyline clip-path=\"url(#clip892)\" style=\"stroke:#000000; stroke-linecap:round; stroke-linejoin:round; stroke-width:2; stroke-opacity:0.1; fill:none\" points=\"2087.06,1486.45 2087.06,47.2441 \"/>\n",
       "<polyline clip-path=\"url(#clip890)\" style=\"stroke:#000000; stroke-linecap:round; stroke-linejoin:round; stroke-width:4; stroke-opacity:1; fill:none\" points=\"186.274,1486.45 2352.76,1486.45 \"/>\n",
       "<polyline clip-path=\"url(#clip890)\" style=\"stroke:#000000; stroke-linecap:round; stroke-linejoin:round; stroke-width:4; stroke-opacity:1; fill:none\" points=\"451.975,1486.45 451.975,1467.55 \"/>\n",
       "<polyline clip-path=\"url(#clip890)\" style=\"stroke:#000000; stroke-linecap:round; stroke-linejoin:round; stroke-width:4; stroke-opacity:1; fill:none\" points=\"860.745,1486.45 860.745,1467.55 \"/>\n",
       "<polyline clip-path=\"url(#clip890)\" style=\"stroke:#000000; stroke-linecap:round; stroke-linejoin:round; stroke-width:4; stroke-opacity:1; fill:none\" points=\"1269.51,1486.45 1269.51,1467.55 \"/>\n",
       "<polyline clip-path=\"url(#clip890)\" style=\"stroke:#000000; stroke-linecap:round; stroke-linejoin:round; stroke-width:4; stroke-opacity:1; fill:none\" points=\"1678.29,1486.45 1678.29,1467.55 \"/>\n",
       "<polyline clip-path=\"url(#clip890)\" style=\"stroke:#000000; stroke-linecap:round; stroke-linejoin:round; stroke-width:4; stroke-opacity:1; fill:none\" points=\"2087.06,1486.45 2087.06,1467.55 \"/>\n",
       "<path clip-path=\"url(#clip890)\" d=\"M420.875 1532.02 L450.551 1532.02 L450.551 1535.95 L420.875 1535.95 L420.875 1532.02 Z\" fill=\"#000000\" fill-rule=\"evenodd\" fill-opacity=\"1\" /><path clip-path=\"url(#clip890)\" d=\"M473.491 1518.36 L461.685 1536.81 L473.491 1536.81 L473.491 1518.36 M472.264 1514.29 L478.143 1514.29 L478.143 1536.81 L483.074 1536.81 L483.074 1540.7 L478.143 1540.7 L478.143 1548.85 L473.491 1548.85 L473.491 1540.7 L457.889 1540.7 L457.889 1536.19 L472.264 1514.29 Z\" fill=\"#000000\" fill-rule=\"evenodd\" fill-opacity=\"1\" /><path clip-path=\"url(#clip890)\" d=\"M830.687 1532.02 L860.363 1532.02 L860.363 1535.95 L830.687 1535.95 L830.687 1532.02 Z\" fill=\"#000000\" fill-rule=\"evenodd\" fill-opacity=\"1\" /><path clip-path=\"url(#clip890)\" d=\"M874.483 1544.91 L890.802 1544.91 L890.802 1548.85 L868.858 1548.85 L868.858 1544.91 Q871.52 1542.16 876.103 1537.53 Q880.71 1532.88 881.891 1531.53 Q884.136 1529.01 885.015 1527.27 Q885.918 1525.51 885.918 1523.82 Q885.918 1521.07 883.974 1519.33 Q882.053 1517.6 878.951 1517.6 Q876.752 1517.6 874.298 1518.36 Q871.867 1519.13 869.09 1520.68 L869.09 1515.95 Q871.914 1514.82 874.367 1514.24 Q876.821 1513.66 878.858 1513.66 Q884.228 1513.66 887.423 1516.35 Q890.617 1519.03 890.617 1523.52 Q890.617 1525.65 889.807 1527.57 Q889.02 1529.47 886.914 1532.07 Q886.335 1532.74 883.233 1535.95 Q880.131 1539.15 874.483 1544.91 Z\" fill=\"#000000\" fill-rule=\"evenodd\" fill-opacity=\"1\" /><path clip-path=\"url(#clip890)\" d=\"M1269.51 1517.37 Q1265.9 1517.37 1264.08 1520.93 Q1262.27 1524.47 1262.27 1531.6 Q1262.27 1538.71 1264.08 1542.27 Q1265.9 1545.82 1269.51 1545.82 Q1273.15 1545.82 1274.95 1542.27 Q1276.78 1538.71 1276.78 1531.6 Q1276.78 1524.47 1274.95 1520.93 Q1273.15 1517.37 1269.51 1517.37 M1269.51 1513.66 Q1275.33 1513.66 1278.38 1518.27 Q1281.46 1522.85 1281.46 1531.6 Q1281.46 1540.33 1278.38 1544.94 Q1275.33 1549.52 1269.51 1549.52 Q1263.7 1549.52 1260.63 1544.94 Q1257.57 1540.33 1257.57 1531.6 Q1257.57 1522.85 1260.63 1518.27 Q1263.7 1513.66 1269.51 1513.66 Z\" fill=\"#000000\" fill-rule=\"evenodd\" fill-opacity=\"1\" /><path clip-path=\"url(#clip890)\" d=\"M1672.94 1544.91 L1689.26 1544.91 L1689.26 1548.85 L1667.31 1548.85 L1667.31 1544.91 Q1669.97 1542.16 1674.56 1537.53 Q1679.16 1532.88 1680.35 1531.53 Q1682.59 1529.01 1683.47 1527.27 Q1684.37 1525.51 1684.37 1523.82 Q1684.37 1521.07 1682.43 1519.33 Q1680.51 1517.6 1677.41 1517.6 Q1675.21 1517.6 1672.75 1518.36 Q1670.32 1519.13 1667.54 1520.68 L1667.54 1515.95 Q1670.37 1514.82 1672.82 1514.24 Q1675.28 1513.66 1677.31 1513.66 Q1682.68 1513.66 1685.88 1516.35 Q1689.07 1519.03 1689.07 1523.52 Q1689.07 1525.65 1688.26 1527.57 Q1687.47 1529.47 1685.37 1532.07 Q1684.79 1532.74 1681.69 1535.95 Q1678.59 1539.15 1672.94 1544.91 Z\" fill=\"#000000\" fill-rule=\"evenodd\" fill-opacity=\"1\" /><path clip-path=\"url(#clip890)\" d=\"M2090.06 1518.36 L2078.26 1536.81 L2090.06 1536.81 L2090.06 1518.36 M2088.84 1514.29 L2094.72 1514.29 L2094.72 1536.81 L2099.65 1536.81 L2099.65 1540.7 L2094.72 1540.7 L2094.72 1548.85 L2090.06 1548.85 L2090.06 1540.7 L2074.46 1540.7 L2074.46 1536.19 L2088.84 1514.29 Z\" fill=\"#000000\" fill-rule=\"evenodd\" fill-opacity=\"1\" /><polyline clip-path=\"url(#clip892)\" style=\"stroke:#000000; stroke-linecap:round; stroke-linejoin:round; stroke-width:2; stroke-opacity:0.1; fill:none\" points=\"186.274,1445.71 2352.76,1445.71 \"/>\n",
       "<polyline clip-path=\"url(#clip892)\" style=\"stroke:#000000; stroke-linecap:round; stroke-linejoin:round; stroke-width:2; stroke-opacity:0.1; fill:none\" points=\"186.274,1200.58 2352.76,1200.58 \"/>\n",
       "<polyline clip-path=\"url(#clip892)\" style=\"stroke:#000000; stroke-linecap:round; stroke-linejoin:round; stroke-width:2; stroke-opacity:0.1; fill:none\" points=\"186.274,955.448 2352.76,955.448 \"/>\n",
       "<polyline clip-path=\"url(#clip892)\" style=\"stroke:#000000; stroke-linecap:round; stroke-linejoin:round; stroke-width:2; stroke-opacity:0.1; fill:none\" points=\"186.274,710.317 2352.76,710.317 \"/>\n",
       "<polyline clip-path=\"url(#clip892)\" style=\"stroke:#000000; stroke-linecap:round; stroke-linejoin:round; stroke-width:2; stroke-opacity:0.1; fill:none\" points=\"186.274,465.185 2352.76,465.185 \"/>\n",
       "<polyline clip-path=\"url(#clip892)\" style=\"stroke:#000000; stroke-linecap:round; stroke-linejoin:round; stroke-width:2; stroke-opacity:0.1; fill:none\" points=\"186.274,220.054 2352.76,220.054 \"/>\n",
       "<polyline clip-path=\"url(#clip890)\" style=\"stroke:#000000; stroke-linecap:round; stroke-linejoin:round; stroke-width:4; stroke-opacity:1; fill:none\" points=\"186.274,1486.45 186.274,47.2441 \"/>\n",
       "<polyline clip-path=\"url(#clip890)\" style=\"stroke:#000000; stroke-linecap:round; stroke-linejoin:round; stroke-width:4; stroke-opacity:1; fill:none\" points=\"186.274,1445.71 205.172,1445.71 \"/>\n",
       "<polyline clip-path=\"url(#clip890)\" style=\"stroke:#000000; stroke-linecap:round; stroke-linejoin:round; stroke-width:4; stroke-opacity:1; fill:none\" points=\"186.274,1200.58 205.172,1200.58 \"/>\n",
       "<polyline clip-path=\"url(#clip890)\" style=\"stroke:#000000; stroke-linecap:round; stroke-linejoin:round; stroke-width:4; stroke-opacity:1; fill:none\" points=\"186.274,955.448 205.172,955.448 \"/>\n",
       "<polyline clip-path=\"url(#clip890)\" style=\"stroke:#000000; stroke-linecap:round; stroke-linejoin:round; stroke-width:4; stroke-opacity:1; fill:none\" points=\"186.274,710.317 205.172,710.317 \"/>\n",
       "<polyline clip-path=\"url(#clip890)\" style=\"stroke:#000000; stroke-linecap:round; stroke-linejoin:round; stroke-width:4; stroke-opacity:1; fill:none\" points=\"186.274,465.185 205.172,465.185 \"/>\n",
       "<polyline clip-path=\"url(#clip890)\" style=\"stroke:#000000; stroke-linecap:round; stroke-linejoin:round; stroke-width:4; stroke-opacity:1; fill:none\" points=\"186.274,220.054 205.172,220.054 \"/>\n",
       "<path clip-path=\"url(#clip890)\" d=\"M62.9365 1431.51 Q59.3254 1431.51 57.4967 1435.07 Q55.6912 1438.62 55.6912 1445.75 Q55.6912 1452.85 57.4967 1456.42 Q59.3254 1459.96 62.9365 1459.96 Q66.5707 1459.96 68.3763 1456.42 Q70.205 1452.85 70.205 1445.75 Q70.205 1438.62 68.3763 1435.07 Q66.5707 1431.51 62.9365 1431.51 M62.9365 1427.81 Q68.7467 1427.81 71.8022 1432.41 Q74.8809 1437 74.8809 1445.75 Q74.8809 1454.47 71.8022 1459.08 Q68.7467 1463.66 62.9365 1463.66 Q57.1264 1463.66 54.0477 1459.08 Q50.9921 1454.47 50.9921 1445.75 Q50.9921 1437 54.0477 1432.41 Q57.1264 1427.81 62.9365 1427.81 Z\" fill=\"#000000\" fill-rule=\"evenodd\" fill-opacity=\"1\" /><path clip-path=\"url(#clip890)\" d=\"M83.0984 1457.11 L87.9827 1457.11 L87.9827 1462.99 L83.0984 1462.99 L83.0984 1457.11 Z\" fill=\"#000000\" fill-rule=\"evenodd\" fill-opacity=\"1\" /><path clip-path=\"url(#clip890)\" d=\"M108.168 1431.51 Q104.557 1431.51 102.728 1435.07 Q100.922 1438.62 100.922 1445.75 Q100.922 1452.85 102.728 1456.42 Q104.557 1459.96 108.168 1459.96 Q111.802 1459.96 113.608 1456.42 Q115.436 1452.85 115.436 1445.75 Q115.436 1438.62 113.608 1435.07 Q111.802 1431.51 108.168 1431.51 M108.168 1427.81 Q113.978 1427.81 117.033 1432.41 Q120.112 1437 120.112 1445.75 Q120.112 1454.47 117.033 1459.08 Q113.978 1463.66 108.168 1463.66 Q102.358 1463.66 99.2789 1459.08 Q96.2234 1454.47 96.2234 1445.75 Q96.2234 1437 99.2789 1432.41 Q102.358 1427.81 108.168 1427.81 Z\" fill=\"#000000\" fill-rule=\"evenodd\" fill-opacity=\"1\" /><path clip-path=\"url(#clip890)\" d=\"M138.33 1431.51 Q134.719 1431.51 132.89 1435.07 Q131.084 1438.62 131.084 1445.75 Q131.084 1452.85 132.89 1456.42 Q134.719 1459.96 138.33 1459.96 Q141.964 1459.96 143.769 1456.42 Q145.598 1452.85 145.598 1445.75 Q145.598 1438.62 143.769 1435.07 Q141.964 1431.51 138.33 1431.51 M138.33 1427.81 Q144.14 1427.81 147.195 1432.41 Q150.274 1437 150.274 1445.75 Q150.274 1454.47 147.195 1459.08 Q144.14 1463.66 138.33 1463.66 Q132.519 1463.66 129.441 1459.08 Q126.385 1454.47 126.385 1445.75 Q126.385 1437 129.441 1432.41 Q132.519 1427.81 138.33 1427.81 Z\" fill=\"#000000\" fill-rule=\"evenodd\" fill-opacity=\"1\" /><path clip-path=\"url(#clip890)\" d=\"M63.9319 1186.38 Q60.3208 1186.38 58.4921 1189.94 Q56.6865 1193.48 56.6865 1200.61 Q56.6865 1207.72 58.4921 1211.29 Q60.3208 1214.83 63.9319 1214.83 Q67.5661 1214.83 69.3717 1211.29 Q71.2004 1207.72 71.2004 1200.61 Q71.2004 1193.48 69.3717 1189.94 Q67.5661 1186.38 63.9319 1186.38 M63.9319 1182.67 Q69.742 1182.67 72.7976 1187.28 Q75.8763 1191.86 75.8763 1200.61 Q75.8763 1209.34 72.7976 1213.95 Q69.742 1218.53 63.9319 1218.53 Q58.1217 1218.53 55.043 1213.95 Q51.9875 1209.34 51.9875 1200.61 Q51.9875 1191.86 55.043 1187.28 Q58.1217 1182.67 63.9319 1182.67 Z\" fill=\"#000000\" fill-rule=\"evenodd\" fill-opacity=\"1\" /><path clip-path=\"url(#clip890)\" d=\"M84.0938 1211.98 L88.978 1211.98 L88.978 1217.86 L84.0938 1217.86 L84.0938 1211.98 Z\" fill=\"#000000\" fill-rule=\"evenodd\" fill-opacity=\"1\" /><path clip-path=\"url(#clip890)\" d=\"M103.191 1213.92 L119.51 1213.92 L119.51 1217.86 L97.566 1217.86 L97.566 1213.92 Q100.228 1211.17 104.811 1206.54 Q109.418 1201.89 110.598 1200.55 Q112.844 1198.02 113.723 1196.29 Q114.626 1194.53 114.626 1192.84 Q114.626 1190.08 112.682 1188.35 Q110.76 1186.61 107.658 1186.61 Q105.459 1186.61 103.006 1187.37 Q100.575 1188.14 97.7974 1189.69 L97.7974 1184.97 Q100.621 1183.83 103.075 1183.25 Q105.529 1182.67 107.566 1182.67 Q112.936 1182.67 116.131 1185.36 Q119.325 1188.05 119.325 1192.54 Q119.325 1194.67 118.515 1196.59 Q117.728 1198.48 115.621 1201.08 Q115.043 1201.75 111.941 1204.97 Q108.839 1208.16 103.191 1213.92 Z\" fill=\"#000000\" fill-rule=\"evenodd\" fill-opacity=\"1\" /><path clip-path=\"url(#clip890)\" d=\"M129.371 1183.3 L147.728 1183.3 L147.728 1187.23 L133.654 1187.23 L133.654 1195.71 Q134.672 1195.36 135.691 1195.2 Q136.709 1195.01 137.728 1195.01 Q143.515 1195.01 146.894 1198.18 Q150.274 1201.36 150.274 1206.77 Q150.274 1212.35 146.802 1215.45 Q143.33 1218.53 137.01 1218.53 Q134.834 1218.53 132.566 1218.16 Q130.32 1217.79 127.913 1217.05 L127.913 1212.35 Q129.996 1213.48 132.219 1214.04 Q134.441 1214.6 136.918 1214.6 Q140.922 1214.6 143.26 1212.49 Q145.598 1210.38 145.598 1206.77 Q145.598 1203.16 143.26 1201.05 Q140.922 1198.95 136.918 1198.95 Q135.043 1198.95 133.168 1199.36 Q131.316 1199.78 129.371 1200.66 L129.371 1183.3 Z\" fill=\"#000000\" fill-rule=\"evenodd\" fill-opacity=\"1\" /><path clip-path=\"url(#clip890)\" d=\"M62.9365 941.247 Q59.3254 941.247 57.4967 944.812 Q55.6912 948.353 55.6912 955.483 Q55.6912 962.589 57.4967 966.154 Q59.3254 969.696 62.9365 969.696 Q66.5707 969.696 68.3763 966.154 Q70.205 962.589 70.205 955.483 Q70.205 948.353 68.3763 944.812 Q66.5707 941.247 62.9365 941.247 M62.9365 937.543 Q68.7467 937.543 71.8022 942.15 Q74.8809 946.733 74.8809 955.483 Q74.8809 964.21 71.8022 968.816 Q68.7467 973.4 62.9365 973.4 Q57.1264 973.4 54.0477 968.816 Q50.9921 964.21 50.9921 955.483 Q50.9921 946.733 54.0477 942.15 Q57.1264 937.543 62.9365 937.543 Z\" fill=\"#000000\" fill-rule=\"evenodd\" fill-opacity=\"1\" /><path clip-path=\"url(#clip890)\" d=\"M83.0984 966.849 L87.9827 966.849 L87.9827 972.728 L83.0984 972.728 L83.0984 966.849 Z\" fill=\"#000000\" fill-rule=\"evenodd\" fill-opacity=\"1\" /><path clip-path=\"url(#clip890)\" d=\"M98.2141 938.168 L116.57 938.168 L116.57 942.103 L102.496 942.103 L102.496 950.576 Q103.515 950.228 104.534 950.066 Q105.552 949.881 106.571 949.881 Q112.358 949.881 115.737 953.052 Q119.117 956.224 119.117 961.64 Q119.117 967.219 115.645 970.321 Q112.172 973.4 105.853 973.4 Q103.677 973.4 101.409 973.029 Q99.1632 972.659 96.7558 971.918 L96.7558 967.219 Q98.8391 968.353 101.061 968.909 Q103.284 969.464 105.76 969.464 Q109.765 969.464 112.103 967.358 Q114.441 965.251 114.441 961.64 Q114.441 958.029 112.103 955.923 Q109.765 953.816 105.76 953.816 Q103.885 953.816 102.01 954.233 Q100.159 954.65 98.2141 955.529 L98.2141 938.168 Z\" fill=\"#000000\" fill-rule=\"evenodd\" fill-opacity=\"1\" /><path clip-path=\"url(#clip890)\" d=\"M138.33 941.247 Q134.719 941.247 132.89 944.812 Q131.084 948.353 131.084 955.483 Q131.084 962.589 132.89 966.154 Q134.719 969.696 138.33 969.696 Q141.964 969.696 143.769 966.154 Q145.598 962.589 145.598 955.483 Q145.598 948.353 143.769 944.812 Q141.964 941.247 138.33 941.247 M138.33 937.543 Q144.14 937.543 147.195 942.15 Q150.274 946.733 150.274 955.483 Q150.274 964.21 147.195 968.816 Q144.14 973.4 138.33 973.4 Q132.519 973.4 129.441 968.816 Q126.385 964.21 126.385 955.483 Q126.385 946.733 129.441 942.15 Q132.519 937.543 138.33 937.543 Z\" fill=\"#000000\" fill-rule=\"evenodd\" fill-opacity=\"1\" /><path clip-path=\"url(#clip890)\" d=\"M63.9319 696.115 Q60.3208 696.115 58.4921 699.68 Q56.6865 703.222 56.6865 710.351 Q56.6865 717.458 58.4921 721.023 Q60.3208 724.564 63.9319 724.564 Q67.5661 724.564 69.3717 721.023 Q71.2004 717.458 71.2004 710.351 Q71.2004 703.222 69.3717 699.68 Q67.5661 696.115 63.9319 696.115 M63.9319 692.412 Q69.742 692.412 72.7976 697.018 Q75.8763 701.601 75.8763 710.351 Q75.8763 719.078 72.7976 723.685 Q69.742 728.268 63.9319 728.268 Q58.1217 728.268 55.043 723.685 Q51.9875 719.078 51.9875 710.351 Q51.9875 701.601 55.043 697.018 Q58.1217 692.412 63.9319 692.412 Z\" fill=\"#000000\" fill-rule=\"evenodd\" fill-opacity=\"1\" /><path clip-path=\"url(#clip890)\" d=\"M84.0938 721.717 L88.978 721.717 L88.978 727.597 L84.0938 727.597 L84.0938 721.717 Z\" fill=\"#000000\" fill-rule=\"evenodd\" fill-opacity=\"1\" /><path clip-path=\"url(#clip890)\" d=\"M97.9826 693.037 L120.205 693.037 L120.205 695.027 L107.658 727.597 L102.774 727.597 L114.58 696.972 L97.9826 696.972 L97.9826 693.037 Z\" fill=\"#000000\" fill-rule=\"evenodd\" fill-opacity=\"1\" /><path clip-path=\"url(#clip890)\" d=\"M129.371 693.037 L147.728 693.037 L147.728 696.972 L133.654 696.972 L133.654 705.444 Q134.672 705.097 135.691 704.935 Q136.709 704.75 137.728 704.75 Q143.515 704.75 146.894 707.921 Q150.274 711.092 150.274 716.509 Q150.274 722.087 146.802 725.189 Q143.33 728.268 137.01 728.268 Q134.834 728.268 132.566 727.898 Q130.32 727.527 127.913 726.787 L127.913 722.087 Q129.996 723.222 132.219 723.777 Q134.441 724.333 136.918 724.333 Q140.922 724.333 143.26 722.226 Q145.598 720.12 145.598 716.509 Q145.598 712.898 143.26 710.791 Q140.922 708.685 136.918 708.685 Q135.043 708.685 133.168 709.101 Q131.316 709.518 129.371 710.398 L129.371 693.037 Z\" fill=\"#000000\" fill-rule=\"evenodd\" fill-opacity=\"1\" /><path clip-path=\"url(#clip890)\" d=\"M53.7467 478.53 L61.3856 478.53 L61.3856 452.164 L53.0754 453.831 L53.0754 449.572 L61.3393 447.905 L66.0152 447.905 L66.0152 478.53 L73.654 478.53 L73.654 482.465 L53.7467 482.465 L53.7467 478.53 Z\" fill=\"#000000\" fill-rule=\"evenodd\" fill-opacity=\"1\" /><path clip-path=\"url(#clip890)\" d=\"M83.0984 476.586 L87.9827 476.586 L87.9827 482.465 L83.0984 482.465 L83.0984 476.586 Z\" fill=\"#000000\" fill-rule=\"evenodd\" fill-opacity=\"1\" /><path clip-path=\"url(#clip890)\" d=\"M108.168 450.984 Q104.557 450.984 102.728 454.549 Q100.922 458.09 100.922 465.22 Q100.922 472.326 102.728 475.891 Q104.557 479.433 108.168 479.433 Q111.802 479.433 113.608 475.891 Q115.436 472.326 115.436 465.22 Q115.436 458.09 113.608 454.549 Q111.802 450.984 108.168 450.984 M108.168 447.28 Q113.978 447.28 117.033 451.887 Q120.112 456.47 120.112 465.22 Q120.112 473.947 117.033 478.553 Q113.978 483.136 108.168 483.136 Q102.358 483.136 99.2789 478.553 Q96.2234 473.947 96.2234 465.22 Q96.2234 456.47 99.2789 451.887 Q102.358 447.28 108.168 447.28 Z\" fill=\"#000000\" fill-rule=\"evenodd\" fill-opacity=\"1\" /><path clip-path=\"url(#clip890)\" d=\"M138.33 450.984 Q134.719 450.984 132.89 454.549 Q131.084 458.09 131.084 465.22 Q131.084 472.326 132.89 475.891 Q134.719 479.433 138.33 479.433 Q141.964 479.433 143.769 475.891 Q145.598 472.326 145.598 465.22 Q145.598 458.09 143.769 454.549 Q141.964 450.984 138.33 450.984 M138.33 447.28 Q144.14 447.28 147.195 451.887 Q150.274 456.47 150.274 465.22 Q150.274 473.947 147.195 478.553 Q144.14 483.136 138.33 483.136 Q132.519 483.136 129.441 478.553 Q126.385 473.947 126.385 465.22 Q126.385 456.47 129.441 451.887 Q132.519 447.28 138.33 447.28 Z\" fill=\"#000000\" fill-rule=\"evenodd\" fill-opacity=\"1\" /><path clip-path=\"url(#clip890)\" d=\"M54.7421 233.398 L62.381 233.398 L62.381 207.033 L54.0708 208.699 L54.0708 204.44 L62.3347 202.774 L67.0106 202.774 L67.0106 233.398 L74.6494 233.398 L74.6494 237.334 L54.7421 237.334 L54.7421 233.398 Z\" fill=\"#000000\" fill-rule=\"evenodd\" fill-opacity=\"1\" /><path clip-path=\"url(#clip890)\" d=\"M84.0938 231.454 L88.978 231.454 L88.978 237.334 L84.0938 237.334 L84.0938 231.454 Z\" fill=\"#000000\" fill-rule=\"evenodd\" fill-opacity=\"1\" /><path clip-path=\"url(#clip890)\" d=\"M103.191 233.398 L119.51 233.398 L119.51 237.334 L97.566 237.334 L97.566 233.398 Q100.228 230.644 104.811 226.014 Q109.418 221.361 110.598 220.019 Q112.844 217.496 113.723 215.76 Q114.626 214 114.626 212.311 Q114.626 209.556 112.682 207.82 Q110.76 206.084 107.658 206.084 Q105.459 206.084 103.006 206.848 Q100.575 207.611 97.7974 209.162 L97.7974 204.44 Q100.621 203.306 103.075 202.727 Q105.529 202.149 107.566 202.149 Q112.936 202.149 116.131 204.834 Q119.325 207.519 119.325 212.01 Q119.325 214.139 118.515 216.061 Q117.728 217.959 115.621 220.551 Q115.043 221.223 111.941 224.44 Q108.839 227.635 103.191 233.398 Z\" fill=\"#000000\" fill-rule=\"evenodd\" fill-opacity=\"1\" /><path clip-path=\"url(#clip890)\" d=\"M129.371 202.774 L147.728 202.774 L147.728 206.709 L133.654 206.709 L133.654 215.181 Q134.672 214.834 135.691 214.672 Q136.709 214.486 137.728 214.486 Q143.515 214.486 146.894 217.658 Q150.274 220.829 150.274 226.246 Q150.274 231.824 146.802 234.926 Q143.33 238.005 137.01 238.005 Q134.834 238.005 132.566 237.634 Q130.32 237.264 127.913 236.523 L127.913 231.824 Q129.996 232.959 132.219 233.514 Q134.441 234.07 136.918 234.07 Q140.922 234.07 143.26 231.963 Q145.598 229.857 145.598 226.246 Q145.598 222.635 143.26 220.528 Q140.922 218.422 136.918 218.422 Q135.043 218.422 133.168 218.838 Q131.316 219.255 129.371 220.135 L129.371 202.774 Z\" fill=\"#000000\" fill-rule=\"evenodd\" fill-opacity=\"1\" /><circle clip-path=\"url(#clip892)\" cx=\"247.59\" cy=\"1296.1\" r=\"14.4\" fill=\"#009af9\" fill-rule=\"evenodd\" fill-opacity=\"1\" stroke=\"#000000\" stroke-opacity=\"1\" stroke-width=\"3.2\"/>\n",
       "<circle clip-path=\"url(#clip892)\" cx=\"268.028\" cy=\"1408.24\" r=\"14.4\" fill=\"#009af9\" fill-rule=\"evenodd\" fill-opacity=\"1\" stroke=\"#000000\" stroke-opacity=\"1\" stroke-width=\"3.2\"/>\n",
       "<circle clip-path=\"url(#clip892)\" cx=\"288.467\" cy=\"1391.5\" r=\"14.4\" fill=\"#009af9\" fill-rule=\"evenodd\" fill-opacity=\"1\" stroke=\"#000000\" stroke-opacity=\"1\" stroke-width=\"3.2\"/>\n",
       "<circle clip-path=\"url(#clip892)\" cx=\"308.905\" cy=\"1243.63\" r=\"14.4\" fill=\"#009af9\" fill-rule=\"evenodd\" fill-opacity=\"1\" stroke=\"#000000\" stroke-opacity=\"1\" stroke-width=\"3.2\"/>\n",
       "<circle clip-path=\"url(#clip892)\" cx=\"329.344\" cy=\"1265\" r=\"14.4\" fill=\"#009af9\" fill-rule=\"evenodd\" fill-opacity=\"1\" stroke=\"#000000\" stroke-opacity=\"1\" stroke-width=\"3.2\"/>\n",
       "<circle clip-path=\"url(#clip892)\" cx=\"349.782\" cy=\"1343.58\" r=\"14.4\" fill=\"#009af9\" fill-rule=\"evenodd\" fill-opacity=\"1\" stroke=\"#000000\" stroke-opacity=\"1\" stroke-width=\"3.2\"/>\n",
       "<circle clip-path=\"url(#clip892)\" cx=\"370.221\" cy=\"1241.68\" r=\"14.4\" fill=\"#009af9\" fill-rule=\"evenodd\" fill-opacity=\"1\" stroke=\"#000000\" stroke-opacity=\"1\" stroke-width=\"3.2\"/>\n",
       "<circle clip-path=\"url(#clip892)\" cx=\"390.659\" cy=\"1191.36\" r=\"14.4\" fill=\"#009af9\" fill-rule=\"evenodd\" fill-opacity=\"1\" stroke=\"#000000\" stroke-opacity=\"1\" stroke-width=\"3.2\"/>\n",
       "<circle clip-path=\"url(#clip892)\" cx=\"411.098\" cy=\"1227.25\" r=\"14.4\" fill=\"#009af9\" fill-rule=\"evenodd\" fill-opacity=\"1\" stroke=\"#000000\" stroke-opacity=\"1\" stroke-width=\"3.2\"/>\n",
       "<circle clip-path=\"url(#clip892)\" cx=\"431.536\" cy=\"1184.88\" r=\"14.4\" fill=\"#009af9\" fill-rule=\"evenodd\" fill-opacity=\"1\" stroke=\"#000000\" stroke-opacity=\"1\" stroke-width=\"3.2\"/>\n",
       "<circle clip-path=\"url(#clip892)\" cx=\"451.975\" cy=\"1266.51\" r=\"14.4\" fill=\"#009af9\" fill-rule=\"evenodd\" fill-opacity=\"1\" stroke=\"#000000\" stroke-opacity=\"1\" stroke-width=\"3.2\"/>\n",
       "<circle clip-path=\"url(#clip892)\" cx=\"472.413\" cy=\"1200.99\" r=\"14.4\" fill=\"#009af9\" fill-rule=\"evenodd\" fill-opacity=\"1\" stroke=\"#000000\" stroke-opacity=\"1\" stroke-width=\"3.2\"/>\n",
       "<circle clip-path=\"url(#clip892)\" cx=\"492.852\" cy=\"1196.87\" r=\"14.4\" fill=\"#009af9\" fill-rule=\"evenodd\" fill-opacity=\"1\" stroke=\"#000000\" stroke-opacity=\"1\" stroke-width=\"3.2\"/>\n",
       "<circle clip-path=\"url(#clip892)\" cx=\"513.29\" cy=\"998.054\" r=\"14.4\" fill=\"#009af9\" fill-rule=\"evenodd\" fill-opacity=\"1\" stroke=\"#000000\" stroke-opacity=\"1\" stroke-width=\"3.2\"/>\n",
       "<circle clip-path=\"url(#clip892)\" cx=\"533.729\" cy=\"1096.27\" r=\"14.4\" fill=\"#009af9\" fill-rule=\"evenodd\" fill-opacity=\"1\" stroke=\"#000000\" stroke-opacity=\"1\" stroke-width=\"3.2\"/>\n",
       "<circle clip-path=\"url(#clip892)\" cx=\"554.167\" cy=\"954.869\" r=\"14.4\" fill=\"#009af9\" fill-rule=\"evenodd\" fill-opacity=\"1\" stroke=\"#000000\" stroke-opacity=\"1\" stroke-width=\"3.2\"/>\n",
       "<circle clip-path=\"url(#clip892)\" cx=\"574.606\" cy=\"991.379\" r=\"14.4\" fill=\"#009af9\" fill-rule=\"evenodd\" fill-opacity=\"1\" stroke=\"#000000\" stroke-opacity=\"1\" stroke-width=\"3.2\"/>\n",
       "<circle clip-path=\"url(#clip892)\" cx=\"595.044\" cy=\"882.628\" r=\"14.4\" fill=\"#009af9\" fill-rule=\"evenodd\" fill-opacity=\"1\" stroke=\"#000000\" stroke-opacity=\"1\" stroke-width=\"3.2\"/>\n",
       "<circle clip-path=\"url(#clip892)\" cx=\"615.483\" cy=\"1005.7\" r=\"14.4\" fill=\"#009af9\" fill-rule=\"evenodd\" fill-opacity=\"1\" stroke=\"#000000\" stroke-opacity=\"1\" stroke-width=\"3.2\"/>\n",
       "<circle clip-path=\"url(#clip892)\" cx=\"635.921\" cy=\"955.54\" r=\"14.4\" fill=\"#009af9\" fill-rule=\"evenodd\" fill-opacity=\"1\" stroke=\"#000000\" stroke-opacity=\"1\" stroke-width=\"3.2\"/>\n",
       "<circle clip-path=\"url(#clip892)\" cx=\"656.36\" cy=\"957.87\" r=\"14.4\" fill=\"#009af9\" fill-rule=\"evenodd\" fill-opacity=\"1\" stroke=\"#000000\" stroke-opacity=\"1\" stroke-width=\"3.2\"/>\n",
       "<circle clip-path=\"url(#clip892)\" cx=\"676.798\" cy=\"908.862\" r=\"14.4\" fill=\"#009af9\" fill-rule=\"evenodd\" fill-opacity=\"1\" stroke=\"#000000\" stroke-opacity=\"1\" stroke-width=\"3.2\"/>\n",
       "<circle clip-path=\"url(#clip892)\" cx=\"697.237\" cy=\"748.334\" r=\"14.4\" fill=\"#009af9\" fill-rule=\"evenodd\" fill-opacity=\"1\" stroke=\"#000000\" stroke-opacity=\"1\" stroke-width=\"3.2\"/>\n",
       "<circle clip-path=\"url(#clip892)\" cx=\"717.675\" cy=\"720.064\" r=\"14.4\" fill=\"#009af9\" fill-rule=\"evenodd\" fill-opacity=\"1\" stroke=\"#000000\" stroke-opacity=\"1\" stroke-width=\"3.2\"/>\n",
       "<circle clip-path=\"url(#clip892)\" cx=\"738.114\" cy=\"812.502\" r=\"14.4\" fill=\"#009af9\" fill-rule=\"evenodd\" fill-opacity=\"1\" stroke=\"#000000\" stroke-opacity=\"1\" stroke-width=\"3.2\"/>\n",
       "<circle clip-path=\"url(#clip892)\" cx=\"758.552\" cy=\"721.225\" r=\"14.4\" fill=\"#009af9\" fill-rule=\"evenodd\" fill-opacity=\"1\" stroke=\"#000000\" stroke-opacity=\"1\" stroke-width=\"3.2\"/>\n",
       "<circle clip-path=\"url(#clip892)\" cx=\"778.991\" cy=\"676.252\" r=\"14.4\" fill=\"#009af9\" fill-rule=\"evenodd\" fill-opacity=\"1\" stroke=\"#000000\" stroke-opacity=\"1\" stroke-width=\"3.2\"/>\n",
       "<circle clip-path=\"url(#clip892)\" cx=\"799.429\" cy=\"643.971\" r=\"14.4\" fill=\"#009af9\" fill-rule=\"evenodd\" fill-opacity=\"1\" stroke=\"#000000\" stroke-opacity=\"1\" stroke-width=\"3.2\"/>\n",
       "<circle clip-path=\"url(#clip892)\" cx=\"819.868\" cy=\"601.142\" r=\"14.4\" fill=\"#009af9\" fill-rule=\"evenodd\" fill-opacity=\"1\" stroke=\"#000000\" stroke-opacity=\"1\" stroke-width=\"3.2\"/>\n",
       "<circle clip-path=\"url(#clip892)\" cx=\"840.306\" cy=\"674.426\" r=\"14.4\" fill=\"#009af9\" fill-rule=\"evenodd\" fill-opacity=\"1\" stroke=\"#000000\" stroke-opacity=\"1\" stroke-width=\"3.2\"/>\n",
       "<circle clip-path=\"url(#clip892)\" cx=\"860.745\" cy=\"603.951\" r=\"14.4\" fill=\"#009af9\" fill-rule=\"evenodd\" fill-opacity=\"1\" stroke=\"#000000\" stroke-opacity=\"1\" stroke-width=\"3.2\"/>\n",
       "<circle clip-path=\"url(#clip892)\" cx=\"881.183\" cy=\"632.98\" r=\"14.4\" fill=\"#009af9\" fill-rule=\"evenodd\" fill-opacity=\"1\" stroke=\"#000000\" stroke-opacity=\"1\" stroke-width=\"3.2\"/>\n",
       "<circle clip-path=\"url(#clip892)\" cx=\"901.622\" cy=\"511.107\" r=\"14.4\" fill=\"#009af9\" fill-rule=\"evenodd\" fill-opacity=\"1\" stroke=\"#000000\" stroke-opacity=\"1\" stroke-width=\"3.2\"/>\n",
       "<circle clip-path=\"url(#clip892)\" cx=\"922.06\" cy=\"456.246\" r=\"14.4\" fill=\"#009af9\" fill-rule=\"evenodd\" fill-opacity=\"1\" stroke=\"#000000\" stroke-opacity=\"1\" stroke-width=\"3.2\"/>\n",
       "<circle clip-path=\"url(#clip892)\" cx=\"942.499\" cy=\"520.484\" r=\"14.4\" fill=\"#009af9\" fill-rule=\"evenodd\" fill-opacity=\"1\" stroke=\"#000000\" stroke-opacity=\"1\" stroke-width=\"3.2\"/>\n",
       "<circle clip-path=\"url(#clip892)\" cx=\"962.937\" cy=\"438.951\" r=\"14.4\" fill=\"#009af9\" fill-rule=\"evenodd\" fill-opacity=\"1\" stroke=\"#000000\" stroke-opacity=\"1\" stroke-width=\"3.2\"/>\n",
       "<circle clip-path=\"url(#clip892)\" cx=\"983.376\" cy=\"519.712\" r=\"14.4\" fill=\"#009af9\" fill-rule=\"evenodd\" fill-opacity=\"1\" stroke=\"#000000\" stroke-opacity=\"1\" stroke-width=\"3.2\"/>\n",
       "<circle clip-path=\"url(#clip892)\" cx=\"1003.81\" cy=\"376.535\" r=\"14.4\" fill=\"#009af9\" fill-rule=\"evenodd\" fill-opacity=\"1\" stroke=\"#000000\" stroke-opacity=\"1\" stroke-width=\"3.2\"/>\n",
       "<circle clip-path=\"url(#clip892)\" cx=\"1024.25\" cy=\"483.606\" r=\"14.4\" fill=\"#009af9\" fill-rule=\"evenodd\" fill-opacity=\"1\" stroke=\"#000000\" stroke-opacity=\"1\" stroke-width=\"3.2\"/>\n",
       "<circle clip-path=\"url(#clip892)\" cx=\"1044.69\" cy=\"311.966\" r=\"14.4\" fill=\"#009af9\" fill-rule=\"evenodd\" fill-opacity=\"1\" stroke=\"#000000\" stroke-opacity=\"1\" stroke-width=\"3.2\"/>\n",
       "<circle clip-path=\"url(#clip892)\" cx=\"1065.13\" cy=\"339.224\" r=\"14.4\" fill=\"#009af9\" fill-rule=\"evenodd\" fill-opacity=\"1\" stroke=\"#000000\" stroke-opacity=\"1\" stroke-width=\"3.2\"/>\n",
       "<circle clip-path=\"url(#clip892)\" cx=\"1085.57\" cy=\"461.062\" r=\"14.4\" fill=\"#009af9\" fill-rule=\"evenodd\" fill-opacity=\"1\" stroke=\"#000000\" stroke-opacity=\"1\" stroke-width=\"3.2\"/>\n",
       "<circle clip-path=\"url(#clip892)\" cx=\"1106.01\" cy=\"285.675\" r=\"14.4\" fill=\"#009af9\" fill-rule=\"evenodd\" fill-opacity=\"1\" stroke=\"#000000\" stroke-opacity=\"1\" stroke-width=\"3.2\"/>\n",
       "<circle clip-path=\"url(#clip892)\" cx=\"1126.45\" cy=\"351.289\" r=\"14.4\" fill=\"#009af9\" fill-rule=\"evenodd\" fill-opacity=\"1\" stroke=\"#000000\" stroke-opacity=\"1\" stroke-width=\"3.2\"/>\n",
       "<circle clip-path=\"url(#clip892)\" cx=\"1146.88\" cy=\"403.061\" r=\"14.4\" fill=\"#009af9\" fill-rule=\"evenodd\" fill-opacity=\"1\" stroke=\"#000000\" stroke-opacity=\"1\" stroke-width=\"3.2\"/>\n",
       "<circle clip-path=\"url(#clip892)\" cx=\"1167.32\" cy=\"447.026\" r=\"14.4\" fill=\"#009af9\" fill-rule=\"evenodd\" fill-opacity=\"1\" stroke=\"#000000\" stroke-opacity=\"1\" stroke-width=\"3.2\"/>\n",
       "<circle clip-path=\"url(#clip892)\" cx=\"1187.76\" cy=\"324.448\" r=\"14.4\" fill=\"#009af9\" fill-rule=\"evenodd\" fill-opacity=\"1\" stroke=\"#000000\" stroke-opacity=\"1\" stroke-width=\"3.2\"/>\n",
       "<circle clip-path=\"url(#clip892)\" cx=\"1208.2\" cy=\"437.564\" r=\"14.4\" fill=\"#009af9\" fill-rule=\"evenodd\" fill-opacity=\"1\" stroke=\"#000000\" stroke-opacity=\"1\" stroke-width=\"3.2\"/>\n",
       "<circle clip-path=\"url(#clip892)\" cx=\"1228.64\" cy=\"461.456\" r=\"14.4\" fill=\"#009af9\" fill-rule=\"evenodd\" fill-opacity=\"1\" stroke=\"#000000\" stroke-opacity=\"1\" stroke-width=\"3.2\"/>\n",
       "<circle clip-path=\"url(#clip892)\" cx=\"1249.08\" cy=\"301.058\" r=\"14.4\" fill=\"#009af9\" fill-rule=\"evenodd\" fill-opacity=\"1\" stroke=\"#000000\" stroke-opacity=\"1\" stroke-width=\"3.2\"/>\n",
       "<circle clip-path=\"url(#clip892)\" cx=\"1269.51\" cy=\"404.916\" r=\"14.4\" fill=\"#009af9\" fill-rule=\"evenodd\" fill-opacity=\"1\" stroke=\"#000000\" stroke-opacity=\"1\" stroke-width=\"3.2\"/>\n",
       "<circle clip-path=\"url(#clip892)\" cx=\"1289.95\" cy=\"514.55\" r=\"14.4\" fill=\"#009af9\" fill-rule=\"evenodd\" fill-opacity=\"1\" stroke=\"#000000\" stroke-opacity=\"1\" stroke-width=\"3.2\"/>\n",
       "<circle clip-path=\"url(#clip892)\" cx=\"1310.39\" cy=\"361.933\" r=\"14.4\" fill=\"#009af9\" fill-rule=\"evenodd\" fill-opacity=\"1\" stroke=\"#000000\" stroke-opacity=\"1\" stroke-width=\"3.2\"/>\n",
       "<circle clip-path=\"url(#clip892)\" cx=\"1330.83\" cy=\"465.126\" r=\"14.4\" fill=\"#009af9\" fill-rule=\"evenodd\" fill-opacity=\"1\" stroke=\"#000000\" stroke-opacity=\"1\" stroke-width=\"3.2\"/>\n",
       "<circle clip-path=\"url(#clip892)\" cx=\"1351.27\" cy=\"406.649\" r=\"14.4\" fill=\"#009af9\" fill-rule=\"evenodd\" fill-opacity=\"1\" stroke=\"#000000\" stroke-opacity=\"1\" stroke-width=\"3.2\"/>\n",
       "<circle clip-path=\"url(#clip892)\" cx=\"1371.71\" cy=\"501.038\" r=\"14.4\" fill=\"#009af9\" fill-rule=\"evenodd\" fill-opacity=\"1\" stroke=\"#000000\" stroke-opacity=\"1\" stroke-width=\"3.2\"/>\n",
       "<circle clip-path=\"url(#clip892)\" cx=\"1392.15\" cy=\"592.348\" r=\"14.4\" fill=\"#009af9\" fill-rule=\"evenodd\" fill-opacity=\"1\" stroke=\"#000000\" stroke-opacity=\"1\" stroke-width=\"3.2\"/>\n",
       "<circle clip-path=\"url(#clip892)\" cx=\"1412.58\" cy=\"602.077\" r=\"14.4\" fill=\"#009af9\" fill-rule=\"evenodd\" fill-opacity=\"1\" stroke=\"#000000\" stroke-opacity=\"1\" stroke-width=\"3.2\"/>\n",
       "<circle clip-path=\"url(#clip892)\" cx=\"1433.02\" cy=\"571.291\" r=\"14.4\" fill=\"#009af9\" fill-rule=\"evenodd\" fill-opacity=\"1\" stroke=\"#000000\" stroke-opacity=\"1\" stroke-width=\"3.2\"/>\n",
       "<circle clip-path=\"url(#clip892)\" cx=\"1453.46\" cy=\"646.799\" r=\"14.4\" fill=\"#009af9\" fill-rule=\"evenodd\" fill-opacity=\"1\" stroke=\"#000000\" stroke-opacity=\"1\" stroke-width=\"3.2\"/>\n",
       "<circle clip-path=\"url(#clip892)\" cx=\"1473.9\" cy=\"593.449\" r=\"14.4\" fill=\"#009af9\" fill-rule=\"evenodd\" fill-opacity=\"1\" stroke=\"#000000\" stroke-opacity=\"1\" stroke-width=\"3.2\"/>\n",
       "<circle clip-path=\"url(#clip892)\" cx=\"1494.34\" cy=\"729.381\" r=\"14.4\" fill=\"#009af9\" fill-rule=\"evenodd\" fill-opacity=\"1\" stroke=\"#000000\" stroke-opacity=\"1\" stroke-width=\"3.2\"/>\n",
       "<circle clip-path=\"url(#clip892)\" cx=\"1514.78\" cy=\"748.772\" r=\"14.4\" fill=\"#009af9\" fill-rule=\"evenodd\" fill-opacity=\"1\" stroke=\"#000000\" stroke-opacity=\"1\" stroke-width=\"3.2\"/>\n",
       "<circle clip-path=\"url(#clip892)\" cx=\"1535.22\" cy=\"801.978\" r=\"14.4\" fill=\"#009af9\" fill-rule=\"evenodd\" fill-opacity=\"1\" stroke=\"#000000\" stroke-opacity=\"1\" stroke-width=\"3.2\"/>\n",
       "<circle clip-path=\"url(#clip892)\" cx=\"1555.65\" cy=\"802.594\" r=\"14.4\" fill=\"#009af9\" fill-rule=\"evenodd\" fill-opacity=\"1\" stroke=\"#000000\" stroke-opacity=\"1\" stroke-width=\"3.2\"/>\n",
       "<circle clip-path=\"url(#clip892)\" cx=\"1576.09\" cy=\"829.625\" r=\"14.4\" fill=\"#009af9\" fill-rule=\"evenodd\" fill-opacity=\"1\" stroke=\"#000000\" stroke-opacity=\"1\" stroke-width=\"3.2\"/>\n",
       "<circle clip-path=\"url(#clip892)\" cx=\"1596.53\" cy=\"752.875\" r=\"14.4\" fill=\"#009af9\" fill-rule=\"evenodd\" fill-opacity=\"1\" stroke=\"#000000\" stroke-opacity=\"1\" stroke-width=\"3.2\"/>\n",
       "<circle clip-path=\"url(#clip892)\" cx=\"1616.97\" cy=\"827.302\" r=\"14.4\" fill=\"#009af9\" fill-rule=\"evenodd\" fill-opacity=\"1\" stroke=\"#000000\" stroke-opacity=\"1\" stroke-width=\"3.2\"/>\n",
       "<circle clip-path=\"url(#clip892)\" cx=\"1637.41\" cy=\"785.311\" r=\"14.4\" fill=\"#009af9\" fill-rule=\"evenodd\" fill-opacity=\"1\" stroke=\"#000000\" stroke-opacity=\"1\" stroke-width=\"3.2\"/>\n",
       "<circle clip-path=\"url(#clip892)\" cx=\"1657.85\" cy=\"973.183\" r=\"14.4\" fill=\"#009af9\" fill-rule=\"evenodd\" fill-opacity=\"1\" stroke=\"#000000\" stroke-opacity=\"1\" stroke-width=\"3.2\"/>\n",
       "<circle clip-path=\"url(#clip892)\" cx=\"1678.29\" cy=\"852.878\" r=\"14.4\" fill=\"#009af9\" fill-rule=\"evenodd\" fill-opacity=\"1\" stroke=\"#000000\" stroke-opacity=\"1\" stroke-width=\"3.2\"/>\n",
       "<circle clip-path=\"url(#clip892)\" cx=\"1698.72\" cy=\"928.662\" r=\"14.4\" fill=\"#009af9\" fill-rule=\"evenodd\" fill-opacity=\"1\" stroke=\"#000000\" stroke-opacity=\"1\" stroke-width=\"3.2\"/>\n",
       "<circle clip-path=\"url(#clip892)\" cx=\"1719.16\" cy=\"1039.94\" r=\"14.4\" fill=\"#009af9\" fill-rule=\"evenodd\" fill-opacity=\"1\" stroke=\"#000000\" stroke-opacity=\"1\" stroke-width=\"3.2\"/>\n",
       "<circle clip-path=\"url(#clip892)\" cx=\"1739.6\" cy=\"1111.32\" r=\"14.4\" fill=\"#009af9\" fill-rule=\"evenodd\" fill-opacity=\"1\" stroke=\"#000000\" stroke-opacity=\"1\" stroke-width=\"3.2\"/>\n",
       "<circle clip-path=\"url(#clip892)\" cx=\"1760.04\" cy=\"1139.2\" r=\"14.4\" fill=\"#009af9\" fill-rule=\"evenodd\" fill-opacity=\"1\" stroke=\"#000000\" stroke-opacity=\"1\" stroke-width=\"3.2\"/>\n",
       "<circle clip-path=\"url(#clip892)\" cx=\"1780.48\" cy=\"1091.78\" r=\"14.4\" fill=\"#009af9\" fill-rule=\"evenodd\" fill-opacity=\"1\" stroke=\"#000000\" stroke-opacity=\"1\" stroke-width=\"3.2\"/>\n",
       "<circle clip-path=\"url(#clip892)\" cx=\"1800.92\" cy=\"1143.83\" r=\"14.4\" fill=\"#009af9\" fill-rule=\"evenodd\" fill-opacity=\"1\" stroke=\"#000000\" stroke-opacity=\"1\" stroke-width=\"3.2\"/>\n",
       "<circle clip-path=\"url(#clip892)\" cx=\"1821.35\" cy=\"1118.69\" r=\"14.4\" fill=\"#009af9\" fill-rule=\"evenodd\" fill-opacity=\"1\" stroke=\"#000000\" stroke-opacity=\"1\" stroke-width=\"3.2\"/>\n",
       "<circle clip-path=\"url(#clip892)\" cx=\"1841.79\" cy=\"1130.97\" r=\"14.4\" fill=\"#009af9\" fill-rule=\"evenodd\" fill-opacity=\"1\" stroke=\"#000000\" stroke-opacity=\"1\" stroke-width=\"3.2\"/>\n",
       "<circle clip-path=\"url(#clip892)\" cx=\"1862.23\" cy=\"1142.48\" r=\"14.4\" fill=\"#009af9\" fill-rule=\"evenodd\" fill-opacity=\"1\" stroke=\"#000000\" stroke-opacity=\"1\" stroke-width=\"3.2\"/>\n",
       "<circle clip-path=\"url(#clip892)\" cx=\"1882.67\" cy=\"1216.76\" r=\"14.4\" fill=\"#009af9\" fill-rule=\"evenodd\" fill-opacity=\"1\" stroke=\"#000000\" stroke-opacity=\"1\" stroke-width=\"3.2\"/>\n",
       "<circle clip-path=\"url(#clip892)\" cx=\"1903.11\" cy=\"1333.73\" r=\"14.4\" fill=\"#009af9\" fill-rule=\"evenodd\" fill-opacity=\"1\" stroke=\"#000000\" stroke-opacity=\"1\" stroke-width=\"3.2\"/>\n",
       "<circle clip-path=\"url(#clip892)\" cx=\"1923.55\" cy=\"1262.31\" r=\"14.4\" fill=\"#009af9\" fill-rule=\"evenodd\" fill-opacity=\"1\" stroke=\"#000000\" stroke-opacity=\"1\" stroke-width=\"3.2\"/>\n",
       "<circle clip-path=\"url(#clip892)\" cx=\"1943.99\" cy=\"1299.86\" r=\"14.4\" fill=\"#009af9\" fill-rule=\"evenodd\" fill-opacity=\"1\" stroke=\"#000000\" stroke-opacity=\"1\" stroke-width=\"3.2\"/>\n",
       "<circle clip-path=\"url(#clip892)\" cx=\"1964.42\" cy=\"1268.69\" r=\"14.4\" fill=\"#009af9\" fill-rule=\"evenodd\" fill-opacity=\"1\" stroke=\"#000000\" stroke-opacity=\"1\" stroke-width=\"3.2\"/>\n",
       "<circle clip-path=\"url(#clip892)\" cx=\"1984.86\" cy=\"1330.56\" r=\"14.4\" fill=\"#009af9\" fill-rule=\"evenodd\" fill-opacity=\"1\" stroke=\"#000000\" stroke-opacity=\"1\" stroke-width=\"3.2\"/>\n",
       "<circle clip-path=\"url(#clip892)\" cx=\"2005.3\" cy=\"1296.79\" r=\"14.4\" fill=\"#009af9\" fill-rule=\"evenodd\" fill-opacity=\"1\" stroke=\"#000000\" stroke-opacity=\"1\" stroke-width=\"3.2\"/>\n",
       "<circle clip-path=\"url(#clip892)\" cx=\"2025.74\" cy=\"1371.46\" r=\"14.4\" fill=\"#009af9\" fill-rule=\"evenodd\" fill-opacity=\"1\" stroke=\"#000000\" stroke-opacity=\"1\" stroke-width=\"3.2\"/>\n",
       "<circle clip-path=\"url(#clip892)\" cx=\"2046.18\" cy=\"1422.66\" r=\"14.4\" fill=\"#009af9\" fill-rule=\"evenodd\" fill-opacity=\"1\" stroke=\"#000000\" stroke-opacity=\"1\" stroke-width=\"3.2\"/>\n",
       "<circle clip-path=\"url(#clip892)\" cx=\"2066.62\" cy=\"1276.88\" r=\"14.4\" fill=\"#009af9\" fill-rule=\"evenodd\" fill-opacity=\"1\" stroke=\"#000000\" stroke-opacity=\"1\" stroke-width=\"3.2\"/>\n",
       "<circle clip-path=\"url(#clip892)\" cx=\"2087.06\" cy=\"1299.81\" r=\"14.4\" fill=\"#009af9\" fill-rule=\"evenodd\" fill-opacity=\"1\" stroke=\"#000000\" stroke-opacity=\"1\" stroke-width=\"3.2\"/>\n",
       "<circle clip-path=\"url(#clip892)\" cx=\"2107.49\" cy=\"1343.69\" r=\"14.4\" fill=\"#009af9\" fill-rule=\"evenodd\" fill-opacity=\"1\" stroke=\"#000000\" stroke-opacity=\"1\" stroke-width=\"3.2\"/>\n",
       "<circle clip-path=\"url(#clip892)\" cx=\"2127.93\" cy=\"1259.52\" r=\"14.4\" fill=\"#009af9\" fill-rule=\"evenodd\" fill-opacity=\"1\" stroke=\"#000000\" stroke-opacity=\"1\" stroke-width=\"3.2\"/>\n",
       "<circle clip-path=\"url(#clip892)\" cx=\"2148.37\" cy=\"1305.2\" r=\"14.4\" fill=\"#009af9\" fill-rule=\"evenodd\" fill-opacity=\"1\" stroke=\"#000000\" stroke-opacity=\"1\" stroke-width=\"3.2\"/>\n",
       "<circle clip-path=\"url(#clip892)\" cx=\"2168.81\" cy=\"1250.17\" r=\"14.4\" fill=\"#009af9\" fill-rule=\"evenodd\" fill-opacity=\"1\" stroke=\"#000000\" stroke-opacity=\"1\" stroke-width=\"3.2\"/>\n",
       "<circle clip-path=\"url(#clip892)\" cx=\"2189.25\" cy=\"1273.3\" r=\"14.4\" fill=\"#009af9\" fill-rule=\"evenodd\" fill-opacity=\"1\" stroke=\"#000000\" stroke-opacity=\"1\" stroke-width=\"3.2\"/>\n",
       "<circle clip-path=\"url(#clip892)\" cx=\"2209.69\" cy=\"1336.09\" r=\"14.4\" fill=\"#009af9\" fill-rule=\"evenodd\" fill-opacity=\"1\" stroke=\"#000000\" stroke-opacity=\"1\" stroke-width=\"3.2\"/>\n",
       "<circle clip-path=\"url(#clip892)\" cx=\"2230.12\" cy=\"1365.65\" r=\"14.4\" fill=\"#009af9\" fill-rule=\"evenodd\" fill-opacity=\"1\" stroke=\"#000000\" stroke-opacity=\"1\" stroke-width=\"3.2\"/>\n",
       "<circle clip-path=\"url(#clip892)\" cx=\"2250.56\" cy=\"1392.49\" r=\"14.4\" fill=\"#009af9\" fill-rule=\"evenodd\" fill-opacity=\"1\" stroke=\"#000000\" stroke-opacity=\"1\" stroke-width=\"3.2\"/>\n",
       "<circle clip-path=\"url(#clip892)\" cx=\"2271\" cy=\"1263.93\" r=\"14.4\" fill=\"#009af9\" fill-rule=\"evenodd\" fill-opacity=\"1\" stroke=\"#000000\" stroke-opacity=\"1\" stroke-width=\"3.2\"/>\n",
       "<circle clip-path=\"url(#clip892)\" cx=\"2291.44\" cy=\"1186.8\" r=\"14.4\" fill=\"#009af9\" fill-rule=\"evenodd\" fill-opacity=\"1\" stroke=\"#000000\" stroke-opacity=\"1\" stroke-width=\"3.2\"/>\n",
       "<polyline clip-path=\"url(#clip892)\" style=\"stroke:#e26f46; stroke-linecap:round; stroke-linejoin:round; stroke-width:4; stroke-opacity:1; fill:none\" points=\"247.59,1445.71 268.028,1445.7 288.467,1445.7 308.905,1445.69 329.344,1445.68 349.782,1445.66 370.221,1445.63 390.659,1445.58 411.098,1445.52 431.536,1445.42 451.975,1445.27 472.413,1445.05 492.852,1444.74 513.29,1444.3 533.729,1443.68 554.167,1442.81 574.606,1441.62 595.044,1439.99 615.483,1437.8 635.921,1434.86 656.36,1431 676.798,1425.95 697.237,1419.43 717.675,1411.11 738.114,1400.61 758.552,1387.51 778.991,1371.36 799.429,1351.66 819.868,1327.93 840.306,1299.68 860.745,1266.45 881.183,1227.85 901.622,1183.58 922.06,1133.45 942.499,1077.43 962.937,1015.68 983.376,948.583 1003.81,876.729 1024.25,800.97 1044.69,722.393 1065.13,642.314 1085.57,562.249 1106.01,483.871 1126.45,408.958 1146.88,339.331 1167.32,276.776 1187.76,222.972 1208.2,179.419 1228.64,147.362 1249.08,127.74 1269.51,121.134 1289.95,127.74 1310.39,147.362 1330.83,179.419 1351.27,222.972 1371.71,276.776 1392.15,339.331 1412.58,408.958 1433.02,483.871 1453.46,562.249 1473.9,642.314 1494.34,722.393 1514.78,800.97 1535.22,876.729 1555.65,948.583 1576.09,1015.68 1596.53,1077.43 1616.97,1133.45 1637.41,1183.58 1657.85,1227.85 1678.29,1266.45 1698.72,1299.68 1719.16,1327.93 1739.6,1351.66 1760.04,1371.36 1780.48,1387.51 1800.92,1400.61 1821.35,1411.11 1841.79,1419.43 1862.23,1425.95 1882.67,1431 1903.11,1434.86 1923.55,1437.8 1943.99,1439.99 1964.42,1441.62 1984.86,1442.81 2005.3,1443.68 2025.74,1444.3 2046.18,1444.74 2066.62,1445.05 2087.06,1445.27 2107.49,1445.42 2127.93,1445.52 2148.37,1445.58 2168.81,1445.63 2189.25,1445.66 2209.69,1445.68 2230.12,1445.69 2250.56,1445.7 2271,1445.7 2291.44,1445.71 \"/>\n",
       "<polyline clip-path=\"url(#clip892)\" style=\"stroke:#3da44d; stroke-linecap:round; stroke-linejoin:round; stroke-width:4; stroke-opacity:1; fill:none\" points=\"247.59,1445.7 268.028,1445.69 288.467,1445.68 308.905,1445.67 329.344,1445.64 349.782,1445.6 370.221,1445.55 390.659,1445.46 411.098,1445.33 431.536,1445.14 451.975,1444.86 472.413,1444.46 492.852,1443.9 513.29,1443.11 533.729,1442.01 554.167,1440.49 574.606,1438.44 595.044,1435.68 615.483,1432 635.921,1427.18 656.36,1420.9 676.798,1412.84 697.237,1402.6 717.675,1389.75 738.114,1373.8 758.552,1354.24 778.991,1330.55 799.429,1302.19 819.868,1268.67 840.306,1229.54 860.745,1184.46 881.183,1133.19 901.622,1075.67 922.06,1012.04 942.499,942.669 962.937,868.165 983.376,789.414 1003.81,707.567 1024.25,624.029 1044.69,540.43 1065.13,458.579 1085.57,380.408 1106.01,307.894 1126.45,242.986 1146.88,187.515 1167.32,143.109 1187.76,111.117 1208.2,92.539 1228.64,87.9763 1249.08,97.5984 1269.51,121.134 1289.95,157.882 1310.39,206.748 1330.83,266.298 1351.27,334.827 1371.71,410.442 1392.15,491.147 1412.58,574.931 1433.02,659.847 1453.46,744.09 1473.9,826.05 1494.34,904.357 1514.78,977.911 1535.22,1045.89 1555.65,1107.75 1576.09,1163.2 1596.53,1212.19 1616.97,1254.85 1637.41,1291.49 1657.85,1322.52 1678.29,1348.44 1698.72,1369.81 1719.16,1387.19 1739.6,1401.13 1760.04,1412.17 1780.48,1420.79 1800.92,1427.43 1821.35,1432.48 1841.79,1436.26 1862.23,1439.06 1882.67,1441.09 1903.11,1442.55 1923.55,1443.59 1943.99,1444.31 1964.42,1444.8 1984.86,1445.13 2005.3,1445.35 2025.74,1445.49 2046.18,1445.58 2066.62,1445.64 2087.06,1445.67 2107.49,1445.69 2127.93,1445.7 2148.37,1445.71 2168.81,1445.71 2189.25,1445.71 2209.69,1445.71 2230.12,1445.71 2250.56,1445.71 2271,1445.71 2291.44,1445.71 \"/>\n",
       "<polyline clip-path=\"url(#clip892)\" style=\"stroke:#c271d2; stroke-linecap:round; stroke-linejoin:round; stroke-width:4; stroke-opacity:1; fill:none\" points=\"247.59,1445.62 268.028,1445.57 288.467,1445.49 308.905,1445.37 329.344,1445.19 349.782,1444.92 370.221,1444.53 390.659,1443.96 411.098,1443.14 431.536,1441.99 451.975,1440.38 472.413,1438.15 492.852,1435.1 513.29,1431 533.729,1425.52 554.167,1418.33 574.606,1408.98 595.044,1396.98 615.483,1381.8 635.921,1362.84 656.36,1339.46 676.798,1311.05 697.237,1277 717.675,1236.78 738.114,1189.98 758.552,1136.36 778.991,1075.9 799.429,1008.86 819.868,935.837 840.306,857.763 860.745,775.944 881.183,692.039 901.622,608.023 922.06,526.12 942.499,448.705 962.937,378.181 983.376,316.84 1003.81,266.715 1024.25,229.426 1044.69,206.054 1065.13,197.034 1085.57,202.089 1106.01,220.218 1126.45,249.737 1146.88,288.366 1167.32,333.383 1187.76,381.8 1208.2,430.577 1228.64,476.84 1249.08,518.083 1269.51,552.35 1289.95,578.366 1310.39,595.611 1330.83,604.336 1351.27,605.51 1371.71,600.716 1392.15,591.998 1412.58,581.681 1433.02,572.172 1453.46,565.771 1473.9,564.504 1494.34,569.981 1514.78,583.308 1535.22,605.039 1555.65,635.178 1576.09,673.22 1596.53,718.226 1616.97,768.928 1637.41,823.84 1657.85,881.37 1678.29,939.932 1698.72,998.035 1719.16,1054.36 1739.6,1107.8 1760.04,1157.52 1780.48,1202.91 1800.92,1243.61 1821.35,1279.51 1841.79,1310.66 1862.23,1337.27 1882.67,1359.66 1903.11,1378.22 1923.55,1393.39 1943.99,1405.62 1964.42,1415.34 1984.86,1422.97 2005.3,1428.87 2025.74,1433.38 2046.18,1436.79 2066.62,1439.32 2087.06,1441.19 2107.49,1442.55 2127.93,1443.52 2148.37,1444.21 2168.81,1444.69 2189.25,1445.03 2209.69,1445.26 2230.12,1445.42 2250.56,1445.52 2271,1445.59 2291.44,1445.63 \"/>\n",
       "<polyline clip-path=\"url(#clip892)\" style=\"stroke:#ac8d18; stroke-linecap:round; stroke-linejoin:round; stroke-width:4; stroke-opacity:1; fill:none\" points=\"247.59,1445.54 268.028,1445.44 288.467,1445.3 308.905,1445.08 329.344,1444.76 349.782,1444.29 370.221,1443.6 390.659,1442.63 411.098,1441.26 431.536,1439.35 451.975,1436.72 472.413,1433.14 492.852,1428.34 513.29,1421.97 533.729,1413.63 554.167,1402.85 574.606,1389.12 595.044,1371.83 615.483,1350.38 635.921,1324.14 656.36,1292.48 676.798,1254.84 697.237,1210.79 717.675,1160.01 738.114,1102.45 758.552,1038.27 778.991,968.003 799.429,892.502 819.868,813.004 840.306,731.106 860.745,648.735 881.183,568.082 901.622,491.503 922.06,421.396 942.499,360.057 962.937,309.52 983.376,271.402 1003.81,246.768 1024.25,236.014 1044.69,238.802 1065.13,254.045 1085.57,279.953 1106.01,314.137 1126.45,353.766 1146.88,395.771 1167.32,437.072 1187.76,474.816 1208.2,506.599 1228.64,530.646 1249.08,545.954 1269.51,552.35 1289.95,550.495 1310.39,541.805 1330.83,528.315 1351.27,512.493 1371.71,497.027 1392.15,484.594 1412.58,477.652 1433.02,478.253 1453.46,487.906 1473.9,507.492 1494.34,537.233 1514.78,576.719 1535.22,624.985 1555.65,680.616 1576.09,741.88 1596.53,806.873 1616.97,873.653 1637.41,940.361 1657.85,1005.33 1678.29,1067.14 1698.72,1124.69 1719.16,1177.19 1739.6,1224.16 1760.04,1265.41 1780.48,1300.99 1800.92,1331.15 1821.35,1356.28 1841.79,1376.87 1862.23,1393.48 1882.67,1406.64 1903.11,1416.92 1923.55,1424.81 1943.99,1430.77 1964.42,1435.2 1984.86,1438.44 2005.3,1440.77 2025.74,1442.41 2046.18,1443.55 2066.62,1444.33 2087.06,1444.85 2107.49,1445.19 2127.93,1445.4 2148.37,1445.54 2168.81,1445.62 2189.25,1445.67 2209.69,1445.69 2230.12,1445.71 2250.56,1445.71 2271,1445.72 2291.44,1445.72 \"/>\n",
       "<path clip-path=\"url(#clip890)\" d=\"M1974.01 406.258 L2280.54 406.258 L2280.54 95.2176 L1974.01 95.2176  Z\" fill=\"#ffffff\" fill-rule=\"evenodd\" fill-opacity=\"1\"/>\n",
       "<polyline clip-path=\"url(#clip890)\" style=\"stroke:#000000; stroke-linecap:round; stroke-linejoin:round; stroke-width:4; stroke-opacity:1; fill:none\" points=\"1974.01,406.258 2280.54,406.258 2280.54,95.2176 1974.01,95.2176 1974.01,406.258 \"/>\n",
       "<circle clip-path=\"url(#clip890)\" cx=\"2070.3\" cy=\"147.058\" r=\"23.04\" fill=\"#009af9\" fill-rule=\"evenodd\" fill-opacity=\"1\" stroke=\"#000000\" stroke-opacity=\"1\" stroke-width=\"5.12\"/>\n",
       "<path clip-path=\"url(#clip890)\" d=\"M2183.09 128.319 L2183.09 131.861 L2179.01 131.861 Q2176.72 131.861 2175.82 132.787 Q2174.94 133.713 2174.94 136.12 L2174.94 138.412 L2181.95 138.412 L2181.95 141.722 L2174.94 141.722 L2174.94 164.338 L2170.66 164.338 L2170.66 141.722 L2166.58 141.722 L2166.58 138.412 L2170.66 138.412 L2170.66 136.606 Q2170.66 132.278 2172.67 130.31 Q2174.69 128.319 2179.06 128.319 L2183.09 128.319 Z\" fill=\"#000000\" fill-rule=\"evenodd\" fill-opacity=\"1\" /><path clip-path=\"url(#clip890)\" d=\"M2186.21 154.106 L2186.21 138.412 L2190.47 138.412 L2190.47 153.944 Q2190.47 157.625 2191.91 159.476 Q2193.34 161.305 2196.21 161.305 Q2199.66 161.305 2201.65 159.106 Q2203.67 156.907 2203.67 153.111 L2203.67 138.412 L2207.93 138.412 L2207.93 164.338 L2203.67 164.338 L2203.67 160.356 Q2202.12 162.717 2200.06 163.875 Q2198.02 165.009 2195.31 165.009 Q2190.84 165.009 2188.53 162.231 Q2186.21 159.453 2186.21 154.106 M2196.93 137.787 L2196.93 137.787 Z\" fill=\"#000000\" fill-rule=\"evenodd\" fill-opacity=\"1\" /><path clip-path=\"url(#clip890)\" d=\"M2238.25 148.689 L2238.25 164.338 L2233.99 164.338 L2233.99 148.828 Q2233.99 145.148 2232.56 143.319 Q2231.12 141.49 2228.25 141.49 Q2224.8 141.49 2222.81 143.69 Q2220.82 145.889 2220.82 149.685 L2220.82 164.338 L2216.54 164.338 L2216.54 138.412 L2220.82 138.412 L2220.82 142.44 Q2222.35 140.102 2224.41 138.944 Q2226.49 137.787 2229.2 137.787 Q2233.67 137.787 2235.96 140.565 Q2238.25 143.319 2238.25 148.689 Z\" fill=\"#000000\" fill-rule=\"evenodd\" fill-opacity=\"1\" /><polyline clip-path=\"url(#clip890)\" style=\"stroke:#e26f46; stroke-linecap:round; stroke-linejoin:round; stroke-width:4; stroke-opacity:1; fill:none\" points=\"1998.08,198.898 2142.51,198.898 \"/>\n",
       "<path clip-path=\"url(#clip890)\" d=\"M2166.58 180.159 L2170.87 180.159 L2170.87 201.432 L2183.57 190.252 L2189.01 190.252 L2175.26 202.381 L2189.59 216.178 L2184.04 216.178 L2170.87 203.516 L2170.87 216.178 L2166.58 216.178 L2166.58 180.159 Z\" fill=\"#000000\" fill-rule=\"evenodd\" fill-opacity=\"1\" /><path clip-path=\"url(#clip890)\" d=\"M2194.76 194.65 L2224.43 194.65 L2224.43 198.539 L2194.76 198.539 L2194.76 194.65 M2194.76 204.094 L2224.43 204.094 L2224.43 208.029 L2194.76 208.029 L2194.76 204.094 Z\" fill=\"#000000\" fill-rule=\"evenodd\" fill-opacity=\"1\" /><path clip-path=\"url(#clip890)\" d=\"M2244.52 184.696 Q2240.91 184.696 2239.08 188.261 Q2237.28 191.803 2237.28 198.932 Q2237.28 206.039 2239.08 209.604 Q2240.91 213.145 2244.52 213.145 Q2248.16 213.145 2249.96 209.604 Q2251.79 206.039 2251.79 198.932 Q2251.79 191.803 2249.96 188.261 Q2248.16 184.696 2244.52 184.696 M2244.52 180.993 Q2250.33 180.993 2253.39 185.599 Q2256.47 190.182 2256.47 198.932 Q2256.47 207.659 2253.39 212.266 Q2250.33 216.849 2244.52 216.849 Q2238.71 216.849 2235.63 212.266 Q2232.58 207.659 2232.58 198.932 Q2232.58 190.182 2235.63 185.599 Q2238.71 180.993 2244.52 180.993 Z\" fill=\"#000000\" fill-rule=\"evenodd\" fill-opacity=\"1\" /><polyline clip-path=\"url(#clip890)\" style=\"stroke:#3da44d; stroke-linecap:round; stroke-linejoin:round; stroke-width:4; stroke-opacity:1; fill:none\" points=\"1998.08,250.738 2142.51,250.738 \"/>\n",
       "<path clip-path=\"url(#clip890)\" d=\"M2166.58 231.999 L2170.87 231.999 L2170.87 253.272 L2183.57 242.092 L2189.01 242.092 L2175.26 254.221 L2189.59 268.018 L2184.04 268.018 L2170.87 255.356 L2170.87 268.018 L2166.58 268.018 L2166.58 231.999 Z\" fill=\"#000000\" fill-rule=\"evenodd\" fill-opacity=\"1\" /><path clip-path=\"url(#clip890)\" d=\"M2194.76 246.49 L2224.43 246.49 L2224.43 250.379 L2194.76 250.379 L2194.76 246.49 M2194.76 255.934 L2224.43 255.934 L2224.43 259.869 L2194.76 259.869 L2194.76 255.934 Z\" fill=\"#000000\" fill-rule=\"evenodd\" fill-opacity=\"1\" /><path clip-path=\"url(#clip890)\" d=\"M2235.33 264.082 L2242.97 264.082 L2242.97 237.717 L2234.66 239.383 L2234.66 235.124 L2242.93 233.458 L2247.6 233.458 L2247.6 264.082 L2255.24 264.082 L2255.24 268.018 L2235.33 268.018 L2235.33 264.082 Z\" fill=\"#000000\" fill-rule=\"evenodd\" fill-opacity=\"1\" /><polyline clip-path=\"url(#clip890)\" style=\"stroke:#c271d2; stroke-linecap:round; stroke-linejoin:round; stroke-width:4; stroke-opacity:1; fill:none\" points=\"1998.08,302.578 2142.51,302.578 \"/>\n",
       "<path clip-path=\"url(#clip890)\" d=\"M2166.58 283.839 L2170.87 283.839 L2170.87 305.112 L2183.57 293.932 L2189.01 293.932 L2175.26 306.061 L2189.59 319.858 L2184.04 319.858 L2170.87 307.196 L2170.87 319.858 L2166.58 319.858 L2166.58 283.839 Z\" fill=\"#000000\" fill-rule=\"evenodd\" fill-opacity=\"1\" /><path clip-path=\"url(#clip890)\" d=\"M2194.76 298.33 L2224.43 298.33 L2224.43 302.219 L2194.76 302.219 L2194.76 298.33 M2194.76 307.774 L2224.43 307.774 L2224.43 311.709 L2194.76 311.709 L2194.76 307.774 Z\" fill=\"#000000\" fill-rule=\"evenodd\" fill-opacity=\"1\" /><path clip-path=\"url(#clip890)\" d=\"M2238.55 315.922 L2254.87 315.922 L2254.87 319.858 L2232.93 319.858 L2232.93 315.922 Q2235.59 313.168 2240.17 308.538 Q2244.78 303.885 2245.96 302.543 Q2248.2 300.02 2249.08 298.284 Q2249.99 296.524 2249.99 294.835 Q2249.99 292.08 2248.04 290.344 Q2246.12 288.608 2243.02 288.608 Q2240.82 288.608 2238.37 289.372 Q2235.94 290.135 2233.16 291.686 L2233.16 286.964 Q2235.98 285.83 2238.44 285.251 Q2240.89 284.673 2242.93 284.673 Q2248.3 284.673 2251.49 287.358 Q2254.69 290.043 2254.69 294.534 Q2254.69 296.663 2253.88 298.585 Q2253.09 300.483 2250.98 303.075 Q2250.4 303.747 2247.3 306.964 Q2244.2 310.159 2238.55 315.922 Z\" fill=\"#000000\" fill-rule=\"evenodd\" fill-opacity=\"1\" /><polyline clip-path=\"url(#clip890)\" style=\"stroke:#ac8d18; stroke-linecap:round; stroke-linejoin:round; stroke-width:4; stroke-opacity:1; fill:none\" points=\"1998.08,354.418 2142.51,354.418 \"/>\n",
       "<path clip-path=\"url(#clip890)\" d=\"M2166.58 335.679 L2170.87 335.679 L2170.87 356.952 L2183.57 345.772 L2189.01 345.772 L2175.26 357.901 L2189.59 371.698 L2184.04 371.698 L2170.87 359.036 L2170.87 371.698 L2166.58 371.698 L2166.58 335.679 Z\" fill=\"#000000\" fill-rule=\"evenodd\" fill-opacity=\"1\" /><path clip-path=\"url(#clip890)\" d=\"M2194.76 350.17 L2224.43 350.17 L2224.43 354.059 L2194.76 354.059 L2194.76 350.17 M2194.76 359.614 L2224.43 359.614 L2224.43 363.549 L2194.76 363.549 L2194.76 359.614 Z\" fill=\"#000000\" fill-rule=\"evenodd\" fill-opacity=\"1\" /><path clip-path=\"url(#clip890)\" d=\"M2248.69 353.063 Q2252.05 353.781 2253.92 356.049 Q2255.82 358.318 2255.82 361.651 Q2255.82 366.767 2252.3 369.568 Q2248.78 372.369 2242.3 372.369 Q2240.13 372.369 2237.81 371.929 Q2235.52 371.512 2233.07 370.656 L2233.07 366.142 Q2235.01 367.276 2237.32 367.855 Q2239.64 368.434 2242.16 368.434 Q2246.56 368.434 2248.85 366.698 Q2251.17 364.961 2251.17 361.651 Q2251.17 358.596 2249.01 356.883 Q2246.88 355.147 2243.07 355.147 L2239.04 355.147 L2239.04 351.304 L2243.25 351.304 Q2246.7 351.304 2248.53 349.938 Q2250.36 348.55 2250.36 345.957 Q2250.36 343.295 2248.46 341.883 Q2246.58 340.448 2243.07 340.448 Q2241.14 340.448 2238.94 340.864 Q2236.75 341.281 2234.11 342.161 L2234.11 337.994 Q2236.77 337.253 2239.08 336.883 Q2241.42 336.513 2243.48 336.513 Q2248.81 336.513 2251.91 338.943 Q2255.01 341.35 2255.01 345.471 Q2255.01 348.341 2253.37 350.332 Q2251.72 352.3 2248.69 353.063 Z\" fill=\"#000000\" fill-rule=\"evenodd\" fill-opacity=\"1\" /></svg>\n"
      ]
     },
     "execution_count": 20,
     "metadata": {},
     "output_type": "execute_result"
    }
   ],
   "source": [
    "scatter(xx, yy, markershape=:circle, label=\"fun\")\n",
    "plot!(xx, y_app_0, label=\"k=0\")\n",
    "plot!(xx, y_app_01, label=\"k=1\")\n",
    "plot!(xx, y_app_012, label=\"k=2\")\n",
    "plot!(xx, y_app_0123, label=\"k=3\")"
   ]
  },
  {
   "cell_type": "markdown",
   "metadata": {},
   "source": [
    "Liczymy błędy aproksymacji kolejnymi stopniami"
   ]
  },
  {
   "cell_type": "code",
   "execution_count": 21,
   "metadata": {},
   "outputs": [],
   "source": [
    "using Statistics"
   ]
  },
  {
   "cell_type": "code",
   "execution_count": 22,
   "metadata": {},
   "outputs": [
    {
     "data": {
      "text/plain": [
       "mse (generic function with 1 method)"
      ]
     },
     "execution_count": 22,
     "metadata": {},
     "output_type": "execute_result"
    }
   ],
   "source": [
    "mse(y1, y2) = mean((y1-y2).^2)"
   ]
  },
  {
   "cell_type": "code",
   "execution_count": 23,
   "metadata": {},
   "outputs": [
    {
     "data": {
      "text/plain": [
       "0.12307292732028424"
      ]
     },
     "execution_count": 23,
     "metadata": {},
     "output_type": "execute_result"
    }
   ],
   "source": [
    "mse(yy, y_app_0)"
   ]
  },
  {
   "cell_type": "code",
   "execution_count": 24,
   "metadata": {},
   "outputs": [
    {
     "data": {
      "text/plain": [
       "0.11469794793374857"
      ]
     },
     "execution_count": 24,
     "metadata": {},
     "output_type": "execute_result"
    }
   ],
   "source": [
    "mse(yy, y_app_01)"
   ]
  },
  {
   "cell_type": "code",
   "execution_count": 25,
   "metadata": {},
   "outputs": [
    {
     "data": {
      "text/plain": [
       "0.0468158417038811"
      ]
     },
     "execution_count": 25,
     "metadata": {},
     "output_type": "execute_result"
    }
   ],
   "source": [
    "mse(yy, y_app_012)"
   ]
  },
  {
   "cell_type": "code",
   "execution_count": 26,
   "metadata": {},
   "outputs": [
    {
     "data": {
      "text/plain": [
       "0.041977751922933036"
      ]
     },
     "execution_count": 26,
     "metadata": {},
     "output_type": "execute_result"
    }
   ],
   "source": [
    "mse(yy, y_app_0123)"
   ]
  },
  {
   "cell_type": "markdown",
   "metadata": {},
   "source": [
    "### EKG"
   ]
  },
  {
   "cell_type": "markdown",
   "metadata": {},
   "source": [
    "Dane pochodzą z bazy https://www.physionet.org/content/mitdb/1.0.0/ .\n",
    "\n",
    "W sygnale można wyróżnić wiele struktur, z których najbardziej charakterystyczną jest zespół QRS."
   ]
  },
  {
   "cell_type": "code",
   "execution_count": 29,
   "metadata": {
    "scrolled": true
   },
   "outputs": [],
   "source": [
    "ekg_data = CSV.read(\"ecg_data.csv\", DataFrame);"
   ]
  },
  {
   "cell_type": "code",
   "execution_count": 30,
   "metadata": {},
   "outputs": [
    {
     "data": {
      "text/html": [
       "<div><div style = \"float: left;\"><span>5×3 DataFrame</span></div><div style = \"clear: both;\"></div></div><div class = \"data-frame\" style = \"overflow-x: scroll;\"><table class = \"data-frame\" style = \"margin-bottom: 6px;\"><thead><tr class = \"header\"><th class = \"rowNumber\" style = \"font-weight: bold; text-align: right;\">Row</th><th style = \"text-align: left;\">time</th><th style = \"text-align: left;\">signalN</th><th style = \"text-align: left;\">signalV</th></tr><tr class = \"subheader headerLastRow\"><th class = \"rowNumber\" style = \"font-weight: bold; text-align: right;\"></th><th title = \"Float64\" style = \"text-align: left;\">Float64</th><th title = \"Float64\" style = \"text-align: left;\">Float64</th><th title = \"Float64\" style = \"text-align: left;\">Float64</th></tr></thead><tbody><tr><td class = \"rowNumber\" style = \"font-weight: bold; text-align: right;\">1</td><td style = \"text-align: right;\">-0.1</td><td style = \"text-align: right;\">0.0183886</td><td style = \"text-align: right;\">-0.0990972</td></tr><tr><td class = \"rowNumber\" style = \"font-weight: bold; text-align: right;\">2</td><td style = \"text-align: right;\">-0.0972222</td><td style = \"text-align: right;\">0.0145191</td><td style = \"text-align: right;\">-0.0920442</td></tr><tr><td class = \"rowNumber\" style = \"font-weight: bold; text-align: right;\">3</td><td style = \"text-align: right;\">-0.0944444</td><td style = \"text-align: right;\">0.012849</td><td style = \"text-align: right;\">-0.0831644</td></tr><tr><td class = \"rowNumber\" style = \"font-weight: bold; text-align: right;\">4</td><td style = \"text-align: right;\">-0.0916667</td><td style = \"text-align: right;\">0.0124946</td><td style = \"text-align: right;\">-0.0722728</td></tr><tr><td class = \"rowNumber\" style = \"font-weight: bold; text-align: right;\">5</td><td style = \"text-align: right;\">-0.0888889</td><td style = \"text-align: right;\">0.0124117</td><td style = \"text-align: right;\">-0.0593656</td></tr></tbody></table></div>"
      ],
      "text/latex": [
       "\\begin{tabular}{r|ccc}\n",
       "\t& time & signalN & signalV\\\\\n",
       "\t\\hline\n",
       "\t& Float64 & Float64 & Float64\\\\\n",
       "\t\\hline\n",
       "\t1 & -0.1 & 0.0183886 & -0.0990972 \\\\\n",
       "\t2 & -0.0972222 & 0.0145191 & -0.0920442 \\\\\n",
       "\t3 & -0.0944444 & 0.012849 & -0.0831644 \\\\\n",
       "\t4 & -0.0916667 & 0.0124946 & -0.0722728 \\\\\n",
       "\t5 & -0.0888889 & 0.0124117 & -0.0593656 \\\\\n",
       "\\end{tabular}\n"
      ],
      "text/plain": [
       "\u001b[1m5×3 DataFrame\u001b[0m\n",
       "\u001b[1m Row \u001b[0m│\u001b[1m time       \u001b[0m\u001b[1m signalN   \u001b[0m\u001b[1m signalV    \u001b[0m\n",
       "     │\u001b[90m Float64    \u001b[0m\u001b[90m Float64   \u001b[0m\u001b[90m Float64    \u001b[0m\n",
       "─────┼───────────────────────────────────\n",
       "   1 │ -0.1        0.0183886  -0.0990972\n",
       "   2 │ -0.0972222  0.0145191  -0.0920442\n",
       "   3 │ -0.0944444  0.012849   -0.0831644\n",
       "   4 │ -0.0916667  0.0124946  -0.0722728\n",
       "   5 │ -0.0888889  0.0124117  -0.0593656"
      ]
     },
     "execution_count": 30,
     "metadata": {},
     "output_type": "execute_result"
    }
   ],
   "source": [
    "first(ekg_data, 5)"
   ]
  },
  {
   "cell_type": "code",
   "execution_count": 27,
   "metadata": {},
   "outputs": [
    {
     "ename": "LoadError",
     "evalue": "UndefVarError: ekg_data not defined",
     "output_type": "error",
     "traceback": [
      "UndefVarError: ekg_data not defined",
      "",
      "Stacktrace:",
      " [1] top-level scope",
      "   @ In[27]:1"
     ]
    }
   ],
   "source": [
    "plot(ekg_data.time, ekg_data.signalN, label=\"Typ N\", xlabel = \"czas\", ylabel=\"napięcie\")\n",
    "plot!(ekg_data.time, ekg_data.signalV, label=\"Typ V\")"
   ]
  },
  {
   "cell_type": "markdown",
   "metadata": {},
   "source": [
    "(5.725113911598116, -0.9157906158817669, 2.711325477169205, -0.8018390195854078)"
   ]
  },
  {
   "cell_type": "markdown",
   "metadata": {},
   "source": [
    "Uwaga: Funkcje bazowe mają pewną \"szerokość\" i najlepiej aproksymują inne funkcje o podobnej szerokości. Można dodatkowo sparametryzować f. bazowe aby były węższe i lepiej pasowały do zespołów QRS. Na potrzeby laboratorium postąpimy inaczej - przeskalujemy oś X aproksymowanych sygnałów."
   ]
  },
  {
   "cell_type": "code",
   "execution_count": 28,
   "metadata": {},
   "outputs": [
    {
     "ename": "LoadError",
     "evalue": "UndefVarError: ekg_data not defined",
     "output_type": "error",
     "traceback": [
      "UndefVarError: ekg_data not defined",
      "",
      "Stacktrace:",
      " [1] top-level scope",
      "   @ In[28]:2"
     ]
    }
   ],
   "source": [
    "# Definicja węzłów\n",
    "xx_ekg = ekg_data.time*40\n",
    "yy_ekgV = ekg_data.signalV;"
   ]
  },
  {
   "cell_type": "markdown",
   "metadata": {},
   "source": [
    "## Zadania"
   ]
  },
  {
   "cell_type": "markdown",
   "metadata": {},
   "source": [
    "#### Zadanie 1 (1 pkt)"
   ]
  },
  {
   "cell_type": "markdown",
   "metadata": {},
   "source": [
    "Narysować 6 pierwszych wielomianów Hermita (na jednym wykresie albo siatce 2x3 lub 3x2)"
   ]
  },
  {
   "cell_type": "markdown",
   "metadata": {},
   "source": [
    "#### Zadanie 2  (1 pkt)"
   ]
  },
  {
   "cell_type": "markdown",
   "metadata": {},
   "source": [
    "Narysować 6 pierwszych funkcji bazowych"
   ]
  },
  {
   "cell_type": "markdown",
   "metadata": {},
   "source": [
    "#### Zadanie 3  (1 pkt)"
   ]
  },
  {
   "cell_type": "markdown",
   "metadata": {},
   "source": [
    "Pokazać, że same wielomiany nie są ortogonane, ale już z funkcją wagową $exp(-x^2)$ są. Uzyć metody z wektorami wartości, założyć pewien przedział."
   ]
  },
  {
   "cell_type": "markdown",
   "metadata": {},
   "source": [
    "#### Zadanie 4  (1 pkt)"
   ]
  },
  {
   "cell_type": "markdown",
   "metadata": {},
   "source": [
    "Dokonać aproksymacji zespołu QRS typu N oraz V za pomocą kilku kolejnych stopni. Przedstawić osobno wykresy dla N i V."
   ]
  },
  {
   "cell_type": "markdown",
   "metadata": {},
   "source": [
    "#### Zadanie 5  (1 pkt)"
   ]
  },
  {
   "cell_type": "markdown",
   "metadata": {},
   "source": [
    "Przedstawić wykres błędu aproksymacji w zależności od stopnia wielomianu dla stopni od 0 do 10. Jakiego stopnia należy użyć gdybyśmy mieli robić coś dalej z rezultatem aproksymacji?"
   ]
  }
 ],
 "metadata": {
  "kernelspec": {
   "display_name": "Julia 1.8.5",
   "language": "julia",
   "name": "julia-1.8"
  },
  "language_info": {
   "file_extension": ".jl",
   "mimetype": "application/julia",
   "name": "julia",
   "version": "1.8.5"
  }
 },
 "nbformat": 4,
 "nbformat_minor": 4
}
